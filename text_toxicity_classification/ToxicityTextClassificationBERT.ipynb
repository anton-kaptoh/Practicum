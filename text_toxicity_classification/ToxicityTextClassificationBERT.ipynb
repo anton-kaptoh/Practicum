{
 "cells": [
  {
   "cell_type": "markdown",
   "metadata": {},
   "source": [
    "<!--TABLE OF CONTENTS-->\n",
    "<b>Contents:</b>\n",
    "- [1. Проект для выявления тоскичных комментариев](#1.-Проект-для-выявления-тоскичных-комментариев)\n",
    "  - [1.1. Описание проекта](#1.1.-Описание-проекта)\n",
    "  - [1.2. Импорты](#1.2.-Импорты)\n",
    "  - [1.3. Тесты совместимости с CUDA](#1.3.-Тесты-совместимости-с-CUDA)\n",
    "  - [1.4. Подготовка](#1.4.-Подготовка)\n",
    "  - [1.5. Загрузка данных](#1.5.-Загрузка-данных)\n",
    "    - [1.5.1. Анализ данных](#1.5.1.-Анализ-данных)\n",
    "    - [1.5.2. Выделение тестовой и валидационной выборки](#1.5.2.-Выделение-тестовой-и-валидационной-выборки)\n",
    "  - [1.6. Обучение](#1.6.-Обучение)\n",
    "    - [1.6.1. Константная модель](#1.6.1.-Константная-модель)\n",
    "    - [1.6.2. Aux functions](#1.6.2.-Aux-functions)\n",
    "    - [1.6.3. DistilBert](#1.6.3.-DistilBert)\n",
    "      - [1.6.3.1. Model initialization](#1.6.3.1.-Model-initialization)\n",
    "      - [1.6.3.2. Validation of pre-trained](#1.6.3.2.-Validation-of-pre-trained)\n",
    "        - [1.6.3.2.1. Результаты](#1.6.3.2.1.-Результаты)\n",
    "        - [1.6.3.2.2. Выводы](#1.6.3.2.2.-Выводы)\n",
    "      - [1.6.3.3. Sampled dataset](#1.6.3.3.-Sampled-dataset)\n",
    "        - [1.6.3.3.1. Validation](#1.6.3.3.1.-Validation)\n",
    "          - [1.6.3.3.1.1. Результаты](#1.6.3.3.1.1.-Результаты)\n",
    "        - [1.6.3.3.2. Выводы](#1.6.3.3.2.-Выводы)\n",
    "      - [1.6.3.4. Full dataset](#1.6.3.4.-Full-dataset)\n",
    "        - [1.6.3.4.1. Validation](#1.6.3.4.1.-Validation)\n",
    "          - [1.6.3.4.1.1. Результаты](#1.6.3.4.1.1.-Результаты)\n",
    "        - [1.6.3.4.2. Выводы](#1.6.3.4.2.-Выводы)\n",
    "    - [1.6.4. Roberta toxic](#1.6.4.-Roberta-toxic)\n",
    "      - [1.6.4.1. Model initialization](#1.6.4.1.-Model-initialization)\n",
    "      - [1.6.4.2. Validation of pre-trained](#1.6.4.2.-Validation-of-pre-trained)\n",
    "        - [1.6.4.2.1. Результаты](#1.6.4.2.1.-Результаты)\n",
    "        - [1.6.4.2.2. Выводы](#1.6.4.2.2.-Выводы)\n",
    "      - [1.6.4.3. Full dataset](#1.6.4.3.-Full-dataset)\n",
    "        - [1.6.4.3.1. Validation](#1.6.4.3.1.-Validation)\n",
    "        - [1.6.4.3.2. Выводы](#1.6.4.3.2.-Выводы)\n",
    "      - [1.6.4.4. Sampled dataset](#1.6.4.4.-Sampled-dataset)\n",
    "        - [1.6.4.4.1. Validation](#1.6.4.4.1.-Validation)\n",
    "          - [1.6.4.4.1.1. Результаты](#1.6.4.4.1.1.-Результаты)\n",
    "        - [1.6.4.4.2. Выводы](#1.6.4.4.2.-Выводы)\n",
    "      - [1.6.4.5. Balanced dataset](#1.6.4.5.-Balanced-dataset)\n",
    "        - [1.6.4.5.1. Creating balanced dataset](#1.6.4.5.1.-Creating-balanced-dataset)\n",
    "        - [1.6.4.5.2. Fine-tuning model](#1.6.4.5.2.-Fine-tuning-model)\n",
    "        - [1.6.4.5.3. Validation](#1.6.4.5.3.-Validation)\n",
    "          - [1.6.4.5.3.1. Результаты](#1.6.4.5.3.1.-Результаты)\n",
    "        - [1.6.4.5.4. Выводы](#1.6.4.5.4.-Выводы)\n",
    "    - [1.6.5. Embeddings](#1.6.5.-Embeddings)\n",
    "      - [1.6.5.1. Embeddings from distillbert](#1.6.5.1.-Embeddings-from-distillbert)\n",
    "      - [1.6.5.2. Embeddings from distillbert trained](#1.6.5.2.-Embeddings-from-distillbert-trained)\n",
    "      - [1.6.5.3. Embeddings from Bert](#1.6.5.3.-Embeddings-from-Bert)\n",
    "      - [1.6.5.4. Embeddings from Roberta](#1.6.5.4.-Embeddings-from-Roberta)\n",
    "      - [1.6.5.5. Логистическая регрессия](#1.6.5.5.-Логистическая-регрессия)\n",
    "        - [1.6.5.5.1. Roberta embeddings](#1.6.5.5.1.-Roberta-embeddings)\n",
    "          - [1.6.5.5.1.1. Validation](#1.6.5.5.1.1.-Validation)\n",
    "        - [1.6.5.5.2. Distillbert fine-tuned embeddings](#1.6.5.5.2.-Distillbert-fine-tuned-embeddings)\n",
    "          - [1.6.5.5.2.1. Validation](#1.6.5.5.2.1.-Validation)\n",
    "        - [1.6.5.5.3. Bert base trained embeddings](#1.6.5.5.3.-Bert-base-trained-embeddings)\n",
    "          - [1.6.5.5.3.1. Validation](#1.6.5.5.3.1.-Validation)\n",
    "        - [1.6.5.5.4. Выводы](#1.6.5.5.4.-Выводы)\n",
    "      - [1.6.5.6. Дерево решений](#1.6.5.6.-Дерево-решений)\n",
    "        - [1.6.5.6.1. Выводы](#1.6.5.6.1.-Выводы)\n",
    "      - [1.6.5.7. Случайный лес](#1.6.5.7.-Случайный-лес)\n",
    "        - [1.6.5.7.1. Roberta embeddings](#1.6.5.7.1.-Roberta-embeddings)\n",
    "          - [1.6.5.7.1.1. Full train dataset GridSearchCV](#1.6.5.7.1.1.-Full-train-dataset-GridSearchCV)\n",
    "          - [1.6.5.7.1.2. Validation](#1.6.5.7.1.2.-Validation)\n",
    "        - [1.6.5.7.2. Bert base embeddings](#1.6.5.7.2.-Bert-base-embeddings)\n",
    "          - [1.6.5.7.2.1. Validation](#1.6.5.7.2.1.-Validation)\n",
    "        - [1.6.5.7.3. Distillbert fine-tuned embeddings](#1.6.5.7.3.-Distillbert-fine-tuned-embeddings)\n",
    "          - [1.6.5.7.3.1. Validation](#1.6.5.7.3.1.-Validation)\n",
    "        - [1.6.5.7.4. Выводы](#1.6.5.7.4.-Выводы)\n",
    "      - [1.6.5.8. CatBoost](#1.6.5.8.-CatBoost)\n",
    "        - [1.6.5.8.1. Сравнение обучения на CPU и GPU](#1.6.5.8.1.-Сравнение-обучения-на-CPU-и-GPU)\n",
    "        - [1.6.5.8.2. DistilBert embeddings](#1.6.5.8.2.-DistilBert-embeddings)\n",
    "          - [1.6.5.8.2.1. Full train dataset GridSearchCV](#1.6.5.8.2.1.-Full-train-dataset-GridSearchCV)\n",
    "          - [1.6.5.8.2.2. Validation](#1.6.5.8.2.2.-Validation)\n",
    "        - [1.6.5.8.3. Bert base embeddings](#1.6.5.8.3.-Bert-base-embeddings)\n",
    "          - [1.6.5.8.3.1. Full train dataset GridSearchCV](#1.6.5.8.3.1.-Full-train-dataset-GridSearchCV)\n",
    "          - [1.6.5.8.3.2. Validation](#1.6.5.8.3.2.-Validation)\n",
    "        - [1.6.5.8.4. Roberta embeddings](#1.6.5.8.4.-Roberta-embeddings)\n",
    "          - [1.6.5.8.4.1. Full train dataset GridSearchCV](#1.6.5.8.4.1.-Full-train-dataset-GridSearchCV)\n",
    "          - [1.6.5.8.4.2. Validation](#1.6.5.8.4.2.-Validation)\n",
    "          - [1.6.5.8.4.3. Validation with words count](#1.6.5.8.4.3.-Validation-with-words-count)\n",
    "        - [1.6.5.8.5. Distillbert fine-tuned embeddings](#1.6.5.8.5.-Distillbert-fine-tuned-embeddings)\n",
    "          - [1.6.5.8.5.1. Full train dataset GridSearchCV](#1.6.5.8.5.1.-Full-train-dataset-GridSearchCV)\n",
    "          - [1.6.5.8.5.2. Validation](#1.6.5.8.5.2.-Validation)\n",
    "        - [1.6.5.8.6. Выводы](#1.6.5.8.6.-Выводы)\n",
    "  - [1.7. Тестирование](#1.7.-Тестирование)\n",
    "    - [1.7.1. Выводы](#1.7.1.-Выводы)\n",
    "  - [1.8. Выводы](#1.8.-Выводы)"
   ]
  },
  {
   "cell_type": "markdown",
   "metadata": {},
   "source": [
    "# 1. Проект для выявления тоскичных комментариев"
   ]
  },
  {
   "cell_type": "markdown",
   "metadata": {},
   "source": [
    "<u>Attention!</u> <b>BERT, CUDA, torch, tensorflow</b>. Данный проект построен в локальной Windows-среде c подобранными версиями библиотек для использования возможностей CUDA-совместимого GPU в torch и tensorflow:\n",
    "* CUDA Toolkit 11.2.2\n",
    "* cuDNN v8.1.1\n",
    "* keras v2.7.0\n",
    "* tensorflow v2.7.0\n",
    "* PyTorch v1.10.1\n",
    "\n",
    "Характеристики GPU:\n",
    "* GeForce RTX 2070 with MAX-Q Design\n",
    "* Выделенная видеопамять: 8192МБ GDDR6\n",
    "* Интерфейс памяти: 256 бит\n",
    "* Ядра CUDA: 2304\n",
    "* Tensor-ядра: 288\n",
    "* Тактовая частота разогнанной граф. подсистемы: 1125Мгц"
   ]
  },
  {
   "cell_type": "markdown",
   "metadata": {},
   "source": [
    "## 1.1. Описание проекта"
   ]
  },
  {
   "cell_type": "markdown",
   "metadata": {
    "tags": []
   },
   "source": [
    "Обучите модель классифицировать комментарии на позитивные и негативные. В вашем распоряжении набор данных с разметкой о токсичности правок.\n",
    "\n",
    "Постройте модель со значением метрики качества *F1* не меньше 0.75. \n",
    "\n",
    "**Описание данных**\n",
    "\n",
    "Столбец *text* в нём содержит текст комментария, а *toxic* — целевой признак."
   ]
  },
  {
   "cell_type": "markdown",
   "metadata": {
    "tags": []
   },
   "source": [
    "## 1.2. Импорты"
   ]
  },
  {
   "cell_type": "markdown",
   "metadata": {},
   "source": [
    "Версия PyTorch поддерживающая нашу версию CUDA Toolkit:"
   ]
  },
  {
   "cell_type": "code",
   "execution_count": 1,
   "metadata": {
    "tags": []
   },
   "outputs": [
    {
     "name": "stdout",
     "output_type": "stream",
     "text": [
      "Looking in links: https://download.pytorch.org/whl/cu113/torch_stable.html\n",
      "Requirement already satisfied: torch==1.10.1+cu113 in c:\\users\\kapto\\anaconda3\\envs\\ds_practicum_env_cuda2\\lib\\site-packages (1.10.1+cu113)\n",
      "Requirement already satisfied: torchvision==0.11.2+cu113 in c:\\users\\kapto\\anaconda3\\envs\\ds_practicum_env_cuda2\\lib\\site-packages (0.11.2+cu113)\n",
      "Requirement already satisfied: torchaudio==0.10.1 in c:\\users\\kapto\\anaconda3\\envs\\ds_practicum_env_cuda2\\lib\\site-packages (0.10.1+cu113)\n",
      "Requirement already satisfied: typing-extensions in c:\\users\\kapto\\anaconda3\\envs\\ds_practicum_env_cuda2\\lib\\site-packages (from torch==1.10.1+cu113) (4.4.0)\n",
      "Requirement already satisfied: pillow!=8.3.0,>=5.3.0 in c:\\users\\kapto\\anaconda3\\envs\\ds_practicum_env_cuda2\\lib\\site-packages (from torchvision==0.11.2+cu113) (8.4.0)\n",
      "Requirement already satisfied: numpy in c:\\users\\kapto\\anaconda3\\envs\\ds_practicum_env_cuda2\\lib\\site-packages (from torchvision==0.11.2+cu113) (1.20.1)\n"
     ]
    }
   ],
   "source": [
    "!pip install torch==1.10.1+cu113 torchvision==0.11.2+cu113 torchaudio==0.10.1 -f https://download.pytorch.org/whl/cu113/torch_stable.html"
   ]
  },
  {
   "cell_type": "code",
   "execution_count": 2,
   "metadata": {},
   "outputs": [],
   "source": [
    "import pandas as pd\n",
    "import numpy as np\n",
    "import matplotlib.pyplot as plt\n",
    "import seaborn as sns\n",
    "\n",
    "import gc\n",
    "\n",
    "from tqdm import notebook\n",
    "\n",
    "import torch\n",
    "import tensorflow as tf\n",
    "from tensorflow.keras import activations, optimizers, losses\n",
    "\n",
    "import transformers\n",
    "\n",
    "from sklearn.model_selection import train_test_split\n",
    "\n",
    "from sklearn.dummy import DummyClassifier\n",
    "from sklearn.linear_model import LogisticRegression\n",
    "from sklearn.ensemble import RandomForestClassifier\n",
    "from sklearn.tree import DecisionTreeClassifier\n",
    "from catboost import CatBoostClassifier\n",
    "from sklearn.model_selection import GridSearchCV, RandomizedSearchCV\n",
    "from transformers import TFRobertaForSequenceClassification, RobertaTokenizer \n",
    "from transformers import TFDistilBertForSequenceClassification, DistilBertTokenizer \n",
    "\n",
    "from catboost.utils import get_gpu_device_count\n",
    "\n",
    "from scipy.special import softmax\n",
    "from sklearn.metrics import confusion_matrix\n",
    "from sklearn.metrics import f1_score, precision_score,recall_score\n",
    "\n",
    "import pickle"
   ]
  },
  {
   "cell_type": "markdown",
   "metadata": {},
   "source": [
    "## 1.3. Тесты совместимости с CUDA"
   ]
  },
  {
   "cell_type": "code",
   "execution_count": 3,
   "metadata": {},
   "outputs": [
    {
     "data": {
      "text/plain": [
       "True"
      ]
     },
     "execution_count": 3,
     "metadata": {},
     "output_type": "execute_result"
    }
   ],
   "source": [
    "torch.cuda.is_available()"
   ]
  },
  {
   "cell_type": "code",
   "execution_count": 4,
   "metadata": {},
   "outputs": [
    {
     "data": {
      "text/plain": [
       "tensor([0.], device='cuda:0')"
      ]
     },
     "execution_count": 4,
     "metadata": {},
     "output_type": "execute_result"
    }
   ],
   "source": [
    "torch.zeros(1).cuda()"
   ]
  },
  {
   "cell_type": "code",
   "execution_count": 5,
   "metadata": {
    "tags": []
   },
   "outputs": [
    {
     "data": {
      "text/plain": [
       "'/device:GPU:0'"
      ]
     },
     "execution_count": 5,
     "metadata": {},
     "output_type": "execute_result"
    }
   ],
   "source": [
    "tf.test.gpu_device_name()"
   ]
  },
  {
   "cell_type": "code",
   "execution_count": 6,
   "metadata": {},
   "outputs": [
    {
     "data": {
      "text/plain": [
       "True"
      ]
     },
     "execution_count": 6,
     "metadata": {},
     "output_type": "execute_result"
    }
   ],
   "source": [
    "tf.test.is_built_with_cuda()"
   ]
  },
  {
   "cell_type": "code",
   "execution_count": 7,
   "metadata": {},
   "outputs": [
    {
     "data": {
      "text/plain": [
       "[PhysicalDevice(name='/physical_device:GPU:0', device_type='GPU')]"
      ]
     },
     "execution_count": 7,
     "metadata": {},
     "output_type": "execute_result"
    }
   ],
   "source": [
    "tf.config.list_physical_devices('GPU')"
   ]
  },
  {
   "cell_type": "markdown",
   "metadata": {
    "tags": []
   },
   "source": [
    "## 1.4. Подготовка"
   ]
  },
  {
   "cell_type": "markdown",
   "metadata": {
    "tags": []
   },
   "source": [
    "## 1.5. Загрузка данных"
   ]
  },
  {
   "cell_type": "code",
   "execution_count": 8,
   "metadata": {},
   "outputs": [],
   "source": [
    "data = pd.read_csv(\"/datasets/toxic_comments.csv\")\n",
    "\n",
    "data_original = data.copy()"
   ]
  },
  {
   "cell_type": "code",
   "execution_count": 9,
   "metadata": {},
   "outputs": [
    {
     "name": "stdout",
     "output_type": "stream",
     "text": [
      "<class 'pandas.core.frame.DataFrame'>\n",
      "RangeIndex: 159292 entries, 0 to 159291\n",
      "Data columns (total 3 columns):\n",
      " #   Column      Non-Null Count   Dtype \n",
      "---  ------      --------------   ----- \n",
      " 0   Unnamed: 0  159292 non-null  int64 \n",
      " 1   text        159292 non-null  object\n",
      " 2   toxic       159292 non-null  int64 \n",
      "dtypes: int64(2), object(1)\n",
      "memory usage: 3.6+ MB\n"
     ]
    }
   ],
   "source": [
    "data.info()"
   ]
  },
  {
   "cell_type": "code",
   "execution_count": 10,
   "metadata": {},
   "outputs": [],
   "source": [
    "data=data.drop(['Unnamed: 0'],axis=1)"
   ]
  },
  {
   "cell_type": "code",
   "execution_count": 11,
   "metadata": {},
   "outputs": [
    {
     "data": {
      "text/html": [
       "<div>\n",
       "<style scoped>\n",
       "    .dataframe tbody tr th:only-of-type {\n",
       "        vertical-align: middle;\n",
       "    }\n",
       "\n",
       "    .dataframe tbody tr th {\n",
       "        vertical-align: top;\n",
       "    }\n",
       "\n",
       "    .dataframe thead th {\n",
       "        text-align: right;\n",
       "    }\n",
       "</style>\n",
       "<table border=\"1\" class=\"dataframe\">\n",
       "  <thead>\n",
       "    <tr style=\"text-align: right;\">\n",
       "      <th></th>\n",
       "      <th>text</th>\n",
       "      <th>toxic</th>\n",
       "    </tr>\n",
       "  </thead>\n",
       "  <tbody>\n",
       "    <tr>\n",
       "      <th>0</th>\n",
       "      <td>Explanation\\nWhy the edits made under my usern...</td>\n",
       "      <td>0</td>\n",
       "    </tr>\n",
       "    <tr>\n",
       "      <th>1</th>\n",
       "      <td>D'aww! He matches this background colour I'm s...</td>\n",
       "      <td>0</td>\n",
       "    </tr>\n",
       "    <tr>\n",
       "      <th>2</th>\n",
       "      <td>Hey man, I'm really not trying to edit war. It...</td>\n",
       "      <td>0</td>\n",
       "    </tr>\n",
       "    <tr>\n",
       "      <th>3</th>\n",
       "      <td>\"\\nMore\\nI can't make any real suggestions on ...</td>\n",
       "      <td>0</td>\n",
       "    </tr>\n",
       "    <tr>\n",
       "      <th>4</th>\n",
       "      <td>You, sir, are my hero. Any chance you remember...</td>\n",
       "      <td>0</td>\n",
       "    </tr>\n",
       "  </tbody>\n",
       "</table>\n",
       "</div>"
      ],
      "text/plain": [
       "                                                text  toxic\n",
       "0  Explanation\\nWhy the edits made under my usern...      0\n",
       "1  D'aww! He matches this background colour I'm s...      0\n",
       "2  Hey man, I'm really not trying to edit war. It...      0\n",
       "3  \"\\nMore\\nI can't make any real suggestions on ...      0\n",
       "4  You, sir, are my hero. Any chance you remember...      0"
      ]
     },
     "execution_count": 11,
     "metadata": {},
     "output_type": "execute_result"
    }
   ],
   "source": [
    "data.head()"
   ]
  },
  {
   "cell_type": "markdown",
   "metadata": {},
   "source": [
    "### 1.5.1. Анализ данных"
   ]
  },
  {
   "cell_type": "markdown",
   "metadata": {},
   "source": [
    "Видим дисбаланс классов в датасете, токсичных комментариев почти в 9 раз меньше чем нетоксиных:"
   ]
  },
  {
   "cell_type": "code",
   "execution_count": 12,
   "metadata": {},
   "outputs": [
    {
     "data": {
      "text/plain": [
       "0    0.898388\n",
       "1    0.101612\n",
       "Name: toxic, dtype: float64"
      ]
     },
     "execution_count": 12,
     "metadata": {},
     "output_type": "execute_result"
    }
   ],
   "source": [
    "data.toxic.value_counts(normalize=True)"
   ]
  },
  {
   "cell_type": "markdown",
   "metadata": {},
   "source": [
    "Посмотрим на словесную длину комментариев  в разрезе их токсичности:"
   ]
  },
  {
   "cell_type": "code",
   "execution_count": 13,
   "metadata": {},
   "outputs": [
    {
     "data": {
      "image/png": "[encoded data removed]",
      "text/plain": [
       "<Figure size 1000x800 with 1 Axes>"
      ]
     },
     "metadata": {},
     "output_type": "display_data"
    }
   ],
   "source": [
    "data_graph=data.copy()\n",
    "data_graph['length_data'] = data_graph.text.apply(lambda x: len(x.split()))\n",
    "data_graph=data_graph.loc[data_graph.length_data < 400,['toxic','length_data']]\n",
    "toxic_data=data_graph.query('toxic==1')\n",
    "non_toxic_data=data_graph.query('toxic==0')\n",
    "\n",
    "plt.figure(figsize=(10, 8))\n",
    "sns.histplot(data=toxic_data, bins=100, alpha=0.3, edgecolor=\"gray\",color='red', x='length_data',weights=np.ones_like(toxic_data.length_data) / len(toxic_data.length_data))\n",
    "sns.histplot(data=non_toxic_data, bins=100, alpha=0.4, edgecolor=\"gray\",  color='green', x='length_data',weights=np.ones_like(non_toxic_data.length_data) / len(non_toxic_data.length_data))\n",
    "plt.title('Relative frequency of comments length', fontsize=14)\n",
    "plt.legend(['Toxic comments','Normal comments'])\n",
    "plt.xlabel('Length of comment in words')\n",
    "plt.ylabel('Relative frequency')\n",
    "plt.show()   "
   ]
  },
  {
   "cell_type": "markdown",
   "metadata": {},
   "source": [
    "Как видим, распределение длин для токсичных/нетоксичных комментариев различается: токсичные комментарии относительно своего числа чаще короткие, чем нетоксичные - можно попробовать использовать признак длины комментария для предсказаний модели."
   ]
  },
  {
   "cell_type": "markdown",
   "metadata": {},
   "source": [
    "Кроме того, видим, что длина комментария в основном распределена в области ниже 250 символов, посмотрим на 95% доверительный интервал:"
   ]
  },
  {
   "cell_type": "code",
   "execution_count": 14,
   "metadata": {},
   "outputs": [
    {
     "name": "stdout",
     "output_type": "stream",
     "text": [
      "Comments' words count 95% confidence interval: 5.0 - 247.0\n"
     ]
    }
   ],
   "source": [
    "print(\"Comments' words count 95% confidence interval:\",data_graph.length_data.quantile(0.025),'-',data_graph.length_data.quantile(0.975))"
   ]
  },
  {
   "cell_type": "markdown",
   "metadata": {},
   "source": [
    "Это можно использовать для построения языковых моделей, так как там часто ограниченная длина вектора представляющего текст (max_position_embeddings) и обучение и предсказания с меньшим размером вектора может происходить быстрее."
   ]
  },
  {
   "cell_type": "code",
   "execution_count": 15,
   "metadata": {},
   "outputs": [
    {
     "name": "stdout",
     "output_type": "stream",
     "text": [
      "Percentage of comments with more than 256 words: 2.2%\n"
     ]
    }
   ],
   "source": [
    "perc=data_graph[data_graph.length_data > 256].shape[0]/data_graph.shape[0]*100\n",
    "print(f\"Percentage of comments with more than 256 words: {perc:.3g}%\")"
   ]
  },
  {
   "cell_type": "markdown",
   "metadata": {},
   "source": [
    "### 1.5.2. Выделение тестовой и валидационной выборки"
   ]
  },
  {
   "cell_type": "code",
   "execution_count": 16,
   "metadata": {},
   "outputs": [],
   "source": [
    "test_data,train_data_full= train_test_split(data,train_size=0.2, random_state=13_01_23)"
   ]
  },
  {
   "cell_type": "code",
   "execution_count": 17,
   "metadata": {},
   "outputs": [
    {
     "name": "stdout",
     "output_type": "stream",
     "text": [
      "Train full data shape: (127434, 2)\n",
      "Test data shape: (31858, 2)\n"
     ]
    }
   ],
   "source": [
    "print('Train full data shape:', train_data_full.shape)\n",
    "print('Test data shape:',test_data.shape)"
   ]
  },
  {
   "cell_type": "markdown",
   "metadata": {},
   "source": [
    "Отдельно выделим валидационный датасет для сравнения всех моделей и выбора лучшей модели для финальных тестов:"
   ]
  },
  {
   "cell_type": "code",
   "execution_count": 18,
   "metadata": {},
   "outputs": [],
   "source": [
    "valid_data,train_data= train_test_split(train_data_full,train_size=0.25, random_state=13_01_23)"
   ]
  },
  {
   "cell_type": "code",
   "execution_count": 19,
   "metadata": {},
   "outputs": [
    {
     "name": "stdout",
     "output_type": "stream",
     "text": [
      "Train splitted for validation data shape: (95576, 2)\n",
      "Valid data shape: (31858, 2)\n"
     ]
    }
   ],
   "source": [
    "print('Train splitted for validation data shape:', train_data.shape)\n",
    "print('Valid data shape:',valid_data.shape)"
   ]
  },
  {
   "cell_type": "markdown",
   "metadata": {
    "tags": []
   },
   "source": [
    "## 1.6. Обучение"
   ]
  },
  {
   "cell_type": "markdown",
   "metadata": {},
   "source": [
    "### 1.6.1. Константная модель"
   ]
  },
  {
   "cell_type": "markdown",
   "metadata": {},
   "source": [
    "Посмотрим на результаты константной модели для проверки на адекватность дальнейших результатов:"
   ]
  },
  {
   "cell_type": "code",
   "execution_count": 20,
   "metadata": {},
   "outputs": [],
   "source": [
    "dummy_model=DummyClassifier(strategy='stratified', random_state=13_01_23)"
   ]
  },
  {
   "cell_type": "code",
   "execution_count": 21,
   "metadata": {},
   "outputs": [],
   "source": [
    "X_train=train_data.drop('toxic', axis=1)\n",
    "y_train=train_data.toxic"
   ]
  },
  {
   "cell_type": "code",
   "execution_count": 22,
   "metadata": {},
   "outputs": [
    {
     "data": {
      "text/plain": [
       "DummyClassifier(random_state=130123, strategy='stratified')"
      ]
     },
     "execution_count": 22,
     "metadata": {},
     "output_type": "execute_result"
    }
   ],
   "source": [
    "dummy_model.fit(X_train,y_train)"
   ]
  },
  {
   "cell_type": "code",
   "execution_count": 23,
   "metadata": {},
   "outputs": [],
   "source": [
    "X_valid=valid_data.drop('toxic', axis=1)\n",
    "y_valid=valid_data.toxic"
   ]
  },
  {
   "cell_type": "code",
   "execution_count": 24,
   "metadata": {},
   "outputs": [
    {
     "data": {
      "text/plain": [
       "0.10351201478743068"
      ]
     },
     "execution_count": 24,
     "metadata": {},
     "output_type": "execute_result"
    }
   ],
   "source": [
    "f1_score(y_valid,dummy_model.predict(X_valid))"
   ]
  },
  {
   "cell_type": "markdown",
   "metadata": {},
   "source": [
    "### 1.6.2. Aux functions"
   ]
  },
  {
   "cell_type": "markdown",
   "metadata": {},
   "source": [
    "Напишем функции для преобразования logit-предсказаний в бинарные:"
   ]
  },
  {
   "cell_type": "code",
   "execution_count": 25,
   "metadata": {},
   "outputs": [],
   "source": [
    "def binary_from_logits(predictions):\n",
    "    return [round(softmax(x)[1]) for x in predictions]"
   ]
  },
  {
   "cell_type": "code",
   "execution_count": 26,
   "metadata": {},
   "outputs": [],
   "source": [
    "def binary_from_logits_via_keras(predictions):\n",
    "    return np.round(activations.softmax(tf.convert_to_tensor(predictions)).numpy()[:,1])"
   ]
  },
  {
   "cell_type": "markdown",
   "metadata": {},
   "source": [
    "Функция для вывода результатов качества предсказаний модели:"
   ]
  },
  {
   "cell_type": "code",
   "execution_count": 27,
   "metadata": {},
   "outputs": [],
   "source": [
    "def show_model_results(y_true, y_pred,data_type=\"validation\"):   \n",
    "    f1_score_res = f1_score(y_true, y_pred)\n",
    "    precision_score_res = precision_score(y_true, y_pred)\n",
    "    recall_score_res = recall_score(y_true, y_pred)  \n",
    "    \n",
    "    print(f\"--Results for {data_type} data--\")\n",
    "    print(\"F1-score:\", f1_score_res)\n",
    "    print(\"Precision score:\", precision_score_res)\n",
    "    print(\"Recall score:\", recall_score_res)\n",
    "    print(\"\\n\")\n",
    "    \n",
    "    cf_matrix = confusion_matrix(y_true, y_pred)\n",
    "    sns.heatmap(cf_matrix, annot=True,fmt='d')\n",
    "    plt.ylabel('Actual labels')\n",
    "    plt.xlabel('Predicted labels') \n",
    "    plt.title('Confusion Matrix')\n",
    "    plt.show()"
   ]
  },
  {
   "cell_type": "markdown",
   "metadata": {
    "tags": []
   },
   "source": [
    "### 1.6.3. DistilBert"
   ]
  },
  {
   "cell_type": "markdown",
   "metadata": {},
   "source": [
    "В качестве текстовых моделей для обучения будем использовать DistilBert и Roberta как оптимизированные и менее требовательные к ресурсам версии Bert. В качестве первой модели выберем distilbert-base-uncased-finetuned-sst-2-english предобученненную для анализа тональности текста (sentiment analysis) - задачи близкой к нашей задаче определения токсичности текста."
   ]
  },
  {
   "cell_type": "markdown",
   "metadata": {
    "tags": []
   },
   "source": [
    "#### 1.6.3.1. Model initialization"
   ]
  },
  {
   "cell_type": "markdown",
   "metadata": {},
   "source": [
    "Будем иницилизировать TF* модели (например, TFRobertaForSequenceClassification) чтобы использовать возможности tensorflow библиотеки и утилизировать GPU."
   ]
  },
  {
   "cell_type": "code",
   "execution_count": 28,
   "metadata": {},
   "outputs": [],
   "source": [
    "MODEL_NAME = 'distilbert-base-uncased-finetuned-sst-2-english'"
   ]
  },
  {
   "cell_type": "code",
   "execution_count": 30,
   "metadata": {
    "tags": []
   },
   "outputs": [
    {
     "data": {
      "text/plain": [
       "DistilBertConfig {\n",
       "  \"_name_or_path\": \"distilbert-base-uncased-finetuned-sst-2-english\",\n",
       "  \"activation\": \"gelu\",\n",
       "  \"architectures\": [\n",
       "    \"DistilBertForSequenceClassification\"\n",
       "  ],\n",
       "  \"attention_dropout\": 0.1,\n",
       "  \"dim\": 768,\n",
       "  \"dropout\": 0.1,\n",
       "  \"finetuning_task\": \"sst-2\",\n",
       "  \"hidden_dim\": 3072,\n",
       "  \"id2label\": {\n",
       "    \"0\": \"NEGATIVE\",\n",
       "    \"1\": \"POSITIVE\"\n",
       "  },\n",
       "  \"initializer_range\": 0.02,\n",
       "  \"label2id\": {\n",
       "    \"NEGATIVE\": 0,\n",
       "    \"POSITIVE\": 1\n",
       "  },\n",
       "  \"max_position_embeddings\": 512,\n",
       "  \"model_type\": \"distilbert\",\n",
       "  \"n_heads\": 12,\n",
       "  \"n_layers\": 6,\n",
       "  \"output_past\": true,\n",
       "  \"pad_token_id\": 0,\n",
       "  \"qa_dropout\": 0.1,\n",
       "  \"seq_classif_dropout\": 0.2,\n",
       "  \"sinusoidal_pos_embds\": false,\n",
       "  \"tie_weights_\": true,\n",
       "  \"transformers_version\": \"4.12.5\",\n",
       "  \"vocab_size\": 30522\n",
       "}"
      ]
     },
     "execution_count": 30,
     "metadata": {},
     "output_type": "execute_result"
    }
   ],
   "source": [
    "model.config"
   ]
  },
  {
   "cell_type": "markdown",
   "metadata": {
    "tags": []
   },
   "source": [
    "#### 1.6.3.2. Validation of pre-trained"
   ]
  },
  {
   "cell_type": "markdown",
   "metadata": {},
   "source": [
    "Проверим предобученную модель: "
   ]
  },
  {
   "cell_type": "markdown",
   "metadata": {},
   "source": [
    "Токенизируем валидационные данные для предсказаний:"
   ]
  },
  {
   "cell_type": "code",
   "execution_count": 58,
   "metadata": {},
   "outputs": [],
   "source": [
    "tokenizer = DistilBertTokenizer.from_pretrained(MODEL_NAME)"
   ]
  },
  {
   "cell_type": "code",
   "execution_count": 59,
   "metadata": {},
   "outputs": [
    {
     "name": "stdout",
     "output_type": "stream",
     "text": [
      "CPU times: total: 45.5 s\n",
      "Wall time: 45.6 s\n"
     ]
    }
   ],
   "source": [
    "%%time\n",
    "valid_vectors=tokenizer(list(valid_data.text.values),padding=True,return_attention_mask=True,truncation=True)"
   ]
  },
  {
   "cell_type": "code",
   "execution_count": 60,
   "metadata": {},
   "outputs": [
    {
     "data": {
      "text/plain": [
       "31858"
      ]
     },
     "execution_count": 60,
     "metadata": {},
     "output_type": "execute_result"
    }
   ],
   "source": [
    "len(valid_vectors.input_ids)"
   ]
  },
  {
   "cell_type": "markdown",
   "metadata": {},
   "source": [
    "Создадим датасет для tensorflow-модели:"
   ]
  },
  {
   "cell_type": "code",
   "execution_count": 61,
   "metadata": {},
   "outputs": [],
   "source": [
    "tfdataset =tf.data.Dataset.from_tensor_slices(dict(valid_vectors))\n",
    "\n",
    "BATCH_SIZE = 8\n",
    "tfdataset = tfdataset.batch(BATCH_SIZE)"
   ]
  },
  {
   "cell_type": "markdown",
   "metadata": {},
   "source": [
    "Попробуем освободить оперативную и видеопамять:"
   ]
  },
  {
   "cell_type": "code",
   "execution_count": 62,
   "metadata": {},
   "outputs": [
    {
     "data": {
      "text/plain": [
       "0"
      ]
     },
     "execution_count": 62,
     "metadata": {},
     "output_type": "execute_result"
    }
   ],
   "source": [
    "gc.collect()"
   ]
  },
  {
   "cell_type": "markdown",
   "metadata": {},
   "source": [
    "Делаем предсказания:"
   ]
  },
  {
   "cell_type": "code",
   "execution_count": 63,
   "metadata": {},
   "outputs": [
    {
     "name": "stdout",
     "output_type": "stream",
     "text": [
      "CPU times: total: 8min 44s\n",
      "Wall time: 8min 22s\n"
     ]
    }
   ],
   "source": [
    "%%time\n",
    "preds = model.predict(tfdataset,batch_size=BATCH_SIZE, use_multiprocessing=True).logits"
   ]
  },
  {
   "cell_type": "code",
   "execution_count": 65,
   "metadata": {},
   "outputs": [],
   "source": [
    "with open('predictions/valid_distilbert_pretrained.pkl', 'wb') as f:\n",
    "    pickle.dump(preds, f)"
   ]
  },
  {
   "cell_type": "markdown",
   "metadata": {},
   "source": [
    "##### 1.6.3.2.1. Результаты"
   ]
  },
  {
   "cell_type": "markdown",
   "metadata": {},
   "source": [
    "Получаем оценки качества модели:"
   ]
  },
  {
   "cell_type": "code",
   "execution_count": 31,
   "metadata": {
    "tags": []
   },
   "outputs": [],
   "source": [
    "with open('predictions/valid_distilbert_pretrained.pkl', 'rb') as file:\n",
    "    preds = pickle.load(file)"
   ]
  },
  {
   "cell_type": "code",
   "execution_count": 32,
   "metadata": {},
   "outputs": [],
   "source": [
    "y_pred=binary_from_logits(preds)"
   ]
  },
  {
   "cell_type": "code",
   "execution_count": 33,
   "metadata": {},
   "outputs": [],
   "source": [
    "y_pred=np.ones(len(y_pred),dtype=int)-y_pred"
   ]
  },
  {
   "cell_type": "code",
   "execution_count": 34,
   "metadata": {
    "tags": []
   },
   "outputs": [],
   "source": [
    "y_true=valid_data.toxic.values.ravel()"
   ]
  },
  {
   "cell_type": "code",
   "execution_count": 35,
   "metadata": {},
   "outputs": [
    {
     "name": "stdout",
     "output_type": "stream",
     "text": [
      "--Results for validation data--\n",
      "F1-score: 0.060357958872810355\n",
      "Precision score: 0.043294181917508875\n",
      "Recall score: 0.09962287869264613\n",
      "\n",
      "\n"
     ]
    },
    {
     "data": {
      "image/png": "[encoded data removed]",
      "text/plain": [
       "<Figure size 640x480 with 2 Axes>"
      ]
     },
     "metadata": {},
     "output_type": "display_data"
    }
   ],
   "source": [
    "show_model_results(valid_data.toxic.values,binary_from_logits(preds))"
   ]
  },
  {
   "cell_type": "markdown",
   "metadata": {
    "tags": []
   },
   "source": [
    "##### 1.6.3.2.2. Выводы"
   ]
  },
  {
   "cell_type": "markdown",
   "metadata": {},
   "source": [
    "Предобученная Distilbert модель 'distilbert-base-uncased-finetuned-sst-2-english', предсказывающая положительные или отрицательные комментарии ожидаемо показала на нашей задаче определения токсичности очень низкое качество предсказаний (F1 ~ 0.21). Далее попробуем ее обучить на наших данных."
   ]
  },
  {
   "cell_type": "markdown",
   "metadata": {},
   "source": [
    "#### 1.6.3.3. Sampled dataset"
   ]
  },
  {
   "cell_type": "markdown",
   "metadata": {},
   "source": [
    "Выделим случайную выборку размером 4к элементов для обучения:"
   ]
  },
  {
   "cell_type": "code",
   "execution_count": 46,
   "metadata": {},
   "outputs": [],
   "source": [
    "train_data_sampled=train_data.sample(4000,random_state=13_01_23)"
   ]
  },
  {
   "cell_type": "markdown",
   "metadata": {},
   "source": [
    "Токенизируем данные для обучения:"
   ]
  },
  {
   "cell_type": "code",
   "execution_count": 47,
   "metadata": {},
   "outputs": [],
   "source": [
    "%%time\n",
    "all_vectors=tokenizer(list(train_data_sampled.text.values),padding=True,return_attention_mask=True,truncation=True) "
   ]
  },
  {
   "cell_type": "markdown",
   "metadata": {},
   "source": [
    "Создадим датасет для tensorflow-модели:"
   ]
  },
  {
   "cell_type": "code",
   "execution_count": 48,
   "metadata": {},
   "outputs": [],
   "source": [
    "train_tfdataset = tf.data.Dataset.from_tensor_slices((dict(all_vectors),train_data_sampled.toxic.values))\n",
    "\n",
    "BATCH_SIZE = 4\n",
    "\n",
    "train_tfdataset=train_tfdataset.batch(BATCH_SIZE)"
   ]
  },
  {
   "cell_type": "markdown",
   "metadata": {},
   "source": [
    "Попробуем освободить оперативную и видеопамять:"
   ]
  },
  {
   "cell_type": "code",
   "execution_count": 49,
   "metadata": {},
   "outputs": [
    {
     "data": {
      "text/plain": [
       "4"
      ]
     },
     "execution_count": 49,
     "metadata": {},
     "output_type": "execute_result"
    }
   ],
   "source": [
    "gc.collect()\n"
   ]
  },
  {
   "cell_type": "markdown",
   "metadata": {},
   "source": [
    "Обучаем модель за 8 эпох:"
   ]
  },
  {
   "cell_type": "code",
   "execution_count": 51,
   "metadata": {},
   "outputs": [],
   "source": [
    "N_EPOCHS = 8\n",
    "\n",
    "optimizer = optimizers.Adam(learning_rate=3e-5)\n",
    "loss = losses.SparseCategoricalCrossentropy(from_logits=True)"
   ]
  },
  {
   "cell_type": "code",
   "execution_count": 52,
   "metadata": {},
   "outputs": [
    {
     "name": "stdout",
     "output_type": "stream",
     "text": [
      "Epoch 1/8\n",
      "1000/1000 [==============================] - 223s 217ms/step - loss: 0.1840 - accuracy: 0.9348\n",
      "Epoch 2/8\n",
      "1000/1000 [==============================] - 218s 218ms/step - loss: 0.0694 - accuracy: 0.9743\n",
      "Epoch 3/8\n",
      "1000/1000 [==============================] - 218s 218ms/step - loss: 0.0211 - accuracy: 0.9933\n",
      "Epoch 4/8\n",
      "1000/1000 [==============================] - 218s 218ms/step - loss: 0.0233 - accuracy: 0.9937\n",
      "Epoch 5/8\n",
      "1000/1000 [==============================] - 218s 218ms/step - loss: 0.0093 - accuracy: 0.9977\n",
      "Epoch 6/8\n",
      "1000/1000 [==============================] - 218s 218ms/step - loss: 0.0147 - accuracy: 0.9958\n",
      "Epoch 7/8\n",
      "1000/1000 [==============================] - 218s 218ms/step - loss: 0.0104 - accuracy: 0.9965\n",
      "Epoch 8/8\n",
      "1000/1000 [==============================] - 215s 215ms/step - loss: 0.0146 - accuracy: 0.9965\n"
     ]
    },
    {
     "data": {
      "text/plain": [
       "<keras.callbacks.History at 0x2a128d40c10>"
      ]
     },
     "execution_count": 52,
     "metadata": {},
     "output_type": "execute_result"
    }
   ],
   "source": [
    "model.compile(optimizer=optimizer, loss=loss, metrics=['accuracy'])\n",
    "\n",
    "model.fit(train_tfdataset, batch_size=BATCH_SIZE, epochs=N_EPOCHS)"
   ]
  },
  {
   "cell_type": "markdown",
   "metadata": {},
   "source": [
    "Epoch 1/8\n",
    "1000/1000 [==============================] - 223s 217ms/step - loss: 0.1840 - accuracy: 0.9348\n",
    "Epoch 2/8\n",
    "1000/1000 [==============================] - 218s 218ms/step - loss: 0.0694 - accuracy: 0.9743\n",
    "Epoch 3/8\n",
    "1000/1000 [==============================] - 218s 218ms/step - loss: 0.0211 - accuracy: 0.9933\n",
    "Epoch 4/8\n",
    "1000/1000 [==============================] - 218s 218ms/step - loss: 0.0233 - accuracy: 0.9937\n",
    "Epoch 5/8\n",
    "1000/1000 [==============================] - 218s 218ms/step - loss: 0.0093 - accuracy: 0.9977\n",
    "Epoch 6/8\n",
    "1000/1000 [==============================] - 218s 218ms/step - loss: 0.0147 - accuracy: 0.9958\n",
    "Epoch 7/8\n",
    "1000/1000 [==============================] - 218s 218ms/step - loss: 0.0104 - accuracy: 0.9965\n",
    "Epoch 8/8\n",
    "1000/1000 [==============================] - 215s 215ms/step - loss: 0.0146 - accuracy: 0.9965"
   ]
  },
  {
   "cell_type": "code",
   "execution_count": 85,
   "metadata": {},
   "outputs": [],
   "source": [
    "model.save_pretrained('model/distilbert')"
   ]
  },
  {
   "cell_type": "markdown",
   "metadata": {
    "tags": []
   },
   "source": [
    "##### 1.6.3.3.1. Validation"
   ]
  },
  {
   "cell_type": "markdown",
   "metadata": {},
   "source": [
    "Посмотрим на результаты модели обученной на выборочном датасете:"
   ]
  },
  {
   "cell_type": "code",
   "execution_count": 82,
   "metadata": {
    "tags": []
   },
   "outputs": [
    {
     "name": "stderr",
     "output_type": "stream",
     "text": [
      "Some layers from the model checkpoint at model/distilbert were not used when initializing TFDistilBertForSequenceClassification: ['dropout_57']\n",
      "- This IS expected if you are initializing TFDistilBertForSequenceClassification from the checkpoint of a model trained on another task or with another architecture (e.g. initializing a BertForSequenceClassification model from a BertForPreTraining model).\n",
      "- This IS NOT expected if you are initializing TFDistilBertForSequenceClassification from the checkpoint of a model that you expect to be exactly identical (initializing a BertForSequenceClassification model from a BertForSequenceClassification model).\n",
      "Some layers of TFDistilBertForSequenceClassification were not initialized from the model checkpoint at model/distilbert and are newly initialized: ['dropout_77']\n",
      "You should probably TRAIN this model on a down-stream task to be able to use it for predictions and inference.\n"
     ]
    }
   ],
   "source": [
    "config = transformers.DistilBertConfig.from_json_file('model/distilbert/config.json')\n",
    "model = TFDistilBertForSequenceClassification.from_pretrained('model/distilbert',config=config)"
   ]
  },
  {
   "cell_type": "markdown",
   "metadata": {},
   "source": [
    "Токенизируем валидационные данные для предсказаний:"
   ]
  },
  {
   "cell_type": "code",
   "execution_count": 83,
   "metadata": {},
   "outputs": [],
   "source": [
    "tokenizer = DistilBertTokenizer.from_pretrained(MODEL_NAME)"
   ]
  },
  {
   "cell_type": "code",
   "execution_count": 84,
   "metadata": {
    "tags": []
   },
   "outputs": [
    {
     "name": "stdout",
     "output_type": "stream",
     "text": [
      "CPU times: total: 41.6 s\n",
      "Wall time: 41.6 s\n"
     ]
    }
   ],
   "source": [
    "%%time\n",
    "valid_vectors=tokenizer(list(valid_data.text.values),padding=True,return_attention_mask=True,truncation=True)"
   ]
  },
  {
   "cell_type": "code",
   "execution_count": 85,
   "metadata": {},
   "outputs": [
    {
     "data": {
      "text/plain": [
       "31858"
      ]
     },
     "execution_count": 85,
     "metadata": {},
     "output_type": "execute_result"
    }
   ],
   "source": [
    "len(valid_vectors.input_ids)"
   ]
  },
  {
   "cell_type": "markdown",
   "metadata": {},
   "source": [
    "Создадим датасет для tensorflow-модели:"
   ]
  },
  {
   "cell_type": "code",
   "execution_count": 86,
   "metadata": {},
   "outputs": [],
   "source": [
    "tfdataset =tf.data.Dataset.from_tensor_slices(dict(valid_vectors))\n",
    "\n",
    "BATCH_SIZE = 8\n",
    "tfdataset = tfdataset.batch(BATCH_SIZE)"
   ]
  },
  {
   "cell_type": "markdown",
   "metadata": {},
   "source": [
    "Попробуем освободить оперативную и видеопамять:"
   ]
  },
  {
   "cell_type": "code",
   "execution_count": 87,
   "metadata": {},
   "outputs": [
    {
     "data": {
      "text/plain": [
       "0"
      ]
     },
     "execution_count": 87,
     "metadata": {},
     "output_type": "execute_result"
    }
   ],
   "source": [
    "gc.collect()"
   ]
  },
  {
   "cell_type": "markdown",
   "metadata": {},
   "source": [
    "Делаем предсказания:"
   ]
  },
  {
   "cell_type": "code",
   "execution_count": 88,
   "metadata": {},
   "outputs": [
    {
     "name": "stdout",
     "output_type": "stream",
     "text": [
      "CPU times: total: 8min 43s\n",
      "Wall time: 8min 20s\n"
     ]
    }
   ],
   "source": [
    "%%time\n",
    "preds = model.predict(tfdataset,batch_size=BATCH_SIZE).logits"
   ]
  },
  {
   "cell_type": "code",
   "execution_count": 89,
   "metadata": {},
   "outputs": [],
   "source": [
    "with open('predictions/valid_distilbert_sampled.pkl', 'wb') as f:\n",
    "    pickle.dump(preds, f)"
   ]
  },
  {
   "cell_type": "markdown",
   "metadata": {},
   "source": [
    "Получаем оценки качества модели:"
   ]
  },
  {
   "cell_type": "markdown",
   "metadata": {
    "tags": []
   },
   "source": [
    "###### 1.6.3.3.1.1. Результаты"
   ]
  },
  {
   "cell_type": "code",
   "execution_count": 36,
   "metadata": {
    "tags": []
   },
   "outputs": [],
   "source": [
    "with open('predictions/valid_distilbert_sampled.pkl', 'rb') as file:\n",
    "    preds = pickle.load(file)"
   ]
  },
  {
   "cell_type": "code",
   "execution_count": 37,
   "metadata": {},
   "outputs": [
    {
     "name": "stdout",
     "output_type": "stream",
     "text": [
      "--Results for validation data--\n",
      "F1-score: 0.7771210013908206\n",
      "Precision score: 0.8696498054474708\n",
      "Recall score: 0.7023884349465744\n",
      "\n",
      "\n"
     ]
    },
    {
     "data": {
      "image/png": "[encoded data removed]",
      "text/plain": [
       "<Figure size 640x480 with 2 Axes>"
      ]
     },
     "metadata": {},
     "output_type": "display_data"
    }
   ],
   "source": [
    "show_model_results(valid_data.toxic.values,binary_from_logits(preds))"
   ]
  },
  {
   "cell_type": "markdown",
   "metadata": {
    "tags": []
   },
   "source": [
    "##### 1.6.3.3.2. Выводы"
   ]
  },
  {
   "cell_type": "markdown",
   "metadata": {},
   "source": [
    "Обученная на  выборочном датасете (sample из 4000к строк) но с достаточно большим числом эпох (8) Distilbert модель показала значение метрики F1 немного выше необходимого уровня (~0.78) на валидационной выборке."
   ]
  },
  {
   "cell_type": "markdown",
   "metadata": {},
   "source": [
    "#### 1.6.3.4. Full dataset"
   ]
  },
  {
   "cell_type": "code",
   "execution_count": 12,
   "metadata": {},
   "outputs": [
    {
     "name": "stdout",
     "output_type": "stream",
     "text": [
      "try downloading TF weights\n"
     ]
    },
    {
     "name": "stderr",
     "output_type": "stream",
     "text": [
      "All model checkpoint layers were used when initializing TFDistilBertForSequenceClassification.\n",
      "\n",
      "All the layers of TFDistilBertForSequenceClassification were initialized from the model checkpoint at distilbert-base-uncased-finetuned-sst-2-english.\n",
      "If your task is similar to the task the model of the checkpoint was trained on, you can already use TFDistilBertForSequenceClassification for predictions without further training.\n"
     ]
    }
   ],
   "source": [
    "MODEL_NAME = 'distilbert-base-uncased-finetuned-sst-2-english'\n",
    "tokenizer = DistilBertTokenizer.from_pretrained(MODEL_NAME)\n",
    "model = TFDistilBertForSequenceClassification.from_pretrained(MODEL_NAME)"
   ]
  },
  {
   "cell_type": "code",
   "execution_count": 13,
   "metadata": {},
   "outputs": [],
   "source": [
    "train_data_sampled=train_data #.sample(4000,random_state=13_01_23)"
   ]
  },
  {
   "cell_type": "code",
   "execution_count": 14,
   "metadata": {},
   "outputs": [],
   "source": [
    "all_vectors=tokenizer(list(train_data_sampled.text.values),padding=True,return_attention_mask=True,truncation=True) "
   ]
  },
  {
   "cell_type": "code",
   "execution_count": 15,
   "metadata": {},
   "outputs": [],
   "source": [
    "train_tfdataset = tf.data.Dataset.from_tensor_slices((dict(all_vectors),train_data_sampled.toxic.values))\n",
    "\n",
    "BATCH_SIZE = 4\n",
    "\n",
    "train_tfdataset=train_tfdataset.batch(BATCH_SIZE)"
   ]
  },
  {
   "cell_type": "code",
   "execution_count": 16,
   "metadata": {},
   "outputs": [
    {
     "data": {
      "text/plain": [
       "0"
      ]
     },
     "execution_count": 16,
     "metadata": {},
     "output_type": "execute_result"
    }
   ],
   "source": [
    "gc.collect()\n"
   ]
  },
  {
   "cell_type": "code",
   "execution_count": 17,
   "metadata": {},
   "outputs": [],
   "source": [
    "N_EPOCHS = 3\n",
    "\n",
    "# model = TFDistilBertForSequenceClassification.from_pretrained(MODEL_NAME)\n",
    "optimizer = optimizers.Adam(learning_rate=3e-5)\n",
    "loss = losses.SparseCategoricalCrossentropy(from_logits=True)"
   ]
  },
  {
   "cell_type": "code",
   "execution_count": 18,
   "metadata": {},
   "outputs": [
    {
     "name": "stdout",
     "output_type": "stream",
     "text": [
      "Epoch 1/3\n",
      "23894/23894 [==============================] - 5320s 222ms/step - loss: 0.1066 - accuracy: 0.9611\n",
      "Epoch 2/3\n",
      "23894/23894 [==============================] - 5310s 222ms/step - loss: 0.0692 - accuracy: 0.9743\n",
      "Epoch 3/3\n",
      "23894/23894 [==============================] - 5315s 222ms/step - loss: 0.0533 - accuracy: 0.9818\n"
     ]
    },
    {
     "data": {
      "text/plain": [
       "<keras.callbacks.History at 0x19886aa8af0>"
      ]
     },
     "execution_count": 18,
     "metadata": {},
     "output_type": "execute_result"
    }
   ],
   "source": [
    "\n",
    "model.compile(optimizer=optimizer, loss=loss, metrics=['accuracy'])\n",
    "\n",
    "model.fit(train_tfdataset, batch_size=BATCH_SIZE, epochs=N_EPOCHS)"
   ]
  },
  {
   "cell_type": "code",
   "execution_count": 19,
   "metadata": {},
   "outputs": [],
   "source": [
    "model.save_pretrained('model/distilbert_full')"
   ]
  },
  {
   "cell_type": "markdown",
   "metadata": {
    "tags": []
   },
   "source": [
    "##### 1.6.3.4.1. Validation"
   ]
  },
  {
   "cell_type": "markdown",
   "metadata": {},
   "source": [
    "Посмотрим на результаты модели обученной на полном датасете "
   ]
  },
  {
   "cell_type": "code",
   "execution_count": 96,
   "metadata": {
    "tags": []
   },
   "outputs": [
    {
     "name": "stderr",
     "output_type": "stream",
     "text": [
      "Some layers from the model checkpoint at model/distilbert_full were not used when initializing TFDistilBertForSequenceClassification: ['dropout_19']\n",
      "- This IS expected if you are initializing TFDistilBertForSequenceClassification from the checkpoint of a model trained on another task or with another architecture (e.g. initializing a BertForSequenceClassification model from a BertForPreTraining model).\n",
      "- This IS NOT expected if you are initializing TFDistilBertForSequenceClassification from the checkpoint of a model that you expect to be exactly identical (initializing a BertForSequenceClassification model from a BertForSequenceClassification model).\n",
      "Some layers of TFDistilBertForSequenceClassification were not initialized from the model checkpoint at model/distilbert_full and are newly initialized: ['dropout_97']\n",
      "You should probably TRAIN this model on a down-stream task to be able to use it for predictions and inference.\n"
     ]
    }
   ],
   "source": [
    "config = transformers.DistilBertConfig.from_json_file('model/distilbert_full/config.json')\n",
    "model = TFDistilBertForSequenceClassification.from_pretrained('model/distilbert_full',config=config)"
   ]
  },
  {
   "cell_type": "markdown",
   "metadata": {},
   "source": [
    "Токенизируем валидационные данные для предсказаний:"
   ]
  },
  {
   "cell_type": "code",
   "execution_count": 97,
   "metadata": {},
   "outputs": [],
   "source": [
    "tokenizer = DistilBertTokenizer.from_pretrained(MODEL_NAME)"
   ]
  },
  {
   "cell_type": "code",
   "execution_count": 98,
   "metadata": {},
   "outputs": [
    {
     "name": "stdout",
     "output_type": "stream",
     "text": [
      "CPU times: total: 41.8 s\n",
      "Wall time: 41.9 s\n"
     ]
    }
   ],
   "source": [
    "%%time\n",
    "valid_vectors=tokenizer(list(valid_data.text.values),padding=True,return_attention_mask=True,truncation=True)"
   ]
  },
  {
   "cell_type": "code",
   "execution_count": 99,
   "metadata": {},
   "outputs": [
    {
     "data": {
      "text/plain": [
       "31858"
      ]
     },
     "execution_count": 99,
     "metadata": {},
     "output_type": "execute_result"
    }
   ],
   "source": [
    "len(valid_vectors.input_ids)"
   ]
  },
  {
   "cell_type": "markdown",
   "metadata": {},
   "source": [
    "Создадим датасет для tensorflow-модели:"
   ]
  },
  {
   "cell_type": "code",
   "execution_count": 100,
   "metadata": {},
   "outputs": [],
   "source": [
    "tfdataset =tf.data.Dataset.from_tensor_slices(dict(valid_vectors))\n",
    "\n",
    "BATCH_SIZE = 8\n",
    "tfdataset = tfdataset.batch(BATCH_SIZE)"
   ]
  },
  {
   "cell_type": "markdown",
   "metadata": {},
   "source": [
    "Попробуем освободить оперативную и видеопамять:"
   ]
  },
  {
   "cell_type": "code",
   "execution_count": 101,
   "metadata": {},
   "outputs": [
    {
     "data": {
      "text/plain": [
       "9879"
      ]
     },
     "execution_count": 101,
     "metadata": {},
     "output_type": "execute_result"
    }
   ],
   "source": [
    "gc.collect()"
   ]
  },
  {
   "cell_type": "markdown",
   "metadata": {},
   "source": [
    "Делаем предсказания:"
   ]
  },
  {
   "cell_type": "code",
   "execution_count": 102,
   "metadata": {},
   "outputs": [
    {
     "name": "stdout",
     "output_type": "stream",
     "text": [
      "CPU times: total: 8min 40s\n",
      "Wall time: 8min 18s\n"
     ]
    }
   ],
   "source": [
    "%%time\n",
    "preds = model.predict(tfdataset,batch_size=BATCH_SIZE).logits"
   ]
  },
  {
   "cell_type": "code",
   "execution_count": 103,
   "metadata": {},
   "outputs": [],
   "source": [
    "with open('predictions/valid_distillbert_full.pkl', 'wb') as f:\n",
    "    pickle.dump(preds, f)"
   ]
  },
  {
   "cell_type": "markdown",
   "metadata": {
    "tags": []
   },
   "source": [
    "###### 1.6.3.4.1.1. Результаты"
   ]
  },
  {
   "cell_type": "markdown",
   "metadata": {},
   "source": [
    "Получаем оценки качества модели:"
   ]
  },
  {
   "cell_type": "code",
   "execution_count": 38,
   "metadata": {},
   "outputs": [],
   "source": [
    "with open('predictions/valid_distillbert_full.pkl', 'rb') as file:\n",
    "    preds = pickle.load(file)"
   ]
  },
  {
   "cell_type": "code",
   "execution_count": 39,
   "metadata": {},
   "outputs": [
    {
     "name": "stdout",
     "output_type": "stream",
     "text": [
      "--Results for validation data--\n",
      "F1-score: 0.8194508360177941\n",
      "Precision score: 0.8004195385076416\n",
      "Recall score: 0.8394091766184789\n",
      "\n",
      "\n"
     ]
    },
    {
     "data": {
      "image/png": "[encoded data removed]",
      "text/plain": [
       "<Figure size 640x480 with 2 Axes>"
      ]
     },
     "metadata": {},
     "output_type": "display_data"
    }
   ],
   "source": [
    "show_model_results(valid_data.toxic.values,binary_from_logits(preds))"
   ]
  },
  {
   "cell_type": "markdown",
   "metadata": {
    "tags": []
   },
   "source": [
    "##### 1.6.3.4.2. Выводы"
   ]
  },
  {
   "cell_type": "markdown",
   "metadata": {},
   "source": [
    "Обученная за 3 эпохи на полном датасете Distilbert модель показала значение метрики F1 выше необходимого уровня (почти 0.82) на валидационной выборке."
   ]
  },
  {
   "cell_type": "markdown",
   "metadata": {
    "tags": []
   },
   "source": [
    "### 1.6.4. Roberta toxic"
   ]
  },
  {
   "cell_type": "markdown",
   "metadata": {},
   "source": [
    "Далее рассмотрим модель Roberta предобученную для той же задачи опеределения токсичности комментария."
   ]
  },
  {
   "cell_type": "markdown",
   "metadata": {
    "tags": []
   },
   "source": [
    "#### 1.6.4.1. Model initialization"
   ]
  },
  {
   "cell_type": "code",
   "execution_count": 40,
   "metadata": {},
   "outputs": [],
   "source": [
    "MODEL_NAME = 's-nlp/roberta_toxicity_classifier'"
   ]
  },
  {
   "cell_type": "code",
   "execution_count": 41,
   "metadata": {},
   "outputs": [],
   "source": [
    "tokenizer = RobertaTokenizer.from_pretrained(MODEL_NAME)"
   ]
  },
  {
   "cell_type": "code",
   "execution_count": 42,
   "metadata": {},
   "outputs": [
    {
     "name": "stderr",
     "output_type": "stream",
     "text": [
      "All PyTorch model weights were used when initializing TFRobertaForSequenceClassification.\n",
      "\n",
      "All the weights of TFRobertaForSequenceClassification were initialized from the PyTorch model.\n",
      "If your task is similar to the task the model of the checkpoint was trained on, you can already use TFRobertaForSequenceClassification for predictions without further training.\n"
     ]
    }
   ],
   "source": [
    "# используем `from_pt` чтобы сконвертировать модель из PyTorch в TensorFlow\n",
    "model = TFRobertaForSequenceClassification.from_pretrained(MODEL_NAME, from_pt=True)"
   ]
  },
  {
   "cell_type": "code",
   "execution_count": 43,
   "metadata": {},
   "outputs": [
    {
     "data": {
      "text/plain": [
       "RobertaConfig {\n",
       "  \"_name_or_path\": \"s-nlp/roberta_toxicity_classifier\",\n",
       "  \"architectures\": [\n",
       "    \"RobertaForSequenceClassification\"\n",
       "  ],\n",
       "  \"attention_probs_dropout_prob\": 0.1,\n",
       "  \"bos_token_id\": 0,\n",
       "  \"classifier_dropout\": null,\n",
       "  \"eos_token_id\": 2,\n",
       "  \"gradient_checkpointing\": false,\n",
       "  \"hidden_act\": \"gelu\",\n",
       "  \"hidden_dropout_prob\": 0.1,\n",
       "  \"hidden_size\": 768,\n",
       "  \"id2label\": {\n",
       "    \"0\": \"neutral\",\n",
       "    \"1\": \"toxic\"\n",
       "  },\n",
       "  \"initializer_range\": 0.02,\n",
       "  \"intermediate_size\": 3072,\n",
       "  \"label2id\": {\n",
       "    \"neutral\": 0,\n",
       "    \"toxic\": 1\n",
       "  },\n",
       "  \"layer_norm_eps\": 1e-05,\n",
       "  \"max_position_embeddings\": 514,\n",
       "  \"model_type\": \"roberta\",\n",
       "  \"num_attention_heads\": 12,\n",
       "  \"num_hidden_layers\": 12,\n",
       "  \"pad_token_id\": 1,\n",
       "  \"position_embedding_type\": \"absolute\",\n",
       "  \"problem_type\": \"single_label_classification\",\n",
       "  \"torch_dtype\": \"float32\",\n",
       "  \"transformers_version\": \"4.12.5\",\n",
       "  \"type_vocab_size\": 1,\n",
       "  \"use_cache\": true,\n",
       "  \"vocab_size\": 50265\n",
       "}"
      ]
     },
     "execution_count": 43,
     "metadata": {},
     "output_type": "execute_result"
    }
   ],
   "source": [
    "model.config\n"
   ]
  },
  {
   "cell_type": "markdown",
   "metadata": {
    "tags": []
   },
   "source": [
    "#### 1.6.4.2. Validation of pre-trained"
   ]
  },
  {
   "cell_type": "markdown",
   "metadata": {},
   "source": [
    "Проверим предобученную модель: "
   ]
  },
  {
   "cell_type": "markdown",
   "metadata": {},
   "source": [
    "Токенизируем валидационные данные для предсказаний:"
   ]
  },
  {
   "cell_type": "code",
   "execution_count": 114,
   "metadata": {},
   "outputs": [
    {
     "name": "stdout",
     "output_type": "stream",
     "text": [
      "CPU times: total: 17.3 s\n",
      "Wall time: 17.3 s\n"
     ]
    }
   ],
   "source": [
    "%%time\n",
    "valid_vectors=tokenizer(list(valid_data.text.values),padding=True,return_attention_mask=True,truncation=True)"
   ]
  },
  {
   "cell_type": "markdown",
   "metadata": {},
   "source": [
    "Создадим датасет для tensorflow-модели:"
   ]
  },
  {
   "cell_type": "code",
   "execution_count": 115,
   "metadata": {},
   "outputs": [],
   "source": [
    "tfdataset =tf.data.Dataset.from_tensor_slices(dict(valid_vectors))\n",
    "\n",
    "BATCH_SIZE = 8\n",
    "tfdataset = tfdataset.batch(BATCH_SIZE)"
   ]
  },
  {
   "cell_type": "markdown",
   "metadata": {},
   "source": [
    "Попробуем освободить оперативную и видеопамять:"
   ]
  },
  {
   "cell_type": "code",
   "execution_count": 116,
   "metadata": {},
   "outputs": [
    {
     "data": {
      "text/plain": [
       "9876"
      ]
     },
     "execution_count": 116,
     "metadata": {},
     "output_type": "execute_result"
    }
   ],
   "source": [
    "gc.collect()"
   ]
  },
  {
   "cell_type": "markdown",
   "metadata": {},
   "source": [
    "Делаем предсказания:"
   ]
  },
  {
   "cell_type": "code",
   "execution_count": 117,
   "metadata": {},
   "outputs": [
    {
     "name": "stdout",
     "output_type": "stream",
     "text": [
      "CPU times: total: 17min 34s\n",
      "Wall time: 16min 43s\n"
     ]
    }
   ],
   "source": [
    "%%time\n",
    "preds = model.predict(tfdataset,batch_size=BATCH_SIZE, use_multiprocessing=True).logits"
   ]
  },
  {
   "cell_type": "code",
   "execution_count": 118,
   "metadata": {},
   "outputs": [],
   "source": [
    "with open('predictions/valid_roberta_pretrained.pkl', 'wb') as f:\n",
    "    pickle.dump(preds, f)"
   ]
  },
  {
   "cell_type": "markdown",
   "metadata": {},
   "source": [
    "##### 1.6.4.2.1. Результаты"
   ]
  },
  {
   "cell_type": "markdown",
   "metadata": {},
   "source": [
    "Получаем оценки качества модели:"
   ]
  },
  {
   "cell_type": "code",
   "execution_count": 44,
   "metadata": {},
   "outputs": [],
   "source": [
    "with open('predictions/valid_roberta_pretrained.pkl', 'rb') as file:\n",
    "    preds = pickle.load(file)"
   ]
  },
  {
   "cell_type": "code",
   "execution_count": 45,
   "metadata": {},
   "outputs": [
    {
     "name": "stdout",
     "output_type": "stream",
     "text": [
      "--Results for validation data--\n",
      "F1-score: 0.8690514212711594\n",
      "Precision score: 0.8834415584415585\n",
      "Recall score: 0.85512256442489\n",
      "\n",
      "\n"
     ]
    },
    {
     "data": {
      "image/png": "[encoded data removed]",
      "text/plain": [
       "<Figure size 640x480 with 2 Axes>"
      ]
     },
     "metadata": {},
     "output_type": "display_data"
    }
   ],
   "source": [
    "show_model_results(valid_data.toxic.values,binary_from_logits(preds))"
   ]
  },
  {
   "cell_type": "markdown",
   "metadata": {
    "tags": []
   },
   "source": [
    "##### 1.6.4.2.2. Выводы"
   ]
  },
  {
   "cell_type": "markdown",
   "metadata": {},
   "source": [
    "Предобученная для той же задачи опеределения токсичности комментария модель Roberta показала высокие результаты качества на незнакомых (вероятнее всего) ей данных: F1 почти 0.87"
   ]
  },
  {
   "cell_type": "markdown",
   "metadata": {},
   "source": [
    "#### 1.6.4.3. Full dataset"
   ]
  },
  {
   "cell_type": "code",
   "execution_count": 10,
   "metadata": {},
   "outputs": [],
   "source": [
    "train_data_sampled=train_data #.sample(4000,random_state=13_01_23)"
   ]
  },
  {
   "cell_type": "code",
   "execution_count": 16,
   "metadata": {},
   "outputs": [
    {
     "name": "stdout",
     "output_type": "stream",
     "text": [
      "CPU times: total: 48.4 s\n",
      "Wall time: 48.4 s\n"
     ]
    }
   ],
   "source": [
    "%%time\n",
    "all_vectors=tokenizer(list(train_data_sampled.text.values),padding=True,return_attention_mask=True,truncation=True) "
   ]
  },
  {
   "cell_type": "code",
   "execution_count": 17,
   "metadata": {},
   "outputs": [],
   "source": [
    "train_tfdataset = tf.data.Dataset.from_tensor_slices((dict(all_vectors),train_data_sampled.toxic.values))\n",
    "\n",
    "BATCH_SIZE = 3\n",
    "\n",
    "train_tfdataset=train_tfdataset.batch(BATCH_SIZE)"
   ]
  },
  {
   "cell_type": "code",
   "execution_count": 18,
   "metadata": {},
   "outputs": [
    {
     "data": {
      "text/plain": [
       "0"
      ]
     },
     "execution_count": 18,
     "metadata": {},
     "output_type": "execute_result"
    }
   ],
   "source": [
    "gc.collect()\n"
   ]
  },
  {
   "cell_type": "code",
   "execution_count": 19,
   "metadata": {},
   "outputs": [],
   "source": [
    "N_EPOCHS = 3\n",
    "\n",
    "# model = TFDistilBertForSequenceClassification.from_pretrained(MODEL_NAME)\n",
    "optimizer = optimizers.Adam(learning_rate=3e-5)\n",
    "loss = losses.SparseCategoricalCrossentropy(from_logits=True)"
   ]
  },
  {
   "cell_type": "code",
   "execution_count": 20,
   "metadata": {},
   "outputs": [
    {
     "name": "stdout",
     "output_type": "stream",
     "text": [
      "Epoch 1/3\n",
      "31859/31859 [==============================] - 10885s 341ms/step - loss: 0.2868 - accuracy: 0.9107\n",
      "Epoch 2/3\n",
      "31859/31859 [==============================] - 10866s 341ms/step - loss: 0.3282 - accuracy: 0.8990\n",
      "Epoch 3/3\n",
      "31859/31859 [==============================] - 10883s 342ms/step - loss: 0.3281 - accuracy: 0.8986\n"
     ]
    },
    {
     "data": {
      "text/plain": [
       "<keras.callbacks.History at 0x23e1421dd60>"
      ]
     },
     "execution_count": 20,
     "metadata": {},
     "output_type": "execute_result"
    }
   ],
   "source": [
    "\n",
    "model.compile(optimizer=optimizer, loss=loss, metrics=['accuracy'])\n",
    "\n",
    "model.fit(train_tfdataset, batch_size=BATCH_SIZE, epochs=N_EPOCHS)"
   ]
  },
  {
   "cell_type": "code",
   "execution_count": 21,
   "metadata": {},
   "outputs": [],
   "source": [
    "model.save_pretrained('model/roberta_toxic_full_with_valid')"
   ]
  },
  {
   "cell_type": "markdown",
   "metadata": {
    "tags": []
   },
   "source": [
    "##### 1.6.4.3.1. Validation"
   ]
  },
  {
   "cell_type": "markdown",
   "metadata": {},
   "source": [
    "Проверим результаты модели обученной на полном датасете "
   ]
  },
  {
   "cell_type": "code",
   "execution_count": 46,
   "metadata": {
    "tags": []
   },
   "outputs": [
    {
     "name": "stderr",
     "output_type": "stream",
     "text": [
      "All model checkpoint layers were used when initializing TFRobertaForSequenceClassification.\n",
      "\n",
      "All the layers of TFRobertaForSequenceClassification were initialized from the model checkpoint at model/roberta_toxic_full_with_valid.\n",
      "If your task is similar to the task the model of the checkpoint was trained on, you can already use TFRobertaForSequenceClassification for predictions without further training.\n"
     ]
    }
   ],
   "source": [
    "config = transformers.RobertaConfig.from_json_file('model/roberta_toxic_full_with_valid/config.json')\n",
    "model = TFRobertaForSequenceClassification.from_pretrained('model/roberta_toxic_full_with_valid',config=config)"
   ]
  },
  {
   "cell_type": "code",
   "execution_count": 47,
   "metadata": {},
   "outputs": [
    {
     "data": {
      "text/plain": [
       "4125"
      ]
     },
     "execution_count": 47,
     "metadata": {},
     "output_type": "execute_result"
    }
   ],
   "source": [
    "gc.collect()"
   ]
  },
  {
   "cell_type": "markdown",
   "metadata": {},
   "source": [
    "Токенизируем валидационные данные для предсказаний:"
   ]
  },
  {
   "cell_type": "code",
   "execution_count": 48,
   "metadata": {},
   "outputs": [],
   "source": [
    "tokenizer = RobertaTokenizer.from_pretrained(MODEL_NAME)"
   ]
  },
  {
   "cell_type": "markdown",
   "metadata": {},
   "source": [
    "Возьмем небольшую выборку в 1к элементов, так как модель, как мы увидим далее выдает всегда `0` "
   ]
  },
  {
   "cell_type": "code",
   "execution_count": 49,
   "metadata": {},
   "outputs": [],
   "source": [
    "valid_sampled_data=valid_data.sample(n=1000,random_state=13_01_23)"
   ]
  },
  {
   "cell_type": "code",
   "execution_count": 50,
   "metadata": {},
   "outputs": [
    {
     "name": "stdout",
     "output_type": "stream",
     "text": [
      "CPU times: total: 766 ms\n",
      "Wall time: 777 ms\n"
     ]
    }
   ],
   "source": [
    "%%time\n",
    "valid_vectors=tokenizer(list(valid_sampled_data.text.values),padding=True,return_attention_mask=True,truncation=True)"
   ]
  },
  {
   "cell_type": "code",
   "execution_count": 51,
   "metadata": {},
   "outputs": [
    {
     "data": {
      "text/plain": [
       "1000"
      ]
     },
     "execution_count": 51,
     "metadata": {},
     "output_type": "execute_result"
    }
   ],
   "source": [
    "len(valid_vectors.input_ids)"
   ]
  },
  {
   "cell_type": "markdown",
   "metadata": {},
   "source": [
    "Создадим датасет для tensorflow-модели:"
   ]
  },
  {
   "cell_type": "code",
   "execution_count": 52,
   "metadata": {},
   "outputs": [
    {
     "name": "stdout",
     "output_type": "stream",
     "text": [
      "CPU times: total: 1.53 s\n",
      "Wall time: 1.54 s\n"
     ]
    }
   ],
   "source": [
    "%%time\n",
    "tfdataset =tf.data.Dataset.from_tensor_slices(dict(valid_vectors))\n",
    "\n",
    "BATCH_SIZE = 8\n",
    "tfdataset = tfdataset.batch(BATCH_SIZE)"
   ]
  },
  {
   "cell_type": "markdown",
   "metadata": {},
   "source": [
    "Делаем предсказания:"
   ]
  },
  {
   "cell_type": "code",
   "execution_count": 53,
   "metadata": {},
   "outputs": [
    {
     "name": "stdout",
     "output_type": "stream",
     "text": [
      "CPU times: total: 37.2 s\n",
      "Wall time: 36.5 s\n"
     ]
    }
   ],
   "source": [
    "%%time\n",
    "preds = model.predict(tfdataset,batch_size=BATCH_SIZE).logits"
   ]
  },
  {
   "cell_type": "markdown",
   "metadata": {},
   "source": [
    "Попробуем освободить оперативную и видеопамять:"
   ]
  },
  {
   "cell_type": "code",
   "execution_count": 54,
   "metadata": {},
   "outputs": [
    {
     "data": {
      "text/plain": [
       "4"
      ]
     },
     "execution_count": 54,
     "metadata": {},
     "output_type": "execute_result"
    }
   ],
   "source": [
    "gc.collect()"
   ]
  },
  {
   "cell_type": "markdown",
   "metadata": {},
   "source": [
    "Получаем оценки качества модели:"
   ]
  },
  {
   "cell_type": "code",
   "execution_count": 55,
   "metadata": {},
   "outputs": [
    {
     "name": "stdout",
     "output_type": "stream",
     "text": [
      "--Results for validation data--\n",
      "F1-score: 0.0\n",
      "Precision score: 0.0\n",
      "Recall score: 0.0\n",
      "\n",
      "\n"
     ]
    },
    {
     "name": "stderr",
     "output_type": "stream",
     "text": [
      "C:\\Users\\kapto\\anaconda3\\envs\\ds_practicum_env_cuda2\\lib\\site-packages\\sklearn\\metrics\\_classification.py:1245: UndefinedMetricWarning: Precision is ill-defined and being set to 0.0 due to no predicted samples. Use `zero_division` parameter to control this behavior.\n",
      "  _warn_prf(average, modifier, msg_start, len(result))\n"
     ]
    },
    {
     "data": {
      "image/png": "[encoded data removed]",
      "text/plain": [
       "<Figure size 640x480 with 2 Axes>"
      ]
     },
     "metadata": {},
     "output_type": "display_data"
    }
   ],
   "source": [
    "show_model_results(valid_sampled_data.toxic.values,binary_from_logits(preds))"
   ]
  },
  {
   "cell_type": "markdown",
   "metadata": {},
   "source": [
    "##### 1.6.4.3.2. Выводы"
   ]
  },
  {
   "cell_type": "markdown",
   "metadata": {},
   "source": [
    "Обученная на полном датасете модель Roberta toxic c числом эпох = 3 модель показала нулевой результат, похоже что ее обучение на полном датасете привело к какому-то сбою в модели. "
   ]
  },
  {
   "cell_type": "markdown",
   "metadata": {},
   "source": [
    "#### 1.6.4.4. Sampled dataset"
   ]
  },
  {
   "cell_type": "code",
   "execution_count": 11,
   "metadata": {},
   "outputs": [],
   "source": [
    "train_data_sampled=train_data.sample(4000,random_state=13_01_23)"
   ]
  },
  {
   "cell_type": "code",
   "execution_count": 12,
   "metadata": {},
   "outputs": [],
   "source": [
    "%%time\n",
    "all_vectors=tokenizer(list(train_data_sampled.text.values),padding=True,return_attention_mask=True,truncation=True) "
   ]
  },
  {
   "cell_type": "code",
   "execution_count": 13,
   "metadata": {},
   "outputs": [],
   "source": [
    "train_tfdataset = tf.data.Dataset.from_tensor_slices((dict(all_vectors),train_data_sampled.toxic.values))\n",
    "\n",
    "BATCH_SIZE = 4\n",
    "\n",
    "train_tfdataset=train_tfdataset.batch(BATCH_SIZE)"
   ]
  },
  {
   "cell_type": "code",
   "execution_count": 15,
   "metadata": {},
   "outputs": [],
   "source": [
    "N_EPOCHS = 8\n",
    "\n",
    "# model = TFDistilBertForSequenceClassification.from_pretrained(MODEL_NAME)\n",
    "optimizer = optimizers.Adam(learning_rate=3e-5)\n",
    "loss = losses.SparseCategoricalCrossentropy(from_logits=True)"
   ]
  },
  {
   "cell_type": "code",
   "execution_count": 16,
   "metadata": {},
   "outputs": [
    {
     "name": "stdout",
     "output_type": "stream",
     "text": [
      "Epoch 1/8\n",
      "1000/1000 [==============================] - 450s 436ms/step - loss: 0.1308 - accuracy: 0.9553\n",
      "Epoch 2/8\n",
      "1000/1000 [==============================] - 436s 436ms/step - loss: 0.0764 - accuracy: 0.9735\n",
      "Epoch 3/8\n",
      "1000/1000 [==============================] - 438s 438ms/step - loss: 0.0614 - accuracy: 0.9785\n",
      "Epoch 4/8\n",
      "1000/1000 [==============================] - 436s 436ms/step - loss: 0.0461 - accuracy: 0.9835\n",
      "Epoch 5/8\n",
      "1000/1000 [==============================] - 433s 433ms/step - loss: 0.0356 - accuracy: 0.9902\n",
      "Epoch 6/8\n",
      "1000/1000 [==============================] - 434s 434ms/step - loss: 0.0455 - accuracy: 0.9872\n",
      "Epoch 7/8\n",
      "1000/1000 [==============================] - 436s 436ms/step - loss: 0.0284 - accuracy: 0.9915\n",
      "Epoch 8/8\n",
      "1000/1000 [==============================] - 436s 436ms/step - loss: 0.0304 - accuracy: 0.9900\n"
     ]
    },
    {
     "data": {
      "text/plain": [
       "<keras.callbacks.History at 0x29f74e26340>"
      ]
     },
     "execution_count": 16,
     "metadata": {},
     "output_type": "execute_result"
    }
   ],
   "source": [
    "model.compile(optimizer=optimizer, loss=loss, metrics=['accuracy'])\n",
    "\n",
    "model.fit(train_tfdataset, batch_size=BATCH_SIZE, epochs=N_EPOCHS)"
   ]
  },
  {
   "cell_type": "code",
   "execution_count": 30,
   "metadata": {},
   "outputs": [],
   "source": [
    "model.save_pretrained('model/roberta_toxic_full3')"
   ]
  },
  {
   "cell_type": "markdown",
   "metadata": {
    "tags": []
   },
   "source": [
    "##### 1.6.4.4.1. Validation"
   ]
  },
  {
   "cell_type": "markdown",
   "metadata": {},
   "source": [
    "Проверим результаты модели обученной на выборочном датасете "
   ]
  },
  {
   "cell_type": "code",
   "execution_count": 142,
   "metadata": {
    "tags": []
   },
   "outputs": [
    {
     "name": "stderr",
     "output_type": "stream",
     "text": [
      "All model checkpoint layers were used when initializing TFRobertaForSequenceClassification.\n",
      "\n",
      "All the layers of TFRobertaForSequenceClassification were initialized from the model checkpoint at model/roberta_toxic_full3.\n",
      "If your task is similar to the task the model of the checkpoint was trained on, you can already use TFRobertaForSequenceClassification for predictions without further training.\n"
     ]
    }
   ],
   "source": [
    "config = transformers.RobertaConfig.from_json_file('model/roberta_toxic_full3/config.json')\n",
    "model = TFRobertaForSequenceClassification.from_pretrained('model/roberta_toxic_full3',config=config)"
   ]
  },
  {
   "cell_type": "markdown",
   "metadata": {},
   "source": [
    "Токенизируем валидационные данные для предсказаний:"
   ]
  },
  {
   "cell_type": "code",
   "execution_count": 143,
   "metadata": {},
   "outputs": [],
   "source": [
    "tokenizer = RobertaTokenizer.from_pretrained(MODEL_NAME)"
   ]
  },
  {
   "cell_type": "code",
   "execution_count": 144,
   "metadata": {},
   "outputs": [
    {
     "name": "stdout",
     "output_type": "stream",
     "text": [
      "CPU times: total: 16.3 s\n",
      "Wall time: 16.3 s\n"
     ]
    }
   ],
   "source": [
    "%%time\n",
    "valid_vectors=tokenizer(list(valid_data.text.values),padding=True,return_attention_mask=True,truncation=True)"
   ]
  },
  {
   "cell_type": "code",
   "execution_count": 145,
   "metadata": {},
   "outputs": [
    {
     "data": {
      "text/plain": [
       "31858"
      ]
     },
     "execution_count": 145,
     "metadata": {},
     "output_type": "execute_result"
    }
   ],
   "source": [
    "len(valid_vectors.input_ids)"
   ]
  },
  {
   "cell_type": "markdown",
   "metadata": {},
   "source": [
    "Создадим датасет для tensorflow-модели:"
   ]
  },
  {
   "cell_type": "code",
   "execution_count": 146,
   "metadata": {},
   "outputs": [],
   "source": [
    "tfdataset =tf.data.Dataset.from_tensor_slices(dict(valid_vectors))\n",
    "\n",
    "BATCH_SIZE = 8\n",
    "tfdataset = tfdataset.batch(BATCH_SIZE)"
   ]
  },
  {
   "cell_type": "markdown",
   "metadata": {},
   "source": [
    "Попробуем освободить оперативную и видеопамять:"
   ]
  },
  {
   "cell_type": "code",
   "execution_count": 147,
   "metadata": {},
   "outputs": [
    {
     "data": {
      "text/plain": [
       "7756"
      ]
     },
     "execution_count": 147,
     "metadata": {},
     "output_type": "execute_result"
    }
   ],
   "source": [
    "gc.collect()"
   ]
  },
  {
   "cell_type": "markdown",
   "metadata": {},
   "source": [
    "Делаем предсказания:"
   ]
  },
  {
   "cell_type": "code",
   "execution_count": 148,
   "metadata": {},
   "outputs": [
    {
     "name": "stdout",
     "output_type": "stream",
     "text": [
      "CPU times: total: 17min 39s\n",
      "Wall time: 16min 47s\n"
     ]
    }
   ],
   "source": [
    "%%time\n",
    "preds = model.predict(tfdataset,batch_size=BATCH_SIZE,workers=tf.data.AUTOTUNE,use_multiprocessing=True).logits"
   ]
  },
  {
   "cell_type": "markdown",
   "metadata": {},
   "source": [
    "CPU times: total: 18min 6s\n",
    "Wall time: 17min 32s"
   ]
  },
  {
   "cell_type": "code",
   "execution_count": 149,
   "metadata": {},
   "outputs": [],
   "source": [
    "with open('predictions/valid_roberta_sampled.pkl', 'wb') as f:\n",
    "    pickle.dump(preds, f)"
   ]
  },
  {
   "cell_type": "markdown",
   "metadata": {
    "tags": []
   },
   "source": [
    "###### 1.6.4.4.1.1. Результаты"
   ]
  },
  {
   "cell_type": "markdown",
   "metadata": {},
   "source": [
    "Получаем оценки качества модели:"
   ]
  },
  {
   "cell_type": "code",
   "execution_count": 56,
   "metadata": {},
   "outputs": [],
   "source": [
    "with open('predictions/valid_roberta_sampled.pkl', 'rb') as file:\n",
    "    preds = pickle.load(file)"
   ]
  },
  {
   "cell_type": "code",
   "execution_count": 57,
   "metadata": {},
   "outputs": [
    {
     "name": "stdout",
     "output_type": "stream",
     "text": [
      "--Results for validation data--\n",
      "F1-score: 0.795036496350365\n",
      "Precision score: 0.7423664122137404\n",
      "Recall score: 0.8557510999371465\n",
      "\n",
      "\n"
     ]
    },
    {
     "data": {
      "image/png": "[encoded data removed]",
      "text/plain": [
       "<Figure size 640x480 with 2 Axes>"
      ]
     },
     "metadata": {},
     "output_type": "display_data"
    }
   ],
   "source": [
    "show_model_results(valid_data.toxic.values,binary_from_logits(preds))"
   ]
  },
  {
   "cell_type": "markdown",
   "metadata": {},
   "source": [
    "##### 1.6.4.4.2. Выводы"
   ]
  },
  {
   "cell_type": "markdown",
   "metadata": {},
   "source": [
    "Обученная на выборочном (sample из 4000к строк) но с достаточно большим числом эпох (8) модель показала значение метрики F1 выше необходимого уровня на валидационной выборке (~0.8), но метрика F1 стала меньше относительно предобученной модели. Больше всего промахов у модели - типа False Positive, их число как раз выросло в сравнении с предобученной моделью. Что может нам говорить о том что наш выборочный датасет не подходит для обучения или же было выбрано слишком много эпох для обучения и модель переобучилась на этих данных."
   ]
  },
  {
   "cell_type": "markdown",
   "metadata": {},
   "source": [
    "#### 1.6.4.5. Balanced dataset"
   ]
  },
  {
   "cell_type": "markdown",
   "metadata": {},
   "source": [
    "Создадим сбалансированный датасет с одинаковым числом положительных и отрицательных предсказаний и обучим на них 's-nlp/roberta_toxicity_classifier'."
   ]
  },
  {
   "cell_type": "code",
   "execution_count": 58,
   "metadata": {},
   "outputs": [],
   "source": [
    "MODEL_NAME = 's-nlp/roberta_toxicity_classifier'"
   ]
  },
  {
   "cell_type": "code",
   "execution_count": 59,
   "metadata": {},
   "outputs": [],
   "source": [
    "tokenizer = RobertaTokenizer.from_pretrained(MODEL_NAME)"
   ]
  },
  {
   "cell_type": "code",
   "execution_count": 60,
   "metadata": {},
   "outputs": [
    {
     "name": "stderr",
     "output_type": "stream",
     "text": [
      "All PyTorch model weights were used when initializing TFRobertaForSequenceClassification.\n",
      "\n",
      "All the weights of TFRobertaForSequenceClassification were initialized from the PyTorch model.\n",
      "If your task is similar to the task the model of the checkpoint was trained on, you can already use TFRobertaForSequenceClassification for predictions without further training.\n"
     ]
    }
   ],
   "source": [
    "# используем `from_pt` чтобы сконвертировать модель из PyTorch в TensorFlow\n",
    "model = TFRobertaForSequenceClassification.from_pretrained(MODEL_NAME, from_pt=True)"
   ]
  },
  {
   "cell_type": "code",
   "execution_count": 61,
   "metadata": {},
   "outputs": [
    {
     "data": {
      "text/plain": [
       "20327"
      ]
     },
     "execution_count": 61,
     "metadata": {},
     "output_type": "execute_result"
    }
   ],
   "source": [
    "gc.collect()"
   ]
  },
  {
   "cell_type": "markdown",
   "metadata": {},
   "source": [
    "##### 1.6.4.5.1. Creating balanced dataset"
   ]
  },
  {
   "cell_type": "code",
   "execution_count": 62,
   "metadata": {},
   "outputs": [],
   "source": [
    "toxic_data_filter=train_data['toxic']==1\n",
    "toxic_data_len=toxic_data_filter.sum()\n",
    "non_toxic_data_filter=train_data['toxic']==0\n",
    "non_toxic_data_sampled=train_data[non_toxic_data_filter].sample(n=toxic_data_len)\n",
    "balanced_data=pd.concat([non_toxic_data_sampled,train_data[toxic_data_filter]])"
   ]
  },
  {
   "cell_type": "code",
   "execution_count": 63,
   "metadata": {},
   "outputs": [
    {
     "data": {
      "text/plain": [
       "0    9692\n",
       "1    9692\n",
       "Name: toxic, dtype: int64"
      ]
     },
     "execution_count": 63,
     "metadata": {},
     "output_type": "execute_result"
    }
   ],
   "source": [
    "balanced_data.toxic.value_counts()"
   ]
  },
  {
   "cell_type": "markdown",
   "metadata": {},
   "source": [
    "<div class=\"alert alert-block alert-success\">\n",
    "<b>Успех:</b> Хорошо, что баланс классов был изменен только на треине!\n",
    "</div>"
   ]
  },
  {
   "cell_type": "markdown",
   "metadata": {},
   "source": [
    "##### 1.6.4.5.2. Fine-tuning model"
   ]
  },
  {
   "cell_type": "code",
   "execution_count": 15,
   "metadata": {},
   "outputs": [],
   "source": [
    "balanced_data_sampled=balanced_data #.sample(n=4000,random_state=13_01_23)"
   ]
  },
  {
   "cell_type": "code",
   "execution_count": 16,
   "metadata": {},
   "outputs": [],
   "source": [
    "balanced_vectors=tokenizer(list(balanced_data_sampled.text.values),padding=True,return_attention_mask=True,truncation=True) "
   ]
  },
  {
   "cell_type": "code",
   "execution_count": 29,
   "metadata": {},
   "outputs": [],
   "source": [
    "tfdataset =tf.data.Dataset.from_tensor_slices((dict(balanced_vectors),balanced_data_sampled.toxic.values))\n",
    "\n",
    "BATCH_SIZE = 4\n",
    "\n",
    "tfdataset=tfdataset.batch(BATCH_SIZE)"
   ]
  },
  {
   "cell_type": "code",
   "execution_count": 30,
   "metadata": {},
   "outputs": [],
   "source": [
    "N_EPOCHS = 4\n",
    "\n",
    "# model = TFDistilBertForSequenceClassification.from_pretrained(MODEL_NAME)\n",
    "optimizer = optimizers.Adam(learning_rate=3e-5)\n",
    "loss = losses.SparseCategoricalCrossentropy(from_logits=True)"
   ]
  },
  {
   "cell_type": "code",
   "execution_count": 31,
   "metadata": {},
   "outputs": [
    {
     "name": "stdout",
     "output_type": "stream",
     "text": [
      "Epoch 1/4\n",
      "1000/1000 [==============================] - 445s 435ms/step - loss: 0.1936 - accuracy: 0.9265\n",
      "Epoch 2/4\n",
      "1000/1000 [==============================] - 433s 433ms/step - loss: 0.1609 - accuracy: 0.9448\n",
      "Epoch 3/4\n",
      "1000/1000 [==============================] - 431s 431ms/step - loss: 0.1309 - accuracy: 0.9553\n",
      "Epoch 4/4\n",
      "1000/1000 [==============================] - 435s 435ms/step - loss: 0.0743 - accuracy: 0.9783\n"
     ]
    },
    {
     "data": {
      "text/plain": [
       "<keras.callbacks.History at 0x21433671a60>"
      ]
     },
     "execution_count": 31,
     "metadata": {},
     "output_type": "execute_result"
    }
   ],
   "source": [
    "model.compile(optimizer=optimizer, loss=loss, metrics=['accuracy'])\n",
    "\n",
    "model.fit(tfdataset, batch_size=BATCH_SIZE, epochs=N_EPOCHS)"
   ]
  },
  {
   "cell_type": "code",
   "execution_count": 32,
   "metadata": {},
   "outputs": [],
   "source": [
    "model.save_pretrained('model/roberta_toxic_balanced_non_cropped')"
   ]
  },
  {
   "cell_type": "markdown",
   "metadata": {
    "tags": []
   },
   "source": [
    "##### 1.6.4.5.3. Validation"
   ]
  },
  {
   "cell_type": "markdown",
   "metadata": {},
   "source": [
    "Проверим результаты модели обученной на сбалансированном датасете "
   ]
  },
  {
   "cell_type": "code",
   "execution_count": 167,
   "metadata": {
    "tags": []
   },
   "outputs": [
    {
     "name": "stderr",
     "output_type": "stream",
     "text": [
      "All model checkpoint layers were used when initializing TFRobertaForSequenceClassification.\n",
      "\n",
      "All the layers of TFRobertaForSequenceClassification were initialized from the model checkpoint at model/roberta_toxic_balanced.\n",
      "If your task is similar to the task the model of the checkpoint was trained on, you can already use TFRobertaForSequenceClassification for predictions without further training.\n"
     ]
    }
   ],
   "source": [
    "config = transformers.RobertaConfig.from_json_file('model/roberta_toxic_balanced/config.json')\n",
    "model = TFRobertaForSequenceClassification.from_pretrained('model/roberta_toxic_balanced',config=config)"
   ]
  },
  {
   "cell_type": "markdown",
   "metadata": {},
   "source": [
    "Токенизируем валидационные данные для предсказаний:"
   ]
  },
  {
   "cell_type": "code",
   "execution_count": 168,
   "metadata": {},
   "outputs": [],
   "source": [
    "tokenizer = RobertaTokenizer.from_pretrained(MODEL_NAME)"
   ]
  },
  {
   "cell_type": "code",
   "execution_count": 169,
   "metadata": {},
   "outputs": [
    {
     "name": "stdout",
     "output_type": "stream",
     "text": [
      "CPU times: total: 17.6 s\n",
      "Wall time: 17.6 s\n"
     ]
    }
   ],
   "source": [
    "%%time\n",
    "valid_vectors=tokenizer(list(valid_data.text.values),padding=True,return_attention_mask=True,truncation=True)"
   ]
  },
  {
   "cell_type": "code",
   "execution_count": 170,
   "metadata": {},
   "outputs": [
    {
     "data": {
      "text/plain": [
       "31858"
      ]
     },
     "execution_count": 170,
     "metadata": {},
     "output_type": "execute_result"
    }
   ],
   "source": [
    "len(valid_vectors.input_ids)"
   ]
  },
  {
   "cell_type": "markdown",
   "metadata": {},
   "source": [
    "Создадим датасет для tensorflow-модели:"
   ]
  },
  {
   "cell_type": "code",
   "execution_count": 171,
   "metadata": {},
   "outputs": [],
   "source": [
    "tfdataset =tf.data.Dataset.from_tensor_slices(dict(valid_vectors))\n",
    "\n",
    "BATCH_SIZE = 8\n",
    "tfdataset = tfdataset.batch(BATCH_SIZE)"
   ]
  },
  {
   "cell_type": "markdown",
   "metadata": {},
   "source": [
    "Попробуем освободить оперативную и видеопамять:"
   ]
  },
  {
   "cell_type": "code",
   "execution_count": 172,
   "metadata": {},
   "outputs": [
    {
     "data": {
      "text/plain": [
       "12100"
      ]
     },
     "execution_count": 172,
     "metadata": {},
     "output_type": "execute_result"
    }
   ],
   "source": [
    "gc.collect()"
   ]
  },
  {
   "cell_type": "markdown",
   "metadata": {},
   "source": [
    "Делаем предсказания:"
   ]
  },
  {
   "cell_type": "code",
   "execution_count": 173,
   "metadata": {},
   "outputs": [
    {
     "name": "stdout",
     "output_type": "stream",
     "text": [
      "CPU times: total: 17min 36s\n",
      "Wall time: 16min 47s\n"
     ]
    }
   ],
   "source": [
    "%%time\n",
    "preds = model.predict(tfdataset,batch_size=BATCH_SIZE).logits"
   ]
  },
  {
   "cell_type": "code",
   "execution_count": 174,
   "metadata": {},
   "outputs": [],
   "source": [
    "with open('predictions/valid_roberta_balanced.pkl', 'wb') as f:\n",
    "    pickle.dump(preds, f)"
   ]
  },
  {
   "cell_type": "markdown",
   "metadata": {
    "tags": []
   },
   "source": [
    "###### 1.6.4.5.3.1. Результаты"
   ]
  },
  {
   "cell_type": "markdown",
   "metadata": {},
   "source": [
    "Получаем оценки качества модели:"
   ]
  },
  {
   "cell_type": "code",
   "execution_count": 64,
   "metadata": {},
   "outputs": [],
   "source": [
    "with open('predictions/valid_roberta_balanced.pkl', 'rb') as file:\n",
    "    preds = pickle.load(file)"
   ]
  },
  {
   "cell_type": "code",
   "execution_count": 65,
   "metadata": {},
   "outputs": [
    {
     "name": "stdout",
     "output_type": "stream",
     "text": [
      "--Results for validation data--\n",
      "F1-score: 0.7046390032261654\n",
      "Precision score: 0.5453762700189426\n",
      "Recall score: 0.9952859836580766\n",
      "\n",
      "\n"
     ]
    },
    {
     "data": {
      "image/png": "[encoded data removed]",
      "text/plain": [
       "<Figure size 640x480 with 2 Axes>"
      ]
     },
     "metadata": {},
     "output_type": "display_data"
    }
   ],
   "source": [
    "show_model_results(valid_data.toxic.values,binary_from_logits(preds))"
   ]
  },
  {
   "cell_type": "code",
   "execution_count": 66,
   "metadata": {},
   "outputs": [],
   "source": [
    "y_pred=binary_from_logits(preds)"
   ]
  },
  {
   "cell_type": "code",
   "execution_count": 67,
   "metadata": {
    "tags": []
   },
   "outputs": [],
   "source": [
    "y_true=valid_data.toxic.values.ravel()"
   ]
  },
  {
   "cell_type": "code",
   "execution_count": 68,
   "metadata": {
    "tags": []
   },
   "outputs": [
    {
     "data": {
      "text/plain": [
       "0.7046390032261654"
      ]
     },
     "execution_count": 68,
     "metadata": {},
     "output_type": "execute_result"
    }
   ],
   "source": [
    "f1_score(y_true, y_pred)"
   ]
  },
  {
   "cell_type": "code",
   "execution_count": 69,
   "metadata": {
    "tags": []
   },
   "outputs": [
    {
     "data": {
      "text/plain": [
       "0.5453762700189426"
      ]
     },
     "execution_count": 69,
     "metadata": {},
     "output_type": "execute_result"
    }
   ],
   "source": [
    "precision_score(y_true, y_pred)"
   ]
  },
  {
   "cell_type": "code",
   "execution_count": 70,
   "metadata": {
    "tags": []
   },
   "outputs": [
    {
     "data": {
      "text/plain": [
       "0.9952859836580766"
      ]
     },
     "execution_count": 70,
     "metadata": {},
     "output_type": "execute_result"
    }
   ],
   "source": [
    "recall_score(y_true, y_pred)"
   ]
  },
  {
   "cell_type": "markdown",
   "metadata": {},
   "source": [
    "Построим матрицу ошибок для того чтобы было видно, где ошиблась наша модель:"
   ]
  },
  {
   "cell_type": "code",
   "execution_count": 71,
   "metadata": {},
   "outputs": [
    {
     "data": {
      "image/png": "[encoded data removed]",
      "text/plain": [
       "<Figure size 640x480 with 2 Axes>"
      ]
     },
     "metadata": {},
     "output_type": "display_data"
    }
   ],
   "source": [
    "cf_matrix = confusion_matrix(y_true, y_pred)\n",
    "\n",
    "sns.heatmap(cf_matrix, annot=True,fmt='d')\n",
    "plt.ylabel('Actual labels')\n",
    "plt.xlabel('Predicted labels') \n",
    "plt.title('Confusion Matrix')\n",
    "plt.show()"
   ]
  },
  {
   "cell_type": "markdown",
   "metadata": {},
   "source": [
    "##### 1.6.4.5.4. Выводы"
   ]
  },
  {
   "cell_type": "markdown",
   "metadata": {},
   "source": [
    "Обученная на сбалансированном датасете (одинаковое число токсичных и нетоксичных комменатриев с помощью downsampling-а) показала недостаточно высокое значение F1 = 0.7 из-за очень большого количества False Positive предсказаний, зато значительно уменьшилось число False Negative (Recall ~0.995) - в этом данная модель обошла все остальные."
   ]
  },
  {
   "cell_type": "markdown",
   "metadata": {
    "tags": []
   },
   "source": [
    "### 1.6.5. Embeddings"
   ]
  },
  {
   "cell_type": "markdown",
   "metadata": {},
   "source": [
    "Сгенирируем вложения с помощью различных языковых моделей:\n",
    "* предобученной distillbert\n",
    "* той же distillbert, но уже обученной на нашем train датасете\n",
    "* базовой Bert модели\n",
    "* предобученной Roberta"
   ]
  },
  {
   "cell_type": "markdown",
   "metadata": {
    "toc-hr-collapsed": true
   },
   "source": [
    "#### 1.6.5.1. Embeddings from distillbert"
   ]
  },
  {
   "cell_type": "code",
   "execution_count": 22,
   "metadata": {},
   "outputs": [],
   "source": [
    "train_data_sampled=train_data_full #.sample(4000,random_state=13_01_23)"
   ]
  },
  {
   "cell_type": "code",
   "execution_count": 11,
   "metadata": {},
   "outputs": [],
   "source": [
    "MODEL_NAME = 'distilbert-base-uncased'\n",
    "\n",
    "tokenizer = DistilBertTokenizer.from_pretrained(MODEL_NAME)"
   ]
  },
  {
   "cell_type": "code",
   "execution_count": 12,
   "metadata": {},
   "outputs": [
    {
     "name": "stderr",
     "output_type": "stream",
     "text": [
      "Some weights of the model checkpoint at distilbert-base-uncased were not used when initializing DistilBertModel: ['vocab_projector.bias', 'vocab_layer_norm.bias', 'vocab_projector.weight', 'vocab_layer_norm.weight', 'vocab_transform.weight', 'vocab_transform.bias']\n",
      "- This IS expected if you are initializing DistilBertModel from the checkpoint of a model trained on another task or with another architecture (e.g. initializing a BertForSequenceClassification model from a BertForPreTraining model).\n",
      "- This IS NOT expected if you are initializing DistilBertModel from the checkpoint of a model that you expect to be exactly identical (initializing a BertForSequenceClassification model from a BertForSequenceClassification model).\n"
     ]
    }
   ],
   "source": [
    "model = transformers.DistilBertModel.from_pretrained(MODEL_NAME).cuda()"
   ]
  },
  {
   "cell_type": "code",
   "execution_count": 13,
   "metadata": {},
   "outputs": [],
   "source": [
    "def create_embeddings (tknzr,text_data,model_for_embeddings,batch_size):\n",
    "    all_vectors=tknzr(list(text_data),padding=True,return_attention_mask=True,truncation=True)\n",
    "    torch.cuda.empty_cache()\n",
    "    gc.collect()\n",
    "    embeddings = []\n",
    "    for i in notebook.tqdm(range(len(all_vectors.input_ids) // batch_size)):\n",
    "        batch = torch.cuda.LongTensor(all_vectors.input_ids[batch_size*i:batch_size*(i+1)]) \n",
    "        attention_mask_batch = torch.cuda.LongTensor(all_vectors.attention_mask[batch_size*i:batch_size*(i+1)])\n",
    "        \n",
    "        with torch.no_grad():\n",
    "            batch_embeddings = model_for_embeddings(batch, attention_mask=attention_mask_batch)\n",
    "        \n",
    "        embeddings.append(batch_embeddings[0][:,0,:].cpu().numpy())\n",
    "        \n",
    "    _,remainder=divmod(len(all_vectors.input_ids), batch_size)\n",
    "    #Сгенерируем эмбеддинги для остатка:\n",
    "    if remainder!=0:\n",
    "        batch = torch.cuda.LongTensor(all_vectors.input_ids[-remainder:]) \n",
    "        attention_mask_batch = torch.cuda.LongTensor(all_vectors.attention_mask[-remainder:])\n",
    "\n",
    "        with torch.no_grad():\n",
    "            batch_embeddings = model_for_embeddings(batch, attention_mask=attention_mask_batch)\n",
    "\n",
    "        embeddings.append(batch_embeddings[0][:,0,:].cpu().numpy())\n",
    "    del batch_embeddings\n",
    "    return np.concatenate(embeddings)   \n",
    "                           "
   ]
  },
  {
   "cell_type": "code",
   "execution_count": 14,
   "metadata": {},
   "outputs": [
    {
     "data": {
      "application/vnd.jupyter.widget-view+json": {
       "model_id": "",
       "version_major": 2,
       "version_minor": 0
      },
      "text/plain": [
       "  0%|          | 0/995 [00:00<?, ?it/s]"
      ]
     },
     "metadata": {},
     "output_type": "display_data"
    },
    {
     "name": "stdout",
     "output_type": "stream",
     "text": [
      "CPU times: total: 28min 39s\n",
      "Wall time: 28min 45s\n"
     ]
    }
   ],
   "source": [
    "%%time\n",
    "features=create_embeddings(tokenizer,train_data_sampled.text.values,model,128)"
   ]
  },
  {
   "cell_type": "code",
   "execution_count": 16,
   "metadata": {},
   "outputs": [],
   "source": [
    "with open('embeddings/train.pkl', 'wb') as f:\n",
    "    pickle.dump(features, f)"
   ]
  },
  {
   "cell_type": "code",
   "execution_count": 427,
   "metadata": {
    "tags": []
   },
   "outputs": [
    {
     "data": {
      "text/plain": [
       "1260"
      ]
     },
     "execution_count": 427,
     "metadata": {},
     "output_type": "execute_result"
    }
   ],
   "source": [
    "torch.cuda.empty_cache()\n",
    "gc.collect()"
   ]
  },
  {
   "cell_type": "code",
   "execution_count": 18,
   "metadata": {},
   "outputs": [
    {
     "data": {
      "application/vnd.jupyter.widget-view+json": {
       "model_id": "",
       "version_major": 2,
       "version_minor": 0
      },
      "text/plain": [
       "  0%|          | 0/248 [00:00<?, ?it/s]"
      ]
     },
     "metadata": {},
     "output_type": "display_data"
    },
    {
     "name": "stdout",
     "output_type": "stream",
     "text": [
      "CPU times: total: 7min 13s\n",
      "Wall time: 7min 14s\n"
     ]
    }
   ],
   "source": [
    "%%time\n",
    "test_features=create_embeddings(tokenizer,test_data.text.values,model,128)"
   ]
  },
  {
   "cell_type": "code",
   "execution_count": 19,
   "metadata": {},
   "outputs": [],
   "source": [
    "with open('embeddings/test.pkl', 'wb') as f:\n",
    "    pickle.dump(test_features, f)"
   ]
  },
  {
   "cell_type": "code",
   "execution_count": 23,
   "metadata": {
    "tags": []
   },
   "outputs": [],
   "source": [
    "test_target=test_data.toxic"
   ]
  },
  {
   "cell_type": "markdown",
   "metadata": {},
   "source": [
    "#### 1.6.5.2. Embeddings from distillbert trained"
   ]
  },
  {
   "cell_type": "code",
   "execution_count": 12,
   "metadata": {},
   "outputs": [],
   "source": [
    "train_data_sampled=train_data_full #.sample(4000,random_state=13_01_23)"
   ]
  },
  {
   "cell_type": "code",
   "execution_count": 13,
   "metadata": {},
   "outputs": [],
   "source": [
    "MODEL_NAME = 'distilbert-base-uncased-finetuned-sst-2-english'\n",
    "\n",
    "tokenizer = DistilBertTokenizer.from_pretrained(MODEL_NAME)"
   ]
  },
  {
   "cell_type": "code",
   "execution_count": 14,
   "metadata": {},
   "outputs": [
    {
     "name": "stderr",
     "output_type": "stream",
     "text": [
      "All TF 2.0 model weights were used when initializing DistilBertModel.\n",
      "\n",
      "All the weights of DistilBertModel were initialized from the TF 2.0 model.\n",
      "If your task is similar to the task the model of the checkpoint was trained on, you can already use DistilBertModel for predictions without further training.\n"
     ]
    }
   ],
   "source": [
    "config = transformers.DistilBertConfig.from_json_file('model/distilbert_full/config.json')\n",
    "model = transformers.DistilBertModel.from_pretrained('model\\\\distilbert_full', local_files_only=True,config=config,from_tf=True).cuda()"
   ]
  },
  {
   "cell_type": "code",
   "execution_count": 15,
   "metadata": {},
   "outputs": [],
   "source": [
    "def create_embeddings_without_tknzr (all_vectors,model_for_embeddings,batch_size):\n",
    "    torch.cuda.empty_cache()\n",
    "    gc.collect()\n",
    "    embeddings = []\n",
    "    for i in notebook.tqdm(range(len(all_vectors.input_ids) // batch_size)):\n",
    "        batch = torch.cuda.LongTensor(all_vectors.input_ids[batch_size*i:batch_size*(i+1)]) \n",
    "        attention_mask_batch = torch.cuda.LongTensor(all_vectors.attention_mask[batch_size*i:batch_size*(i+1)])\n",
    "        \n",
    "        with torch.no_grad():\n",
    "            batch_embeddings = model_for_embeddings(batch, attention_mask=attention_mask_batch)\n",
    "        \n",
    "        embeddings.append(batch_embeddings[0][:,0,:].cpu().numpy())\n",
    "        \n",
    "    _,remainder=divmod(len(all_vectors.input_ids), batch_size)\n",
    "    #Сгенерируем эмбеддинги для остатка:\n",
    "    if remainder!=0:\n",
    "        batch = torch.cuda.LongTensor(all_vectors.input_ids[-remainder:]) \n",
    "        attention_mask_batch = torch.cuda.LongTensor(all_vectors.attention_mask[-remainder:])\n",
    "\n",
    "        with torch.no_grad():\n",
    "            batch_embeddings = model_for_embeddings(batch, attention_mask=attention_mask_batch)\n",
    "\n",
    "        embeddings.append(batch_embeddings[0][:,0,:].cpu().numpy())\n",
    "    del batch_embeddings\n",
    "    return np.concatenate(embeddings)   \n",
    "                           "
   ]
  },
  {
   "cell_type": "code",
   "execution_count": 15,
   "metadata": {},
   "outputs": [
    {
     "name": "stdout",
     "output_type": "stream",
     "text": [
      "CPU times: total: 2min 57s\n",
      "Wall time: 2min 57s\n"
     ]
    }
   ],
   "source": [
    "%%time\n",
    "all_vectors=tokenizer(list(train_data_sampled.text.values),padding=True,return_attention_mask=True,truncation=True)"
   ]
  },
  {
   "cell_type": "code",
   "execution_count": 31,
   "metadata": {},
   "outputs": [],
   "source": [
    "with open('embeddings/train_distilbert_vectors.pkl', 'wb') as f:\n",
    "    pickle.dump(all_vectors, f)"
   ]
  },
  {
   "cell_type": "code",
   "execution_count": 16,
   "metadata": {},
   "outputs": [],
   "source": [
    "with open('embeddings/train_distilbert_vectors.pkl', 'rb') as file:\n",
    "    all_vectors = pickle.load(file)"
   ]
  },
  {
   "cell_type": "code",
   "execution_count": 20,
   "metadata": {},
   "outputs": [
    {
     "data": {
      "application/vnd.jupyter.widget-view+json": {
       "model_id": "",
       "version_major": 2,
       "version_minor": 0
      },
      "text/plain": [
       "  0%|          | 0/127434 [00:00<?, ?it/s]"
      ]
     },
     "metadata": {},
     "output_type": "display_data"
    },
    {
     "name": "stdout",
     "output_type": "stream",
     "text": [
      "CPU times: total: 30min 11s\n",
      "Wall time: 30min 17s\n"
     ]
    }
   ],
   "source": [
    "%%time\n",
    "features=create_embeddings_without_tknzr(all_vectors,model,1)"
   ]
  },
  {
   "cell_type": "code",
   "execution_count": 21,
   "metadata": {},
   "outputs": [],
   "source": [
    "with open('embeddings/train_distilbert_finetuned.pkl', 'wb') as f:\n",
    "    pickle.dump(features, f)"
   ]
  },
  {
   "cell_type": "code",
   "execution_count": 39,
   "metadata": {},
   "outputs": [
    {
     "name": "stdout",
     "output_type": "stream",
     "text": [
      "CPU times: total: 42.9 s\n",
      "Wall time: 42.9 s\n"
     ]
    }
   ],
   "source": [
    "%%time\n",
    "test_vectors=tokenizer(list(test_data.text.values),padding=True,return_attention_mask=True,truncation=True)"
   ]
  },
  {
   "cell_type": "code",
   "execution_count": 40,
   "metadata": {},
   "outputs": [],
   "source": [
    "with open('embeddings/test_distilbert_vectors.pkl', 'wb') as f:\n",
    "    pickle.dump(test_vectors, f)"
   ]
  },
  {
   "cell_type": "code",
   "execution_count": 25,
   "metadata": {
    "tags": []
   },
   "outputs": [
    {
     "data": {
      "text/plain": [
       "483"
      ]
     },
     "execution_count": 25,
     "metadata": {},
     "output_type": "execute_result"
    }
   ],
   "source": [
    "torch.cuda.empty_cache()\n",
    "gc.collect()"
   ]
  },
  {
   "cell_type": "code",
   "execution_count": null,
   "metadata": {},
   "outputs": [
    {
     "data": {
      "application/vnd.jupyter.widget-view+json": {
       "model_id": "",
       "version_major": 2,
       "version_minor": 0
      },
      "text/plain": [
       "  0%|          | 0/31858 [00:00<?, ?it/s]"
      ]
     },
     "metadata": {},
     "output_type": "display_data"
    },
    {
     "name": "stdout",
     "output_type": "stream",
     "text": [
      "CPU times: total: 7min 30s\n",
      "Wall time: 7min 33s\n"
     ]
    }
   ],
   "source": [
    "%%time\n",
    "test_features=create_embeddings_without_tknzr(test_vectors,model,1)"
   ]
  },
  {
   "cell_type": "code",
   "execution_count": 56,
   "metadata": {},
   "outputs": [],
   "source": [
    "with open('embeddings/test_distilbert_finetuned.pkl', 'wb') as f:\n",
    "    pickle.dump(test_features, f)"
   ]
  },
  {
   "cell_type": "code",
   "execution_count": 30,
   "metadata": {},
   "outputs": [],
   "source": [
    "del features"
   ]
  },
  {
   "cell_type": "code",
   "execution_count": 32,
   "metadata": {
    "tags": []
   },
   "outputs": [
    {
     "data": {
      "text/plain": [
       "0"
      ]
     },
     "execution_count": 32,
     "metadata": {},
     "output_type": "execute_result"
    }
   ],
   "source": [
    "torch.cuda.empty_cache()\n",
    "gc.collect()"
   ]
  },
  {
   "cell_type": "markdown",
   "metadata": {
    "toc-hr-collapsed": true
   },
   "source": [
    "#### 1.6.5.3. Embeddings from Bert"
   ]
  },
  {
   "cell_type": "code",
   "execution_count": 220,
   "metadata": {},
   "outputs": [],
   "source": [
    "train_data_sampled=train_data_full #.sample(4000,random_state=13_01_23)"
   ]
  },
  {
   "cell_type": "code",
   "execution_count": 221,
   "metadata": {},
   "outputs": [],
   "source": [
    "MODEL_NAME = 'bert-base-uncased'\n",
    "\n",
    "tokenizer = transformers.BertTokenizer.from_pretrained(MODEL_NAME)"
   ]
  },
  {
   "cell_type": "code",
   "execution_count": 222,
   "metadata": {},
   "outputs": [
    {
     "name": "stderr",
     "output_type": "stream",
     "text": [
      "Some weights of the model checkpoint at bert-base-uncased were not used when initializing BertModel: ['cls.predictions.transform.dense.bias', 'cls.predictions.transform.LayerNorm.bias', 'cls.predictions.transform.LayerNorm.weight', 'cls.seq_relationship.bias', 'cls.seq_relationship.weight', 'cls.predictions.decoder.weight', 'cls.predictions.transform.dense.weight', 'cls.predictions.bias']\n",
      "- This IS expected if you are initializing BertModel from the checkpoint of a model trained on another task or with another architecture (e.g. initializing a BertForSequenceClassification model from a BertForPreTraining model).\n",
      "- This IS NOT expected if you are initializing BertModel from the checkpoint of a model that you expect to be exactly identical (initializing a BertForSequenceClassification model from a BertForSequenceClassification model).\n"
     ]
    }
   ],
   "source": [
    "model = transformers.BertModel.from_pretrained(MODEL_NAME).cuda()"
   ]
  },
  {
   "cell_type": "code",
   "execution_count": 224,
   "metadata": {},
   "outputs": [
    {
     "data": {
      "application/vnd.jupyter.widget-view+json": {
       "model_id": "",
       "version_major": 2,
       "version_minor": 0
      },
      "text/plain": [
       "  0%|          | 0/995 [00:00<?, ?it/s]"
      ]
     },
     "metadata": {},
     "output_type": "display_data"
    },
    {
     "name": "stdout",
     "output_type": "stream",
     "text": [
      "CPU times: total: 54min 20s\n",
      "Wall time: 54min 21s\n"
     ]
    }
   ],
   "source": [
    "%%time\n",
    "features=create_embeddings(tokenizer,train_data_sampled.text.values,model,128)"
   ]
  },
  {
   "cell_type": "code",
   "execution_count": 225,
   "metadata": {},
   "outputs": [],
   "source": [
    "with open('embeddings/train_bert.pkl', 'wb') as f:\n",
    "    pickle.dump(features, f)"
   ]
  },
  {
   "cell_type": "code",
   "execution_count": 226,
   "metadata": {
    "tags": []
   },
   "outputs": [
    {
     "data": {
      "text/plain": [
       "18"
      ]
     },
     "execution_count": 226,
     "metadata": {},
     "output_type": "execute_result"
    }
   ],
   "source": [
    "torch.cuda.empty_cache()\n",
    "gc.collect()"
   ]
  },
  {
   "cell_type": "code",
   "execution_count": 227,
   "metadata": {},
   "outputs": [
    {
     "data": {
      "application/vnd.jupyter.widget-view+json": {
       "model_id": "",
       "version_major": 2,
       "version_minor": 0
      },
      "text/plain": [
       "  0%|          | 0/248 [00:00<?, ?it/s]"
      ]
     },
     "metadata": {},
     "output_type": "display_data"
    },
    {
     "name": "stdout",
     "output_type": "stream",
     "text": [
      "CPU times: total: 13min 56s\n",
      "Wall time: 13min 57s\n"
     ]
    }
   ],
   "source": [
    "%%time\n",
    "test_features=create_embeddings(tokenizer,test_data.text.values,model,128)"
   ]
  },
  {
   "cell_type": "code",
   "execution_count": 228,
   "metadata": {},
   "outputs": [],
   "source": [
    "with open('embeddings/test_bert.pkl', 'wb') as f:\n",
    "    pickle.dump(test_features, f)"
   ]
  },
  {
   "cell_type": "markdown",
   "metadata": {},
   "source": [
    "#### 1.6.5.4. Embeddings from Roberta"
   ]
  },
  {
   "cell_type": "code",
   "execution_count": 353,
   "metadata": {},
   "outputs": [],
   "source": [
    "train_data_sampled=train_data_full #.sample(4000,random_state=13_01_23)"
   ]
  },
  {
   "cell_type": "code",
   "execution_count": 12,
   "metadata": {},
   "outputs": [],
   "source": [
    "MODEL_NAME = 's-nlp/roberta_toxicity_classifier'"
   ]
  },
  {
   "cell_type": "code",
   "execution_count": 13,
   "metadata": {},
   "outputs": [],
   "source": [
    "tokenizer = RobertaTokenizer.from_pretrained(MODEL_NAME)"
   ]
  },
  {
   "cell_type": "code",
   "execution_count": 14,
   "metadata": {},
   "outputs": [
    {
     "name": "stderr",
     "output_type": "stream",
     "text": [
      "All PyTorch model weights were used when initializing TFRobertaForSequenceClassification.\n",
      "\n",
      "All the weights of TFRobertaForSequenceClassification were initialized from the PyTorch model.\n",
      "If your task is similar to the task the model of the checkpoint was trained on, you can already use TFRobertaForSequenceClassification for predictions without further training.\n"
     ]
    }
   ],
   "source": [
    "# используем `from_pt` чтобы сконвертировать модель из PyTorch в TensorFlow\n",
    "model = TFRobertaForSequenceClassification.from_pretrained(MODEL_NAME, from_pt=True)"
   ]
  },
  {
   "cell_type": "code",
   "execution_count": 127,
   "metadata": {},
   "outputs": [
    {
     "data": {
      "application/vnd.jupyter.widget-view+json": {
       "model_id": "",
       "version_major": 2,
       "version_minor": 0
      },
      "text/plain": [
       "  0%|          | 0/1991 [00:00<?, ?it/s]"
      ]
     },
     "metadata": {},
     "output_type": "display_data"
    },
    {
     "name": "stdout",
     "output_type": "stream",
     "text": [
      "CPU times: total: 50min 19s\n",
      "Wall time: 50min 20s\n"
     ]
    }
   ],
   "source": [
    "%%time\n",
    "features=create_embeddings(tokenizer,train_data_sampled.text.values,model,64)"
   ]
  },
  {
   "cell_type": "code",
   "execution_count": 128,
   "metadata": {},
   "outputs": [],
   "source": [
    "with open('embeddings/train_roberta.pkl', 'wb') as f:\n",
    "    pickle.dump(features, f)"
   ]
  },
  {
   "cell_type": "code",
   "execution_count": 120,
   "metadata": {
    "tags": []
   },
   "outputs": [
    {
     "data": {
      "text/plain": [
       "921"
      ]
     },
     "execution_count": 120,
     "metadata": {},
     "output_type": "execute_result"
    }
   ],
   "source": [
    "torch.cuda.empty_cache()\n",
    "gc.collect()"
   ]
  },
  {
   "cell_type": "code",
   "execution_count": 129,
   "metadata": {},
   "outputs": [
    {
     "data": {
      "application/vnd.jupyter.widget-view+json": {
       "model_id": "",
       "version_major": 2,
       "version_minor": 0
      },
      "text/plain": [
       "  0%|          | 0/248 [00:00<?, ?it/s]"
      ]
     },
     "metadata": {},
     "output_type": "display_data"
    },
    {
     "name": "stdout",
     "output_type": "stream",
     "text": [
      "CPU times: total: 12min 41s\n",
      "Wall time: 12min 42s\n"
     ]
    }
   ],
   "source": [
    "%%time\n",
    "test_features=create_embeddings(tokenizer,test_data.text.values,model,128)"
   ]
  },
  {
   "cell_type": "code",
   "execution_count": 130,
   "metadata": {},
   "outputs": [],
   "source": [
    "with open('embeddings/test_roberta.pkl', 'wb') as f:\n",
    "    pickle.dump(test_features, f)"
   ]
  },
  {
   "cell_type": "markdown",
   "metadata": {},
   "source": [
    "#### 1.6.5.5. Логистическая регрессия"
   ]
  },
  {
   "cell_type": "markdown",
   "metadata": {},
   "source": [
    "Обучим логистическую регрессию и сравним результаты на embedding-ах от различных языковых моделей "
   ]
  },
  {
   "cell_type": "markdown",
   "metadata": {
    "tags": []
   },
   "source": [
    "##### 1.6.5.5.1. Roberta embeddings"
   ]
  },
  {
   "cell_type": "code",
   "execution_count": 72,
   "metadata": {
    "tags": []
   },
   "outputs": [],
   "source": [
    "with open('embeddings/train_roberta.pkl', 'rb') as file:\n",
    "    features = pickle.load(file)"
   ]
  },
  {
   "cell_type": "code",
   "execution_count": 73,
   "metadata": {},
   "outputs": [],
   "source": [
    "X_train=features\n",
    "y_train=train_data_full.toxic"
   ]
  },
  {
   "cell_type": "code",
   "execution_count": 74,
   "metadata": {
    "tags": []
   },
   "outputs": [],
   "source": [
    "model_logit_blncd= LogisticRegression(\n",
    "                random_state=13_01_23, \n",
    "    solver=\"lbfgs\",\n",
    "    max_iter=220, \n",
    "    class_weight=\"balanced\",\n",
    "    n_jobs=-1\n",
    "            )"
   ]
  },
  {
   "cell_type": "code",
   "execution_count": 75,
   "metadata": {},
   "outputs": [
    {
     "name": "stdout",
     "output_type": "stream",
     "text": [
      "CPU times: total: 984 ms\n",
      "Wall time: 22.5 s\n"
     ]
    },
    {
     "data": {
      "text/plain": [
       "LogisticRegression(class_weight='balanced', max_iter=220, n_jobs=-1,\n",
       "                   random_state=130123)"
      ]
     },
     "execution_count": 75,
     "metadata": {},
     "output_type": "execute_result"
    }
   ],
   "source": [
    "%%time\n",
    "model_logit_blncd.fit(X_train, y_train)"
   ]
  },
  {
   "cell_type": "markdown",
   "metadata": {},
   "source": [
    "Посмотрим на результаты модели на train датасете:"
   ]
  },
  {
   "cell_type": "code",
   "execution_count": 76,
   "metadata": {},
   "outputs": [
    {
     "data": {
      "text/plain": [
       "0.813223574169427"
      ]
     },
     "execution_count": 76,
     "metadata": {},
     "output_type": "execute_result"
    }
   ],
   "source": [
    "f1_score(y_train, model_logit_blncd.predict(X_train))"
   ]
  },
  {
   "cell_type": "markdown",
   "metadata": {},
   "source": [
    "Найдем оптимальные значения параметра max_iter с помощью GridSearchCV:"
   ]
  },
  {
   "cell_type": "code",
   "execution_count": 77,
   "metadata": {},
   "outputs": [],
   "source": [
    "parameters = {\n",
    "    \"max_iter\": list(range(100, 401, 100)),  # uniform(loc=50, scale=20)\n",
    "    \n",
    "}"
   ]
  },
  {
   "cell_type": "code",
   "execution_count": 78,
   "metadata": {},
   "outputs": [
    {
     "name": "stdout",
     "output_type": "stream",
     "text": [
      "Fitting 3 folds for each of 4 candidates, totalling 12 fits\n",
      "\n",
      "CPU times: total: 1.34 s\n",
      "Wall time: 2min 59s\n"
     ]
    }
   ],
   "source": [
    "%%time\n",
    "grid_lr = GridSearchCV(\n",
    "    model_logit_blncd,\n",
    "    parameters,\n",
    "    # n_iter=10,\n",
    "    verbose=300,\n",
    "    scoring='f1',\n",
    "    cv=3,\n",
    "    n_jobs=7,\n",
    "    # random_state=13_01_23,\n",
    ")\n",
    "\n",
    "grid_lr.fit(X_train, y_train)\n",
    "print()"
   ]
  },
  {
   "cell_type": "code",
   "execution_count": 79,
   "metadata": {},
   "outputs": [
    {
     "data": {
      "text/plain": [
       "{'max_iter': 400}"
      ]
     },
     "execution_count": 79,
     "metadata": {},
     "output_type": "execute_result"
    }
   ],
   "source": [
    "grid_lr.best_params_"
   ]
  },
  {
   "cell_type": "markdown",
   "metadata": {
    "tags": []
   },
   "source": [
    "###### 1.6.5.5.1.1. Validation"
   ]
  },
  {
   "cell_type": "code",
   "execution_count": 80,
   "metadata": {},
   "outputs": [],
   "source": [
    "valid_split_filter=train_data_full.index.isin(valid_data.index)"
   ]
  },
  {
   "cell_type": "code",
   "execution_count": 81,
   "metadata": {},
   "outputs": [],
   "source": [
    "features_valid=features[valid_split_filter]\n",
    "features_train=features[~valid_split_filter]"
   ]
  },
  {
   "cell_type": "code",
   "execution_count": 82,
   "metadata": {},
   "outputs": [],
   "source": [
    "target_valid=train_data_full[valid_split_filter].toxic.values.ravel()\n",
    "target_train=train_data_full[~valid_split_filter].toxic.values.ravel()"
   ]
  },
  {
   "cell_type": "code",
   "execution_count": 83,
   "metadata": {},
   "outputs": [
    {
     "data": {
      "text/plain": [
       "(31858, 768)"
      ]
     },
     "execution_count": 83,
     "metadata": {},
     "output_type": "execute_result"
    }
   ],
   "source": [
    "features_valid.shape"
   ]
  },
  {
   "cell_type": "code",
   "execution_count": 84,
   "metadata": {},
   "outputs": [
    {
     "data": {
      "text/plain": [
       "(95576, 768)"
      ]
     },
     "execution_count": 84,
     "metadata": {},
     "output_type": "execute_result"
    }
   ],
   "source": [
    "features_train.shape"
   ]
  },
  {
   "cell_type": "code",
   "execution_count": 85,
   "metadata": {},
   "outputs": [],
   "source": [
    "X_train=features_train\n",
    "y_train=target_train"
   ]
  },
  {
   "cell_type": "code",
   "execution_count": 86,
   "metadata": {},
   "outputs": [
    {
     "name": "stdout",
     "output_type": "stream",
     "text": [
      "\n",
      "CPU times: total: 484 ms\n",
      "Wall time: 27.9 s\n"
     ]
    }
   ],
   "source": [
    "%%time\n",
    "grid_lr.best_estimator_.fit(X_train, y_train)\n",
    "print()"
   ]
  },
  {
   "cell_type": "code",
   "execution_count": 87,
   "metadata": {},
   "outputs": [],
   "source": [
    "y_pred=grid_lr.best_estimator_.predict(features_valid)\n",
    "y_true=target_valid"
   ]
  },
  {
   "cell_type": "code",
   "execution_count": 88,
   "metadata": {},
   "outputs": [
    {
     "name": "stdout",
     "output_type": "stream",
     "text": [
      "--Results for validation data--\n",
      "F1-score: 0.8017411950929956\n",
      "Precision score: 0.6908388270061377\n",
      "Recall score: 0.9550597108736644\n",
      "\n",
      "\n"
     ]
    },
    {
     "data": {
      "image/png": "[encoded data removed]",
      "text/plain": [
       "<Figure size 640x480 with 2 Axes>"
      ]
     },
     "metadata": {},
     "output_type": "display_data"
    }
   ],
   "source": [
    "show_model_results(y_true,y_pred)"
   ]
  },
  {
   "cell_type": "markdown",
   "metadata": {
    "tags": []
   },
   "source": [
    "##### 1.6.5.5.2. Distillbert fine-tuned embeddings"
   ]
  },
  {
   "cell_type": "code",
   "execution_count": 89,
   "metadata": {},
   "outputs": [],
   "source": [
    "with open('embeddings/train_distilbert_finetuned.pkl', 'rb') as file:\n",
    "    features = pickle.load(file)"
   ]
  },
  {
   "cell_type": "code",
   "execution_count": 90,
   "metadata": {},
   "outputs": [],
   "source": [
    "X_train=features\n",
    "y_train=train_data_full.toxic"
   ]
  },
  {
   "cell_type": "code",
   "execution_count": 91,
   "metadata": {
    "tags": []
   },
   "outputs": [],
   "source": [
    "model_logit_blncd= LogisticRegression(\n",
    "                random_state=13_01_23, \n",
    "    solver=\"lbfgs\",\n",
    "    max_iter=220, \n",
    "    class_weight=\"balanced\",\n",
    "    n_jobs=-1\n",
    "            )"
   ]
  },
  {
   "cell_type": "code",
   "execution_count": 92,
   "metadata": {},
   "outputs": [
    {
     "name": "stdout",
     "output_type": "stream",
     "text": [
      "CPU times: total: 609 ms\n",
      "Wall time: 21.2 s\n"
     ]
    },
    {
     "data": {
      "text/plain": [
       "LogisticRegression(class_weight='balanced', max_iter=220, n_jobs=-1,\n",
       "                   random_state=130123)"
      ]
     },
     "execution_count": 92,
     "metadata": {},
     "output_type": "execute_result"
    }
   ],
   "source": [
    "%%time\n",
    "model_logit_blncd.fit(X_train, y_train)"
   ]
  },
  {
   "cell_type": "code",
   "execution_count": 93,
   "metadata": {},
   "outputs": [
    {
     "data": {
      "text/plain": [
       "0.8842922244374822"
      ]
     },
     "execution_count": 93,
     "metadata": {},
     "output_type": "execute_result"
    }
   ],
   "source": [
    "f1_score(y_train, model_logit_blncd.predict(X_train))"
   ]
  },
  {
   "cell_type": "markdown",
   "metadata": {},
   "source": [
    "Найдем оптимальные значения параметра max_iter с помощью GridSearchCV:"
   ]
  },
  {
   "cell_type": "code",
   "execution_count": 94,
   "metadata": {},
   "outputs": [],
   "source": [
    "parameters = {\n",
    "    \"max_iter\": list(range(100, 401, 100)),  # uniform(loc=50, scale=20)\n",
    "    \n",
    "}"
   ]
  },
  {
   "cell_type": "code",
   "execution_count": 95,
   "metadata": {},
   "outputs": [],
   "source": [
    "grid_lr = GridSearchCV(\n",
    "    model_logit_blncd,\n",
    "    parameters,\n",
    "    # n_iter=10,\n",
    "    verbose=300,\n",
    "    scoring='f1',\n",
    "    cv=3,\n",
    "    n_jobs=-1,\n",
    "    # random_state=13_01_23,\n",
    ")"
   ]
  },
  {
   "cell_type": "code",
   "execution_count": 96,
   "metadata": {},
   "outputs": [
    {
     "name": "stdout",
     "output_type": "stream",
     "text": [
      "Fitting 3 folds for each of 4 candidates, totalling 12 fits\n",
      "\n",
      "CPU times: total: 1.22 s\n",
      "Wall time: 2min 53s\n"
     ]
    }
   ],
   "source": [
    "%%time\n",
    "grid_lr.fit(X_train, y_train)\n",
    "print()"
   ]
  },
  {
   "cell_type": "code",
   "execution_count": 97,
   "metadata": {},
   "outputs": [
    {
     "data": {
      "text/plain": [
       "{'max_iter': 400}"
      ]
     },
     "execution_count": 97,
     "metadata": {},
     "output_type": "execute_result"
    }
   ],
   "source": [
    "grid_lr.best_params_"
   ]
  },
  {
   "cell_type": "markdown",
   "metadata": {
    "tags": []
   },
   "source": [
    "###### 1.6.5.5.2.1. Validation"
   ]
  },
  {
   "cell_type": "code",
   "execution_count": 98,
   "metadata": {},
   "outputs": [],
   "source": [
    "valid_split_filter=train_data_full.index.isin(valid_data.index)"
   ]
  },
  {
   "cell_type": "code",
   "execution_count": 99,
   "metadata": {},
   "outputs": [],
   "source": [
    "features_valid=features[valid_split_filter]\n",
    "features_train=features[~valid_split_filter]"
   ]
  },
  {
   "cell_type": "code",
   "execution_count": 100,
   "metadata": {},
   "outputs": [],
   "source": [
    "target_valid=train_data_full[valid_split_filter].toxic.values.ravel()\n",
    "target_train=train_data_full[~valid_split_filter].toxic.values.ravel()"
   ]
  },
  {
   "cell_type": "code",
   "execution_count": 101,
   "metadata": {},
   "outputs": [
    {
     "data": {
      "text/plain": [
       "(31858, 768)"
      ]
     },
     "execution_count": 101,
     "metadata": {},
     "output_type": "execute_result"
    }
   ],
   "source": [
    "features_valid.shape"
   ]
  },
  {
   "cell_type": "code",
   "execution_count": 102,
   "metadata": {},
   "outputs": [
    {
     "data": {
      "text/plain": [
       "(95576, 768)"
      ]
     },
     "execution_count": 102,
     "metadata": {},
     "output_type": "execute_result"
    }
   ],
   "source": [
    "features_train.shape"
   ]
  },
  {
   "cell_type": "code",
   "execution_count": 103,
   "metadata": {},
   "outputs": [],
   "source": [
    "X_train=features_train\n",
    "y_train=target_train"
   ]
  },
  {
   "cell_type": "code",
   "execution_count": 104,
   "metadata": {},
   "outputs": [
    {
     "name": "stdout",
     "output_type": "stream",
     "text": [
      "\n",
      "CPU times: total: 516 ms\n",
      "Wall time: 27.1 s\n"
     ]
    }
   ],
   "source": [
    "%%time\n",
    "grid_lr.best_estimator_.fit(X_train, y_train)\n",
    "print()"
   ]
  },
  {
   "cell_type": "code",
   "execution_count": 105,
   "metadata": {},
   "outputs": [],
   "source": [
    "y_pred=grid_lr.best_estimator_.predict(features_valid)\n",
    "y_true=target_valid"
   ]
  },
  {
   "cell_type": "code",
   "execution_count": 106,
   "metadata": {},
   "outputs": [
    {
     "name": "stdout",
     "output_type": "stream",
     "text": [
      "--Results for validation data--\n",
      "F1-score: 0.8036410923276983\n",
      "Precision score: 0.7437817598288312\n",
      "Recall score: 0.8739786297925832\n",
      "\n",
      "\n"
     ]
    },
    {
     "data": {
      "image/png": "[encoded data removed]",
      "text/plain": [
       "<Figure size 640x480 with 2 Axes>"
      ]
     },
     "metadata": {},
     "output_type": "display_data"
    }
   ],
   "source": [
    "show_model_results(y_true,y_pred)"
   ]
  },
  {
   "cell_type": "markdown",
   "metadata": {
    "tags": []
   },
   "source": [
    "##### 1.6.5.5.3. Bert base trained embeddings"
   ]
  },
  {
   "cell_type": "code",
   "execution_count": 107,
   "metadata": {},
   "outputs": [],
   "source": [
    "with open('embeddings/train_bert.pkl', 'rb') as file:\n",
    "    features = pickle.load(file)"
   ]
  },
  {
   "cell_type": "code",
   "execution_count": 108,
   "metadata": {},
   "outputs": [],
   "source": [
    "X_train=features\n",
    "y_train=train_data_full.toxic"
   ]
  },
  {
   "cell_type": "code",
   "execution_count": 109,
   "metadata": {
    "tags": []
   },
   "outputs": [],
   "source": [
    "model_logit_blncd= LogisticRegression(\n",
    "                random_state=13_01_23, \n",
    "    solver=\"lbfgs\",\n",
    "    max_iter=220, \n",
    "    class_weight=\"balanced\",\n",
    "    n_jobs=-1\n",
    "            )"
   ]
  },
  {
   "cell_type": "code",
   "execution_count": 110,
   "metadata": {},
   "outputs": [
    {
     "name": "stdout",
     "output_type": "stream",
     "text": [
      "CPU times: total: 656 ms\n",
      "Wall time: 21.1 s\n"
     ]
    },
    {
     "data": {
      "text/plain": [
       "LogisticRegression(class_weight='balanced', max_iter=220, n_jobs=-1,\n",
       "                   random_state=130123)"
      ]
     },
     "execution_count": 110,
     "metadata": {},
     "output_type": "execute_result"
    }
   ],
   "source": [
    "%%time\n",
    "model_logit_blncd.fit(X_train, y_train)"
   ]
  },
  {
   "cell_type": "code",
   "execution_count": 111,
   "metadata": {},
   "outputs": [
    {
     "data": {
      "text/plain": [
       "0.6565344372926532"
      ]
     },
     "execution_count": 111,
     "metadata": {},
     "output_type": "execute_result"
    }
   ],
   "source": [
    "f1_score(y_train, model_logit_blncd.predict(X_train))"
   ]
  },
  {
   "cell_type": "markdown",
   "metadata": {},
   "source": [
    "Попробуем улучшить полученные значения с помощью GridSearchCV:"
   ]
  },
  {
   "cell_type": "code",
   "execution_count": 112,
   "metadata": {},
   "outputs": [],
   "source": [
    "parameters = {\n",
    "    \"max_iter\": list(range(100, 401, 100)),  # uniform(loc=50, scale=20)\n",
    "    \n",
    "}"
   ]
  },
  {
   "cell_type": "code",
   "execution_count": 113,
   "metadata": {},
   "outputs": [],
   "source": [
    "grid_lr = GridSearchCV(\n",
    "    model_logit_blncd,\n",
    "    parameters,\n",
    "    # n_iter=10,\n",
    "    verbose=300,\n",
    "    scoring='f1',\n",
    "    cv=3,\n",
    "    n_jobs=-1,\n",
    "    # random_state=13_01_23,\n",
    ")"
   ]
  },
  {
   "cell_type": "code",
   "execution_count": 114,
   "metadata": {},
   "outputs": [
    {
     "name": "stdout",
     "output_type": "stream",
     "text": [
      "Fitting 3 folds for each of 4 candidates, totalling 12 fits\n",
      "CPU times: total: 1.05 s\n",
      "Wall time: 2min 23s\n"
     ]
    },
    {
     "data": {
      "text/plain": [
       "GridSearchCV(cv=3,\n",
       "             estimator=LogisticRegression(class_weight='balanced', max_iter=220,\n",
       "                                          n_jobs=-1, random_state=130123),\n",
       "             n_jobs=-1, param_grid={'max_iter': [100, 200, 300, 400]},\n",
       "             scoring='f1', verbose=300)"
      ]
     },
     "execution_count": 114,
     "metadata": {},
     "output_type": "execute_result"
    }
   ],
   "source": [
    "%%time\n",
    "grid_lr.fit(X_train, y_train)"
   ]
  },
  {
   "cell_type": "code",
   "execution_count": 115,
   "metadata": {},
   "outputs": [
    {
     "data": {
      "text/plain": [
       "{'max_iter': 200}"
      ]
     },
     "execution_count": 115,
     "metadata": {},
     "output_type": "execute_result"
    }
   ],
   "source": [
    "grid_lr.best_params_"
   ]
  },
  {
   "cell_type": "markdown",
   "metadata": {
    "tags": []
   },
   "source": [
    "###### 1.6.5.5.3.1. Validation"
   ]
  },
  {
   "cell_type": "code",
   "execution_count": 116,
   "metadata": {},
   "outputs": [],
   "source": [
    "valid_split_filter=train_data_full.index.isin(valid_data.index)"
   ]
  },
  {
   "cell_type": "code",
   "execution_count": 117,
   "metadata": {},
   "outputs": [],
   "source": [
    "features_valid=features[valid_split_filter]\n",
    "features_train=features[~valid_split_filter]"
   ]
  },
  {
   "cell_type": "code",
   "execution_count": 118,
   "metadata": {},
   "outputs": [],
   "source": [
    "target_valid=train_data_full[valid_split_filter].toxic.values.ravel()\n",
    "target_train=train_data_full[~valid_split_filter].toxic.values.ravel()"
   ]
  },
  {
   "cell_type": "code",
   "execution_count": 119,
   "metadata": {},
   "outputs": [
    {
     "data": {
      "text/plain": [
       "(31858, 768)"
      ]
     },
     "execution_count": 119,
     "metadata": {},
     "output_type": "execute_result"
    }
   ],
   "source": [
    "features_valid.shape"
   ]
  },
  {
   "cell_type": "code",
   "execution_count": 120,
   "metadata": {},
   "outputs": [
    {
     "data": {
      "text/plain": [
       "(95576, 768)"
      ]
     },
     "execution_count": 120,
     "metadata": {},
     "output_type": "execute_result"
    }
   ],
   "source": [
    "features_train.shape"
   ]
  },
  {
   "cell_type": "code",
   "execution_count": 121,
   "metadata": {},
   "outputs": [],
   "source": [
    "X_train=features_train\n",
    "y_train=target_train"
   ]
  },
  {
   "cell_type": "code",
   "execution_count": 122,
   "metadata": {},
   "outputs": [
    {
     "name": "stdout",
     "output_type": "stream",
     "text": [
      "CPU times: total: 500 ms\n",
      "Wall time: 15.2 s\n"
     ]
    },
    {
     "data": {
      "text/plain": [
       "LogisticRegression(class_weight='balanced', max_iter=200, n_jobs=-1,\n",
       "                   random_state=130123)"
      ]
     },
     "execution_count": 122,
     "metadata": {},
     "output_type": "execute_result"
    }
   ],
   "source": [
    "%%time\n",
    "grid_lr.best_estimator_.fit(X_train, y_train)"
   ]
  },
  {
   "cell_type": "code",
   "execution_count": 123,
   "metadata": {},
   "outputs": [],
   "source": [
    "y_pred=grid_lr.best_estimator_.predict(features_valid)\n",
    "y_true=target_valid"
   ]
  },
  {
   "cell_type": "code",
   "execution_count": 124,
   "metadata": {},
   "outputs": [
    {
     "name": "stdout",
     "output_type": "stream",
     "text": [
      "--Results for validation data--\n",
      "F1-score: 0.6464532186898971\n",
      "Precision score: 0.5050380060102528\n",
      "Recall score: 0.8978629792583281\n",
      "\n",
      "\n"
     ]
    },
    {
     "data": {
      "image/png": "[encoded data removed]",
      "text/plain": [
       "<Figure size 640x480 with 2 Axes>"
      ]
     },
     "metadata": {},
     "output_type": "display_data"
    }
   ],
   "source": [
    "show_model_results(y_true,y_pred)"
   ]
  },
  {
   "cell_type": "markdown",
   "metadata": {
    "tags": []
   },
   "source": [
    "##### 1.6.5.5.4. Выводы"
   ]
  },
  {
   "cell_type": "markdown",
   "metadata": {},
   "source": [
    "Логистическая регрессия моделей показала результат выше необходимого уровня (F1 ~0.8) для эмбеддиногов от предобученной модели для определения токсичности Roberta и обученной нами на тех же train-данных DistillBert-модели, на эмбеддингах от базовой Bert модели результаты неудовлетворительные (F1 0.64)."
   ]
  },
  {
   "cell_type": "markdown",
   "metadata": {},
   "source": [
    "#### 1.6.5.6. Дерево решений"
   ]
  },
  {
   "cell_type": "markdown",
   "metadata": {},
   "source": [
    "Попробуем обучим дерево решений без перебора параметров на одних из эффективных эмбеддингах (от Roberta toxic):"
   ]
  },
  {
   "cell_type": "code",
   "execution_count": 125,
   "metadata": {},
   "outputs": [],
   "source": [
    "model_dtc_blncd = DecisionTreeClassifier(\n",
    "                random_state=22_10_22, max_depth=17, class_weight=\"balanced\"\n",
    "            )"
   ]
  },
  {
   "cell_type": "code",
   "execution_count": 126,
   "metadata": {
    "tags": []
   },
   "outputs": [],
   "source": [
    "with open('embeddings/train_roberta.pkl', 'rb') as file:\n",
    "    features = pickle.load(file)"
   ]
  },
  {
   "cell_type": "code",
   "execution_count": 127,
   "metadata": {},
   "outputs": [],
   "source": [
    "valid_split_filter=train_data_full.index.isin(valid_data.index)"
   ]
  },
  {
   "cell_type": "code",
   "execution_count": 128,
   "metadata": {},
   "outputs": [],
   "source": [
    "features_valid=features[valid_split_filter]\n",
    "features_train=features[~valid_split_filter]"
   ]
  },
  {
   "cell_type": "code",
   "execution_count": 129,
   "metadata": {},
   "outputs": [],
   "source": [
    "target_valid=train_data_full[valid_split_filter].toxic.values.ravel()\n",
    "target_train=train_data_full[~valid_split_filter].toxic.values.ravel()"
   ]
  },
  {
   "cell_type": "code",
   "execution_count": 130,
   "metadata": {},
   "outputs": [
    {
     "data": {
      "text/plain": [
       "(31858, 768)"
      ]
     },
     "execution_count": 130,
     "metadata": {},
     "output_type": "execute_result"
    }
   ],
   "source": [
    "features_valid.shape"
   ]
  },
  {
   "cell_type": "code",
   "execution_count": 131,
   "metadata": {},
   "outputs": [
    {
     "data": {
      "text/plain": [
       "(95576, 768)"
      ]
     },
     "execution_count": 131,
     "metadata": {},
     "output_type": "execute_result"
    }
   ],
   "source": [
    "features_train.shape"
   ]
  },
  {
   "cell_type": "code",
   "execution_count": 132,
   "metadata": {},
   "outputs": [],
   "source": [
    "X_train=features_train\n",
    "y_train=target_train"
   ]
  },
  {
   "cell_type": "code",
   "execution_count": 133,
   "metadata": {},
   "outputs": [
    {
     "name": "stdout",
     "output_type": "stream",
     "text": [
      "CPU times: total: 2min 9s\n",
      "Wall time: 2min 9s\n"
     ]
    },
    {
     "data": {
      "text/plain": [
       "DecisionTreeClassifier(class_weight='balanced', max_depth=17,\n",
       "                       random_state=221022)"
      ]
     },
     "execution_count": 133,
     "metadata": {},
     "output_type": "execute_result"
    }
   ],
   "source": [
    "%%time\n",
    "model_dtc_blncd.fit(X_train, y_train)"
   ]
  },
  {
   "cell_type": "code",
   "execution_count": 134,
   "metadata": {},
   "outputs": [],
   "source": [
    "y_pred=model_dtc_blncd.predict(features_valid)\n",
    "y_true=target_valid"
   ]
  },
  {
   "cell_type": "code",
   "execution_count": 135,
   "metadata": {},
   "outputs": [
    {
     "name": "stdout",
     "output_type": "stream",
     "text": [
      "--Results for validation data--\n",
      "F1-score: 0.8171436627661074\n",
      "Precision score: 0.7409869598568141\n",
      "Recall score: 0.9107479572595851\n",
      "\n",
      "\n"
     ]
    },
    {
     "data": {
      "image/png": "[encoded data removed]",
      "text/plain": [
       "<Figure size 640x480 with 2 Axes>"
      ]
     },
     "metadata": {},
     "output_type": "display_data"
    }
   ],
   "source": [
    "show_model_results(y_true,y_pred)"
   ]
  },
  {
   "cell_type": "markdown",
   "metadata": {
    "tags": []
   },
   "source": [
    "##### 1.6.5.6.1. Выводы"
   ]
  },
  {
   "cell_type": "markdown",
   "metadata": {},
   "source": [
    "Дерево решений показало для эмбеддингов от модели Roberta немного более высокие результаты F1 меры (~0.817), чем логистическая регрессия, но время обучения по сравнению с логистической регрессией выросло в несколько раз (а CPU time от полусекнуды до 2 минут)."
   ]
  },
  {
   "cell_type": "markdown",
   "metadata": {},
   "source": [
    "#### 1.6.5.7. Случайный лес"
   ]
  },
  {
   "cell_type": "markdown",
   "metadata": {},
   "source": [
    "Переберем параметры для модели случайного леса на одних из эффективных эмбеддингах (от Roberta toxic), а на других эмбеддингах посмотрим на результаты модели с теми же параметрами которые были наиболее эффективными для Roberta toxic."
   ]
  },
  {
   "cell_type": "markdown",
   "metadata": {
    "tags": []
   },
   "source": [
    "##### 1.6.5.7.1. Roberta embeddings"
   ]
  },
  {
   "cell_type": "markdown",
   "metadata": {
    "tags": []
   },
   "source": [
    "###### 1.6.5.7.1.1. Full train dataset GridSearchCV"
   ]
  },
  {
   "cell_type": "code",
   "execution_count": 136,
   "metadata": {},
   "outputs": [],
   "source": [
    "with open('embeddings/train_roberta.pkl', 'rb') as file:\n",
    "    features = pickle.load(file)"
   ]
  },
  {
   "cell_type": "code",
   "execution_count": 137,
   "metadata": {},
   "outputs": [],
   "source": [
    "X_train=features\n",
    "y_train=train_data_full.toxic"
   ]
  },
  {
   "cell_type": "code",
   "execution_count": 138,
   "metadata": {},
   "outputs": [],
   "source": [
    "model_rf_blncd = RandomForestClassifier(\n",
    "                random_state=13_01_23,\n",
    "                max_depth=13,\n",
    "                n_estimators=100,\n",
    "                class_weight=\"balanced\",\n",
    "    n_jobs=-1\n",
    "            )"
   ]
  },
  {
   "cell_type": "code",
   "execution_count": 139,
   "metadata": {},
   "outputs": [
    {
     "name": "stdout",
     "output_type": "stream",
     "text": [
      "CPU times: total: 9min 24s\n",
      "Wall time: 39.5 s\n"
     ]
    },
    {
     "data": {
      "text/plain": [
       "RandomForestClassifier(class_weight='balanced', max_depth=13, n_jobs=-1,\n",
       "                       random_state=130123)"
      ]
     },
     "execution_count": 139,
     "metadata": {},
     "output_type": "execute_result"
    }
   ],
   "source": [
    "%%time\n",
    "model_rf_blncd.fit(X_train, y_train)\n",
    "\n",
    "# show_model_results(model_rf_blncd, y_valid, X_valid)"
   ]
  },
  {
   "cell_type": "code",
   "execution_count": 140,
   "metadata": {},
   "outputs": [
    {
     "data": {
      "text/plain": [
       "0.9157050936410367"
      ]
     },
     "execution_count": 140,
     "metadata": {},
     "output_type": "execute_result"
    }
   ],
   "source": [
    "f1_score(y_train, model_rf_blncd.predict(X_train))"
   ]
  },
  {
   "cell_type": "code",
   "execution_count": 141,
   "metadata": {},
   "outputs": [],
   "source": [
    "parameters = {\n",
    "    \"max_depth\": [12,13,14],\n",
    "    \"n_estimators\": [80,90],\n",
    "}"
   ]
  },
  {
   "cell_type": "code",
   "execution_count": 142,
   "metadata": {},
   "outputs": [],
   "source": [
    "gridsearch_rf_blncd = GridSearchCV(\n",
    "    model_rf_blncd,\n",
    "    parameters,                                                  \n",
    "    # n_iter=5,\n",
    "    scoring='f1',\n",
    "    verbose=300,\n",
    "    cv=3,\n",
    "    n_jobs=-1,\n",
    "    # random_state=13_01_23,\n",
    ")"
   ]
  },
  {
   "cell_type": "code",
   "execution_count": 143,
   "metadata": {},
   "outputs": [
    {
     "name": "stdout",
     "output_type": "stream",
     "text": [
      "Fitting 3 folds for each of 6 candidates, totalling 18 fits\n",
      "CPU times: total: 8min 35s\n",
      "Wall time: 6min 43s\n"
     ]
    },
    {
     "data": {
      "text/plain": [
       "GridSearchCV(cv=3,\n",
       "             estimator=RandomForestClassifier(class_weight='balanced',\n",
       "                                              max_depth=13, n_jobs=-1,\n",
       "                                              random_state=130123),\n",
       "             n_jobs=-1,\n",
       "             param_grid={'max_depth': [12, 13, 14], 'n_estimators': [80, 90]},\n",
       "             scoring='f1', verbose=300)"
      ]
     },
     "execution_count": 143,
     "metadata": {},
     "output_type": "execute_result"
    }
   ],
   "source": [
    "%%time\n",
    "gridsearch_rf_blncd.fit(X_train, y_train)"
   ]
  },
  {
   "cell_type": "code",
   "execution_count": 144,
   "metadata": {},
   "outputs": [
    {
     "data": {
      "text/plain": [
       "RandomForestClassifier(class_weight='balanced', max_depth=13, n_estimators=90,\n",
       "                       n_jobs=-1, random_state=130123)"
      ]
     },
     "execution_count": 144,
     "metadata": {},
     "output_type": "execute_result"
    }
   ],
   "source": [
    "gridsearch_rf_blncd.best_estimator_"
   ]
  },
  {
   "cell_type": "code",
   "execution_count": 145,
   "metadata": {},
   "outputs": [
    {
     "data": {
      "text/plain": [
       "{'max_depth': 13, 'n_estimators': 90}"
      ]
     },
     "execution_count": 145,
     "metadata": {},
     "output_type": "execute_result"
    }
   ],
   "source": [
    "gridsearch_rf_blncd.best_params_"
   ]
  },
  {
   "cell_type": "code",
   "execution_count": 146,
   "metadata": {},
   "outputs": [
    {
     "data": {
      "text/plain": [
       "0.8561743293901349"
      ]
     },
     "execution_count": 146,
     "metadata": {},
     "output_type": "execute_result"
    }
   ],
   "source": [
    "gridsearch_rf_blncd.best_score_"
   ]
  },
  {
   "cell_type": "code",
   "execution_count": 147,
   "metadata": {},
   "outputs": [
    {
     "data": {
      "text/plain": [
       "0.9149402175864421"
      ]
     },
     "execution_count": 147,
     "metadata": {},
     "output_type": "execute_result"
    }
   ],
   "source": [
    "f1_score(y_train, gridsearch_rf_blncd.predict(X_train))"
   ]
  },
  {
   "cell_type": "markdown",
   "metadata": {
    "tags": []
   },
   "source": [
    "###### 1.6.5.7.1.2. Validation"
   ]
  },
  {
   "cell_type": "code",
   "execution_count": 148,
   "metadata": {},
   "outputs": [],
   "source": [
    "valid_split_filter=train_data_full.index.isin(valid_data.index)"
   ]
  },
  {
   "cell_type": "code",
   "execution_count": 149,
   "metadata": {},
   "outputs": [],
   "source": [
    "features_valid=features[valid_split_filter]\n",
    "features_train=features[~valid_split_filter]"
   ]
  },
  {
   "cell_type": "code",
   "execution_count": 150,
   "metadata": {},
   "outputs": [],
   "source": [
    "target_valid=train_data_full[valid_split_filter].toxic.values.ravel()\n",
    "target_train=train_data_full[~valid_split_filter].toxic.values.ravel()"
   ]
  },
  {
   "cell_type": "code",
   "execution_count": 151,
   "metadata": {},
   "outputs": [
    {
     "data": {
      "text/plain": [
       "(31858, 768)"
      ]
     },
     "execution_count": 151,
     "metadata": {},
     "output_type": "execute_result"
    }
   ],
   "source": [
    "features_valid.shape"
   ]
  },
  {
   "cell_type": "code",
   "execution_count": 152,
   "metadata": {},
   "outputs": [],
   "source": [
    "X_train=features_train\n",
    "y_train=target_train"
   ]
  },
  {
   "cell_type": "code",
   "execution_count": 153,
   "metadata": {},
   "outputs": [
    {
     "name": "stdout",
     "output_type": "stream",
     "text": [
      "\n",
      "CPU times: total: 5min 57s\n",
      "Wall time: 24.6 s\n"
     ]
    }
   ],
   "source": [
    "%%time\n",
    "gridsearch_rf_blncd.best_estimator_.fit(X_train, y_train)\n",
    "print()"
   ]
  },
  {
   "cell_type": "code",
   "execution_count": 154,
   "metadata": {},
   "outputs": [
    {
     "name": "stdout",
     "output_type": "stream",
     "text": [
      "--Results for validation data--\n",
      "F1-score: 0.8579934504316761\n",
      "Precision score: 0.8150452488687783\n",
      "Recall score: 0.9057196731615337\n",
      "\n",
      "\n"
     ]
    },
    {
     "data": {
      "image/png": "[encoded data removed]",
      "text/plain": [
       "<Figure size 640x480 with 2 Axes>"
      ]
     },
     "metadata": {},
     "output_type": "display_data"
    }
   ],
   "source": [
    "show_model_results(target_valid,gridsearch_rf_blncd.best_estimator_.predict(features_valid))"
   ]
  },
  {
   "cell_type": "markdown",
   "metadata": {
    "tags": []
   },
   "source": [
    "##### 1.6.5.7.2. Bert base embeddings"
   ]
  },
  {
   "cell_type": "code",
   "execution_count": 155,
   "metadata": {},
   "outputs": [],
   "source": [
    "with open('embeddings/train_bert.pkl', 'rb') as file:\n",
    "    features = pickle.load(file)"
   ]
  },
  {
   "cell_type": "markdown",
   "metadata": {
    "tags": []
   },
   "source": [
    "###### 1.6.5.7.2.1. Validation"
   ]
  },
  {
   "cell_type": "code",
   "execution_count": 156,
   "metadata": {},
   "outputs": [],
   "source": [
    "valid_split_filter=train_data_full.index.isin(valid_data.index)"
   ]
  },
  {
   "cell_type": "code",
   "execution_count": 157,
   "metadata": {},
   "outputs": [],
   "source": [
    "features_valid=features[valid_split_filter]\n",
    "features_train=features[~valid_split_filter]"
   ]
  },
  {
   "cell_type": "code",
   "execution_count": 158,
   "metadata": {},
   "outputs": [],
   "source": [
    "target_valid=train_data_full[valid_split_filter].toxic.values.ravel()\n",
    "target_train=train_data_full[~valid_split_filter].toxic.values.ravel()"
   ]
  },
  {
   "cell_type": "code",
   "execution_count": 159,
   "metadata": {},
   "outputs": [
    {
     "data": {
      "text/plain": [
       "(31858, 768)"
      ]
     },
     "execution_count": 159,
     "metadata": {},
     "output_type": "execute_result"
    }
   ],
   "source": [
    "features_valid.shape"
   ]
  },
  {
   "cell_type": "code",
   "execution_count": 160,
   "metadata": {},
   "outputs": [],
   "source": [
    "X_train=features_train\n",
    "y_train=target_train"
   ]
  },
  {
   "cell_type": "code",
   "execution_count": 161,
   "metadata": {},
   "outputs": [],
   "source": [
    "rf_classifier=RandomForestClassifier(**gridsearch_rf_blncd.best_params_,n_jobs=-1,)"
   ]
  },
  {
   "cell_type": "code",
   "execution_count": 162,
   "metadata": {},
   "outputs": [
    {
     "name": "stdout",
     "output_type": "stream",
     "text": [
      "\n",
      "CPU times: total: 5min 7s\n",
      "Wall time: 21.1 s\n"
     ]
    }
   ],
   "source": [
    "%%time\n",
    "rf_classifier.fit(X_train, y_train)\n",
    "print()"
   ]
  },
  {
   "cell_type": "code",
   "execution_count": 163,
   "metadata": {},
   "outputs": [
    {
     "name": "stdout",
     "output_type": "stream",
     "text": [
      "--Results for validation data--\n",
      "F1-score: 0.4761904761904763\n",
      "Precision score: 0.9003496503496503\n",
      "Recall score: 0.3236957888120679\n",
      "\n",
      "\n"
     ]
    },
    {
     "data": {
      "image/png": "[encoded data removed]",
      "text/plain": [
       "<Figure size 640x480 with 2 Axes>"
      ]
     },
     "metadata": {},
     "output_type": "display_data"
    }
   ],
   "source": [
    "show_model_results(target_valid,rf_classifier.predict(features_valid))"
   ]
  },
  {
   "cell_type": "markdown",
   "metadata": {
    "tags": []
   },
   "source": [
    "##### 1.6.5.7.3. Distillbert fine-tuned embeddings"
   ]
  },
  {
   "cell_type": "code",
   "execution_count": 164,
   "metadata": {},
   "outputs": [],
   "source": [
    "with open('embeddings/train_distilbert_finetuned.pkl', 'rb') as file:\n",
    "    features = pickle.load(file)"
   ]
  },
  {
   "cell_type": "markdown",
   "metadata": {
    "tags": []
   },
   "source": [
    "###### 1.6.5.7.3.1. Validation"
   ]
  },
  {
   "cell_type": "code",
   "execution_count": 165,
   "metadata": {},
   "outputs": [],
   "source": [
    "valid_split_filter=train_data_full.index.isin(valid_data.index)"
   ]
  },
  {
   "cell_type": "code",
   "execution_count": 166,
   "metadata": {},
   "outputs": [],
   "source": [
    "features_valid=features[valid_split_filter]\n",
    "features_train=features[~valid_split_filter]"
   ]
  },
  {
   "cell_type": "code",
   "execution_count": 167,
   "metadata": {},
   "outputs": [],
   "source": [
    "target_valid=train_data_full[valid_split_filter].toxic.values.ravel()\n",
    "target_train=train_data_full[~valid_split_filter].toxic.values.ravel()"
   ]
  },
  {
   "cell_type": "code",
   "execution_count": 168,
   "metadata": {},
   "outputs": [
    {
     "data": {
      "text/plain": [
       "(31858, 768)"
      ]
     },
     "execution_count": 168,
     "metadata": {},
     "output_type": "execute_result"
    }
   ],
   "source": [
    "features_valid.shape"
   ]
  },
  {
   "cell_type": "code",
   "execution_count": 169,
   "metadata": {},
   "outputs": [],
   "source": [
    "X_train=features_train\n",
    "y_train=target_train"
   ]
  },
  {
   "cell_type": "code",
   "execution_count": 170,
   "metadata": {},
   "outputs": [],
   "source": [
    "rf_classifier=RandomForestClassifier(**gridsearch_rf_blncd.best_params_,n_jobs=-1,)"
   ]
  },
  {
   "cell_type": "code",
   "execution_count": 171,
   "metadata": {},
   "outputs": [
    {
     "name": "stdout",
     "output_type": "stream",
     "text": [
      "\n",
      "CPU times: total: 5min 46s\n",
      "Wall time: 23.9 s\n"
     ]
    }
   ],
   "source": [
    "%%time\n",
    "rf_classifier.fit(X_train, y_train)\n",
    "print()"
   ]
  },
  {
   "cell_type": "code",
   "execution_count": 172,
   "metadata": {},
   "outputs": [
    {
     "name": "stdout",
     "output_type": "stream",
     "text": [
      "--Results for validation data--\n",
      "F1-score: 0.8261562998405104\n",
      "Precision score: 0.8387305699481865\n",
      "Recall score: 0.813953488372093\n",
      "\n",
      "\n"
     ]
    },
    {
     "data": {
      "image/png": "[encoded data removed]",
      "text/plain": [
       "<Figure size 640x480 with 2 Axes>"
      ]
     },
     "metadata": {},
     "output_type": "display_data"
    }
   ],
   "source": [
    "show_model_results(target_valid,rf_classifier.predict(features_valid))"
   ]
  },
  {
   "cell_type": "markdown",
   "metadata": {
    "tags": []
   },
   "source": [
    "##### 1.6.5.7.4. Выводы"
   ]
  },
  {
   "cell_type": "markdown",
   "metadata": {},
   "source": [
    "RandomForestClassifier показал результат выше необходимого уровня для эмбеддиногов от предобученной модели для определения токсичности Roberta (F1 ~0.86) и обученной нами DistillBert-модели (F1 ~0.83), на эмбеддингах от базовой Bert модели результаты неудовлетворительные (F1 ~0.47). Следует отметить, что подбор параметров производился только для Roberta-модели."
   ]
  },
  {
   "cell_type": "markdown",
   "metadata": {
    "tags": []
   },
   "source": [
    "#### 1.6.5.8. CatBoost"
   ]
  },
  {
   "cell_type": "markdown",
   "metadata": {},
   "source": [
    "Обучим модель градиентного бустинга CatBoost и сравним результаты на embedding-ах от различных языковых моделей "
   ]
  },
  {
   "cell_type": "code",
   "execution_count": 203,
   "metadata": {},
   "outputs": [
    {
     "data": {
      "text/plain": [
       "1310"
      ]
     },
     "execution_count": 203,
     "metadata": {},
     "output_type": "execute_result"
    }
   ],
   "source": [
    "torch.cuda.empty_cache()\n",
    "gc.collect()"
   ]
  },
  {
   "cell_type": "markdown",
   "metadata": {},
   "source": [
    "##### 1.6.5.8.1. Сравнение обучения на CPU и GPU"
   ]
  },
  {
   "cell_type": "code",
   "execution_count": 204,
   "metadata": {},
   "outputs": [
    {
     "name": "stdout",
     "output_type": "stream",
     "text": [
      "I see 1 GPU devices\n"
     ]
    }
   ],
   "source": [
    "print('I see %i GPU devices' % get_gpu_device_count())"
   ]
  },
  {
   "cell_type": "markdown",
   "metadata": {},
   "source": [
    "Сравним время обучения Catboost на GPU и CPU на небольшом числе итераций, чтобы в дальнейшем обучать и подбирать параметры модели быстрее:"
   ]
  },
  {
   "cell_type": "code",
   "execution_count": 205,
   "metadata": {},
   "outputs": [],
   "source": [
    "with open('embeddings/train.pkl', 'rb') as file:\n",
    "    features = pickle.load(file)"
   ]
  },
  {
   "cell_type": "code",
   "execution_count": 206,
   "metadata": {},
   "outputs": [],
   "source": [
    "X_train=features\n",
    "y_train=train_data_full.toxic"
   ]
  },
  {
   "cell_type": "code",
   "execution_count": 207,
   "metadata": {},
   "outputs": [],
   "source": [
    "CBC = CatBoostClassifier( auto_class_weights='SqrtBalanced',\n",
    "                         task_type=\"CPU\",\n",
    "                         iterations=5,\n",
    "                         depth=11,\n",
    "                         thread_count = -1,\n",
    "                         eval_metric='F1', verbose=False,)"
   ]
  },
  {
   "cell_type": "code",
   "execution_count": 208,
   "metadata": {},
   "outputs": [
    {
     "name": "stderr",
     "output_type": "stream",
     "text": [
      "Custom logger is already specified. Specify more than one logger at same time is not thread safe."
     ]
    },
    {
     "name": "stdout",
     "output_type": "stream",
     "text": [
      "CPU times: total: 3min 39s\n",
      "Wall time: 17.2 s\n"
     ]
    },
    {
     "data": {
      "text/plain": [
       "<catboost.core.CatBoostClassifier at 0x1cc4f9da7c0>"
      ]
     },
     "execution_count": 208,
     "metadata": {},
     "output_type": "execute_result"
    }
   ],
   "source": [
    "%%time\n",
    "CBC.fit(X_train,y_train)"
   ]
  },
  {
   "cell_type": "code",
   "execution_count": 209,
   "metadata": {},
   "outputs": [],
   "source": [
    "CBC = CatBoostClassifier( auto_class_weights='SqrtBalanced',\n",
    "                         task_type=\"GPU\",\n",
    "                         iterations=5,\n",
    "                         depth=11,\n",
    "                         eval_metric='F1', verbose=False,)"
   ]
  },
  {
   "cell_type": "code",
   "execution_count": 210,
   "metadata": {},
   "outputs": [
    {
     "name": "stdout",
     "output_type": "stream",
     "text": [
      "CPU times: total: 17.9 s\n",
      "Wall time: 4.03 s\n"
     ]
    },
    {
     "data": {
      "text/plain": [
       "<catboost.core.CatBoostClassifier at 0x1cc4f9da8e0>"
      ]
     },
     "execution_count": 210,
     "metadata": {},
     "output_type": "execute_result"
    }
   ],
   "source": [
    "%%time\n",
    "CBC.fit(X_train,y_train)"
   ]
  },
  {
   "cell_type": "markdown",
   "metadata": {},
   "source": [
    "<b>Вывод:</b> Использование GPU для CatBoost модели дает существенный прирост скорости. В дальнейшем для обучения CatBoost будем использовать GPU. "
   ]
  },
  {
   "cell_type": "markdown",
   "metadata": {
    "tags": []
   },
   "source": [
    "##### 1.6.5.8.2. DistilBert embeddings"
   ]
  },
  {
   "cell_type": "code",
   "execution_count": 211,
   "metadata": {},
   "outputs": [],
   "source": [
    "with open('embeddings/train.pkl', 'rb') as file:\n",
    "    features = pickle.load(file)"
   ]
  },
  {
   "cell_type": "markdown",
   "metadata": {},
   "source": [
    "###### 1.6.5.8.2.1. Full train dataset GridSearchCV"
   ]
  },
  {
   "cell_type": "code",
   "execution_count": 212,
   "metadata": {},
   "outputs": [],
   "source": [
    "X_train=features\n",
    "y_train=train_data_full.toxic"
   ]
  },
  {
   "cell_type": "markdown",
   "metadata": {},
   "source": [
    "Сначала попробуем модель со случайным набором параметров:"
   ]
  },
  {
   "cell_type": "code",
   "execution_count": 213,
   "metadata": {},
   "outputs": [],
   "source": [
    "CBC = CatBoostClassifier( auto_class_weights='SqrtBalanced',\n",
    "                         task_type=\"GPU\",\n",
    "                         iterations=1000,\n",
    "                         depth=6,                         \n",
    "                         eval_metric='F1', \n",
    "                         verbose=False)"
   ]
  },
  {
   "cell_type": "code",
   "execution_count": 214,
   "metadata": {},
   "outputs": [
    {
     "name": "stdout",
     "output_type": "stream",
     "text": [
      "CPU times: total: 56.8 s\n",
      "Wall time: 24.6 s\n"
     ]
    },
    {
     "data": {
      "text/plain": [
       "<catboost.core.CatBoostClassifier at 0x1cc4f988430>"
      ]
     },
     "execution_count": 214,
     "metadata": {},
     "output_type": "execute_result"
    }
   ],
   "source": [
    "%%time\n",
    "CBC.fit(X_train,y_train)"
   ]
  },
  {
   "cell_type": "code",
   "execution_count": 215,
   "metadata": {},
   "outputs": [
    {
     "data": {
      "text/plain": [
       "0.7839758459442543"
      ]
     },
     "execution_count": 215,
     "metadata": {},
     "output_type": "execute_result"
    }
   ],
   "source": [
    "f1_score(y_train, CBC.predict(X_train))"
   ]
  },
  {
   "cell_type": "markdown",
   "metadata": {},
   "source": [
    "Подберем параметры с помощью gridsearch:"
   ]
  },
  {
   "cell_type": "code",
   "execution_count": 216,
   "metadata": {},
   "outputs": [],
   "source": [
    "parameters = {\n",
    "                'depth': [7,8,9],\n",
    "                'iterations': [800,900,1000]\n",
    "             }"
   ]
  },
  {
   "cell_type": "code",
   "execution_count": 217,
   "metadata": {},
   "outputs": [
    {
     "name": "stdout",
     "output_type": "stream",
     "text": [
      "Fitting 3 folds for each of 9 candidates, totalling 27 fits\n",
      "[CV 1/3; 1/9] START depth=7, iterations=800.....................................\n",
      "[CV 1/3; 1/9] END ...................depth=7, iterations=800; total time=  23.6s\n",
      "[CV 2/3; 1/9] START depth=7, iterations=800.....................................\n",
      "[CV 2/3; 1/9] END ...................depth=7, iterations=800; total time=  23.6s\n",
      "[CV 3/3; 1/9] START depth=7, iterations=800.....................................\n",
      "[CV 3/3; 1/9] END ...................depth=7, iterations=800; total time=  23.2s\n",
      "[CV 1/3; 2/9] START depth=7, iterations=900.....................................\n",
      "[CV 1/3; 2/9] END ...................depth=7, iterations=900; total time=  26.2s\n",
      "[CV 2/3; 2/9] START depth=7, iterations=900.....................................\n",
      "[CV 2/3; 2/9] END ...................depth=7, iterations=900; total time=  26.3s\n",
      "[CV 3/3; 2/9] START depth=7, iterations=900.....................................\n",
      "[CV 3/3; 2/9] END ...................depth=7, iterations=900; total time=  26.0s\n",
      "[CV 1/3; 3/9] START depth=7, iterations=1000....................................\n",
      "[CV 1/3; 3/9] END ..................depth=7, iterations=1000; total time=  28.7s\n",
      "[CV 2/3; 3/9] START depth=7, iterations=1000....................................\n",
      "[CV 2/3; 3/9] END ..................depth=7, iterations=1000; total time=  28.3s\n",
      "[CV 3/3; 3/9] START depth=7, iterations=1000....................................\n",
      "[CV 3/3; 3/9] END ..................depth=7, iterations=1000; total time=  28.2s\n",
      "[CV 1/3; 4/9] START depth=8, iterations=800.....................................\n",
      "[CV 1/3; 4/9] END ...................depth=8, iterations=800; total time=  31.8s\n",
      "[CV 2/3; 4/9] START depth=8, iterations=800.....................................\n",
      "[CV 2/3; 4/9] END ...................depth=8, iterations=800; total time=  31.4s\n",
      "[CV 3/3; 4/9] START depth=8, iterations=800.....................................\n",
      "[CV 3/3; 4/9] END ...................depth=8, iterations=800; total time=  31.9s\n",
      "[CV 1/3; 5/9] START depth=8, iterations=900.....................................\n",
      "[CV 1/3; 5/9] END ...................depth=8, iterations=900; total time=  35.0s\n",
      "[CV 2/3; 5/9] START depth=8, iterations=900.....................................\n",
      "[CV 2/3; 5/9] END ...................depth=8, iterations=900; total time=  34.9s\n",
      "[CV 3/3; 5/9] START depth=8, iterations=900.....................................\n",
      "[CV 3/3; 5/9] END ...................depth=8, iterations=900; total time=  35.1s\n",
      "[CV 1/3; 6/9] START depth=8, iterations=1000....................................\n",
      "[CV 1/3; 6/9] END ..................depth=8, iterations=1000; total time=  38.9s\n",
      "[CV 2/3; 6/9] START depth=8, iterations=1000....................................\n",
      "[CV 2/3; 6/9] END ..................depth=8, iterations=1000; total time=  39.4s\n",
      "[CV 3/3; 6/9] START depth=8, iterations=1000....................................\n",
      "[CV 3/3; 6/9] END ..................depth=8, iterations=1000; total time=  39.3s\n",
      "[CV 1/3; 7/9] START depth=9, iterations=800.....................................\n",
      "[CV 1/3; 7/9] END ...................depth=9, iterations=800; total time=  45.9s\n",
      "[CV 2/3; 7/9] START depth=9, iterations=800.....................................\n",
      "[CV 2/3; 7/9] END ...................depth=9, iterations=800; total time=  46.2s\n",
      "[CV 3/3; 7/9] START depth=9, iterations=800.....................................\n",
      "[CV 3/3; 7/9] END ...................depth=9, iterations=800; total time=  45.9s\n",
      "[CV 1/3; 8/9] START depth=9, iterations=900.....................................\n",
      "[CV 1/3; 8/9] END ...................depth=9, iterations=900; total time=  51.5s\n",
      "[CV 2/3; 8/9] START depth=9, iterations=900.....................................\n",
      "[CV 2/3; 8/9] END ...................depth=9, iterations=900; total time=  51.0s\n",
      "[CV 3/3; 8/9] START depth=9, iterations=900.....................................\n",
      "[CV 3/3; 8/9] END ...................depth=9, iterations=900; total time=  51.4s\n",
      "[CV 1/3; 9/9] START depth=9, iterations=1000....................................\n",
      "[CV 1/3; 9/9] END ..................depth=9, iterations=1000; total time=  56.9s\n",
      "[CV 2/3; 9/9] START depth=9, iterations=1000....................................\n",
      "[CV 2/3; 9/9] END ..................depth=9, iterations=1000; total time=  56.7s\n",
      "[CV 3/3; 9/9] START depth=9, iterations=1000....................................\n",
      "[CV 3/3; 9/9] END ..................depth=9, iterations=1000; total time=  56.7s\n",
      "CPU times: total: 37min 5s\n",
      "Wall time: 17min 31s\n"
     ]
    },
    {
     "data": {
      "text/plain": [
       "GridSearchCV(cv=3,\n",
       "             estimator=<catboost.core.CatBoostClassifier object at 0x000001CC4F988430>,\n",
       "             param_grid={'depth': [7, 8, 9], 'iterations': [800, 900, 1000]},\n",
       "             scoring='f1', verbose=300)"
      ]
     },
     "execution_count": 217,
     "metadata": {},
     "output_type": "execute_result"
    }
   ],
   "source": [
    "%%time\n",
    "gridsearch_cbc = GridSearchCV(\n",
    "    CBC,\n",
    "    parameters,\n",
    "    # n_iter=10,\n",
    "    scoring='f1',\n",
    "    verbose=300,\n",
    "    cv=3,\n",
    "    # random_state=13_01_23,\n",
    ")\n",
    "\n",
    "gridsearch_cbc.fit(X_train, y_train)"
   ]
  },
  {
   "cell_type": "markdown",
   "metadata": {},
   "source": [
    "Лучшие параметры для CatBoost:"
   ]
  },
  {
   "cell_type": "code",
   "execution_count": 218,
   "metadata": {
    "tags": []
   },
   "outputs": [
    {
     "data": {
      "text/plain": [
       "{'iterations': 800,\n",
       " 'depth': 8,\n",
       " 'verbose': False,\n",
       " 'auto_class_weights': 'SqrtBalanced',\n",
       " 'eval_metric': 'F1',\n",
       " 'task_type': 'GPU'}"
      ]
     },
     "execution_count": 218,
     "metadata": {},
     "output_type": "execute_result"
    }
   ],
   "source": [
    "gridsearch_cbc.best_estimator_.get_params()"
   ]
  },
  {
   "cell_type": "markdown",
   "metadata": {},
   "source": [
    "Лучшее значение метрики F1 на кросс-валидации:"
   ]
  },
  {
   "cell_type": "code",
   "execution_count": 219,
   "metadata": {},
   "outputs": [
    {
     "data": {
      "text/plain": [
       "0.7292851268928414"
      ]
     },
     "execution_count": 219,
     "metadata": {},
     "output_type": "execute_result"
    }
   ],
   "source": [
    "gridsearch_cbc.best_score_"
   ]
  },
  {
   "cell_type": "markdown",
   "metadata": {},
   "source": [
    "Значение метрики F1 на train-данных:"
   ]
  },
  {
   "cell_type": "code",
   "execution_count": 220,
   "metadata": {},
   "outputs": [
    {
     "data": {
      "text/plain": [
       "0.8666666666666667"
      ]
     },
     "execution_count": 220,
     "metadata": {},
     "output_type": "execute_result"
    }
   ],
   "source": [
    "f1_score(y_train, gridsearch_cbc.best_estimator_.predict(X_train))"
   ]
  },
  {
   "cell_type": "markdown",
   "metadata": {
    "tags": []
   },
   "source": [
    "###### 1.6.5.8.2.2. Validation"
   ]
  },
  {
   "cell_type": "code",
   "execution_count": 221,
   "metadata": {},
   "outputs": [],
   "source": [
    "valid_split_filter=train_data_full.index.isin(valid_data.index)"
   ]
  },
  {
   "cell_type": "code",
   "execution_count": 222,
   "metadata": {},
   "outputs": [],
   "source": [
    "features_valid=features[valid_split_filter]\n",
    "features_train=features[~valid_split_filter]"
   ]
  },
  {
   "cell_type": "code",
   "execution_count": 223,
   "metadata": {},
   "outputs": [],
   "source": [
    "target_valid=train_data_full[valid_split_filter].toxic.values.ravel()\n",
    "target_train=train_data_full[~valid_split_filter].toxic.values.ravel()"
   ]
  },
  {
   "cell_type": "code",
   "execution_count": 224,
   "metadata": {},
   "outputs": [
    {
     "data": {
      "text/plain": [
       "(31858, 768)"
      ]
     },
     "execution_count": 224,
     "metadata": {},
     "output_type": "execute_result"
    }
   ],
   "source": [
    "features_valid.shape"
   ]
  },
  {
   "cell_type": "code",
   "execution_count": 225,
   "metadata": {},
   "outputs": [],
   "source": [
    "X_train=features_train\n",
    "y_train=target_train"
   ]
  },
  {
   "cell_type": "code",
   "execution_count": 226,
   "metadata": {},
   "outputs": [],
   "source": [
    "CBC = CatBoostClassifier()"
   ]
  },
  {
   "cell_type": "code",
   "execution_count": 227,
   "metadata": {},
   "outputs": [
    {
     "data": {
      "text/plain": [
       "<catboost.core.CatBoostClassifier at 0x1cc4f987790>"
      ]
     },
     "execution_count": 227,
     "metadata": {},
     "output_type": "execute_result"
    }
   ],
   "source": [
    "CBC.set_params(**gridsearch_cbc.best_estimator_.get_params())"
   ]
  },
  {
   "cell_type": "code",
   "execution_count": 228,
   "metadata": {},
   "outputs": [
    {
     "name": "stdout",
     "output_type": "stream",
     "text": [
      "CPU times: total: 1min 8s\n",
      "Wall time: 31.6 s\n"
     ]
    },
    {
     "data": {
      "text/plain": [
       "<catboost.core.CatBoostClassifier at 0x1cc4f987790>"
      ]
     },
     "execution_count": 228,
     "metadata": {},
     "output_type": "execute_result"
    }
   ],
   "source": [
    "%%time\n",
    "CBC.fit(X_train,y_train)"
   ]
  },
  {
   "cell_type": "code",
   "execution_count": 229,
   "metadata": {},
   "outputs": [
    {
     "name": "stdout",
     "output_type": "stream",
     "text": [
      "--Results for validation data--\n",
      "F1-score: 0.7321512631413777\n",
      "Precision score: 0.7311187715449702\n",
      "Recall score: 0.7331866750471402\n",
      "\n",
      "\n"
     ]
    },
    {
     "data": {
      "image/png": "[encoded data removed]",
      "text/plain": [
       "<Figure size 640x480 with 2 Axes>"
      ]
     },
     "metadata": {},
     "output_type": "display_data"
    }
   ],
   "source": [
    "show_model_results(target_valid,CBC.predict(features_valid))"
   ]
  },
  {
   "cell_type": "markdown",
   "metadata": {},
   "source": [
    "##### 1.6.5.8.3. Bert base embeddings"
   ]
  },
  {
   "cell_type": "code",
   "execution_count": 230,
   "metadata": {},
   "outputs": [],
   "source": [
    "with open('embeddings/train_bert.pkl', 'rb') as file:\n",
    "    features = pickle.load(file)"
   ]
  },
  {
   "cell_type": "markdown",
   "metadata": {},
   "source": [
    "###### 1.6.5.8.3.1. Full train dataset GridSearchCV"
   ]
  },
  {
   "cell_type": "code",
   "execution_count": 231,
   "metadata": {},
   "outputs": [],
   "source": [
    "X_train=features\n",
    "y_train=train_data_full.toxic"
   ]
  },
  {
   "cell_type": "markdown",
   "metadata": {},
   "source": [
    "Сначала попробуем модель со случайным набором параметров:"
   ]
  },
  {
   "cell_type": "code",
   "execution_count": 232,
   "metadata": {},
   "outputs": [],
   "source": [
    "CBC = CatBoostClassifier( auto_class_weights='SqrtBalanced',\n",
    "                         task_type=\"GPU\",\n",
    "                         iterations=1000,\n",
    "                         depth=6,                         \n",
    "                         eval_metric='F1', \n",
    "                         verbose=False)"
   ]
  },
  {
   "cell_type": "code",
   "execution_count": 233,
   "metadata": {},
   "outputs": [
    {
     "name": "stdout",
     "output_type": "stream",
     "text": [
      "CPU times: total: 58.3 s\n",
      "Wall time: 25 s\n"
     ]
    },
    {
     "data": {
      "text/plain": [
       "<catboost.core.CatBoostClassifier at 0x1cc4f8296d0>"
      ]
     },
     "execution_count": 233,
     "metadata": {},
     "output_type": "execute_result"
    }
   ],
   "source": [
    "%%time\n",
    "CBC.fit(X_train,y_train)"
   ]
  },
  {
   "cell_type": "code",
   "execution_count": 234,
   "metadata": {},
   "outputs": [
    {
     "data": {
      "text/plain": [
       "0.7632129871083849"
      ]
     },
     "execution_count": 234,
     "metadata": {},
     "output_type": "execute_result"
    }
   ],
   "source": [
    "f1_score(y_train, CBC.predict(X_train))"
   ]
  },
  {
   "cell_type": "markdown",
   "metadata": {},
   "source": [
    "Подберем параметры с помощью gridsearch:"
   ]
  },
  {
   "cell_type": "code",
   "execution_count": 235,
   "metadata": {},
   "outputs": [],
   "source": [
    "parameters = {\n",
    "                'depth': [7,8,9],\n",
    "                'iterations': [800,900,1000]\n",
    "             }"
   ]
  },
  {
   "cell_type": "code",
   "execution_count": 236,
   "metadata": {},
   "outputs": [
    {
     "name": "stdout",
     "output_type": "stream",
     "text": [
      "Fitting 3 folds for each of 9 candidates, totalling 27 fits\n",
      "[CV 1/3; 1/9] START depth=7, iterations=800.....................................\n",
      "[CV 1/3; 1/9] END ...................depth=7, iterations=800; total time=  23.4s\n",
      "[CV 2/3; 1/9] START depth=7, iterations=800.....................................\n",
      "[CV 2/3; 1/9] END ...................depth=7, iterations=800; total time=  23.3s\n",
      "[CV 3/3; 1/9] START depth=7, iterations=800.....................................\n",
      "[CV 3/3; 1/9] END ...................depth=7, iterations=800; total time=  23.1s\n",
      "[CV 1/3; 2/9] START depth=7, iterations=900.....................................\n",
      "[CV 1/3; 2/9] END ...................depth=7, iterations=900; total time=  25.2s\n",
      "[CV 2/3; 2/9] START depth=7, iterations=900.....................................\n",
      "[CV 2/3; 2/9] END ...................depth=7, iterations=900; total time=  25.3s\n",
      "[CV 3/3; 2/9] START depth=7, iterations=900.....................................\n",
      "[CV 3/3; 2/9] END ...................depth=7, iterations=900; total time=  25.2s\n",
      "[CV 1/3; 3/9] START depth=7, iterations=1000....................................\n",
      "[CV 1/3; 3/9] END ..................depth=7, iterations=1000; total time=  27.7s\n",
      "[CV 2/3; 3/9] START depth=7, iterations=1000....................................\n",
      "[CV 2/3; 3/9] END ..................depth=7, iterations=1000; total time=  27.7s\n",
      "[CV 3/3; 3/9] START depth=7, iterations=1000....................................\n",
      "[CV 3/3; 3/9] END ..................depth=7, iterations=1000; total time=  27.8s\n",
      "[CV 1/3; 4/9] START depth=8, iterations=800.....................................\n",
      "[CV 1/3; 4/9] END ...................depth=8, iterations=800; total time=  30.8s\n",
      "[CV 2/3; 4/9] START depth=8, iterations=800.....................................\n",
      "[CV 2/3; 4/9] END ...................depth=8, iterations=800; total time=  30.9s\n",
      "[CV 3/3; 4/9] START depth=8, iterations=800.....................................\n",
      "[CV 3/3; 4/9] END ...................depth=8, iterations=800; total time=  30.9s\n",
      "[CV 1/3; 5/9] START depth=8, iterations=900.....................................\n",
      "[CV 1/3; 5/9] END ...................depth=8, iterations=900; total time=  34.5s\n",
      "[CV 2/3; 5/9] START depth=8, iterations=900.....................................\n",
      "[CV 2/3; 5/9] END ...................depth=8, iterations=900; total time=  34.5s\n",
      "[CV 3/3; 5/9] START depth=8, iterations=900.....................................\n",
      "[CV 3/3; 5/9] END ...................depth=8, iterations=900; total time=  34.1s\n",
      "[CV 1/3; 6/9] START depth=8, iterations=1000....................................\n",
      "[CV 1/3; 6/9] END ..................depth=8, iterations=1000; total time=  37.8s\n",
      "[CV 2/3; 6/9] START depth=8, iterations=1000....................................\n",
      "[CV 2/3; 6/9] END ..................depth=8, iterations=1000; total time=  37.8s\n",
      "[CV 3/3; 6/9] START depth=8, iterations=1000....................................\n",
      "[CV 3/3; 6/9] END ..................depth=8, iterations=1000; total time=  37.5s\n",
      "[CV 1/3; 7/9] START depth=9, iterations=800.....................................\n",
      "[CV 1/3; 7/9] END ...................depth=9, iterations=800; total time=  45.5s\n",
      "[CV 2/3; 7/9] START depth=9, iterations=800.....................................\n",
      "[CV 2/3; 7/9] END ...................depth=9, iterations=800; total time=  45.0s\n",
      "[CV 3/3; 7/9] START depth=9, iterations=800.....................................\n",
      "[CV 3/3; 7/9] END ...................depth=9, iterations=800; total time=  45.2s\n",
      "[CV 1/3; 8/9] START depth=9, iterations=900.....................................\n",
      "[CV 1/3; 8/9] END ...................depth=9, iterations=900; total time=  51.0s\n",
      "[CV 2/3; 8/9] START depth=9, iterations=900.....................................\n",
      "[CV 2/3; 8/9] END ...................depth=9, iterations=900; total time=  50.0s\n",
      "[CV 3/3; 8/9] START depth=9, iterations=900.....................................\n",
      "[CV 3/3; 8/9] END ...................depth=9, iterations=900; total time=  49.9s\n",
      "[CV 1/3; 9/9] START depth=9, iterations=1000....................................\n",
      "[CV 1/3; 9/9] END ..................depth=9, iterations=1000; total time=  55.3s\n",
      "[CV 2/3; 9/9] START depth=9, iterations=1000....................................\n",
      "[CV 2/3; 9/9] END ..................depth=9, iterations=1000; total time=  55.1s\n",
      "[CV 3/3; 9/9] START depth=9, iterations=1000....................................\n",
      "[CV 3/3; 9/9] END ..................depth=9, iterations=1000; total time=  55.3s\n",
      "CPU times: total: 36min 30s\n",
      "Wall time: 17min 10s\n"
     ]
    },
    {
     "data": {
      "text/plain": [
       "GridSearchCV(cv=3,\n",
       "             estimator=<catboost.core.CatBoostClassifier object at 0x000001CC4F8296D0>,\n",
       "             param_grid={'depth': [7, 8, 9], 'iterations': [800, 900, 1000]},\n",
       "             scoring='f1', verbose=300)"
      ]
     },
     "execution_count": 236,
     "metadata": {},
     "output_type": "execute_result"
    }
   ],
   "source": [
    "%%time\n",
    "gridsearch_cbc = GridSearchCV(\n",
    "    CBC,\n",
    "    parameters,\n",
    "    # n_iter=10,\n",
    "    scoring='f1',\n",
    "    verbose=300,\n",
    "    cv=3,\n",
    "    # random_state=13_01_23,\n",
    ")\n",
    "\n",
    "# simplefilter(\"ignore\")\n",
    "gridsearch_cbc.fit(X_train, y_train)"
   ]
  },
  {
   "cell_type": "markdown",
   "metadata": {},
   "source": [
    "Лучшие параметры для CatBoost:"
   ]
  },
  {
   "cell_type": "code",
   "execution_count": 237,
   "metadata": {
    "tags": []
   },
   "outputs": [
    {
     "data": {
      "text/plain": [
       "{'iterations': 900,\n",
       " 'depth': 8,\n",
       " 'verbose': False,\n",
       " 'auto_class_weights': 'SqrtBalanced',\n",
       " 'eval_metric': 'F1',\n",
       " 'task_type': 'GPU'}"
      ]
     },
     "execution_count": 237,
     "metadata": {},
     "output_type": "execute_result"
    }
   ],
   "source": [
    "gridsearch_cbc.best_estimator_.get_params()"
   ]
  },
  {
   "cell_type": "markdown",
   "metadata": {},
   "source": [
    "Лучшее значение метрики F1 на кросс-валидации:"
   ]
  },
  {
   "cell_type": "code",
   "execution_count": 238,
   "metadata": {},
   "outputs": [
    {
     "data": {
      "text/plain": [
       "0.707417152767586"
      ]
     },
     "execution_count": 238,
     "metadata": {},
     "output_type": "execute_result"
    }
   ],
   "source": [
    "gridsearch_cbc.best_score_"
   ]
  },
  {
   "cell_type": "markdown",
   "metadata": {},
   "source": [
    "Значение метрики F1 на train-данных:"
   ]
  },
  {
   "cell_type": "code",
   "execution_count": 239,
   "metadata": {},
   "outputs": [
    {
     "data": {
      "text/plain": [
       "0.8498119390757085"
      ]
     },
     "execution_count": 239,
     "metadata": {},
     "output_type": "execute_result"
    }
   ],
   "source": [
    "f1_score(y_train, gridsearch_cbc.best_estimator_.predict(X_train))"
   ]
  },
  {
   "cell_type": "markdown",
   "metadata": {
    "tags": []
   },
   "source": [
    "###### 1.6.5.8.3.2. Validation"
   ]
  },
  {
   "cell_type": "code",
   "execution_count": 240,
   "metadata": {},
   "outputs": [],
   "source": [
    "valid_split_filter=train_data_full.index.isin(valid_data.index)"
   ]
  },
  {
   "cell_type": "code",
   "execution_count": 241,
   "metadata": {},
   "outputs": [],
   "source": [
    "features_valid=features[valid_split_filter]\n",
    "features_train=features[~valid_split_filter]"
   ]
  },
  {
   "cell_type": "code",
   "execution_count": 242,
   "metadata": {},
   "outputs": [],
   "source": [
    "target_valid=train_data_full[valid_split_filter].toxic.values.ravel()\n",
    "target_train=train_data_full[~valid_split_filter].toxic.values.ravel()"
   ]
  },
  {
   "cell_type": "code",
   "execution_count": 243,
   "metadata": {},
   "outputs": [
    {
     "data": {
      "text/plain": [
       "(31858, 768)"
      ]
     },
     "execution_count": 243,
     "metadata": {},
     "output_type": "execute_result"
    }
   ],
   "source": [
    "features_valid.shape"
   ]
  },
  {
   "cell_type": "code",
   "execution_count": 244,
   "metadata": {},
   "outputs": [],
   "source": [
    "X_train=features_train\n",
    "y_train=target_train"
   ]
  },
  {
   "cell_type": "code",
   "execution_count": 245,
   "metadata": {},
   "outputs": [],
   "source": [
    "CBC = CatBoostClassifier()"
   ]
  },
  {
   "cell_type": "code",
   "execution_count": 246,
   "metadata": {},
   "outputs": [
    {
     "data": {
      "text/plain": [
       "<catboost.core.CatBoostClassifier at 0x1cc375462e0>"
      ]
     },
     "execution_count": 246,
     "metadata": {},
     "output_type": "execute_result"
    }
   ],
   "source": [
    "CBC.set_params(**gridsearch_cbc.best_estimator_.get_params())"
   ]
  },
  {
   "cell_type": "code",
   "execution_count": 247,
   "metadata": {},
   "outputs": [
    {
     "name": "stdout",
     "output_type": "stream",
     "text": [
      "CPU times: total: 1min 12s\n",
      "Wall time: 34.4 s\n"
     ]
    },
    {
     "data": {
      "text/plain": [
       "<catboost.core.CatBoostClassifier at 0x1cc375462e0>"
      ]
     },
     "execution_count": 247,
     "metadata": {},
     "output_type": "execute_result"
    }
   ],
   "source": [
    "%%time\n",
    "CBC.fit(X_train,y_train)"
   ]
  },
  {
   "cell_type": "code",
   "execution_count": 248,
   "metadata": {},
   "outputs": [
    {
     "name": "stdout",
     "output_type": "stream",
     "text": [
      "--Results for validation data--\n",
      "F1-score: 0.7039525074207156\n",
      "Precision score: 0.6999068033550793\n",
      "Recall score: 0.7080452545568825\n",
      "\n",
      "\n"
     ]
    },
    {
     "data": {
      "image/png": "[encoded data removed]",
      "text/plain": [
       "<Figure size 640x480 with 2 Axes>"
      ]
     },
     "metadata": {},
     "output_type": "display_data"
    }
   ],
   "source": [
    "show_model_results(target_valid,CBC.predict(features_valid))"
   ]
  },
  {
   "cell_type": "markdown",
   "metadata": {
    "tags": []
   },
   "source": [
    "##### 1.6.5.8.4. Roberta embeddings"
   ]
  },
  {
   "cell_type": "code",
   "execution_count": 249,
   "metadata": {},
   "outputs": [
    {
     "data": {
      "text/plain": [
       "8226"
      ]
     },
     "execution_count": 249,
     "metadata": {},
     "output_type": "execute_result"
    }
   ],
   "source": [
    "gc.collect()"
   ]
  },
  {
   "cell_type": "code",
   "execution_count": 250,
   "metadata": {},
   "outputs": [],
   "source": [
    "with open('embeddings/train_roberta.pkl', 'rb') as file:\n",
    "    features = pickle.load(file)"
   ]
  },
  {
   "cell_type": "markdown",
   "metadata": {
    "tags": []
   },
   "source": [
    "###### 1.6.5.8.4.1. Full train dataset GridSearchCV"
   ]
  },
  {
   "cell_type": "code",
   "execution_count": 251,
   "metadata": {},
   "outputs": [],
   "source": [
    "X_train=features\n",
    "y_train=train_data_full.toxic"
   ]
  },
  {
   "cell_type": "code",
   "execution_count": 252,
   "metadata": {},
   "outputs": [],
   "source": [
    "CBC = CatBoostClassifier( auto_class_weights='SqrtBalanced',\n",
    "                         task_type=\"GPU\",\n",
    "                         iterations=800,\n",
    "                         depth=8,                         \n",
    "                         eval_metric='F1', \n",
    "                         verbose=False)"
   ]
  },
  {
   "cell_type": "code",
   "execution_count": 253,
   "metadata": {},
   "outputs": [
    {
     "name": "stdout",
     "output_type": "stream",
     "text": [
      "CPU times: total: 1min 7s\n",
      "Wall time: 29.5 s\n"
     ]
    },
    {
     "data": {
      "text/plain": [
       "<catboost.core.CatBoostClassifier at 0x1cc3773fb80>"
      ]
     },
     "execution_count": 253,
     "metadata": {},
     "output_type": "execute_result"
    }
   ],
   "source": [
    "%%time\n",
    "CBC.fit(X_train,y_train)"
   ]
  },
  {
   "cell_type": "code",
   "execution_count": 254,
   "metadata": {},
   "outputs": [
    {
     "data": {
      "text/plain": [
       "0.9590390663483763"
      ]
     },
     "execution_count": 254,
     "metadata": {},
     "output_type": "execute_result"
    }
   ],
   "source": [
    "f1_score(y_train, CBC.predict(X_train))"
   ]
  },
  {
   "cell_type": "code",
   "execution_count": 255,
   "metadata": {},
   "outputs": [],
   "source": [
    "parameters = {\n",
    "                'depth': [7,8,9],\n",
    "                'iterations': [800,900,1000]\n",
    "             }"
   ]
  },
  {
   "cell_type": "code",
   "execution_count": 256,
   "metadata": {},
   "outputs": [],
   "source": [
    "CBC = CatBoostClassifier( auto_class_weights='SqrtBalanced',\n",
    "                         task_type=\"GPU\",\n",
    "                         iterations=800,\n",
    "                         depth=8,                         \n",
    "                         eval_metric='F1', \n",
    "                         verbose=False)"
   ]
  },
  {
   "cell_type": "code",
   "execution_count": 257,
   "metadata": {},
   "outputs": [],
   "source": [
    "gridsearch_cbc = GridSearchCV(\n",
    "    CBC,\n",
    "    parameters,\n",
    "    # n_iter=10,\n",
    "    scoring='f1',\n",
    "    verbose=300,\n",
    "    cv=3\n",
    "    # random_state=13_01_23,\n",
    ")"
   ]
  },
  {
   "cell_type": "code",
   "execution_count": 258,
   "metadata": {},
   "outputs": [
    {
     "name": "stdout",
     "output_type": "stream",
     "text": [
      "Fitting 3 folds for each of 9 candidates, totalling 27 fits\n",
      "[CV 1/3; 1/9] START depth=7, iterations=800.....................................\n",
      "[CV 1/3; 1/9] END ...................depth=7, iterations=800; total time=  20.4s\n",
      "[CV 2/3; 1/9] START depth=7, iterations=800.....................................\n",
      "[CV 2/3; 1/9] END ...................depth=7, iterations=800; total time=  20.5s\n",
      "[CV 3/3; 1/9] START depth=7, iterations=800.....................................\n",
      "[CV 3/3; 1/9] END ...................depth=7, iterations=800; total time=  20.3s\n",
      "[CV 1/3; 2/9] START depth=7, iterations=900.....................................\n",
      "[CV 1/3; 2/9] END ...................depth=7, iterations=900; total time=  22.8s\n",
      "[CV 2/3; 2/9] START depth=7, iterations=900.....................................\n",
      "[CV 2/3; 2/9] END ...................depth=7, iterations=900; total time=  22.6s\n",
      "[CV 3/3; 2/9] START depth=7, iterations=900.....................................\n",
      "[CV 3/3; 2/9] END ...................depth=7, iterations=900; total time=  22.6s\n",
      "[CV 1/3; 3/9] START depth=7, iterations=1000....................................\n",
      "[CV 1/3; 3/9] END ..................depth=7, iterations=1000; total time=  24.8s\n",
      "[CV 2/3; 3/9] START depth=7, iterations=1000....................................\n",
      "[CV 2/3; 3/9] END ..................depth=7, iterations=1000; total time=  24.9s\n",
      "[CV 3/3; 3/9] START depth=7, iterations=1000....................................\n",
      "[CV 3/3; 3/9] END ..................depth=7, iterations=1000; total time=  24.9s\n",
      "[CV 1/3; 4/9] START depth=8, iterations=800.....................................\n",
      "[CV 1/3; 4/9] END ...................depth=8, iterations=800; total time=  26.9s\n",
      "[CV 2/3; 4/9] START depth=8, iterations=800.....................................\n",
      "[CV 2/3; 4/9] END ...................depth=8, iterations=800; total time=  27.0s\n",
      "[CV 3/3; 4/9] START depth=8, iterations=800.....................................\n",
      "[CV 3/3; 4/9] END ...................depth=8, iterations=800; total time=  27.2s\n",
      "[CV 1/3; 5/9] START depth=8, iterations=900.....................................\n",
      "[CV 1/3; 5/9] END ...................depth=8, iterations=900; total time=  30.0s\n",
      "[CV 2/3; 5/9] START depth=8, iterations=900.....................................\n",
      "[CV 2/3; 5/9] END ...................depth=8, iterations=900; total time=  31.1s\n",
      "[CV 3/3; 5/9] START depth=8, iterations=900.....................................\n",
      "[CV 3/3; 5/9] END ...................depth=8, iterations=900; total time=  30.6s\n",
      "[CV 1/3; 6/9] START depth=8, iterations=1000....................................\n",
      "[CV 1/3; 6/9] END ..................depth=8, iterations=1000; total time=  33.5s\n",
      "[CV 2/3; 6/9] START depth=8, iterations=1000....................................\n",
      "[CV 2/3; 6/9] END ..................depth=8, iterations=1000; total time=  33.5s\n",
      "[CV 3/3; 6/9] START depth=8, iterations=1000....................................\n",
      "[CV 3/3; 6/9] END ..................depth=8, iterations=1000; total time=  33.8s\n",
      "[CV 1/3; 7/9] START depth=9, iterations=800.....................................\n",
      "[CV 1/3; 7/9] END ...................depth=9, iterations=800; total time=  38.9s\n",
      "[CV 2/3; 7/9] START depth=9, iterations=800.....................................\n",
      "[CV 2/3; 7/9] END ...................depth=9, iterations=800; total time=  39.1s\n",
      "[CV 3/3; 7/9] START depth=9, iterations=800.....................................\n",
      "[CV 3/3; 7/9] END ...................depth=9, iterations=800; total time=  38.9s\n",
      "[CV 1/3; 8/9] START depth=9, iterations=900.....................................\n",
      "[CV 1/3; 8/9] END ...................depth=9, iterations=900; total time=  43.4s\n",
      "[CV 2/3; 8/9] START depth=9, iterations=900.....................................\n",
      "[CV 2/3; 8/9] END ...................depth=9, iterations=900; total time=  43.6s\n",
      "[CV 3/3; 8/9] START depth=9, iterations=900.....................................\n",
      "[CV 3/3; 8/9] END ...................depth=9, iterations=900; total time=  43.6s\n",
      "[CV 1/3; 9/9] START depth=9, iterations=1000....................................\n",
      "[CV 1/3; 9/9] END ..................depth=9, iterations=1000; total time=  48.0s\n",
      "[CV 2/3; 9/9] START depth=9, iterations=1000....................................\n",
      "[CV 2/3; 9/9] END ..................depth=9, iterations=1000; total time=  48.2s\n",
      "[CV 3/3; 9/9] START depth=9, iterations=1000....................................\n",
      "[CV 3/3; 9/9] END ..................depth=9, iterations=1000; total time=  48.0s\n",
      "CPU times: total: 32min 53s\n",
      "Wall time: 15min 18s\n"
     ]
    },
    {
     "data": {
      "text/plain": [
       "GridSearchCV(cv=3,\n",
       "             estimator=<catboost.core.CatBoostClassifier object at 0x000001CC47C8DF70>,\n",
       "             param_grid={'depth': [7, 8, 9], 'iterations': [800, 900, 1000]},\n",
       "             scoring='f1', verbose=300)"
      ]
     },
     "execution_count": 258,
     "metadata": {},
     "output_type": "execute_result"
    }
   ],
   "source": [
    "%%time\n",
    "gridsearch_cbc.fit(X_train, y_train)"
   ]
  },
  {
   "cell_type": "code",
   "execution_count": 259,
   "metadata": {
    "tags": []
   },
   "outputs": [
    {
     "data": {
      "text/plain": [
       "{'iterations': 900,\n",
       " 'depth': 9,\n",
       " 'verbose': False,\n",
       " 'auto_class_weights': 'SqrtBalanced',\n",
       " 'eval_metric': 'F1',\n",
       " 'task_type': 'GPU'}"
      ]
     },
     "execution_count": 259,
     "metadata": {},
     "output_type": "execute_result"
    }
   ],
   "source": [
    "gridsearch_cbc.best_estimator_.get_params()"
   ]
  },
  {
   "cell_type": "code",
   "execution_count": 260,
   "metadata": {},
   "outputs": [
    {
     "data": {
      "text/plain": [
       "0.9736269608030228"
      ]
     },
     "execution_count": 260,
     "metadata": {},
     "output_type": "execute_result"
    }
   ],
   "source": [
    "f1_score(y_train, gridsearch_cbc.best_estimator_.predict(X_train))"
   ]
  },
  {
   "cell_type": "markdown",
   "metadata": {
    "tags": []
   },
   "source": [
    "###### 1.6.5.8.4.2. Validation"
   ]
  },
  {
   "cell_type": "code",
   "execution_count": 261,
   "metadata": {},
   "outputs": [],
   "source": [
    "valid_split_filter=train_data_full.index.isin(valid_data.index)"
   ]
  },
  {
   "cell_type": "code",
   "execution_count": 262,
   "metadata": {},
   "outputs": [],
   "source": [
    "features_valid=features[valid_split_filter]\n",
    "features_train=features[~valid_split_filter]"
   ]
  },
  {
   "cell_type": "code",
   "execution_count": 263,
   "metadata": {},
   "outputs": [],
   "source": [
    "target_valid=train_data_full[valid_split_filter].toxic.values.ravel()\n",
    "target_train=train_data_full[~valid_split_filter].toxic.values.ravel()"
   ]
  },
  {
   "cell_type": "code",
   "execution_count": 264,
   "metadata": {},
   "outputs": [
    {
     "data": {
      "text/plain": [
       "(31858, 768)"
      ]
     },
     "execution_count": 264,
     "metadata": {},
     "output_type": "execute_result"
    }
   ],
   "source": [
    "features_valid.shape"
   ]
  },
  {
   "cell_type": "code",
   "execution_count": 265,
   "metadata": {},
   "outputs": [],
   "source": [
    "X_train=features_train\n",
    "y_train=target_train"
   ]
  },
  {
   "cell_type": "code",
   "execution_count": 266,
   "metadata": {},
   "outputs": [],
   "source": [
    "CBC = CatBoostClassifier()"
   ]
  },
  {
   "cell_type": "code",
   "execution_count": 267,
   "metadata": {},
   "outputs": [
    {
     "data": {
      "text/plain": [
       "<catboost.core.CatBoostClassifier at 0x1cc4f752e50>"
      ]
     },
     "execution_count": 267,
     "metadata": {},
     "output_type": "execute_result"
    }
   ],
   "source": [
    "CBC.set_params(**gridsearch_cbc.best_estimator_.get_params())"
   ]
  },
  {
   "cell_type": "code",
   "execution_count": 268,
   "metadata": {},
   "outputs": [
    {
     "name": "stdout",
     "output_type": "stream",
     "text": [
      "CPU times: total: 1min 32s\n",
      "Wall time: 44.1 s\n"
     ]
    },
    {
     "data": {
      "text/plain": [
       "<catboost.core.CatBoostClassifier at 0x1cc4f752e50>"
      ]
     },
     "execution_count": 268,
     "metadata": {},
     "output_type": "execute_result"
    }
   ],
   "source": [
    "%%time\n",
    "CBC.fit(X_train,y_train)"
   ]
  },
  {
   "cell_type": "code",
   "execution_count": 269,
   "metadata": {},
   "outputs": [
    {
     "name": "stdout",
     "output_type": "stream",
     "text": [
      "--Results for validation data--\n",
      "F1-score: 0.8693084693084694\n",
      "Precision score: 0.8598217030433446\n",
      "Recall score: 0.8790069138906348\n",
      "\n",
      "\n"
     ]
    },
    {
     "data": {
      "image/png": "[encoded data removed]",
      "text/plain": [
       "<Figure size 640x480 with 2 Axes>"
      ]
     },
     "metadata": {},
     "output_type": "display_data"
    }
   ],
   "source": [
    "show_model_results(target_valid,CBC.predict(features_valid))"
   ]
  },
  {
   "cell_type": "markdown",
   "metadata": {
    "tags": []
   },
   "source": [
    "###### 1.6.5.8.4.3. Validation with words count"
   ]
  },
  {
   "cell_type": "markdown",
   "metadata": {},
   "source": [
    "Посмотрим на качество нашей модели при добавлении в признаки числа слов в комментарии:"
   ]
  },
  {
   "cell_type": "code",
   "execution_count": 270,
   "metadata": {},
   "outputs": [],
   "source": [
    "valid_split_filter=train_data_full.index.isin(valid_data.index)"
   ]
  },
  {
   "cell_type": "code",
   "execution_count": 271,
   "metadata": {},
   "outputs": [],
   "source": [
    "features_valid=features[valid_split_filter]\n",
    "features_train=features[~valid_split_filter]"
   ]
  },
  {
   "cell_type": "code",
   "execution_count": 272,
   "metadata": {},
   "outputs": [],
   "source": [
    "target_valid=train_data_full[valid_split_filter].toxic.values.ravel()\n",
    "target_train=train_data_full[~valid_split_filter].toxic.values.ravel()"
   ]
  },
  {
   "cell_type": "markdown",
   "metadata": {
    "tags": []
   },
   "source": [
    "Добавим информацию о числе слов через np.columnstack():"
   ]
  },
  {
   "cell_type": "code",
   "execution_count": 273,
   "metadata": {},
   "outputs": [],
   "source": [
    "features_train=np.column_stack((features_train,train_data.text.apply(lambda x: len(x.split()))))"
   ]
  },
  {
   "cell_type": "code",
   "execution_count": 274,
   "metadata": {},
   "outputs": [],
   "source": [
    "features_valid=np.column_stack((features_valid,valid_data.text.apply(lambda x: len(x.split()))))"
   ]
  },
  {
   "cell_type": "code",
   "execution_count": 275,
   "metadata": {},
   "outputs": [
    {
     "data": {
      "text/plain": [
       "(31858, 769)"
      ]
     },
     "execution_count": 275,
     "metadata": {},
     "output_type": "execute_result"
    }
   ],
   "source": [
    "features_valid.shape"
   ]
  },
  {
   "cell_type": "code",
   "execution_count": 276,
   "metadata": {},
   "outputs": [],
   "source": [
    "X_train=features_train\n",
    "y_train=target_train"
   ]
  },
  {
   "cell_type": "code",
   "execution_count": 277,
   "metadata": {},
   "outputs": [],
   "source": [
    "CBC = CatBoostClassifier()"
   ]
  },
  {
   "cell_type": "code",
   "execution_count": 278,
   "metadata": {},
   "outputs": [
    {
     "data": {
      "text/plain": [
       "<catboost.core.CatBoostClassifier at 0x1cc378aeee0>"
      ]
     },
     "execution_count": 278,
     "metadata": {},
     "output_type": "execute_result"
    }
   ],
   "source": [
    "CBC.set_params(**gridsearch_cbc.best_estimator_.get_params())"
   ]
  },
  {
   "cell_type": "code",
   "execution_count": 279,
   "metadata": {},
   "outputs": [
    {
     "name": "stdout",
     "output_type": "stream",
     "text": [
      "CPU times: total: 1min 44s\n",
      "Wall time: 56.2 s\n"
     ]
    },
    {
     "data": {
      "text/plain": [
       "<catboost.core.CatBoostClassifier at 0x1cc378aeee0>"
      ]
     },
     "execution_count": 279,
     "metadata": {},
     "output_type": "execute_result"
    }
   ],
   "source": [
    "%%time\n",
    "CBC.fit(X_train,y_train)"
   ]
  },
  {
   "cell_type": "code",
   "execution_count": 280,
   "metadata": {},
   "outputs": [
    {
     "name": "stdout",
     "output_type": "stream",
     "text": [
      "--Results for validation data--\n",
      "F1-score: 0.8725688501633733\n",
      "Precision score: 0.8640986132511557\n",
      "Recall score: 0.8812067881835324\n",
      "\n",
      "\n"
     ]
    },
    {
     "data": {
      "image/png": "[encoded data removed]",
      "text/plain": [
       "<Figure size 640x480 with 2 Axes>"
      ]
     },
     "metadata": {},
     "output_type": "display_data"
    }
   ],
   "source": [
    "show_model_results(target_valid,CBC.predict(features_valid))"
   ]
  },
  {
   "cell_type": "markdown",
   "metadata": {
    "tags": []
   },
   "source": [
    "##### 1.6.5.8.5. Distillbert fine-tuned embeddings"
   ]
  },
  {
   "cell_type": "code",
   "execution_count": 281,
   "metadata": {},
   "outputs": [
    {
     "data": {
      "text/plain": [
       "8230"
      ]
     },
     "execution_count": 281,
     "metadata": {},
     "output_type": "execute_result"
    }
   ],
   "source": [
    "gc.collect()"
   ]
  },
  {
   "cell_type": "code",
   "execution_count": 282,
   "metadata": {},
   "outputs": [],
   "source": [
    "with open('embeddings/train_distilbert_finetuned.pkl', 'rb') as file:\n",
    "    features = pickle.load(file)"
   ]
  },
  {
   "cell_type": "markdown",
   "metadata": {},
   "source": [
    "###### 1.6.5.8.5.1. Full train dataset GridSearchCV"
   ]
  },
  {
   "cell_type": "code",
   "execution_count": 283,
   "metadata": {},
   "outputs": [],
   "source": [
    "X_train=features\n",
    "y_train=train_data_full.toxic"
   ]
  },
  {
   "cell_type": "code",
   "execution_count": 284,
   "metadata": {},
   "outputs": [],
   "source": [
    "CBC = CatBoostClassifier( auto_class_weights='SqrtBalanced',\n",
    "                         task_type=\"GPU\",\n",
    "                         iterations=800,\n",
    "                         depth=8,                         \n",
    "                         eval_metric='F1', \n",
    "                         verbose=False)"
   ]
  },
  {
   "cell_type": "code",
   "execution_count": 285,
   "metadata": {},
   "outputs": [
    {
     "name": "stdout",
     "output_type": "stream",
     "text": [
      "CPU times: total: 1min 2s\n",
      "Wall time: 27.4 s\n"
     ]
    },
    {
     "data": {
      "text/plain": [
       "<catboost.core.CatBoostClassifier at 0x1cc3773f400>"
      ]
     },
     "execution_count": 285,
     "metadata": {},
     "output_type": "execute_result"
    }
   ],
   "source": [
    "%%time\n",
    "CBC.fit(X_train,y_train)"
   ]
  },
  {
   "cell_type": "code",
   "execution_count": 286,
   "metadata": {},
   "outputs": [
    {
     "data": {
      "text/plain": [
       "0.9634011372743579"
      ]
     },
     "execution_count": 286,
     "metadata": {},
     "output_type": "execute_result"
    }
   ],
   "source": [
    "f1_score(y_train, CBC.predict(X_train))"
   ]
  },
  {
   "cell_type": "code",
   "execution_count": 287,
   "metadata": {},
   "outputs": [],
   "source": [
    "parameters = {\n",
    "                'depth': [7,8,9],\n",
    "                'iterations': [800,900,1000]\n",
    "             }"
   ]
  },
  {
   "cell_type": "code",
   "execution_count": 288,
   "metadata": {},
   "outputs": [],
   "source": [
    "CBC = CatBoostClassifier( auto_class_weights='SqrtBalanced',\n",
    "                         task_type=\"GPU\",\n",
    "                         iterations=800,\n",
    "                         depth=8,                         \n",
    "                         eval_metric='F1', \n",
    "                         verbose=False)"
   ]
  },
  {
   "cell_type": "code",
   "execution_count": 289,
   "metadata": {},
   "outputs": [],
   "source": [
    "gridsearch_cbc = GridSearchCV(\n",
    "    CBC,\n",
    "    parameters,\n",
    "    # n_iter=10,\n",
    "    scoring='f1',\n",
    "    verbose=300,\n",
    "    cv=3,\n",
    "    # random_state=13_01_23,\n",
    ")"
   ]
  },
  {
   "cell_type": "code",
   "execution_count": 290,
   "metadata": {},
   "outputs": [
    {
     "name": "stdout",
     "output_type": "stream",
     "text": [
      "Fitting 3 folds for each of 9 candidates, totalling 27 fits\n",
      "[CV 1/3; 1/9] START depth=7, iterations=800.....................................\n",
      "[CV 1/3; 1/9] END ...................depth=7, iterations=800; total time=  19.8s\n",
      "[CV 2/3; 1/9] START depth=7, iterations=800.....................................\n",
      "[CV 2/3; 1/9] END ...................depth=7, iterations=800; total time=  19.9s\n",
      "[CV 3/3; 1/9] START depth=7, iterations=800.....................................\n",
      "[CV 3/3; 1/9] END ...................depth=7, iterations=800; total time=  19.8s\n",
      "[CV 1/3; 2/9] START depth=7, iterations=900.....................................\n",
      "[CV 1/3; 2/9] END ...................depth=7, iterations=900; total time=  21.8s\n",
      "[CV 2/3; 2/9] START depth=7, iterations=900.....................................\n",
      "[CV 2/3; 2/9] END ...................depth=7, iterations=900; total time=  22.0s\n",
      "[CV 3/3; 2/9] START depth=7, iterations=900.....................................\n",
      "[CV 3/3; 2/9] END ...................depth=7, iterations=900; total time=  22.0s\n",
      "[CV 1/3; 3/9] START depth=7, iterations=1000....................................\n",
      "[CV 1/3; 3/9] END ..................depth=7, iterations=1000; total time=  24.1s\n",
      "[CV 2/3; 3/9] START depth=7, iterations=1000....................................\n",
      "[CV 2/3; 3/9] END ..................depth=7, iterations=1000; total time=  24.1s\n",
      "[CV 3/3; 3/9] START depth=7, iterations=1000....................................\n",
      "[CV 3/3; 3/9] END ..................depth=7, iterations=1000; total time=  24.2s\n",
      "[CV 1/3; 4/9] START depth=8, iterations=800.....................................\n",
      "[CV 1/3; 4/9] END ...................depth=8, iterations=800; total time=  25.5s\n",
      "[CV 2/3; 4/9] START depth=8, iterations=800.....................................\n",
      "[CV 2/3; 4/9] END ...................depth=8, iterations=800; total time=  25.7s\n",
      "[CV 3/3; 4/9] START depth=8, iterations=800.....................................\n",
      "[CV 3/3; 4/9] END ...................depth=8, iterations=800; total time=  25.5s\n",
      "[CV 1/3; 5/9] START depth=8, iterations=900.....................................\n",
      "[CV 1/3; 5/9] END ...................depth=8, iterations=900; total time=  28.5s\n",
      "[CV 2/3; 5/9] START depth=8, iterations=900.....................................\n",
      "[CV 2/3; 5/9] END ...................depth=8, iterations=900; total time=  28.2s\n",
      "[CV 3/3; 5/9] START depth=8, iterations=900.....................................\n",
      "[CV 3/3; 5/9] END ...................depth=8, iterations=900; total time=  28.3s\n",
      "[CV 1/3; 6/9] START depth=8, iterations=1000....................................\n",
      "[CV 1/3; 6/9] END ..................depth=8, iterations=1000; total time=  31.2s\n",
      "[CV 2/3; 6/9] START depth=8, iterations=1000....................................\n",
      "[CV 2/3; 6/9] END ..................depth=8, iterations=1000; total time=  31.1s\n",
      "[CV 3/3; 6/9] START depth=8, iterations=1000....................................\n",
      "[CV 3/3; 6/9] END ..................depth=8, iterations=1000; total time=  31.1s\n",
      "[CV 1/3; 7/9] START depth=9, iterations=800.....................................\n",
      "[CV 1/3; 7/9] END ...................depth=9, iterations=800; total time=  35.7s\n",
      "[CV 2/3; 7/9] START depth=9, iterations=800.....................................\n",
      "[CV 2/3; 7/9] END ...................depth=9, iterations=800; total time=  35.5s\n",
      "[CV 3/3; 7/9] START depth=9, iterations=800.....................................\n",
      "[CV 3/3; 7/9] END ...................depth=9, iterations=800; total time=  35.5s\n",
      "[CV 1/3; 8/9] START depth=9, iterations=900.....................................\n",
      "[CV 1/3; 8/9] END ...................depth=9, iterations=900; total time=  39.7s\n",
      "[CV 2/3; 8/9] START depth=9, iterations=900.....................................\n",
      "[CV 2/3; 8/9] END ...................depth=9, iterations=900; total time=  40.8s\n",
      "[CV 3/3; 8/9] START depth=9, iterations=900.....................................\n",
      "[CV 3/3; 8/9] END ...................depth=9, iterations=900; total time=  40.2s\n",
      "[CV 1/3; 9/9] START depth=9, iterations=1000....................................\n",
      "[CV 1/3; 9/9] END ..................depth=9, iterations=1000; total time=  44.1s\n",
      "[CV 2/3; 9/9] START depth=9, iterations=1000....................................\n",
      "[CV 2/3; 9/9] END ..................depth=9, iterations=1000; total time=  44.3s\n",
      "[CV 3/3; 9/9] START depth=9, iterations=1000....................................\n",
      "[CV 3/3; 9/9] END ..................depth=9, iterations=1000; total time=  44.4s\n",
      "CPU times: total: 30min 33s\n",
      "Wall time: 14min 6s\n"
     ]
    },
    {
     "data": {
      "text/plain": [
       "GridSearchCV(cv=3,\n",
       "             estimator=<catboost.core.CatBoostClassifier object at 0x000001CC4F98A490>,\n",
       "             param_grid={'depth': [7, 8, 9], 'iterations': [800, 900, 1000]},\n",
       "             scoring='f1', verbose=300)"
      ]
     },
     "execution_count": 290,
     "metadata": {},
     "output_type": "execute_result"
    }
   ],
   "source": [
    "%%time\n",
    "gridsearch_cbc.fit(X_train, y_train)"
   ]
  },
  {
   "cell_type": "code",
   "execution_count": 291,
   "metadata": {
    "tags": []
   },
   "outputs": [
    {
     "data": {
      "text/plain": [
       "{'iterations': 900,\n",
       " 'depth': 8,\n",
       " 'verbose': False,\n",
       " 'auto_class_weights': 'SqrtBalanced',\n",
       " 'eval_metric': 'F1',\n",
       " 'task_type': 'GPU'}"
      ]
     },
     "execution_count": 291,
     "metadata": {},
     "output_type": "execute_result"
    }
   ],
   "source": [
    "gridsearch_cbc.best_estimator_.get_params()"
   ]
  },
  {
   "cell_type": "code",
   "execution_count": 292,
   "metadata": {},
   "outputs": [
    {
     "data": {
      "text/plain": [
       "0.9236754485150923"
      ]
     },
     "execution_count": 292,
     "metadata": {},
     "output_type": "execute_result"
    }
   ],
   "source": [
    "gridsearch_cbc.best_score_"
   ]
  },
  {
   "cell_type": "code",
   "execution_count": 293,
   "metadata": {},
   "outputs": [
    {
     "data": {
      "text/plain": [
       "0.963485825479797"
      ]
     },
     "execution_count": 293,
     "metadata": {},
     "output_type": "execute_result"
    }
   ],
   "source": [
    "f1_score(y_train, gridsearch_cbc.best_estimator_.predict(X_train))"
   ]
  },
  {
   "cell_type": "markdown",
   "metadata": {
    "tags": []
   },
   "source": [
    "###### 1.6.5.8.5.2. Validation"
   ]
  },
  {
   "cell_type": "code",
   "execution_count": 294,
   "metadata": {},
   "outputs": [],
   "source": [
    "valid_split_filter=train_data_full.index.isin(valid_data.index)"
   ]
  },
  {
   "cell_type": "code",
   "execution_count": 295,
   "metadata": {},
   "outputs": [],
   "source": [
    "features_valid=features[valid_split_filter]\n",
    "features_train=features[~valid_split_filter]"
   ]
  },
  {
   "cell_type": "code",
   "execution_count": 296,
   "metadata": {},
   "outputs": [],
   "source": [
    "target_valid=train_data_full[valid_split_filter].toxic.values.ravel()\n",
    "target_train=train_data_full[~valid_split_filter].toxic.values.ravel()"
   ]
  },
  {
   "cell_type": "code",
   "execution_count": 297,
   "metadata": {},
   "outputs": [
    {
     "data": {
      "text/plain": [
       "(31858, 768)"
      ]
     },
     "execution_count": 297,
     "metadata": {},
     "output_type": "execute_result"
    }
   ],
   "source": [
    "features_valid.shape"
   ]
  },
  {
   "cell_type": "code",
   "execution_count": 298,
   "metadata": {},
   "outputs": [],
   "source": [
    "X_train=features_train\n",
    "y_train=target_train"
   ]
  },
  {
   "cell_type": "code",
   "execution_count": 299,
   "metadata": {},
   "outputs": [],
   "source": [
    "CBC = CatBoostClassifier()"
   ]
  },
  {
   "cell_type": "code",
   "execution_count": 300,
   "metadata": {},
   "outputs": [
    {
     "data": {
      "text/plain": [
       "<catboost.core.CatBoostClassifier at 0x1cc4f988670>"
      ]
     },
     "execution_count": 300,
     "metadata": {},
     "output_type": "execute_result"
    }
   ],
   "source": [
    "CBC.set_params(**gridsearch_cbc.best_estimator_.get_params())"
   ]
  },
  {
   "cell_type": "code",
   "execution_count": 301,
   "metadata": {},
   "outputs": [
    {
     "name": "stdout",
     "output_type": "stream",
     "text": [
      "CPU times: total: 1min\n",
      "Wall time: 28.1 s\n"
     ]
    },
    {
     "data": {
      "text/plain": [
       "<catboost.core.CatBoostClassifier at 0x1cc4f988670>"
      ]
     },
     "execution_count": 301,
     "metadata": {},
     "output_type": "execute_result"
    }
   ],
   "source": [
    "%%time\n",
    "CBC.fit(X_train,y_train)"
   ]
  },
  {
   "cell_type": "code",
   "execution_count": 302,
   "metadata": {},
   "outputs": [
    {
     "name": "stdout",
     "output_type": "stream",
     "text": [
      "--Results for validation data--\n",
      "F1-score: 0.822866092404072\n",
      "Precision score: 0.8201685919450515\n",
      "Recall score: 0.8255813953488372\n",
      "\n",
      "\n"
     ]
    },
    {
     "data": {
      "image/png": "[encoded data removed]",
      "text/plain": [
       "<Figure size 640x480 with 2 Axes>"
      ]
     },
     "metadata": {},
     "output_type": "display_data"
    }
   ],
   "source": [
    "show_model_results(target_valid,CBC.predict(features_valid))"
   ]
  },
  {
   "cell_type": "markdown",
   "metadata": {
    "tags": []
   },
   "source": [
    "##### 1.6.5.8.6. Выводы"
   ]
  },
  {
   "cell_type": "markdown",
   "metadata": {},
   "source": [
    "CatBoost показал результаты для базовых моделей (не обученных на нашем типе данных Bert и DistillBert) выше чем  остальные модели на эмбеддингах, но все равно ниже требуемого значения F1 меры. Для эмбеддингов обученной нами DistillBert-модели качество чуть меньше чем у RandomForestClassifier(F1 ~0.822 против ~0.825 у RFC). Для эмбеддингов от модели roberta_toxicity_classifier был получен максимальный результат качества среди всех моделей (F1 0.8693). Кроме того, после добавления в качестве признака числа слов в комментарии удалось еще немного улучшить этоn результат до F1 0.8726."
   ]
  },
  {
   "cell_type": "markdown",
   "metadata": {},
   "source": [
    "## 1.7. Тестирование"
   ]
  },
  {
   "cell_type": "markdown",
   "metadata": {},
   "source": [
    "Самое высокое значение F1-меры было получено на CatBoost модели обученной на эмбеддингах от предобученной Roberta (s-nlp/roberta_toxicity_classifier) с добавлением данных о числе слов в комментариях. Проверим качество этой модели на тестовой выборке:"
   ]
  },
  {
   "cell_type": "markdown",
   "metadata": {
    "tags": []
   },
   "source": [
    "Обучим модель на всех тестовых данных-эмбеддингах и добавим информацию о числе слов через np.columnstack():"
   ]
  },
  {
   "cell_type": "code",
   "execution_count": 303,
   "metadata": {},
   "outputs": [],
   "source": [
    "with open('embeddings/train_roberta.pkl', 'rb') as file:\n",
    "    features = pickle.load(file)"
   ]
  },
  {
   "cell_type": "code",
   "execution_count": 304,
   "metadata": {
    "tags": []
   },
   "outputs": [],
   "source": [
    "X_train=np.column_stack((features,train_data_full.text.apply(lambda x: len(x.split()))))\n",
    "y_train=train_data_full.toxic.values"
   ]
  },
  {
   "cell_type": "code",
   "execution_count": 305,
   "metadata": {},
   "outputs": [],
   "source": [
    "CBC = CatBoostClassifier(auto_class_weights='SqrtBalanced',\n",
    "                         task_type=\"GPU\",\n",
    "                         iterations=900,\n",
    "                         depth=9,                         \n",
    "                         eval_metric='F1', \n",
    "                         verbose=False)"
   ]
  },
  {
   "cell_type": "code",
   "execution_count": 306,
   "metadata": {},
   "outputs": [
    {
     "name": "stdout",
     "output_type": "stream",
     "text": [
      "CPU times: total: 1min 57s\n",
      "Wall time: 1min 4s\n"
     ]
    },
    {
     "data": {
      "text/plain": [
       "<catboost.core.CatBoostClassifier at 0x1cc378b5070>"
      ]
     },
     "execution_count": 306,
     "metadata": {},
     "output_type": "execute_result"
    }
   ],
   "source": [
    "%%time\n",
    "CBC.fit(X_train,y_train)"
   ]
  },
  {
   "cell_type": "markdown",
   "metadata": {},
   "source": [
    "Проверяем на тестовых данных:"
   ]
  },
  {
   "cell_type": "code",
   "execution_count": 307,
   "metadata": {},
   "outputs": [],
   "source": [
    "with open('embeddings/test_roberta.pkl', 'rb') as file:\n",
    "    test_features = pickle.load(file)"
   ]
  },
  {
   "cell_type": "code",
   "execution_count": 308,
   "metadata": {
    "tags": []
   },
   "outputs": [],
   "source": [
    "X_test=np.column_stack((test_features,test_data.text.apply(lambda x: len(x.split()))))\n",
    "y_test=test_data.toxic.values"
   ]
  },
  {
   "cell_type": "code",
   "execution_count": 309,
   "metadata": {},
   "outputs": [
    {
     "name": "stdout",
     "output_type": "stream",
     "text": [
      "--Results for test data--\n",
      "F1-score: 0.8722373599757796\n",
      "Precision score: 0.8746205221615058\n",
      "Recall score: 0.8698671497584541\n",
      "\n",
      "\n"
     ]
    },
    {
     "data": {
      "image/png": "[encoded data removed]",
      "text/plain": [
       "<Figure size 640x480 with 2 Axes>"
      ]
     },
     "metadata": {},
     "output_type": "display_data"
    }
   ],
   "source": [
    "show_model_results(y_test, CBC.predict(X_test), data_type='test')"
   ]
  },
  {
   "cell_type": "markdown",
   "metadata": {},
   "source": [
    "Посмотрим также на скорость предсказаний CatBoost-модели:"
   ]
  },
  {
   "cell_type": "code",
   "execution_count": 310,
   "metadata": {},
   "outputs": [
    {
     "name": "stdout",
     "output_type": "stream",
     "text": [
      "CPU times: total: 5.7 s\n",
      "Wall time: 5.08 s\n"
     ]
    },
    {
     "data": {
      "text/plain": [
       "array([0, 1, 1, ..., 1, 0, 0], dtype=int64)"
      ]
     },
     "execution_count": 310,
     "metadata": {},
     "output_type": "execute_result"
    }
   ],
   "source": [
    "%%time\n",
    "CBC.predict(X_test)"
   ]
  },
  {
   "cell_type": "markdown",
   "metadata": {
    "tags": []
   },
   "source": [
    "### 1.7.1. Выводы"
   ]
  },
  {
   "cell_type": "markdown",
   "metadata": {},
   "source": [
    "На тестовой выборке модель CatBoost поверх эмбеддингов от Roberta-toxicity-classifier подтвердила свои результаты качества предсказаний, показав значение меры F1 практически такое же как на валидационной выборке (0.8722 против 0.8726)."
   ]
  },
  {
   "cell_type": "markdown",
   "metadata": {
    "tags": []
   },
   "source": [
    "## 1.8. Выводы"
   ]
  },
  {
   "cell_type": "markdown",
   "metadata": {},
   "source": [
    "Мы использовали различные языковые модели (BERT и его аналоги DistillBERT и RoBERTa) для задачи классификации комментариев по их токсичности путем обучения самих языковых моделей на наших данных, а также путем использования эмбеддингов, полученных от этих языковых моделей для обучения LogisticRegression, DecisionTreeClassifier, RandomForestClassifier и CatBoostClassifier.\n",
    "* Лучше всех себя показала модель CatBoost поверх эмбеддингов от Roberta-toxicity-classifier с дополнительным признаком числа слов в комментарии (F1 ~0.872 при необходимых 0.75)\n",
    "* Результаты предсказаний предобученной языковой модели Roberta-toxicity-classifier совсем немногим уступает CatBoost-у с доп. признаком (F1 0.8693 против 0.8722)\n",
    "* Результаты всех моделей поверх эмбеддингов коррелируют с результатами предсказаний самих языковых моделей на наших данных (чем лучше предсказывает языковая модель, тем лучше резульаты на её эмбеддингах)\n",
    "* Генерация эмбеддингов с помощью torch используя GPU получалась немногим быстрее чем получение самих предсказаний от модели с помощью tensorflow\n",
    "  * для Roberta-toxicity-classifier CPU times для генерации выборки размером с валидационную: 12min 41s против 17min 34s\n",
    "  * для обученного нами DistillBert CPU times для генерации выборки размером с валидационную: 7min 30s против 8min 40s\n",
    "  *  С учетом того что CatBoost предсказания по нашим тестам происходят очень быстро (CPU times: 5.7 s для тестового датасета) можно получить некое улучшение быстродействия модели относительно предсказаний напрямую языковой моделью."
   ]
  },
  {
   "cell_type": "code",
   "execution_count": null,
   "metadata": {},
   "outputs": [],
   "source": []
  }
 ],
 "metadata": {
  "kernelspec": {
   "display_name": "Python 3 (ipykernel)",
   "language": "python",
   "name": "python3"
  },
  "language_info": {
   "codemirror_mode": {
    "name": "ipython",
    "version": 3
   },
   "file_extension": ".py",
   "mimetype": "text/x-python",
   "name": "python",
   "nbconvert_exporter": "python",
   "pygments_lexer": "ipython3",
   "version": "3.9.16"
  },
  "toc": {
   "base_numbering": 1,
   "nav_menu": {},
   "number_sections": true,
   "sideBar": true,
   "skip_h1_title": true,
   "title_cell": "Содержание",
   "title_sidebar": "Contents",
   "toc_cell": true,
   "toc_position": {
    "height": "calc(100% - 180px)",
    "left": "10px",
    "top": "150px",
    "width": "302.391px"
   },
   "toc_section_display": true,
   "toc_window_display": false
  },
  "toc-autonumbering": false
 },
 "nbformat": 4,
 "nbformat_minor": 4
}
