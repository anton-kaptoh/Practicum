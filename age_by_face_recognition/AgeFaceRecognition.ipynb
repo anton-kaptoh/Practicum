{
 "cells": [
  {
   "cell_type": "markdown",
   "metadata": {},
   "source": [
    "<!--TABLE OF CONTENTS-->\n",
    "<b>Contents:</b>\n",
    "- [1. Определение возраста по фотографии](#1.-Определение-возраста-по-фотографии)\n",
    "  - [1.1. Импорты](#1.1.-Импорты)\n",
    "  - [1.2. Подготовка аналогичных данных в локальной среде](#1.2.-Подготовка-аналогичных-данных-в-локальной-среде)\n",
    "  - [1.3. Путь к данным в локальной среде](#1.3.-Путь-к-данным-в-локальной-среде)\n",
    "  - [1.4. Загрузка данных](#1.4.-Загрузка-данных)\n",
    "  - [1.5. Flow from dataframe 256](#1.5.-Flow-from-dataframe-256)\n",
    "  - [1.6. Исследовательский анализ данных](#1.6.-Исследовательский-анализ-данных)\n",
    "    - [1.6.1. Возраст](#1.6.1.-Возраст)\n",
    "    - [1.6.2. Размеры фотографий](#1.6.2.-Размеры-фотографий)\n",
    "    - [1.6.3. Выводы](#1.6.3.-Выводы)\n",
    "  - [1.7. Обучение](#1.7.-Обучение)\n",
    "    - [1.7.1. Обучение модели на сервере с GPU (Tesla V100-SXM2-32GB)](#1.7.1.-Обучение-модели-на-сервере-с-GPU-(Tesla-V100-SXM2-32GB))\n",
    "    - [1.7.2. Обучение в локальной среде](#1.7.2.-Обучение-в-локальной-среде)\n",
    "      - [1.7.2.1. Initial model config (batch size 16)](#1.7.2.1.-Initial-model-config-(batch-size-16))\n",
    "      - [1.7.2.2. Обучение за два этапа](#1.7.2.2.-Обучение-за-два-этапа)\n",
    "      - [1.7.2.3. Batch size 32](#1.7.2.3.-Batch-size-32)\n",
    "      - [1.7.2.4. Image size 300x300, learning rate 0.00005, first Dense layer size 256](#1.7.2.4.-Image-size-300x300,-learning-rate-0.00005,-first-Dense-layer-size-256)\n",
    "        - [1.7.2.4.1. Сохранение модели](#1.7.2.4.1.-Сохранение-модели)\n",
    "        - [1.7.2.4.2. Дополнительно обучение модели](#1.7.2.4.2.-Дополнительно-обучение-модели)\n",
    "      - [1.7.2.5. Added horizontal flip](#1.7.2.5.-Added-horizontal-flip)\n",
    "        - [1.7.2.5.1. Сохранение модели](#1.7.2.5.1.-Сохранение-модели)\n",
    "      - [1.7.2.6. Added horizontal flip and reduced image size](#1.7.2.6.-Added-horizontal-flip-and-reduced-image-size)\n",
    "  - [1.8. Тестирование](#1.8.-Тестирование)\n",
    "  - [1.9. Выводы](#1.9.-Выводы)"
   ]
  },
  {
   "cell_type": "markdown",
   "metadata": {
    "tags": []
   },
   "source": [
    "# 1. Определение возраста по фотографии"
   ]
  },
  {
   "cell_type": "markdown",
   "metadata": {},
   "source": [
    "Необходимо разработать модель для определния возраста человека по фотографии его лица."
   ]
  },
  {
   "attachments": {},
   "cell_type": "markdown",
   "metadata": {},
   "source": [
    "<b>Описание данных</b><div class=\"paragraph\">Данные взяты с сайта <a href=\"http://chalearnlap.cvc.uab.es/dataset/26/description/\" target=\"_blank\">ChaLearn Looking at People</a>."
   ]
  },
  {
   "cell_type": "markdown",
   "metadata": {
    "tags": []
   },
   "source": [
    "## 1.1. Импорты"
   ]
  },
  {
   "cell_type": "code",
   "execution_count": 1,
   "metadata": {},
   "outputs": [
    {
     "name": "stdout",
     "output_type": "stream",
     "text": [
      "Requirement already satisfied: imagesize in /opt/conda/lib/python3.9/site-packages (1.4.1)\n"
     ]
    }
   ],
   "source": [
    "!pip install imagesize  \n",
    "import imagesize"
   ]
  },
  {
   "cell_type": "code",
   "execution_count": 5,
   "metadata": {},
   "outputs": [],
   "source": [
    "import numpy as np\n",
    "import pandas as pd\n",
    "\n",
    "from tensorflow.keras.preprocessing.image import ImageDataGenerator\n",
    "import matplotlib.pyplot as plt\n",
    "\n",
    "from tensorflow.keras.layers import  Dense,GlobalAveragePooling2D\n",
    "from tensorflow.keras.models import Sequential\n",
    "from tensorflow.keras.preprocessing.image import ImageDataGenerator\n",
    "from tensorflow.keras.applications.resnet import ResNet50\n",
    "from tensorflow.keras.optimizers import Adam\n",
    "from keras.models import load_model"
   ]
  },
  {
   "cell_type": "code",
   "execution_count": 3,
   "metadata": {},
   "outputs": [],
   "source": [
    "DATA_PATH='/datasets/faces'"
   ]
  },
  {
   "cell_type": "markdown",
   "metadata": {},
   "source": [
    "## 1.2. Подготовка аналогичных данных в локальной среде"
   ]
  },
  {
   "cell_type": "markdown",
   "metadata": {
    "tags": []
   },
   "source": [
    "```bash\n",
    "!wget http://158.109.8.102/AppaRealAge/appa-real-release.zip\n",
    "!unzip appa-real-release.zip\n",
    "```"
   ]
  },
  {
   "cell_type": "markdown",
   "metadata": {},
   "source": [
    "В оригнальном датасете снимки лиц в названии содержат '.jpg_face.'"
   ]
  },
  {
   "cell_type": "markdown",
   "metadata": {},
   "source": [
    "```bash\n",
    "!cp appa-real-release/test/*.jpg_face.* datasets/faces/final_files\n",
    "!cp appa-real-release/valid/*.jpg_face.* datasets/faces/final_files\n",
    "!cp appa-real-release/train/*.jpg_face.* datasets/faces/final_files\n",
    "```"
   ]
  },
  {
   "cell_type": "markdown",
   "metadata": {},
   "source": [
    "```python\n",
    "data_train = pd.read_csv(\"appa-real-release/gt_train.csv\").groupby('file_name')[['file_name','real_age']].nth(0)\n",
    "data_test = pd.read_csv(\"appa-real-release/gt_test.csv\").groupby('file_name')[['file_name','real_age']].nth(0)\n",
    "data_valid = pd.read_csv(\"appa-real-release/gt_valid.csv\").groupby('file_name')[['file_name','real_age']].nth(0)\n",
    "\n",
    "labels_orig=pd.concat([data_train,data_test,data_valid]).reset_index(drop=True)\n",
    "display(labels_orig)\n",
    "labels_orig['file_name']=labels_orig['file_name'].str.split('.').str.join('.jpg_face.')\n",
    "labels_orig.to_csv(f'datasets/faces/labels.csv',index=False)\n",
    "```"
   ]
  },
  {
   "cell_type": "markdown",
   "metadata": {},
   "source": [
    "## 1.3. Путь к данным в локальной среде"
   ]
  },
  {
   "cell_type": "markdown",
   "metadata": {},
   "source": [
    "```python\n",
    "DATA_PATH='datasets/faces'\n",
    "```"
   ]
  },
  {
   "cell_type": "markdown",
   "metadata": {},
   "source": [
    "## 1.4. Загрузка данных"
   ]
  },
  {
   "cell_type": "code",
   "execution_count": 4,
   "metadata": {},
   "outputs": [],
   "source": [
    "labels_df=pd.read_csv(f\"{DATA_PATH}/labels.csv\")"
   ]
  },
  {
   "cell_type": "code",
   "execution_count": 5,
   "metadata": {
    "scrolled": true
   },
   "outputs": [
    {
     "data": {
      "text/html": [
       "<div>\n",
       "<style scoped>\n",
       "    .dataframe tbody tr th:only-of-type {\n",
       "        vertical-align: middle;\n",
       "    }\n",
       "\n",
       "    .dataframe tbody tr th {\n",
       "        vertical-align: top;\n",
       "    }\n",
       "\n",
       "    .dataframe thead th {\n",
       "        text-align: right;\n",
       "    }\n",
       "</style>\n",
       "<table border=\"1\" class=\"dataframe\">\n",
       "  <thead>\n",
       "    <tr style=\"text-align: right;\">\n",
       "      <th></th>\n",
       "      <th>file_name</th>\n",
       "      <th>real_age</th>\n",
       "    </tr>\n",
       "  </thead>\n",
       "  <tbody>\n",
       "    <tr>\n",
       "      <th>0</th>\n",
       "      <td>000000.jpg</td>\n",
       "      <td>4</td>\n",
       "    </tr>\n",
       "    <tr>\n",
       "      <th>1</th>\n",
       "      <td>000001.jpg</td>\n",
       "      <td>18</td>\n",
       "    </tr>\n",
       "    <tr>\n",
       "      <th>2</th>\n",
       "      <td>000002.jpg</td>\n",
       "      <td>80</td>\n",
       "    </tr>\n",
       "    <tr>\n",
       "      <th>3</th>\n",
       "      <td>000003.jpg</td>\n",
       "      <td>50</td>\n",
       "    </tr>\n",
       "    <tr>\n",
       "      <th>4</th>\n",
       "      <td>000004.jpg</td>\n",
       "      <td>17</td>\n",
       "    </tr>\n",
       "    <tr>\n",
       "      <th>...</th>\n",
       "      <td>...</td>\n",
       "      <td>...</td>\n",
       "    </tr>\n",
       "    <tr>\n",
       "      <th>7586</th>\n",
       "      <td>007608.jpg</td>\n",
       "      <td>14</td>\n",
       "    </tr>\n",
       "    <tr>\n",
       "      <th>7587</th>\n",
       "      <td>007609.jpg</td>\n",
       "      <td>37</td>\n",
       "    </tr>\n",
       "    <tr>\n",
       "      <th>7588</th>\n",
       "      <td>007610.jpg</td>\n",
       "      <td>28</td>\n",
       "    </tr>\n",
       "    <tr>\n",
       "      <th>7589</th>\n",
       "      <td>007611.jpg</td>\n",
       "      <td>20</td>\n",
       "    </tr>\n",
       "    <tr>\n",
       "      <th>7590</th>\n",
       "      <td>007612.jpg</td>\n",
       "      <td>47</td>\n",
       "    </tr>\n",
       "  </tbody>\n",
       "</table>\n",
       "<p>7591 rows × 2 columns</p>\n",
       "</div>"
      ],
      "text/plain": [
       "       file_name  real_age\n",
       "0     000000.jpg         4\n",
       "1     000001.jpg        18\n",
       "2     000002.jpg        80\n",
       "3     000003.jpg        50\n",
       "4     000004.jpg        17\n",
       "...          ...       ...\n",
       "7586  007608.jpg        14\n",
       "7587  007609.jpg        37\n",
       "7588  007610.jpg        28\n",
       "7589  007611.jpg        20\n",
       "7590  007612.jpg        47\n",
       "\n",
       "[7591 rows x 2 columns]"
      ]
     },
     "execution_count": 5,
     "metadata": {},
     "output_type": "execute_result"
    }
   ],
   "source": [
    "labels_df"
   ]
  },
  {
   "cell_type": "markdown",
   "metadata": {},
   "source": [
    "## 1.5. Flow from dataframe 256"
   ]
  },
  {
   "cell_type": "code",
   "execution_count": 6,
   "metadata": {},
   "outputs": [
    {
     "name": "stdout",
     "output_type": "stream",
     "text": [
      "Found 6073 validated image filenames.\n",
      "Found 1518 validated image filenames.\n",
      "CPU times: user 1.19 s, sys: 990 ms, total: 2.18 s\n",
      "Wall time: 2min 19s\n"
     ]
    }
   ],
   "source": [
    "%%time\n",
    "datagen=ImageDataGenerator(rescale=1./255, validation_split=0.2)\n",
    "train_generator=datagen.flow_from_dataframe(dataframe=labels_df, \n",
    "                                            directory=f\"{DATA_PATH}/final_files/\", \n",
    "                                            x_col=\"file_name\",\n",
    "                                            y_col=\"real_age\",\n",
    "                                            class_mode=\"raw\",\n",
    "                                            target_size=(256,256),\n",
    "                                            subset='training',\n",
    "                                            batch_size=16,\n",
    "                                           seed=23_02_23)\n",
    "valid_generator=datagen.flow_from_dataframe(dataframe=labels_df, \n",
    "                                            directory=f\"{DATA_PATH}/final_files/\", \n",
    "                                            x_col=\"file_name\",\n",
    "                                            y_col=\"real_age\",\n",
    "                                            class_mode=\"raw\",\n",
    "                                            target_size=(256,256),\n",
    "                                            subset='validation',\n",
    "                                            batch_size=16,\n",
    "                                           seed=23_02_23)"
   ]
  },
  {
   "cell_type": "markdown",
   "metadata": {
    "deletable": false,
    "editable": false,
    "tags": [
     "a0ea6cf0-58f4-4b62-808c-26c82dd0478d"
    ]
   },
   "source": [
    "## 1.6. Исследовательский анализ данных"
   ]
  },
  {
   "cell_type": "markdown",
   "metadata": {},
   "source": [
    "Напечатем 15 фотографий из датасета"
   ]
  },
  {
   "cell_type": "code",
   "execution_count": 7,
   "metadata": {},
   "outputs": [
    {
     "data": {
      "image/png": "[encoded data removed]",
      "text/plain": [
       "<Figure size 720x504 with 15 Axes>"
      ]
     },
     "metadata": {
      "needs_background": "light"
     },
     "output_type": "display_data"
    }
   ],
   "source": [
    "features=train_generator.next()[0]\n",
    "fig = plt.figure(figsize=(10,7))\n",
    "for i in range(15):\n",
    "    fig.add_subplot(3, 5, i+1)\n",
    "    plt.imshow(features[i])"
   ]
  },
  {
   "cell_type": "markdown",
   "metadata": {},
   "source": [
    "На фотографиях обрезанные и схоже расположенные (видимо, для упрощения обучения нейросети) снимки лиц. В большинстве своем снимки - цветные, но есть и в оттенках серого."
   ]
  },
  {
   "cell_type": "markdown",
   "metadata": {},
   "source": [
    "### 1.6.1. Возраст"
   ]
  },
  {
   "cell_type": "code",
   "execution_count": 8,
   "metadata": {},
   "outputs": [
    {
     "name": "stdout",
     "output_type": "stream",
     "text": [
      "Min age: 1\n",
      "Max age: 100\n"
     ]
    }
   ],
   "source": [
    "print('Min age:', labels_df['real_age'].min())\n",
    "print('Max age:', labels_df['real_age'].max())"
   ]
  },
  {
   "cell_type": "markdown",
   "metadata": {},
   "source": [
    "Построим возрастную гистограмму людей с фотографий:"
   ]
  },
  {
   "cell_type": "code",
   "execution_count": 9,
   "metadata": {},
   "outputs": [
    {
     "data": {
      "image/png": "[encoded data removed]",
      "text/plain": [
       "<Figure size 1008x504 with 1 Axes>"
      ]
     },
     "metadata": {
      "needs_background": "light"
     },
     "output_type": "display_data"
    },
    {
     "data": {
      "text/plain": [
       "count    7591.000000\n",
       "mean       31.201159\n",
       "std        17.145060\n",
       "min         1.000000\n",
       "25%        20.000000\n",
       "50%        29.000000\n",
       "75%        41.000000\n",
       "max       100.000000\n",
       "Name: real_age, dtype: float64"
      ]
     },
     "execution_count": 9,
     "metadata": {},
     "output_type": "execute_result"
    }
   ],
   "source": [
    "plt.subplots(figsize=(14,7))\n",
    "labels_df['real_age'].hist(bins=100)\n",
    "\n",
    "plt.title('Histogram - Real age of people on photos')\n",
    "plt.xlabel('Age')\n",
    "plt.ylabel('Frequency')\n",
    "plt.show()\n",
    "labels_df['real_age'].describe()"
   ]
  },
  {
   "cell_type": "markdown",
   "metadata": {},
   "source": [
    "После 20 лет видим пики в юбилейных возрастах, кратных 10 годам: 30, 40, 50... Больше всего фотографий 30-летних, чуть меньше - 25-летних."
   ]
  },
  {
   "cell_type": "markdown",
   "metadata": {},
   "source": [
    "### 1.6.2. Размеры фотографий"
   ]
  },
  {
   "cell_type": "markdown",
   "metadata": {},
   "source": [
    "Получим размеры фотографий с помощью библиотеки imagesize (выгружает данные о размерах из метаданных JPEG-формата, не открывая изображение):"
   ]
  },
  {
   "cell_type": "code",
   "execution_count": 10,
   "metadata": {},
   "outputs": [
    {
     "name": "stdout",
     "output_type": "stream",
     "text": [
      "CPU times: user 2.21 s, sys: 1.7 s, total: 3.91 s\n",
      "Wall time: 4min 57s\n"
     ]
    }
   ],
   "source": [
    "%%time\n",
    "image_sizes=[imagesize.get(f\"{DATA_PATH}/final_files/{item[0]}\") for item in labels_df.values]"
   ]
  },
  {
   "cell_type": "markdown",
   "metadata": {},
   "source": [
    "Запишем данные в датафрейм:"
   ]
  },
  {
   "cell_type": "code",
   "execution_count": 11,
   "metadata": {},
   "outputs": [],
   "source": [
    "labels_df['width']=[size[0] for size in image_sizes]"
   ]
  },
  {
   "cell_type": "code",
   "execution_count": 12,
   "metadata": {},
   "outputs": [],
   "source": [
    "labels_df['height']=[size[1] for size in image_sizes]"
   ]
  },
  {
   "cell_type": "code",
   "execution_count": 13,
   "metadata": {
    "scrolled": true
   },
   "outputs": [
    {
     "data": {
      "image/png": "[encoded data removed]",
      "text/plain": [
       "<Figure size 1080x360 with 1 Axes>"
      ]
     },
     "metadata": {
      "needs_background": "light"
     },
     "output_type": "display_data"
    }
   ],
   "source": [
    "plt.subplots(figsize=(15,5))\n",
    "plt.title('Histogram - width of images')\n",
    "plt.xlabel('Width in px')\n",
    "plt.ylabel('Frequency')\n",
    "labels_df['width'].hist(bins=100)\n",
    "plt.show()\n"
   ]
  },
  {
   "cell_type": "code",
   "execution_count": 14,
   "metadata": {},
   "outputs": [
    {
     "data": {
      "text/plain": [
       "count    7591.000000\n",
       "mean      464.733764\n",
       "std       330.834794\n",
       "min        47.000000\n",
       "25%       220.000000\n",
       "50%       385.000000\n",
       "75%       632.000000\n",
       "max      4466.000000\n",
       "Name: width, dtype: float64"
      ]
     },
     "execution_count": 14,
     "metadata": {},
     "output_type": "execute_result"
    }
   ],
   "source": [
    "labels_df['width'].describe()"
   ]
  },
  {
   "cell_type": "code",
   "execution_count": 15,
   "metadata": {
    "scrolled": true
   },
   "outputs": [
    {
     "data": {
      "image/png": "[encoded data removed]",
      "text/plain": [
       "<Figure size 1080x360 with 1 Axes>"
      ]
     },
     "metadata": {
      "needs_background": "light"
     },
     "output_type": "display_data"
    }
   ],
   "source": [
    "plt.subplots(figsize=(15,5))\n",
    "plt.title('Histogram - height of images')\n",
    "plt.xlabel('Height in px')\n",
    "plt.ylabel('Frequency')\n",
    "labels_df['height'].hist(bins=100)\n",
    "plt.show()"
   ]
  },
  {
   "cell_type": "code",
   "execution_count": 16,
   "metadata": {},
   "outputs": [
    {
     "data": {
      "text/plain": [
       "count    7591.000000\n",
       "mean      464.093927\n",
       "std       331.289883\n",
       "min        47.000000\n",
       "25%       220.000000\n",
       "50%       384.000000\n",
       "75%       632.000000\n",
       "max      4466.000000\n",
       "Name: height, dtype: float64"
      ]
     },
     "execution_count": 16,
     "metadata": {},
     "output_type": "execute_result"
    }
   ],
   "source": [
    "labels_df['height'].describe()"
   ]
  },
  {
   "cell_type": "code",
   "execution_count": 17,
   "metadata": {},
   "outputs": [
    {
     "name": "stdout",
     "output_type": "stream",
     "text": [
      "5400 from 7591 images are square\n"
     ]
    }
   ],
   "source": [
    "rect_count=sum([size[0]==size[1] for size in image_sizes])\n",
    "print( rect_count, 'from', labels_df.shape[0], 'images are square')"
   ]
  },
  {
   "cell_type": "markdown",
   "metadata": {
    "tags": []
   },
   "source": [
    "### 1.6.3. Выводы"
   ]
  },
  {
   "cell_type": "markdown",
   "metadata": {},
   "source": [
    "* Неравномерное распределение возраста в датасете может привести к тому, что обученная нейросеть будет лучше распознавать более знакомый ей возраст, а например столетних людей определять будет с большой погрешностью (так как обучалась на небольшом количестве 100-летних лиц). Кроме того, в датасете часто встречаются лица актеров. Если датасет составлен в большинстве своем из лиц определенной профессии, то это также может повлиять на результаты: ведь, например, люди занятые тяжелым физическим трудом могут выглядеть менее молодыми для своего возраста.\n",
    "* Также обратим внимание на неравномерное разрешение фотографий - где-то при upscaling-е могут возникать артефакты, при downscaling-е - теряться какие-то важные черты лица"
   ]
  },
  {
   "cell_type": "markdown",
   "metadata": {
    "tags": []
   },
   "source": [
    "## 1.7. Обучение"
   ]
  },
  {
   "cell_type": "markdown",
   "metadata": {},
   "source": [
    "В качестве фукнции потерь используем mean_squared_error, т.к. с ним обучение проходит быстрее и требует меньше памяти."
   ]
  },
  {
   "cell_type": "markdown",
   "metadata": {},
   "source": [
    "### 1.7.1. Обучение модели на сервере с GPU (Tesla V100-SXM2-32GB)"
   ]
  },
  {
   "cell_type": "markdown",
   "metadata": {},
   "source": [
    "Перенесите сюда код обучения модели и её результат вывода на экран.\n",
    "\n",
    "\n",
    "(Код в этом разделе запускается в отдельном GPU-тренажёре, поэтому оформлен не как ячейка с кодом, а как код в текстовой ячейке)"
   ]
  },
  {
   "cell_type": "markdown",
   "metadata": {},
   "source": [
    "Было несколько попыток обучения модели на сервере:\n",
    "* увеличивалось целевое разрешение фотографии с 256x256 до 300x300\n",
    "* увеличивался размер батча с 16 до 32 и потом до 64 (размер батча 128 вызывал переполнение памяти видеокарты)\n",
    "* увеличили число эпох с 30 до 50 \n",
    "* learning rate алгоритма оптимизации adam уменьшили с стандартного 0.001 до 0.00005\n",
    "\n",
    "Ниже модель с самым лучшем результатом MAE:"
   ]
  },
  {
   "cell_type": "markdown",
   "metadata": {},
   "source": [
    "```python\n",
    "\n",
    "from tensorflow.keras.layers import  Conv2D, Flatten, Dense, AvgPool2D,MaxPool2D,GlobalAveragePooling2D\n",
    "from tensorflow.keras.models import Sequential\n",
    "from tensorflow.keras.preprocessing.image import ImageDataGenerator\n",
    "from tensorflow.keras.applications.resnet import ResNet50\n",
    "from tensorflow.keras.optimizers import Adam\n",
    "import pandas as pd\n",
    "import numpy as np\n",
    "\n",
    "def load_train(path):\n",
    "    labels_df=pd.read_csv(f\"{path}/labels.csv\")\n",
    "    datagen=ImageDataGenerator(rescale=1./255, validation_split=0.2,horizontal_flip=True)\n",
    "    train_generator=datagen.flow_from_dataframe(dataframe=labels_df, \n",
    "                                            directory=f\"{path}/final_files/\", \n",
    "                                            x_col=\"file_name\",\n",
    "                                            y_col=\"real_age\",\n",
    "                                            class_mode=\"raw\",\n",
    "                                            target_size=(224,224),\n",
    "                                            subset='training',\n",
    "                                            batch_size=32,\n",
    "                                           seed=23_02_23)\n",
    "    \n",
    "    return train_generator\n",
    "\n",
    "def load_test(path):\n",
    "    labels_df=pd.read_csv(f\"{path}/labels.csv\")\n",
    "\n",
    "    datagen=ImageDataGenerator(rescale=1./255, validation_split=0.2)\n",
    "    valid_generator=datagen.flow_from_dataframe(dataframe=labels_df, \n",
    "                                            directory=f\"{path}/final_files/\", \n",
    "                                            x_col=\"file_name\",\n",
    "                                            y_col=\"real_age\",\n",
    "                                            class_mode=\"raw\",\n",
    "                                            target_size=(224,224),\n",
    "                                            subset='validation',\n",
    "                                            batch_size=32,\n",
    "                                           seed=23_02_23)\n",
    "    \n",
    "    return valid_generator\n",
    "\n",
    "\n",
    "def create_model(input_shape):\n",
    "  \n",
    "    model = Sequential()\n",
    "\n",
    "    backbone = ResNet50(input_shape=input_shape,\n",
    "                    weights='/datasets/keras_models/resnet50_weights_tf_dim_ordering_tf_kernels_notop.h5',\n",
    "                    include_top=False) \n",
    "    backbone.trainable = True\n",
    "\n",
    "    model.add(backbone)\n",
    "    model.add(GlobalAveragePooling2D())\n",
    "    # model.add(Flatten())    \n",
    "    model.add(Dense(256,  activation='relu'))\n",
    "    model.add(Dense(64,  activation='relu'))\n",
    "    model.add(Dense(1,  activation='relu'))\n",
    "    optimizer = Adam(learning_rate=0.00005) \n",
    "    model.compile(optimizer=optimizer, loss='mean_squared_error',\n",
    "                    metrics=['mean_absolute_error'])\n",
    "    return model\n",
    "\n",
    "\n",
    "def train_model(model, train_data, test_data,batch_size=None, epochs=50,\n",
    "               steps_per_epoch=None, validation_steps=None):\n",
    "    if steps_per_epoch is None: \n",
    "        steps_per_epoch = len(train_data) \n",
    "    if validation_steps is None: \n",
    "        validation_steps = len(test_data)\n",
    "   # features_train, target_train = train_data\n",
    "    #features_test, target_test = test_data\n",
    "    #model.build()\n",
    "    #model.summary()\n",
    "    model.fit(train_data, \n",
    "              validation_data=test_data,\n",
    "              batch_size=batch_size, epochs=epochs,\n",
    "              steps_per_epoch=steps_per_epoch,\n",
    "              validation_steps=validation_steps,\n",
    "              verbose=2, shuffle=True)\n",
    "\n",
    "    return model \n",
    "```"
   ]
  },
  {
   "cell_type": "markdown",
   "metadata": {},
   "source": [
    "Уменьшили target_size до 224x224 (размер как в Imagenet датасете) и добавили horizontal_flip."
   ]
  },
  {
   "cell_type": "markdown",
   "metadata": {},
   "source": [
    "<div class=\"scrollable__content\"><section class=\"playground-terminal__stdout playground-terminal__stdout_type_logs playground-terminal__stdout_theme_light\"><section class=\"playground-terminal__stdout playground-terminal__stdout_type_stream playground-terminal__stdout_level_err\"><pre class=\"playground-terminal__stdout-content\">2023-02-27 10:54:39.121020: I tensorflow/stream_executor/platform/default/dso_loader.cc:44] Successfully opened dynamic library libnvinfer.so.6\n",
    "</pre></section><section class=\"playground-terminal__stdout playground-terminal__stdout_type_stream playground-terminal__stdout_level_err\"><pre class=\"playground-terminal__stdout-content\">2023-02-27 10:54:39.331313: I tensorflow/stream_executor/platform/default/dso_loader.cc:44] Successfully opened dynamic library libnvinfer_plugin.so.6\n",
    "</pre></section><section class=\"playground-terminal__stdout playground-terminal__stdout_type_stream playground-terminal__stdout_level_err\"><pre class=\"playground-terminal__stdout-content\">2023-02-27 10:54:44.032897: I tensorflow/stream_executor/platform/default/dso_loader.cc:44] Successfully opened dynamic library libcuda.so.1\n",
    "</pre></section><section class=\"playground-terminal__stdout playground-terminal__stdout_type_stream playground-terminal__stdout_level_err\"><pre class=\"playground-terminal__stdout-content\">2023-02-27 10:54:44.715319: I tensorflow/core/common_runtime/gpu/gpu_device.cc:1555] Found device 0 with properties: \n",
    "</pre></section><section class=\"playground-terminal__stdout playground-terminal__stdout_type_stream playground-terminal__stdout_level_err\"><pre class=\"playground-terminal__stdout-content\">pciBusID: 0000:8b:00.0 name: Tesla V100-SXM2-32GB computeCapability: 7.0\n",
    "</pre></section><section class=\"playground-terminal__stdout playground-terminal__stdout_type_stream playground-terminal__stdout_level_err\"><pre class=\"playground-terminal__stdout-content\">coreClock: 1.53GHz coreCount: 80 deviceMemorySize: 31.75GiB deviceMemoryBandwidth: 836.37GiB/s\n",
    "</pre></section><section class=\"playground-terminal__stdout playground-terminal__stdout_type_stream playground-terminal__stdout_level_err\"><pre class=\"playground-terminal__stdout-content\">2023-02-27 10:54:44.715409: I tensorflow/stream_executor/platform/default/dso_loader.cc:44] Successfully opened dynamic library libcudart.so.10.1\n",
    "</pre></section><section class=\"playground-terminal__stdout playground-terminal__stdout_type_stream playground-terminal__stdout_level_err\"><pre class=\"playground-terminal__stdout-content\">2023-02-27 10:54:44.715442: I tensorflow/stream_executor/platform/default/dso_loader.cc:44] Successfully opened dynamic library libcublas.so.10\n",
    "</pre></section><section class=\"playground-terminal__stdout playground-terminal__stdout_type_stream playground-terminal__stdout_level_err\"><pre class=\"playground-terminal__stdout-content\">2023-02-27 10:54:44.786380: I tensorflow/stream_executor/platform/default/dso_loader.cc:44] Successfully opened dynamic library libcufft.so.10\n",
    "</pre></section><section class=\"playground-terminal__stdout playground-terminal__stdout_type_stream playground-terminal__stdout_level_err\"><pre class=\"playground-terminal__stdout-content\">2023-02-27 10:54:44.816009: I tensorflow/stream_executor/platform/default/dso_loader.cc:44] Successfully opened dynamic library libcurand.so.10\n",
    "</pre></section><section class=\"playground-terminal__stdout playground-terminal__stdout_type_stream playground-terminal__stdout_level_err\"><pre class=\"playground-terminal__stdout-content\">2023-02-27 10:54:45.150564: I tensorflow/stream_executor/platform/default/dso_loader.cc:44] Successfully opened dynamic library libcusolver.so.10\n",
    "</pre></section><section class=\"playground-terminal__stdout playground-terminal__stdout_type_stream playground-terminal__stdout_level_err\"><pre class=\"playground-terminal__stdout-content\">2023-02-27 10:54:45.183383: I tensorflow/stream_executor/platform/default/dso_loader.cc:44] Successfully opened dynamic library libcusparse.so.10\n",
    "</pre></section><section class=\"playground-terminal__stdout playground-terminal__stdout_type_stream playground-terminal__stdout_level_err\"><pre class=\"playground-terminal__stdout-content\">2023-02-27 10:54:45.183531: I tensorflow/stream_executor/platform/default/dso_loader.cc:44] Successfully opened dynamic library libcudnn.so.7\n",
    "</pre></section><section class=\"playground-terminal__stdout playground-terminal__stdout_type_stream playground-terminal__stdout_level_err\"><pre class=\"playground-terminal__stdout-content\">2023-02-27 10:54:45.188129: I tensorflow/core/common_runtime/gpu/gpu_device.cc:1697] Adding visible gpu devices: 0\n",
    "</pre></section><section class=\"playground-terminal__stdout playground-terminal__stdout_type_stream playground-terminal__stdout_level_err\"><pre class=\"playground-terminal__stdout-content\">Using TensorFlow backend.\n",
    "</pre></section><section class=\"playground-terminal__stdout playground-terminal__stdout_type_stream playground-terminal__stdout_level_info\"><pre class=\"playground-terminal__stdout-content\">Found 6073 validated image filenames.\n",
    "</pre></section><section class=\"playground-terminal__stdout playground-terminal__stdout_type_stream playground-terminal__stdout_level_info\"><pre class=\"playground-terminal__stdout-content\">Found 1518 validated image filenames.\n",
    "</pre></section><section class=\"playground-terminal__stdout playground-terminal__stdout_type_stream playground-terminal__stdout_level_err\"><pre class=\"playground-terminal__stdout-content\">2023-02-27 10:54:45.705173: I tensorflow/core/platform/cpu_feature_guard.cc:142] Your CPU supports instructions that this TensorFlow binary was not compiled to use: AVX2 AVX512F FMA\n",
    "</pre></section><section class=\"playground-terminal__stdout playground-terminal__stdout_type_stream playground-terminal__stdout_level_err\"><pre class=\"playground-terminal__stdout-content\">2023-02-27 10:54:45.742107: I tensorflow/core/platform/profile_utils/cpu_utils.cc:94] CPU Frequency: 2099995000 Hz\n",
    "</pre></section><section class=\"playground-terminal__stdout playground-terminal__stdout_type_stream playground-terminal__stdout_level_err\"><pre class=\"playground-terminal__stdout-content\">2023-02-27 10:54:45.744259: I tensorflow/compiler/xla/service/service.cc:168] XLA service 0x56accb0 initialized for platform Host (this does not guarantee that XLA will be used). Devices:\n",
    "</pre></section><section class=\"playground-terminal__stdout playground-terminal__stdout_type_stream playground-terminal__stdout_level_err\"><pre class=\"playground-terminal__stdout-content\">2023-02-27 10:54:45.744300: I tensorflow/compiler/xla/service/service.cc:176]   StreamExecutor device (0): Host, Default Version\n",
    "</pre></section><section class=\"playground-terminal__stdout playground-terminal__stdout_type_stream playground-terminal__stdout_level_err\"><pre class=\"playground-terminal__stdout-content\">2023-02-27 10:54:45.942015: I tensorflow/compiler/xla/service/service.cc:168] XLA service 0x4d0cfd0 initialized for platform CUDA (this does not guarantee that XLA will be used). Devices:\n",
    "</pre></section><section class=\"playground-terminal__stdout playground-terminal__stdout_type_stream playground-terminal__stdout_level_err\"><pre class=\"playground-terminal__stdout-content\">2023-02-27 10:54:45.942047: I tensorflow/compiler/xla/service/service.cc:176]   StreamExecutor device (0): Tesla V100-SXM2-32GB, Compute Capability 7.0\n",
    "</pre></section><section class=\"playground-terminal__stdout playground-terminal__stdout_type_stream playground-terminal__stdout_level_err\"><pre class=\"playground-terminal__stdout-content\">2023-02-27 10:54:45.944461: I tensorflow/core/common_runtime/gpu/gpu_device.cc:1555] Found device 0 with properties: \n",
    "</pre></section><section class=\"playground-terminal__stdout playground-terminal__stdout_type_stream playground-terminal__stdout_level_err\"><pre class=\"playground-terminal__stdout-content\">pciBusID: 0000:8b:00.0 name: Tesla V100-SXM2-32GB computeCapability: 7.0\n",
    "</pre></section><section class=\"playground-terminal__stdout playground-terminal__stdout_type_stream playground-terminal__stdout_level_err\"><pre class=\"playground-terminal__stdout-content\">coreClock: 1.53GHz coreCount: 80 deviceMemorySize: 31.75GiB deviceMemoryBandwidth: 836.37GiB/s\n",
    "</pre></section><section class=\"playground-terminal__stdout playground-terminal__stdout_type_stream playground-terminal__stdout_level_err\"><pre class=\"playground-terminal__stdout-content\">2023-02-27 10:54:45.944530: I tensorflow/stream_executor/platform/default/dso_loader.cc:44] Successfully opened dynamic library libcudart.so.10.1\n",
    "</pre></section><section class=\"playground-terminal__stdout playground-terminal__stdout_type_stream playground-terminal__stdout_level_err\"><pre class=\"playground-terminal__stdout-content\">2023-02-27 10:54:45.944544: I tensorflow/stream_executor/platform/default/dso_loader.cc:44] Successfully opened dynamic library libcublas.so.10\n",
    "</pre></section><section class=\"playground-terminal__stdout playground-terminal__stdout_type_stream playground-terminal__stdout_level_err\"><pre class=\"playground-terminal__stdout-content\">2023-02-27 10:54:45.944575: I tensorflow/stream_executor/platform/default/dso_loader.cc:44] Successfully opened dynamic library libcufft.so.10\n",
    "</pre></section><section class=\"playground-terminal__stdout playground-terminal__stdout_type_stream playground-terminal__stdout_level_err\"><pre class=\"playground-terminal__stdout-content\">2023-02-27 10:54:45.944585: I tensorflow/stream_executor/platform/default/dso_loader.cc:44] Successfully opened dynamic library libcurand.so.10\n",
    "</pre></section><section class=\"playground-terminal__stdout playground-terminal__stdout_type_stream playground-terminal__stdout_level_err\"><pre class=\"playground-terminal__stdout-content\">2023-02-27 10:54:45.944594: I tensorflow/stream_executor/platform/default/dso_loader.cc:44] Successfully opened dynamic library libcusolver.so.10\n",
    "</pre></section><section class=\"playground-terminal__stdout playground-terminal__stdout_type_stream playground-terminal__stdout_level_err\"><pre class=\"playground-terminal__stdout-content\">2023-02-27 10:54:45.944603: I tensorflow/stream_executor/platform/default/dso_loader.cc:44] Successfully opened dynamic library libcusparse.so.10\n",
    "</pre></section><section class=\"playground-terminal__stdout playground-terminal__stdout_type_stream playground-terminal__stdout_level_err\"><pre class=\"playground-terminal__stdout-content\">2023-02-27 10:54:45.944611: I tensorflow/stream_executor/platform/default/dso_loader.cc:44] Successfully opened dynamic library libcudnn.so.7\n",
    "</pre></section><section class=\"playground-terminal__stdout playground-terminal__stdout_type_stream playground-terminal__stdout_level_err\"><pre class=\"playground-terminal__stdout-content\">2023-02-27 10:54:45.949003: I tensorflow/core/common_runtime/gpu/gpu_device.cc:1697] Adding visible gpu devices: 0\n",
    "</pre></section><section class=\"playground-terminal__stdout playground-terminal__stdout_type_stream playground-terminal__stdout_level_err\"><pre class=\"playground-terminal__stdout-content\">2023-02-27 10:54:45.950746: I tensorflow/stream_executor/platform/default/dso_loader.cc:44] Successfully opened dynamic library libcudart.so.10.1\n",
    "</pre></section><section class=\"playground-terminal__stdout playground-terminal__stdout_type_stream playground-terminal__stdout_level_err\"><pre class=\"playground-terminal__stdout-content\">2023-02-27 10:54:49.347306: I tensorflow/core/common_runtime/gpu/gpu_device.cc:1096] Device interconnect StreamExecutor with strength 1 edge matrix:\n",
    "</pre></section><section class=\"playground-terminal__stdout playground-terminal__stdout_type_stream playground-terminal__stdout_level_err\"><pre class=\"playground-terminal__stdout-content\">2023-02-27 10:54:49.347352: I tensorflow/core/common_runtime/gpu/gpu_device.cc:1102]      0 \n",
    "</pre></section><section class=\"playground-terminal__stdout playground-terminal__stdout_type_stream playground-terminal__stdout_level_err\"><pre class=\"playground-terminal__stdout-content\">2023-02-27 10:54:49.347360: I tensorflow/core/common_runtime/gpu/gpu_device.cc:1115] 0:   N \n",
    "</pre></section><section class=\"playground-terminal__stdout playground-terminal__stdout_type_stream playground-terminal__stdout_level_err\"><pre class=\"playground-terminal__stdout-content\">2023-02-27 10:54:49.352148: W tensorflow/core/common_runtime/gpu/gpu_bfc_allocator.cc:39] Overriding allow_growth setting because the TF_FORCE_GPU_ALLOW_GROWTH environment variable is set. Original config value was 0.\n",
    "</pre></section><section class=\"playground-terminal__stdout playground-terminal__stdout_type_stream playground-terminal__stdout_level_err\"><pre class=\"playground-terminal__stdout-content\">2023-02-27 10:54:49.352208: I tensorflow/core/common_runtime/gpu/gpu_device.cc:1241] Created TensorFlow device (/job:localhost/replica:0/task:0/device:GPU:0 with 10240 MB memory) -&gt; physical GPU (device: 0, name: Tesla V100-SXM2-32GB, pci bus id: 0000:8b:00.0, compute capability: 7.0)\n",
    "</pre></section><section class=\"playground-terminal__stdout playground-terminal__stdout_type_stream playground-terminal__stdout_level_info\"><pre class=\"playground-terminal__stdout-content\">&lt;class 'tensorflow.python.keras.engine.sequential.Sequential'&gt;\n",
    "</pre></section><section class=\"playground-terminal__stdout playground-terminal__stdout_type_stream playground-terminal__stdout_level_err\"><pre class=\"playground-terminal__stdout-content\">WARNING:tensorflow:sample_weight modes were coerced from\n",
    "</pre></section><section class=\"playground-terminal__stdout playground-terminal__stdout_type_stream playground-terminal__stdout_level_err\"><pre class=\"playground-terminal__stdout-content\">  ...\n",
    "</pre></section><section class=\"playground-terminal__stdout playground-terminal__stdout_type_stream playground-terminal__stdout_level_err\"><pre class=\"playground-terminal__stdout-content\">    to  \n",
    "</pre></section><section class=\"playground-terminal__stdout playground-terminal__stdout_type_stream playground-terminal__stdout_level_err\"><pre class=\"playground-terminal__stdout-content\">  ['...']\n",
    "</pre></section><section class=\"playground-terminal__stdout playground-terminal__stdout_type_stream playground-terminal__stdout_level_err\"><pre class=\"playground-terminal__stdout-content\">WARNING:tensorflow:sample_weight modes were coerced from\n",
    "</pre></section><section class=\"playground-terminal__stdout playground-terminal__stdout_type_stream playground-terminal__stdout_level_err\"><pre class=\"playground-terminal__stdout-content\">  ...\n",
    "</pre></section><section class=\"playground-terminal__stdout playground-terminal__stdout_type_stream playground-terminal__stdout_level_err\"><pre class=\"playground-terminal__stdout-content\">    to  \n",
    "</pre></section><section class=\"playground-terminal__stdout playground-terminal__stdout_type_stream playground-terminal__stdout_level_err\"><pre class=\"playground-terminal__stdout-content\">  ['...']\n",
    "</pre></section><section class=\"playground-terminal__stdout playground-terminal__stdout_type_stream playground-terminal__stdout_level_info\"><pre class=\"playground-terminal__stdout-content\">Train for 190 steps, validate for 48 steps\n",
    "</pre></section><section class=\"playground-terminal__stdout playground-terminal__stdout_type_stream playground-terminal__stdout_level_info\"><pre class=\"playground-terminal__stdout-content\">Epoch 1/50\n",
    "</pre></section><section class=\"playground-terminal__stdout playground-terminal__stdout_type_stream playground-terminal__stdout_level_err\"><pre class=\"playground-terminal__stdout-content\">2023-02-27 10:55:13.907368: I tensorflow/stream_executor/platform/default/dso_loader.cc:44] Successfully opened dynamic library libcublas.so.10\n",
    "</pre></section><section class=\"playground-terminal__stdout playground-terminal__stdout_type_stream playground-terminal__stdout_level_err\"><pre class=\"playground-terminal__stdout-content\">2023-02-27 10:55:16.211403: I tensorflow/stream_executor/platform/default/dso_loader.cc:44] Successfully opened dynamic library libcudnn.so.7\n",
    "</pre></section><section class=\"playground-terminal__stdout playground-terminal__stdout_type_stream playground-terminal__stdout_level_info\"><pre class=\"playground-terminal__stdout-content\">190/190 - 71s - loss: 260.9203 - mean_absolute_error: 11.5772 - val_loss: 632.5466 - val_mean_absolute_error: 20.1774\n",
    "</pre></section><section class=\"playground-terminal__stdout playground-terminal__stdout_type_stream playground-terminal__stdout_level_info\"><pre class=\"playground-terminal__stdout-content\">Epoch 2/50\n",
    "</pre></section><section class=\"playground-terminal__stdout playground-terminal__stdout_type_stream playground-terminal__stdout_level_info\"><pre class=\"playground-terminal__stdout-content\">190/190 - 43s - loss: 66.3005 - mean_absolute_error: 6.1935 - val_loss: 593.4615 - val_mean_absolute_error: 19.2831\n",
    "</pre></section><section class=\"playground-terminal__stdout playground-terminal__stdout_type_stream playground-terminal__stdout_level_info\"><pre class=\"playground-terminal__stdout-content\">Epoch 3/50\n",
    "</pre></section><section class=\"playground-terminal__stdout playground-terminal__stdout_type_stream playground-terminal__stdout_level_info\"><pre class=\"playground-terminal__stdout-content\">190/190 - 42s - loss: 39.8764 - mean_absolute_error: 4.8096 - val_loss: 298.2986 - val_mean_absolute_error: 12.8043\n",
    "</pre></section><section class=\"playground-terminal__stdout playground-terminal__stdout_type_stream playground-terminal__stdout_level_info\"><pre class=\"playground-terminal__stdout-content\">Epoch 4/50\n",
    "</pre></section><section class=\"playground-terminal__stdout playground-terminal__stdout_type_stream playground-terminal__stdout_level_info\"><pre class=\"playground-terminal__stdout-content\">190/190 - 40s - loss: 27.7714 - mean_absolute_error: 4.0267 - val_loss: 121.4792 - val_mean_absolute_error: 8.1690\n",
    "</pre></section><section class=\"playground-terminal__stdout playground-terminal__stdout_type_stream playground-terminal__stdout_level_info\"><pre class=\"playground-terminal__stdout-content\">Epoch 5/50\n",
    "</pre></section><section class=\"playground-terminal__stdout playground-terminal__stdout_type_stream playground-terminal__stdout_level_info\"><pre class=\"playground-terminal__stdout-content\">190/190 - 41s - loss: 21.7472 - mean_absolute_error: 3.5606 - val_loss: 87.3542 - val_mean_absolute_error: 7.0633\n",
    "</pre></section><section class=\"playground-terminal__stdout playground-terminal__stdout_type_stream playground-terminal__stdout_level_info\"><pre class=\"playground-terminal__stdout-content\">Epoch 6/50\n",
    "</pre></section><section class=\"playground-terminal__stdout playground-terminal__stdout_type_stream playground-terminal__stdout_level_info\"><pre class=\"playground-terminal__stdout-content\">190/190 - 51s - loss: 17.5108 - mean_absolute_error: 3.2062 - val_loss: 74.5719 - val_mean_absolute_error: 6.4840\n",
    "</pre></section><section class=\"playground-terminal__stdout playground-terminal__stdout_type_stream playground-terminal__stdout_level_info\"><pre class=\"playground-terminal__stdout-content\">Epoch 7/50\n",
    "</pre></section><section class=\"playground-terminal__stdout playground-terminal__stdout_type_stream playground-terminal__stdout_level_info\"><pre class=\"playground-terminal__stdout-content\">190/190 - 51s - loss: 14.3804 - mean_absolute_error: 2.8794 - val_loss: 71.3219 - val_mean_absolute_error: 6.3644\n",
    "</pre></section><section class=\"playground-terminal__stdout playground-terminal__stdout_type_stream playground-terminal__stdout_level_info\"><pre class=\"playground-terminal__stdout-content\">Epoch 8/50\n",
    "</pre></section><section class=\"playground-terminal__stdout playground-terminal__stdout_type_stream playground-terminal__stdout_level_info\"><pre class=\"playground-terminal__stdout-content\">190/190 - 40s - loss: 11.2681 - mean_absolute_error: 2.5655 - val_loss: 71.8030 - val_mean_absolute_error: 6.4577\n",
    "</pre></section><section class=\"playground-terminal__stdout playground-terminal__stdout_type_stream playground-terminal__stdout_level_info\"><pre class=\"playground-terminal__stdout-content\">Epoch 9/50\n",
    "</pre></section><section class=\"playground-terminal__stdout playground-terminal__stdout_type_stream playground-terminal__stdout_level_info\"><pre class=\"playground-terminal__stdout-content\">190/190 - 52s - loss: 9.8657 - mean_absolute_error: 2.3574 - val_loss: 69.9831 - val_mean_absolute_error: 6.0904\n",
    "</pre></section><section class=\"playground-terminal__stdout playground-terminal__stdout_type_stream playground-terminal__stdout_level_info\"><pre class=\"playground-terminal__stdout-content\">Epoch 10/50\n",
    "</pre></section><section class=\"playground-terminal__stdout playground-terminal__stdout_type_stream playground-terminal__stdout_level_info\"><pre class=\"playground-terminal__stdout-content\">190/190 - 49s - loss: 8.8565 - mean_absolute_error: 2.2525 - val_loss: 68.8131 - val_mean_absolute_error: 6.0580\n",
    "</pre></section><section class=\"playground-terminal__stdout playground-terminal__stdout_type_stream playground-terminal__stdout_level_info\"><pre class=\"playground-terminal__stdout-content\">Epoch 11/50\n",
    "</pre></section><section class=\"playground-terminal__stdout playground-terminal__stdout_type_stream playground-terminal__stdout_level_info\"><pre class=\"playground-terminal__stdout-content\">190/190 - 40s - loss: 7.9328 - mean_absolute_error: 2.1068 - val_loss: 68.9877 - val_mean_absolute_error: 6.0861\n",
    "</pre></section><section class=\"playground-terminal__stdout playground-terminal__stdout_type_stream playground-terminal__stdout_level_info\"><pre class=\"playground-terminal__stdout-content\">Epoch 12/50\n",
    "</pre></section><section class=\"playground-terminal__stdout playground-terminal__stdout_type_stream playground-terminal__stdout_level_info\"><pre class=\"playground-terminal__stdout-content\">190/190 - 40s - loss: 7.9354 - mean_absolute_error: 2.1040 - val_loss: 68.5736 - val_mean_absolute_error: 6.2297\n",
    "</pre></section><section class=\"playground-terminal__stdout playground-terminal__stdout_type_stream playground-terminal__stdout_level_info\"><pre class=\"playground-terminal__stdout-content\">Epoch 13/50\n",
    "</pre></section><section class=\"playground-terminal__stdout playground-terminal__stdout_type_stream playground-terminal__stdout_level_info\"><pre class=\"playground-terminal__stdout-content\">190/190 - 38s - loss: 7.4299 - mean_absolute_error: 1.9963 - val_loss: 66.7146 - val_mean_absolute_error: 5.9954\n",
    "</pre></section><section class=\"playground-terminal__stdout playground-terminal__stdout_type_stream playground-terminal__stdout_level_info\"><pre class=\"playground-terminal__stdout-content\">Epoch 14/50\n",
    "</pre></section><section class=\"playground-terminal__stdout playground-terminal__stdout_type_stream playground-terminal__stdout_level_info\"><pre class=\"playground-terminal__stdout-content\">190/190 - 38s - loss: 6.4843 - mean_absolute_error: 1.9037 - val_loss: 64.7112 - val_mean_absolute_error: 5.9131\n",
    "</pre></section><section class=\"playground-terminal__stdout playground-terminal__stdout_type_stream playground-terminal__stdout_level_info\"><pre class=\"playground-terminal__stdout-content\">Epoch 15/50\n",
    "</pre></section><section class=\"playground-terminal__stdout playground-terminal__stdout_type_stream playground-terminal__stdout_level_info\"><pre class=\"playground-terminal__stdout-content\">190/190 - 38s - loss: 6.2114 - mean_absolute_error: 1.8580 - val_loss: 64.7482 - val_mean_absolute_error: 6.0008\n",
    "</pre></section><section class=\"playground-terminal__stdout playground-terminal__stdout_type_stream playground-terminal__stdout_level_info\"><pre class=\"playground-terminal__stdout-content\">Epoch 16/50\n",
    "</pre></section><section class=\"playground-terminal__stdout playground-terminal__stdout_type_stream playground-terminal__stdout_level_info\"><pre class=\"playground-terminal__stdout-content\">190/190 - 38s - loss: 5.8931 - mean_absolute_error: 1.8164 - val_loss: 67.0705 - val_mean_absolute_error: 6.0263\n",
    "</pre></section><section class=\"playground-terminal__stdout playground-terminal__stdout_type_stream playground-terminal__stdout_level_info\"><pre class=\"playground-terminal__stdout-content\">Epoch 17/50\n",
    "</pre></section><section class=\"playground-terminal__stdout playground-terminal__stdout_type_stream playground-terminal__stdout_level_info\"><pre class=\"playground-terminal__stdout-content\">190/190 - 41s - loss: 5.8716 - mean_absolute_error: 1.8171 - val_loss: 61.1733 - val_mean_absolute_error: 5.7170\n",
    "</pre></section><section class=\"playground-terminal__stdout playground-terminal__stdout_type_stream playground-terminal__stdout_level_info\"><pre class=\"playground-terminal__stdout-content\">Epoch 18/50\n",
    "</pre></section><section class=\"playground-terminal__stdout playground-terminal__stdout_type_stream playground-terminal__stdout_level_info\"><pre class=\"playground-terminal__stdout-content\">190/190 - 52s - loss: 5.7592 - mean_absolute_error: 1.7591 - val_loss: 63.9734 - val_mean_absolute_error: 5.8946\n",
    "</pre></section><section class=\"playground-terminal__stdout playground-terminal__stdout_type_stream playground-terminal__stdout_level_info\"><pre class=\"playground-terminal__stdout-content\">Epoch 19/50\n",
    "</pre></section><section class=\"playground-terminal__stdout playground-terminal__stdout_type_stream playground-terminal__stdout_level_info\"><pre class=\"playground-terminal__stdout-content\">190/190 - 46s - loss: 5.6440 - mean_absolute_error: 1.7839 - val_loss: 66.5520 - val_mean_absolute_error: 6.1390\n",
    "</pre></section><section class=\"playground-terminal__stdout playground-terminal__stdout_type_stream playground-terminal__stdout_level_info\"><pre class=\"playground-terminal__stdout-content\">Epoch 20/50\n",
    "</pre></section><section class=\"playground-terminal__stdout playground-terminal__stdout_type_stream playground-terminal__stdout_level_info\"><pre class=\"playground-terminal__stdout-content\">190/190 - 42s - loss: 5.6483 - mean_absolute_error: 1.7768 - val_loss: 62.1262 - val_mean_absolute_error: 5.8262\n",
    "</pre></section><section class=\"playground-terminal__stdout playground-terminal__stdout_type_stream playground-terminal__stdout_level_info\"><pre class=\"playground-terminal__stdout-content\">Epoch 21/50\n",
    "</pre></section><section class=\"playground-terminal__stdout playground-terminal__stdout_type_stream playground-terminal__stdout_level_info\"><pre class=\"playground-terminal__stdout-content\">190/190 - 51s - loss: 5.8146 - mean_absolute_error: 1.7913 - val_loss: 61.5123 - val_mean_absolute_error: 5.7699\n",
    "</pre></section><section class=\"playground-terminal__stdout playground-terminal__stdout_type_stream playground-terminal__stdout_level_info\"><pre class=\"playground-terminal__stdout-content\">Epoch 22/50\n",
    "</pre></section><section class=\"playground-terminal__stdout playground-terminal__stdout_type_stream playground-terminal__stdout_level_info\"><pre class=\"playground-terminal__stdout-content\">190/190 - 45s - loss: 6.1179 - mean_absolute_error: 1.8132 - val_loss: 67.6044 - val_mean_absolute_error: 6.0690\n",
    "</pre></section><section class=\"playground-terminal__stdout playground-terminal__stdout_type_stream playground-terminal__stdout_level_info\"><pre class=\"playground-terminal__stdout-content\">Epoch 23/50\n",
    "</pre></section><section class=\"playground-terminal__stdout playground-terminal__stdout_type_stream playground-terminal__stdout_level_info\"><pre class=\"playground-terminal__stdout-content\">190/190 - 44s - loss: 5.8082 - mean_absolute_error: 1.7776 - val_loss: 67.5314 - val_mean_absolute_error: 6.0184\n",
    "</pre></section><section class=\"playground-terminal__stdout playground-terminal__stdout_type_stream playground-terminal__stdout_level_info\"><pre class=\"playground-terminal__stdout-content\">Epoch 24/50\n",
    "</pre></section><section class=\"playground-terminal__stdout playground-terminal__stdout_type_stream playground-terminal__stdout_level_info\"><pre class=\"playground-terminal__stdout-content\">190/190 - 51s - loss: 5.7765 - mean_absolute_error: 1.7581 - val_loss: 63.5704 - val_mean_absolute_error: 5.8998\n",
    "</pre></section><section class=\"playground-terminal__stdout playground-terminal__stdout_type_stream playground-terminal__stdout_level_info\"><pre class=\"playground-terminal__stdout-content\">Epoch 25/50\n",
    "</pre></section><section class=\"playground-terminal__stdout playground-terminal__stdout_type_stream playground-terminal__stdout_level_info\"><pre class=\"playground-terminal__stdout-content\">190/190 - 44s - loss: 5.7036 - mean_absolute_error: 1.7848 - val_loss: 62.5542 - val_mean_absolute_error: 5.9871\n",
    "</pre></section><section class=\"playground-terminal__stdout playground-terminal__stdout_type_stream playground-terminal__stdout_level_info\"><pre class=\"playground-terminal__stdout-content\">Epoch 26/50\n",
    "</pre></section><section class=\"playground-terminal__stdout playground-terminal__stdout_type_stream playground-terminal__stdout_level_info\"><pre class=\"playground-terminal__stdout-content\">190/190 - 45s - loss: 5.1853 - mean_absolute_error: 1.6936 - val_loss: 68.7603 - val_mean_absolute_error: 6.3561\n",
    "</pre></section><section class=\"playground-terminal__stdout playground-terminal__stdout_type_stream playground-terminal__stdout_level_info\"><pre class=\"playground-terminal__stdout-content\">Epoch 27/50\n",
    "</pre></section><section class=\"playground-terminal__stdout playground-terminal__stdout_type_stream playground-terminal__stdout_level_info\"><pre class=\"playground-terminal__stdout-content\">190/190 - 51s - loss: 4.6841 - mean_absolute_error: 1.6130 - val_loss: 59.9309 - val_mean_absolute_error: 5.6649\n",
    "</pre></section><section class=\"playground-terminal__stdout playground-terminal__stdout_type_stream playground-terminal__stdout_level_info\"><pre class=\"playground-terminal__stdout-content\">Epoch 28/50\n",
    "</pre></section><section class=\"playground-terminal__stdout playground-terminal__stdout_type_stream playground-terminal__stdout_level_info\"><pre class=\"playground-terminal__stdout-content\">190/190 - 43s - loss: 4.6437 - mean_absolute_error: 1.5907 - val_loss: 67.9450 - val_mean_absolute_error: 6.1646\n",
    "</pre></section><section class=\"playground-terminal__stdout playground-terminal__stdout_type_stream playground-terminal__stdout_level_info\"><pre class=\"playground-terminal__stdout-content\">Epoch 29/50\n",
    "</pre></section><section class=\"playground-terminal__stdout playground-terminal__stdout_type_stream playground-terminal__stdout_level_info\"><pre class=\"playground-terminal__stdout-content\">190/190 - 47s - loss: 4.8039 - mean_absolute_error: 1.6399 - val_loss: 59.6452 - val_mean_absolute_error: 5.6688\n",
    "</pre></section><section class=\"playground-terminal__stdout playground-terminal__stdout_type_stream playground-terminal__stdout_level_info\"><pre class=\"playground-terminal__stdout-content\">Epoch 30/50\n",
    "</pre></section><section class=\"playground-terminal__stdout playground-terminal__stdout_type_stream playground-terminal__stdout_level_info\"><pre class=\"playground-terminal__stdout-content\">190/190 - 51s - loss: 4.5651 - mean_absolute_error: 1.5845 - val_loss: 59.8391 - val_mean_absolute_error: 5.6316\n",
    "</pre></section><section class=\"playground-terminal__stdout playground-terminal__stdout_type_stream playground-terminal__stdout_level_info\"><pre class=\"playground-terminal__stdout-content\">Epoch 31/50\n",
    "</pre></section><section class=\"playground-terminal__stdout playground-terminal__stdout_type_stream playground-terminal__stdout_level_info\"><pre class=\"playground-terminal__stdout-content\">190/190 - 41s - loss: 4.2316 - mean_absolute_error: 1.5251 - val_loss: 61.1891 - val_mean_absolute_error: 5.7388\n",
    "</pre></section><section class=\"playground-terminal__stdout playground-terminal__stdout_type_stream playground-terminal__stdout_level_info\"><pre class=\"playground-terminal__stdout-content\">Epoch 32/50\n",
    "</pre></section><section class=\"playground-terminal__stdout playground-terminal__stdout_type_stream playground-terminal__stdout_level_info\"><pre class=\"playground-terminal__stdout-content\">190/190 - 41s - loss: 4.2021 - mean_absolute_error: 1.5291 - val_loss: 62.5785 - val_mean_absolute_error: 5.9047\n",
    "</pre></section><section class=\"playground-terminal__stdout playground-terminal__stdout_type_stream playground-terminal__stdout_level_info\"><pre class=\"playground-terminal__stdout-content\">Epoch 33/50\n",
    "</pre></section><section class=\"playground-terminal__stdout playground-terminal__stdout_type_stream playground-terminal__stdout_level_info\"><pre class=\"playground-terminal__stdout-content\">190/190 - 38s - loss: 4.6980 - mean_absolute_error: 1.6048 - val_loss: 63.3801 - val_mean_absolute_error: 5.9389\n",
    "</pre></section><section class=\"playground-terminal__stdout playground-terminal__stdout_type_stream playground-terminal__stdout_level_info\"><pre class=\"playground-terminal__stdout-content\">Epoch 34/50\n",
    "</pre></section><section class=\"playground-terminal__stdout playground-terminal__stdout_type_stream playground-terminal__stdout_level_info\"><pre class=\"playground-terminal__stdout-content\">190/190 - 38s - loss: 4.8042 - mean_absolute_error: 1.6411 - val_loss: 60.5638 - val_mean_absolute_error: 5.6698\n",
    "</pre></section><section class=\"playground-terminal__stdout playground-terminal__stdout_type_stream playground-terminal__stdout_level_info\"><pre class=\"playground-terminal__stdout-content\">Epoch 35/50\n",
    "</pre></section><section class=\"playground-terminal__stdout playground-terminal__stdout_type_stream playground-terminal__stdout_level_info\"><pre class=\"playground-terminal__stdout-content\">190/190 - 37s - loss: 4.7634 - mean_absolute_error: 1.6490 - val_loss: 59.9835 - val_mean_absolute_error: 5.8069\n",
    "</pre></section><section class=\"playground-terminal__stdout playground-terminal__stdout_type_stream playground-terminal__stdout_level_info\"><pre class=\"playground-terminal__stdout-content\">Epoch 36/50\n",
    "</pre></section><section class=\"playground-terminal__stdout playground-terminal__stdout_type_stream playground-terminal__stdout_level_info\"><pre class=\"playground-terminal__stdout-content\">190/190 - 38s - loss: 4.9507 - mean_absolute_error: 1.6724 - val_loss: 61.3379 - val_mean_absolute_error: 5.8747\n",
    "</pre></section><section class=\"playground-terminal__stdout playground-terminal__stdout_type_stream playground-terminal__stdout_level_info\"><pre class=\"playground-terminal__stdout-content\">Epoch 37/50\n",
    "</pre></section><section class=\"playground-terminal__stdout playground-terminal__stdout_type_stream playground-terminal__stdout_level_info\"><pre class=\"playground-terminal__stdout-content\">190/190 - 38s - loss: 4.3512 - mean_absolute_error: 1.5598 - val_loss: 59.6787 - val_mean_absolute_error: 5.6733\n",
    "</pre></section><section class=\"playground-terminal__stdout playground-terminal__stdout_type_stream playground-terminal__stdout_level_info\"><pre class=\"playground-terminal__stdout-content\">Epoch 38/50\n",
    "</pre></section><section class=\"playground-terminal__stdout playground-terminal__stdout_type_stream playground-terminal__stdout_level_info\"><pre class=\"playground-terminal__stdout-content\">190/190 - 37s - loss: 3.9755 - mean_absolute_error: 1.4795 - val_loss: 61.6925 - val_mean_absolute_error: 5.8641\n",
    "</pre></section><section class=\"playground-terminal__stdout playground-terminal__stdout_type_stream playground-terminal__stdout_level_info\"><pre class=\"playground-terminal__stdout-content\">Epoch 39/50\n",
    "</pre></section><section class=\"playground-terminal__stdout playground-terminal__stdout_type_stream playground-terminal__stdout_level_info\"><pre class=\"playground-terminal__stdout-content\">190/190 - 37s - loss: 3.6885 - mean_absolute_error: 1.4251 - val_loss: 57.6830 - val_mean_absolute_error: 5.5642\n",
    "</pre></section><section class=\"playground-terminal__stdout playground-terminal__stdout_type_stream playground-terminal__stdout_level_info\"><pre class=\"playground-terminal__stdout-content\">Epoch 40/50\n",
    "</pre></section><section class=\"playground-terminal__stdout playground-terminal__stdout_type_stream playground-terminal__stdout_level_info\"><pre class=\"playground-terminal__stdout-content\">190/190 - 39s - loss: 3.5681 - mean_absolute_error: 1.4068 - val_loss: 58.2834 - val_mean_absolute_error: 5.6324\n",
    "</pre></section><section class=\"playground-terminal__stdout playground-terminal__stdout_type_stream playground-terminal__stdout_level_info\"><pre class=\"playground-terminal__stdout-content\">Epoch 41/50\n",
    "</pre></section><section class=\"playground-terminal__stdout playground-terminal__stdout_type_stream playground-terminal__stdout_level_info\"><pre class=\"playground-terminal__stdout-content\">190/190 - 53s - loss: 3.4378 - mean_absolute_error: 1.3799 - val_loss: 59.1921 - val_mean_absolute_error: 5.6677\n",
    "</pre></section><section class=\"playground-terminal__stdout playground-terminal__stdout_type_stream playground-terminal__stdout_level_info\"><pre class=\"playground-terminal__stdout-content\">Epoch 42/50\n",
    "</pre></section><section class=\"playground-terminal__stdout playground-terminal__stdout_type_stream playground-terminal__stdout_level_info\"><pre class=\"playground-terminal__stdout-content\">190/190 - 51s - loss: 3.1895 - mean_absolute_error: 1.3281 - val_loss: 57.0108 - val_mean_absolute_error: 5.5189\n",
    "</pre></section><section class=\"playground-terminal__stdout playground-terminal__stdout_type_stream playground-terminal__stdout_level_info\"><pre class=\"playground-terminal__stdout-content\">Epoch 43/50\n",
    "</pre></section><section class=\"playground-terminal__stdout playground-terminal__stdout_type_stream playground-terminal__stdout_level_info\"><pre class=\"playground-terminal__stdout-content\">190/190 - 53s - loss: 3.1787 - mean_absolute_error: 1.3242 - val_loss: 59.7419 - val_mean_absolute_error: 5.6903\n",
    "</pre></section><section class=\"playground-terminal__stdout playground-terminal__stdout_type_stream playground-terminal__stdout_level_info\"><pre class=\"playground-terminal__stdout-content\">Epoch 44/50\n",
    "</pre></section><section class=\"playground-terminal__stdout playground-terminal__stdout_type_stream playground-terminal__stdout_level_info\"><pre class=\"playground-terminal__stdout-content\">190/190 - 40s - loss: 3.2625 - mean_absolute_error: 1.3377 - val_loss: 57.4197 - val_mean_absolute_error: 5.5785\n",
    "</pre></section><section class=\"playground-terminal__stdout playground-terminal__stdout_type_stream playground-terminal__stdout_level_info\"><pre class=\"playground-terminal__stdout-content\">Epoch 45/50\n",
    "</pre></section><section class=\"playground-terminal__stdout playground-terminal__stdout_type_stream playground-terminal__stdout_level_info\"><pre class=\"playground-terminal__stdout-content\">190/190 - 53s - loss: 3.2519 - mean_absolute_error: 1.3350 - val_loss: 60.4425 - val_mean_absolute_error: 5.7072\n",
    "</pre></section><section class=\"playground-terminal__stdout playground-terminal__stdout_type_stream playground-terminal__stdout_level_info\"><pre class=\"playground-terminal__stdout-content\">Epoch 46/50\n",
    "</pre></section><section class=\"playground-terminal__stdout playground-terminal__stdout_type_stream playground-terminal__stdout_level_info\"><pre class=\"playground-terminal__stdout-content\">190/190 - 53s - loss: 3.1630 - mean_absolute_error: 1.3257 - val_loss: 61.6341 - val_mean_absolute_error: 5.8666\n",
    "</pre></section><section class=\"playground-terminal__stdout playground-terminal__stdout_type_stream playground-terminal__stdout_level_info\"><pre class=\"playground-terminal__stdout-content\">Epoch 47/50\n",
    "</pre></section><section class=\"playground-terminal__stdout playground-terminal__stdout_type_stream playground-terminal__stdout_level_info\"><pre class=\"playground-terminal__stdout-content\">190/190 - 53s - loss: 3.0875 - mean_absolute_error: 1.3055 - val_loss: 58.2595 - val_mean_absolute_error: 5.6379\n",
    "</pre></section><section class=\"playground-terminal__stdout playground-terminal__stdout_type_stream playground-terminal__stdout_level_info\"><pre class=\"playground-terminal__stdout-content\">Epoch 48/50\n",
    "</pre></section><section class=\"playground-terminal__stdout playground-terminal__stdout_type_stream playground-terminal__stdout_level_info\"><pre class=\"playground-terminal__stdout-content\">190/190 - 40s - loss: 3.3393 - mean_absolute_error: 1.3427 - val_loss: 60.2584 - val_mean_absolute_error: 5.8013\n",
    "</pre></section><section class=\"playground-terminal__stdout playground-terminal__stdout_type_stream playground-terminal__stdout_level_info\"><pre class=\"playground-terminal__stdout-content\">Epoch 49/50\n",
    "</pre></section><section class=\"playground-terminal__stdout playground-terminal__stdout_type_stream playground-terminal__stdout_level_info\"><pre class=\"playground-terminal__stdout-content\">190/190 - 52s - loss: 3.5900 - mean_absolute_error: 1.3781 - val_loss: 62.9920 - val_mean_absolute_error: 5.7240\n",
    "</pre></section><section class=\"playground-terminal__stdout playground-terminal__stdout_type_stream playground-terminal__stdout_level_info\"><pre class=\"playground-terminal__stdout-content\">Epoch 50/50\n",
    "</pre></section><section class=\"playground-terminal__stdout playground-terminal__stdout_type_stream playground-terminal__stdout_level_info\"><pre class=\"playground-terminal__stdout-content\">190/190 - 54s - loss: 3.5318 - mean_absolute_error: 1.4056 - val_loss: 58.2069 - val_mean_absolute_error: 5.6379\n",
    "</pre></section><section class=\"playground-terminal__stdout playground-terminal__stdout_type_stream playground-terminal__stdout_level_err\"><pre class=\"playground-terminal__stdout-content\">WARNING:tensorflow:sample_weight modes were coerced from\n",
    "</pre></section><section class=\"playground-terminal__stdout playground-terminal__stdout_type_stream playground-terminal__stdout_level_err\"><pre class=\"playground-terminal__stdout-content\">  ...\n",
    "</pre></section><section class=\"playground-terminal__stdout playground-terminal__stdout_type_stream playground-terminal__stdout_level_err\"><pre class=\"playground-terminal__stdout-content\">    to  \n",
    "</pre></section><section class=\"playground-terminal__stdout playground-terminal__stdout_type_stream playground-terminal__stdout_level_err\"><pre class=\"playground-terminal__stdout-content\">  ['...']\n",
    "</pre></section><section class=\"playground-terminal__stdout playground-terminal__stdout_type_stream playground-terminal__stdout_level_info\"><pre class=\"playground-terminal__stdout-content\">48/48 - 8s - loss: 58.2069 - mean_absolute_error: 5.6379\n",
    "</pre></section><section class=\"playground-terminal__stdout playground-terminal__stdout_type_stream playground-terminal__stdout_level_info\"><pre class=\"playground-terminal__stdout-content\">Test MAE: 5.6379\n",
    "</pre></section></section><div class=\"scroll-observer\"></div><div></div></div>"
   ]
  },
  {
   "cell_type": "markdown",
   "metadata": {},
   "source": [
    "<b>Выводы</b> Обучение на сервере с GPU, имеющем большой объем видеопамяти, позволило нам получить значение ~5.64 для MAE на размере батча равном 32."
   ]
  },
  {
   "cell_type": "markdown",
   "metadata": {},
   "source": [
    "### 1.7.2. Обучение в локальной среде"
   ]
  },
  {
   "cell_type": "markdown",
   "metadata": {},
   "source": [
    "Характеристики локальной среды:\n",
    "* CUDA Toolkit 11.2.2\n",
    "* cuDNN v8.1.1\n",
    "* keras v2.7.0\n",
    "* tensorflow v2.7.0\n",
    "\n",
    "Характеристики GPU:\n",
    "* GeForce RTX 2070 with MAX-Q Design\n",
    "* Выделенная видеопамять: 8192МБ GDDR6\n",
    "* Интерфейс памяти: 256 бит\n",
    "* Ядра CUDA: 2304\n",
    "* Tensor-ядра: 288"
   ]
  },
  {
   "cell_type": "markdown",
   "metadata": {},
   "source": [
    "Было несколько попыток обучения модели в локальной среде:\n",
    "* увеличивалоось целевое разрешение фотографии с 256x256 до 300x300 (512x512 размер вызывал переполнение памяти)\n",
    "* увеличивался размер батча с 16 до 32 (размер батча 64 вызывал переполнение памяти видеокарты)\n",
    "* learning rate алгоритма оптимизации adam уменьшили с стандартного 0.001 до 0.00005\n",
    "* уменьшалось число полносвязных слоев после ResNet\n",
    "* проводилось обучение в два этапа\n",
    "\n",
    "Ниже результаты различных вариантов:"
   ]
  },
  {
   "cell_type": "markdown",
   "metadata": {},
   "source": [
    "#### 1.7.2.1. Initial model config (batch size 16)"
   ]
  },
  {
   "cell_type": "code",
   "execution_count": 103,
   "metadata": {},
   "outputs": [],
   "source": [
    "model = Sequential()\n",
    "backbone = ResNet50(input_shape=(256,256,3),\n",
    "                weights='imagenet',\n",
    "                include_top=False) \n",
    "backbone.trainable = True\n",
    "\n",
    "model.add(backbone)\n",
    "model.add(GlobalAveragePooling2D())\n",
    "model.add(Dense(1000,  activation='relu'))\n",
    "model.add(Dense(64,  activation='relu'))\n",
    "model.add(Dense(1,  activation='relu'))\n",
    "model.compile(optimizer='adam', loss='MeanSquaredError',\n",
    "                metrics=['mean_absolute_error'])"
   ]
  },
  {
   "cell_type": "code",
   "execution_count": 104,
   "metadata": {},
   "outputs": [
    {
     "name": "stdout",
     "output_type": "stream",
     "text": [
      "Epoch 1/50\n",
      "380/380 - 84s - loss: 270.8175 - mean_absolute_error: 12.6041 - val_loss: 289.0806 - val_mean_absolute_error: 12.9683 - 84s/epoch - 222ms/step\n",
      "Epoch 2/50\n",
      "380/380 - 81s - loss: 200.7920 - mean_absolute_error: 11.0147 - val_loss: 249.5341 - val_mean_absolute_error: 12.2405 - 81s/epoch - 213ms/step\n",
      "Epoch 3/50\n",
      "380/380 - 81s - loss: 173.7558 - mean_absolute_error: 10.1616 - val_loss: 171.2701 - val_mean_absolute_error: 9.9806 - 81s/epoch - 214ms/step\n",
      "Epoch 4/50\n",
      "380/380 - 81s - loss: 149.6414 - mean_absolute_error: 9.4762 - val_loss: 396.6176 - val_mean_absolute_error: 15.0409 - 81s/epoch - 214ms/step\n",
      "Epoch 5/50\n",
      "380/380 - 82s - loss: 131.0931 - mean_absolute_error: 8.8626 - val_loss: 225.3153 - val_mean_absolute_error: 11.9187 - 82s/epoch - 215ms/step\n",
      "Epoch 6/50\n",
      "380/380 - 81s - loss: 114.0570 - mean_absolute_error: 8.2120 - val_loss: 176.3740 - val_mean_absolute_error: 10.2920 - 81s/epoch - 214ms/step\n",
      "Epoch 7/50\n",
      "380/380 - 81s - loss: 97.0384 - mean_absolute_error: 7.5975 - val_loss: 265.5558 - val_mean_absolute_error: 11.9603 - 81s/epoch - 214ms/step\n",
      "Epoch 8/50\n",
      "380/380 - 82s - loss: 79.5828 - mean_absolute_error: 6.8854 - val_loss: 143.9853 - val_mean_absolute_error: 9.1313 - 82s/epoch - 215ms/step\n",
      "Epoch 9/50\n",
      "380/380 - 82s - loss: 61.3968 - mean_absolute_error: 6.0671 - val_loss: 117.0628 - val_mean_absolute_error: 8.2794 - 82s/epoch - 215ms/step\n",
      "Epoch 10/50\n",
      "380/380 - 82s - loss: 55.6222 - mean_absolute_error: 5.7184 - val_loss: 132.8086 - val_mean_absolute_error: 8.8978 - 82s/epoch - 216ms/step\n",
      "Epoch 11/50\n",
      "380/380 - 82s - loss: 45.0571 - mean_absolute_error: 5.1747 - val_loss: 141.8963 - val_mean_absolute_error: 8.8658 - 82s/epoch - 216ms/step\n",
      "Epoch 12/50\n",
      "380/380 - 82s - loss: 35.3494 - mean_absolute_error: 4.6048 - val_loss: 149.5064 - val_mean_absolute_error: 9.0726 - 82s/epoch - 216ms/step\n",
      "Epoch 13/50\n",
      "380/380 - 82s - loss: 32.7097 - mean_absolute_error: 4.4141 - val_loss: 158.6422 - val_mean_absolute_error: 9.2777 - 82s/epoch - 216ms/step\n",
      "Epoch 14/50\n",
      "380/380 - 82s - loss: 27.0056 - mean_absolute_error: 4.0418 - val_loss: 122.6038 - val_mean_absolute_error: 8.5634 - 82s/epoch - 216ms/step\n",
      "Epoch 15/50\n",
      "380/380 - 82s - loss: 29.2173 - mean_absolute_error: 4.1641 - val_loss: 121.0483 - val_mean_absolute_error: 8.3555 - 82s/epoch - 216ms/step\n",
      "Epoch 16/50\n",
      "380/380 - 82s - loss: 24.7323 - mean_absolute_error: 3.8530 - val_loss: 111.6379 - val_mean_absolute_error: 7.9249 - 82s/epoch - 216ms/step\n",
      "Epoch 17/50\n",
      "380/380 - 82s - loss: 21.6314 - mean_absolute_error: 3.6017 - val_loss: 114.0309 - val_mean_absolute_error: 8.1475 - 82s/epoch - 216ms/step\n",
      "Epoch 18/50\n",
      "380/380 - 82s - loss: 22.7289 - mean_absolute_error: 3.6731 - val_loss: 166.1591 - val_mean_absolute_error: 10.3548 - 82s/epoch - 216ms/step\n",
      "Epoch 19/50\n",
      "380/380 - 82s - loss: 21.7620 - mean_absolute_error: 3.6162 - val_loss: 113.1918 - val_mean_absolute_error: 7.9459 - 82s/epoch - 216ms/step\n",
      "Epoch 20/50\n",
      "380/380 - 82s - loss: 19.8360 - mean_absolute_error: 3.4349 - val_loss: 124.8657 - val_mean_absolute_error: 8.6594 - 82s/epoch - 216ms/step\n",
      "Epoch 21/50\n",
      "380/380 - 82s - loss: 18.6774 - mean_absolute_error: 3.3249 - val_loss: 119.1297 - val_mean_absolute_error: 8.5042 - 82s/epoch - 216ms/step\n",
      "Epoch 22/50\n",
      "380/380 - 82s - loss: 18.8274 - mean_absolute_error: 3.3652 - val_loss: 119.5709 - val_mean_absolute_error: 8.5538 - 82s/epoch - 216ms/step\n",
      "Epoch 23/50\n",
      "380/380 - 82s - loss: 16.9859 - mean_absolute_error: 3.1669 - val_loss: 120.4167 - val_mean_absolute_error: 8.5842 - 82s/epoch - 216ms/step\n",
      "Epoch 24/50\n",
      "380/380 - 82s - loss: 17.7285 - mean_absolute_error: 3.2248 - val_loss: 120.2924 - val_mean_absolute_error: 8.6660 - 82s/epoch - 216ms/step\n",
      "Epoch 25/50\n",
      "380/380 - 82s - loss: 14.9775 - mean_absolute_error: 2.9724 - val_loss: 109.0163 - val_mean_absolute_error: 7.9687 - 82s/epoch - 215ms/step\n",
      "Epoch 26/50\n",
      "380/380 - 82s - loss: 13.1844 - mean_absolute_error: 2.7965 - val_loss: 111.0774 - val_mean_absolute_error: 8.1543 - 82s/epoch - 216ms/step\n",
      "Epoch 27/50\n",
      "380/380 - 82s - loss: 12.1324 - mean_absolute_error: 2.6933 - val_loss: 110.9267 - val_mean_absolute_error: 8.1878 - 82s/epoch - 216ms/step\n",
      "Epoch 28/50\n",
      "380/380 - 82s - loss: 12.7405 - mean_absolute_error: 2.7383 - val_loss: 102.8246 - val_mean_absolute_error: 7.7792 - 82s/epoch - 216ms/step\n",
      "Epoch 29/50\n",
      "380/380 - 82s - loss: 13.8658 - mean_absolute_error: 2.8722 - val_loss: 166.2767 - val_mean_absolute_error: 9.6835 - 82s/epoch - 216ms/step\n",
      "Epoch 30/50\n",
      "380/380 - 82s - loss: 12.9501 - mean_absolute_error: 2.7910 - val_loss: 110.7821 - val_mean_absolute_error: 8.0657 - 82s/epoch - 216ms/step\n",
      "Epoch 31/50\n",
      "380/380 - 82s - loss: 13.1651 - mean_absolute_error: 2.8141 - val_loss: 116.0073 - val_mean_absolute_error: 8.3541 - 82s/epoch - 216ms/step\n",
      "Epoch 32/50\n",
      "380/380 - 82s - loss: 12.2096 - mean_absolute_error: 2.6892 - val_loss: 126.7920 - val_mean_absolute_error: 8.6982 - 82s/epoch - 216ms/step\n",
      "Epoch 33/50\n",
      "380/380 - 82s - loss: 12.5520 - mean_absolute_error: 2.7127 - val_loss: 113.4972 - val_mean_absolute_error: 8.2645 - 82s/epoch - 215ms/step\n",
      "Epoch 34/50\n",
      "380/380 - 82s - loss: 10.6778 - mean_absolute_error: 2.4914 - val_loss: 117.7009 - val_mean_absolute_error: 8.4413 - 82s/epoch - 215ms/step\n",
      "Epoch 35/50\n",
      "380/380 - 82s - loss: 10.0650 - mean_absolute_error: 2.4331 - val_loss: 102.3243 - val_mean_absolute_error: 7.6830 - 82s/epoch - 215ms/step\n",
      "Epoch 36/50\n",
      "380/380 - 82s - loss: 8.7666 - mean_absolute_error: 2.2677 - val_loss: 103.1822 - val_mean_absolute_error: 7.7244 - 82s/epoch - 216ms/step\n",
      "Epoch 37/50\n",
      "380/380 - 82s - loss: 8.2044 - mean_absolute_error: 2.1913 - val_loss: 99.3388 - val_mean_absolute_error: 7.6511 - 82s/epoch - 216ms/step\n",
      "Epoch 38/50\n",
      "380/380 - 82s - loss: 9.2119 - mean_absolute_error: 2.3468 - val_loss: 115.4225 - val_mean_absolute_error: 8.2939 - 82s/epoch - 216ms/step\n",
      "Epoch 39/50\n",
      "380/380 - 82s - loss: 9.0700 - mean_absolute_error: 2.3069 - val_loss: 111.9569 - val_mean_absolute_error: 8.0767 - 82s/epoch - 216ms/step\n",
      "Epoch 40/50\n",
      "380/380 - 82s - loss: 8.5960 - mean_absolute_error: 2.2499 - val_loss: 112.0966 - val_mean_absolute_error: 8.0576 - 82s/epoch - 216ms/step\n",
      "Epoch 41/50\n",
      "380/380 - 82s - loss: 8.3127 - mean_absolute_error: 2.2049 - val_loss: 111.0112 - val_mean_absolute_error: 8.1490 - 82s/epoch - 216ms/step\n",
      "Epoch 42/50\n",
      "380/380 - 82s - loss: 7.8394 - mean_absolute_error: 2.1496 - val_loss: 102.0049 - val_mean_absolute_error: 7.6014 - 82s/epoch - 215ms/step\n",
      "Epoch 43/50\n",
      "380/380 - 82s - loss: 7.0133 - mean_absolute_error: 2.0356 - val_loss: 109.3254 - val_mean_absolute_error: 8.0384 - 82s/epoch - 216ms/step\n",
      "Epoch 44/50\n",
      "380/380 - 82s - loss: 7.0577 - mean_absolute_error: 2.0278 - val_loss: 110.2081 - val_mean_absolute_error: 8.1981 - 82s/epoch - 216ms/step\n",
      "Epoch 45/50\n",
      "380/380 - 82s - loss: 7.0936 - mean_absolute_error: 2.0201 - val_loss: 102.1686 - val_mean_absolute_error: 7.6335 - 82s/epoch - 216ms/step\n",
      "Epoch 46/50\n",
      "380/380 - 82s - loss: 7.0494 - mean_absolute_error: 2.0291 - val_loss: 105.4440 - val_mean_absolute_error: 7.7572 - 82s/epoch - 216ms/step\n",
      "Epoch 47/50\n",
      "380/380 - 82s - loss: 6.5052 - mean_absolute_error: 1.9437 - val_loss: 102.7430 - val_mean_absolute_error: 7.7721 - 82s/epoch - 216ms/step\n",
      "Epoch 48/50\n",
      "380/380 - 82s - loss: 6.0455 - mean_absolute_error: 1.8822 - val_loss: 103.8356 - val_mean_absolute_error: 7.7648 - 82s/epoch - 216ms/step\n",
      "Epoch 49/50\n",
      "380/380 - 82s - loss: 6.3324 - mean_absolute_error: 1.9025 - val_loss: 104.7263 - val_mean_absolute_error: 7.9389 - 82s/epoch - 216ms/step\n",
      "Epoch 50/50\n",
      "380/380 - 82s - loss: 6.2975 - mean_absolute_error: 1.9168 - val_loss: 102.1106 - val_mean_absolute_error: 7.7304 - 82s/epoch - 216ms/step\n"
     ]
    },
    {
     "data": {
      "text/plain": [
       "<keras.callbacks.History at 0x7facb7ba3100>"
      ]
     },
     "execution_count": 104,
     "metadata": {},
     "output_type": "execute_result"
    }
   ],
   "source": [
    "model.fit(train_generator, \n",
    "          validation_data=valid_generator,\n",
    "          batch_size=16, epochs=50,\n",
    "          steps_per_epoch=len(train_generator) ,\n",
    "          validation_steps=len(valid_generator),\n",
    "          verbose=2, shuffle=True)"
   ]
  },
  {
   "cell_type": "code",
   "execution_count": 105,
   "metadata": {},
   "outputs": [
    {
     "name": "stdout",
     "output_type": "stream",
     "text": [
      "Found 6073 validated image filenames.\n",
      "Found 1518 validated image filenames.\n",
      "CPU times: user 30.5 ms, sys: 20.2 ms, total: 50.7 ms\n",
      "Wall time: 50.2 ms\n"
     ]
    }
   ],
   "source": [
    "%%time\n",
    "datagen=ImageDataGenerator(rescale=1./255, validation_split=0.2)\n",
    "train_generator=datagen.flow_from_dataframe(dataframe=labels_df, \n",
    "                                            directory=f\"{DATA_PATH}/final_files/\", \n",
    "                                            x_col=\"file_name\",\n",
    "                                            y_col=\"real_age\",\n",
    "                                            class_mode=\"raw\",\n",
    "                                            target_size=(256,256),\n",
    "                                            subset='training',\n",
    "                                            batch_size=32,\n",
    "                                           seed=23_02_23)\n",
    "valid_generator=datagen.flow_from_dataframe(dataframe=labels_df, \n",
    "                                            directory=f\"{DATA_PATH}/final_files/\", \n",
    "                                            x_col=\"file_name\",\n",
    "                                            y_col=\"real_age\",\n",
    "                                            class_mode=\"raw\",\n",
    "                                            target_size=(256,256),\n",
    "                                            subset='validation',\n",
    "                                            batch_size=32,\n",
    "                                           seed=23_02_23)"
   ]
  },
  {
   "cell_type": "markdown",
   "metadata": {},
   "source": [
    "<b>Выводы</b> Уже при целевом размере изображения 256x256 и размере батча 16 мы получаем на 50 эпохах удовлетворяющее нас значение MAE на валидации."
   ]
  },
  {
   "cell_type": "markdown",
   "metadata": {},
   "source": [
    "#### 1.7.2.2. Обучение за два этапа"
   ]
  },
  {
   "cell_type": "markdown",
   "metadata": {},
   "source": [
    "Попробуем обучить модель за два шага - сначала только полносвязные слои на верху ResNet50, а потом включим в обучение первый и два последние блока самой ResNet."
   ]
  },
  {
   "cell_type": "code",
   "execution_count": 19,
   "metadata": {},
   "outputs": [],
   "source": [
    "model = Sequential()\n",
    "\n",
    "backbone = ResNet50(input_shape=(256,256,3),\n",
    "                weights='imagenet',\n",
    "                include_top=False) \n",
    "backbone.trainable = False\n",
    "\n",
    "model.add(backbone)\n",
    "model.add(GlobalAveragePooling2D())\n",
    "model.add(Dense(256,  activation='relu'))\n",
    "model.add(Dense(64,  activation='relu'))\n",
    "model.add(Dense(1,  activation='relu'))\n",
    "model.compile(optimizer='adam', loss='MeanSquaredError',\n",
    "                metrics=['mean_absolute_error'])"
   ]
  },
  {
   "cell_type": "code",
   "execution_count": 20,
   "metadata": {},
   "outputs": [
    {
     "name": "stdout",
     "output_type": "stream",
     "text": [
      "Found 6073 validated image filenames.\n",
      "Found 1518 validated image filenames.\n",
      "CPU times: user 48 ms, sys: 9.67 ms, total: 57.7 ms\n",
      "Wall time: 57.1 ms\n"
     ]
    }
   ],
   "source": [
    "%%time\n",
    "datagen=ImageDataGenerator(rescale=1./255, validation_split=0.2)\n",
    "train_generator=datagen.flow_from_dataframe(dataframe=labels_df, \n",
    "                                            directory=f\"{DATA_PATH}/final_files/\", \n",
    "                                            x_col=\"file_name\",\n",
    "                                            y_col=\"real_age\",\n",
    "                                            class_mode=\"raw\",\n",
    "                                            target_size=(256,256),\n",
    "                                            subset='training',\n",
    "                                            batch_size=32,\n",
    "                                           seed=23_02_23)\n",
    "valid_generator=datagen.flow_from_dataframe(dataframe=labels_df, \n",
    "                                            directory=f\"{DATA_PATH}/final_files/\", \n",
    "                                            x_col=\"file_name\",\n",
    "                                            y_col=\"real_age\",\n",
    "                                            class_mode=\"raw\",\n",
    "                                            target_size=(256,256),\n",
    "                                            subset='validation',\n",
    "                                            batch_size=32,\n",
    "                                           seed=23_02_23)"
   ]
  },
  {
   "cell_type": "code",
   "execution_count": 21,
   "metadata": {},
   "outputs": [
    {
     "name": "stdout",
     "output_type": "stream",
     "text": [
      "Epoch 1/5\n",
      "190/190 - 29s - loss: 1297.9890 - mean_absolute_error: 31.6718 - val_loss: 1145.1575 - val_mean_absolute_error: 29.3182 - 29s/epoch - 155ms/step\n",
      "Epoch 2/5\n",
      "190/190 - 27s - loss: 1297.9890 - mean_absolute_error: 31.6718 - val_loss: 1145.1575 - val_mean_absolute_error: 29.3182 - 27s/epoch - 141ms/step\n",
      "Epoch 3/5\n",
      "190/190 - 27s - loss: 1297.9890 - mean_absolute_error: 31.6718 - val_loss: 1145.1575 - val_mean_absolute_error: 29.3182 - 27s/epoch - 141ms/step\n",
      "Epoch 4/5\n",
      "190/190 - 26s - loss: 1297.9890 - mean_absolute_error: 31.6718 - val_loss: 1145.1575 - val_mean_absolute_error: 29.3182 - 26s/epoch - 139ms/step\n",
      "Epoch 5/5\n",
      "190/190 - 27s - loss: 1297.9890 - mean_absolute_error: 31.6718 - val_loss: 1145.1575 - val_mean_absolute_error: 29.3182 - 27s/epoch - 140ms/step\n"
     ]
    },
    {
     "data": {
      "text/plain": [
       "<keras.callbacks.History at 0x7f9931fb4ac0>"
      ]
     },
     "execution_count": 21,
     "metadata": {},
     "output_type": "execute_result"
    }
   ],
   "source": [
    "model.fit(train_generator, \n",
    "          validation_data=valid_generator,\n",
    "          batch_size=32, epochs=5,\n",
    "          steps_per_epoch=len(train_generator) ,\n",
    "          validation_steps=len(valid_generator),\n",
    "          verbose=2, shuffle=True)"
   ]
  },
  {
   "cell_type": "code",
   "execution_count": 30,
   "metadata": {},
   "outputs": [
    {
     "name": "stdout",
     "output_type": "stream",
     "text": [
      "0 input_6\n",
      "1 conv1_pad\n",
      "2 conv1_conv\n",
      "3 conv1_bn\n",
      "4 conv1_relu\n",
      "5 pool1_pad\n",
      "6 pool1_pool\n",
      "7 conv2_block1_1_conv\n"
     ]
    }
   ],
   "source": [
    "for i, layer in enumerate(backbone.layers[:8]):\n",
    "    print(i, layer.name)"
   ]
  },
  {
   "cell_type": "code",
   "execution_count": 33,
   "metadata": {},
   "outputs": [],
   "source": [
    "for layer in model.layers[:143]: # 142-143- граница между предпоследним и предшествующим ему блоком\n",
    "    layer.trainable = False\n",
    "for layer in model.layers[143:]:\n",
    "    layer.trainable = True"
   ]
  },
  {
   "cell_type": "code",
   "execution_count": 34,
   "metadata": {},
   "outputs": [],
   "source": [
    "for layer in model.layers[:7]: # 6- граница между первым и следующим за ним\n",
    "    layer.trainable = True"
   ]
  },
  {
   "cell_type": "code",
   "execution_count": 35,
   "metadata": {},
   "outputs": [],
   "source": [
    "model.compile(optimizer='adam', loss='MeanSquaredError',\n",
    "                metrics=['mean_absolute_error'])"
   ]
  },
  {
   "cell_type": "code",
   "execution_count": 36,
   "metadata": {},
   "outputs": [
    {
     "name": "stdout",
     "output_type": "stream",
     "text": [
      "Epoch 1/20\n",
      "190/190 - 77s - loss: 242.0574 - mean_absolute_error: 11.9560 - val_loss: 1651.3845 - val_mean_absolute_error: 37.5747 - 77s/epoch - 404ms/step\n",
      "Epoch 2/20\n",
      "190/190 - 72s - loss: 166.8134 - mean_absolute_error: 9.9291 - val_loss: 294.3025 - val_mean_absolute_error: 12.9045 - 72s/epoch - 377ms/step\n",
      "Epoch 3/20\n",
      "190/190 - 72s - loss: 128.9466 - mean_absolute_error: 8.6484 - val_loss: 284.0161 - val_mean_absolute_error: 13.0132 - 72s/epoch - 379ms/step\n",
      "Epoch 4/20\n",
      "190/190 - 72s - loss: 110.6714 - mean_absolute_error: 8.0957 - val_loss: 215.7241 - val_mean_absolute_error: 10.8652 - 72s/epoch - 378ms/step\n",
      "Epoch 5/20\n",
      "190/190 - 73s - loss: 84.9972 - mean_absolute_error: 7.0802 - val_loss: 170.8385 - val_mean_absolute_error: 10.0382 - 73s/epoch - 382ms/step\n",
      "Epoch 6/20\n",
      "190/190 - 72s - loss: 64.7637 - mean_absolute_error: 6.2273 - val_loss: 237.8801 - val_mean_absolute_error: 11.3538 - 72s/epoch - 378ms/step\n",
      "Epoch 7/20\n",
      "190/190 - 72s - loss: 55.9799 - mean_absolute_error: 5.8343 - val_loss: 142.6555 - val_mean_absolute_error: 9.2211 - 72s/epoch - 380ms/step\n",
      "Epoch 8/20\n",
      "190/190 - 72s - loss: 44.8143 - mean_absolute_error: 5.1669 - val_loss: 147.6407 - val_mean_absolute_error: 9.0251 - 72s/epoch - 378ms/step\n",
      "Epoch 9/20\n",
      "190/190 - 72s - loss: 35.2183 - mean_absolute_error: 4.5499 - val_loss: 288.4252 - val_mean_absolute_error: 14.1487 - 72s/epoch - 379ms/step\n",
      "Epoch 10/20\n",
      "190/190 - 72s - loss: 29.6769 - mean_absolute_error: 4.1766 - val_loss: 165.3961 - val_mean_absolute_error: 9.5617 - 72s/epoch - 378ms/step\n",
      "Epoch 11/20\n",
      "190/190 - 72s - loss: 24.3533 - mean_absolute_error: 3.8330 - val_loss: 100.1943 - val_mean_absolute_error: 7.7203 - 72s/epoch - 377ms/step\n",
      "Epoch 12/20\n",
      "190/190 - 72s - loss: 20.9276 - mean_absolute_error: 3.5461 - val_loss: 129.7312 - val_mean_absolute_error: 8.5200 - 72s/epoch - 379ms/step\n",
      "Epoch 13/20\n",
      "190/190 - 72s - loss: 18.0919 - mean_absolute_error: 3.2764 - val_loss: 107.8496 - val_mean_absolute_error: 7.8631 - 72s/epoch - 381ms/step\n",
      "Epoch 14/20\n",
      "190/190 - 72s - loss: 17.0963 - mean_absolute_error: 3.1696 - val_loss: 133.3449 - val_mean_absolute_error: 8.5671 - 72s/epoch - 377ms/step\n",
      "Epoch 15/20\n",
      "190/190 - 72s - loss: 17.1130 - mean_absolute_error: 3.1647 - val_loss: 98.0256 - val_mean_absolute_error: 7.5566 - 72s/epoch - 381ms/step\n",
      "Epoch 16/20\n",
      "190/190 - 72s - loss: 15.9607 - mean_absolute_error: 3.0743 - val_loss: 101.4989 - val_mean_absolute_error: 7.8739 - 72s/epoch - 379ms/step\n",
      "Epoch 17/20\n",
      "190/190 - 73s - loss: 16.2830 - mean_absolute_error: 3.1144 - val_loss: 102.0183 - val_mean_absolute_error: 7.9337 - 73s/epoch - 382ms/step\n",
      "Epoch 18/20\n",
      "190/190 - 72s - loss: 16.5315 - mean_absolute_error: 3.1216 - val_loss: 115.0733 - val_mean_absolute_error: 8.3304 - 72s/epoch - 379ms/step\n",
      "Epoch 19/20\n",
      "190/190 - 72s - loss: 14.4279 - mean_absolute_error: 2.9377 - val_loss: 102.3256 - val_mean_absolute_error: 7.5530 - 72s/epoch - 378ms/step\n",
      "Epoch 20/20\n",
      "190/190 - 72s - loss: 16.3947 - mean_absolute_error: 3.1009 - val_loss: 141.2552 - val_mean_absolute_error: 9.6433 - 72s/epoch - 377ms/step\n"
     ]
    },
    {
     "data": {
      "text/plain": [
       "<keras.callbacks.History at 0x7f9829e57700>"
      ]
     },
     "execution_count": 36,
     "metadata": {},
     "output_type": "execute_result"
    }
   ],
   "source": [
    "# features_train, target_train = train_data\n",
    "#features_test, target_test = test_data\n",
    "#model.build()\n",
    "#model.summary()\n",
    "model.fit(train_generator, \n",
    "          validation_data=valid_generator,\n",
    "          batch_size=32, epochs=20,\n",
    "          steps_per_epoch=len(train_generator) ,\n",
    "          validation_steps=len(valid_generator),\n",
    "          verbose=2, shuffle=True)"
   ]
  },
  {
   "cell_type": "markdown",
   "metadata": {},
   "source": [
    "<b>Выводы</b> Двухэтапное обучение не дает выигрыша в MAE у валидационной выборки."
   ]
  },
  {
   "cell_type": "markdown",
   "metadata": {
    "tags": []
   },
   "source": [
    "#### 1.7.2.3. Batch size 32"
   ]
  },
  {
   "cell_type": "code",
   "execution_count": 112,
   "metadata": {},
   "outputs": [],
   "source": [
    "model = Sequential()\n",
    "backbone = ResNet50(input_shape=(256,256,3),\n",
    "                weights='imagenet',\n",
    "                include_top=False) \n",
    "backbone.trainable = True\n",
    "\n",
    "model.add(backbone)\n",
    "model.add(GlobalAveragePooling2D())\n",
    "model.add(Dense(1000,  activation='relu'))\n",
    "model.add(Dense(64,  activation='relu'))\n",
    "model.add(Dense(1,  activation='relu'))\n",
    "\n",
    "model.compile(optimizer='adam', loss='MeanSquaredError',\n",
    "                metrics=['mean_absolute_error'])"
   ]
  },
  {
   "cell_type": "code",
   "execution_count": 113,
   "metadata": {},
   "outputs": [
    {
     "name": "stdout",
     "output_type": "stream",
     "text": [
      "Found 6073 validated image filenames.\n",
      "Found 1518 validated image filenames.\n",
      "CPU times: user 1.28 ms, sys: 49.7 ms, total: 51 ms\n",
      "Wall time: 50.6 ms\n"
     ]
    }
   ],
   "source": [
    "%%time\n",
    "datagen=ImageDataGenerator(rescale=1./255, validation_split=0.2)\n",
    "train_generator=datagen.flow_from_dataframe(dataframe=labels_df, \n",
    "                                            directory=f\"{DATA_PATH}/final_files/\", \n",
    "                                            x_col=\"file_name\",\n",
    "                                            y_col=\"real_age\",\n",
    "                                            class_mode=\"raw\",\n",
    "                                            target_size=(256,256),\n",
    "                                            subset='training',\n",
    "                                            batch_size=32,\n",
    "                                           seed=23_02_23)\n",
    "valid_generator=datagen.flow_from_dataframe(dataframe=labels_df, \n",
    "                                            directory=f\"{DATA_PATH}/final_files/\", \n",
    "                                            x_col=\"file_name\",\n",
    "                                            y_col=\"real_age\",\n",
    "                                            class_mode=\"raw\",\n",
    "                                            target_size=(256,256),\n",
    "                                            subset='validation',\n",
    "                                            batch_size=32,\n",
    "                                           seed=23_02_23)"
   ]
  },
  {
   "cell_type": "code",
   "execution_count": 114,
   "metadata": {},
   "outputs": [
    {
     "name": "stdout",
     "output_type": "stream",
     "text": [
      "Epoch 1/50\n",
      "190/190 - 76s - loss: 233.3017 - mean_absolute_error: 11.7403 - val_loss: 451.6918 - val_mean_absolute_error: 16.0839 - 76s/epoch - 399ms/step\n",
      "Epoch 2/50\n",
      "190/190 - 72s - loss: 156.8130 - mean_absolute_error: 9.6693 - val_loss: 306.0515 - val_mean_absolute_error: 13.0303 - 72s/epoch - 381ms/step\n",
      "Epoch 3/50\n",
      "190/190 - 72s - loss: 129.5230 - mean_absolute_error: 8.7121 - val_loss: 361.4525 - val_mean_absolute_error: 14.1227 - 72s/epoch - 381ms/step\n",
      "Epoch 4/50\n",
      "190/190 - 73s - loss: 104.9412 - mean_absolute_error: 7.8746 - val_loss: 312.3228 - val_mean_absolute_error: 13.1975 - 73s/epoch - 382ms/step\n",
      "Epoch 5/50\n",
      "190/190 - 73s - loss: 86.7047 - mean_absolute_error: 7.1354 - val_loss: 227.5539 - val_mean_absolute_error: 11.2524 - 73s/epoch - 383ms/step\n",
      "Epoch 6/50\n",
      "190/190 - 73s - loss: 74.1370 - mean_absolute_error: 6.6511 - val_loss: 133.6356 - val_mean_absolute_error: 8.5414 - 73s/epoch - 383ms/step\n",
      "Epoch 7/50\n",
      "190/190 - 73s - loss: 52.8391 - mean_absolute_error: 5.6112 - val_loss: 102.0589 - val_mean_absolute_error: 7.8803 - 73s/epoch - 384ms/step\n",
      "Epoch 8/50\n",
      "190/190 - 73s - loss: 40.3307 - mean_absolute_error: 4.9176 - val_loss: 103.8178 - val_mean_absolute_error: 7.9676 - 73s/epoch - 383ms/step\n",
      "Epoch 9/50\n",
      "190/190 - 73s - loss: 31.0893 - mean_absolute_error: 4.3092 - val_loss: 170.0719 - val_mean_absolute_error: 9.7454 - 73s/epoch - 382ms/step\n",
      "Epoch 10/50\n",
      "190/190 - 73s - loss: 27.0551 - mean_absolute_error: 4.0071 - val_loss: 121.9174 - val_mean_absolute_error: 8.2596 - 73s/epoch - 384ms/step\n",
      "Epoch 11/50\n",
      "190/190 - 73s - loss: 23.5333 - mean_absolute_error: 3.7316 - val_loss: 121.0244 - val_mean_absolute_error: 8.5664 - 73s/epoch - 383ms/step\n",
      "Epoch 12/50\n",
      "190/190 - 73s - loss: 19.4441 - mean_absolute_error: 3.4130 - val_loss: 91.1128 - val_mean_absolute_error: 7.1407 - 73s/epoch - 383ms/step\n",
      "Epoch 13/50\n",
      "190/190 - 73s - loss: 18.3128 - mean_absolute_error: 3.2979 - val_loss: 111.1518 - val_mean_absolute_error: 8.2312 - 73s/epoch - 383ms/step\n",
      "Epoch 14/50\n",
      "190/190 - 73s - loss: 16.4133 - mean_absolute_error: 3.1112 - val_loss: 112.3507 - val_mean_absolute_error: 8.1883 - 73s/epoch - 384ms/step\n",
      "Epoch 15/50\n",
      "190/190 - 73s - loss: 15.8540 - mean_absolute_error: 3.0677 - val_loss: 99.2088 - val_mean_absolute_error: 7.6272 - 73s/epoch - 385ms/step\n",
      "Epoch 16/50\n",
      "190/190 - 73s - loss: 16.9422 - mean_absolute_error: 3.1632 - val_loss: 106.0720 - val_mean_absolute_error: 7.6226 - 73s/epoch - 385ms/step\n",
      "Epoch 17/50\n",
      "190/190 - 73s - loss: 14.5839 - mean_absolute_error: 2.9436 - val_loss: 101.1223 - val_mean_absolute_error: 7.7452 - 73s/epoch - 385ms/step\n",
      "Epoch 18/50\n",
      "190/190 - 73s - loss: 18.4346 - mean_absolute_error: 3.2866 - val_loss: 95.3979 - val_mean_absolute_error: 7.4844 - 73s/epoch - 385ms/step\n",
      "Epoch 19/50\n",
      "190/190 - 73s - loss: 16.0950 - mean_absolute_error: 3.0953 - val_loss: 107.0918 - val_mean_absolute_error: 7.7705 - 73s/epoch - 385ms/step\n",
      "Epoch 20/50\n",
      "190/190 - 73s - loss: 16.8649 - mean_absolute_error: 3.1407 - val_loss: 95.6089 - val_mean_absolute_error: 7.4968 - 73s/epoch - 385ms/step\n",
      "Epoch 21/50\n",
      "190/190 - 73s - loss: 14.3452 - mean_absolute_error: 2.9004 - val_loss: 89.2936 - val_mean_absolute_error: 7.1236 - 73s/epoch - 385ms/step\n",
      "Epoch 22/50\n",
      "190/190 - 73s - loss: 14.7743 - mean_absolute_error: 2.9534 - val_loss: 277.1954 - val_mean_absolute_error: 11.7501 - 73s/epoch - 384ms/step\n",
      "Epoch 23/50\n",
      "190/190 - 73s - loss: 13.7443 - mean_absolute_error: 2.8455 - val_loss: 103.3798 - val_mean_absolute_error: 8.0246 - 73s/epoch - 384ms/step\n",
      "Epoch 24/50\n",
      "190/190 - 73s - loss: 13.2227 - mean_absolute_error: 2.7919 - val_loss: 107.1148 - val_mean_absolute_error: 8.0437 - 73s/epoch - 384ms/step\n",
      "Epoch 25/50\n",
      "190/190 - 73s - loss: 12.8080 - mean_absolute_error: 2.7312 - val_loss: 94.4366 - val_mean_absolute_error: 7.3822 - 73s/epoch - 385ms/step\n",
      "Epoch 26/50\n",
      "190/190 - 73s - loss: 11.4348 - mean_absolute_error: 2.5933 - val_loss: 91.1293 - val_mean_absolute_error: 7.3259 - 73s/epoch - 384ms/step\n",
      "Epoch 27/50\n",
      "190/190 - 73s - loss: 12.4067 - mean_absolute_error: 2.7137 - val_loss: 97.3777 - val_mean_absolute_error: 7.5606 - 73s/epoch - 384ms/step\n",
      "Epoch 28/50\n",
      "190/190 - 73s - loss: 10.7325 - mean_absolute_error: 2.5130 - val_loss: 86.0741 - val_mean_absolute_error: 7.1434 - 73s/epoch - 385ms/step\n",
      "Epoch 29/50\n",
      "190/190 - 73s - loss: 10.3285 - mean_absolute_error: 2.4590 - val_loss: 88.3848 - val_mean_absolute_error: 7.0722 - 73s/epoch - 385ms/step\n",
      "Epoch 30/50\n",
      "190/190 - 73s - loss: 10.2506 - mean_absolute_error: 2.4452 - val_loss: 86.0461 - val_mean_absolute_error: 7.1193 - 73s/epoch - 385ms/step\n",
      "Epoch 31/50\n",
      "190/190 - 73s - loss: 10.5464 - mean_absolute_error: 2.5012 - val_loss: 99.7343 - val_mean_absolute_error: 7.5223 - 73s/epoch - 384ms/step\n",
      "Epoch 32/50\n",
      "190/190 - 73s - loss: 10.9242 - mean_absolute_error: 2.5291 - val_loss: 94.2391 - val_mean_absolute_error: 7.4622 - 73s/epoch - 384ms/step\n",
      "Epoch 33/50\n",
      "190/190 - 73s - loss: 10.6725 - mean_absolute_error: 2.5079 - val_loss: 105.0448 - val_mean_absolute_error: 7.9694 - 73s/epoch - 384ms/step\n",
      "Epoch 34/50\n",
      "190/190 - 73s - loss: 11.0719 - mean_absolute_error: 2.5547 - val_loss: 85.8503 - val_mean_absolute_error: 7.0145 - 73s/epoch - 385ms/step\n",
      "Epoch 35/50\n",
      "190/190 - 73s - loss: 10.3066 - mean_absolute_error: 2.4428 - val_loss: 129.7995 - val_mean_absolute_error: 8.8450 - 73s/epoch - 385ms/step\n",
      "Epoch 36/50\n",
      "190/190 - 73s - loss: 9.2700 - mean_absolute_error: 2.3050 - val_loss: 95.3558 - val_mean_absolute_error: 7.3710 - 73s/epoch - 385ms/step\n",
      "Epoch 37/50\n",
      "190/190 - 73s - loss: 8.0587 - mean_absolute_error: 2.1752 - val_loss: 88.0592 - val_mean_absolute_error: 7.0940 - 73s/epoch - 385ms/step\n",
      "Epoch 38/50\n",
      "190/190 - 73s - loss: 7.1332 - mean_absolute_error: 2.0395 - val_loss: 83.6964 - val_mean_absolute_error: 6.9411 - 73s/epoch - 384ms/step\n",
      "Epoch 39/50\n",
      "190/190 - 73s - loss: 6.7883 - mean_absolute_error: 1.9903 - val_loss: 88.2571 - val_mean_absolute_error: 7.1468 - 73s/epoch - 385ms/step\n",
      "Epoch 40/50\n",
      "190/190 - 73s - loss: 7.0355 - mean_absolute_error: 2.0184 - val_loss: 85.6689 - val_mean_absolute_error: 6.9752 - 73s/epoch - 384ms/step\n",
      "Epoch 41/50\n",
      "190/190 - 73s - loss: 7.0982 - mean_absolute_error: 2.0251 - val_loss: 97.0814 - val_mean_absolute_error: 7.5502 - 73s/epoch - 384ms/step\n",
      "Epoch 42/50\n",
      "190/190 - 73s - loss: 8.6293 - mean_absolute_error: 2.2297 - val_loss: 105.0941 - val_mean_absolute_error: 7.9737 - 73s/epoch - 383ms/step\n",
      "Epoch 43/50\n",
      "190/190 - 73s - loss: 9.6603 - mean_absolute_error: 2.3667 - val_loss: 89.8683 - val_mean_absolute_error: 7.1670 - 73s/epoch - 383ms/step\n",
      "Epoch 44/50\n",
      "190/190 - 73s - loss: 10.2318 - mean_absolute_error: 2.4362 - val_loss: 92.4777 - val_mean_absolute_error: 7.3178 - 73s/epoch - 384ms/step\n",
      "Epoch 45/50\n",
      "190/190 - 73s - loss: 8.7626 - mean_absolute_error: 2.2361 - val_loss: 84.5214 - val_mean_absolute_error: 6.8489 - 73s/epoch - 383ms/step\n",
      "Epoch 46/50\n",
      "190/190 - 73s - loss: 6.6414 - mean_absolute_error: 1.9454 - val_loss: 90.2690 - val_mean_absolute_error: 7.2207 - 73s/epoch - 384ms/step\n",
      "Epoch 47/50\n",
      "190/190 - 73s - loss: 5.7326 - mean_absolute_error: 1.8112 - val_loss: 91.2915 - val_mean_absolute_error: 7.4023 - 73s/epoch - 384ms/step\n",
      "Epoch 48/50\n",
      "190/190 - 73s - loss: 5.6568 - mean_absolute_error: 1.7933 - val_loss: 101.3033 - val_mean_absolute_error: 7.4926 - 73s/epoch - 385ms/step\n",
      "Epoch 49/50\n",
      "190/190 - 73s - loss: 5.3135 - mean_absolute_error: 1.7534 - val_loss: 90.4971 - val_mean_absolute_error: 7.3793 - 73s/epoch - 385ms/step\n",
      "Epoch 50/50\n",
      "190/190 - 73s - loss: 4.6390 - mean_absolute_error: 1.6326 - val_loss: 88.3883 - val_mean_absolute_error: 7.2263 - 73s/epoch - 386ms/step\n"
     ]
    },
    {
     "data": {
      "text/plain": [
       "<keras.callbacks.History at 0x7facb70e2e20>"
      ]
     },
     "execution_count": 114,
     "metadata": {},
     "output_type": "execute_result"
    }
   ],
   "source": [
    "model.fit(train_generator, \n",
    "          validation_data=valid_generator,\n",
    "          batch_size=32, epochs=50,\n",
    "          steps_per_epoch=len(train_generator) ,\n",
    "          validation_steps=len(valid_generator),\n",
    "          verbose=2, shuffle=True)"
   ]
  },
  {
   "cell_type": "markdown",
   "metadata": {},
   "source": [
    "<b>Выводы</b> Увеличение размера батча до 32 позволило нам немного снизить значениее MAE на валидации."
   ]
  },
  {
   "cell_type": "markdown",
   "metadata": {
    "tags": []
   },
   "source": [
    "#### 1.7.2.4. Image size 300x300, learning rate 0.00005, first Dense layer size 256"
   ]
  },
  {
   "cell_type": "code",
   "execution_count": 9,
   "metadata": {},
   "outputs": [],
   "source": [
    "model = Sequential()\n",
    "\n",
    "backbone = ResNet50(input_shape=(300,300,3),\n",
    "                weights='imagenet',\n",
    "                include_top=False) \n",
    "backbone.trainable = True\n",
    "\n",
    "model.add(backbone)\n",
    "model.add(GlobalAveragePooling2D())\n",
    "# model.add(Flatten())    \n",
    "model.add(Dense(256,  activation='relu'))\n",
    "model.add(Dense(64,  activation='relu'))\n",
    "model.add(Dense(1,  activation='relu'))\n",
    "optimizer = Adam(learning_rate=0.00005) \n",
    "model.compile(optimizer=optimizer, loss='MeanSquaredError',\n",
    "                metrics=['mean_absolute_error'])"
   ]
  },
  {
   "cell_type": "code",
   "execution_count": 10,
   "metadata": {},
   "outputs": [
    {
     "name": "stdout",
     "output_type": "stream",
     "text": [
      "Found 6073 validated image filenames.\n",
      "Found 1518 validated image filenames.\n",
      "CPU times: user 51.9 ms, sys: 516 µs, total: 52.4 ms\n",
      "Wall time: 52.2 ms\n"
     ]
    }
   ],
   "source": [
    "%%time\n",
    "datagen=ImageDataGenerator(rescale=1./255, validation_split=0.2)\n",
    "train_generator=datagen.flow_from_dataframe(dataframe=labels_df, \n",
    "                                            directory=f\"{DATA_PATH}/final_files/\", \n",
    "                                            x_col=\"file_name\",\n",
    "                                            y_col=\"real_age\",\n",
    "                                            class_mode=\"raw\",\n",
    "                                            target_size=(300,300),\n",
    "                                            subset='training',\n",
    "                                            batch_size=32,\n",
    "                                           seed=23_02_23)\n",
    "valid_generator=datagen.flow_from_dataframe(dataframe=labels_df, \n",
    "                                            directory=f\"{DATA_PATH}/final_files/\", \n",
    "                                            x_col=\"file_name\",\n",
    "                                            y_col=\"real_age\",\n",
    "                                            class_mode=\"raw\",\n",
    "                                            target_size=(300,300),\n",
    "                                            subset='validation',\n",
    "                                            batch_size=32,\n",
    "                                           seed=23_02_23)"
   ]
  },
  {
   "cell_type": "code",
   "execution_count": 11,
   "metadata": {},
   "outputs": [
    {
     "name": "stdout",
     "output_type": "stream",
     "text": [
      "Epoch 1/50\n"
     ]
    },
    {
     "name": "stderr",
     "output_type": "stream",
     "text": [
      "2023-02-25 12:53:10.355131: I tensorflow/stream_executor/cuda/cuda_dnn.cc:366] Loaded cuDNN version 8101\n",
      "2023-02-25 12:53:10.971229: I tensorflow/core/platform/default/subprocess.cc:304] Start cannot spawn child process: No such file or directory\n",
      "2023-02-25 12:53:12.613217: W tensorflow/core/common_runtime/bfc_allocator.cc:275] Allocator (GPU_0_bfc) ran out of memory trying to allocate 2.21GiB with freed_by_count=0. The caller indicates that this is not a failure, but may mean that there could be performance gains if more memory were available.\n",
      "2023-02-25 12:53:12.613285: W tensorflow/core/common_runtime/bfc_allocator.cc:275] Allocator (GPU_0_bfc) ran out of memory trying to allocate 2.21GiB with freed_by_count=0. The caller indicates that this is not a failure, but may mean that there could be performance gains if more memory were available.\n",
      "2023-02-25 12:53:12.642410: W tensorflow/core/common_runtime/bfc_allocator.cc:275] Allocator (GPU_0_bfc) ran out of memory trying to allocate 2.41GiB with freed_by_count=0. The caller indicates that this is not a failure, but may mean that there could be performance gains if more memory were available.\n",
      "2023-02-25 12:53:12.642500: W tensorflow/core/common_runtime/bfc_allocator.cc:275] Allocator (GPU_0_bfc) ran out of memory trying to allocate 2.41GiB with freed_by_count=0. The caller indicates that this is not a failure, but may mean that there could be performance gains if more memory were available.\n",
      "2023-02-25 12:53:12.762767: W tensorflow/core/common_runtime/bfc_allocator.cc:275] Allocator (GPU_0_bfc) ran out of memory trying to allocate 1.21GiB with freed_by_count=0. The caller indicates that this is not a failure, but may mean that there could be performance gains if more memory were available.\n",
      "2023-02-25 12:53:12.762839: W tensorflow/core/common_runtime/bfc_allocator.cc:275] Allocator (GPU_0_bfc) ran out of memory trying to allocate 1.21GiB with freed_by_count=0. The caller indicates that this is not a failure, but may mean that there could be performance gains if more memory were available.\n",
      "2023-02-25 12:53:12.783799: W tensorflow/core/common_runtime/bfc_allocator.cc:275] Allocator (GPU_0_bfc) ran out of memory trying to allocate 2.30GiB with freed_by_count=0. The caller indicates that this is not a failure, but may mean that there could be performance gains if more memory were available.\n",
      "2023-02-25 12:53:12.783872: W tensorflow/core/common_runtime/bfc_allocator.cc:275] Allocator (GPU_0_bfc) ran out of memory trying to allocate 2.30GiB with freed_by_count=0. The caller indicates that this is not a failure, but may mean that there could be performance gains if more memory were available.\n",
      "2023-02-25 12:53:12.818269: W tensorflow/core/common_runtime/bfc_allocator.cc:275] Allocator (GPU_0_bfc) ran out of memory trying to allocate 2.41GiB with freed_by_count=0. The caller indicates that this is not a failure, but may mean that there could be performance gains if more memory were available.\n",
      "2023-02-25 12:53:12.818338: W tensorflow/core/common_runtime/bfc_allocator.cc:275] Allocator (GPU_0_bfc) ran out of memory trying to allocate 2.41GiB with freed_by_count=0. The caller indicates that this is not a failure, but may mean that there could be performance gains if more memory were available.\n"
     ]
    },
    {
     "name": "stdout",
     "output_type": "stream",
     "text": [
      "190/190 - 108s - loss: 258.0134 - mean_absolute_error: 11.3772 - val_loss: 636.3149 - val_mean_absolute_error: 20.1593 - 108s/epoch - 569ms/step\n",
      "Epoch 2/50\n",
      "190/190 - 98s - loss: 65.9108 - mean_absolute_error: 6.1809 - val_loss: 570.9042 - val_mean_absolute_error: 18.7566 - 98s/epoch - 514ms/step\n",
      "Epoch 3/50\n",
      "190/190 - 97s - loss: 34.4432 - mean_absolute_error: 4.5623 - val_loss: 308.6267 - val_mean_absolute_error: 12.9247 - 97s/epoch - 508ms/step\n",
      "Epoch 4/50\n",
      "190/190 - 97s - loss: 24.4325 - mean_absolute_error: 3.7792 - val_loss: 127.6968 - val_mean_absolute_error: 8.2788 - 97s/epoch - 508ms/step\n",
      "Epoch 5/50\n",
      "190/190 - 96s - loss: 20.0372 - mean_absolute_error: 3.4281 - val_loss: 69.9605 - val_mean_absolute_error: 6.3214 - 96s/epoch - 508ms/step\n",
      "Epoch 6/50\n",
      "190/190 - 97s - loss: 16.6688 - mean_absolute_error: 3.1378 - val_loss: 70.3599 - val_mean_absolute_error: 6.3922 - 97s/epoch - 508ms/step\n",
      "Epoch 7/50\n",
      "190/190 - 96s - loss: 15.4674 - mean_absolute_error: 3.0239 - val_loss: 69.5391 - val_mean_absolute_error: 6.2648 - 96s/epoch - 506ms/step\n",
      "Epoch 8/50\n",
      "190/190 - 96s - loss: 14.7770 - mean_absolute_error: 2.9177 - val_loss: 62.4358 - val_mean_absolute_error: 5.9759 - 96s/epoch - 505ms/step\n",
      "Epoch 9/50\n",
      "190/190 - 96s - loss: 15.7106 - mean_absolute_error: 3.0559 - val_loss: 62.0391 - val_mean_absolute_error: 5.8878 - 96s/epoch - 506ms/step\n",
      "Epoch 10/50\n",
      "190/190 - 96s - loss: 12.7783 - mean_absolute_error: 2.7505 - val_loss: 102.5174 - val_mean_absolute_error: 7.4757 - 96s/epoch - 506ms/step\n",
      "Epoch 11/50\n",
      "190/190 - 96s - loss: 11.1848 - mean_absolute_error: 2.5630 - val_loss: 70.8586 - val_mean_absolute_error: 6.2321 - 96s/epoch - 503ms/step\n",
      "Epoch 12/50\n",
      "190/190 - 96s - loss: 10.3494 - mean_absolute_error: 2.4558 - val_loss: 65.2264 - val_mean_absolute_error: 6.1944 - 96s/epoch - 504ms/step\n",
      "Epoch 13/50\n",
      "190/190 - 97s - loss: 10.4614 - mean_absolute_error: 2.5158 - val_loss: 72.4409 - val_mean_absolute_error: 6.2620 - 97s/epoch - 509ms/step\n",
      "Epoch 14/50\n",
      "190/190 - 96s - loss: 9.0637 - mean_absolute_error: 2.2951 - val_loss: 59.9021 - val_mean_absolute_error: 5.7163 - 96s/epoch - 506ms/step\n",
      "Epoch 15/50\n",
      "190/190 - 96s - loss: 9.7735 - mean_absolute_error: 2.3809 - val_loss: 72.1572 - val_mean_absolute_error: 6.7009 - 96s/epoch - 506ms/step\n",
      "Epoch 16/50\n",
      "190/190 - 96s - loss: 8.3695 - mean_absolute_error: 2.1918 - val_loss: 71.3223 - val_mean_absolute_error: 6.1698 - 96s/epoch - 505ms/step\n",
      "Epoch 17/50\n",
      "190/190 - 96s - loss: 8.0324 - mean_absolute_error: 2.1426 - val_loss: 60.3715 - val_mean_absolute_error: 5.7494 - 96s/epoch - 503ms/step\n",
      "Epoch 18/50\n",
      "190/190 - 96s - loss: 7.8923 - mean_absolute_error: 2.1358 - val_loss: 64.9160 - val_mean_absolute_error: 5.9362 - 96s/epoch - 503ms/step\n",
      "Epoch 19/50\n",
      "190/190 - 96s - loss: 6.8432 - mean_absolute_error: 1.9864 - val_loss: 60.4147 - val_mean_absolute_error: 5.8663 - 96s/epoch - 503ms/step\n",
      "Epoch 20/50\n",
      "190/190 - 96s - loss: 7.0147 - mean_absolute_error: 2.0284 - val_loss: 59.7105 - val_mean_absolute_error: 5.8303 - 96s/epoch - 503ms/step\n",
      "Epoch 21/50\n",
      "190/190 - 96s - loss: 6.2637 - mean_absolute_error: 1.8901 - val_loss: 61.5169 - val_mean_absolute_error: 5.7195 - 96s/epoch - 503ms/step\n",
      "Epoch 22/50\n",
      "190/190 - 96s - loss: 6.3648 - mean_absolute_error: 1.9226 - val_loss: 56.1614 - val_mean_absolute_error: 5.6140 - 96s/epoch - 505ms/step\n",
      "Epoch 23/50\n",
      "190/190 - 96s - loss: 5.8465 - mean_absolute_error: 1.8387 - val_loss: 60.9316 - val_mean_absolute_error: 5.8093 - 96s/epoch - 506ms/step\n",
      "Epoch 24/50\n",
      "190/190 - 96s - loss: 5.2469 - mean_absolute_error: 1.7587 - val_loss: 61.0205 - val_mean_absolute_error: 5.9818 - 96s/epoch - 507ms/step\n",
      "Epoch 25/50\n",
      "190/190 - 96s - loss: 6.2890 - mean_absolute_error: 1.9074 - val_loss: 62.6890 - val_mean_absolute_error: 5.9510 - 96s/epoch - 506ms/step\n",
      "Epoch 26/50\n",
      "190/190 - 96s - loss: 5.8819 - mean_absolute_error: 1.8211 - val_loss: 55.4211 - val_mean_absolute_error: 5.6217 - 96s/epoch - 506ms/step\n",
      "Epoch 27/50\n",
      "190/190 - 96s - loss: 5.3644 - mean_absolute_error: 1.7606 - val_loss: 56.8081 - val_mean_absolute_error: 5.6007 - 96s/epoch - 506ms/step\n",
      "Epoch 28/50\n",
      "190/190 - 96s - loss: 4.7476 - mean_absolute_error: 1.6668 - val_loss: 56.3928 - val_mean_absolute_error: 5.6779 - 96s/epoch - 506ms/step\n",
      "Epoch 29/50\n",
      "190/190 - 96s - loss: 4.5452 - mean_absolute_error: 1.6287 - val_loss: 57.7134 - val_mean_absolute_error: 5.6726 - 96s/epoch - 506ms/step\n",
      "Epoch 30/50\n",
      "190/190 - 96s - loss: 4.3980 - mean_absolute_error: 1.6050 - val_loss: 61.6161 - val_mean_absolute_error: 6.0575 - 96s/epoch - 506ms/step\n",
      "Epoch 31/50\n",
      "190/190 - 96s - loss: 4.1619 - mean_absolute_error: 1.5385 - val_loss: 55.0121 - val_mean_absolute_error: 5.5450 - 96s/epoch - 506ms/step\n",
      "Epoch 32/50\n",
      "190/190 - 96s - loss: 4.1000 - mean_absolute_error: 1.5443 - val_loss: 58.5175 - val_mean_absolute_error: 5.7850 - 96s/epoch - 506ms/step\n",
      "Epoch 33/50\n",
      "190/190 - 96s - loss: 3.8788 - mean_absolute_error: 1.4774 - val_loss: 57.9326 - val_mean_absolute_error: 5.6957 - 96s/epoch - 506ms/step\n",
      "Epoch 34/50\n",
      "190/190 - 96s - loss: 3.5909 - mean_absolute_error: 1.4279 - val_loss: 57.8147 - val_mean_absolute_error: 5.7585 - 96s/epoch - 506ms/step\n",
      "Epoch 35/50\n",
      "190/190 - 96s - loss: 4.4934 - mean_absolute_error: 1.6084 - val_loss: 59.2443 - val_mean_absolute_error: 5.9659 - 96s/epoch - 507ms/step\n",
      "Epoch 36/50\n",
      "190/190 - 96s - loss: 4.4711 - mean_absolute_error: 1.6027 - val_loss: 61.5128 - val_mean_absolute_error: 5.7072 - 96s/epoch - 506ms/step\n",
      "Epoch 37/50\n",
      "190/190 - 96s - loss: 3.9910 - mean_absolute_error: 1.5068 - val_loss: 55.9596 - val_mean_absolute_error: 5.7350 - 96s/epoch - 506ms/step\n",
      "Epoch 38/50\n",
      "190/190 - 97s - loss: 3.4901 - mean_absolute_error: 1.4166 - val_loss: 59.9896 - val_mean_absolute_error: 5.7431 - 97s/epoch - 511ms/step\n",
      "Epoch 39/50\n",
      "190/190 - 98s - loss: 2.9817 - mean_absolute_error: 1.3181 - val_loss: 54.6344 - val_mean_absolute_error: 5.5262 - 98s/epoch - 516ms/step\n",
      "Epoch 40/50\n",
      "190/190 - 96s - loss: 2.9833 - mean_absolute_error: 1.3115 - val_loss: 53.5660 - val_mean_absolute_error: 5.5008 - 96s/epoch - 508ms/step\n",
      "Epoch 41/50\n",
      "190/190 - 99s - loss: 3.4323 - mean_absolute_error: 1.3644 - val_loss: 67.4476 - val_mean_absolute_error: 6.3968 - 99s/epoch - 519ms/step\n",
      "Epoch 42/50\n",
      "190/190 - 98s - loss: 3.0014 - mean_absolute_error: 1.3129 - val_loss: 54.4938 - val_mean_absolute_error: 5.5473 - 98s/epoch - 516ms/step\n",
      "Epoch 43/50\n",
      "190/190 - 96s - loss: 2.9150 - mean_absolute_error: 1.2754 - val_loss: 58.0337 - val_mean_absolute_error: 5.8510 - 96s/epoch - 504ms/step\n",
      "Epoch 44/50\n",
      "190/190 - 96s - loss: 3.0054 - mean_absolute_error: 1.3224 - val_loss: 52.9559 - val_mean_absolute_error: 5.4099 - 96s/epoch - 505ms/step\n",
      "Epoch 45/50\n",
      "190/190 - 96s - loss: 2.7693 - mean_absolute_error: 1.2522 - val_loss: 54.5555 - val_mean_absolute_error: 5.5110 - 96s/epoch - 505ms/step\n",
      "Epoch 46/50\n",
      "190/190 - 96s - loss: 2.8366 - mean_absolute_error: 1.2861 - val_loss: 58.1384 - val_mean_absolute_error: 5.6460 - 96s/epoch - 505ms/step\n",
      "Epoch 47/50\n",
      "190/190 - 96s - loss: 2.7078 - mean_absolute_error: 1.2479 - val_loss: 53.0510 - val_mean_absolute_error: 5.4214 - 96s/epoch - 505ms/step\n",
      "Epoch 48/50\n",
      "190/190 - 96s - loss: 2.9901 - mean_absolute_error: 1.2969 - val_loss: 55.7282 - val_mean_absolute_error: 5.5093 - 96s/epoch - 505ms/step\n",
      "Epoch 49/50\n",
      "190/190 - 96s - loss: 3.0076 - mean_absolute_error: 1.3017 - val_loss: 55.2319 - val_mean_absolute_error: 5.6042 - 96s/epoch - 505ms/step\n",
      "Epoch 50/50\n",
      "190/190 - 96s - loss: 2.8614 - mean_absolute_error: 1.2688 - val_loss: 54.2030 - val_mean_absolute_error: 5.3492 - 96s/epoch - 506ms/step\n"
     ]
    },
    {
     "data": {
      "text/plain": [
       "<keras.callbacks.History at 0x7f8801b12b20>"
      ]
     },
     "execution_count": 11,
     "metadata": {},
     "output_type": "execute_result"
    }
   ],
   "source": [
    "model.fit(train_generator, \n",
    "          validation_data=valid_generator, epochs=50,\n",
    "          steps_per_epoch=len(train_generator) ,\n",
    "          validation_steps=len(valid_generator),\n",
    "          verbose=2, shuffle=True)"
   ]
  },
  {
   "cell_type": "markdown",
   "metadata": {},
   "source": [
    "<b>Выводы</b> Увеличение разрешения изображения до 300x300, уменьшение в 2 раза learning rate Adam, и снижение числа нейронов в первом полносвязном поверх ResNet слое позволило значительно снизить значение MAE на валидации."
   ]
  },
  {
   "cell_type": "markdown",
   "metadata": {},
   "source": [
    "##### 1.7.2.4.1. Сохранение модели"
   ]
  },
  {
   "cell_type": "markdown",
   "metadata": {},
   "source": [
    "Сохраним модель разными способами, т.к. при сохранении выдаются warning-и (похоже на особенность версии keras 3.7)"
   ]
  },
  {
   "cell_type": "code",
   "execution_count": 12,
   "metadata": {},
   "outputs": [
    {
     "name": "stderr",
     "output_type": "stream",
     "text": [
      "/home/kaptoh/anaconda3/envs/rapids/lib/python3.9/site-packages/keras/engine/functional.py:1410: CustomMaskWarning: Custom mask layers require a config and must override get_config. When loading, the custom mask layer must be passed to the custom_objects argument.\n",
      "  layer_config = serialize_layer_fn(layer)\n"
     ]
    }
   ],
   "source": [
    "model.save('models/model_adam0.00005_size_400.h5')"
   ]
  },
  {
   "cell_type": "code",
   "execution_count": 13,
   "metadata": {},
   "outputs": [
    {
     "name": "stderr",
     "output_type": "stream",
     "text": [
      "2023-02-25 15:11:47.321675: W tensorflow/python/util/util.cc:368] Sets are not currently considered sequences, but this may change in the future, so consider avoiding using them.\n"
     ]
    },
    {
     "name": "stdout",
     "output_type": "stream",
     "text": [
      "INFO:tensorflow:Assets written to: models/folder_model_adam0.00005_size_400/assets\n"
     ]
    },
    {
     "name": "stderr",
     "output_type": "stream",
     "text": [
      "/home/kaptoh/anaconda3/envs/rapids/lib/python3.9/site-packages/keras/engine/functional.py:1410: CustomMaskWarning: Custom mask layers require a config and must override get_config. When loading, the custom mask layer must be passed to the custom_objects argument.\n",
      "  layer_config = serialize_layer_fn(layer)\n",
      "/home/kaptoh/anaconda3/envs/rapids/lib/python3.9/site-packages/keras/saving/saved_model/layer_serialization.py:112: CustomMaskWarning: Custom mask layers require a config and must override get_config. When loading, the custom mask layer must be passed to the custom_objects argument.\n",
      "  return generic_utils.serialize_keras_object(obj)\n"
     ]
    }
   ],
   "source": [
    "model.save('models/folder_model_adam0.00005_size_400')"
   ]
  },
  {
   "cell_type": "code",
   "execution_count": 14,
   "metadata": {},
   "outputs": [],
   "source": [
    "model.save_weights('models/model_adam0.00005_size_400_weights.h5')"
   ]
  },
  {
   "cell_type": "markdown",
   "metadata": {},
   "source": [
    "##### 1.7.2.4.2. Дополнительно обучение модели"
   ]
  },
  {
   "cell_type": "markdown",
   "metadata": {},
   "source": [
    "Попробуем еще дообучить модель с теми же параметрами обучения:"
   ]
  },
  {
   "cell_type": "code",
   "execution_count": 20,
   "metadata": {},
   "outputs": [
    {
     "name": "stdout",
     "output_type": "stream",
     "text": [
      "Epoch 1/50\n",
      "190/190 - 100s - loss: 2.4343 - mean_absolute_error: 1.1946 - val_loss: 56.8671 - val_mean_absolute_error: 5.7025 - 100s/epoch - 526ms/step\n",
      "Epoch 2/50\n",
      "190/190 - 100s - loss: 2.2131 - mean_absolute_error: 1.1267 - val_loss: 57.7741 - val_mean_absolute_error: 5.6076 - 100s/epoch - 524ms/step\n",
      "Epoch 3/50\n",
      "190/190 - 100s - loss: 2.2209 - mean_absolute_error: 1.1314 - val_loss: 63.6097 - val_mean_absolute_error: 5.7092 - 100s/epoch - 525ms/step\n",
      "Epoch 4/50\n",
      "190/190 - 100s - loss: 2.3934 - mean_absolute_error: 1.1757 - val_loss: 56.7640 - val_mean_absolute_error: 5.7451 - 100s/epoch - 524ms/step\n",
      "Epoch 5/50\n",
      "190/190 - 100s - loss: 2.2722 - mean_absolute_error: 1.1406 - val_loss: 56.0425 - val_mean_absolute_error: 5.6322 - 100s/epoch - 524ms/step\n",
      "Epoch 6/50\n",
      "190/190 - 100s - loss: 2.1645 - mean_absolute_error: 1.1120 - val_loss: 57.2579 - val_mean_absolute_error: 5.6620 - 100s/epoch - 524ms/step\n",
      "Epoch 7/50\n",
      "190/190 - 100s - loss: 2.1108 - mean_absolute_error: 1.0947 - val_loss: 52.7126 - val_mean_absolute_error: 5.4374 - 100s/epoch - 525ms/step\n",
      "Epoch 8/50\n",
      "190/190 - 100s - loss: 1.9156 - mean_absolute_error: 1.0372 - val_loss: 53.8615 - val_mean_absolute_error: 5.4944 - 100s/epoch - 525ms/step\n",
      "Epoch 9/50\n",
      "190/190 - 100s - loss: 2.0791 - mean_absolute_error: 1.0942 - val_loss: 52.6818 - val_mean_absolute_error: 5.3874 - 100s/epoch - 525ms/step\n",
      "Epoch 10/50\n",
      "190/190 - 100s - loss: 2.4826 - mean_absolute_error: 1.1819 - val_loss: 56.4748 - val_mean_absolute_error: 5.6354 - 100s/epoch - 525ms/step\n",
      "Epoch 11/50\n",
      "190/190 - 100s - loss: 2.1370 - mean_absolute_error: 1.0970 - val_loss: 55.7907 - val_mean_absolute_error: 5.5914 - 100s/epoch - 526ms/step\n",
      "Epoch 12/50\n",
      "190/190 - 100s - loss: 2.0017 - mean_absolute_error: 1.0742 - val_loss: 56.5247 - val_mean_absolute_error: 5.6530 - 100s/epoch - 525ms/step\n",
      "Epoch 13/50\n",
      "190/190 - 100s - loss: 1.9272 - mean_absolute_error: 1.0551 - val_loss: 54.4476 - val_mean_absolute_error: 5.5045 - 100s/epoch - 525ms/step\n",
      "Epoch 14/50\n",
      "190/190 - 100s - loss: 1.8895 - mean_absolute_error: 1.0446 - val_loss: 54.3260 - val_mean_absolute_error: 5.3608 - 100s/epoch - 526ms/step\n",
      "Epoch 15/50\n",
      "190/190 - 100s - loss: 1.8997 - mean_absolute_error: 1.0398 - val_loss: 54.6246 - val_mean_absolute_error: 5.4973 - 100s/epoch - 525ms/step\n",
      "Epoch 16/50\n",
      "190/190 - 100s - loss: 1.9851 - mean_absolute_error: 1.0534 - val_loss: 65.6735 - val_mean_absolute_error: 6.1094 - 100s/epoch - 526ms/step\n",
      "Epoch 17/50\n",
      "190/190 - 100s - loss: 2.6918 - mean_absolute_error: 1.2175 - val_loss: 60.6081 - val_mean_absolute_error: 5.9159 - 100s/epoch - 526ms/step\n",
      "Epoch 18/50\n",
      "190/190 - 100s - loss: 2.0144 - mean_absolute_error: 1.0717 - val_loss: 55.5719 - val_mean_absolute_error: 5.5796 - 100s/epoch - 525ms/step\n",
      "Epoch 19/50\n",
      "190/190 - 100s - loss: 1.7755 - mean_absolute_error: 1.0008 - val_loss: 58.0892 - val_mean_absolute_error: 5.6579 - 100s/epoch - 525ms/step\n",
      "Epoch 20/50\n",
      "190/190 - 100s - loss: 1.5318 - mean_absolute_error: 0.9165 - val_loss: 54.2280 - val_mean_absolute_error: 5.4450 - 100s/epoch - 526ms/step\n",
      "Epoch 21/50\n",
      "190/190 - 100s - loss: 1.2840 - mean_absolute_error: 0.8411 - val_loss: 54.5285 - val_mean_absolute_error: 5.5514 - 100s/epoch - 526ms/step\n",
      "Epoch 22/50\n",
      "190/190 - 100s - loss: 1.2064 - mean_absolute_error: 0.8166 - val_loss: 53.4765 - val_mean_absolute_error: 5.3907 - 100s/epoch - 526ms/step\n",
      "Epoch 23/50\n",
      "190/190 - 100s - loss: 1.2407 - mean_absolute_error: 0.8337 - val_loss: 54.5509 - val_mean_absolute_error: 5.4214 - 100s/epoch - 526ms/step\n",
      "Epoch 24/50\n",
      "190/190 - 100s - loss: 1.2342 - mean_absolute_error: 0.8311 - val_loss: 54.0846 - val_mean_absolute_error: 5.4592 - 100s/epoch - 525ms/step\n",
      "Epoch 25/50\n",
      "190/190 - 100s - loss: 1.2908 - mean_absolute_error: 0.8518 - val_loss: 54.9985 - val_mean_absolute_error: 5.3579 - 100s/epoch - 525ms/step\n",
      "Epoch 26/50\n",
      "190/190 - 100s - loss: 1.4307 - mean_absolute_error: 0.8860 - val_loss: 54.8108 - val_mean_absolute_error: 5.4663 - 100s/epoch - 526ms/step\n",
      "Epoch 27/50\n",
      "190/190 - 100s - loss: 1.4527 - mean_absolute_error: 0.8990 - val_loss: 56.2719 - val_mean_absolute_error: 5.5482 - 100s/epoch - 525ms/step\n",
      "Epoch 28/50\n",
      "190/190 - 100s - loss: 1.4608 - mean_absolute_error: 0.8992 - val_loss: 59.3871 - val_mean_absolute_error: 5.8843 - 100s/epoch - 526ms/step\n",
      "Epoch 29/50\n",
      "190/190 - 100s - loss: 1.5193 - mean_absolute_error: 0.9184 - val_loss: 56.4233 - val_mean_absolute_error: 5.6132 - 100s/epoch - 525ms/step\n",
      "Epoch 30/50\n",
      "190/190 - 100s - loss: 1.3924 - mean_absolute_error: 0.8876 - val_loss: 53.6749 - val_mean_absolute_error: 5.3817 - 100s/epoch - 526ms/step\n",
      "Epoch 31/50\n",
      "190/190 - 100s - loss: 1.3362 - mean_absolute_error: 0.8603 - val_loss: 54.2278 - val_mean_absolute_error: 5.3598 - 100s/epoch - 526ms/step\n",
      "Epoch 32/50\n",
      "190/190 - 100s - loss: 1.4472 - mean_absolute_error: 0.8940 - val_loss: 56.5159 - val_mean_absolute_error: 5.5984 - 100s/epoch - 525ms/step\n",
      "Epoch 33/50\n",
      "190/190 - 100s - loss: 1.3633 - mean_absolute_error: 0.8734 - val_loss: 54.6632 - val_mean_absolute_error: 5.4866 - 100s/epoch - 525ms/step\n",
      "Epoch 34/50\n",
      "190/190 - 100s - loss: 1.3879 - mean_absolute_error: 0.8779 - val_loss: 57.1747 - val_mean_absolute_error: 5.4554 - 100s/epoch - 525ms/step\n",
      "Epoch 35/50\n",
      "190/190 - 100s - loss: 1.4672 - mean_absolute_error: 0.8939 - val_loss: 54.1302 - val_mean_absolute_error: 5.4707 - 100s/epoch - 525ms/step\n",
      "Epoch 36/50\n",
      "190/190 - 100s - loss: 1.3747 - mean_absolute_error: 0.8737 - val_loss: 58.1953 - val_mean_absolute_error: 5.7039 - 100s/epoch - 525ms/step\n",
      "Epoch 37/50\n",
      "190/190 - 100s - loss: 1.2424 - mean_absolute_error: 0.8386 - val_loss: 56.7988 - val_mean_absolute_error: 5.3734 - 100s/epoch - 525ms/step\n",
      "Epoch 38/50\n",
      "190/190 - 100s - loss: 1.1919 - mean_absolute_error: 0.8190 - val_loss: 55.8021 - val_mean_absolute_error: 5.6277 - 100s/epoch - 525ms/step\n",
      "Epoch 39/50\n",
      "190/190 - 100s - loss: 1.1745 - mean_absolute_error: 0.8052 - val_loss: 53.7901 - val_mean_absolute_error: 5.4071 - 100s/epoch - 525ms/step\n",
      "Epoch 40/50\n",
      "190/190 - 100s - loss: 1.1775 - mean_absolute_error: 0.8029 - val_loss: 54.8649 - val_mean_absolute_error: 5.4789 - 100s/epoch - 525ms/step\n",
      "Epoch 41/50\n",
      "190/190 - 100s - loss: 1.1733 - mean_absolute_error: 0.7905 - val_loss: 56.4799 - val_mean_absolute_error: 5.5204 - 100s/epoch - 525ms/step\n",
      "Epoch 42/50\n",
      "190/190 - 100s - loss: 1.2426 - mean_absolute_error: 0.8269 - val_loss: 57.7229 - val_mean_absolute_error: 5.5535 - 100s/epoch - 526ms/step\n",
      "Epoch 43/50\n",
      "190/190 - 100s - loss: 1.2538 - mean_absolute_error: 0.8346 - val_loss: 56.9018 - val_mean_absolute_error: 5.4960 - 100s/epoch - 525ms/step\n",
      "Epoch 44/50\n",
      "190/190 - 100s - loss: 1.0700 - mean_absolute_error: 0.7657 - val_loss: 55.9869 - val_mean_absolute_error: 5.4646 - 100s/epoch - 525ms/step\n",
      "Epoch 45/50\n",
      "190/190 - 100s - loss: 1.2862 - mean_absolute_error: 0.8473 - val_loss: 57.2704 - val_mean_absolute_error: 5.5631 - 100s/epoch - 525ms/step\n",
      "Epoch 46/50\n",
      "190/190 - 100s - loss: 1.3799 - mean_absolute_error: 0.8693 - val_loss: 56.6260 - val_mean_absolute_error: 5.4716 - 100s/epoch - 525ms/step\n",
      "Epoch 47/50\n",
      "190/190 - 100s - loss: 1.5027 - mean_absolute_error: 0.8939 - val_loss: 72.7669 - val_mean_absolute_error: 6.3174 - 100s/epoch - 525ms/step\n",
      "Epoch 48/50\n",
      "190/190 - 100s - loss: 3.4746 - mean_absolute_error: 1.3530 - val_loss: 59.7299 - val_mean_absolute_error: 5.7318 - 100s/epoch - 525ms/step\n",
      "Epoch 49/50\n",
      "190/190 - 100s - loss: 1.7645 - mean_absolute_error: 0.9808 - val_loss: 54.7674 - val_mean_absolute_error: 5.4247 - 100s/epoch - 525ms/step\n",
      "Epoch 50/50\n",
      "190/190 - 100s - loss: 0.8663 - mean_absolute_error: 0.7090 - val_loss: 55.5128 - val_mean_absolute_error: 5.5172 - 100s/epoch - 525ms/step\n"
     ]
    },
    {
     "data": {
      "text/plain": [
       "<keras.callbacks.History at 0x7f87405eebe0>"
      ]
     },
     "execution_count": 20,
     "metadata": {},
     "output_type": "execute_result"
    }
   ],
   "source": [
    "model.fit(train_generator, \n",
    "          validation_data=valid_generator, epochs=50,\n",
    "          steps_per_epoch=len(train_generator) ,\n",
    "          validation_steps=len(valid_generator),\n",
    "          verbose=2, shuffle=True)"
   ]
  },
  {
   "cell_type": "markdown",
   "metadata": {},
   "source": [
    "Как видим, показатели MAE и функции потерь MSE для валидационной выборки не улучшаются, похоже, что мы достигли минимума с текущими параметрами обучения."
   ]
  },
  {
   "cell_type": "markdown",
   "metadata": {},
   "source": [
    "Перезагрузим ядро и модель, иначе возникает переполнение памяти видеокарты, и попробуем еще уменьшить шаг обучения у Adam:"
   ]
  },
  {
   "cell_type": "code",
   "execution_count": 6,
   "metadata": {},
   "outputs": [
    {
     "name": "stderr",
     "output_type": "stream",
     "text": [
      "2023-02-25 21:00:12.502829: I tensorflow/stream_executor/cuda/cuda_gpu_executor.cc:925] could not open file to read NUMA node: /sys/bus/pci/devices/0000:01:00.0/numa_node\n",
      "Your kernel may have been built without NUMA support.\n",
      "2023-02-25 21:00:12.507586: I tensorflow/stream_executor/cuda/cuda_gpu_executor.cc:925] could not open file to read NUMA node: /sys/bus/pci/devices/0000:01:00.0/numa_node\n",
      "Your kernel may have been built without NUMA support.\n",
      "2023-02-25 21:00:12.507632: I tensorflow/stream_executor/cuda/cuda_gpu_executor.cc:925] could not open file to read NUMA node: /sys/bus/pci/devices/0000:01:00.0/numa_node\n",
      "Your kernel may have been built without NUMA support.\n",
      "2023-02-25 21:00:12.508184: I tensorflow/core/platform/cpu_feature_guard.cc:151] This TensorFlow binary is optimized with oneAPI Deep Neural Network Library (oneDNN) to use the following CPU instructions in performance-critical operations:  AVX2 FMA\n",
      "To enable them in other operations, rebuild TensorFlow with the appropriate compiler flags.\n",
      "2023-02-25 21:00:12.509923: I tensorflow/stream_executor/cuda/cuda_gpu_executor.cc:925] could not open file to read NUMA node: /sys/bus/pci/devices/0000:01:00.0/numa_node\n",
      "Your kernel may have been built without NUMA support.\n",
      "2023-02-25 21:00:12.510003: I tensorflow/stream_executor/cuda/cuda_gpu_executor.cc:925] could not open file to read NUMA node: /sys/bus/pci/devices/0000:01:00.0/numa_node\n",
      "Your kernel may have been built without NUMA support.\n",
      "2023-02-25 21:00:12.510058: I tensorflow/stream_executor/cuda/cuda_gpu_executor.cc:925] could not open file to read NUMA node: /sys/bus/pci/devices/0000:01:00.0/numa_node\n",
      "Your kernel may have been built without NUMA support.\n",
      "2023-02-25 21:00:13.069100: I tensorflow/stream_executor/cuda/cuda_gpu_executor.cc:925] could not open file to read NUMA node: /sys/bus/pci/devices/0000:01:00.0/numa_node\n",
      "Your kernel may have been built without NUMA support.\n",
      "2023-02-25 21:00:13.069177: I tensorflow/stream_executor/cuda/cuda_gpu_executor.cc:925] could not open file to read NUMA node: /sys/bus/pci/devices/0000:01:00.0/numa_node\n",
      "Your kernel may have been built without NUMA support.\n",
      "2023-02-25 21:00:13.069187: I tensorflow/core/common_runtime/gpu/gpu_device.cc:1609] Could not identify NUMA node of platform GPU id 0, defaulting to 0.  Your kernel may not have been built with NUMA support.\n",
      "2023-02-25 21:00:13.069225: I tensorflow/stream_executor/cuda/cuda_gpu_executor.cc:925] could not open file to read NUMA node: /sys/bus/pci/devices/0000:01:00.0/numa_node\n",
      "Your kernel may have been built without NUMA support.\n",
      "2023-02-25 21:00:13.069261: I tensorflow/core/common_runtime/gpu/gpu_device.cc:1525] Created device /job:localhost/replica:0/task:0/device:GPU:0 with 5957 MB memory:  -> device: 0, name: NVIDIA GeForce RTX 2070 with Max-Q Design, pci bus id: 0000:01:00.0, compute capability: 7.5\n"
     ]
    }
   ],
   "source": [
    "model=load_model('models/model_adam0.00005_size_400.h5')"
   ]
  },
  {
   "cell_type": "markdown",
   "metadata": {},
   "source": [
    "Warnings - из-за гибридной графической системы"
   ]
  },
  {
   "cell_type": "code",
   "execution_count": 7,
   "metadata": {},
   "outputs": [],
   "source": [
    "optimizer = Adam(learning_rate=0.000005) \n",
    "model.compile(optimizer=optimizer, loss='MeanSquaredError',\n",
    "                metrics=['mean_absolute_error'])"
   ]
  },
  {
   "cell_type": "code",
   "execution_count": 9,
   "metadata": {},
   "outputs": [
    {
     "name": "stdout",
     "output_type": "stream",
     "text": [
      "Found 6073 validated image filenames.\n",
      "Found 1518 validated image filenames.\n",
      "CPU times: user 35.9 ms, sys: 17.8 ms, total: 53.6 ms\n",
      "Wall time: 53 ms\n"
     ]
    }
   ],
   "source": [
    "%%time\n",
    "datagen=ImageDataGenerator(rescale=1./255, validation_split=0.2)\n",
    "train_generator=datagen.flow_from_dataframe(dataframe=labels_df, \n",
    "                                            directory=f\"{DATA_PATH}/final_files/\", \n",
    "                                            x_col=\"file_name\",\n",
    "                                            y_col=\"real_age\",\n",
    "                                            class_mode=\"raw\",\n",
    "                                            target_size=(300,300),\n",
    "                                            subset='training',\n",
    "                                            batch_size=32,\n",
    "                                           seed=23_02_23)\n",
    "valid_generator=datagen.flow_from_dataframe(dataframe=labels_df, \n",
    "                                            directory=f\"{DATA_PATH}/final_files/\", \n",
    "                                            x_col=\"file_name\",\n",
    "                                            y_col=\"real_age\",\n",
    "                                            class_mode=\"raw\",\n",
    "                                            target_size=(300,300),\n",
    "                                            subset='validation',\n",
    "                                            batch_size=32,\n",
    "                                           seed=23_02_23)"
   ]
  },
  {
   "cell_type": "code",
   "execution_count": 10,
   "metadata": {},
   "outputs": [
    {
     "name": "stdout",
     "output_type": "stream",
     "text": [
      "Epoch 1/10\n"
     ]
    },
    {
     "name": "stderr",
     "output_type": "stream",
     "text": [
      "2023-02-25 21:01:35.267703: I tensorflow/stream_executor/cuda/cuda_dnn.cc:366] Loaded cuDNN version 8101\n",
      "2023-02-25 21:01:35.896612: I tensorflow/core/platform/default/subprocess.cc:304] Start cannot spawn child process: No such file or directory\n",
      "2023-02-25 21:01:37.522389: W tensorflow/core/common_runtime/bfc_allocator.cc:275] Allocator (GPU_0_bfc) ran out of memory trying to allocate 2.21GiB with freed_by_count=0. The caller indicates that this is not a failure, but may mean that there could be performance gains if more memory were available.\n",
      "2023-02-25 21:01:37.522456: W tensorflow/core/common_runtime/bfc_allocator.cc:275] Allocator (GPU_0_bfc) ran out of memory trying to allocate 2.21GiB with freed_by_count=0. The caller indicates that this is not a failure, but may mean that there could be performance gains if more memory were available.\n",
      "2023-02-25 21:01:37.549995: W tensorflow/core/common_runtime/bfc_allocator.cc:275] Allocator (GPU_0_bfc) ran out of memory trying to allocate 2.41GiB with freed_by_count=0. The caller indicates that this is not a failure, but may mean that there could be performance gains if more memory were available.\n",
      "2023-02-25 21:01:37.550082: W tensorflow/core/common_runtime/bfc_allocator.cc:275] Allocator (GPU_0_bfc) ran out of memory trying to allocate 2.41GiB with freed_by_count=0. The caller indicates that this is not a failure, but may mean that there could be performance gains if more memory were available.\n",
      "2023-02-25 21:01:37.683193: W tensorflow/core/common_runtime/bfc_allocator.cc:275] Allocator (GPU_0_bfc) ran out of memory trying to allocate 1.21GiB with freed_by_count=0. The caller indicates that this is not a failure, but may mean that there could be performance gains if more memory were available.\n",
      "2023-02-25 21:01:37.683260: W tensorflow/core/common_runtime/bfc_allocator.cc:275] Allocator (GPU_0_bfc) ran out of memory trying to allocate 1.21GiB with freed_by_count=0. The caller indicates that this is not a failure, but may mean that there could be performance gains if more memory were available.\n",
      "2023-02-25 21:01:37.704298: W tensorflow/core/common_runtime/bfc_allocator.cc:275] Allocator (GPU_0_bfc) ran out of memory trying to allocate 2.30GiB with freed_by_count=0. The caller indicates that this is not a failure, but may mean that there could be performance gains if more memory were available.\n",
      "2023-02-25 21:01:37.704376: W tensorflow/core/common_runtime/bfc_allocator.cc:275] Allocator (GPU_0_bfc) ran out of memory trying to allocate 2.30GiB with freed_by_count=0. The caller indicates that this is not a failure, but may mean that there could be performance gains if more memory were available.\n",
      "2023-02-25 21:01:37.739654: W tensorflow/core/common_runtime/bfc_allocator.cc:275] Allocator (GPU_0_bfc) ran out of memory trying to allocate 2.41GiB with freed_by_count=0. The caller indicates that this is not a failure, but may mean that there could be performance gains if more memory were available.\n",
      "2023-02-25 21:01:37.739751: W tensorflow/core/common_runtime/bfc_allocator.cc:275] Allocator (GPU_0_bfc) ran out of memory trying to allocate 2.41GiB with freed_by_count=0. The caller indicates that this is not a failure, but may mean that there could be performance gains if more memory were available.\n"
     ]
    },
    {
     "name": "stdout",
     "output_type": "stream",
     "text": [
      "190/190 - 110s - loss: 1.8129 - mean_absolute_error: 1.0045 - val_loss: 53.6396 - val_mean_absolute_error: 5.4665 - 110s/epoch - 577ms/step\n",
      "Epoch 2/10\n",
      "190/190 - 100s - loss: 1.2371 - mean_absolute_error: 0.8433 - val_loss: 54.1664 - val_mean_absolute_error: 5.5380 - 100s/epoch - 524ms/step\n",
      "Epoch 3/10\n",
      "190/190 - 100s - loss: 0.9118 - mean_absolute_error: 0.7257 - val_loss: 53.3735 - val_mean_absolute_error: 5.4534 - 100s/epoch - 525ms/step\n",
      "Epoch 4/10\n",
      "190/190 - 100s - loss: 0.7296 - mean_absolute_error: 0.6596 - val_loss: 53.3933 - val_mean_absolute_error: 5.4375 - 100s/epoch - 525ms/step\n",
      "Epoch 5/10\n",
      "190/190 - 100s - loss: 0.5793 - mean_absolute_error: 0.5872 - val_loss: 53.4841 - val_mean_absolute_error: 5.4970 - 100s/epoch - 526ms/step\n",
      "Epoch 6/10\n",
      "190/190 - 110s - loss: 0.5112 - mean_absolute_error: 0.5554 - val_loss: 53.4434 - val_mean_absolute_error: 5.4733 - 110s/epoch - 580ms/step\n",
      "Epoch 7/10\n",
      "190/190 - 128s - loss: 0.4251 - mean_absolute_error: 0.5086 - val_loss: 54.1656 - val_mean_absolute_error: 5.5170 - 128s/epoch - 673ms/step\n",
      "Epoch 8/10\n",
      "190/190 - 127s - loss: 0.3874 - mean_absolute_error: 0.4868 - val_loss: 54.1282 - val_mean_absolute_error: 5.5048 - 127s/epoch - 671ms/step\n",
      "Epoch 9/10\n",
      "190/190 - 100s - loss: 0.4097 - mean_absolute_error: 0.5019 - val_loss: 53.8228 - val_mean_absolute_error: 5.4545 - 100s/epoch - 525ms/step\n",
      "Epoch 10/10\n",
      "190/190 - 100s - loss: 0.3427 - mean_absolute_error: 0.4554 - val_loss: 53.6890 - val_mean_absolute_error: 5.4972 - 100s/epoch - 526ms/step\n"
     ]
    },
    {
     "data": {
      "text/plain": [
       "<keras.callbacks.History at 0x7efb108a8760>"
      ]
     },
     "execution_count": 10,
     "metadata": {},
     "output_type": "execute_result"
    }
   ],
   "source": [
    "model.fit(train_generator, \n",
    "          validation_data=valid_generator, epochs=10,\n",
    "          steps_per_epoch=len(train_generator) ,\n",
    "          validation_steps=len(valid_generator),\n",
    "          verbose=2, shuffle=True)"
   ]
  },
  {
   "cell_type": "markdown",
   "metadata": {},
   "source": [
    "<b>Выводы</b> Опять же, видим, что даже при дальнейшем уменьшении learning rate Adam-а показатели MAE уже не улучшаются."
   ]
  },
  {
   "cell_type": "markdown",
   "metadata": {
    "tags": []
   },
   "source": [
    "#### 1.7.2.5. Added horizontal flip"
   ]
  },
  {
   "cell_type": "code",
   "execution_count": 7,
   "metadata": {},
   "outputs": [
    {
     "name": "stderr",
     "output_type": "stream",
     "text": [
      "2023-02-28 13:03:11.021874: I tensorflow/stream_executor/cuda/cuda_gpu_executor.cc:925] could not open file to read NUMA node: /sys/bus/pci/devices/0000:01:00.0/numa_node\n",
      "Your kernel may have been built without NUMA support.\n",
      "2023-02-28 13:03:11.079196: I tensorflow/stream_executor/cuda/cuda_gpu_executor.cc:925] could not open file to read NUMA node: /sys/bus/pci/devices/0000:01:00.0/numa_node\n",
      "Your kernel may have been built without NUMA support.\n",
      "2023-02-28 13:03:11.079259: I tensorflow/stream_executor/cuda/cuda_gpu_executor.cc:925] could not open file to read NUMA node: /sys/bus/pci/devices/0000:01:00.0/numa_node\n",
      "Your kernel may have been built without NUMA support.\n",
      "2023-02-28 13:03:11.079931: I tensorflow/core/platform/cpu_feature_guard.cc:151] This TensorFlow binary is optimized with oneAPI Deep Neural Network Library (oneDNN) to use the following CPU instructions in performance-critical operations:  AVX2 FMA\n",
      "To enable them in other operations, rebuild TensorFlow with the appropriate compiler flags.\n",
      "2023-02-28 13:03:11.085089: I tensorflow/stream_executor/cuda/cuda_gpu_executor.cc:925] could not open file to read NUMA node: /sys/bus/pci/devices/0000:01:00.0/numa_node\n",
      "Your kernel may have been built without NUMA support.\n",
      "2023-02-28 13:03:11.085174: I tensorflow/stream_executor/cuda/cuda_gpu_executor.cc:925] could not open file to read NUMA node: /sys/bus/pci/devices/0000:01:00.0/numa_node\n",
      "Your kernel may have been built without NUMA support.\n",
      "2023-02-28 13:03:11.085214: I tensorflow/stream_executor/cuda/cuda_gpu_executor.cc:925] could not open file to read NUMA node: /sys/bus/pci/devices/0000:01:00.0/numa_node\n",
      "Your kernel may have been built without NUMA support.\n",
      "2023-02-28 13:03:12.477370: I tensorflow/stream_executor/cuda/cuda_gpu_executor.cc:925] could not open file to read NUMA node: /sys/bus/pci/devices/0000:01:00.0/numa_node\n",
      "Your kernel may have been built without NUMA support.\n",
      "2023-02-28 13:03:12.477517: I tensorflow/stream_executor/cuda/cuda_gpu_executor.cc:925] could not open file to read NUMA node: /sys/bus/pci/devices/0000:01:00.0/numa_node\n",
      "Your kernel may have been built without NUMA support.\n",
      "2023-02-28 13:03:12.477533: I tensorflow/core/common_runtime/gpu/gpu_device.cc:1609] Could not identify NUMA node of platform GPU id 0, defaulting to 0.  Your kernel may not have been built with NUMA support.\n",
      "2023-02-28 13:03:12.477622: I tensorflow/stream_executor/cuda/cuda_gpu_executor.cc:925] could not open file to read NUMA node: /sys/bus/pci/devices/0000:01:00.0/numa_node\n",
      "Your kernel may have been built without NUMA support.\n",
      "2023-02-28 13:03:12.477856: I tensorflow/core/common_runtime/gpu/gpu_device.cc:1525] Created device /job:localhost/replica:0/task:0/device:GPU:0 with 5957 MB memory:  -> device: 0, name: NVIDIA GeForce RTX 2070 with Max-Q Design, pci bus id: 0000:01:00.0, compute capability: 7.5\n"
     ]
    }
   ],
   "source": [
    "model = Sequential()\n",
    "\n",
    "backbone = ResNet50(input_shape=(300,300,3),\n",
    "                weights='imagenet',\n",
    "                include_top=False) \n",
    "backbone.trainable = True\n",
    "\n",
    "model.add(backbone)\n",
    "model.add(GlobalAveragePooling2D())\n",
    "# model.add(Flatten())    \n",
    "model.add(Dense(256,  activation='relu'))\n",
    "model.add(Dense(64,  activation='relu'))\n",
    "model.add(Dense(1,  activation='relu'))\n",
    "optimizer = Adam(learning_rate=0.00005) \n",
    "model.compile(optimizer=optimizer, loss='MeanSquaredError',\n",
    "                metrics=['mean_absolute_error'])"
   ]
  },
  {
   "cell_type": "code",
   "execution_count": 8,
   "metadata": {},
   "outputs": [
    {
     "name": "stdout",
     "output_type": "stream",
     "text": [
      "Found 6073 validated image filenames.\n",
      "Found 1518 validated image filenames.\n",
      "CPU times: user 30.9 ms, sys: 30.8 ms, total: 61.8 ms\n",
      "Wall time: 60.6 ms\n"
     ]
    }
   ],
   "source": [
    "%%time\n",
    "datagen=ImageDataGenerator(rescale=1./255, validation_split=0.2,horizontal_flip=True)\n",
    "train_generator=datagen.flow_from_dataframe(dataframe=labels_df, \n",
    "                                            directory=f\"{DATA_PATH}/final_files/\", \n",
    "                                            x_col=\"file_name\",\n",
    "                                            y_col=\"real_age\",\n",
    "                                            class_mode=\"raw\",\n",
    "                                            target_size=(300,300),\n",
    "                                            subset='training',\n",
    "                                            batch_size=32,\n",
    "                                           seed=23_02_23)\n",
    "valid_generator=datagen.flow_from_dataframe(dataframe=labels_df, \n",
    "                                            directory=f\"{DATA_PATH}/final_files/\", \n",
    "                                            x_col=\"file_name\",\n",
    "                                            y_col=\"real_age\",\n",
    "                                            class_mode=\"raw\",\n",
    "                                            target_size=(300,300),\n",
    "                                            subset='validation',\n",
    "                                            batch_size=32,\n",
    "                                           seed=23_02_23)"
   ]
  },
  {
   "cell_type": "code",
   "execution_count": 9,
   "metadata": {},
   "outputs": [
    {
     "name": "stdout",
     "output_type": "stream",
     "text": [
      "Epoch 1/50\n"
     ]
    },
    {
     "name": "stderr",
     "output_type": "stream",
     "text": [
      "2023-02-28 13:03:19.069491: I tensorflow/stream_executor/cuda/cuda_dnn.cc:366] Loaded cuDNN version 8101\n",
      "2023-02-28 13:03:20.428081: I tensorflow/core/platform/default/subprocess.cc:304] Start cannot spawn child process: No such file or directory\n",
      "2023-02-28 13:03:22.341010: W tensorflow/core/common_runtime/bfc_allocator.cc:275] Allocator (GPU_0_bfc) ran out of memory trying to allocate 2.21GiB with freed_by_count=0. The caller indicates that this is not a failure, but may mean that there could be performance gains if more memory were available.\n",
      "2023-02-28 13:03:22.341137: W tensorflow/core/common_runtime/bfc_allocator.cc:275] Allocator (GPU_0_bfc) ran out of memory trying to allocate 2.21GiB with freed_by_count=0. The caller indicates that this is not a failure, but may mean that there could be performance gains if more memory were available.\n",
      "2023-02-28 13:03:22.369215: W tensorflow/core/common_runtime/bfc_allocator.cc:275] Allocator (GPU_0_bfc) ran out of memory trying to allocate 2.41GiB with freed_by_count=0. The caller indicates that this is not a failure, but may mean that there could be performance gains if more memory were available.\n",
      "2023-02-28 13:03:22.369299: W tensorflow/core/common_runtime/bfc_allocator.cc:275] Allocator (GPU_0_bfc) ran out of memory trying to allocate 2.41GiB with freed_by_count=0. The caller indicates that this is not a failure, but may mean that there could be performance gains if more memory were available.\n",
      "2023-02-28 13:03:22.496914: W tensorflow/core/common_runtime/bfc_allocator.cc:275] Allocator (GPU_0_bfc) ran out of memory trying to allocate 1.21GiB with freed_by_count=0. The caller indicates that this is not a failure, but may mean that there could be performance gains if more memory were available.\n",
      "2023-02-28 13:03:22.496993: W tensorflow/core/common_runtime/bfc_allocator.cc:275] Allocator (GPU_0_bfc) ran out of memory trying to allocate 1.21GiB with freed_by_count=0. The caller indicates that this is not a failure, but may mean that there could be performance gains if more memory were available.\n",
      "2023-02-28 13:03:22.518674: W tensorflow/core/common_runtime/bfc_allocator.cc:275] Allocator (GPU_0_bfc) ran out of memory trying to allocate 2.30GiB with freed_by_count=0. The caller indicates that this is not a failure, but may mean that there could be performance gains if more memory were available.\n",
      "2023-02-28 13:03:22.518753: W tensorflow/core/common_runtime/bfc_allocator.cc:275] Allocator (GPU_0_bfc) ran out of memory trying to allocate 2.30GiB with freed_by_count=0. The caller indicates that this is not a failure, but may mean that there could be performance gains if more memory were available.\n",
      "2023-02-28 13:03:22.555650: W tensorflow/core/common_runtime/bfc_allocator.cc:275] Allocator (GPU_0_bfc) ran out of memory trying to allocate 2.41GiB with freed_by_count=0. The caller indicates that this is not a failure, but may mean that there could be performance gains if more memory were available.\n",
      "2023-02-28 13:03:22.555771: W tensorflow/core/common_runtime/bfc_allocator.cc:275] Allocator (GPU_0_bfc) ran out of memory trying to allocate 2.41GiB with freed_by_count=0. The caller indicates that this is not a failure, but may mean that there could be performance gains if more memory were available.\n"
     ]
    },
    {
     "name": "stdout",
     "output_type": "stream",
     "text": [
      "190/190 - 117s - loss: 250.0928 - mean_absolute_error: 11.3438 - val_loss: 637.5524 - val_mean_absolute_error: 20.1805 - 117s/epoch - 614ms/step\n",
      "Epoch 2/50\n",
      "190/190 - 105s - loss: 72.3841 - mean_absolute_error: 6.4875 - val_loss: 542.4023 - val_mean_absolute_error: 18.1061 - 105s/epoch - 555ms/step\n",
      "Epoch 3/50\n",
      "190/190 - 104s - loss: 49.3570 - mean_absolute_error: 5.3623 - val_loss: 398.6049 - val_mean_absolute_error: 14.9570 - 104s/epoch - 546ms/step\n",
      "Epoch 4/50\n",
      "190/190 - 101s - loss: 38.9737 - mean_absolute_error: 4.7188 - val_loss: 120.7426 - val_mean_absolute_error: 8.1818 - 101s/epoch - 534ms/step\n",
      "Epoch 5/50\n",
      "190/190 - 101s - loss: 28.4440 - mean_absolute_error: 4.0779 - val_loss: 76.8248 - val_mean_absolute_error: 6.5444 - 101s/epoch - 532ms/step\n",
      "Epoch 6/50\n",
      "190/190 - 101s - loss: 23.9442 - mean_absolute_error: 3.7211 - val_loss: 69.3570 - val_mean_absolute_error: 6.1544 - 101s/epoch - 532ms/step\n",
      "Epoch 7/50\n",
      "190/190 - 101s - loss: 21.8868 - mean_absolute_error: 3.5755 - val_loss: 67.6858 - val_mean_absolute_error: 6.3122 - 101s/epoch - 532ms/step\n",
      "Epoch 8/50\n",
      "190/190 - 101s - loss: 18.5276 - mean_absolute_error: 3.2387 - val_loss: 68.7576 - val_mean_absolute_error: 6.2456 - 101s/epoch - 532ms/step\n",
      "Epoch 9/50\n",
      "190/190 - 101s - loss: 17.8929 - mean_absolute_error: 3.2629 - val_loss: 69.1283 - val_mean_absolute_error: 6.1609 - 101s/epoch - 532ms/step\n",
      "Epoch 10/50\n",
      "190/190 - 101s - loss: 14.9468 - mean_absolute_error: 2.9901 - val_loss: 60.7709 - val_mean_absolute_error: 5.7927 - 101s/epoch - 532ms/step\n",
      "Epoch 11/50\n",
      "190/190 - 101s - loss: 13.2808 - mean_absolute_error: 2.8089 - val_loss: 60.1758 - val_mean_absolute_error: 5.6976 - 101s/epoch - 532ms/step\n",
      "Epoch 12/50\n",
      "190/190 - 101s - loss: 12.6109 - mean_absolute_error: 2.7114 - val_loss: 65.2699 - val_mean_absolute_error: 6.2038 - 101s/epoch - 532ms/step\n",
      "Epoch 13/50\n",
      "190/190 - 101s - loss: 13.9532 - mean_absolute_error: 2.8475 - val_loss: 67.9265 - val_mean_absolute_error: 6.3911 - 101s/epoch - 533ms/step\n",
      "Epoch 14/50\n",
      "190/190 - 101s - loss: 11.3463 - mean_absolute_error: 2.5569 - val_loss: 57.8183 - val_mean_absolute_error: 5.6198 - 101s/epoch - 532ms/step\n",
      "Epoch 15/50\n",
      "190/190 - 101s - loss: 11.4826 - mean_absolute_error: 2.5655 - val_loss: 61.5966 - val_mean_absolute_error: 5.8152 - 101s/epoch - 533ms/step\n",
      "Epoch 16/50\n",
      "190/190 - 101s - loss: 11.0807 - mean_absolute_error: 2.5112 - val_loss: 87.4365 - val_mean_absolute_error: 7.4113 - 101s/epoch - 531ms/step\n",
      "Epoch 17/50\n",
      "190/190 - 101s - loss: 10.9746 - mean_absolute_error: 2.5424 - val_loss: 56.4838 - val_mean_absolute_error: 5.6372 - 101s/epoch - 531ms/step\n",
      "Epoch 18/50\n",
      "190/190 - 101s - loss: 10.3759 - mean_absolute_error: 2.4535 - val_loss: 61.7209 - val_mean_absolute_error: 5.8281 - 101s/epoch - 531ms/step\n",
      "Epoch 19/50\n",
      "190/190 - 101s - loss: 8.9201 - mean_absolute_error: 2.2897 - val_loss: 60.2629 - val_mean_absolute_error: 5.7317 - 101s/epoch - 531ms/step\n",
      "Epoch 20/50\n",
      "190/190 - 101s - loss: 8.4937 - mean_absolute_error: 2.1954 - val_loss: 58.7622 - val_mean_absolute_error: 5.6805 - 101s/epoch - 531ms/step\n",
      "Epoch 21/50\n",
      "190/190 - 101s - loss: 7.5040 - mean_absolute_error: 2.0641 - val_loss: 60.8386 - val_mean_absolute_error: 5.7229 - 101s/epoch - 531ms/step\n",
      "Epoch 22/50\n",
      "190/190 - 101s - loss: 8.1115 - mean_absolute_error: 2.1487 - val_loss: 59.2001 - val_mean_absolute_error: 5.6164 - 101s/epoch - 532ms/step\n",
      "Epoch 23/50\n",
      "190/190 - 101s - loss: 8.4067 - mean_absolute_error: 2.1940 - val_loss: 56.6846 - val_mean_absolute_error: 5.5278 - 101s/epoch - 532ms/step\n",
      "Epoch 24/50\n",
      "190/190 - 101s - loss: 7.7240 - mean_absolute_error: 2.1105 - val_loss: 61.3980 - val_mean_absolute_error: 5.7583 - 101s/epoch - 531ms/step\n",
      "Epoch 25/50\n",
      "190/190 - 101s - loss: 7.4002 - mean_absolute_error: 2.0582 - val_loss: 57.9933 - val_mean_absolute_error: 5.7332 - 101s/epoch - 531ms/step\n",
      "Epoch 26/50\n",
      "190/190 - 101s - loss: 7.2348 - mean_absolute_error: 2.0297 - val_loss: 66.2351 - val_mean_absolute_error: 6.2269 - 101s/epoch - 531ms/step\n",
      "Epoch 27/50\n",
      "190/190 - 101s - loss: 6.6756 - mean_absolute_error: 1.9709 - val_loss: 53.4145 - val_mean_absolute_error: 5.3238 - 101s/epoch - 532ms/step\n",
      "Epoch 28/50\n",
      "190/190 - 101s - loss: 5.9387 - mean_absolute_error: 1.8531 - val_loss: 54.7102 - val_mean_absolute_error: 5.5734 - 101s/epoch - 531ms/step\n",
      "Epoch 29/50\n",
      "190/190 - 101s - loss: 6.4223 - mean_absolute_error: 1.9364 - val_loss: 56.1945 - val_mean_absolute_error: 5.5675 - 101s/epoch - 531ms/step\n",
      "Epoch 30/50\n",
      "190/190 - 101s - loss: 7.1519 - mean_absolute_error: 1.9982 - val_loss: 58.7300 - val_mean_absolute_error: 5.7966 - 101s/epoch - 531ms/step\n",
      "Epoch 31/50\n",
      "190/190 - 101s - loss: 5.9872 - mean_absolute_error: 1.8419 - val_loss: 63.4863 - val_mean_absolute_error: 5.7849 - 101s/epoch - 531ms/step\n",
      "Epoch 32/50\n",
      "190/190 - 101s - loss: 5.8138 - mean_absolute_error: 1.8229 - val_loss: 65.8844 - val_mean_absolute_error: 6.3344 - 101s/epoch - 531ms/step\n",
      "Epoch 33/50\n",
      "190/190 - 101s - loss: 5.5269 - mean_absolute_error: 1.7797 - val_loss: 56.4962 - val_mean_absolute_error: 5.5740 - 101s/epoch - 531ms/step\n",
      "Epoch 34/50\n",
      "190/190 - 101s - loss: 5.4062 - mean_absolute_error: 1.7742 - val_loss: 55.5496 - val_mean_absolute_error: 5.4918 - 101s/epoch - 531ms/step\n",
      "Epoch 35/50\n",
      "190/190 - 102s - loss: 5.5038 - mean_absolute_error: 1.7942 - val_loss: 53.2176 - val_mean_absolute_error: 5.2827 - 102s/epoch - 535ms/step\n",
      "Epoch 36/50\n",
      "190/190 - 102s - loss: 5.3037 - mean_absolute_error: 1.7449 - val_loss: 56.8948 - val_mean_absolute_error: 5.6553 - 102s/epoch - 535ms/step\n",
      "Epoch 37/50\n",
      "190/190 - 101s - loss: 5.3744 - mean_absolute_error: 1.7530 - val_loss: 58.0033 - val_mean_absolute_error: 5.5577 - 101s/epoch - 533ms/step\n",
      "Epoch 38/50\n",
      "190/190 - 101s - loss: 5.7665 - mean_absolute_error: 1.8007 - val_loss: 59.0471 - val_mean_absolute_error: 5.6384 - 101s/epoch - 532ms/step\n",
      "Epoch 39/50\n",
      "190/190 - 101s - loss: 5.8659 - mean_absolute_error: 1.8061 - val_loss: 55.3626 - val_mean_absolute_error: 5.3879 - 101s/epoch - 533ms/step\n",
      "Epoch 40/50\n",
      "190/190 - 101s - loss: 4.8909 - mean_absolute_error: 1.6783 - val_loss: 52.7410 - val_mean_absolute_error: 5.3710 - 101s/epoch - 533ms/step\n",
      "Epoch 41/50\n",
      "190/190 - 101s - loss: 4.4306 - mean_absolute_error: 1.5948 - val_loss: 57.6342 - val_mean_absolute_error: 5.4628 - 101s/epoch - 533ms/step\n",
      "Epoch 42/50\n",
      "190/190 - 101s - loss: 3.9260 - mean_absolute_error: 1.4866 - val_loss: 54.2678 - val_mean_absolute_error: 5.4087 - 101s/epoch - 533ms/step\n",
      "Epoch 43/50\n",
      "190/190 - 101s - loss: 4.8798 - mean_absolute_error: 1.6371 - val_loss: 53.9621 - val_mean_absolute_error: 5.3418 - 101s/epoch - 531ms/step\n",
      "Epoch 44/50\n",
      "190/190 - 101s - loss: 4.1966 - mean_absolute_error: 1.5587 - val_loss: 54.0052 - val_mean_absolute_error: 5.4557 - 101s/epoch - 531ms/step\n",
      "Epoch 45/50\n",
      "190/190 - 102s - loss: 3.6733 - mean_absolute_error: 1.4595 - val_loss: 50.3949 - val_mean_absolute_error: 5.1368 - 102s/epoch - 534ms/step\n",
      "Epoch 46/50\n",
      "190/190 - 105s - loss: 3.4556 - mean_absolute_error: 1.3895 - val_loss: 53.7473 - val_mean_absolute_error: 5.4798 - 105s/epoch - 550ms/step\n",
      "Epoch 47/50\n",
      "190/190 - 103s - loss: 3.5049 - mean_absolute_error: 1.4050 - val_loss: 54.8774 - val_mean_absolute_error: 5.4687 - 103s/epoch - 545ms/step\n",
      "Epoch 48/50\n",
      "190/190 - 105s - loss: 3.3790 - mean_absolute_error: 1.3929 - val_loss: 50.4045 - val_mean_absolute_error: 5.1669 - 105s/epoch - 551ms/step\n",
      "Epoch 49/50\n",
      "190/190 - 104s - loss: 3.1717 - mean_absolute_error: 1.3481 - val_loss: 51.1462 - val_mean_absolute_error: 5.3057 - 104s/epoch - 549ms/step\n",
      "Epoch 50/50\n",
      "190/190 - 104s - loss: 3.2522 - mean_absolute_error: 1.3631 - val_loss: 50.1404 - val_mean_absolute_error: 5.1888 - 104s/epoch - 546ms/step\n"
     ]
    },
    {
     "data": {
      "text/plain": [
       "<keras.callbacks.History at 0x7f26801f8cd0>"
      ]
     },
     "execution_count": 9,
     "metadata": {},
     "output_type": "execute_result"
    }
   ],
   "source": [
    "model.fit(train_generator, \n",
    "          validation_data=valid_generator, epochs=50,\n",
    "          steps_per_epoch=len(train_generator) ,\n",
    "          validation_steps=len(valid_generator),\n",
    "          verbose=2, shuffle=True)"
   ]
  },
  {
   "cell_type": "markdown",
   "metadata": {},
   "source": [
    "##### 1.7.2.5.1. Сохранение модели"
   ]
  },
  {
   "cell_type": "markdown",
   "metadata": {},
   "source": [
    "Сохраним модель разными способами, т.к. при сохранении выдаются warning-и (похоже на особенность версии keras 3.7)"
   ]
  },
  {
   "cell_type": "code",
   "execution_count": 10,
   "metadata": {},
   "outputs": [
    {
     "name": "stderr",
     "output_type": "stream",
     "text": [
      "/home/kaptoh/anaconda3/envs/rapids/lib/python3.9/site-packages/keras/engine/functional.py:1410: CustomMaskWarning: Custom mask layers require a config and must override get_config. When loading, the custom mask layer must be passed to the custom_objects argument.\n",
      "  layer_config = serialize_layer_fn(layer)\n"
     ]
    }
   ],
   "source": [
    "model.save('models/model_adam0.00005_size_400_horizontal_flip.h5')"
   ]
  },
  {
   "cell_type": "code",
   "execution_count": 13,
   "metadata": {},
   "outputs": [
    {
     "name": "stderr",
     "output_type": "stream",
     "text": [
      "2023-02-28 14:49:36.559015: W tensorflow/python/util/util.cc:368] Sets are not currently considered sequences, but this may change in the future, so consider avoiding using them.\n"
     ]
    },
    {
     "name": "stdout",
     "output_type": "stream",
     "text": [
      "INFO:tensorflow:Assets written to: models/folder_model_adam0.00005_size_400_horizontal_flip/assets\n"
     ]
    },
    {
     "name": "stderr",
     "output_type": "stream",
     "text": [
      "/home/kaptoh/anaconda3/envs/rapids/lib/python3.9/site-packages/keras/engine/functional.py:1410: CustomMaskWarning: Custom mask layers require a config and must override get_config. When loading, the custom mask layer must be passed to the custom_objects argument.\n",
      "  layer_config = serialize_layer_fn(layer)\n",
      "/home/kaptoh/anaconda3/envs/rapids/lib/python3.9/site-packages/keras/saving/saved_model/layer_serialization.py:112: CustomMaskWarning: Custom mask layers require a config and must override get_config. When loading, the custom mask layer must be passed to the custom_objects argument.\n",
      "  return generic_utils.serialize_keras_object(obj)\n"
     ]
    }
   ],
   "source": [
    "model.save('models/folder_model_adam0.00005_size_400_horizontal_flip')"
   ]
  },
  {
   "cell_type": "code",
   "execution_count": 14,
   "metadata": {},
   "outputs": [],
   "source": [
    "model.save_weights('models/model_adam0.00005_size_400_horizontal_flip_weights.h5')"
   ]
  },
  {
   "cell_type": "markdown",
   "metadata": {},
   "source": [
    "<b>Выводы</b> Добавление аугментации (горизонтального отражения) позволило снизить MAE до 5.0684."
   ]
  },
  {
   "cell_type": "markdown",
   "metadata": {
    "tags": []
   },
   "source": [
    "#### 1.7.2.6. Added horizontal flip and reduced image size"
   ]
  },
  {
   "cell_type": "code",
   "execution_count": 13,
   "metadata": {},
   "outputs": [],
   "source": [
    "model = Sequential()\n",
    "\n",
    "backbone = ResNet50(input_shape=(224,224,3),\n",
    "                weights='imagenet',\n",
    "                include_top=False) \n",
    "backbone.trainable = True\n",
    "\n",
    "model.add(backbone)\n",
    "model.add(GlobalAveragePooling2D())\n",
    "# model.add(Flatten())    \n",
    "model.add(Dense(256,  activation='relu'))\n",
    "model.add(Dense(64,  activation='relu'))\n",
    "model.add(Dense(1,  activation='relu'))\n",
    "optimizer = Adam(learning_rate=0.00005) \n",
    "model.compile(optimizer=optimizer, loss='MeanSquaredError',\n",
    "                metrics=['mean_absolute_error'])"
   ]
  },
  {
   "cell_type": "code",
   "execution_count": 14,
   "metadata": {},
   "outputs": [
    {
     "name": "stdout",
     "output_type": "stream",
     "text": [
      "Found 6073 validated image filenames.\n",
      "Found 1518 validated image filenames.\n",
      "CPU times: user 51.3 ms, sys: 10.2 ms, total: 61.5 ms\n",
      "Wall time: 60.7 ms\n"
     ]
    }
   ],
   "source": [
    "%%time\n",
    "datagen=ImageDataGenerator(rescale=1./255, validation_split=0.2,horizontal_flip=True)\n",
    "train_generator=datagen.flow_from_dataframe(dataframe=labels_df, \n",
    "                                            directory=f\"{DATA_PATH}/final_files/\", \n",
    "                                            x_col=\"file_name\",\n",
    "                                            y_col=\"real_age\",\n",
    "                                            class_mode=\"raw\",\n",
    "                                            target_size=(224,224),\n",
    "                                            subset='training',\n",
    "                                            batch_size=32,\n",
    "                                           seed=23_02_23)\n",
    "valid_generator=datagen.flow_from_dataframe(dataframe=labels_df, \n",
    "                                            directory=f\"{DATA_PATH}/final_files/\", \n",
    "                                            x_col=\"file_name\",\n",
    "                                            y_col=\"real_age\",\n",
    "                                            class_mode=\"raw\",\n",
    "                                            target_size=(224,224),\n",
    "                                            subset='validation',\n",
    "                                            batch_size=32,\n",
    "                                           seed=23_02_23)"
   ]
  },
  {
   "cell_type": "code",
   "execution_count": 15,
   "metadata": {},
   "outputs": [
    {
     "name": "stdout",
     "output_type": "stream",
     "text": [
      "Epoch 1/50\n",
      "190/190 - 61s - loss: 231.8023 - mean_absolute_error: 11.0857 - val_loss: 693.9675 - val_mean_absolute_error: 21.2980 - 61s/epoch - 321ms/step\n",
      "Epoch 2/50\n",
      "190/190 - 57s - loss: 65.7722 - mean_absolute_error: 6.2087 - val_loss: 625.8649 - val_mean_absolute_error: 19.9095 - 57s/epoch - 298ms/step\n",
      "Epoch 3/50\n",
      "190/190 - 57s - loss: 47.0347 - mean_absolute_error: 5.2145 - val_loss: 363.7902 - val_mean_absolute_error: 14.0703 - 57s/epoch - 298ms/step\n",
      "Epoch 4/50\n",
      "190/190 - 57s - loss: 35.5248 - mean_absolute_error: 4.5339 - val_loss: 145.9676 - val_mean_absolute_error: 9.7691 - 57s/epoch - 298ms/step\n",
      "Epoch 5/50\n",
      "190/190 - 57s - loss: 28.2114 - mean_absolute_error: 4.0366 - val_loss: 84.2633 - val_mean_absolute_error: 7.0433 - 57s/epoch - 298ms/step\n",
      "Epoch 6/50\n",
      "190/190 - 57s - loss: 24.1858 - mean_absolute_error: 3.7395 - val_loss: 68.4923 - val_mean_absolute_error: 6.1797 - 57s/epoch - 298ms/step\n",
      "Epoch 7/50\n",
      "190/190 - 56s - loss: 20.7207 - mean_absolute_error: 3.4506 - val_loss: 72.1394 - val_mean_absolute_error: 6.4303 - 56s/epoch - 297ms/step\n",
      "Epoch 8/50\n",
      "190/190 - 56s - loss: 19.8723 - mean_absolute_error: 3.4141 - val_loss: 68.3052 - val_mean_absolute_error: 6.1087 - 56s/epoch - 297ms/step\n",
      "Epoch 9/50\n",
      "190/190 - 56s - loss: 17.2371 - mean_absolute_error: 3.1647 - val_loss: 84.7198 - val_mean_absolute_error: 7.1559 - 56s/epoch - 296ms/step\n",
      "Epoch 10/50\n",
      "190/190 - 56s - loss: 15.8912 - mean_absolute_error: 3.0536 - val_loss: 68.6705 - val_mean_absolute_error: 6.0668 - 56s/epoch - 296ms/step\n",
      "Epoch 11/50\n",
      "190/190 - 56s - loss: 14.3794 - mean_absolute_error: 2.8687 - val_loss: 67.5963 - val_mean_absolute_error: 6.1354 - 56s/epoch - 296ms/step\n",
      "Epoch 12/50\n",
      "190/190 - 56s - loss: 12.7734 - mean_absolute_error: 2.7138 - val_loss: 65.8455 - val_mean_absolute_error: 5.9906 - 56s/epoch - 296ms/step\n",
      "Epoch 13/50\n",
      "190/190 - 56s - loss: 13.1251 - mean_absolute_error: 2.7420 - val_loss: 70.1900 - val_mean_absolute_error: 6.3839 - 56s/epoch - 296ms/step\n",
      "Epoch 14/50\n",
      "190/190 - 57s - loss: 11.2288 - mean_absolute_error: 2.5307 - val_loss: 61.5526 - val_mean_absolute_error: 5.9216 - 57s/epoch - 299ms/step\n",
      "Epoch 15/50\n",
      "190/190 - 57s - loss: 11.5973 - mean_absolute_error: 2.5739 - val_loss: 70.3386 - val_mean_absolute_error: 6.4452 - 57s/epoch - 300ms/step\n",
      "Epoch 16/50\n",
      "190/190 - 57s - loss: 10.6993 - mean_absolute_error: 2.4788 - val_loss: 63.3296 - val_mean_absolute_error: 5.8510 - 57s/epoch - 300ms/step\n",
      "Epoch 17/50\n",
      "190/190 - 58s - loss: 10.7546 - mean_absolute_error: 2.5086 - val_loss: 67.7710 - val_mean_absolute_error: 6.2234 - 58s/epoch - 303ms/step\n",
      "Epoch 18/50\n",
      "190/190 - 57s - loss: 11.3768 - mean_absolute_error: 2.5501 - val_loss: 72.2883 - val_mean_absolute_error: 6.4801 - 57s/epoch - 297ms/step\n",
      "Epoch 19/50\n",
      "190/190 - 57s - loss: 10.1858 - mean_absolute_error: 2.3797 - val_loss: 65.4467 - val_mean_absolute_error: 6.0980 - 57s/epoch - 300ms/step\n",
      "Epoch 20/50\n",
      "190/190 - 57s - loss: 8.8464 - mean_absolute_error: 2.2522 - val_loss: 65.0863 - val_mean_absolute_error: 6.1966 - 57s/epoch - 298ms/step\n",
      "Epoch 21/50\n",
      "190/190 - 57s - loss: 8.4044 - mean_absolute_error: 2.1962 - val_loss: 62.3642 - val_mean_absolute_error: 5.8484 - 57s/epoch - 298ms/step\n",
      "Epoch 22/50\n",
      "190/190 - 57s - loss: 9.0841 - mean_absolute_error: 2.2711 - val_loss: 60.7280 - val_mean_absolute_error: 5.8077 - 57s/epoch - 298ms/step\n",
      "Epoch 23/50\n",
      "190/190 - 57s - loss: 9.7371 - mean_absolute_error: 2.3370 - val_loss: 64.8432 - val_mean_absolute_error: 5.8925 - 57s/epoch - 299ms/step\n",
      "Epoch 24/50\n",
      "190/190 - 57s - loss: 8.6763 - mean_absolute_error: 2.2416 - val_loss: 75.9249 - val_mean_absolute_error: 6.3279 - 57s/epoch - 299ms/step\n",
      "Epoch 25/50\n",
      "190/190 - 57s - loss: 7.6488 - mean_absolute_error: 2.0932 - val_loss: 58.8615 - val_mean_absolute_error: 5.7488 - 57s/epoch - 300ms/step\n",
      "Epoch 26/50\n",
      "190/190 - 57s - loss: 8.1867 - mean_absolute_error: 2.1208 - val_loss: 72.2546 - val_mean_absolute_error: 6.2255 - 57s/epoch - 299ms/step\n",
      "Epoch 27/50\n",
      "190/190 - 57s - loss: 7.6468 - mean_absolute_error: 2.0540 - val_loss: 63.2284 - val_mean_absolute_error: 5.8399 - 57s/epoch - 298ms/step\n",
      "Epoch 28/50\n",
      "190/190 - 57s - loss: 6.1365 - mean_absolute_error: 1.8893 - val_loss: 63.1216 - val_mean_absolute_error: 5.8942 - 57s/epoch - 298ms/step\n",
      "Epoch 29/50\n",
      "190/190 - 56s - loss: 6.1571 - mean_absolute_error: 1.8736 - val_loss: 62.4195 - val_mean_absolute_error: 5.8970 - 56s/epoch - 297ms/step\n",
      "Epoch 30/50\n",
      "190/190 - 57s - loss: 5.5634 - mean_absolute_error: 1.7948 - val_loss: 63.5410 - val_mean_absolute_error: 6.0684 - 57s/epoch - 299ms/step\n",
      "Epoch 31/50\n",
      "190/190 - 63s - loss: 5.4955 - mean_absolute_error: 1.7798 - val_loss: 57.5886 - val_mean_absolute_error: 5.5596 - 63s/epoch - 330ms/step\n",
      "Epoch 32/50\n",
      "190/190 - 63s - loss: 5.1151 - mean_absolute_error: 1.7048 - val_loss: 59.2953 - val_mean_absolute_error: 5.6347 - 63s/epoch - 333ms/step\n",
      "Epoch 33/50\n",
      "190/190 - 57s - loss: 5.1787 - mean_absolute_error: 1.7435 - val_loss: 59.0599 - val_mean_absolute_error: 5.7115 - 57s/epoch - 298ms/step\n",
      "Epoch 34/50\n",
      "190/190 - 57s - loss: 4.7755 - mean_absolute_error: 1.6578 - val_loss: 58.5200 - val_mean_absolute_error: 5.6410 - 57s/epoch - 300ms/step\n",
      "Epoch 35/50\n",
      "190/190 - 57s - loss: 5.2316 - mean_absolute_error: 1.7246 - val_loss: 59.9253 - val_mean_absolute_error: 5.8179 - 57s/epoch - 299ms/step\n",
      "Epoch 36/50\n",
      "190/190 - 58s - loss: 5.2856 - mean_absolute_error: 1.7389 - val_loss: 58.1011 - val_mean_absolute_error: 5.5545 - 58s/epoch - 306ms/step\n",
      "Epoch 37/50\n",
      "190/190 - 59s - loss: 5.2286 - mean_absolute_error: 1.7271 - val_loss: 58.3201 - val_mean_absolute_error: 5.7138 - 59s/epoch - 309ms/step\n",
      "Epoch 38/50\n",
      "190/190 - 58s - loss: 4.8821 - mean_absolute_error: 1.6932 - val_loss: 58.8158 - val_mean_absolute_error: 5.6926 - 58s/epoch - 305ms/step\n",
      "Epoch 39/50\n",
      "190/190 - 58s - loss: 5.0835 - mean_absolute_error: 1.7226 - val_loss: 60.8594 - val_mean_absolute_error: 5.8595 - 58s/epoch - 303ms/step\n",
      "Epoch 40/50\n",
      "190/190 - 57s - loss: 4.8758 - mean_absolute_error: 1.6813 - val_loss: 64.0189 - val_mean_absolute_error: 6.0402 - 57s/epoch - 298ms/step\n",
      "Epoch 41/50\n",
      "190/190 - 58s - loss: 5.1361 - mean_absolute_error: 1.7170 - val_loss: 59.6485 - val_mean_absolute_error: 5.7112 - 58s/epoch - 304ms/step\n",
      "Epoch 42/50\n",
      "190/190 - 56s - loss: 4.8961 - mean_absolute_error: 1.6388 - val_loss: 57.8876 - val_mean_absolute_error: 5.6180 - 56s/epoch - 297ms/step\n",
      "Epoch 43/50\n",
      "190/190 - 56s - loss: 4.3424 - mean_absolute_error: 1.5785 - val_loss: 57.6495 - val_mean_absolute_error: 5.6553 - 56s/epoch - 297ms/step\n",
      "Epoch 44/50\n",
      "190/190 - 56s - loss: 4.8906 - mean_absolute_error: 1.6659 - val_loss: 58.8981 - val_mean_absolute_error: 5.7944 - 56s/epoch - 296ms/step\n",
      "Epoch 45/50\n",
      "190/190 - 57s - loss: 4.0619 - mean_absolute_error: 1.5327 - val_loss: 59.4858 - val_mean_absolute_error: 5.7044 - 57s/epoch - 298ms/step\n",
      "Epoch 46/50\n",
      "190/190 - 57s - loss: 4.0123 - mean_absolute_error: 1.5163 - val_loss: 61.5894 - val_mean_absolute_error: 5.9146 - 57s/epoch - 298ms/step\n",
      "Epoch 47/50\n",
      "190/190 - 56s - loss: 4.0448 - mean_absolute_error: 1.5131 - val_loss: 56.3003 - val_mean_absolute_error: 5.5037 - 56s/epoch - 297ms/step\n",
      "Epoch 48/50\n",
      "190/190 - 56s - loss: 3.7308 - mean_absolute_error: 1.4606 - val_loss: 56.3879 - val_mean_absolute_error: 5.5096 - 56s/epoch - 296ms/step\n",
      "Epoch 49/50\n",
      "190/190 - 56s - loss: 3.6420 - mean_absolute_error: 1.4461 - val_loss: 56.9003 - val_mean_absolute_error: 5.5644 - 56s/epoch - 296ms/step\n",
      "Epoch 50/50\n",
      "190/190 - 56s - loss: 3.6488 - mean_absolute_error: 1.4410 - val_loss: 57.3296 - val_mean_absolute_error: 5.6624 - 56s/epoch - 297ms/step\n"
     ]
    },
    {
     "data": {
      "text/plain": [
       "<keras.callbacks.History at 0x7f9b3c3b0d90>"
      ]
     },
     "execution_count": 15,
     "metadata": {},
     "output_type": "execute_result"
    }
   ],
   "source": [
    "model.fit(train_generator, \n",
    "          validation_data=valid_generator, epochs=50,\n",
    "          steps_per_epoch=len(train_generator) ,\n",
    "          validation_steps=len(valid_generator),\n",
    "          verbose=2, shuffle=True)"
   ]
  },
  {
   "cell_type": "markdown",
   "metadata": {},
   "source": [
    "<b>Выводы</b> Уменьшение изображения до размеров, на которых обучалась imagenet (224x224) дало результат для MAE на валидации хуже, чем при обучении на размерах 300x300."
   ]
  },
  {
   "cell_type": "markdown",
   "metadata": {},
   "source": [
    "## 1.8. Тестирование"
   ]
  },
  {
   "cell_type": "code",
   "execution_count": 3,
   "metadata": {},
   "outputs": [
    {
     "name": "stderr",
     "output_type": "stream",
     "text": [
      "2023-03-13 17:10:56.674783: I tensorflow/stream_executor/cuda/cuda_gpu_executor.cc:925] could not open file to read NUMA node: /sys/bus/pci/devices/0000:01:00.0/numa_node\n",
      "Your kernel may have been built without NUMA support.\n",
      "2023-03-13 17:10:56.705851: I tensorflow/stream_executor/cuda/cuda_gpu_executor.cc:925] could not open file to read NUMA node: /sys/bus/pci/devices/0000:01:00.0/numa_node\n",
      "Your kernel may have been built without NUMA support.\n",
      "2023-03-13 17:10:56.705917: I tensorflow/stream_executor/cuda/cuda_gpu_executor.cc:925] could not open file to read NUMA node: /sys/bus/pci/devices/0000:01:00.0/numa_node\n",
      "Your kernel may have been built without NUMA support.\n",
      "2023-03-13 17:10:56.707202: I tensorflow/core/platform/cpu_feature_guard.cc:151] This TensorFlow binary is optimized with oneAPI Deep Neural Network Library (oneDNN) to use the following CPU instructions in performance-critical operations:  AVX2 FMA\n",
      "To enable them in other operations, rebuild TensorFlow with the appropriate compiler flags.\n",
      "2023-03-13 17:10:56.712007: I tensorflow/stream_executor/cuda/cuda_gpu_executor.cc:925] could not open file to read NUMA node: /sys/bus/pci/devices/0000:01:00.0/numa_node\n",
      "Your kernel may have been built without NUMA support.\n",
      "2023-03-13 17:10:56.712197: I tensorflow/stream_executor/cuda/cuda_gpu_executor.cc:925] could not open file to read NUMA node: /sys/bus/pci/devices/0000:01:00.0/numa_node\n",
      "Your kernel may have been built without NUMA support.\n",
      "2023-03-13 17:10:56.712316: I tensorflow/stream_executor/cuda/cuda_gpu_executor.cc:925] could not open file to read NUMA node: /sys/bus/pci/devices/0000:01:00.0/numa_node\n",
      "Your kernel may have been built without NUMA support.\n",
      "2023-03-13 17:10:59.518264: I tensorflow/stream_executor/cuda/cuda_gpu_executor.cc:925] could not open file to read NUMA node: /sys/bus/pci/devices/0000:01:00.0/numa_node\n",
      "Your kernel may have been built without NUMA support.\n",
      "2023-03-13 17:10:59.518374: I tensorflow/stream_executor/cuda/cuda_gpu_executor.cc:925] could not open file to read NUMA node: /sys/bus/pci/devices/0000:01:00.0/numa_node\n",
      "Your kernel may have been built without NUMA support.\n",
      "2023-03-13 17:10:59.518385: I tensorflow/core/common_runtime/gpu/gpu_device.cc:1609] Could not identify NUMA node of platform GPU id 0, defaulting to 0.  Your kernel may not have been built with NUMA support.\n",
      "2023-03-13 17:10:59.518430: I tensorflow/stream_executor/cuda/cuda_gpu_executor.cc:925] could not open file to read NUMA node: /sys/bus/pci/devices/0000:01:00.0/numa_node\n",
      "Your kernel may have been built without NUMA support.\n",
      "2023-03-13 17:10:59.518474: I tensorflow/core/common_runtime/gpu/gpu_device.cc:1525] Created device /job:localhost/replica:0/task:0/device:GPU:0 with 5957 MB memory:  -> device: 0, name: NVIDIA GeForce RTX 2070 with Max-Q Design, pci bus id: 0000:01:00.0, compute capability: 7.5\n"
     ]
    }
   ],
   "source": [
    "model=load_model('models/folder_model_adam0.00005_size_400_horizontal_flip')"
   ]
  },
  {
   "cell_type": "markdown",
   "metadata": {},
   "source": [
    "Попробуем предсказание на одной фотографии:"
   ]
  },
  {
   "cell_type": "code",
   "execution_count": 4,
   "metadata": {},
   "outputs": [
    {
     "name": "stdout",
     "output_type": "stream",
     "text": [
      "(1, 300, 300, 3)\n"
     ]
    },
    {
     "name": "stderr",
     "output_type": "stream",
     "text": [
      "2023-03-13 17:11:19.334369: I tensorflow/stream_executor/cuda/cuda_dnn.cc:366] Loaded cuDNN version 8101\n",
      "2023-03-13 17:11:21.400080: I tensorflow/core/platform/default/subprocess.cc:304] Start cannot spawn child process: No such file or directory\n"
     ]
    },
    {
     "data": {
      "text/plain": [
       "array([[23.8189]], dtype=float32)"
      ]
     },
     "execution_count": 4,
     "metadata": {},
     "output_type": "execute_result"
    }
   ],
   "source": [
    "from keras.preprocessing import image\n",
    "img_width, img_height = 300, 300\n",
    "\n",
    "img = image.load_img('me_small.jpg', target_size=(img_width, img_height))\n",
    "x = image.img_to_array(img)/255\n",
    "x = np.expand_dims(x, axis=0)\n",
    "print(x.shape)\n",
    "model.predict(x)"
   ]
  },
  {
   "cell_type": "code",
   "execution_count": 18,
   "metadata": {},
   "outputs": [
    {
     "name": "stdout",
     "output_type": "stream",
     "text": [
      "Found 6073 validated image filenames.\n",
      "Found 1518 validated image filenames.\n",
      "CPU times: user 50.9 ms, sys: 10.1 ms, total: 61.1 ms\n",
      "Wall time: 60.2 ms\n"
     ]
    }
   ],
   "source": [
    "%%time\n",
    "datagen=ImageDataGenerator(rescale=1./255, validation_split=0.2,horizontal_flip=True)\n",
    "train_generator=datagen.flow_from_dataframe(dataframe=labels_df, \n",
    "                                            directory=f\"{DATA_PATH}/final_files/\", \n",
    "                                            x_col=\"file_name\",\n",
    "                                            y_col=\"real_age\",\n",
    "                                            class_mode=\"raw\",\n",
    "                                            target_size=(300,300),\n",
    "                                            subset='training',\n",
    "                                            batch_size=32,\n",
    "                                           seed=23_02_23)\n",
    "valid_generator=datagen.flow_from_dataframe(dataframe=labels_df, \n",
    "                                            directory=f\"{DATA_PATH}/final_files/\", \n",
    "                                            x_col=\"file_name\",\n",
    "                                            y_col=\"real_age\",\n",
    "                                            class_mode=\"raw\",\n",
    "                                            target_size=(300,300),\n",
    "                                            subset='validation',\n",
    "                                            batch_size=32,\n",
    "                                           seed=23_02_23)"
   ]
  },
  {
   "cell_type": "code",
   "execution_count": 19,
   "metadata": {},
   "outputs": [
    {
     "name": "stdout",
     "output_type": "stream",
     "text": [
      "48/48 [==============================] - 9s 168ms/step - loss: 50.3273 - mean_absolute_error: 5.1836\n"
     ]
    },
    {
     "data": {
      "text/plain": [
       "[50.3272819519043, 5.183589935302734]"
      ]
     },
     "execution_count": 19,
     "metadata": {},
     "output_type": "execute_result"
    }
   ],
   "source": [
    "model.evaluate(valid_generator)"
   ]
  },
  {
   "cell_type": "markdown",
   "metadata": {},
   "source": [
    "Получаем значение <b>MAE 5.1836</b> ниже значения, полученного авторами статьи."
   ]
  },
  {
   "cell_type": "markdown",
   "metadata": {},
   "source": [
    "## 1.9. Выводы"
   ]
  },
  {
   "cell_type": "markdown",
   "metadata": {},
   "source": [
    "Мы провели множество экспериментов в двух средах с различными конфигурациями нашей нейросети, входных данных, оптимизационных алгоритмов и других настроек обучения. Было получено итоговое MAE ~ 5.1836, немногим лучше результата в <a href='http://people.ee.ethz.ch/~timofter/publications/Agustsson-FG-2017.pdf'>статье</a> об используемом датасете."
   ]
  },
  {
   "cell_type": "markdown",
   "metadata": {},
   "source": [
    "\n",
    "* При обучении в локальной среде с GPU RTX 2070 при целевом размере изображения 256x256 и размере батча 16 на 50 эпохах мы получили уже удовлетворяющее нас значение MAE на валидации (<8). \n",
    "* Увеличение размера батча в локальной среде до максимума помещающегося в видеопамять (32) позволило нам немного снизить значениее MAE на валидации, а дальнейшее увеличение разрешения изображения до 300x300, уменьшение в 2 раза learning rate Adam, и снижение числа нейронов в первом полносвязном поверх ResNet слое позволило значительно снизить значение MAE на валидации и получить итоговый результат MAE ~ 5.3492.\n",
    "* Дальнейшее дообучение даже при дальнейшем уменьшении learning rate Adam-а этой лучшей модели не привело к улучшению показателей ее качества на валидационной выборке.\n",
    "* При обучении на сервере с GPU, имеющем большой объем видеопамяти и позволяющий выбрать размер батча равным 64, нам удалось получить значение лишь только ~6 для MAE с теми же настройками что были выбраны при обучении топовой нейросети в локальной среде.\n",
    "* Добавление аугментации типа горизонтального отражения в ImageDataGenerator позволило еще немного снизить значение качества MAE - до <b>5.1836</b> в локальной среде и до 5.6379 на сервере с GPU"
   ]
  },
  {
   "cell_type": "code",
   "execution_count": null,
   "metadata": {},
   "outputs": [],
   "source": []
  }
 ],
 "metadata": {
  "ExecuteTimeLog": [
   {
    "duration": 4,
    "start_time": "2023-02-22T12:44:48.702Z"
   },
   {
    "duration": 3,
    "start_time": "2023-02-22T12:45:08.687Z"
   },
   {
    "duration": 3,
    "start_time": "2023-02-22T12:45:29.819Z"
   },
   {
    "duration": 242,
    "start_time": "2023-02-22T19:44:34.244Z"
   },
   {
    "duration": 4,
    "start_time": "2023-02-22T19:44:37.769Z"
   },
   {
    "duration": 574,
    "start_time": "2023-02-22T19:44:40.080Z"
   },
   {
    "duration": 104,
    "start_time": "2023-02-22T19:44:54.555Z"
   },
   {
    "duration": 998,
    "start_time": "2023-02-22T19:44:56.531Z"
   },
   {
    "duration": 403,
    "start_time": "2023-02-22T19:47:36.850Z"
   },
   {
    "duration": 282,
    "start_time": "2023-02-22T19:48:14.639Z"
   },
   {
    "duration": 408,
    "start_time": "2023-02-22T19:48:20.328Z"
   },
   {
    "duration": 1008,
    "start_time": "2023-02-22T19:48:55.037Z"
   },
   {
    "duration": 984,
    "start_time": "2023-02-22T19:49:21.065Z"
   },
   {
    "duration": 15,
    "start_time": "2023-02-22T19:49:35.063Z"
   },
   {
    "duration": 4,
    "start_time": "2023-02-22T19:50:29.088Z"
   },
   {
    "duration": 4,
    "start_time": "2023-02-22T19:50:33.877Z"
   },
   {
    "duration": 5,
    "start_time": "2023-02-22T19:50:39.100Z"
   },
   {
    "duration": 2146,
    "start_time": "2023-02-22T19:51:01.430Z"
   },
   {
    "duration": 2088,
    "start_time": "2023-02-22T19:51:23.339Z"
   },
   {
    "duration": 4,
    "start_time": "2023-02-22T19:52:26.882Z"
   },
   {
    "duration": 610,
    "start_time": "2023-02-22T19:52:27.696Z"
   },
   {
    "duration": 1890,
    "start_time": "2023-02-22T19:52:30.567Z"
   },
   {
    "duration": 1330,
    "start_time": "2023-02-22T20:02:01.918Z"
   },
   {
    "duration": 1607,
    "start_time": "2023-02-22T20:02:09.297Z"
   },
   {
    "duration": 1451,
    "start_time": "2023-02-22T20:02:42.071Z"
   },
   {
    "duration": 2296,
    "start_time": "2023-02-23T17:36:39.953Z"
   },
   {
    "duration": 4,
    "start_time": "2023-02-23T17:36:42.250Z"
   },
   {
    "duration": 239,
    "start_time": "2023-02-23T17:40:32.750Z"
   },
   {
    "duration": 14,
    "start_time": "2023-02-23T17:40:40.807Z"
   },
   {
    "duration": 3,
    "start_time": "2023-02-23T17:40:44.033Z"
   },
   {
    "duration": 406,
    "start_time": "2023-02-23T17:43:57.523Z"
   },
   {
    "duration": 428,
    "start_time": "2023-02-23T17:44:12.814Z"
   },
   {
    "duration": 746,
    "start_time": "2023-02-23T17:44:23.309Z"
   },
   {
    "duration": 20,
    "start_time": "2023-02-23T17:45:12.193Z"
   },
   {
    "duration": 4,
    "start_time": "2023-02-23T17:45:14.831Z"
   },
   {
    "duration": 3,
    "start_time": "2023-02-23T17:45:15.194Z"
   },
   {
    "duration": 414,
    "start_time": "2023-02-23T17:45:15.496Z"
   },
   {
    "duration": 787,
    "start_time": "2023-02-23T17:45:16.869Z"
   },
   {
    "duration": 1863,
    "start_time": "2023-02-23T17:45:17.657Z"
   },
   {
    "duration": 1801,
    "start_time": "2023-02-23T17:45:27.387Z"
   },
   {
    "duration": 1718,
    "start_time": "2023-02-23T17:46:02.973Z"
   },
   {
    "duration": 1905,
    "start_time": "2023-02-23T17:46:29.494Z"
   },
   {
    "duration": 758,
    "start_time": "2023-02-23T17:55:10.823Z"
   },
   {
    "duration": 732,
    "start_time": "2023-02-23T17:56:49.220Z"
   },
   {
    "duration": 721,
    "start_time": "2023-02-23T17:56:59.033Z"
   },
   {
    "duration": 671,
    "start_time": "2023-02-23T18:00:14.273Z"
   },
   {
    "duration": 692,
    "start_time": "2023-02-23T18:00:27.220Z"
   },
   {
    "duration": 3,
    "start_time": "2023-02-23T18:01:22.381Z"
   },
   {
    "duration": 2,
    "start_time": "2023-02-23T18:01:33.304Z"
   },
   {
    "duration": 416,
    "start_time": "2023-02-23T18:02:16.498Z"
   },
   {
    "duration": 3,
    "start_time": "2023-02-23T18:02:25.785Z"
   },
   {
    "duration": 439,
    "start_time": "2023-02-23T18:02:30.280Z"
   },
   {
    "duration": 421,
    "start_time": "2023-02-23T18:02:50.304Z"
   },
   {
    "duration": 679,
    "start_time": "2023-02-23T18:03:08.619Z"
   },
   {
    "duration": 48,
    "start_time": "2023-02-23T18:03:15.876Z"
   },
   {
    "duration": 45,
    "start_time": "2023-02-23T18:03:41.590Z"
   },
   {
    "duration": 122,
    "start_time": "2023-02-23T18:03:48.524Z"
   },
   {
    "duration": 14,
    "start_time": "2023-02-23T18:06:56.440Z"
   },
   {
    "duration": 40,
    "start_time": "2023-02-23T18:09:09.372Z"
   },
   {
    "duration": 2,
    "start_time": "2023-02-23T18:09:49.687Z"
   },
   {
    "duration": 281,
    "start_time": "2023-02-23T18:11:11.951Z"
   },
   {
    "duration": 242,
    "start_time": "2023-02-23T18:12:36.499Z"
   },
   {
    "duration": 278,
    "start_time": "2023-02-23T18:14:49.965Z"
   },
   {
    "duration": 204,
    "start_time": "2023-02-23T18:15:30.935Z"
   },
   {
    "duration": 2404,
    "start_time": "2023-02-23T18:28:18.274Z"
   },
   {
    "duration": 43,
    "start_time": "2023-02-23T18:28:45.286Z"
   },
   {
    "duration": 136,
    "start_time": "2023-02-23T19:49:00.849Z"
   },
   {
    "duration": 71916,
    "start_time": "2023-02-23T19:49:12.257Z"
   },
   {
    "duration": 12,
    "start_time": "2023-02-23T19:50:54.671Z"
   },
   {
    "duration": 818,
    "start_time": "2023-02-23T19:53:52.185Z"
   },
   {
    "duration": 1750,
    "start_time": "2023-02-23T19:54:10.454Z"
   },
   {
    "duration": 5,
    "start_time": "2023-02-23T19:58:12.361Z"
   },
   {
    "duration": 5,
    "start_time": "2023-02-23T19:58:19.635Z"
   },
   {
    "duration": 5,
    "start_time": "2023-02-23T19:58:32.877Z"
   },
   {
    "duration": 8,
    "start_time": "2023-02-23T19:58:39.483Z"
   },
   {
    "duration": 13,
    "start_time": "2023-02-23T19:58:44.443Z"
   },
   {
    "duration": 4,
    "start_time": "2023-02-23T19:58:47.525Z"
   },
   {
    "duration": 44,
    "start_time": "2023-02-23T20:06:23.076Z"
   },
   {
    "duration": 41,
    "start_time": "2023-02-23T20:06:37.294Z"
   },
   {
    "duration": 68,
    "start_time": "2023-02-23T20:06:44.061Z"
   },
   {
    "duration": 26,
    "start_time": "2023-02-23T20:07:45.437Z"
   },
   {
    "duration": 22,
    "start_time": "2023-02-23T20:08:34.264Z"
   },
   {
    "duration": 20,
    "start_time": "2023-02-23T20:08:46.313Z"
   },
   {
    "duration": 5,
    "start_time": "2023-02-23T20:08:54.657Z"
   },
   {
    "duration": 4,
    "start_time": "2023-02-23T20:09:34.692Z"
   },
   {
    "duration": 5,
    "start_time": "2023-02-23T20:12:16.786Z"
   },
   {
    "duration": 429,
    "start_time": "2023-02-23T20:12:44.707Z"
   },
   {
    "duration": 147,
    "start_time": "2023-02-23T20:12:57.852Z"
   },
   {
    "duration": 153,
    "start_time": "2023-02-23T20:13:11.951Z"
   },
   {
    "duration": 155,
    "start_time": "2023-02-23T20:13:29.894Z"
   },
   {
    "duration": 143,
    "start_time": "2023-02-23T20:13:33.696Z"
   },
   {
    "duration": 142,
    "start_time": "2023-02-23T20:13:45.838Z"
   },
   {
    "duration": 148,
    "start_time": "2023-02-23T20:13:49.222Z"
   },
   {
    "duration": 40729,
    "start_time": "2023-02-23T20:14:38.930Z"
   },
   {
    "duration": 274533,
    "start_time": "2023-02-23T20:17:43.112Z"
   },
   {
    "duration": 11,
    "start_time": "2023-02-23T20:22:38.728Z"
   },
   {
    "duration": 3,
    "start_time": "2023-02-23T20:22:45.923Z"
   },
   {
    "duration": 12,
    "start_time": "2023-02-23T20:28:50.478Z"
   },
   {
    "duration": 14,
    "start_time": "2023-02-23T20:36:02.121Z"
   },
   {
    "duration": 4,
    "start_time": "2023-02-23T20:36:11.770Z"
   },
   {
    "duration": 12,
    "start_time": "2023-02-23T20:36:54.573Z"
   },
   {
    "duration": 4,
    "start_time": "2023-02-23T20:37:04.360Z"
   },
   {
    "duration": 4,
    "start_time": "2023-02-23T20:37:11.356Z"
   },
   {
    "duration": 4,
    "start_time": "2023-02-23T20:37:16.534Z"
   },
   {
    "duration": 6,
    "start_time": "2023-02-23T20:38:31.015Z"
   },
   {
    "duration": 5,
    "start_time": "2023-02-23T20:38:55.257Z"
   },
   {
    "duration": 6,
    "start_time": "2023-02-23T20:39:10.174Z"
   },
   {
    "duration": 11,
    "start_time": "2023-02-23T20:39:16.503Z"
   },
   {
    "duration": 241,
    "start_time": "2023-02-23T21:05:07.202Z"
   },
   {
    "duration": 322,
    "start_time": "2023-02-23T21:05:31.227Z"
   },
   {
    "duration": 560,
    "start_time": "2023-02-23T21:06:40.490Z"
   },
   {
    "duration": 1099,
    "start_time": "2023-02-23T21:08:51.787Z"
   },
   {
    "duration": 728,
    "start_time": "2023-02-23T21:10:46.351Z"
   },
   {
    "duration": 16,
    "start_time": "2023-02-23T21:11:31.404Z"
   },
   {
    "duration": 19,
    "start_time": "2023-02-23T21:11:42.911Z"
   },
   {
    "duration": 62,
    "start_time": "2023-02-27T09:36:37.497Z"
   },
   {
    "duration": 48,
    "start_time": "2023-02-27T10:09:39.392Z"
   },
   {
    "duration": 3035,
    "start_time": "2023-02-27T10:42:19.362Z"
   },
   {
    "duration": 10545,
    "start_time": "2023-02-27T10:42:23.673Z"
   },
   {
    "duration": 3,
    "start_time": "2023-02-27T10:42:34.221Z"
   },
   {
    "duration": 2387,
    "start_time": "2023-02-27T10:43:22.440Z"
   },
   {
    "duration": 2638,
    "start_time": "2023-02-27T10:43:24.831Z"
   },
   {
    "duration": 2,
    "start_time": "2023-02-27T10:43:27.471Z"
   },
   {
    "duration": 103,
    "start_time": "2023-02-27T10:43:30.187Z"
   },
   {
    "duration": 15,
    "start_time": "2023-02-27T10:43:30.883Z"
   },
   {
    "duration": 139553,
    "start_time": "2023-02-27T10:43:48.358Z"
   },
   {
    "duration": 2028,
    "start_time": "2023-02-27T10:46:07.913Z"
   },
   {
    "duration": 6,
    "start_time": "2023-02-27T10:46:09.943Z"
   },
   {
    "duration": 325,
    "start_time": "2023-02-27T10:46:09.952Z"
   },
   {
    "duration": 297501,
    "start_time": "2023-02-27T10:46:10.278Z"
   },
   {
    "duration": 6,
    "start_time": "2023-02-27T10:51:07.781Z"
   },
   {
    "duration": 15,
    "start_time": "2023-02-27T10:51:07.789Z"
   },
   {
    "duration": 313,
    "start_time": "2023-02-27T10:51:07.806Z"
   },
   {
    "duration": 22,
    "start_time": "2023-02-27T10:51:08.121Z"
   },
   {
    "duration": 310,
    "start_time": "2023-02-27T10:51:08.145Z"
   },
   {
    "duration": 9,
    "start_time": "2023-02-27T10:51:08.457Z"
   },
   {
    "duration": 38,
    "start_time": "2023-02-27T10:51:08.468Z"
   }
  ],
  "kernelspec": {
   "display_name": "Python 3 (ipykernel)",
   "language": "python",
   "name": "python3"
  },
  "language_info": {
   "codemirror_mode": {
    "name": "ipython",
    "version": 3
   },
   "file_extension": ".py",
   "mimetype": "text/x-python",
   "name": "python",
   "nbconvert_exporter": "python",
   "pygments_lexer": "ipython3",
   "version": "3.9.16"
  },
  "toc": {
   "base_numbering": 1,
   "nav_menu": {},
   "number_sections": true,
   "sideBar": true,
   "skip_h1_title": true,
   "title_cell": "Table of Contents",
   "title_sidebar": "Contents",
   "toc_cell": false,
   "toc_position": {
    "height": "calc(100% - 180px)",
    "left": "10px",
    "top": "150px",
    "width": "165px"
   },
   "toc_section_display": true,
   "toc_window_display": true
  },
  "toc-autonumbering": true
 },
 "nbformat": 4,
 "nbformat_minor": 4
}
