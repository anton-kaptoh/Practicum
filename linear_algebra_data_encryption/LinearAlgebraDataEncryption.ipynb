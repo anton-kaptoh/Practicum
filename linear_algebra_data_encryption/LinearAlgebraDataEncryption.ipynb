{
 "cells": [
  {
   "cell_type": "markdown",
   "metadata": {},
   "source": [
    "# Защита персональных данных клиентов"
   ]
  },
  {
   "cell_type": "markdown",
   "metadata": {},
   "source": [
    "Нужно защитить данные клиентов компании. Необходимо разработать такой метод преобразования данных, чтобы по ним было сложно восстановить персональную информацию. Обоснуйте корректность его работы. Нужно защитить данные, чтобы при преобразовании качество моделей машинного обучения не ухудшилось. Подбирать наилучшую модель не требуется."
   ]
  },
  {
   "cell_type": "markdown",
   "metadata": {
    "tags": []
   },
   "source": [
    "<ul><li><strong>Признаки:</strong> пол, возраст и зарплата застрахованного, количество членов его семьи.</li><li><strong>Целевой признак:</strong> количество страховых выплат клиенту за последние 5 лет.</li></ul>"
   ]
  },
  {
   "cell_type": "code",
   "execution_count": 1,
   "metadata": {},
   "outputs": [],
   "source": [
    "try:\n",
    "    %load_ext lab_black\n",
    "except:\n",
    "    \"no lab_black\""
   ]
  },
  {
   "cell_type": "markdown",
   "metadata": {},
   "source": [
    "## Импорты"
   ]
  },
  {
   "cell_type": "markdown",
   "metadata": {},
   "source": [
    "!pip install pandas-profiling"
   ]
  },
  {
   "cell_type": "code",
   "execution_count": 2,
   "metadata": {},
   "outputs": [],
   "source": [
    "import numpy as np\n",
    "import pandas as pd\n",
    "import matplotlib as plt\n",
    "\n",
    "from pandas_profiling import ProfileReport\n",
    "import sweetviz\n",
    "\n",
    "from numpy.random import default_rng\n",
    "\n",
    "from sklearn.model_selection import train_test_split\n",
    "from sklearn.base import BaseEstimator\n",
    "from sklearn.dummy import DummyRegressor\n",
    "from sklearn.preprocessing import StandardScaler\n",
    "from sklearn.pipeline import Pipeline\n",
    "from sklearn.linear_model import LinearRegression"
   ]
  },
  {
   "cell_type": "markdown",
   "metadata": {
    "tags": []
   },
   "source": [
    "## Загрузка данных"
   ]
  },
  {
   "cell_type": "markdown",
   "metadata": {},
   "source": [
    "Загрузим и изучим данные:"
   ]
  },
  {
   "cell_type": "code",
   "execution_count": 3,
   "metadata": {},
   "outputs": [],
   "source": [
    "data = pd.read_csv(\"/datasets/insurance.csv\")"
   ]
  },
  {
   "cell_type": "code",
   "execution_count": 4,
   "metadata": {},
   "outputs": [
    {
     "name": "stdout",
     "output_type": "stream",
     "text": [
      "<class 'pandas.core.frame.DataFrame'>\n",
      "RangeIndex: 5000 entries, 0 to 4999\n",
      "Data columns (total 5 columns):\n",
      " #   Column             Non-Null Count  Dtype  \n",
      "---  ------             --------------  -----  \n",
      " 0   Пол                5000 non-null   int64  \n",
      " 1   Возраст            5000 non-null   float64\n",
      " 2   Зарплата           5000 non-null   float64\n",
      " 3   Члены семьи        5000 non-null   int64  \n",
      " 4   Страховые выплаты  5000 non-null   int64  \n",
      "dtypes: float64(2), int64(3)\n",
      "memory usage: 195.4 KB\n"
     ]
    }
   ],
   "source": [
    "data.info()"
   ]
  },
  {
   "cell_type": "code",
   "execution_count": 5,
   "metadata": {},
   "outputs": [
    {
     "data": {
      "text/html": [
       "<div>\n",
       "<style scoped>\n",
       "    .dataframe tbody tr th:only-of-type {\n",
       "        vertical-align: middle;\n",
       "    }\n",
       "\n",
       "    .dataframe tbody tr th {\n",
       "        vertical-align: top;\n",
       "    }\n",
       "\n",
       "    .dataframe thead th {\n",
       "        text-align: right;\n",
       "    }\n",
       "</style>\n",
       "<table border=\"1\" class=\"dataframe\">\n",
       "  <thead>\n",
       "    <tr style=\"text-align: right;\">\n",
       "      <th></th>\n",
       "      <th>Пол</th>\n",
       "      <th>Возраст</th>\n",
       "      <th>Зарплата</th>\n",
       "      <th>Члены семьи</th>\n",
       "      <th>Страховые выплаты</th>\n",
       "    </tr>\n",
       "  </thead>\n",
       "  <tbody>\n",
       "    <tr>\n",
       "      <th>0</th>\n",
       "      <td>1</td>\n",
       "      <td>41.0</td>\n",
       "      <td>49600.0</td>\n",
       "      <td>1</td>\n",
       "      <td>0</td>\n",
       "    </tr>\n",
       "    <tr>\n",
       "      <th>1</th>\n",
       "      <td>0</td>\n",
       "      <td>46.0</td>\n",
       "      <td>38000.0</td>\n",
       "      <td>1</td>\n",
       "      <td>1</td>\n",
       "    </tr>\n",
       "    <tr>\n",
       "      <th>2</th>\n",
       "      <td>0</td>\n",
       "      <td>29.0</td>\n",
       "      <td>21000.0</td>\n",
       "      <td>0</td>\n",
       "      <td>0</td>\n",
       "    </tr>\n",
       "    <tr>\n",
       "      <th>3</th>\n",
       "      <td>0</td>\n",
       "      <td>21.0</td>\n",
       "      <td>41700.0</td>\n",
       "      <td>2</td>\n",
       "      <td>0</td>\n",
       "    </tr>\n",
       "    <tr>\n",
       "      <th>4</th>\n",
       "      <td>1</td>\n",
       "      <td>28.0</td>\n",
       "      <td>26100.0</td>\n",
       "      <td>0</td>\n",
       "      <td>0</td>\n",
       "    </tr>\n",
       "    <tr>\n",
       "      <th>5</th>\n",
       "      <td>1</td>\n",
       "      <td>43.0</td>\n",
       "      <td>41000.0</td>\n",
       "      <td>2</td>\n",
       "      <td>1</td>\n",
       "    </tr>\n",
       "    <tr>\n",
       "      <th>6</th>\n",
       "      <td>1</td>\n",
       "      <td>39.0</td>\n",
       "      <td>39700.0</td>\n",
       "      <td>2</td>\n",
       "      <td>0</td>\n",
       "    </tr>\n",
       "    <tr>\n",
       "      <th>7</th>\n",
       "      <td>1</td>\n",
       "      <td>25.0</td>\n",
       "      <td>38600.0</td>\n",
       "      <td>4</td>\n",
       "      <td>0</td>\n",
       "    </tr>\n",
       "    <tr>\n",
       "      <th>8</th>\n",
       "      <td>1</td>\n",
       "      <td>36.0</td>\n",
       "      <td>49700.0</td>\n",
       "      <td>1</td>\n",
       "      <td>0</td>\n",
       "    </tr>\n",
       "    <tr>\n",
       "      <th>9</th>\n",
       "      <td>1</td>\n",
       "      <td>32.0</td>\n",
       "      <td>51700.0</td>\n",
       "      <td>1</td>\n",
       "      <td>0</td>\n",
       "    </tr>\n",
       "  </tbody>\n",
       "</table>\n",
       "</div>"
      ],
      "text/plain": [
       "   Пол  Возраст  Зарплата  Члены семьи  Страховые выплаты\n",
       "0    1     41.0   49600.0            1                  0\n",
       "1    0     46.0   38000.0            1                  1\n",
       "2    0     29.0   21000.0            0                  0\n",
       "3    0     21.0   41700.0            2                  0\n",
       "4    1     28.0   26100.0            0                  0\n",
       "5    1     43.0   41000.0            2                  1\n",
       "6    1     39.0   39700.0            2                  0\n",
       "7    1     25.0   38600.0            4                  0\n",
       "8    1     36.0   49700.0            1                  0\n",
       "9    1     32.0   51700.0            1                  0"
      ]
     },
     "execution_count": 5,
     "metadata": {},
     "output_type": "execute_result"
    }
   ],
   "source": [
    "data.head(10)"
   ]
  },
  {
   "cell_type": "code",
   "execution_count": 6,
   "metadata": {},
   "outputs": [
    {
     "data": {
      "text/html": [
       "<div>\n",
       "<style scoped>\n",
       "    .dataframe tbody tr th:only-of-type {\n",
       "        vertical-align: middle;\n",
       "    }\n",
       "\n",
       "    .dataframe tbody tr th {\n",
       "        vertical-align: top;\n",
       "    }\n",
       "\n",
       "    .dataframe thead th {\n",
       "        text-align: right;\n",
       "    }\n",
       "</style>\n",
       "<table border=\"1\" class=\"dataframe\">\n",
       "  <thead>\n",
       "    <tr style=\"text-align: right;\">\n",
       "      <th></th>\n",
       "      <th>Пол</th>\n",
       "      <th>Возраст</th>\n",
       "      <th>Зарплата</th>\n",
       "      <th>Члены семьи</th>\n",
       "    </tr>\n",
       "  </thead>\n",
       "  <tbody>\n",
       "    <tr>\n",
       "      <th>0</th>\n",
       "      <td>1</td>\n",
       "      <td>41.0</td>\n",
       "      <td>49600.0</td>\n",
       "      <td>1</td>\n",
       "    </tr>\n",
       "    <tr>\n",
       "      <th>1</th>\n",
       "      <td>0</td>\n",
       "      <td>46.0</td>\n",
       "      <td>38000.0</td>\n",
       "      <td>1</td>\n",
       "    </tr>\n",
       "    <tr>\n",
       "      <th>2</th>\n",
       "      <td>0</td>\n",
       "      <td>29.0</td>\n",
       "      <td>21000.0</td>\n",
       "      <td>0</td>\n",
       "    </tr>\n",
       "    <tr>\n",
       "      <th>3</th>\n",
       "      <td>0</td>\n",
       "      <td>21.0</td>\n",
       "      <td>41700.0</td>\n",
       "      <td>2</td>\n",
       "    </tr>\n",
       "    <tr>\n",
       "      <th>4</th>\n",
       "      <td>1</td>\n",
       "      <td>28.0</td>\n",
       "      <td>26100.0</td>\n",
       "      <td>0</td>\n",
       "    </tr>\n",
       "    <tr>\n",
       "      <th>5</th>\n",
       "      <td>1</td>\n",
       "      <td>43.0</td>\n",
       "      <td>41000.0</td>\n",
       "      <td>2</td>\n",
       "    </tr>\n",
       "    <tr>\n",
       "      <th>6</th>\n",
       "      <td>1</td>\n",
       "      <td>39.0</td>\n",
       "      <td>39700.0</td>\n",
       "      <td>2</td>\n",
       "    </tr>\n",
       "    <tr>\n",
       "      <th>7</th>\n",
       "      <td>1</td>\n",
       "      <td>25.0</td>\n",
       "      <td>38600.0</td>\n",
       "      <td>4</td>\n",
       "    </tr>\n",
       "    <tr>\n",
       "      <th>8</th>\n",
       "      <td>1</td>\n",
       "      <td>36.0</td>\n",
       "      <td>49700.0</td>\n",
       "      <td>1</td>\n",
       "    </tr>\n",
       "    <tr>\n",
       "      <th>9</th>\n",
       "      <td>1</td>\n",
       "      <td>32.0</td>\n",
       "      <td>51700.0</td>\n",
       "      <td>1</td>\n",
       "    </tr>\n",
       "    <tr>\n",
       "      <th>10</th>\n",
       "      <td>1</td>\n",
       "      <td>25.0</td>\n",
       "      <td>36600.0</td>\n",
       "      <td>1</td>\n",
       "    </tr>\n",
       "    <tr>\n",
       "      <th>11</th>\n",
       "      <td>1</td>\n",
       "      <td>38.0</td>\n",
       "      <td>29300.0</td>\n",
       "      <td>0</td>\n",
       "    </tr>\n",
       "    <tr>\n",
       "      <th>12</th>\n",
       "      <td>0</td>\n",
       "      <td>23.0</td>\n",
       "      <td>39500.0</td>\n",
       "      <td>3</td>\n",
       "    </tr>\n",
       "    <tr>\n",
       "      <th>13</th>\n",
       "      <td>0</td>\n",
       "      <td>21.0</td>\n",
       "      <td>55000.0</td>\n",
       "      <td>0</td>\n",
       "    </tr>\n",
       "    <tr>\n",
       "      <th>14</th>\n",
       "      <td>0</td>\n",
       "      <td>40.0</td>\n",
       "      <td>43700.0</td>\n",
       "      <td>1</td>\n",
       "    </tr>\n",
       "  </tbody>\n",
       "</table>\n",
       "</div>"
      ],
      "text/plain": [
       "    Пол  Возраст  Зарплата  Члены семьи\n",
       "0     1     41.0   49600.0            1\n",
       "1     0     46.0   38000.0            1\n",
       "2     0     29.0   21000.0            0\n",
       "3     0     21.0   41700.0            2\n",
       "4     1     28.0   26100.0            0\n",
       "5     1     43.0   41000.0            2\n",
       "6     1     39.0   39700.0            2\n",
       "7     1     25.0   38600.0            4\n",
       "8     1     36.0   49700.0            1\n",
       "9     1     32.0   51700.0            1\n",
       "10    1     25.0   36600.0            1\n",
       "11    1     38.0   29300.0            0\n",
       "12    0     23.0   39500.0            3\n",
       "13    0     21.0   55000.0            0\n",
       "14    0     40.0   43700.0            1"
      ]
     },
     "execution_count": 6,
     "metadata": {},
     "output_type": "execute_result"
    }
   ],
   "source": [
    "X = data.drop(\"Страховые выплаты\", axis=1)\n",
    "y = data[\"Страховые выплаты\"]\n",
    "X.head(15)"
   ]
  },
  {
   "cell_type": "code",
   "execution_count": 7,
   "metadata": {},
   "outputs": [
    {
     "data": {
      "text/plain": [
       "0    4436\n",
       "1     423\n",
       "2     115\n",
       "3      18\n",
       "4       7\n",
       "5       1\n",
       "Name: Страховые выплаты, dtype: int64"
      ]
     },
     "execution_count": 7,
     "metadata": {},
     "output_type": "execute_result"
    }
   ],
   "source": [
    "y.value_counts()"
   ]
  },
  {
   "cell_type": "markdown",
   "metadata": {},
   "source": [
    "### Pandas profiling "
   ]
  },
  {
   "cell_type": "code",
   "execution_count": 8,
   "metadata": {},
   "outputs": [
    {
     "data": {
      "application/vnd.jupyter.widget-view+json": {
       "model_id": "c64fc6ded478486da9a6fc942a69b561",
       "version_major": 2,
       "version_minor": 0
      },
      "text/plain": [
       "Summarize dataset:   0%|          | 0/5 [00:00<?, ?it/s]"
      ]
     },
     "metadata": {},
     "output_type": "display_data"
    },
    {
     "data": {
      "application/vnd.jupyter.widget-view+json": {
       "model_id": "ccaca87ec3164fd8b594e844f81ff71f",
       "version_major": 2,
       "version_minor": 0
      },
      "text/plain": [
       "Generate report structure:   0%|          | 0/1 [00:00<?, ?it/s]"
      ]
     },
     "metadata": {},
     "output_type": "display_data"
    },
    {
     "data": {
      "application/vnd.jupyter.widget-view+json": {
       "model_id": "",
       "version_major": 2,
       "version_minor": 0
      },
      "text/plain": [
       "Render widgets:   0%|          | 0/1 [00:00<?, ?it/s]"
      ]
     },
     "metadata": {},
     "output_type": "display_data"
    },
    {
     "data": {
      "application/vnd.jupyter.widget-view+json": {
       "model_id": "0fd5ecaf602142fca596541ae8443cb0",
       "version_major": 2,
       "version_minor": 0
      },
      "text/plain": [
       "VBox(children=(Tab(children=(Tab(children=(GridBox(children=(VBox(children=(GridspecLayout(children=(HTML(valu…"
      ]
     },
     "metadata": {},
     "output_type": "display_data"
    }
   ],
   "source": [
    "profile = ProfileReport(data, \"All data profiling report\")\n",
    "profile.to_widgets()"
   ]
  },
  {
   "cell_type": "markdown",
   "metadata": {},
   "source": [
    "Видим, что 88.7% клиентов не запрашивало страховых выплат."
   ]
  },
  {
   "cell_type": "markdown",
   "metadata": {},
   "source": [
    "## Умножение матриц"
   ]
  },
  {
   "cell_type": "markdown",
   "metadata": {},
   "source": [
    "Обозначения:\n",
    "\n",
    "- $X$ — матрица признаков (нулевой столбец состоит из единиц)\n",
    "\n",
    "- $y$ — вектор целевого признака\n",
    "\n",
    "- $P$ — матрица, на которую умножаются признаки\n",
    "\n",
    "- $w$ — вектор весов линейной регрессии (нулевой элемент равен сдвигу)\n",
    "\n",
    "- $w_c$ — вектор весов линейной регрессии для признаков умноженных на матрицу P (нулевой элемент равен сдвигу)"
   ]
  },
  {
   "cell_type": "markdown",
   "metadata": {},
   "source": [
    "Предсказания:\n",
    "\n",
    "$$\n",
    "a = Xw\n",
    "$$\n",
    "\n",
    "Задача обучения:\n",
    "\n",
    "$$\n",
    "w = \\arg\\min_w MSE(Xw, y)\n",
    "$$\n",
    "\n",
    "Формула обучения:\n",
    "\n",
    "$$\n",
    "w = (X^T X)^{-1} X^T y\n",
    "$$\n"
   ]
  },
  {
   "cell_type": "markdown",
   "metadata": {},
   "source": [
    "Признаки умножают на обратимую матрицу. В таком случае качество линейной регрессии не изменится. Докажем это и найдем, как связаны параметры линейной регрессии в исходной задаче и в преобразованной."
   ]
  },
  {
   "cell_type": "markdown",
   "metadata": {
    "tags": []
   },
   "source": [
    "### Получение формулы для весов линейной регрессии "
   ]
  },
  {
   "cell_type": "markdown",
   "metadata": {},
   "source": [
    "$$\n",
    "MSE=\\frac{1}{n} \\sum_{i=1}^{i=n} e_i^2 \n",
    "$$\n",
    "\n",
    "$$\n",
    "\\begin{aligned}\n",
    " \\sum_{i=1}^{i=n} e_i^2=e_1^2+e_2^2+e_3^2+e_4^2+\\ldots+e_n^2 =\n",
    "\\end{aligned}\n",
    "$$\n",
    "\n",
    "$$\n",
    " = [e_1 e_2 e_3 e_4 \\ldots e_n]^T x [e_1 e_2 e_3 e_4 \\ldots e_n]\n",
    "$$\n",
    "\n",
    "$$\n",
    "MSE=\\frac{1}{n}(y-Xw)^T(y-Xw) =\n",
    "$$\n",
    "\n",
    "зная, что $(AB)^T=B^T A^T$ и $(A - B)^T=A^T - B^T$, получаем:\n",
    "\n",
    "$$\n",
    "MSE=\\frac{1}{n}(y^T y - w^T X^T y- y^T X w + w^T X^T Xw) \n",
    "$$\n",
    "\n",
    "Так как $w^T X^T y=(y^T X w)^T$ и т.к. это матрица 1x1: \n",
    "\n",
    "$$\n",
    "(1x5000) @ (5000x4) @ (4x1) = (1x1)\n",
    "$$\n",
    "\n",
    "То транспонированная матрица равна нетранспонированной, таким образом мы можем заменить $y^T X w$ на $w^T X^T y$ и получаем финальное выражение для $MSE$:\n",
    "\n",
    "$$\n",
    "MSE=\\frac{1}{n}(y^T y - 2 w^T X^T y + w^T X^T Xw) \n",
    "$$\n",
    "\n",
    "Далее чтобы минимизировать данную функцию нужно взять её градиент:\n",
    "\n",
    "$$\n",
    "\\Delta MSE=\\frac{1}{n}(\\Delta y^T y - 2 \\Delta w^T X^T y + \\Delta w^T X^T Xw) \n",
    "$$\n",
    "\n",
    "используя следующие правила дифференциирования матриц продифференцируем по $ w $ :\n",
    "\n",
    "* Если $ F=w^T A w $ ,то $ \\frac{\\delta F}{\\delta w} = 2Aw $\n",
    "* Если $ F=w^T A $ ,то $ \\frac{\\delta F}{\\delta w} = A $\n",
    "$$\n",
    "\\Delta MSE=\\frac{1}{n}(0 - 2 X^T y + 2 X^T X w) \n",
    "$$\n",
    "\n",
    "$$\n",
    "=\\frac{2}{n}(X^T X w-  X^T y) \n",
    "$$\n",
    "\n",
    "Приравнивая это выражение нулю находим экстремум (минимум):\n",
    "\n",
    "$$\n",
    "\\frac{2}{n}(X^T X w-  X^T y)=0\n",
    "$$\n",
    "\n",
    "$$\n",
    "X^T X w=X^T y\n",
    "$$\n",
    "\n",
    "Откуда и получаем формулу обучения:\n",
    "\n",
    "$$\n",
    "w = (X^T X)^{-1} X^T y\n",
    "$$\n"
   ]
  },
  {
   "cell_type": "markdown",
   "metadata": {
    "tags": []
   },
   "source": [
    "### Получение формулы для весов линейной регрессии после преобразования "
   ]
  },
  {
   "cell_type": "markdown",
   "metadata": {},
   "source": [
    "Проделаем аналогичные действия в случае матрицы признаков $X$ умноженной на $P$ (то есть применим линейное преобразование P к признакам X). $MSE_c$ - это показатель среднеквадратичнго отклонения для новой матрицы признаков $X_c=X P$"
   ]
  },
  {
   "cell_type": "markdown",
   "metadata": {},
   "source": [
    "$$\n",
    "MSE_c=\\frac{1}{n} \\sum_{i=1}^{i=n} e_i^2 \n",
    "$$\n",
    "\n",
    "$$\n",
    "\\begin{aligned}\n",
    "\\sum_{i=1}^{i=n} e_i^2=e_1^2+e_2^2+e_3^2+e_4^2+\\ldots+e_n^2 =\n",
    "\\end{aligned}\n",
    "$$\n",
    "\n",
    "$$\n",
    " = [e_1 e_2 e_3 e_4 \\ldots e_n]^T x [e_1 e_2 e_3 e_4 \\ldots e_n]\n",
    "$$\n",
    "\n",
    "$$\n",
    "MSE_c=\\frac{1}{n}(y-XPw_c)^T(y-XPw_c) =\n",
    "$$\n",
    "\n",
    "зная, что $(AB)^T=B^T A^T$ и $(A - B)^T=A^T - B^T$, получаем:\n",
    "\n",
    "$$\n",
    "MSE_c=\\frac{1}{n}(y^T y - w_c^T P^T X^T y- y^T X P w_c + w_c^T P^T X^T X P w_c) \n",
    "$$\n",
    "\n",
    "Так как $w_c^T P^T X^T  y=(y^T P X w_c)^T$ и т.к. это матрица 1x1: \n",
    "\n",
    "$$\n",
    "(1x5000) @ (5000x4)  @ (4x4) @ (4x1) = (1x1)\n",
    "$$\n",
    "\n",
    "То транспонированная матрица равна нетранспонированной, таким образом мы можем заменить $y^T X P w_c$ на $w_c^T P^T X^T y$ и получаем финальное выражение для $MSE_c$:\n",
    "\n",
    "$$\n",
    "MSE_c=\\frac{1}{n}(y^T y - 2 w_c^T P^T X^T y + w_c^T P^T X^T X P w_c) \n",
    "$$\n",
    "\n",
    "Далее чтобы минимизировать данную функцию нужно взять её градиент:\n",
    "\n",
    "$$\n",
    "\\Delta MSE_c=\\frac{1}{n}(\\Delta y^T y - 2 \\Delta w_c^T P^T X^T y + \\Delta w_c^T P^T X^T XPw_c) \n",
    "$$\n",
    "\n",
    "используя следующие правила дифференциирования матриц продифференцируем по $ w_c $ :\n",
    "\n",
    "* Если $ F=w_c^T A w_c $ ,то $ \\frac{\\delta F}{\\delta w_c} = 2Aw_c $ для симметричной $A$\n",
    "* Если $ F=w_c^T A $ ,то $ \\frac{\\delta F}{\\delta w_c} = A $\n",
    "$$\n",
    "\\Delta MSE_c=\\frac{1}{n}(0 - 2 P^T X^T y + 2 P^T X^T X P w_c) \n",
    "$$\n",
    "\n",
    "$$\n",
    "=\\frac{2}{n}(P^TX^T X P w_c-  P^TX^T y) \n",
    "$$\n",
    "\n",
    "Приравнивая это выражение нулю находим экстремум (минимум):\n",
    "\n",
    "$$\n",
    "\\frac{2}{n}(P^TX^T X P w_c-  P^TX^T y) =0\n",
    "$$\n",
    "\n",
    "$$\n",
    "P^TX^T X P w_c=P^TX^T y\n",
    "$$\n",
    "\n",
    "Откуда получаем формулу для $w_c$:\n",
    "\n",
    "$$\n",
    "w_c= (P^TX^T XP)^{-1}P^T X^T y\n",
    "$$\n",
    "\n",
    "\n",
    "Или можно ее записать так:\n",
    "\n",
    "$$\n",
    "w_c = ((XP)^T XP)^{-1}(XP)^T y\n",
    "$$\n",
    "\n",
    "Вернемся к предыдущему выражению, а именно:\n",
    "\n",
    "$$\n",
    "w_c= (P^TX^T XP)^{-1}P^T X^T y\n",
    "$$\n",
    "\n",
    "И подставим в него выражение из предыдущего пункта c обычным $w$, чтобы найти связь между $w_c$ и $w$:\n",
    "\n",
    "$$\n",
    "X^T X w=X^T y\n",
    "$$\n",
    "\n",
    "Вместо $X^T y$ подставляем $X^T X w$:\n",
    "\n",
    "$$\n",
    "w_c= (P^TX^T XP)^{-1}P^T X^T X w\n",
    "$$\n",
    "\n",
    "или\n",
    "\n",
    "$$\n",
    "w_c= (P^T(X^T XP))^{-1}P^T X^T X w\n",
    "$$\n",
    "\n",
    "\n",
    "далее используя свойства обратных матриц, а именно, что $(A^{-1})^T=(A^T)^{-1}$, $(A B)^T=B^T A^T$ и  $A^{-1} A=A  A^{-1}=E$ преобразуем к:\n",
    "\n",
    "$$\n",
    "w_c= (X^T XP)^{-1}(P^T)^{-1}P^T X^T X w\n",
    "$$\n",
    "\n",
    "$$\n",
    "w_c= (X^T XP)^{-1}X^T X w\n",
    "$$\n",
    "\n",
    "$$\n",
    "w_c= P^{-1}(X^T X)^{-1}(X^T X) w\n",
    "$$\n",
    "\n",
    "$$\n",
    "w_c= P^{-1}w\n",
    "$$\n",
    "\n",
    "Подставив это в формулу для $MSE_c$\n",
    "$$\n",
    "MSE_c=\\frac{1}{n}(y-XPw_c)^T(y-XPw_c) \n",
    "$$\n",
    "\n",
    "Получаем:\n",
    "$$\n",
    "MSE_c=\\frac{1}{n}(y-XPP^{-1}w)^T(y-XPP^{-1}w) \n",
    "$$\n",
    "И получаем, что:\n",
    "$$\n",
    "MSE_c=MSE =\\frac{1}{n}(y-Xw)^T(y-Xw) \n",
    "$$\n",
    "\n"
   ]
  },
  {
   "cell_type": "markdown",
   "metadata": {},
   "source": [
    "**Ответ:** Качество линейной регрессии (MSE) не изменится при умножении признаков на обратимую матрицу.\n",
    "\n",
    "**Обоснование:** Так как, в таком случае среднеквадратичное отклонение (MSE) ошибки для преобразованной матрицы равно среднеквадратичному отклонению (MSE) ошибки для исходной матрицы, что мы показали выше."
   ]
  },
  {
   "cell_type": "markdown",
   "metadata": {
    "tags": []
   },
   "source": [
    "## Алгоритм преобразования"
   ]
  },
  {
   "cell_type": "markdown",
   "metadata": {},
   "source": [
    "**Алгоритм**"
   ]
  },
  {
   "cell_type": "markdown",
   "metadata": {},
   "source": [
    "Создадим матрицу $P$ (на которую будем умножать признаки) из случайных вещественных чисел в диапазоне [0.0, 1.0), назовем её `encryption_matrix`:"
   ]
  },
  {
   "cell_type": "code",
   "execution_count": 9,
   "metadata": {},
   "outputs": [],
   "source": [
    "rng = default_rng(5_12_22)"
   ]
  },
  {
   "cell_type": "code",
   "execution_count": 10,
   "metadata": {},
   "outputs": [
    {
     "data": {
      "text/plain": [
       "array([[0.21974032, 0.51943398, 0.50929578, 0.16595714],\n",
       "       [0.73401819, 0.20145713, 0.88959769, 0.08139564],\n",
       "       [0.82854767, 0.31178531, 0.97267918, 0.87623969],\n",
       "       [0.109165  , 0.44105726, 0.5550065 , 0.60649281]])"
      ]
     },
     "execution_count": 10,
     "metadata": {},
     "output_type": "execute_result"
    }
   ],
   "source": [
    "encryption_matrix = rng.random((X.shape[1], X.shape[1]))\n",
    "encryption_matrix"
   ]
  },
  {
   "cell_type": "markdown",
   "metadata": {},
   "source": [
    "Проверим что матрица обратима, то есть ее определитель не равен нулю:"
   ]
  },
  {
   "cell_type": "code",
   "execution_count": 11,
   "metadata": {},
   "outputs": [
    {
     "name": "stdout",
     "output_type": "stream",
     "text": [
      "det(P)= 0.0644257343269832\n"
     ]
    }
   ],
   "source": [
    "print(\"det(P)=\", np.linalg.det(encryption_matrix))"
   ]
  },
  {
   "cell_type": "markdown",
   "metadata": {},
   "source": [
    "В `X_c` запишем резкльтат умножения признаков на матрицу $P$:"
   ]
  },
  {
   "cell_type": "code",
   "execution_count": 12,
   "metadata": {},
   "outputs": [
    {
     "data": {
      "text/html": [
       "<div>\n",
       "<style scoped>\n",
       "    .dataframe tbody tr th:only-of-type {\n",
       "        vertical-align: middle;\n",
       "    }\n",
       "\n",
       "    .dataframe tbody tr th {\n",
       "        vertical-align: top;\n",
       "    }\n",
       "\n",
       "    .dataframe thead th {\n",
       "        text-align: right;\n",
       "    }\n",
       "</style>\n",
       "<table border=\"1\" class=\"dataframe\">\n",
       "  <thead>\n",
       "    <tr style=\"text-align: right;\">\n",
       "      <th></th>\n",
       "      <th>0</th>\n",
       "      <th>1</th>\n",
       "      <th>2</th>\n",
       "      <th>3</th>\n",
       "    </tr>\n",
       "  </thead>\n",
       "  <tbody>\n",
       "    <tr>\n",
       "      <th>0</th>\n",
       "      <td>41126.388189</td>\n",
       "      <td>15473.771703</td>\n",
       "      <td>48282.425209</td>\n",
       "      <td>43465.598129</td>\n",
       "    </tr>\n",
       "    <tr>\n",
       "      <th>1</th>\n",
       "      <td>31518.685542</td>\n",
       "      <td>11857.549937</td>\n",
       "      <td>37003.285397</td>\n",
       "      <td>33301.458785</td>\n",
       "    </tr>\n",
       "    <tr>\n",
       "      <th>2</th>\n",
       "      <td>17420.787642</td>\n",
       "      <td>6553.333806</td>\n",
       "      <td>20452.061144</td>\n",
       "      <td>18403.393893</td>\n",
       "    </tr>\n",
       "    <tr>\n",
       "      <th>3</th>\n",
       "      <td>34566.070640</td>\n",
       "      <td>13006.560220</td>\n",
       "      <td>40580.513432</td>\n",
       "      <td>36542.117228</td>\n",
       "    </tr>\n",
       "    <tr>\n",
       "      <th>4</th>\n",
       "      <td>21645.866492</td>\n",
       "      <td>8143.756874</td>\n",
       "      <td>25412.344668</td>\n",
       "      <td>22872.300857</td>\n",
       "    </tr>\n",
       "    <tr>\n",
       "      <th>...</th>\n",
       "      <td>...</td>\n",
       "      <td>...</td>\n",
       "      <td>...</td>\n",
       "      <td>...</td>\n",
       "    </tr>\n",
       "    <tr>\n",
       "      <th>4995</th>\n",
       "      <td>29599.922734</td>\n",
       "      <td>11137.258549</td>\n",
       "      <td>34750.665527</td>\n",
       "      <td>31285.248877</td>\n",
       "    </tr>\n",
       "    <tr>\n",
       "      <th>4996</th>\n",
       "      <td>43440.963803</td>\n",
       "      <td>16344.840943</td>\n",
       "      <td>50999.190438</td>\n",
       "      <td>45918.333525</td>\n",
       "    </tr>\n",
       "    <tr>\n",
       "      <th>4997</th>\n",
       "      <td>28102.664779</td>\n",
       "      <td>10574.433330</td>\n",
       "      <td>32992.726219</td>\n",
       "      <td>29707.366276</td>\n",
       "    </tr>\n",
       "    <tr>\n",
       "      <th>4998</th>\n",
       "      <td>27110.204514</td>\n",
       "      <td>10201.654362</td>\n",
       "      <td>31828.354699</td>\n",
       "      <td>28656.813893</td>\n",
       "    </tr>\n",
       "    <tr>\n",
       "      <th>4999</th>\n",
       "      <td>33659.916903</td>\n",
       "      <td>12665.084954</td>\n",
       "      <td>39516.747806</td>\n",
       "      <td>35578.382806</td>\n",
       "    </tr>\n",
       "  </tbody>\n",
       "</table>\n",
       "<p>5000 rows × 4 columns</p>\n",
       "</div>"
      ],
      "text/plain": [
       "                 0             1             2             3\n",
       "0     41126.388189  15473.771703  48282.425209  43465.598129\n",
       "1     31518.685542  11857.549937  37003.285397  33301.458785\n",
       "2     17420.787642   6553.333806  20452.061144  18403.393893\n",
       "3     34566.070640  13006.560220  40580.513432  36542.117228\n",
       "4     21645.866492   8143.756874  25412.344668  22872.300857\n",
       "...            ...           ...           ...           ...\n",
       "4995  29599.922734  11137.258549  34750.665527  31285.248877\n",
       "4996  43440.963803  16344.840943  50999.190438  45918.333525\n",
       "4997  28102.664779  10574.433330  32992.726219  29707.366276\n",
       "4998  27110.204514  10201.654362  31828.354699  28656.813893\n",
       "4999  33659.916903  12665.084954  39516.747806  35578.382806\n",
       "\n",
       "[5000 rows x 4 columns]"
      ]
     },
     "execution_count": 12,
     "metadata": {},
     "output_type": "execute_result"
    }
   ],
   "source": [
    "X_c = X @ encryption_matrix\n",
    "X_c"
   ]
  },
  {
   "cell_type": "markdown",
   "metadata": {},
   "source": [
    "Убедимся, еще раз, что наша матрица обратима, найдем обратную матрицу:"
   ]
  },
  {
   "cell_type": "code",
   "execution_count": 13,
   "metadata": {},
   "outputs": [
    {
     "data": {
      "text/plain": [
       "array([[ 2.72597509, -1.73625286,  2.58102027, -4.24187058],\n",
       "       [ 3.99066664, -1.95184762,  0.96357009, -2.22216333],\n",
       "       [-3.10228144,  3.09979741, -2.44602429,  3.96680601],\n",
       "       [-0.55385187, -1.10470084,  1.07307576,  0.39829314]])"
      ]
     },
     "execution_count": 13,
     "metadata": {},
     "output_type": "execute_result"
    }
   ],
   "source": [
    "inverse_matrix = np.linalg.inv(encryption_matrix)\n",
    "inverse_matrix"
   ]
  },
  {
   "cell_type": "markdown",
   "metadata": {},
   "source": [
    "Убедимся, что детерминант обратной матрицы равен $\\frac{1}{det(P)}$:"
   ]
  },
  {
   "cell_type": "code",
   "execution_count": 14,
   "metadata": {},
   "outputs": [
    {
     "name": "stdout",
     "output_type": "stream",
     "text": [
      "1/det(P)= 15.521747799173685\n",
      "det(inverse(P))= 15.521747799173685\n"
     ]
    }
   ],
   "source": [
    "print(\"1/det(P)=\", 1 / np.linalg.det(encryption_matrix))\n",
    "print(\"det(inverse(P))=\", np.linalg.det(inverse_matrix))"
   ]
  },
  {
   "cell_type": "markdown",
   "metadata": {},
   "source": [
    "Декодируем значения признаков из `X_c` с помощью обратной матрицы:"
   ]
  },
  {
   "cell_type": "code",
   "execution_count": 15,
   "metadata": {},
   "outputs": [
    {
     "data": {
      "text/html": [
       "<div>\n",
       "<style scoped>\n",
       "    .dataframe tbody tr th:only-of-type {\n",
       "        vertical-align: middle;\n",
       "    }\n",
       "\n",
       "    .dataframe tbody tr th {\n",
       "        vertical-align: top;\n",
       "    }\n",
       "\n",
       "    .dataframe thead th {\n",
       "        text-align: right;\n",
       "    }\n",
       "</style>\n",
       "<table border=\"1\" class=\"dataframe\">\n",
       "  <thead>\n",
       "    <tr style=\"text-align: right;\">\n",
       "      <th></th>\n",
       "      <th>0</th>\n",
       "      <th>1</th>\n",
       "      <th>2</th>\n",
       "      <th>3</th>\n",
       "    </tr>\n",
       "  </thead>\n",
       "  <tbody>\n",
       "    <tr>\n",
       "      <th>0</th>\n",
       "      <td>1.000000e+00</td>\n",
       "      <td>41.0</td>\n",
       "      <td>49600.0</td>\n",
       "      <td>1.000000e+00</td>\n",
       "    </tr>\n",
       "    <tr>\n",
       "      <th>1</th>\n",
       "      <td>-1.109554e-11</td>\n",
       "      <td>46.0</td>\n",
       "      <td>38000.0</td>\n",
       "      <td>1.000000e+00</td>\n",
       "    </tr>\n",
       "    <tr>\n",
       "      <th>2</th>\n",
       "      <td>1.782111e-13</td>\n",
       "      <td>29.0</td>\n",
       "      <td>21000.0</td>\n",
       "      <td>1.854575e-11</td>\n",
       "    </tr>\n",
       "    <tr>\n",
       "      <th>3</th>\n",
       "      <td>-2.599650e-12</td>\n",
       "      <td>21.0</td>\n",
       "      <td>41700.0</td>\n",
       "      <td>2.000000e+00</td>\n",
       "    </tr>\n",
       "    <tr>\n",
       "      <th>4</th>\n",
       "      <td>1.000000e+00</td>\n",
       "      <td>28.0</td>\n",
       "      <td>26100.0</td>\n",
       "      <td>2.282261e-11</td>\n",
       "    </tr>\n",
       "    <tr>\n",
       "      <th>...</th>\n",
       "      <td>...</td>\n",
       "      <td>...</td>\n",
       "      <td>...</td>\n",
       "      <td>...</td>\n",
       "    </tr>\n",
       "    <tr>\n",
       "      <th>4995</th>\n",
       "      <td>-1.267589e-11</td>\n",
       "      <td>28.0</td>\n",
       "      <td>35700.0</td>\n",
       "      <td>2.000000e+00</td>\n",
       "    </tr>\n",
       "    <tr>\n",
       "      <th>4996</th>\n",
       "      <td>1.220474e-11</td>\n",
       "      <td>34.0</td>\n",
       "      <td>52400.0</td>\n",
       "      <td>1.000000e+00</td>\n",
       "    </tr>\n",
       "    <tr>\n",
       "      <th>4997</th>\n",
       "      <td>-2.139138e-11</td>\n",
       "      <td>20.0</td>\n",
       "      <td>33900.0</td>\n",
       "      <td>2.000000e+00</td>\n",
       "    </tr>\n",
       "    <tr>\n",
       "      <th>4998</th>\n",
       "      <td>1.000000e+00</td>\n",
       "      <td>22.0</td>\n",
       "      <td>32700.0</td>\n",
       "      <td>3.000000e+00</td>\n",
       "    </tr>\n",
       "    <tr>\n",
       "      <th>4999</th>\n",
       "      <td>1.000000e+00</td>\n",
       "      <td>28.0</td>\n",
       "      <td>40600.0</td>\n",
       "      <td>1.000000e+00</td>\n",
       "    </tr>\n",
       "  </tbody>\n",
       "</table>\n",
       "<p>5000 rows × 4 columns</p>\n",
       "</div>"
      ],
      "text/plain": [
       "                 0     1        2             3\n",
       "0     1.000000e+00  41.0  49600.0  1.000000e+00\n",
       "1    -1.109554e-11  46.0  38000.0  1.000000e+00\n",
       "2     1.782111e-13  29.0  21000.0  1.854575e-11\n",
       "3    -2.599650e-12  21.0  41700.0  2.000000e+00\n",
       "4     1.000000e+00  28.0  26100.0  2.282261e-11\n",
       "...            ...   ...      ...           ...\n",
       "4995 -1.267589e-11  28.0  35700.0  2.000000e+00\n",
       "4996  1.220474e-11  34.0  52400.0  1.000000e+00\n",
       "4997 -2.139138e-11  20.0  33900.0  2.000000e+00\n",
       "4998  1.000000e+00  22.0  32700.0  3.000000e+00\n",
       "4999  1.000000e+00  28.0  40600.0  1.000000e+00\n",
       "\n",
       "[5000 rows x 4 columns]"
      ]
     },
     "execution_count": 15,
     "metadata": {},
     "output_type": "execute_result"
    }
   ],
   "source": [
    "X_c @ inverse_matrix"
   ]
  },
  {
   "cell_type": "markdown",
   "metadata": {},
   "source": [
    "Видим, что получили исходные значения, но возникла погрешность из-за особенности операций с числами с плавающей запятой."
   ]
  },
  {
   "cell_type": "markdown",
   "metadata": {},
   "source": [
    "### Класс-шифровальщик"
   ]
  },
  {
   "cell_type": "markdown",
   "metadata": {},
   "source": [
    "Напишем класс для шифрования численных признаков:"
   ]
  },
  {
   "cell_type": "code",
   "execution_count": 16,
   "metadata": {},
   "outputs": [],
   "source": [
    "class NumericFeaturesEncrypter:\n",
    "    def __init__(self):\n",
    "        self.random_state = 5_12_22\n",
    "\n",
    "    def transform(self, X, **transform_params):\n",
    "        rng = default_rng(self.random_state)\n",
    "        self.encryption_matrix = rng.random((self.matrix_size, self.matrix_size))\n",
    "        return X @ self.encryption_matrix\n",
    "\n",
    "    def get_encrypt_matrix(self):\n",
    "        return self.encryption_matrix\n",
    "\n",
    "    def get_decrypt_matrix(self):\n",
    "        return np.linalg.inv(self.encryption_matrix)\n",
    "\n",
    "    def fit(self, X, y=None, **fit_params):\n",
    "        self.matrix_size = X.shape[1]\n",
    "        return self\n",
    "\n",
    "    def fit_transform(self, X, y=None, **fit_params):\n",
    "        self.fit(X)\n",
    "        return self.transform(X)"
   ]
  },
  {
   "cell_type": "markdown",
   "metadata": {},
   "source": [
    "С помощью класса произведем все действия аналогично произведенным выше, убедимся, что получили те же результаты:"
   ]
  },
  {
   "cell_type": "code",
   "execution_count": 17,
   "metadata": {},
   "outputs": [],
   "source": [
    "encryptor = NumericFeaturesEncrypter()"
   ]
  },
  {
   "cell_type": "code",
   "execution_count": 18,
   "metadata": {},
   "outputs": [
    {
     "data": {
      "text/html": [
       "<div>\n",
       "<style scoped>\n",
       "    .dataframe tbody tr th:only-of-type {\n",
       "        vertical-align: middle;\n",
       "    }\n",
       "\n",
       "    .dataframe tbody tr th {\n",
       "        vertical-align: top;\n",
       "    }\n",
       "\n",
       "    .dataframe thead th {\n",
       "        text-align: right;\n",
       "    }\n",
       "</style>\n",
       "<table border=\"1\" class=\"dataframe\">\n",
       "  <thead>\n",
       "    <tr style=\"text-align: right;\">\n",
       "      <th></th>\n",
       "      <th>0</th>\n",
       "      <th>1</th>\n",
       "      <th>2</th>\n",
       "      <th>3</th>\n",
       "    </tr>\n",
       "  </thead>\n",
       "  <tbody>\n",
       "    <tr>\n",
       "      <th>0</th>\n",
       "      <td>41126.388189</td>\n",
       "      <td>15473.771703</td>\n",
       "      <td>48282.425209</td>\n",
       "      <td>43465.598129</td>\n",
       "    </tr>\n",
       "    <tr>\n",
       "      <th>1</th>\n",
       "      <td>31518.685542</td>\n",
       "      <td>11857.549937</td>\n",
       "      <td>37003.285397</td>\n",
       "      <td>33301.458785</td>\n",
       "    </tr>\n",
       "    <tr>\n",
       "      <th>2</th>\n",
       "      <td>17420.787642</td>\n",
       "      <td>6553.333806</td>\n",
       "      <td>20452.061144</td>\n",
       "      <td>18403.393893</td>\n",
       "    </tr>\n",
       "    <tr>\n",
       "      <th>3</th>\n",
       "      <td>34566.070640</td>\n",
       "      <td>13006.560220</td>\n",
       "      <td>40580.513432</td>\n",
       "      <td>36542.117228</td>\n",
       "    </tr>\n",
       "    <tr>\n",
       "      <th>4</th>\n",
       "      <td>21645.866492</td>\n",
       "      <td>8143.756874</td>\n",
       "      <td>25412.344668</td>\n",
       "      <td>22872.300857</td>\n",
       "    </tr>\n",
       "    <tr>\n",
       "      <th>...</th>\n",
       "      <td>...</td>\n",
       "      <td>...</td>\n",
       "      <td>...</td>\n",
       "      <td>...</td>\n",
       "    </tr>\n",
       "    <tr>\n",
       "      <th>4995</th>\n",
       "      <td>29599.922734</td>\n",
       "      <td>11137.258549</td>\n",
       "      <td>34750.665527</td>\n",
       "      <td>31285.248877</td>\n",
       "    </tr>\n",
       "    <tr>\n",
       "      <th>4996</th>\n",
       "      <td>43440.963803</td>\n",
       "      <td>16344.840943</td>\n",
       "      <td>50999.190438</td>\n",
       "      <td>45918.333525</td>\n",
       "    </tr>\n",
       "    <tr>\n",
       "      <th>4997</th>\n",
       "      <td>28102.664779</td>\n",
       "      <td>10574.433330</td>\n",
       "      <td>32992.726219</td>\n",
       "      <td>29707.366276</td>\n",
       "    </tr>\n",
       "    <tr>\n",
       "      <th>4998</th>\n",
       "      <td>27110.204514</td>\n",
       "      <td>10201.654362</td>\n",
       "      <td>31828.354699</td>\n",
       "      <td>28656.813893</td>\n",
       "    </tr>\n",
       "    <tr>\n",
       "      <th>4999</th>\n",
       "      <td>33659.916903</td>\n",
       "      <td>12665.084954</td>\n",
       "      <td>39516.747806</td>\n",
       "      <td>35578.382806</td>\n",
       "    </tr>\n",
       "  </tbody>\n",
       "</table>\n",
       "<p>5000 rows × 4 columns</p>\n",
       "</div>"
      ],
      "text/plain": [
       "                 0             1             2             3\n",
       "0     41126.388189  15473.771703  48282.425209  43465.598129\n",
       "1     31518.685542  11857.549937  37003.285397  33301.458785\n",
       "2     17420.787642   6553.333806  20452.061144  18403.393893\n",
       "3     34566.070640  13006.560220  40580.513432  36542.117228\n",
       "4     21645.866492   8143.756874  25412.344668  22872.300857\n",
       "...            ...           ...           ...           ...\n",
       "4995  29599.922734  11137.258549  34750.665527  31285.248877\n",
       "4996  43440.963803  16344.840943  50999.190438  45918.333525\n",
       "4997  28102.664779  10574.433330  32992.726219  29707.366276\n",
       "4998  27110.204514  10201.654362  31828.354699  28656.813893\n",
       "4999  33659.916903  12665.084954  39516.747806  35578.382806\n",
       "\n",
       "[5000 rows x 4 columns]"
      ]
     },
     "execution_count": 18,
     "metadata": {},
     "output_type": "execute_result"
    }
   ],
   "source": [
    "encryptor.fit(X)\n",
    "encryptor.transform(X)"
   ]
  },
  {
   "cell_type": "code",
   "execution_count": 19,
   "metadata": {},
   "outputs": [
    {
     "data": {
      "text/plain": [
       "array([[0.21974032, 0.51943398, 0.50929578, 0.16595714],\n",
       "       [0.73401819, 0.20145713, 0.88959769, 0.08139564],\n",
       "       [0.82854767, 0.31178531, 0.97267918, 0.87623969],\n",
       "       [0.109165  , 0.44105726, 0.5550065 , 0.60649281]])"
      ]
     },
     "execution_count": 19,
     "metadata": {},
     "output_type": "execute_result"
    }
   ],
   "source": [
    "encryptor.get_encrypt_matrix()"
   ]
  },
  {
   "cell_type": "code",
   "execution_count": 20,
   "metadata": {},
   "outputs": [
    {
     "data": {
      "text/plain": [
       "array([[ 2.72597509, -1.73625286,  2.58102027, -4.24187058],\n",
       "       [ 3.99066664, -1.95184762,  0.96357009, -2.22216333],\n",
       "       [-3.10228144,  3.09979741, -2.44602429,  3.96680601],\n",
       "       [-0.55385187, -1.10470084,  1.07307576,  0.39829314]])"
      ]
     },
     "execution_count": 20,
     "metadata": {},
     "output_type": "execute_result"
    }
   ],
   "source": [
    "encryptor.get_decrypt_matrix()"
   ]
  },
  {
   "cell_type": "code",
   "execution_count": 21,
   "metadata": {},
   "outputs": [
    {
     "data": {
      "text/html": [
       "<div>\n",
       "<style scoped>\n",
       "    .dataframe tbody tr th:only-of-type {\n",
       "        vertical-align: middle;\n",
       "    }\n",
       "\n",
       "    .dataframe tbody tr th {\n",
       "        vertical-align: top;\n",
       "    }\n",
       "\n",
       "    .dataframe thead th {\n",
       "        text-align: right;\n",
       "    }\n",
       "</style>\n",
       "<table border=\"1\" class=\"dataframe\">\n",
       "  <thead>\n",
       "    <tr style=\"text-align: right;\">\n",
       "      <th></th>\n",
       "      <th>0</th>\n",
       "      <th>1</th>\n",
       "      <th>2</th>\n",
       "      <th>3</th>\n",
       "    </tr>\n",
       "  </thead>\n",
       "  <tbody>\n",
       "    <tr>\n",
       "      <th>0</th>\n",
       "      <td>1.000000e+00</td>\n",
       "      <td>41.0</td>\n",
       "      <td>49600.0</td>\n",
       "      <td>1.000000e+00</td>\n",
       "    </tr>\n",
       "    <tr>\n",
       "      <th>1</th>\n",
       "      <td>-1.109554e-11</td>\n",
       "      <td>46.0</td>\n",
       "      <td>38000.0</td>\n",
       "      <td>1.000000e+00</td>\n",
       "    </tr>\n",
       "    <tr>\n",
       "      <th>2</th>\n",
       "      <td>1.782111e-13</td>\n",
       "      <td>29.0</td>\n",
       "      <td>21000.0</td>\n",
       "      <td>1.854575e-11</td>\n",
       "    </tr>\n",
       "    <tr>\n",
       "      <th>3</th>\n",
       "      <td>-2.599650e-12</td>\n",
       "      <td>21.0</td>\n",
       "      <td>41700.0</td>\n",
       "      <td>2.000000e+00</td>\n",
       "    </tr>\n",
       "    <tr>\n",
       "      <th>4</th>\n",
       "      <td>1.000000e+00</td>\n",
       "      <td>28.0</td>\n",
       "      <td>26100.0</td>\n",
       "      <td>2.282261e-11</td>\n",
       "    </tr>\n",
       "    <tr>\n",
       "      <th>...</th>\n",
       "      <td>...</td>\n",
       "      <td>...</td>\n",
       "      <td>...</td>\n",
       "      <td>...</td>\n",
       "    </tr>\n",
       "    <tr>\n",
       "      <th>4995</th>\n",
       "      <td>-1.267589e-11</td>\n",
       "      <td>28.0</td>\n",
       "      <td>35700.0</td>\n",
       "      <td>2.000000e+00</td>\n",
       "    </tr>\n",
       "    <tr>\n",
       "      <th>4996</th>\n",
       "      <td>1.220474e-11</td>\n",
       "      <td>34.0</td>\n",
       "      <td>52400.0</td>\n",
       "      <td>1.000000e+00</td>\n",
       "    </tr>\n",
       "    <tr>\n",
       "      <th>4997</th>\n",
       "      <td>-2.139138e-11</td>\n",
       "      <td>20.0</td>\n",
       "      <td>33900.0</td>\n",
       "      <td>2.000000e+00</td>\n",
       "    </tr>\n",
       "    <tr>\n",
       "      <th>4998</th>\n",
       "      <td>1.000000e+00</td>\n",
       "      <td>22.0</td>\n",
       "      <td>32700.0</td>\n",
       "      <td>3.000000e+00</td>\n",
       "    </tr>\n",
       "    <tr>\n",
       "      <th>4999</th>\n",
       "      <td>1.000000e+00</td>\n",
       "      <td>28.0</td>\n",
       "      <td>40600.0</td>\n",
       "      <td>1.000000e+00</td>\n",
       "    </tr>\n",
       "  </tbody>\n",
       "</table>\n",
       "<p>5000 rows × 4 columns</p>\n",
       "</div>"
      ],
      "text/plain": [
       "                 0     1        2             3\n",
       "0     1.000000e+00  41.0  49600.0  1.000000e+00\n",
       "1    -1.109554e-11  46.0  38000.0  1.000000e+00\n",
       "2     1.782111e-13  29.0  21000.0  1.854575e-11\n",
       "3    -2.599650e-12  21.0  41700.0  2.000000e+00\n",
       "4     1.000000e+00  28.0  26100.0  2.282261e-11\n",
       "...            ...   ...      ...           ...\n",
       "4995 -1.267589e-11  28.0  35700.0  2.000000e+00\n",
       "4996  1.220474e-11  34.0  52400.0  1.000000e+00\n",
       "4997 -2.139138e-11  20.0  33900.0  2.000000e+00\n",
       "4998  1.000000e+00  22.0  32700.0  3.000000e+00\n",
       "4999  1.000000e+00  28.0  40600.0  1.000000e+00\n",
       "\n",
       "[5000 rows x 4 columns]"
      ]
     },
     "execution_count": 21,
     "metadata": {},
     "output_type": "execute_result"
    }
   ],
   "source": [
    "encryptor.transform(X) @ encryptor.get_decrypt_matrix()"
   ]
  },
  {
   "cell_type": "code",
   "execution_count": 22,
   "metadata": {},
   "outputs": [
    {
     "data": {
      "text/html": [
       "<div>\n",
       "<style scoped>\n",
       "    .dataframe tbody tr th:only-of-type {\n",
       "        vertical-align: middle;\n",
       "    }\n",
       "\n",
       "    .dataframe tbody tr th {\n",
       "        vertical-align: top;\n",
       "    }\n",
       "\n",
       "    .dataframe thead th {\n",
       "        text-align: right;\n",
       "    }\n",
       "</style>\n",
       "<table border=\"1\" class=\"dataframe\">\n",
       "  <thead>\n",
       "    <tr style=\"text-align: right;\">\n",
       "      <th></th>\n",
       "      <th>0</th>\n",
       "      <th>1</th>\n",
       "      <th>2</th>\n",
       "      <th>3</th>\n",
       "    </tr>\n",
       "  </thead>\n",
       "  <tbody>\n",
       "    <tr>\n",
       "      <th>0</th>\n",
       "      <td>41126.388189</td>\n",
       "      <td>15473.771703</td>\n",
       "      <td>48282.425209</td>\n",
       "      <td>43465.598129</td>\n",
       "    </tr>\n",
       "    <tr>\n",
       "      <th>1</th>\n",
       "      <td>31518.685542</td>\n",
       "      <td>11857.549937</td>\n",
       "      <td>37003.285397</td>\n",
       "      <td>33301.458785</td>\n",
       "    </tr>\n",
       "    <tr>\n",
       "      <th>2</th>\n",
       "      <td>17420.787642</td>\n",
       "      <td>6553.333806</td>\n",
       "      <td>20452.061144</td>\n",
       "      <td>18403.393893</td>\n",
       "    </tr>\n",
       "    <tr>\n",
       "      <th>3</th>\n",
       "      <td>34566.070640</td>\n",
       "      <td>13006.560220</td>\n",
       "      <td>40580.513432</td>\n",
       "      <td>36542.117228</td>\n",
       "    </tr>\n",
       "    <tr>\n",
       "      <th>4</th>\n",
       "      <td>21645.866492</td>\n",
       "      <td>8143.756874</td>\n",
       "      <td>25412.344668</td>\n",
       "      <td>22872.300857</td>\n",
       "    </tr>\n",
       "    <tr>\n",
       "      <th>...</th>\n",
       "      <td>...</td>\n",
       "      <td>...</td>\n",
       "      <td>...</td>\n",
       "      <td>...</td>\n",
       "    </tr>\n",
       "    <tr>\n",
       "      <th>4995</th>\n",
       "      <td>29599.922734</td>\n",
       "      <td>11137.258549</td>\n",
       "      <td>34750.665527</td>\n",
       "      <td>31285.248877</td>\n",
       "    </tr>\n",
       "    <tr>\n",
       "      <th>4996</th>\n",
       "      <td>43440.963803</td>\n",
       "      <td>16344.840943</td>\n",
       "      <td>50999.190438</td>\n",
       "      <td>45918.333525</td>\n",
       "    </tr>\n",
       "    <tr>\n",
       "      <th>4997</th>\n",
       "      <td>28102.664779</td>\n",
       "      <td>10574.433330</td>\n",
       "      <td>32992.726219</td>\n",
       "      <td>29707.366276</td>\n",
       "    </tr>\n",
       "    <tr>\n",
       "      <th>4998</th>\n",
       "      <td>27110.204514</td>\n",
       "      <td>10201.654362</td>\n",
       "      <td>31828.354699</td>\n",
       "      <td>28656.813893</td>\n",
       "    </tr>\n",
       "    <tr>\n",
       "      <th>4999</th>\n",
       "      <td>33659.916903</td>\n",
       "      <td>12665.084954</td>\n",
       "      <td>39516.747806</td>\n",
       "      <td>35578.382806</td>\n",
       "    </tr>\n",
       "  </tbody>\n",
       "</table>\n",
       "<p>5000 rows × 4 columns</p>\n",
       "</div>"
      ],
      "text/plain": [
       "                 0             1             2             3\n",
       "0     41126.388189  15473.771703  48282.425209  43465.598129\n",
       "1     31518.685542  11857.549937  37003.285397  33301.458785\n",
       "2     17420.787642   6553.333806  20452.061144  18403.393893\n",
       "3     34566.070640  13006.560220  40580.513432  36542.117228\n",
       "4     21645.866492   8143.756874  25412.344668  22872.300857\n",
       "...            ...           ...           ...           ...\n",
       "4995  29599.922734  11137.258549  34750.665527  31285.248877\n",
       "4996  43440.963803  16344.840943  50999.190438  45918.333525\n",
       "4997  28102.664779  10574.433330  32992.726219  29707.366276\n",
       "4998  27110.204514  10201.654362  31828.354699  28656.813893\n",
       "4999  33659.916903  12665.084954  39516.747806  35578.382806\n",
       "\n",
       "[5000 rows x 4 columns]"
      ]
     },
     "execution_count": 22,
     "metadata": {},
     "output_type": "execute_result"
    }
   ],
   "source": [
    "encryptor.fit_transform(X)"
   ]
  },
  {
   "cell_type": "markdown",
   "metadata": {},
   "source": [
    "**Обоснование**\n",
    "\n",
    "Как мы уже показали выше, качество линейной регрессии рпи умножении на обратимую матрицу не меняется, поэтому в классе NumericFeaturesEncrypter просто умножим X на согласованную с ней по размеру квадратную матрицу из случайных значений в диапазоне [0,1)."
   ]
  },
  {
   "cell_type": "markdown",
   "metadata": {},
   "source": [
    "## Проверка алгоритма"
   ]
  },
  {
   "cell_type": "markdown",
   "metadata": {
    "tags": []
   },
   "source": [
    "### Разделение на обучающую/тестовую выборки"
   ]
  },
  {
   "cell_type": "markdown",
   "metadata": {},
   "source": [
    "Разобьем данные на обучающую и тестовые выборки, на вход подадим X, преобразованное X (с помощью  `encryptor.fit_transform()` ) и y:"
   ]
  },
  {
   "cell_type": "code",
   "execution_count": 23,
   "metadata": {},
   "outputs": [],
   "source": [
    "(X_train, X_test, X_train_c, X_test_c, y_train, y_test) = train_test_split(\n",
    "    X,\n",
    "    encryptor.fit_transform(X),\n",
    "    y,\n",
    "    test_size=0.25,\n",
    "    random_state=5_12_22,\n",
    ")"
   ]
  },
  {
   "cell_type": "markdown",
   "metadata": {
    "tags": []
   },
   "source": [
    "### DummyRegressor"
   ]
  },
  {
   "cell_type": "markdown",
   "metadata": {},
   "source": [
    "Для проверки результата на адекватность посмотрим на качество модели DummyRegressor:"
   ]
  },
  {
   "cell_type": "code",
   "execution_count": 24,
   "metadata": {
    "tags": []
   },
   "outputs": [
    {
     "name": "stdout",
     "output_type": "stream",
     "text": [
      "R2 score: -0.0006523974933918542\n"
     ]
    }
   ],
   "source": [
    "dummy = DummyRegressor()\n",
    "dummy.fit(X_train, y_train)\n",
    "print(\"R2 score:\", dummy.score(X_test, y_test))"
   ]
  },
  {
   "cell_type": "code",
   "execution_count": 25,
   "metadata": {},
   "outputs": [
    {
     "name": "stdout",
     "output_type": "stream",
     "text": [
      "R2 score: -0.0006523974933918542\n"
     ]
    }
   ],
   "source": [
    "dummy = DummyRegressor()\n",
    "dummy.fit(X_train_c, y_train)\n",
    "print(\"R2 score:\", dummy.score(X_test_c, y_test))"
   ]
  },
  {
   "cell_type": "markdown",
   "metadata": {
    "tags": []
   },
   "source": [
    "### Класс линейной регрессии"
   ]
  },
  {
   "cell_type": "markdown",
   "metadata": {},
   "source": [
    "Напишем функцию для расчета MSE:"
   ]
  },
  {
   "cell_type": "code",
   "execution_count": 26,
   "metadata": {
    "tags": []
   },
   "outputs": [],
   "source": [
    "def MSE(y_hat, y):\n",
    "    return ((y_hat - y) ** 2).sum() / len(y)"
   ]
  },
  {
   "cell_type": "markdown",
   "metadata": {},
   "source": [
    "Напишем наш собственный класс линейной регрессии с минимизацией функции потерь MSE. Для вычисления коэффициентов $w$ будем использовать формулу:\n",
    "\n",
    "$$\n",
    "w = (X^T X)^{-1} X^T y\n",
    "$$\n",
    "\n",
    ", где считается обратная матрица для квадратной, в таком случае мы можем использовать функцию\n",
    "\n",
    "```python \n",
    "np.linalg.inv(...)\n",
    "```\n",
    "\n",
    ", иначе нам пришлось бы получать псевдообратную матрицу для прямоугольной матрицы $ X $ в выражении $w =  X^{-1} y$\n",
    "\n",
    "В качестве score в нашем классе будем использовать коэффициент детерминации:\n",
    "\n",
    "$$\n",
    "R2 = 1- \\frac{MSE(model)}{MSE(mean)}\n",
    "$$"
   ]
  },
  {
   "cell_type": "code",
   "execution_count": 27,
   "metadata": {},
   "outputs": [],
   "source": [
    "class CustomLinearRegressionLossMSE(BaseEstimator):\n",
    "    def __init__(self):\n",
    "        pass\n",
    "\n",
    "    def fit(self, X, y):\n",
    "        # adding ones to X as first column - for w0\n",
    "        X_ext = np.column_stack((np.ones(len(X)), X))\n",
    "        self.w = (np.linalg.inv(X_ext.T @ X_ext) @ X_ext.T @ y).ravel()\n",
    "        return self\n",
    "\n",
    "    def predict(self, X):\n",
    "        return self.w[1:] @ X.T + self.w[0]\n",
    "        # return self.w @ np.column_stack((np.ones(len(X)), X)).T\n",
    "\n",
    "    def decision_function(self, X):\n",
    "        return self.w\n",
    "\n",
    "    def score(self, X, y):\n",
    "        return 1 - MSE(self.predict(X), y) / MSE([y.mean()] * len(y), y)"
   ]
  },
  {
   "cell_type": "markdown",
   "metadata": {},
   "source": [
    "### Результаты исходной задачи"
   ]
  },
  {
   "cell_type": "code",
   "execution_count": 28,
   "metadata": {},
   "outputs": [
    {
     "name": "stdout",
     "output_type": "stream",
     "text": [
      "Coefficients of linear regression:\n",
      " [-9.31393867e-01  5.76950437e-03  3.57076407e-02 -3.52913598e-07\n",
      " -9.90289607e-03]\n",
      "MSE of model: 0.12294534111615707\n",
      "R2 score: 0.4092244127922975\n"
     ]
    }
   ],
   "source": [
    "linear_regr = CustomLinearRegressionLossMSE()\n",
    "linear_regr.fit(X_train, y_train)\n",
    "w = linear_regr.decision_function(X_train)\n",
    "print(\"Coefficients of linear regression:\\n\", w)\n",
    "print(\"MSE of model:\", MSE(linear_regr.predict(X_train), y_train))\n",
    "print(\"R2 score:\", linear_regr.score(X_test, y_test))"
   ]
  },
  {
   "cell_type": "markdown",
   "metadata": {
    "tags": []
   },
   "source": [
    "### Результаты зашифрованной задачи"
   ]
  },
  {
   "cell_type": "code",
   "execution_count": 29,
   "metadata": {},
   "outputs": [
    {
     "name": "stdout",
     "output_type": "stream",
     "text": [
      "Coefficients of linear regression:\n",
      " [-0.93139612 -0.00426288 -0.02466476  0.05350453 -0.04658655]\n",
      "MSE of model: 0.12294534111648699\n",
      "R2 score: 0.4092244783008542\n"
     ]
    }
   ],
   "source": [
    "linear_regr_c = CustomLinearRegressionLossMSE()\n",
    "linear_regr_c.fit(X_train_c, y_train)\n",
    "w_c = linear_regr_c.decision_function(X_train_c)\n",
    "print(\"Coefficients of linear regression:\\n\", w_c)\n",
    "print(\"MSE of model:\", MSE(linear_regr_c.predict(X_train_c), y_train))\n",
    "print(\"R2 score:\", linear_regr_c.score(X_test_c, y_test))"
   ]
  },
  {
   "cell_type": "markdown",
   "metadata": {},
   "source": [
    "Видим, что MSE исходной задачи и преобразованной равны вплоть до 13 знака после запятой. Погрешность такого порядка, как мы уже видели, возникает при умножении матриц из чисел с плавающей запятой.\n",
    "\n",
    "Кроме того, видим, что коэф. детерминации R2 получился одинаковый до 11 знака после запятой. Опять же погрешность здесь могла вырасти относительно MSE из-за более сложной формулы для R2."
   ]
  },
  {
   "cell_type": "markdown",
   "metadata": {},
   "source": [
    "Проверим также следующую формулу связи коэффициентов:"
   ]
  },
  {
   "cell_type": "markdown",
   "metadata": {},
   "source": [
    "$$\n",
    "w_c = P^{-1}w\n",
    "$$\n"
   ]
  },
  {
   "cell_type": "markdown",
   "metadata": {},
   "source": [
    "Для этого добавим в матрицу-дешифровщик первую строку и столбец с элементами-нулями кроме самого первого элемента, чтобы при умножении получалось $w_0$:"
   ]
  },
  {
   "cell_type": "code",
   "execution_count": 30,
   "metadata": {},
   "outputs": [
    {
     "name": "stdout",
     "output_type": "stream",
     "text": [
      "[-0.93139612 -0.00426288 -0.02466476  0.05350453 -0.04658655]\n",
      "[-0.93139387 -0.00426408 -0.02466619  0.05350582 -0.04658635]\n"
     ]
    }
   ],
   "source": [
    "print(w_c)\n",
    "print(\n",
    "    np.row_stack(\n",
    "        (\n",
    "            np.array([1, 0, 0, 0, 0]),\n",
    "            np.column_stack((np.array([0, 0, 0, 0]), encryptor.get_decrypt_matrix())),\n",
    "        )\n",
    "    )\n",
    "    @ w\n",
    ")"
   ]
  },
  {
   "cell_type": "markdown",
   "metadata": {},
   "source": [
    "Также получили одинаковые с учетом погрешности результаты."
   ]
  },
  {
   "cell_type": "markdown",
   "metadata": {},
   "source": [
    "### Pipeline"
   ]
  },
  {
   "cell_type": "markdown",
   "metadata": {},
   "source": [
    "Так же проверим наши результы с помощью Pipeline, воспользовавшись нашими кастомными классами и добавим масштабирование и центрирование признаков с помощью `StandardScaler()` :"
   ]
  },
  {
   "cell_type": "code",
   "execution_count": 31,
   "metadata": {},
   "outputs": [],
   "source": [
    "pipeline_with_encrypt = Pipeline(\n",
    "    [\n",
    "        (\"scaler\", StandardScaler()),\n",
    "        (\"encrypt\", NumericFeaturesEncrypter()),\n",
    "        (\"model\", CustomLinearRegressionLossMSE()),\n",
    "    ]\n",
    ")\n",
    "\n",
    "pipeline_without_encrypt = Pipeline(\n",
    "    [\n",
    "        (\"scaler\", StandardScaler()),\n",
    "        (\"model\", CustomLinearRegressionLossMSE()),\n",
    "    ]\n",
    ")"
   ]
  },
  {
   "cell_type": "code",
   "execution_count": 32,
   "metadata": {},
   "outputs": [
    {
     "name": "stdout",
     "output_type": "stream",
     "text": [
      "Coefficients of linear regression for encrypted data:\n",
      " [ 0.15093333 -0.4834025  -0.56134947  0.89934054 -0.34550297]\n",
      "Coefficients of linear regression for not encrypted data:\n",
      " [ 0.15093333  0.00288465  0.30401476 -0.00351612 -0.01076311]\n"
     ]
    }
   ],
   "source": [
    "pipeline_with_encrypt.fit(X_train, y_train)\n",
    "pipeline_without_encrypt.fit(X_train, y_train)\n",
    "\n",
    "print(\n",
    "    \"Coefficients of linear regression for encrypted data:\\n\",\n",
    "    pipeline_with_encrypt.decision_function(X_train),\n",
    ")\n",
    "print(\n",
    "    \"Coefficients of linear regression for not encrypted data:\\n\",\n",
    "    pipeline_without_encrypt.decision_function(X_train),\n",
    ")"
   ]
  },
  {
   "cell_type": "markdown",
   "metadata": {},
   "source": [
    "Проверим что обе моделей выдают схожие результаты предсказаний с помощью `np.allclose`:"
   ]
  },
  {
   "cell_type": "code",
   "execution_count": 33,
   "metadata": {
    "tags": []
   },
   "outputs": [
    {
     "name": "stdout",
     "output_type": "stream",
     "text": [
      "All elements are close: True\n",
      "[ 0.49421506  0.17471674 -0.05257235 ...  0.3789891   0.63243643\n",
      " -0.2383143 ]\n",
      "[ 0.49421506  0.17471674 -0.05257235 ...  0.3789891   0.63243643\n",
      " -0.2383143 ]\n"
     ]
    }
   ],
   "source": [
    "print(\n",
    "    \"All elements are close:\",\n",
    "    np.allclose(\n",
    "        pipeline_with_encrypt.predict(X_test),\n",
    "        pipeline_without_encrypt.predict(X_test),\n",
    "    ),\n",
    ")\n",
    "print(pipeline_with_encrypt.predict(X_test))\n",
    "print(pipeline_without_encrypt.predict(X_test))"
   ]
  },
  {
   "cell_type": "code",
   "execution_count": 34,
   "metadata": {},
   "outputs": [
    {
     "name": "stdout",
     "output_type": "stream",
     "text": [
      "R2 score encrypted: 0.4092244127922975\n",
      "R2 score no encryption: 0.4092244127922975\n",
      "R2 scores are same:  True\n"
     ]
    }
   ],
   "source": [
    "print(\"R2 score encrypted:\", pipeline_with_encrypt.score(X_test, y_test))\n",
    "print(\"R2 score no encryption:\", pipeline_without_encrypt.score(X_test, y_test))\n",
    "print(\n",
    "    \"R2 scores are same: \",\n",
    "    pipeline_with_encrypt.score(X_test, y_test)\n",
    "    == pipeline_without_encrypt.score(X_test, y_test),\n",
    ")"
   ]
  },
  {
   "cell_type": "markdown",
   "metadata": {},
   "source": [
    "Благодаря масштабированию здесь уже получили полностью идентичные метрики качества для исходных и преобразованных признаков."
   ]
  },
  {
   "cell_type": "markdown",
   "metadata": {},
   "source": [
    "### Pipeline для LinearRegression из sklearn"
   ]
  },
  {
   "cell_type": "markdown",
   "metadata": {},
   "source": [
    "Также проверим на модели LinearRegression из sklearn:"
   ]
  },
  {
   "cell_type": "code",
   "execution_count": 35,
   "metadata": {},
   "outputs": [],
   "source": [
    "pipeline_with_encrypt = Pipeline(\n",
    "    [\n",
    "        (\"scaler\", StandardScaler()),\n",
    "        (\"encrypt\", NumericFeaturesEncrypter()),\n",
    "        (\"model\", LinearRegression()),\n",
    "    ]\n",
    ")\n",
    "\n",
    "pipeline_without_encrypt = Pipeline(\n",
    "    [\n",
    "        (\"scaler\", StandardScaler()),\n",
    "        (\"model\", LinearRegression()),\n",
    "    ]\n",
    ")"
   ]
  },
  {
   "cell_type": "code",
   "execution_count": 36,
   "metadata": {},
   "outputs": [
    {
     "name": "stdout",
     "output_type": "stream",
     "text": [
      "Coefficients of linear regression for encrypted data:\n",
      " [-0.4834025  -0.56134947  0.89934054 -0.34550297]\n",
      "Coefficients of linear regression for not encrypted data:\n",
      " [ 0.00288465  0.30401476 -0.00351612 -0.01076311]\n"
     ]
    }
   ],
   "source": [
    "pipeline_with_encrypt.fit(X_train, y_train)\n",
    "pipeline_without_encrypt.fit(X_train, y_train)\n",
    "print(\n",
    "    \"Coefficients of linear regression for encrypted data:\\n\",\n",
    "    pipeline_with_encrypt.named_steps[\"model\"].coef_,\n",
    ")\n",
    "print(\n",
    "    \"Coefficients of linear regression for not encrypted data:\\n\",\n",
    "    pipeline_without_encrypt.named_steps[\"model\"].coef_,\n",
    ")"
   ]
  },
  {
   "cell_type": "markdown",
   "metadata": {},
   "source": [
    "Проверим что обе моделей выдают схожие результаты предсказаний с помощью `np.allclose`:"
   ]
  },
  {
   "cell_type": "code",
   "execution_count": 37,
   "metadata": {
    "tags": []
   },
   "outputs": [
    {
     "name": "stdout",
     "output_type": "stream",
     "text": [
      "All elements are close: True\n",
      "[ 0.49421506  0.17471674 -0.05257235 ...  0.3789891   0.63243643\n",
      " -0.2383143 ]\n",
      "[ 0.49421506  0.17471674 -0.05257235 ...  0.3789891   0.63243643\n",
      " -0.2383143 ]\n"
     ]
    }
   ],
   "source": [
    "print(\n",
    "    \"All elements are close:\",\n",
    "    np.allclose(\n",
    "        pipeline_with_encrypt.predict(X_test),\n",
    "        pipeline_without_encrypt.predict(X_test),\n",
    "    ),\n",
    ")\n",
    "print(pipeline_with_encrypt.predict(X_test))\n",
    "print(pipeline_without_encrypt.predict(X_test))"
   ]
  },
  {
   "cell_type": "code",
   "execution_count": 38,
   "metadata": {},
   "outputs": [
    {
     "name": "stdout",
     "output_type": "stream",
     "text": [
      "R2 score encrypted: 0.4092244127922975\n",
      "R2 score no encryption: 0.4092244127922975\n",
      "R2 scores are same:  True\n"
     ]
    }
   ],
   "source": [
    "print(\"R2 score encrypted:\", pipeline_with_encrypt.score(X_test, y_test))\n",
    "print(\"R2 score no encryption:\", pipeline_without_encrypt.score(X_test, y_test))\n",
    "print(\n",
    "    \"R2 scores are same: \",\n",
    "    pipeline_with_encrypt.score(X_test, y_test)\n",
    "    == pipeline_without_encrypt.score(X_test, y_test),\n",
    ")"
   ]
  },
  {
   "cell_type": "markdown",
   "metadata": {},
   "source": [
    "## Выводы"
   ]
  },
  {
   "cell_type": "markdown",
   "metadata": {},
   "source": [
    "В данной работе мы нашли способ защитить численные персональные данные путем умножения признаков на обратимую матрицу. Мы показали, что функция потерь при таком преобразовании признаков не меняется, соответственно качество модели остается тем же. Мы также подтвердили это экспериментально различными способами, измеряя метрику коэффициента детериминации R2. Кроме того, мы, ожидаемо, получили серьезное увеличение R2-метрики по сравению с dummy моделью."
   ]
  }
 ],
 "metadata": {
  "ExecuteTimeLog": [
   {
    "duration": 58,
    "start_time": "2022-12-10T11:37:18.344Z"
   }
  ],
  "kernelspec": {
   "display_name": "Python 3 (ipykernel)",
   "language": "python",
   "name": "python3"
  },
  "language_info": {
   "codemirror_mode": {
    "name": "ipython",
    "version": 3
   },
   "file_extension": ".py",
   "mimetype": "text/x-python",
   "name": "python",
   "nbconvert_exporter": "python",
   "pygments_lexer": "ipython3",
   "version": "3.9.16"
  },
  "toc": {
   "base_numbering": 1,
   "nav_menu": {},
   "number_sections": true,
   "sideBar": true,
   "skip_h1_title": true,
   "title_cell": "Содержание",
   "title_sidebar": "Contents",
   "toc_cell": true,
   "toc_position": {},
   "toc_section_display": true,
   "toc_window_display": true
  }
 },
 "nbformat": 4,
 "nbformat_minor": 4
}
