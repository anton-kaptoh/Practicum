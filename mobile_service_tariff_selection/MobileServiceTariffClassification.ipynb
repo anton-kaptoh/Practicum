{
 "cells": [
  {
   "cell_type": "markdown",
   "metadata": {},
   "source": [
    "# Рекомендация тарифов"
   ]
  },
  {
   "cell_type": "markdown",
   "metadata": {},
   "source": [
    "Нужно построить модель для задачи классификации, которая выберет клиенту подходящий тариф для перехода. Предобработка данных уже сделана ранее. Постройте модель с максимально большим значением *accuracy* (довести долю правильных ответов по крайней мере до 0.75)."
   ]
  },
  {
   "cell_type": "markdown",
   "metadata": {},
   "source": [
    "## Загрузка данных"
   ]
  },
  {
   "cell_type": "markdown",
   "metadata": {},
   "source": [
    "Импортируем используемые библиотеки и классы:"
   ]
  },
  {
   "cell_type": "code",
   "execution_count": 1,
   "metadata": {},
   "outputs": [],
   "source": [
    "import pandas as pd\n",
    "import matplotlib.pyplot as plt\n",
    "import matplotlib.ticker as tick\n",
    "import seaborn as sns\n",
    "import time\n",
    "from contextlib import contextmanager\n",
    "from warnings import simplefilter\n",
    "from sklearn.model_selection import train_test_split\n",
    "from sklearn.metrics import accuracy_score\n",
    "from sklearn.tree import DecisionTreeClassifier\n",
    "from sklearn.ensemble import RandomForestClassifier\n",
    "from sklearn.linear_model import LogisticRegression\n",
    "from sklearn.exceptions import ConvergenceWarning"
   ]
  },
  {
   "cell_type": "markdown",
   "metadata": {},
   "source": [
    "Прочитаем данные из файла:"
   ]
  },
  {
   "cell_type": "code",
   "execution_count": 2,
   "metadata": {},
   "outputs": [],
   "source": [
    "data = pd.read_csv(\"/datasets/users_behavior.csv\")"
   ]
  },
  {
   "cell_type": "markdown",
   "metadata": {},
   "source": [
    "\n",
    "\n",
    "<b>Описание данных</b><div class=\"paragraph\">Каждый объект в наборе данных — это информация о поведении одного пользователя за месяц. Известно:</div><ul><li><em>сalls</em> — количество звонков,</li><li><em>minutes</em> — суммарная длительность звонков в минутах,</li><li><em>messages</em> — количество sms-сообщений,</li><li><em>mb_used</em> — израсходованный интернет-трафик в Мб,</li><li><em>is_ultra</em> — каким тарифом пользовался в течение месяца («Ультра» — 1, «Смарт» — 0).</li></ul>\n",
    "\n",
    "Посмотрим на первые 20 строк из датасета:"
   ]
  },
  {
   "cell_type": "code",
   "execution_count": 3,
   "metadata": {},
   "outputs": [
    {
     "data": {
      "text/html": [
       "<div>\n",
       "<style scoped>\n",
       "    .dataframe tbody tr th:only-of-type {\n",
       "        vertical-align: middle;\n",
       "    }\n",
       "\n",
       "    .dataframe tbody tr th {\n",
       "        vertical-align: top;\n",
       "    }\n",
       "\n",
       "    .dataframe thead th {\n",
       "        text-align: right;\n",
       "    }\n",
       "</style>\n",
       "<table border=\"1\" class=\"dataframe\">\n",
       "  <thead>\n",
       "    <tr style=\"text-align: right;\">\n",
       "      <th></th>\n",
       "      <th>calls</th>\n",
       "      <th>minutes</th>\n",
       "      <th>messages</th>\n",
       "      <th>mb_used</th>\n",
       "      <th>is_ultra</th>\n",
       "    </tr>\n",
       "  </thead>\n",
       "  <tbody>\n",
       "    <tr>\n",
       "      <th>0</th>\n",
       "      <td>40.0</td>\n",
       "      <td>311.90</td>\n",
       "      <td>83.0</td>\n",
       "      <td>19915.42</td>\n",
       "      <td>0</td>\n",
       "    </tr>\n",
       "    <tr>\n",
       "      <th>1</th>\n",
       "      <td>85.0</td>\n",
       "      <td>516.75</td>\n",
       "      <td>56.0</td>\n",
       "      <td>22696.96</td>\n",
       "      <td>0</td>\n",
       "    </tr>\n",
       "    <tr>\n",
       "      <th>2</th>\n",
       "      <td>77.0</td>\n",
       "      <td>467.66</td>\n",
       "      <td>86.0</td>\n",
       "      <td>21060.45</td>\n",
       "      <td>0</td>\n",
       "    </tr>\n",
       "    <tr>\n",
       "      <th>3</th>\n",
       "      <td>106.0</td>\n",
       "      <td>745.53</td>\n",
       "      <td>81.0</td>\n",
       "      <td>8437.39</td>\n",
       "      <td>1</td>\n",
       "    </tr>\n",
       "    <tr>\n",
       "      <th>4</th>\n",
       "      <td>66.0</td>\n",
       "      <td>418.74</td>\n",
       "      <td>1.0</td>\n",
       "      <td>14502.75</td>\n",
       "      <td>0</td>\n",
       "    </tr>\n",
       "    <tr>\n",
       "      <th>5</th>\n",
       "      <td>58.0</td>\n",
       "      <td>344.56</td>\n",
       "      <td>21.0</td>\n",
       "      <td>15823.37</td>\n",
       "      <td>0</td>\n",
       "    </tr>\n",
       "    <tr>\n",
       "      <th>6</th>\n",
       "      <td>57.0</td>\n",
       "      <td>431.64</td>\n",
       "      <td>20.0</td>\n",
       "      <td>3738.90</td>\n",
       "      <td>1</td>\n",
       "    </tr>\n",
       "    <tr>\n",
       "      <th>7</th>\n",
       "      <td>15.0</td>\n",
       "      <td>132.40</td>\n",
       "      <td>6.0</td>\n",
       "      <td>21911.60</td>\n",
       "      <td>0</td>\n",
       "    </tr>\n",
       "    <tr>\n",
       "      <th>8</th>\n",
       "      <td>7.0</td>\n",
       "      <td>43.39</td>\n",
       "      <td>3.0</td>\n",
       "      <td>2538.67</td>\n",
       "      <td>1</td>\n",
       "    </tr>\n",
       "    <tr>\n",
       "      <th>9</th>\n",
       "      <td>90.0</td>\n",
       "      <td>665.41</td>\n",
       "      <td>38.0</td>\n",
       "      <td>17358.61</td>\n",
       "      <td>0</td>\n",
       "    </tr>\n",
       "    <tr>\n",
       "      <th>10</th>\n",
       "      <td>82.0</td>\n",
       "      <td>560.51</td>\n",
       "      <td>20.0</td>\n",
       "      <td>9619.53</td>\n",
       "      <td>1</td>\n",
       "    </tr>\n",
       "    <tr>\n",
       "      <th>11</th>\n",
       "      <td>45.0</td>\n",
       "      <td>344.32</td>\n",
       "      <td>13.0</td>\n",
       "      <td>19898.81</td>\n",
       "      <td>0</td>\n",
       "    </tr>\n",
       "    <tr>\n",
       "      <th>12</th>\n",
       "      <td>51.0</td>\n",
       "      <td>437.13</td>\n",
       "      <td>61.0</td>\n",
       "      <td>21523.58</td>\n",
       "      <td>0</td>\n",
       "    </tr>\n",
       "    <tr>\n",
       "      <th>13</th>\n",
       "      <td>56.0</td>\n",
       "      <td>433.07</td>\n",
       "      <td>16.0</td>\n",
       "      <td>16702.36</td>\n",
       "      <td>0</td>\n",
       "    </tr>\n",
       "    <tr>\n",
       "      <th>14</th>\n",
       "      <td>108.0</td>\n",
       "      <td>587.90</td>\n",
       "      <td>0.0</td>\n",
       "      <td>14406.50</td>\n",
       "      <td>1</td>\n",
       "    </tr>\n",
       "    <tr>\n",
       "      <th>15</th>\n",
       "      <td>6.0</td>\n",
       "      <td>22.13</td>\n",
       "      <td>0.0</td>\n",
       "      <td>2710.09</td>\n",
       "      <td>0</td>\n",
       "    </tr>\n",
       "    <tr>\n",
       "      <th>16</th>\n",
       "      <td>2.0</td>\n",
       "      <td>18.73</td>\n",
       "      <td>0.0</td>\n",
       "      <td>588.89</td>\n",
       "      <td>0</td>\n",
       "    </tr>\n",
       "    <tr>\n",
       "      <th>17</th>\n",
       "      <td>26.0</td>\n",
       "      <td>163.62</td>\n",
       "      <td>4.0</td>\n",
       "      <td>16870.34</td>\n",
       "      <td>0</td>\n",
       "    </tr>\n",
       "    <tr>\n",
       "      <th>18</th>\n",
       "      <td>79.0</td>\n",
       "      <td>532.62</td>\n",
       "      <td>90.0</td>\n",
       "      <td>19908.31</td>\n",
       "      <td>0</td>\n",
       "    </tr>\n",
       "    <tr>\n",
       "      <th>19</th>\n",
       "      <td>49.0</td>\n",
       "      <td>341.67</td>\n",
       "      <td>81.0</td>\n",
       "      <td>11770.28</td>\n",
       "      <td>1</td>\n",
       "    </tr>\n",
       "  </tbody>\n",
       "</table>\n",
       "</div>"
      ],
      "text/plain": [
       "    calls  minutes  messages   mb_used  is_ultra\n",
       "0    40.0   311.90      83.0  19915.42         0\n",
       "1    85.0   516.75      56.0  22696.96         0\n",
       "2    77.0   467.66      86.0  21060.45         0\n",
       "3   106.0   745.53      81.0   8437.39         1\n",
       "4    66.0   418.74       1.0  14502.75         0\n",
       "5    58.0   344.56      21.0  15823.37         0\n",
       "6    57.0   431.64      20.0   3738.90         1\n",
       "7    15.0   132.40       6.0  21911.60         0\n",
       "8     7.0    43.39       3.0   2538.67         1\n",
       "9    90.0   665.41      38.0  17358.61         0\n",
       "10   82.0   560.51      20.0   9619.53         1\n",
       "11   45.0   344.32      13.0  19898.81         0\n",
       "12   51.0   437.13      61.0  21523.58         0\n",
       "13   56.0   433.07      16.0  16702.36         0\n",
       "14  108.0   587.90       0.0  14406.50         1\n",
       "15    6.0    22.13       0.0   2710.09         0\n",
       "16    2.0    18.73       0.0    588.89         0\n",
       "17   26.0   163.62       4.0  16870.34         0\n",
       "18   79.0   532.62      90.0  19908.31         0\n",
       "19   49.0   341.67      81.0  11770.28         1"
      ]
     },
     "execution_count": 3,
     "metadata": {},
     "output_type": "execute_result"
    }
   ],
   "source": [
    "data.head(20)"
   ]
  },
  {
   "cell_type": "markdown",
   "metadata": {},
   "source": [
    "Посмотрим на технические характеристики данных с помощью функции `info()`:"
   ]
  },
  {
   "cell_type": "code",
   "execution_count": 4,
   "metadata": {
    "scrolled": true,
    "tags": []
   },
   "outputs": [
    {
     "name": "stdout",
     "output_type": "stream",
     "text": [
      "<class 'pandas.core.frame.DataFrame'>\n",
      "RangeIndex: 3214 entries, 0 to 3213\n",
      "Data columns (total 5 columns):\n",
      " #   Column    Non-Null Count  Dtype  \n",
      "---  ------    --------------  -----  \n",
      " 0   calls     3214 non-null   float64\n",
      " 1   minutes   3214 non-null   float64\n",
      " 2   messages  3214 non-null   float64\n",
      " 3   mb_used   3214 non-null   float64\n",
      " 4   is_ultra  3214 non-null   int64  \n",
      "dtypes: float64(4), int64(1)\n",
      "memory usage: 125.7 KB\n"
     ]
    }
   ],
   "source": [
    "data.info()"
   ]
  },
  {
   "cell_type": "markdown",
   "metadata": {},
   "source": [
    "Построим `pairplot` график для рассмотрения попарного отношения столбцов, а также распределения их значений:"
   ]
  },
  {
   "cell_type": "code",
   "execution_count": 5,
   "metadata": {
    "scrolled": true
   },
   "outputs": [
    {
     "data": {
      "image/png": "[encoded data removed]",
      "text/plain": [
       "<Figure size 764.5x720 with 20 Axes>"
      ]
     },
     "metadata": {
      "needs_background": "light"
     },
     "output_type": "display_data"
    }
   ],
   "source": [
    "sns.pairplot(data=data, hue='is_ultra')\n",
    "plt.show()"
   ]
  },
  {
   "cell_type": "markdown",
   "metadata": {},
   "source": [
    "На графике видна практически линейная зависимость между calls и minutes. Подтвердим это также значением коэф. Пирсона близким к 1:"
   ]
  },
  {
   "cell_type": "code",
   "execution_count": 6,
   "metadata": {},
   "outputs": [
    {
     "data": {
      "text/plain": [
       "0.9820832355742293"
      ]
     },
     "execution_count": 6,
     "metadata": {},
     "output_type": "execute_result"
    }
   ],
   "source": [
    "data['minutes'].corr(data['calls'])"
   ]
  },
  {
   "cell_type": "markdown",
   "metadata": {},
   "source": [
    "Далее столбец calls для предотвращения мультиколлиниеарности его со столбцом minutes в факторах(features) использовать не будем, оставим в features столбец minutes."
   ]
  },
  {
   "cell_type": "markdown",
   "metadata": {},
   "source": [
    "## Разбиение данных на выборки"
   ]
  },
  {
   "cell_type": "markdown",
   "metadata": {},
   "source": [
    "Разобьем данные применив `train_test_split(...)` из библиотеки `sklearn.metrics` дважды: сначала выделив тестовую выборку (20% процентов от всех строк), затем из оставшихся данных выделим валидационную выборку (25% от оставшихся 80% от первоначального датасета в результате даст 20% строк исходных данных). Таким образом получаем выборки:\n",
    "* обучающая - 60% строк\n",
    "* валидационная - 20% строк\n",
    "* тестовая - 20% строк"
   ]
  },
  {
   "cell_type": "code",
   "execution_count": 7,
   "metadata": {},
   "outputs": [
    {
     "name": "stdout",
     "output_type": "stream",
     "text": [
      "Total records count: 3214\n",
      "Train records count: 1928\n",
      "Test records count: 643\n",
      "Validation records count: 643\n"
     ]
    }
   ],
   "source": [
    "features = data.drop([\"is_ultra\", \"calls\"], axis=1)\n",
    "target = data[\"is_ultra\"]\n",
    "\n",
    "features, features_test, target, target_test = train_test_split(\n",
    "    features, target, test_size=0.2, random_state=6_10_22\n",
    ")\n",
    "features_train, features_valid, target_train, target_valid = train_test_split(\n",
    "    features, target, test_size=0.25, random_state=6_10_22\n",
    ")\n",
    "print(\"Total records count:\", data.shape[0])\n",
    "print(\"Train records count:\", features_train.shape[0])\n",
    "print(\"Test records count:\", features_test.shape[0])\n",
    "print(\"Validation records count:\", features_valid.shape[0])"
   ]
  },
  {
   "cell_type": "markdown",
   "metadata": {},
   "source": [
    "## Обучение моделей"
   ]
  },
  {
   "cell_type": "markdown",
   "metadata": {},
   "source": [
    "Исследуем следующие модели:\n",
    "* DecisionTreeClassifier, изменяя гиперпараметр max_depth\n",
    "* RandomForestClassifier, изменяя гиперпараметр max_depth и n_estimators\n",
    "* LogisticRegression, изменяя гиперпараметр max_iter"
   ]
  },
  {
   "cell_type": "code",
   "execution_count": 8,
   "metadata": {},
   "outputs": [],
   "source": [
    "# aux function to write different data as collection to array to be converted to DataFrame;\n",
    "def add_model_record(results_array, **kwargs):\n",
    "    results_array.append(kwargs)"
   ]
  },
  {
   "cell_type": "markdown",
   "metadata": {},
   "source": [
    "### Модель LogisticRegression"
   ]
  },
  {
   "cell_type": "markdown",
   "metadata": {},
   "source": [
    "Рассмотрим зависимость модели `LogisticRegression` от гиперпараметра `max_iter`, а также рассмотрим различные алгоритмы предлагаемые классом `LogisticRegression`:\n",
    "* \"liblinear\", \n",
    "* \"newton-cg\", \n",
    "* \"sag\", \n",
    "* \"saga\", \n",
    "* \"lbfgs\""
   ]
  },
  {
   "cell_type": "code",
   "execution_count": 9,
   "metadata": {},
   "outputs": [],
   "source": [
    "with warnings.catch_warnings():\n",
    "    warnings.simplefilter(\"ignore\")\n",
    "    accuracy_lgr_arr = []\n",
    "    for iter in range(1, 80, 1):    \n",
    "        for solver in [\"liblinear\", \"newton-cg\", \"sag\", \"saga\", \"lbfgs\"]:\n",
    "            model_lgr = LogisticRegression(\n",
    "                random_state=6_10_22, solver=solver, max_iter=iter\n",
    "            )\n",
    "            start_time = time.time()\n",
    "            model_lgr.fit(features_train, target_train)\n",
    "            seconds_fit_runs = time.time() - start_time\n",
    "\n",
    "            add_model_record(\n",
    "                accuracy_lgr_arr,\n",
    "                model=\"LogisticRegression\",\n",
    "                # model_var=model_lgr,\n",
    "                solver=solver,\n",
    "                max_iter=iter,\n",
    "                score_on_train=accuracy_score(\n",
    "                    model_lgr.predict(features_train), target_train\n",
    "                ),\n",
    "                score_on_valid=accuracy_score(\n",
    "                    model_lgr.predict(features_valid), target_valid\n",
    "                ),\n",
    "                seconds_fit_runs=seconds_fit_runs,\n",
    "            )\n",
    "    accuracy_lgr = pd.DataFrame(accuracy_lgr_arr)"
   ]
  },
  {
   "cell_type": "markdown",
   "metadata": {},
   "source": [
    "Построим графики зависимости качества (accuracy) модели `LogisticRegression` от  параметра `max_iter` для различных алгоритмов:"
   ]
  },
  {
   "cell_type": "code",
   "execution_count": 10,
   "metadata": {},
   "outputs": [
    {
     "data": {
      "image/png": "[encoded data removed]",
      "text/plain": [
       "<Figure size 792x504 with 1 Axes>"
      ]
     },
     "metadata": {
      "needs_background": "light"
     },
     "output_type": "display_data"
    }
   ],
   "source": [
    "accuracy_lgr_melted = accuracy_lgr[\n",
    "    [\"solver\", \"max_iter\", \"score_on_train\", \"score_on_valid\"]\n",
    "].melt(id_vars=[\"solver\", \"max_iter\"], var_name=\"measurement\", value_name=\"score\")\n",
    "\n",
    "plt.subplots(figsize=(11, 7))\n",
    "plt.grid()\n",
    "fig = sns.lineplot(\n",
    "    data=accuracy_lgr_melted,\n",
    "    x=\"max_iter\",\n",
    "    y=\"score\",\n",
    "    hue=\"solver\",\n",
    "    style=\"measurement\",\n",
    "    style_order=[\"score_on_valid\", \"score_on_train\"],\n",
    "    dashes=True,\n",
    "    alpha=0.7,\n",
    ")\n",
    "\n",
    "# fixing the overlap of lines for 'saga' and 'sag' solvers\n",
    "fig.lines[7].set_linewidth(4)\n",
    "fig.lines[7].set_zorder(-2)\n",
    "fig.lines[6].set_linewidth(4)\n",
    "fig.lines[6].set_zorder(-2)\n",
    "plt.show()\n",
    "\n",
    "# # alternative approach to build the graph\n",
    "# plt.subplots(figsize=(11, 20))\n",
    "\n",
    "# ax = sns.lineplot(data=accuracy_lgr, x=\"max_iter\", y=\"score_on_train\", hue=\"solver\")\n",
    "# [x.set_linestyle(\":\") for x in ax.lines]\n",
    "\n",
    "# plt.grid()\n",
    "# sns.lineplot(\n",
    "#     data=accuracy_lgr,\n",
    "#     x=\"max_iter\",\n",
    "#     y=\"score_on_valid\",\n",
    "#     hue=\"solver\",\n",
    "#     markers=True,\n",
    "#     markeredgecolor=\"w\",\n",
    "#     dashes=False,\n",
    "# )\n",
    "# plt.show()0.2,"
   ]
  },
  {
   "cell_type": "markdown",
   "metadata": {},
   "source": [
    "Найдем максимальные значения accuracy:"
   ]
  },
  {
   "cell_type": "code",
   "execution_count": 11,
   "metadata": {},
   "outputs": [
    {
     "name": "stdout",
     "output_type": "stream",
     "text": [
      "\n",
      "Maximum accuracy score for validation data: 0.7558320373250389\n",
      "\n",
      "Models with maximum accuracy score for validation data:\n"
     ]
    },
    {
     "data": {
      "text/html": [
       "<style  type=\"text/css\" >\n",
       "#T_1678e_row0_col2,#T_1678e_row0_col3,#T_1678e_row0_col4,#T_1678e_row1_col3,#T_1678e_row1_col4,#T_1678e_row2_col4,#T_1678e_row3_col4,#T_1678e_row4_col4,#T_1678e_row5_col4,#T_1678e_row6_col4,#T_1678e_row7_col4,#T_1678e_row8_col4,#T_1678e_row9_col5{\n",
       "            background-color:  #f3f0ee;\n",
       "            color:  #000000;\n",
       "        }#T_1678e_row0_col5{\n",
       "            background-color:  #fcb533;\n",
       "            color:  #000000;\n",
       "        }#T_1678e_row1_col2{\n",
       "            background-color:  #f4eadb;\n",
       "            color:  #000000;\n",
       "        }#T_1678e_row1_col5,#T_1678e_row7_col5{\n",
       "            background-color:  #feac17;\n",
       "            color:  #000000;\n",
       "        }#T_1678e_row2_col2{\n",
       "            background-color:  #f5e4c7;\n",
       "            color:  #000000;\n",
       "        }#T_1678e_row2_col3,#T_1678e_row3_col3,#T_1678e_row4_col3,#T_1678e_row6_col5,#T_1678e_row9_col2,#T_1678e_row9_col3,#T_1678e_row9_col4{\n",
       "            background-color:  #ffa500;\n",
       "            color:  #000000;\n",
       "        }#T_1678e_row2_col5{\n",
       "            background-color:  #fdb430;\n",
       "            color:  #000000;\n",
       "        }#T_1678e_row3_col2{\n",
       "            background-color:  #f6ddb3;\n",
       "            color:  #000000;\n",
       "        }#T_1678e_row3_col5{\n",
       "            background-color:  #fdb126;\n",
       "            color:  #000000;\n",
       "        }#T_1678e_row4_col2,#T_1678e_row6_col3,#T_1678e_row7_col3,#T_1678e_row8_col3{\n",
       "            background-color:  #f7d79f;\n",
       "            color:  #000000;\n",
       "        }#T_1678e_row4_col5{\n",
       "            background-color:  #fdb32c;\n",
       "            color:  #000000;\n",
       "        }#T_1678e_row5_col2{\n",
       "            background-color:  #f8d18b;\n",
       "            color:  #000000;\n",
       "        }#T_1678e_row5_col3,#T_1678e_row8_col2{\n",
       "            background-color:  #fbbe4f;\n",
       "            color:  #000000;\n",
       "        }#T_1678e_row5_col5{\n",
       "            background-color:  #fdb22a;\n",
       "            color:  #000000;\n",
       "        }#T_1678e_row6_col2{\n",
       "            background-color:  #f9ca77;\n",
       "            color:  #000000;\n",
       "        }#T_1678e_row7_col2{\n",
       "            background-color:  #fac463;\n",
       "            color:  #000000;\n",
       "        }#T_1678e_row8_col5{\n",
       "            background-color:  #feaa0f;\n",
       "            color:  #000000;\n",
       "        }</style><table id=\"T_1678e_\" ><thead>    <tr>        <th class=\"blank level0\" ></th>        <th class=\"col_heading level0 col0\" >model</th>        <th class=\"col_heading level0 col1\" >solver</th>        <th class=\"col_heading level0 col2\" >max_iter</th>        <th class=\"col_heading level0 col3\" >score_on_train</th>        <th class=\"col_heading level0 col4\" >score_on_valid</th>        <th class=\"col_heading level0 col5\" >seconds_fit_runs</th>    </tr></thead><tbody>\n",
       "                <tr>\n",
       "                        <th id=\"T_1678e_level0_row0\" class=\"row_heading level0 row0\" >181</th>\n",
       "                        <td id=\"T_1678e_row0_col0\" class=\"data row0 col0\" >LogisticRegression</td>\n",
       "                        <td id=\"T_1678e_row0_col1\" class=\"data row0 col1\" >newton-cg</td>\n",
       "                        <td id=\"T_1678e_row0_col2\" class=\"data row0 col2\" >37</td>\n",
       "                        <td id=\"T_1678e_row0_col3\" class=\"data row0 col3\" >0.737033</td>\n",
       "                        <td id=\"T_1678e_row0_col4\" class=\"data row0 col4\" >0.754277</td>\n",
       "                        <td id=\"T_1678e_row0_col5\" class=\"data row0 col5\" >0.068511</td>\n",
       "            </tr>\n",
       "            <tr>\n",
       "                        <th id=\"T_1678e_level0_row1\" class=\"row_heading level0 row1\" >186</th>\n",
       "                        <td id=\"T_1678e_row1_col0\" class=\"data row1 col0\" >LogisticRegression</td>\n",
       "                        <td id=\"T_1678e_row1_col1\" class=\"data row1 col1\" >newton-cg</td>\n",
       "                        <td id=\"T_1678e_row1_col2\" class=\"data row1 col2\" >38</td>\n",
       "                        <td id=\"T_1678e_row1_col3\" class=\"data row1 col3\" >0.737033</td>\n",
       "                        <td id=\"T_1678e_row1_col4\" class=\"data row1 col4\" >0.754277</td>\n",
       "                        <td id=\"T_1678e_row1_col5\" class=\"data row1 col5\" >0.076455</td>\n",
       "            </tr>\n",
       "            <tr>\n",
       "                        <th id=\"T_1678e_level0_row2\" class=\"row_heading level0 row2\" >191</th>\n",
       "                        <td id=\"T_1678e_row2_col0\" class=\"data row2 col0\" >LogisticRegression</td>\n",
       "                        <td id=\"T_1678e_row2_col1\" class=\"data row2 col1\" >newton-cg</td>\n",
       "                        <td id=\"T_1678e_row2_col2\" class=\"data row2 col2\" >39</td>\n",
       "                        <td id=\"T_1678e_row2_col3\" class=\"data row2 col3\" >0.738589</td>\n",
       "                        <td id=\"T_1678e_row2_col4\" class=\"data row2 col4\" >0.754277</td>\n",
       "                        <td id=\"T_1678e_row2_col5\" class=\"data row2 col5\" >0.069430</td>\n",
       "            </tr>\n",
       "            <tr>\n",
       "                        <th id=\"T_1678e_level0_row3\" class=\"row_heading level0 row3\" >196</th>\n",
       "                        <td id=\"T_1678e_row3_col0\" class=\"data row3 col0\" >LogisticRegression</td>\n",
       "                        <td id=\"T_1678e_row3_col1\" class=\"data row3 col1\" >newton-cg</td>\n",
       "                        <td id=\"T_1678e_row3_col2\" class=\"data row3 col2\" >40</td>\n",
       "                        <td id=\"T_1678e_row3_col3\" class=\"data row3 col3\" >0.738589</td>\n",
       "                        <td id=\"T_1678e_row3_col4\" class=\"data row3 col4\" >0.754277</td>\n",
       "                        <td id=\"T_1678e_row3_col5\" class=\"data row3 col5\" >0.072104</td>\n",
       "            </tr>\n",
       "            <tr>\n",
       "                        <th id=\"T_1678e_level0_row4\" class=\"row_heading level0 row4\" >201</th>\n",
       "                        <td id=\"T_1678e_row4_col0\" class=\"data row4 col0\" >LogisticRegression</td>\n",
       "                        <td id=\"T_1678e_row4_col1\" class=\"data row4 col1\" >newton-cg</td>\n",
       "                        <td id=\"T_1678e_row4_col2\" class=\"data row4 col2\" >41</td>\n",
       "                        <td id=\"T_1678e_row4_col3\" class=\"data row4 col3\" >0.738589</td>\n",
       "                        <td id=\"T_1678e_row4_col4\" class=\"data row4 col4\" >0.754277</td>\n",
       "                        <td id=\"T_1678e_row4_col5\" class=\"data row4 col5\" >0.070561</td>\n",
       "            </tr>\n",
       "            <tr>\n",
       "                        <th id=\"T_1678e_level0_row5\" class=\"row_heading level0 row5\" >206</th>\n",
       "                        <td id=\"T_1678e_row5_col0\" class=\"data row5 col0\" >LogisticRegression</td>\n",
       "                        <td id=\"T_1678e_row5_col1\" class=\"data row5 col1\" >newton-cg</td>\n",
       "                        <td id=\"T_1678e_row5_col2\" class=\"data row5 col2\" >42</td>\n",
       "                        <td id=\"T_1678e_row5_col3\" class=\"data row5 col3\" >0.738071</td>\n",
       "                        <td id=\"T_1678e_row5_col4\" class=\"data row5 col4\" >0.754277</td>\n",
       "                        <td id=\"T_1678e_row5_col5\" class=\"data row5 col5\" >0.071146</td>\n",
       "            </tr>\n",
       "            <tr>\n",
       "                        <th id=\"T_1678e_level0_row6\" class=\"row_heading level0 row6\" >211</th>\n",
       "                        <td id=\"T_1678e_row6_col0\" class=\"data row6 col0\" >LogisticRegression</td>\n",
       "                        <td id=\"T_1678e_row6_col1\" class=\"data row6 col1\" >newton-cg</td>\n",
       "                        <td id=\"T_1678e_row6_col2\" class=\"data row6 col2\" >43</td>\n",
       "                        <td id=\"T_1678e_row6_col3\" class=\"data row6 col3\" >0.737552</td>\n",
       "                        <td id=\"T_1678e_row6_col4\" class=\"data row6 col4\" >0.754277</td>\n",
       "                        <td id=\"T_1678e_row6_col5\" class=\"data row6 col5\" >0.083302</td>\n",
       "            </tr>\n",
       "            <tr>\n",
       "                        <th id=\"T_1678e_level0_row7\" class=\"row_heading level0 row7\" >216</th>\n",
       "                        <td id=\"T_1678e_row7_col0\" class=\"data row7 col0\" >LogisticRegression</td>\n",
       "                        <td id=\"T_1678e_row7_col1\" class=\"data row7 col1\" >newton-cg</td>\n",
       "                        <td id=\"T_1678e_row7_col2\" class=\"data row7 col2\" >44</td>\n",
       "                        <td id=\"T_1678e_row7_col3\" class=\"data row7 col3\" >0.737552</td>\n",
       "                        <td id=\"T_1678e_row7_col4\" class=\"data row7 col4\" >0.754277</td>\n",
       "                        <td id=\"T_1678e_row7_col5\" class=\"data row7 col5\" >0.076570</td>\n",
       "            </tr>\n",
       "            <tr>\n",
       "                        <th id=\"T_1678e_level0_row8\" class=\"row_heading level0 row8\" >221</th>\n",
       "                        <td id=\"T_1678e_row8_col0\" class=\"data row8 col0\" >LogisticRegression</td>\n",
       "                        <td id=\"T_1678e_row8_col1\" class=\"data row8 col1\" >newton-cg</td>\n",
       "                        <td id=\"T_1678e_row8_col2\" class=\"data row8 col2\" >45</td>\n",
       "                        <td id=\"T_1678e_row8_col3\" class=\"data row8 col3\" >0.737552</td>\n",
       "                        <td id=\"T_1678e_row8_col4\" class=\"data row8 col4\" >0.754277</td>\n",
       "                        <td id=\"T_1678e_row8_col5\" class=\"data row8 col5\" >0.078895</td>\n",
       "            </tr>\n",
       "            <tr>\n",
       "                        <th id=\"T_1678e_level0_row9\" class=\"row_heading level0 row9\" >244</th>\n",
       "                        <td id=\"T_1678e_row9_col0\" class=\"data row9 col0\" >LogisticRegression</td>\n",
       "                        <td id=\"T_1678e_row9_col1\" class=\"data row9 col1\" >lbfgs</td>\n",
       "                        <td id=\"T_1678e_row9_col2\" class=\"data row9 col2\" >49</td>\n",
       "                        <td id=\"T_1678e_row9_col3\" class=\"data row9 col3\" >0.738589</td>\n",
       "                        <td id=\"T_1678e_row9_col4\" class=\"data row9 col4\" >0.755832</td>\n",
       "                        <td id=\"T_1678e_row9_col5\" class=\"data row9 col5\" >0.014470</td>\n",
       "            </tr>\n",
       "    </tbody></table>"
      ],
      "text/plain": [
       "<pandas.io.formats.style.Styler at 0x7fb44ca0f610>"
      ]
     },
     "metadata": {},
     "output_type": "display_data"
    }
   ],
   "source": [
    "print(\n",
    "    \"\\nMaximum accuracy score for validation data:\",\n",
    "    accuracy_lgr[\"score_on_valid\"].max(),\n",
    ")\n",
    "\n",
    "cm = sns.light_palette(\"orange\", as_cmap=True)\n",
    "\n",
    "print(\"\\nModels with maximum accuracy score for validation data:\")\n",
    "display(\n",
    "    accuracy_lgr[\n",
    "        accuracy_lgr[\"score_on_valid\"] > accuracy_lgr[\"score_on_valid\"].max() * 0.997\n",
    "    ].style.background_gradient(cmap=cm)\n",
    ")"
   ]
  },
  {
   "cell_type": "markdown",
   "metadata": {},
   "source": [
    "<b>Вывод:</b> Видим, что для модели `LogisticRegression` максимальное значение accuracy по валидационной выборке `0.754277`, `0.755832` получается для алгоритмов `newton-cg` и `lbfgs` соответственно. Причем lbfgs обучается быстрее чем newton-cg примерно в 4 раза (seconds_fit_runs), а для достижения максимальной точности lbfgs требуется на 4-13 итераций (значение max_iter) больше чем для newton-cg. Кроме того, на графике видно, что если у алгоритма newton-cg значение accuracy практически постоянно растет с увеличением параметра max_iter до уровня \"насыщения\" , то у lbfgs наблюдатся сильные колебания в показаниях качества модели в диапазоне max_iter ~ [20-50] и потом она приходит к тому же уровню, что и newton-cg. Остальные алгоритмы получают на валидационной выборке более плохой результат для accuracy, ниже целевого 0.75."
   ]
  },
  {
   "cell_type": "markdown",
   "metadata": {},
   "source": [
    "### Модели DecisionTreeClassifier и RandomForestClassifier"
   ]
  },
  {
   "cell_type": "markdown",
   "metadata": {},
   "source": [
    "Модели DecisionTreeClassifier и RandomForestClassifier исследуем вместе, чтобы посмотреть в сравнении их зависимость от гиперпараметра max_depth:"
   ]
  },
  {
   "cell_type": "code",
   "execution_count": 12,
   "metadata": {},
   "outputs": [],
   "source": [
    "accuracy_dtc_arr = []\n",
    "accuracy_rfc_arr = []\n",
    "for depth in range(1, 21):\n",
    "    model_dtc = DecisionTreeClassifier(random_state=6_10_22, max_depth=depth)\n",
    "    start_time = time.time()\n",
    "    model_dtc.fit(features_train, target_train)\n",
    "    seconds_fit_runs = time.time() - start_time\n",
    "    add_model_record(\n",
    "        accuracy_dtc_arr,\n",
    "        model=\"DecisionTreeClassifier\",\n",
    "        # model_var=model_dtc,\n",
    "        depth=depth,\n",
    "        score_on_train=accuracy_score(model_dtc.predict(features_train), target_train),\n",
    "        score_on_valid=accuracy_score(model_dtc.predict(features_valid), target_valid),\n",
    "        seconds_fit_runs=seconds_fit_runs,\n",
    "    )\n",
    "    for est in range(20, 1101, 20):\n",
    "        model_rfc = RandomForestClassifier(\n",
    "            random_state=6_10_22, max_depth=depth, n_estimators=est, n_jobs=-1\n",
    "        )\n",
    "\n",
    "        start_time = time.time()\n",
    "        model_rfc.fit(features_train, target_train)\n",
    "        seconds_fit_runs = time.time() - start_time\n",
    "\n",
    "        add_model_record(\n",
    "            accuracy_rfc_arr,\n",
    "            model=\"RandomForestClassifier\",\n",
    "            depth=depth,\n",
    "            n_estimators=est,\n",
    "            score_on_train=accuracy_score(\n",
    "                model_rfc.predict(features_train), target_train\n",
    "            ),\n",
    "            score_on_valid=accuracy_score(\n",
    "                model_rfc.predict(features_valid), target_valid\n",
    "            ),\n",
    "            seconds_fit_runs=seconds_fit_runs,\n",
    "        )"
   ]
  },
  {
   "cell_type": "markdown",
   "metadata": {},
   "source": [
    "Запишем результаты моделей в датафрейм:"
   ]
  },
  {
   "cell_type": "code",
   "execution_count": 13,
   "metadata": {},
   "outputs": [],
   "source": [
    "accuracy_dtc = pd.DataFrame(accuracy_dtc_arr)\n",
    "accuracy_rfc = pd.DataFrame(accuracy_rfc_arr)"
   ]
  },
  {
   "cell_type": "markdown",
   "metadata": {},
   "source": [
    "#### Модель DecisionTreeClassifier - результаты"
   ]
  },
  {
   "cell_type": "code",
   "execution_count": 14,
   "metadata": {},
   "outputs": [
    {
     "name": "stdout",
     "output_type": "stream",
     "text": [
      "\n",
      "Maximum accuracy score for validation data: 0.7838258164852255\n",
      "\n",
      "\n",
      "Models with maximum accuracy score for validation data:\n"
     ]
    },
    {
     "data": {
      "text/html": [
       "<style  type=\"text/css\" >\n",
       "#T_d0262_row0_col1,#T_d0262_row0_col2,#T_d0262_row1_col4,#T_d0262_row19_col3{\n",
       "            background-color:  #f3f0ee;\n",
       "            color:  #000000;\n",
       "        }#T_d0262_row0_col3{\n",
       "            background-color:  #fac462;\n",
       "            color:  #000000;\n",
       "        }#T_d0262_row0_col4,#T_d0262_row2_col3,#T_d0262_row3_col3,#T_d0262_row19_col1,#T_d0262_row19_col2{\n",
       "            background-color:  #ffa500;\n",
       "            color:  #000000;\n",
       "        }#T_d0262_row1_col1{\n",
       "            background-color:  #f3ece2;\n",
       "            color:  #000000;\n",
       "        }#T_d0262_row1_col2{\n",
       "            background-color:  #f5e6ce;\n",
       "            color:  #000000;\n",
       "        }#T_d0262_row1_col3{\n",
       "            background-color:  #fdb229;\n",
       "            color:  #000000;\n",
       "        }#T_d0262_row2_col1{\n",
       "            background-color:  #f4e8d6;\n",
       "            color:  #000000;\n",
       "        }#T_d0262_row2_col2{\n",
       "            background-color:  #f5e0bc;\n",
       "            color:  #000000;\n",
       "        }#T_d0262_row2_col4,#T_d0262_row4_col4{\n",
       "            background-color:  #f4ebdf;\n",
       "            color:  #000000;\n",
       "        }#T_d0262_row3_col1,#T_d0262_row5_col4,#T_d0262_row8_col4{\n",
       "            background-color:  #f5e4c9;\n",
       "            color:  #000000;\n",
       "        }#T_d0262_row3_col2{\n",
       "            background-color:  #f5e0bb;\n",
       "            color:  #000000;\n",
       "        }#T_d0262_row3_col4{\n",
       "            background-color:  #f4eada;\n",
       "            color:  #000000;\n",
       "        }#T_d0262_row4_col1{\n",
       "            background-color:  #f5e1bd;\n",
       "            color:  #000000;\n",
       "        }#T_d0262_row4_col2,#T_d0262_row14_col4,#T_d0262_row15_col4{\n",
       "            background-color:  #f7d9a5;\n",
       "            color:  #000000;\n",
       "        }#T_d0262_row4_col3{\n",
       "            background-color:  #fdb32d;\n",
       "            color:  #000000;\n",
       "        }#T_d0262_row5_col1{\n",
       "            background-color:  #f6dcb0;\n",
       "            color:  #000000;\n",
       "        }#T_d0262_row5_col2{\n",
       "            background-color:  #f7d69c;\n",
       "            color:  #000000;\n",
       "        }#T_d0262_row5_col3{\n",
       "            background-color:  #fdae1e;\n",
       "            color:  #000000;\n",
       "        }#T_d0262_row6_col1{\n",
       "            background-color:  #f7d9a4;\n",
       "            color:  #000000;\n",
       "        }#T_d0262_row6_col2{\n",
       "            background-color:  #f8d18d;\n",
       "            color:  #000000;\n",
       "        }#T_d0262_row6_col3,#T_d0262_row14_col2,#T_d0262_row16_col1{\n",
       "            background-color:  #fdb125;\n",
       "            color:  #000000;\n",
       "        }#T_d0262_row6_col4{\n",
       "            background-color:  #f4e8d4;\n",
       "            color:  #000000;\n",
       "        }#T_d0262_row7_col1{\n",
       "            background-color:  #f7d497;\n",
       "            color:  #000000;\n",
       "        }#T_d0262_row7_col2,#T_d0262_row9_col1,#T_d0262_row12_col3{\n",
       "            background-color:  #f9cc7d;\n",
       "            color:  #000000;\n",
       "        }#T_d0262_row7_col3{\n",
       "            background-color:  #fbbf53;\n",
       "            color:  #000000;\n",
       "        }#T_d0262_row7_col4,#T_d0262_row15_col3{\n",
       "            background-color:  #f6dcae;\n",
       "            color:  #000000;\n",
       "        }#T_d0262_row8_col1{\n",
       "            background-color:  #f8d18a;\n",
       "            color:  #000000;\n",
       "        }#T_d0262_row8_col2{\n",
       "            background-color:  #f9c76c;\n",
       "            color:  #000000;\n",
       "        }#T_d0262_row8_col3{\n",
       "            background-color:  #fbbd4c;\n",
       "            color:  #000000;\n",
       "        }#T_d0262_row9_col2{\n",
       "            background-color:  #fac35f;\n",
       "            color:  #000000;\n",
       "        }#T_d0262_row9_col3,#T_d0262_row11_col3{\n",
       "            background-color:  #fbbe4f;\n",
       "            color:  #000000;\n",
       "        }#T_d0262_row9_col4{\n",
       "            background-color:  #f6e0ba;\n",
       "            color:  #000000;\n",
       "        }#T_d0262_row10_col1{\n",
       "            background-color:  #f9c971;\n",
       "            color:  #000000;\n",
       "        }#T_d0262_row10_col2{\n",
       "            background-color:  #fbbf52;\n",
       "            color:  #000000;\n",
       "        }#T_d0262_row10_col3{\n",
       "            background-color:  #fbc057;\n",
       "            color:  #000000;\n",
       "        }#T_d0262_row10_col4{\n",
       "            background-color:  #f6dfb9;\n",
       "            color:  #000000;\n",
       "        }#T_d0262_row11_col1{\n",
       "            background-color:  #fac564;\n",
       "            color:  #000000;\n",
       "        }#T_d0262_row11_col2{\n",
       "            background-color:  #fbbc48;\n",
       "            color:  #000000;\n",
       "        }#T_d0262_row11_col4{\n",
       "            background-color:  #f6ddb1;\n",
       "            color:  #000000;\n",
       "        }#T_d0262_row12_col1{\n",
       "            background-color:  #fbc158;\n",
       "            color:  #000000;\n",
       "        }#T_d0262_row12_col2{\n",
       "            background-color:  #fcb83e;\n",
       "            color:  #000000;\n",
       "        }#T_d0262_row12_col4,#T_d0262_row13_col4{\n",
       "            background-color:  #f6deb4;\n",
       "            color:  #000000;\n",
       "        }#T_d0262_row13_col1{\n",
       "            background-color:  #fbbd4b;\n",
       "            color:  #000000;\n",
       "        }#T_d0262_row13_col2{\n",
       "            background-color:  #fdb431;\n",
       "            color:  #000000;\n",
       "        }#T_d0262_row13_col3{\n",
       "            background-color:  #f8ce81;\n",
       "            color:  #000000;\n",
       "        }#T_d0262_row14_col1{\n",
       "            background-color:  #fcb93f;\n",
       "            color:  #000000;\n",
       "        }#T_d0262_row14_col3{\n",
       "            background-color:  #f8d089;\n",
       "            color:  #000000;\n",
       "        }#T_d0262_row15_col1{\n",
       "            background-color:  #fcb532;\n",
       "            color:  #000000;\n",
       "        }#T_d0262_row15_col2{\n",
       "            background-color:  #feae1b;\n",
       "            color:  #000000;\n",
       "        }#T_d0262_row16_col2{\n",
       "            background-color:  #feaa11;\n",
       "            color:  #000000;\n",
       "        }#T_d0262_row16_col3{\n",
       "            background-color:  #f7d79f;\n",
       "            color:  #000000;\n",
       "        }#T_d0262_row16_col4{\n",
       "            background-color:  #f6daa9;\n",
       "            color:  #000000;\n",
       "        }#T_d0262_row17_col1{\n",
       "            background-color:  #fead18;\n",
       "            color:  #000000;\n",
       "        }#T_d0262_row17_col2{\n",
       "            background-color:  #fea80a;\n",
       "            color:  #000000;\n",
       "        }#T_d0262_row17_col3{\n",
       "            background-color:  #f6deb6;\n",
       "            color:  #000000;\n",
       "        }#T_d0262_row17_col4{\n",
       "            background-color:  #f6dbac;\n",
       "            color:  #000000;\n",
       "        }#T_d0262_row18_col1{\n",
       "            background-color:  #fea90c;\n",
       "            color:  #000000;\n",
       "        }#T_d0262_row18_col2{\n",
       "            background-color:  #ffa605;\n",
       "            color:  #000000;\n",
       "        }#T_d0262_row18_col3{\n",
       "            background-color:  #f4eadc;\n",
       "            color:  #000000;\n",
       "        }#T_d0262_row18_col4{\n",
       "            background-color:  #f6daa8;\n",
       "            color:  #000000;\n",
       "        }#T_d0262_row19_col4{\n",
       "            background-color:  #f7d9a6;\n",
       "            color:  #000000;\n",
       "        }</style><table id=\"T_d0262_\" ><thead>    <tr>        <th class=\"blank level0\" ></th>        <th class=\"col_heading level0 col0\" >model</th>        <th class=\"col_heading level0 col1\" >depth</th>        <th class=\"col_heading level0 col2\" >score_on_train</th>        <th class=\"col_heading level0 col3\" >score_on_valid</th>        <th class=\"col_heading level0 col4\" >seconds_fit_runs</th>    </tr></thead><tbody>\n",
       "                <tr>\n",
       "                        <th id=\"T_d0262_level0_row0\" class=\"row_heading level0 row0\" >0</th>\n",
       "                        <td id=\"T_d0262_row0_col0\" class=\"data row0 col0\" >DecisionTreeClassifier</td>\n",
       "                        <td id=\"T_d0262_row0_col1\" class=\"data row0 col1\" >1</td>\n",
       "                        <td id=\"T_d0262_row0_col2\" class=\"data row0 col2\" >0.746888</td>\n",
       "                        <td id=\"T_d0262_row0_col3\" class=\"data row0 col3\" >0.743390</td>\n",
       "                        <td id=\"T_d0262_row0_col4\" class=\"data row0 col4\" >0.017852</td>\n",
       "            </tr>\n",
       "            <tr>\n",
       "                        <th id=\"T_d0262_level0_row1\" class=\"row_heading level0 row1\" >1</th>\n",
       "                        <td id=\"T_d0262_row1_col0\" class=\"data row1 col0\" >DecisionTreeClassifier</td>\n",
       "                        <td id=\"T_d0262_row1_col1\" class=\"data row1 col1\" >2</td>\n",
       "                        <td id=\"T_d0262_row1_col2\" class=\"data row1 col2\" >0.779046</td>\n",
       "                        <td id=\"T_d0262_row1_col3\" class=\"data row1 col3\" >0.766719</td>\n",
       "                        <td id=\"T_d0262_row1_col4\" class=\"data row1 col4\" >0.002914</td>\n",
       "            </tr>\n",
       "            <tr>\n",
       "                        <th id=\"T_d0262_level0_row2\" class=\"row_heading level0 row2\" >2</th>\n",
       "                        <td id=\"T_d0262_row2_col0\" class=\"data row2 col0\" >DecisionTreeClassifier</td>\n",
       "                        <td id=\"T_d0262_row2_col1\" class=\"data row2 col1\" >3</td>\n",
       "                        <td id=\"T_d0262_row2_col2\" class=\"data row2 col2\" >0.797199</td>\n",
       "                        <td id=\"T_d0262_row2_col3\" class=\"data row2 col3\" >0.783826</td>\n",
       "                        <td id=\"T_d0262_row2_col4\" class=\"data row2 col4\" >0.003906</td>\n",
       "            </tr>\n",
       "            <tr>\n",
       "                        <th id=\"T_d0262_level0_row3\" class=\"row_heading level0 row3\" >3</th>\n",
       "                        <td id=\"T_d0262_row3_col0\" class=\"data row3 col0\" >DecisionTreeClassifier</td>\n",
       "                        <td id=\"T_d0262_row3_col1\" class=\"data row3 col1\" >4</td>\n",
       "                        <td id=\"T_d0262_row3_col2\" class=\"data row3 col2\" >0.797718</td>\n",
       "                        <td id=\"T_d0262_row3_col3\" class=\"data row3 col3\" >0.783826</td>\n",
       "                        <td id=\"T_d0262_row3_col4\" class=\"data row3 col4\" >0.004204</td>\n",
       "            </tr>\n",
       "            <tr>\n",
       "                        <th id=\"T_d0262_level0_row4\" class=\"row_heading level0 row4\" >4</th>\n",
       "                        <td id=\"T_d0262_row4_col0\" class=\"data row4 col0\" >DecisionTreeClassifier</td>\n",
       "                        <td id=\"T_d0262_row4_col1\" class=\"data row4 col1\" >5</td>\n",
       "                        <td id=\"T_d0262_row4_col2\" class=\"data row4 col2\" >0.818983</td>\n",
       "                        <td id=\"T_d0262_row4_col3\" class=\"data row4 col3\" >0.765163</td>\n",
       "                        <td id=\"T_d0262_row4_col4\" class=\"data row4 col4\" >0.003954</td>\n",
       "            </tr>\n",
       "            <tr>\n",
       "                        <th id=\"T_d0262_level0_row5\" class=\"row_heading level0 row5\" >5</th>\n",
       "                        <td id=\"T_d0262_row5_col0\" class=\"data row5 col0\" >DecisionTreeClassifier</td>\n",
       "                        <td id=\"T_d0262_row5_col1\" class=\"data row5 col1\" >6</td>\n",
       "                        <td id=\"T_d0262_row5_col2\" class=\"data row5 col2\" >0.828320</td>\n",
       "                        <td id=\"T_d0262_row5_col3\" class=\"data row5 col3\" >0.771384</td>\n",
       "                        <td id=\"T_d0262_row5_col4\" class=\"data row5 col4\" >0.005292</td>\n",
       "            </tr>\n",
       "            <tr>\n",
       "                        <th id=\"T_d0262_level0_row6\" class=\"row_heading level0 row6\" >6</th>\n",
       "                        <td id=\"T_d0262_row6_col0\" class=\"data row6 col0\" >DecisionTreeClassifier</td>\n",
       "                        <td id=\"T_d0262_row6_col1\" class=\"data row6 col1\" >7</td>\n",
       "                        <td id=\"T_d0262_row6_col2\" class=\"data row6 col2\" >0.842842</td>\n",
       "                        <td id=\"T_d0262_row6_col3\" class=\"data row6 col3\" >0.768274</td>\n",
       "                        <td id=\"T_d0262_row6_col4\" class=\"data row6 col4\" >0.004557</td>\n",
       "            </tr>\n",
       "            <tr>\n",
       "                        <th id=\"T_d0262_level0_row7\" class=\"row_heading level0 row7\" >7</th>\n",
       "                        <td id=\"T_d0262_row7_col0\" class=\"data row7 col0\" >DecisionTreeClassifier</td>\n",
       "                        <td id=\"T_d0262_row7_col1\" class=\"data row7 col1\" >8</td>\n",
       "                        <td id=\"T_d0262_row7_col2\" class=\"data row7 col2\" >0.858402</td>\n",
       "                        <td id=\"T_d0262_row7_col3\" class=\"data row7 col3\" >0.749611</td>\n",
       "                        <td id=\"T_d0262_row7_col4\" class=\"data row7 col4\" >0.006963</td>\n",
       "            </tr>\n",
       "            <tr>\n",
       "                        <th id=\"T_d0262_level0_row8\" class=\"row_heading level0 row8\" >8</th>\n",
       "                        <td id=\"T_d0262_row8_col0\" class=\"data row8 col0\" >DecisionTreeClassifier</td>\n",
       "                        <td id=\"T_d0262_row8_col1\" class=\"data row8 col1\" >9</td>\n",
       "                        <td id=\"T_d0262_row8_col2\" class=\"data row8 col2\" >0.875000</td>\n",
       "                        <td id=\"T_d0262_row8_col3\" class=\"data row8 col3\" >0.752722</td>\n",
       "                        <td id=\"T_d0262_row8_col4\" class=\"data row8 col4\" >0.005273</td>\n",
       "            </tr>\n",
       "            <tr>\n",
       "                        <th id=\"T_d0262_level0_row9\" class=\"row_heading level0 row9\" >9</th>\n",
       "                        <td id=\"T_d0262_row9_col0\" class=\"data row9 col0\" >DecisionTreeClassifier</td>\n",
       "                        <td id=\"T_d0262_row9_col1\" class=\"data row9 col1\" >10</td>\n",
       "                        <td id=\"T_d0262_row9_col2\" class=\"data row9 col2\" >0.887448</td>\n",
       "                        <td id=\"T_d0262_row9_col3\" class=\"data row9 col3\" >0.751166</td>\n",
       "                        <td id=\"T_d0262_row9_col4\" class=\"data row9 col4\" >0.006195</td>\n",
       "            </tr>\n",
       "            <tr>\n",
       "                        <th id=\"T_d0262_level0_row10\" class=\"row_heading level0 row10\" >10</th>\n",
       "                        <td id=\"T_d0262_row10_col0\" class=\"data row10 col0\" >DecisionTreeClassifier</td>\n",
       "                        <td id=\"T_d0262_row10_col1\" class=\"data row10 col1\" >11</td>\n",
       "                        <td id=\"T_d0262_row10_col2\" class=\"data row10 col2\" >0.899896</td>\n",
       "                        <td id=\"T_d0262_row10_col3\" class=\"data row10 col3\" >0.748056</td>\n",
       "                        <td id=\"T_d0262_row10_col4\" class=\"data row10 col4\" >0.006267</td>\n",
       "            </tr>\n",
       "            <tr>\n",
       "                        <th id=\"T_d0262_level0_row11\" class=\"row_heading level0 row11\" >11</th>\n",
       "                        <td id=\"T_d0262_row11_col0\" class=\"data row11 col0\" >DecisionTreeClassifier</td>\n",
       "                        <td id=\"T_d0262_row11_col1\" class=\"data row11 col1\" >12</td>\n",
       "                        <td id=\"T_d0262_row11_col2\" class=\"data row11 col2\" >0.910270</td>\n",
       "                        <td id=\"T_d0262_row11_col3\" class=\"data row11 col3\" >0.751166</td>\n",
       "                        <td id=\"T_d0262_row11_col4\" class=\"data row11 col4\" >0.006807</td>\n",
       "            </tr>\n",
       "            <tr>\n",
       "                        <th id=\"T_d0262_level0_row12\" class=\"row_heading level0 row12\" >12</th>\n",
       "                        <td id=\"T_d0262_row12_col0\" class=\"data row12 col0\" >DecisionTreeClassifier</td>\n",
       "                        <td id=\"T_d0262_row12_col1\" class=\"data row12 col1\" >13</td>\n",
       "                        <td id=\"T_d0262_row12_col2\" class=\"data row12 col2\" >0.920643</td>\n",
       "                        <td id=\"T_d0262_row12_col3\" class=\"data row12 col3\" >0.732504</td>\n",
       "                        <td id=\"T_d0262_row12_col4\" class=\"data row12 col4\" >0.006611</td>\n",
       "            </tr>\n",
       "            <tr>\n",
       "                        <th id=\"T_d0262_level0_row13\" class=\"row_heading level0 row13\" >13</th>\n",
       "                        <td id=\"T_d0262_row13_col0\" class=\"data row13 col0\" >DecisionTreeClassifier</td>\n",
       "                        <td id=\"T_d0262_row13_col1\" class=\"data row13 col1\" >14</td>\n",
       "                        <td id=\"T_d0262_row13_col2\" class=\"data row13 col2\" >0.933091</td>\n",
       "                        <td id=\"T_d0262_row13_col3\" class=\"data row13 col3\" >0.730949</td>\n",
       "                        <td id=\"T_d0262_row13_col4\" class=\"data row13 col4\" >0.006634</td>\n",
       "            </tr>\n",
       "            <tr>\n",
       "                        <th id=\"T_d0262_level0_row14\" class=\"row_heading level0 row14\" >14</th>\n",
       "                        <td id=\"T_d0262_row14_col0\" class=\"data row14 col0\" >DecisionTreeClassifier</td>\n",
       "                        <td id=\"T_d0262_row14_col1\" class=\"data row14 col1\" >15</td>\n",
       "                        <td id=\"T_d0262_row14_col2\" class=\"data row14 col2\" >0.944502</td>\n",
       "                        <td id=\"T_d0262_row14_col3\" class=\"data row14 col3\" >0.727838</td>\n",
       "                        <td id=\"T_d0262_row14_col4\" class=\"data row14 col4\" >0.007490</td>\n",
       "            </tr>\n",
       "            <tr>\n",
       "                        <th id=\"T_d0262_level0_row15\" class=\"row_heading level0 row15\" >15</th>\n",
       "                        <td id=\"T_d0262_row15_col0\" class=\"data row15 col0\" >DecisionTreeClassifier</td>\n",
       "                        <td id=\"T_d0262_row15_col1\" class=\"data row15 col1\" >16</td>\n",
       "                        <td id=\"T_d0262_row15_col2\" class=\"data row15 col2\" >0.954357</td>\n",
       "                        <td id=\"T_d0262_row15_col3\" class=\"data row15 col3\" >0.712286</td>\n",
       "                        <td id=\"T_d0262_row15_col4\" class=\"data row15 col4\" >0.007547</td>\n",
       "            </tr>\n",
       "            <tr>\n",
       "                        <th id=\"T_d0262_level0_row16\" class=\"row_heading level0 row16\" >16</th>\n",
       "                        <td id=\"T_d0262_row16_col0\" class=\"data row16 col0\" >DecisionTreeClassifier</td>\n",
       "                        <td id=\"T_d0262_row16_col1\" class=\"data row16 col1\" >17</td>\n",
       "                        <td id=\"T_d0262_row16_col2\" class=\"data row16 col2\" >0.964730</td>\n",
       "                        <td id=\"T_d0262_row16_col3\" class=\"data row16 col3\" >0.718507</td>\n",
       "                        <td id=\"T_d0262_row16_col4\" class=\"data row16 col4\" >0.007254</td>\n",
       "            </tr>\n",
       "            <tr>\n",
       "                        <th id=\"T_d0262_level0_row17\" class=\"row_heading level0 row17\" >17</th>\n",
       "                        <td id=\"T_d0262_row17_col0\" class=\"data row17 col0\" >DecisionTreeClassifier</td>\n",
       "                        <td id=\"T_d0262_row17_col1\" class=\"data row17 col1\" >18</td>\n",
       "                        <td id=\"T_d0262_row17_col2\" class=\"data row17 col2\" >0.970954</td>\n",
       "                        <td id=\"T_d0262_row17_col3\" class=\"data row17 col3\" >0.709176</td>\n",
       "                        <td id=\"T_d0262_row17_col4\" class=\"data row17 col4\" >0.007068</td>\n",
       "            </tr>\n",
       "            <tr>\n",
       "                        <th id=\"T_d0262_level0_row18\" class=\"row_heading level0 row18\" >18</th>\n",
       "                        <td id=\"T_d0262_row18_col0\" class=\"data row18 col0\" >DecisionTreeClassifier</td>\n",
       "                        <td id=\"T_d0262_row18_col1\" class=\"data row18 col1\" >19</td>\n",
       "                        <td id=\"T_d0262_row18_col2\" class=\"data row18 col2\" >0.976660</td>\n",
       "                        <td id=\"T_d0262_row18_col3\" class=\"data row18 col3\" >0.693624</td>\n",
       "                        <td id=\"T_d0262_row18_col4\" class=\"data row18 col4\" >0.007329</td>\n",
       "            </tr>\n",
       "            <tr>\n",
       "                        <th id=\"T_d0262_level0_row19\" class=\"row_heading level0 row19\" >19</th>\n",
       "                        <td id=\"T_d0262_row19_col0\" class=\"data row19 col0\" >DecisionTreeClassifier</td>\n",
       "                        <td id=\"T_d0262_row19_col1\" class=\"data row19 col1\" >20</td>\n",
       "                        <td id=\"T_d0262_row19_col2\" class=\"data row19 col2\" >0.981328</td>\n",
       "                        <td id=\"T_d0262_row19_col3\" class=\"data row19 col3\" >0.685848</td>\n",
       "                        <td id=\"T_d0262_row19_col4\" class=\"data row19 col4\" >0.007424</td>\n",
       "            </tr>\n",
       "    </tbody></table>"
      ],
      "text/plain": [
       "<pandas.io.formats.style.Styler at 0x7fb44ca9f340>"
      ]
     },
     "execution_count": 14,
     "metadata": {},
     "output_type": "execute_result"
    }
   ],
   "source": [
    "print(\n",
    "    \"\\nMaximum accuracy score for validation data:\",\n",
    "    accuracy_dtc[\"score_on_valid\"].max(),\n",
    ")\n",
    "\n",
    "print(\"\\n\\nModels with maximum accuracy score for validation data:\")\n",
    "accuracy_dtc.style.background_gradient(cmap=cm)"
   ]
  },
  {
   "cell_type": "markdown",
   "metadata": {},
   "source": [
    "<b>Вывод:</b> Видим, что для модели DecisionTreeClassifier максимальное значение accuracy по валидационной выборке `0.783826` получается для глубины дерева (`max_depth`), равной `3` и `4`."
   ]
  },
  {
   "cell_type": "markdown",
   "metadata": {},
   "source": [
    "#### Модель RandomForestClassifier - гиперпараметр числа деревьев"
   ]
  },
  {
   "cell_type": "markdown",
   "metadata": {},
   "source": [
    "Прежде чем исследовать влияние гиперпараметра n_estimators на accuracy модели RandomForestClassifier, зафиксируем интересные (близкие к оптимальным по значению accuracy) нам значения гиперпараметра max_depth:"
   ]
  },
  {
   "cell_type": "code",
   "execution_count": 15,
   "metadata": {},
   "outputs": [
    {
     "data": {
      "image/png": "[encoded data removed]",
      "text/plain": [
       "<Figure size 792x792 with 1 Axes>"
      ]
     },
     "metadata": {
      "needs_background": "light"
     },
     "output_type": "display_data"
    }
   ],
   "source": [
    "plt.subplots(figsize=(11, 11))\n",
    "\n",
    "fig = sns.lineplot(\n",
    "    data=accuracy_rfc.drop(\n",
    "        [\"n_estimators\", \"seconds_fit_runs\"],\n",
    "        axis=1,\n",
    "    )\n",
    "    .groupby(\"depth\")\n",
    "    .max(),\n",
    "    palette=[\"orange\", \"r\"],\n",
    "    markers=True,\n",
    "    markeredgecolor=\"w\",\n",
    "    dashes=False,\n",
    ")\n",
    "\n",
    "fig.set_title(\n",
    "    \"RandomForestClassifier accuracy scores\"\n",
    ")\n",
    "\n",
    "fig.set_ylabel(\"Accuracy score\")\n",
    "fig.set_xlabel(\"Maximum depth of the tree\")\n",
    "fig.set_xticks(range(len(accuracy_dtc) + 1))\n",
    "plt.grid()\n",
    "plt.show()"
   ]
  },
  {
   "cell_type": "markdown",
   "metadata": {},
   "source": [
    "Видим что диапазон значений глубины дерева с максимальной accuracy ~ 0.8, это max_depth = [2...12]"
   ]
  },
  {
   "cell_type": "markdown",
   "metadata": {},
   "source": [
    "Так как RandomForestClassifier - самая требовательная к вычислительным ресурсам модель, посмотрим сколько минут потребовалось на обучение моделей:"
   ]
  },
  {
   "cell_type": "code",
   "execution_count": 16,
   "metadata": {},
   "outputs": [
    {
     "name": "stdout",
     "output_type": "stream",
     "text": [
      "Сколько минут понадобилось на обучение моделей RandomForestClassifier с различными гиперпараметрами: 21.76\n"
     ]
    }
   ],
   "source": [
    "minutes_timing = accuracy_rfc[\"seconds_fit_runs\"].sum()/60\n",
    "print(\n",
    "    f\"Сколько минут понадобилось на обучение моделей RandomForestClassifier с различными гиперпараметрами: {minutes_timing:.2f}\"\n",
    ")"
   ]
  },
  {
   "cell_type": "markdown",
   "metadata": {},
   "source": [
    "Рассмотрим ниже зависимость качества модели RandomForestClassifier от гиперпараметра числа деревьев (n_estimators), для каждого числа деревьев на графике отобразим самый высокий результат среди всех получившихся значений accuracy с различными значениями глубины дерева (max_depth):"
   ]
  },
  {
   "cell_type": "code",
   "execution_count": 17,
   "metadata": {},
   "outputs": [
    {
     "data": {
      "image/png": "[encoded data removed]",
      "text/plain": [
       "<Figure size 864x360 with 1 Axes>"
      ]
     },
     "metadata": {
      "needs_background": "light"
     },
     "output_type": "display_data"
    },
    {
     "data": {
      "image/png": "[encoded data removed]",
      "text/plain": [
       "<Figure size 864x360 with 1 Axes>"
      ]
     },
     "metadata": {
      "needs_background": "light"
     },
     "output_type": "display_data"
    }
   ],
   "source": [
    "plt.subplots(figsize=(12, 5))\n",
    "fig = sns.lineplot(\n",
    "    data=accuracy_rfc.groupby(\"n_estimators\").max().score_on_valid,\n",
    "    color=\"r\",\n",
    ")\n",
    "\n",
    "fig.xaxis.set_major_locator(tick.FixedLocator(range(20, 1401, 20)))\n",
    "ticks_loc = fig.get_xticks().tolist()\n",
    "fig.set_xticklabels(rotation=77, labels=ticks_loc)\n",
    "plt.grid()\n",
    "plt.show()\n",
    "\n",
    "plt.subplots(figsize=(12, 5))\n",
    "fig = sns.lineplot(data=accuracy_rfc.groupby(\"n_estimators\").max().score_on_train)\n",
    "\n",
    "\n",
    "fig.xaxis.set_major_locator(tick.FixedLocator(range(20, 1401, 20)))\n",
    "ticks_loc = fig.get_xticks().tolist()\n",
    "fig.set_xticklabels(rotation=77, labels=ticks_loc)\n",
    "plt.grid()\n",
    "plt.show()"
   ]
  },
  {
   "cell_type": "markdown",
   "metadata": {},
   "source": [
    "Для валидационной выборки видны пики на уровне n_estimators=160 и n_estimators=340. Рассмотрим зависимость качества модели RandomForestClassifier от числа деревьев (n_estimators) ближе, в диапазонах [120..200] и [320..480] с шагом 1, чтобы найти максимальные значения качества модели (accuracy) в зависимости от этого параметра. Для этого обучим модели со значениями n_estimators из вышеуказанного диапазона, также варьируя параметр глубины дерева как мы делали это ранее (max_depth)."
   ]
  },
  {
   "cell_type": "code",
   "execution_count": 18,
   "metadata": {},
   "outputs": [],
   "source": [
    "accuracy_rfc_arr_additional = []\n",
    "for depth in range(2, 13):\n",
    "    for est in range(120, 221, 1):\n",
    "        model_rfc = RandomForestClassifier(\n",
    "            random_state=6_10_22, max_depth=depth, n_estimators=est, n_jobs=-1\n",
    "        )\n",
    "\n",
    "        start_time = time.time()\n",
    "        model_rfc.fit(features_train, target_train)\n",
    "        seconds_fit_runs = time.time() - start_time\n",
    "\n",
    "        add_model_record(\n",
    "            accuracy_rfc_arr_additional,\n",
    "            model=\"RandomForestClassifier\",\n",
    "            depth=depth,\n",
    "            n_estimators=est,\n",
    "            score_on_train=accuracy_score(\n",
    "                model_rfc.predict(features_train), target_train\n",
    "            ),\n",
    "            score_on_valid=accuracy_score(\n",
    "                model_rfc.predict(features_valid), target_valid\n",
    "            ),\n",
    "            seconds_fit_runs=seconds_fit_runs,\n",
    "        )\n",
    "    for est in range(320, 481, 1):\n",
    "        model_rfc = RandomForestClassifier(\n",
    "            random_state=6_10_22, max_depth=depth, n_estimators=est, n_jobs=-1\n",
    "        )\n",
    "\n",
    "        start_time = time.time()\n",
    "        model_rfc.fit(features_train, target_train)\n",
    "        seconds_fit_runs = time.time() - start_time\n",
    "\n",
    "        add_model_record(\n",
    "            accuracy_rfc_arr_additional,\n",
    "            model=\"RandomForestClassifier\",\n",
    "            depth=depth,\n",
    "            n_estimators=est,\n",
    "            score_on_train=accuracy_score(\n",
    "                model_rfc.predict(features_train), target_train\n",
    "            ),\n",
    "            score_on_valid=accuracy_score(\n",
    "                model_rfc.predict(features_valid), target_valid\n",
    "            ),\n",
    "            seconds_fit_runs=seconds_fit_runs,\n",
    "        )"
   ]
  },
  {
   "cell_type": "markdown",
   "metadata": {},
   "source": [
    "Запишем данные в датафрейм:"
   ]
  },
  {
   "cell_type": "code",
   "execution_count": 19,
   "metadata": {},
   "outputs": [],
   "source": [
    "accuracy_rfc_additional = pd.DataFrame(accuracy_rfc_arr_additional)"
   ]
  },
  {
   "cell_type": "markdown",
   "metadata": {},
   "source": [
    "Опять же посмотрим сколько минут потребовалось на обучение дополнительных моделей:"
   ]
  },
  {
   "cell_type": "code",
   "execution_count": 20,
   "metadata": {},
   "outputs": [
    {
     "name": "stdout",
     "output_type": "stream",
     "text": [
      "Сколько минут понадобилось на обучение моделей RandomForestClassifier с различными гиперпараметрами: 26.97\n"
     ]
    }
   ],
   "source": [
    "minutes_timing = accuracy_rfc_additional[\"seconds_fit_runs\"].sum()/60\n",
    "print(\n",
    "    f\"Сколько минут понадобилось на обучение моделей RandomForestClassifier с различными гиперпараметрами: {minutes_timing:.2f}\"\n",
    ")"
   ]
  },
  {
   "cell_type": "markdown",
   "metadata": {},
   "source": [
    "Построим графики для валидационной и тренировочной выборки с максимумами по max_depth:"
   ]
  },
  {
   "cell_type": "code",
   "execution_count": 21,
   "metadata": {},
   "outputs": [
    {
     "data": {
      "image/png": "[encoded data removed]",
      "text/plain": [
       "<Figure size 792x360 with 1 Axes>"
      ]
     },
     "metadata": {
      "needs_background": "light"
     },
     "output_type": "display_data"
    },
    {
     "data": {
      "image/png": "[encoded data removed]",
      "text/plain": [
       "<Figure size 792x360 with 1 Axes>"
      ]
     },
     "metadata": {
      "needs_background": "light"
     },
     "output_type": "display_data"
    }
   ],
   "source": [
    "grouped_accuracy_rfc_additional = accuracy_rfc_additional.groupby(\"n_estimators\")\n",
    "\n",
    "ticks=tick.FixedLocator(range(120, 480, 10))\n",
    "plt.subplots(figsize=(11, 5))\n",
    "fig = sns.lineplot(data=grouped_accuracy_rfc_additional.max().score_on_valid, color=\"r\")\n",
    "fig.xaxis.set_major_locator(ticks)\n",
    "ticks_loc = fig.get_xticks().tolist()\n",
    "fig.set_xticklabels(rotation=70, labels=ticks_loc)\n",
    "plt.grid()\n",
    "plt.show()\n",
    "\n",
    "plt.subplots(figsize=(11, 5))\n",
    "fig = sns.lineplot(data=grouped_accuracy_rfc_additional.max().score_on_train)\n",
    "fig.xaxis.set_major_locator(ticks)\n",
    "ticks_loc = fig.get_xticks().tolist()\n",
    "fig.set_xticklabels(rotation=70, labels=ticks_loc)\n",
    "plt.grid()\n",
    "plt.show()"
   ]
  },
  {
   "cell_type": "markdown",
   "metadata": {},
   "source": [
    "Найдем максимальное значение accuracy для валидационной выборки и соответсвующие ей гиперпараметры:"
   ]
  },
  {
   "cell_type": "code",
   "execution_count": 22,
   "metadata": {},
   "outputs": [
    {
     "name": "stdout",
     "output_type": "stream",
     "text": [
      "\n",
      "Maximum accuracy score for validation data: 0.8040435458786936\n",
      "\n",
      "\n",
      "Models with n_estimators=325 to see difference for various max_depth:\n"
     ]
    },
    {
     "data": {
      "text/html": [
       "<style  type=\"text/css\" >\n",
       "#T_8c614_row0_col1,#T_8c614_row0_col2,#T_8c614_row0_col3,#T_8c614_row0_col5,#T_8c614_row1_col2,#T_8c614_row2_col2,#T_8c614_row3_col2,#T_8c614_row4_col2,#T_8c614_row5_col2,#T_8c614_row6_col2,#T_8c614_row7_col2,#T_8c614_row8_col2,#T_8c614_row8_col4,#T_8c614_row9_col2,#T_8c614_row10_col2{\n",
       "            background-color:  #f3f0ee;\n",
       "            color:  #000000;\n",
       "        }#T_8c614_row0_col4,#T_8c614_row7_col4{\n",
       "            background-color:  #f7d597;\n",
       "            color:  #000000;\n",
       "        }#T_8c614_row1_col1{\n",
       "            background-color:  #f4e9d7;\n",
       "            color:  #000000;\n",
       "        }#T_8c614_row1_col3{\n",
       "            background-color:  #f4ece0;\n",
       "            color:  #000000;\n",
       "        }#T_8c614_row1_col4,#T_8c614_row10_col1,#T_8c614_row10_col3,#T_8c614_row10_col5{\n",
       "            background-color:  #ffa500;\n",
       "            color:  #000000;\n",
       "        }#T_8c614_row1_col5{\n",
       "            background-color:  #f9c86f;\n",
       "            color:  #000000;\n",
       "        }#T_8c614_row2_col1{\n",
       "            background-color:  #f5e1bf;\n",
       "            color:  #000000;\n",
       "        }#T_8c614_row2_col3,#T_8c614_row2_col5{\n",
       "            background-color:  #f4e8d3;\n",
       "            color:  #000000;\n",
       "        }#T_8c614_row2_col4{\n",
       "            background-color:  #feac16;\n",
       "            color:  #000000;\n",
       "        }#T_8c614_row3_col1{\n",
       "            background-color:  #f6daa7;\n",
       "            color:  #000000;\n",
       "        }#T_8c614_row3_col3{\n",
       "            background-color:  #f5e1bd;\n",
       "            color:  #000000;\n",
       "        }#T_8c614_row3_col4,#T_8c614_row5_col4{\n",
       "            background-color:  #fbc057;\n",
       "            color:  #000000;\n",
       "        }#T_8c614_row3_col5{\n",
       "            background-color:  #f6dfb8;\n",
       "            color:  #000000;\n",
       "        }#T_8c614_row4_col1{\n",
       "            background-color:  #f8d28f;\n",
       "            color:  #000000;\n",
       "        }#T_8c614_row4_col3{\n",
       "            background-color:  #f7d69a;\n",
       "            color:  #000000;\n",
       "        }#T_8c614_row4_col4,#T_8c614_row10_col4{\n",
       "            background-color:  #f4e9d9;\n",
       "            color:  #000000;\n",
       "        }#T_8c614_row4_col5{\n",
       "            background-color:  #f8d089;\n",
       "            color:  #000000;\n",
       "        }#T_8c614_row5_col1{\n",
       "            background-color:  #f9ca77;\n",
       "            color:  #000000;\n",
       "        }#T_8c614_row5_col3{\n",
       "            background-color:  #f9cc7b;\n",
       "            color:  #000000;\n",
       "        }#T_8c614_row5_col5{\n",
       "            background-color:  #fac66a;\n",
       "            color:  #000000;\n",
       "        }#T_8c614_row6_col1{\n",
       "            background-color:  #fac35f;\n",
       "            color:  #000000;\n",
       "        }#T_8c614_row6_col3{\n",
       "            background-color:  #fbbe4f;\n",
       "            color:  #000000;\n",
       "        }#T_8c614_row6_col4,#T_8c614_row9_col4{\n",
       "            background-color:  #f6dcae;\n",
       "            color:  #000000;\n",
       "        }#T_8c614_row6_col5{\n",
       "            background-color:  #fbbf53;\n",
       "            color:  #000000;\n",
       "        }#T_8c614_row7_col1{\n",
       "            background-color:  #fbbb47;\n",
       "            color:  #000000;\n",
       "        }#T_8c614_row7_col3{\n",
       "            background-color:  #fcb636;\n",
       "            color:  #000000;\n",
       "        }#T_8c614_row7_col5{\n",
       "            background-color:  #feae1c;\n",
       "            color:  #000000;\n",
       "        }#T_8c614_row8_col1{\n",
       "            background-color:  #fdb430;\n",
       "            color:  #000000;\n",
       "        }#T_8c614_row8_col3{\n",
       "            background-color:  #fdb125;\n",
       "            color:  #000000;\n",
       "        }#T_8c614_row8_col5{\n",
       "            background-color:  #fdb022;\n",
       "            color:  #000000;\n",
       "        }#T_8c614_row9_col1{\n",
       "            background-color:  #feac17;\n",
       "            color:  #000000;\n",
       "        }#T_8c614_row9_col3{\n",
       "            background-color:  #fead18;\n",
       "            color:  #000000;\n",
       "        }#T_8c614_row9_col5{\n",
       "            background-color:  #fcb738;\n",
       "            color:  #000000;\n",
       "        }</style><table id=\"T_8c614_\" ><thead>    <tr>        <th class=\"blank level0\" ></th>        <th class=\"col_heading level0 col0\" >model</th>        <th class=\"col_heading level0 col1\" >depth</th>        <th class=\"col_heading level0 col2\" >n_estimators</th>        <th class=\"col_heading level0 col3\" >score_on_train</th>        <th class=\"col_heading level0 col4\" >score_on_valid</th>        <th class=\"col_heading level0 col5\" >seconds_fit_runs</th>    </tr></thead><tbody>\n",
       "                <tr>\n",
       "                        <th id=\"T_8c614_level0_row0\" class=\"row_heading level0 row0\" >106</th>\n",
       "                        <td id=\"T_8c614_row0_col0\" class=\"data row0 col0\" >RandomForestClassifier</td>\n",
       "                        <td id=\"T_8c614_row0_col1\" class=\"data row0 col1\" >2</td>\n",
       "                        <td id=\"T_8c614_row0_col2\" class=\"data row0 col2\" >325</td>\n",
       "                        <td id=\"T_8c614_row0_col3\" class=\"data row0 col3\" >0.788382</td>\n",
       "                        <td id=\"T_8c614_row0_col4\" class=\"data row0 col4\" >0.793157</td>\n",
       "                        <td id=\"T_8c614_row0_col5\" class=\"data row0 col5\" >0.449472</td>\n",
       "            </tr>\n",
       "            <tr>\n",
       "                        <th id=\"T_8c614_level0_row1\" class=\"row_heading level0 row1\" >368</th>\n",
       "                        <td id=\"T_8c614_row1_col0\" class=\"data row1 col0\" >RandomForestClassifier</td>\n",
       "                        <td id=\"T_8c614_row1_col1\" class=\"data row1 col1\" >3</td>\n",
       "                        <td id=\"T_8c614_row1_col2\" class=\"data row1 col2\" >325</td>\n",
       "                        <td id=\"T_8c614_row1_col3\" class=\"data row1 col3\" >0.795643</td>\n",
       "                        <td id=\"T_8c614_row1_col4\" class=\"data row1 col4\" >0.804044</td>\n",
       "                        <td id=\"T_8c614_row1_col5\" class=\"data row1 col5\" >0.581923</td>\n",
       "            </tr>\n",
       "            <tr>\n",
       "                        <th id=\"T_8c614_level0_row2\" class=\"row_heading level0 row2\" >630</th>\n",
       "                        <td id=\"T_8c614_row2_col0\" class=\"data row2 col0\" >RandomForestClassifier</td>\n",
       "                        <td id=\"T_8c614_row2_col1\" class=\"data row2 col1\" >4</td>\n",
       "                        <td id=\"T_8c614_row2_col2\" class=\"data row2 col2\" >325</td>\n",
       "                        <td id=\"T_8c614_row2_col3\" class=\"data row2 col3\" >0.802386</td>\n",
       "                        <td id=\"T_8c614_row2_col4\" class=\"data row2 col4\" >0.802488</td>\n",
       "                        <td id=\"T_8c614_row2_col5\" class=\"data row2 col5\" >0.477755</td>\n",
       "            </tr>\n",
       "            <tr>\n",
       "                        <th id=\"T_8c614_level0_row3\" class=\"row_heading level0 row3\" >892</th>\n",
       "                        <td id=\"T_8c614_row3_col0\" class=\"data row3 col0\" >RandomForestClassifier</td>\n",
       "                        <td id=\"T_8c614_row3_col1\" class=\"data row3 col1\" >5</td>\n",
       "                        <td id=\"T_8c614_row3_col2\" class=\"data row3 col2\" >325</td>\n",
       "                        <td id=\"T_8c614_row3_col3\" class=\"data row3 col3\" >0.813797</td>\n",
       "                        <td id=\"T_8c614_row3_col4\" class=\"data row3 col4\" >0.797823</td>\n",
       "                        <td id=\"T_8c614_row3_col5\" class=\"data row3 col5\" >0.505666</td>\n",
       "            </tr>\n",
       "            <tr>\n",
       "                        <th id=\"T_8c614_level0_row4\" class=\"row_heading level0 row4\" >1154</th>\n",
       "                        <td id=\"T_8c614_row4_col0\" class=\"data row4 col0\" >RandomForestClassifier</td>\n",
       "                        <td id=\"T_8c614_row4_col1\" class=\"data row4 col1\" >6</td>\n",
       "                        <td id=\"T_8c614_row4_col2\" class=\"data row4 col2\" >325</td>\n",
       "                        <td id=\"T_8c614_row4_col3\" class=\"data row4 col3\" >0.830913</td>\n",
       "                        <td id=\"T_8c614_row4_col4\" class=\"data row4 col4\" >0.788491</td>\n",
       "                        <td id=\"T_8c614_row4_col5\" class=\"data row4 col5\" >0.555021</td>\n",
       "            </tr>\n",
       "            <tr>\n",
       "                        <th id=\"T_8c614_level0_row5\" class=\"row_heading level0 row5\" >1416</th>\n",
       "                        <td id=\"T_8c614_row5_col0\" class=\"data row5 col0\" >RandomForestClassifier</td>\n",
       "                        <td id=\"T_8c614_row5_col1\" class=\"data row5 col1\" >7</td>\n",
       "                        <td id=\"T_8c614_row5_col2\" class=\"data row5 col2\" >325</td>\n",
       "                        <td id=\"T_8c614_row5_col3\" class=\"data row5 col3\" >0.846473</td>\n",
       "                        <td id=\"T_8c614_row5_col4\" class=\"data row5 col4\" >0.797823</td>\n",
       "                        <td id=\"T_8c614_row5_col5\" class=\"data row5 col5\" >0.587765</td>\n",
       "            </tr>\n",
       "            <tr>\n",
       "                        <th id=\"T_8c614_level0_row6\" class=\"row_heading level0 row6\" >1678</th>\n",
       "                        <td id=\"T_8c614_row6_col0\" class=\"data row6 col0\" >RandomForestClassifier</td>\n",
       "                        <td id=\"T_8c614_row6_col1\" class=\"data row6 col1\" >8</td>\n",
       "                        <td id=\"T_8c614_row6_col2\" class=\"data row6 col2\" >325</td>\n",
       "                        <td id=\"T_8c614_row6_col3\" class=\"data row6 col3\" >0.868776</td>\n",
       "                        <td id=\"T_8c614_row6_col4\" class=\"data row6 col4\" >0.791602</td>\n",
       "                        <td id=\"T_8c614_row6_col5\" class=\"data row6 col5\" >0.610601</td>\n",
       "            </tr>\n",
       "            <tr>\n",
       "                        <th id=\"T_8c614_level0_row7\" class=\"row_heading level0 row7\" >1940</th>\n",
       "                        <td id=\"T_8c614_row7_col0\" class=\"data row7 col0\" >RandomForestClassifier</td>\n",
       "                        <td id=\"T_8c614_row7_col1\" class=\"data row7 col1\" >9</td>\n",
       "                        <td id=\"T_8c614_row7_col2\" class=\"data row7 col2\" >325</td>\n",
       "                        <td id=\"T_8c614_row7_col3\" class=\"data row7 col3\" >0.881743</td>\n",
       "                        <td id=\"T_8c614_row7_col4\" class=\"data row7 col4\" >0.793157</td>\n",
       "                        <td id=\"T_8c614_row7_col5\" class=\"data row7 col5\" >0.668183</td>\n",
       "            </tr>\n",
       "            <tr>\n",
       "                        <th id=\"T_8c614_level0_row8\" class=\"row_heading level0 row8\" >2202</th>\n",
       "                        <td id=\"T_8c614_row8_col0\" class=\"data row8 col0\" >RandomForestClassifier</td>\n",
       "                        <td id=\"T_8c614_row8_col1\" class=\"data row8 col1\" >10</td>\n",
       "                        <td id=\"T_8c614_row8_col2\" class=\"data row8 col2\" >325</td>\n",
       "                        <td id=\"T_8c614_row8_col3\" class=\"data row8 col3\" >0.890041</td>\n",
       "                        <td id=\"T_8c614_row8_col4\" class=\"data row8 col4\" >0.786936</td>\n",
       "                        <td id=\"T_8c614_row8_col5\" class=\"data row8 col5\" >0.661922</td>\n",
       "            </tr>\n",
       "            <tr>\n",
       "                        <th id=\"T_8c614_level0_row9\" class=\"row_heading level0 row9\" >2464</th>\n",
       "                        <td id=\"T_8c614_row9_col0\" class=\"data row9 col0\" >RandomForestClassifier</td>\n",
       "                        <td id=\"T_8c614_row9_col1\" class=\"data row9 col1\" >11</td>\n",
       "                        <td id=\"T_8c614_row9_col2\" class=\"data row9 col2\" >325</td>\n",
       "                        <td id=\"T_8c614_row9_col3\" class=\"data row9 col3\" >0.896784</td>\n",
       "                        <td id=\"T_8c614_row9_col4\" class=\"data row9 col4\" >0.791602</td>\n",
       "                        <td id=\"T_8c614_row9_col5\" class=\"data row9 col5\" >0.638999</td>\n",
       "            </tr>\n",
       "            <tr>\n",
       "                        <th id=\"T_8c614_level0_row10\" class=\"row_heading level0 row10\" >2726</th>\n",
       "                        <td id=\"T_8c614_row10_col0\" class=\"data row10 col0\" >RandomForestClassifier</td>\n",
       "                        <td id=\"T_8c614_row10_col1\" class=\"data row10 col1\" >12</td>\n",
       "                        <td id=\"T_8c614_row10_col2\" class=\"data row10 col2\" >325</td>\n",
       "                        <td id=\"T_8c614_row10_col3\" class=\"data row10 col3\" >0.909232</td>\n",
       "                        <td id=\"T_8c614_row10_col4\" class=\"data row10 col4\" >0.788491</td>\n",
       "                        <td id=\"T_8c614_row10_col5\" class=\"data row10 col5\" >0.697354</td>\n",
       "            </tr>\n",
       "    </tbody></table>"
      ],
      "text/plain": [
       "<pandas.io.formats.style.Styler at 0x7fb44f1b2eb0>"
      ]
     },
     "metadata": {},
     "output_type": "display_data"
    },
    {
     "name": "stdout",
     "output_type": "stream",
     "text": [
      "\n",
      "\n",
      "Models with maximum accuracy score for validation data:\n"
     ]
    },
    {
     "data": {
      "text/html": [
       "<style  type=\"text/css\" >\n",
       "#T_2dd2d_row0_col1,#T_2dd2d_row0_col2,#T_2dd2d_row0_col4,#T_2dd2d_row0_col5,#T_2dd2d_row1_col1,#T_2dd2d_row1_col2,#T_2dd2d_row1_col3,#T_2dd2d_row1_col4,#T_2dd2d_row2_col1,#T_2dd2d_row2_col4,#T_2dd2d_row3_col1,#T_2dd2d_row3_col3,#T_2dd2d_row3_col4,#T_2dd2d_row3_col5,#T_2dd2d_row4_col1,#T_2dd2d_row4_col3,#T_2dd2d_row4_col4,#T_2dd2d_row5_col1,#T_2dd2d_row5_col4,#T_2dd2d_row6_col1,#T_2dd2d_row6_col3,#T_2dd2d_row6_col4,#T_2dd2d_row7_col1,#T_2dd2d_row7_col4,#T_2dd2d_row8_col1,#T_2dd2d_row8_col4,#T_2dd2d_row9_col1,#T_2dd2d_row9_col3,#T_2dd2d_row9_col4,#T_2dd2d_row10_col1,#T_2dd2d_row10_col3,#T_2dd2d_row10_col4,#T_2dd2d_row11_col1,#T_2dd2d_row11_col3,#T_2dd2d_row11_col4,#T_2dd2d_row12_col1,#T_2dd2d_row12_col3,#T_2dd2d_row12_col4,#T_2dd2d_row13_col1,#T_2dd2d_row13_col3,#T_2dd2d_row13_col4,#T_2dd2d_row14_col1,#T_2dd2d_row14_col3,#T_2dd2d_row14_col4,#T_2dd2d_row15_col1,#T_2dd2d_row15_col3,#T_2dd2d_row15_col4,#T_2dd2d_row16_col1,#T_2dd2d_row16_col3,#T_2dd2d_row16_col4,#T_2dd2d_row17_col1,#T_2dd2d_row17_col3,#T_2dd2d_row17_col4,#T_2dd2d_row18_col1,#T_2dd2d_row18_col4,#T_2dd2d_row19_col1,#T_2dd2d_row19_col3,#T_2dd2d_row19_col4,#T_2dd2d_row20_col1,#T_2dd2d_row20_col3,#T_2dd2d_row20_col4,#T_2dd2d_row21_col1,#T_2dd2d_row21_col3,#T_2dd2d_row21_col4,#T_2dd2d_row22_col1,#T_2dd2d_row22_col3,#T_2dd2d_row22_col4,#T_2dd2d_row23_col1,#T_2dd2d_row23_col4,#T_2dd2d_row24_col1,#T_2dd2d_row24_col3,#T_2dd2d_row24_col4,#T_2dd2d_row25_col1,#T_2dd2d_row25_col3,#T_2dd2d_row25_col4,#T_2dd2d_row26_col1,#T_2dd2d_row26_col4,#T_2dd2d_row27_col1,#T_2dd2d_row27_col3,#T_2dd2d_row27_col4,#T_2dd2d_row28_col1,#T_2dd2d_row28_col4,#T_2dd2d_row29_col1,#T_2dd2d_row29_col3,#T_2dd2d_row29_col4,#T_2dd2d_row30_col1,#T_2dd2d_row30_col4,#T_2dd2d_row31_col1,#T_2dd2d_row31_col4,#T_2dd2d_row32_col1,#T_2dd2d_row32_col4,#T_2dd2d_row33_col1,#T_2dd2d_row33_col4,#T_2dd2d_row34_col1,#T_2dd2d_row34_col4,#T_2dd2d_row35_col1,#T_2dd2d_row35_col4,#T_2dd2d_row36_col1,#T_2dd2d_row36_col4,#T_2dd2d_row37_col1,#T_2dd2d_row37_col4,#T_2dd2d_row38_col1,#T_2dd2d_row38_col4,#T_2dd2d_row39_col1,#T_2dd2d_row39_col4,#T_2dd2d_row40_col1,#T_2dd2d_row40_col4,#T_2dd2d_row41_col1,#T_2dd2d_row41_col4,#T_2dd2d_row42_col1,#T_2dd2d_row42_col4,#T_2dd2d_row43_col1,#T_2dd2d_row43_col4,#T_2dd2d_row44_col1,#T_2dd2d_row44_col3,#T_2dd2d_row44_col4,#T_2dd2d_row45_col1,#T_2dd2d_row45_col3,#T_2dd2d_row45_col4,#T_2dd2d_row46_col1,#T_2dd2d_row46_col3,#T_2dd2d_row46_col4,#T_2dd2d_row47_col1,#T_2dd2d_row47_col3,#T_2dd2d_row47_col4,#T_2dd2d_row48_col1,#T_2dd2d_row48_col3,#T_2dd2d_row48_col4,#T_2dd2d_row49_col1,#T_2dd2d_row49_col3,#T_2dd2d_row49_col4,#T_2dd2d_row50_col1,#T_2dd2d_row50_col3,#T_2dd2d_row50_col4,#T_2dd2d_row51_col1,#T_2dd2d_row51_col3,#T_2dd2d_row51_col4,#T_2dd2d_row52_col1,#T_2dd2d_row52_col3,#T_2dd2d_row52_col4,#T_2dd2d_row53_col1,#T_2dd2d_row53_col3,#T_2dd2d_row53_col4,#T_2dd2d_row54_col1,#T_2dd2d_row54_col3,#T_2dd2d_row54_col4,#T_2dd2d_row55_col1,#T_2dd2d_row55_col3,#T_2dd2d_row55_col4,#T_2dd2d_row56_col1,#T_2dd2d_row56_col3,#T_2dd2d_row56_col4,#T_2dd2d_row57_col1,#T_2dd2d_row57_col3,#T_2dd2d_row57_col4,#T_2dd2d_row58_col1,#T_2dd2d_row58_col3,#T_2dd2d_row58_col4,#T_2dd2d_row59_col1,#T_2dd2d_row59_col3,#T_2dd2d_row59_col4,#T_2dd2d_row60_col1,#T_2dd2d_row60_col3,#T_2dd2d_row60_col4,#T_2dd2d_row61_col1,#T_2dd2d_row61_col3,#T_2dd2d_row61_col4,#T_2dd2d_row62_col1,#T_2dd2d_row62_col3,#T_2dd2d_row62_col4,#T_2dd2d_row63_col1,#T_2dd2d_row63_col3,#T_2dd2d_row63_col4,#T_2dd2d_row64_col1,#T_2dd2d_row64_col3,#T_2dd2d_row64_col4,#T_2dd2d_row65_col1,#T_2dd2d_row65_col3,#T_2dd2d_row65_col4,#T_2dd2d_row66_col1,#T_2dd2d_row66_col3,#T_2dd2d_row66_col4,#T_2dd2d_row67_col1,#T_2dd2d_row67_col4,#T_2dd2d_row68_col1,#T_2dd2d_row68_col3,#T_2dd2d_row68_col4,#T_2dd2d_row69_col1,#T_2dd2d_row69_col3,#T_2dd2d_row69_col4,#T_2dd2d_row70_col1,#T_2dd2d_row70_col3,#T_2dd2d_row70_col4,#T_2dd2d_row71_col1,#T_2dd2d_row71_col4,#T_2dd2d_row72_col1,#T_2dd2d_row72_col3,#T_2dd2d_row72_col4,#T_2dd2d_row73_col1,#T_2dd2d_row73_col3,#T_2dd2d_row73_col4,#T_2dd2d_row74_col1,#T_2dd2d_row74_col3,#T_2dd2d_row74_col4,#T_2dd2d_row75_col1,#T_2dd2d_row75_col4,#T_2dd2d_row76_col1,#T_2dd2d_row76_col4,#T_2dd2d_row77_col1,#T_2dd2d_row77_col4,#T_2dd2d_row78_col1,#T_2dd2d_row78_col4,#T_2dd2d_row79_col1,#T_2dd2d_row79_col4,#T_2dd2d_row80_col1,#T_2dd2d_row80_col4,#T_2dd2d_row81_col1,#T_2dd2d_row81_col4,#T_2dd2d_row82_col1,#T_2dd2d_row82_col4,#T_2dd2d_row83_col1,#T_2dd2d_row83_col4,#T_2dd2d_row84_col1,#T_2dd2d_row84_col4,#T_2dd2d_row85_col1,#T_2dd2d_row85_col4,#T_2dd2d_row86_col1,#T_2dd2d_row86_col4,#T_2dd2d_row87_col1,#T_2dd2d_row87_col4,#T_2dd2d_row88_col1,#T_2dd2d_row88_col3,#T_2dd2d_row88_col4,#T_2dd2d_row89_col1,#T_2dd2d_row89_col3,#T_2dd2d_row89_col4,#T_2dd2d_row90_col1,#T_2dd2d_row90_col3,#T_2dd2d_row90_col4,#T_2dd2d_row91_col1,#T_2dd2d_row91_col3,#T_2dd2d_row91_col4,#T_2dd2d_row92_col1,#T_2dd2d_row92_col3,#T_2dd2d_row92_col4,#T_2dd2d_row93_col1,#T_2dd2d_row93_col3,#T_2dd2d_row93_col4,#T_2dd2d_row94_col1,#T_2dd2d_row94_col3,#T_2dd2d_row94_col4,#T_2dd2d_row95_col1,#T_2dd2d_row95_col3,#T_2dd2d_row95_col4,#T_2dd2d_row96_col1,#T_2dd2d_row96_col3,#T_2dd2d_row96_col4,#T_2dd2d_row97_col1,#T_2dd2d_row97_col3,#T_2dd2d_row97_col4,#T_2dd2d_row98_col1,#T_2dd2d_row98_col3,#T_2dd2d_row98_col4,#T_2dd2d_row99_col1,#T_2dd2d_row99_col3,#T_2dd2d_row99_col4,#T_2dd2d_row100_col1,#T_2dd2d_row100_col3,#T_2dd2d_row100_col4,#T_2dd2d_row101_col1,#T_2dd2d_row101_col3,#T_2dd2d_row101_col4,#T_2dd2d_row102_col1,#T_2dd2d_row102_col3,#T_2dd2d_row102_col4,#T_2dd2d_row103_col1,#T_2dd2d_row103_col3,#T_2dd2d_row103_col4,#T_2dd2d_row104_col1,#T_2dd2d_row104_col3,#T_2dd2d_row104_col4,#T_2dd2d_row105_col1,#T_2dd2d_row105_col3,#T_2dd2d_row105_col4,#T_2dd2d_row106_col1,#T_2dd2d_row106_col3,#T_2dd2d_row106_col4,#T_2dd2d_row107_col1,#T_2dd2d_row107_col3,#T_2dd2d_row107_col4,#T_2dd2d_row108_col1,#T_2dd2d_row108_col3,#T_2dd2d_row108_col4,#T_2dd2d_row109_col1,#T_2dd2d_row109_col3,#T_2dd2d_row109_col4,#T_2dd2d_row110_col1,#T_2dd2d_row110_col3,#T_2dd2d_row110_col4,#T_2dd2d_row111_col1,#T_2dd2d_row111_col3,#T_2dd2d_row111_col4,#T_2dd2d_row112_col1,#T_2dd2d_row112_col3,#T_2dd2d_row112_col4,#T_2dd2d_row113_col1,#T_2dd2d_row113_col3,#T_2dd2d_row113_col4,#T_2dd2d_row114_col1,#T_2dd2d_row114_col3,#T_2dd2d_row114_col4,#T_2dd2d_row115_col1,#T_2dd2d_row115_col3,#T_2dd2d_row115_col4,#T_2dd2d_row116_col1,#T_2dd2d_row116_col3,#T_2dd2d_row116_col4,#T_2dd2d_row117_col1,#T_2dd2d_row117_col3,#T_2dd2d_row117_col4,#T_2dd2d_row118_col1,#T_2dd2d_row118_col3,#T_2dd2d_row118_col4,#T_2dd2d_row119_col1,#T_2dd2d_row119_col3,#T_2dd2d_row119_col4,#T_2dd2d_row120_col1,#T_2dd2d_row120_col3,#T_2dd2d_row120_col4,#T_2dd2d_row121_col1,#T_2dd2d_row121_col3,#T_2dd2d_row121_col4,#T_2dd2d_row122_col1,#T_2dd2d_row122_col3,#T_2dd2d_row122_col4,#T_2dd2d_row123_col1,#T_2dd2d_row123_col3,#T_2dd2d_row123_col4,#T_2dd2d_row124_col1,#T_2dd2d_row124_col3,#T_2dd2d_row124_col4,#T_2dd2d_row125_col1,#T_2dd2d_row125_col3,#T_2dd2d_row125_col4,#T_2dd2d_row126_col1,#T_2dd2d_row126_col3,#T_2dd2d_row126_col4{\n",
       "            background-color:  #f3f0ee;\n",
       "            color:  #000000;\n",
       "        }#T_2dd2d_row0_col3,#T_2dd2d_row2_col3,#T_2dd2d_row5_col3,#T_2dd2d_row7_col3,#T_2dd2d_row8_col3,#T_2dd2d_row18_col3,#T_2dd2d_row23_col3,#T_2dd2d_row26_col3,#T_2dd2d_row28_col3,#T_2dd2d_row34_col3,#T_2dd2d_row35_col3,#T_2dd2d_row36_col3,#T_2dd2d_row37_col3,#T_2dd2d_row38_col3,#T_2dd2d_row39_col3,#T_2dd2d_row40_col3,#T_2dd2d_row41_col3,#T_2dd2d_row42_col3,#T_2dd2d_row43_col3,#T_2dd2d_row67_col3,#T_2dd2d_row71_col3,#T_2dd2d_row75_col3,#T_2dd2d_row76_col3,#T_2dd2d_row77_col3,#T_2dd2d_row78_col3,#T_2dd2d_row79_col3,#T_2dd2d_row80_col3,#T_2dd2d_row81_col3,#T_2dd2d_row82_col3,#T_2dd2d_row83_col3,#T_2dd2d_row84_col3,#T_2dd2d_row85_col3,#T_2dd2d_row86_col3,#T_2dd2d_row87_col3{\n",
       "            background-color:  #f7d79f;\n",
       "            color:  #000000;\n",
       "        }#T_2dd2d_row1_col5,#T_2dd2d_row4_col2,#T_2dd2d_row5_col2{\n",
       "            background-color:  #f3eee9;\n",
       "            color:  #000000;\n",
       "        }#T_2dd2d_row2_col2{\n",
       "            background-color:  #f3f0ed;\n",
       "            color:  #000000;\n",
       "        }#T_2dd2d_row2_col5,#T_2dd2d_row3_col2{\n",
       "            background-color:  #f3efea;\n",
       "            color:  #000000;\n",
       "        }#T_2dd2d_row4_col5{\n",
       "            background-color:  #f3eee8;\n",
       "            color:  #000000;\n",
       "        }#T_2dd2d_row5_col5,#T_2dd2d_row7_col2{\n",
       "            background-color:  #f3ede6;\n",
       "            color:  #000000;\n",
       "        }#T_2dd2d_row6_col2,#T_2dd2d_row6_col5,#T_2dd2d_row7_col5{\n",
       "            background-color:  #f3eee7;\n",
       "            color:  #000000;\n",
       "        }#T_2dd2d_row8_col2{\n",
       "            background-color:  #f3ede5;\n",
       "            color:  #000000;\n",
       "        }#T_2dd2d_row8_col5,#T_2dd2d_row10_col2,#T_2dd2d_row11_col2{\n",
       "            background-color:  #f3ede3;\n",
       "            color:  #000000;\n",
       "        }#T_2dd2d_row9_col2{\n",
       "            background-color:  #f3ede4;\n",
       "            color:  #000000;\n",
       "        }#T_2dd2d_row9_col5{\n",
       "            background-color:  #f4eadb;\n",
       "            color:  #000000;\n",
       "        }#T_2dd2d_row10_col5,#T_2dd2d_row12_col2{\n",
       "            background-color:  #f3ece2;\n",
       "            color:  #000000;\n",
       "        }#T_2dd2d_row11_col5,#T_2dd2d_row12_col5,#T_2dd2d_row13_col5,#T_2dd2d_row14_col2{\n",
       "            background-color:  #f4ece0;\n",
       "            color:  #000000;\n",
       "        }#T_2dd2d_row13_col2{\n",
       "            background-color:  #f4ece1;\n",
       "            color:  #000000;\n",
       "        }#T_2dd2d_row14_col5{\n",
       "            background-color:  #f4ebdf;\n",
       "            color:  #000000;\n",
       "        }#T_2dd2d_row15_col2{\n",
       "            background-color:  #f4e8d5;\n",
       "            color:  #000000;\n",
       "        }#T_2dd2d_row15_col5{\n",
       "            background-color:  #f4e8d4;\n",
       "            color:  #000000;\n",
       "        }#T_2dd2d_row16_col2,#T_2dd2d_row16_col5{\n",
       "            background-color:  #f4e7d2;\n",
       "            color:  #000000;\n",
       "        }#T_2dd2d_row17_col2{\n",
       "            background-color:  #f4e7d1;\n",
       "            color:  #000000;\n",
       "        }#T_2dd2d_row17_col5,#T_2dd2d_row26_col2{\n",
       "            background-color:  #f5e3c4;\n",
       "            color:  #000000;\n",
       "        }#T_2dd2d_row18_col2,#T_2dd2d_row26_col5{\n",
       "            background-color:  #f5e5cc;\n",
       "            color:  #000000;\n",
       "        }#T_2dd2d_row18_col5{\n",
       "            background-color:  #f4e6d0;\n",
       "            color:  #000000;\n",
       "        }#T_2dd2d_row19_col2,#T_2dd2d_row19_col5,#T_2dd2d_row25_col5{\n",
       "            background-color:  #f5e5cb;\n",
       "            color:  #000000;\n",
       "        }#T_2dd2d_row20_col2,#T_2dd2d_row22_col5{\n",
       "            background-color:  #f5e5ca;\n",
       "            color:  #000000;\n",
       "        }#T_2dd2d_row20_col5{\n",
       "            background-color:  #f5e6cd;\n",
       "            color:  #000000;\n",
       "        }#T_2dd2d_row21_col2,#T_2dd2d_row29_col5{\n",
       "            background-color:  #f5e4c9;\n",
       "            color:  #000000;\n",
       "        }#T_2dd2d_row21_col5,#T_2dd2d_row27_col5,#T_2dd2d_row28_col2{\n",
       "            background-color:  #f5e2c2;\n",
       "            color:  #000000;\n",
       "        }#T_2dd2d_row22_col2,#T_2dd2d_row28_col5{\n",
       "            background-color:  #f5e4c8;\n",
       "            color:  #000000;\n",
       "        }#T_2dd2d_row23_col2{\n",
       "            background-color:  #f5e4c7;\n",
       "            color:  #000000;\n",
       "        }#T_2dd2d_row23_col5{\n",
       "            background-color:  #f6dcaf;\n",
       "            color:  #000000;\n",
       "        }#T_2dd2d_row24_col2{\n",
       "            background-color:  #f5e3c6;\n",
       "            color:  #000000;\n",
       "        }#T_2dd2d_row24_col5{\n",
       "            background-color:  #f4e6cf;\n",
       "            color:  #000000;\n",
       "        }#T_2dd2d_row25_col2{\n",
       "            background-color:  #f5e3c5;\n",
       "            color:  #000000;\n",
       "        }#T_2dd2d_row27_col2{\n",
       "            background-color:  #f5e3c3;\n",
       "            color:  #000000;\n",
       "        }#T_2dd2d_row29_col2{\n",
       "            background-color:  #f5e2c1;\n",
       "            color:  #000000;\n",
       "        }#T_2dd2d_row30_col2{\n",
       "            background-color:  #fac565;\n",
       "            color:  #000000;\n",
       "        }#T_2dd2d_row30_col3,#T_2dd2d_row31_col3,#T_2dd2d_row33_col3,#T_2dd2d_row108_col5,#T_2dd2d_row125_col2,#T_2dd2d_row126_col2{\n",
       "            background-color:  #ffa500;\n",
       "            color:  #000000;\n",
       "        }#T_2dd2d_row30_col5,#T_2dd2d_row65_col2{\n",
       "            background-color:  #fcba42;\n",
       "            color:  #000000;\n",
       "        }#T_2dd2d_row31_col2{\n",
       "            background-color:  #fac564;\n",
       "            color:  #000000;\n",
       "        }#T_2dd2d_row31_col5,#T_2dd2d_row34_col5{\n",
       "            background-color:  #f9cc7b;\n",
       "            color:  #000000;\n",
       "        }#T_2dd2d_row32_col2,#T_2dd2d_row51_col5,#T_2dd2d_row61_col5{\n",
       "            background-color:  #fac462;\n",
       "            color:  #000000;\n",
       "        }#T_2dd2d_row32_col3,#T_2dd2d_row55_col2,#T_2dd2d_row56_col2,#T_2dd2d_row62_col5{\n",
       "            background-color:  #fbbe4f;\n",
       "            color:  #000000;\n",
       "        }#T_2dd2d_row32_col5{\n",
       "            background-color:  #fac76b;\n",
       "            color:  #000000;\n",
       "        }#T_2dd2d_row33_col2,#T_2dd2d_row46_col5{\n",
       "            background-color:  #fac461;\n",
       "            color:  #000000;\n",
       "        }#T_2dd2d_row33_col5,#T_2dd2d_row35_col5,#T_2dd2d_row45_col5{\n",
       "            background-color:  #f9cb78;\n",
       "            color:  #000000;\n",
       "        }#T_2dd2d_row34_col2{\n",
       "            background-color:  #fac360;\n",
       "            color:  #000000;\n",
       "        }#T_2dd2d_row35_col2,#T_2dd2d_row36_col2,#T_2dd2d_row50_col5,#T_2dd2d_row57_col5{\n",
       "            background-color:  #fac35f;\n",
       "            color:  #000000;\n",
       "        }#T_2dd2d_row36_col5,#T_2dd2d_row38_col5{\n",
       "            background-color:  #fac76c;\n",
       "            color:  #000000;\n",
       "        }#T_2dd2d_row37_col2,#T_2dd2d_row52_col5,#T_2dd2d_row59_col5{\n",
       "            background-color:  #fac35e;\n",
       "            color:  #000000;\n",
       "        }#T_2dd2d_row37_col5{\n",
       "            background-color:  #f9cb79;\n",
       "            color:  #000000;\n",
       "        }#T_2dd2d_row38_col2,#T_2dd2d_row48_col5,#T_2dd2d_row55_col5,#T_2dd2d_row58_col5,#T_2dd2d_row68_col5{\n",
       "            background-color:  #fac25e;\n",
       "            color:  #000000;\n",
       "        }#T_2dd2d_row39_col2{\n",
       "            background-color:  #fac25d;\n",
       "            color:  #000000;\n",
       "        }#T_2dd2d_row39_col5,#T_2dd2d_row44_col5{\n",
       "            background-color:  #f9ca77;\n",
       "            color:  #000000;\n",
       "        }#T_2dd2d_row40_col2,#T_2dd2d_row66_col5{\n",
       "            background-color:  #fac25c;\n",
       "            color:  #000000;\n",
       "        }#T_2dd2d_row40_col5{\n",
       "            background-color:  #f9cb7a;\n",
       "            color:  #000000;\n",
       "        }#T_2dd2d_row41_col2{\n",
       "            background-color:  #fac25b;\n",
       "            color:  #000000;\n",
       "        }#T_2dd2d_row41_col5{\n",
       "            background-color:  #f9c86e;\n",
       "            color:  #000000;\n",
       "        }#T_2dd2d_row42_col2,#T_2dd2d_row53_col5{\n",
       "            background-color:  #fac15a;\n",
       "            color:  #000000;\n",
       "        }#T_2dd2d_row42_col5{\n",
       "            background-color:  #f9c86f;\n",
       "            color:  #000000;\n",
       "        }#T_2dd2d_row43_col2,#T_2dd2d_row44_col2,#T_2dd2d_row70_col5,#T_2dd2d_row71_col5{\n",
       "            background-color:  #fac159;\n",
       "            color:  #000000;\n",
       "        }#T_2dd2d_row43_col5{\n",
       "            background-color:  #f9c972;\n",
       "            color:  #000000;\n",
       "        }#T_2dd2d_row45_col2,#T_2dd2d_row72_col5,#T_2dd2d_row73_col5{\n",
       "            background-color:  #fbc158;\n",
       "            color:  #000000;\n",
       "        }#T_2dd2d_row46_col2,#T_2dd2d_row54_col5,#T_2dd2d_row74_col5,#T_2dd2d_row75_col5{\n",
       "            background-color:  #fbc057;\n",
       "            color:  #000000;\n",
       "        }#T_2dd2d_row47_col2,#T_2dd2d_row69_col5{\n",
       "            background-color:  #fbc056;\n",
       "            color:  #000000;\n",
       "        }#T_2dd2d_row47_col5,#T_2dd2d_row48_col2{\n",
       "            background-color:  #fbc055;\n",
       "            color:  #000000;\n",
       "        }#T_2dd2d_row49_col2{\n",
       "            background-color:  #fbc054;\n",
       "            color:  #000000;\n",
       "        }#T_2dd2d_row49_col5,#T_2dd2d_row50_col2,#T_2dd2d_row51_col2,#T_2dd2d_row65_col5{\n",
       "            background-color:  #fbbf53;\n",
       "            color:  #000000;\n",
       "        }#T_2dd2d_row52_col2{\n",
       "            background-color:  #fbbf52;\n",
       "            color:  #000000;\n",
       "        }#T_2dd2d_row53_col2{\n",
       "            background-color:  #fbbf51;\n",
       "            color:  #000000;\n",
       "        }#T_2dd2d_row54_col2,#T_2dd2d_row76_col5,#T_2dd2d_row78_col5{\n",
       "            background-color:  #fbbe50;\n",
       "            color:  #000000;\n",
       "        }#T_2dd2d_row56_col5,#T_2dd2d_row59_col2{\n",
       "            background-color:  #fbbd4d;\n",
       "            color:  #000000;\n",
       "        }#T_2dd2d_row57_col2,#T_2dd2d_row58_col2,#T_2dd2d_row67_col5,#T_2dd2d_row79_col5{\n",
       "            background-color:  #fbbd4e;\n",
       "            color:  #000000;\n",
       "        }#T_2dd2d_row60_col2{\n",
       "            background-color:  #fbbd4c;\n",
       "            color:  #000000;\n",
       "        }#T_2dd2d_row60_col5{\n",
       "            background-color:  #fac66a;\n",
       "            color:  #000000;\n",
       "        }#T_2dd2d_row61_col2{\n",
       "            background-color:  #fbbd4b;\n",
       "            color:  #000000;\n",
       "        }#T_2dd2d_row62_col2{\n",
       "            background-color:  #fbbc4a;\n",
       "            color:  #000000;\n",
       "        }#T_2dd2d_row63_col2{\n",
       "            background-color:  #fcbb44;\n",
       "            color:  #000000;\n",
       "        }#T_2dd2d_row63_col5{\n",
       "            background-color:  #fbbb46;\n",
       "            color:  #000000;\n",
       "        }#T_2dd2d_row64_col2,#T_2dd2d_row92_col5{\n",
       "            background-color:  #fcba43;\n",
       "            color:  #000000;\n",
       "        }#T_2dd2d_row64_col5,#T_2dd2d_row90_col5,#T_2dd2d_row91_col5{\n",
       "            background-color:  #fcb940;\n",
       "            color:  #000000;\n",
       "        }#T_2dd2d_row66_col2,#T_2dd2d_row101_col5{\n",
       "            background-color:  #fcba41;\n",
       "            color:  #000000;\n",
       "        }#T_2dd2d_row67_col2{\n",
       "            background-color:  #fcb83c;\n",
       "            color:  #000000;\n",
       "        }#T_2dd2d_row68_col2,#T_2dd2d_row69_col2,#T_2dd2d_row87_col5,#T_2dd2d_row97_col5{\n",
       "            background-color:  #fcb83b;\n",
       "            color:  #000000;\n",
       "        }#T_2dd2d_row70_col2{\n",
       "            background-color:  #fcb73a;\n",
       "            color:  #000000;\n",
       "        }#T_2dd2d_row71_col2,#T_2dd2d_row89_col5,#T_2dd2d_row103_col5{\n",
       "            background-color:  #fcb738;\n",
       "            color:  #000000;\n",
       "        }#T_2dd2d_row72_col2,#T_2dd2d_row93_col5,#T_2dd2d_row98_col5{\n",
       "            background-color:  #fcb637;\n",
       "            color:  #000000;\n",
       "        }#T_2dd2d_row73_col2{\n",
       "            background-color:  #fcb636;\n",
       "            color:  #000000;\n",
       "        }#T_2dd2d_row74_col2,#T_2dd2d_row75_col2{\n",
       "            background-color:  #fcb635;\n",
       "            color:  #000000;\n",
       "        }#T_2dd2d_row76_col2,#T_2dd2d_row102_col5{\n",
       "            background-color:  #fcb534;\n",
       "            color:  #000000;\n",
       "        }#T_2dd2d_row77_col2,#T_2dd2d_row80_col5,#T_2dd2d_row85_col5,#T_2dd2d_row95_col5,#T_2dd2d_row105_col5{\n",
       "            background-color:  #fcb532;\n",
       "            color:  #000000;\n",
       "        }#T_2dd2d_row77_col5{\n",
       "            background-color:  #fbbc48;\n",
       "            color:  #000000;\n",
       "        }#T_2dd2d_row78_col2,#T_2dd2d_row116_col5{\n",
       "            background-color:  #fdb32d;\n",
       "            color:  #000000;\n",
       "        }#T_2dd2d_row79_col2,#T_2dd2d_row81_col5,#T_2dd2d_row122_col5{\n",
       "            background-color:  #fdb32c;\n",
       "            color:  #000000;\n",
       "        }#T_2dd2d_row80_col2,#T_2dd2d_row99_col5{\n",
       "            background-color:  #fdb125;\n",
       "            color:  #000000;\n",
       "        }#T_2dd2d_row81_col2,#T_2dd2d_row82_col2{\n",
       "            background-color:  #fdb024;\n",
       "            color:  #000000;\n",
       "        }#T_2dd2d_row82_col5,#T_2dd2d_row83_col5{\n",
       "            background-color:  #fbbb45;\n",
       "            color:  #000000;\n",
       "        }#T_2dd2d_row83_col2,#T_2dd2d_row84_col5,#T_2dd2d_row104_col5{\n",
       "            background-color:  #fdb023;\n",
       "            color:  #000000;\n",
       "        }#T_2dd2d_row84_col2{\n",
       "            background-color:  #fdb022;\n",
       "            color:  #000000;\n",
       "        }#T_2dd2d_row85_col2{\n",
       "            background-color:  #fdaf21;\n",
       "            color:  #000000;\n",
       "        }#T_2dd2d_row86_col2,#T_2dd2d_row118_col5{\n",
       "            background-color:  #fdaf20;\n",
       "            color:  #000000;\n",
       "        }#T_2dd2d_row86_col5,#T_2dd2d_row98_col2,#T_2dd2d_row99_col2,#T_2dd2d_row126_col5{\n",
       "            background-color:  #feac16;\n",
       "            color:  #000000;\n",
       "        }#T_2dd2d_row87_col2{\n",
       "            background-color:  #fdaf1f;\n",
       "            color:  #000000;\n",
       "        }#T_2dd2d_row88_col2{\n",
       "            background-color:  #fdae1e;\n",
       "            color:  #000000;\n",
       "        }#T_2dd2d_row88_col5{\n",
       "            background-color:  #fcb83e;\n",
       "            color:  #000000;\n",
       "        }#T_2dd2d_row89_col2,#T_2dd2d_row90_col2{\n",
       "            background-color:  #feae1d;\n",
       "            color:  #000000;\n",
       "        }#T_2dd2d_row91_col2,#T_2dd2d_row109_col5{\n",
       "            background-color:  #feae1c;\n",
       "            color:  #000000;\n",
       "        }#T_2dd2d_row92_col2,#T_2dd2d_row106_col5{\n",
       "            background-color:  #feae1b;\n",
       "            color:  #000000;\n",
       "        }#T_2dd2d_row93_col2,#T_2dd2d_row114_col5{\n",
       "            background-color:  #fead1a;\n",
       "            color:  #000000;\n",
       "        }#T_2dd2d_row94_col2{\n",
       "            background-color:  #fead19;\n",
       "            color:  #000000;\n",
       "        }#T_2dd2d_row94_col5{\n",
       "            background-color:  #fdb431;\n",
       "            color:  #000000;\n",
       "        }#T_2dd2d_row95_col2,#T_2dd2d_row112_col5{\n",
       "            background-color:  #fead18;\n",
       "            color:  #000000;\n",
       "        }#T_2dd2d_row96_col2,#T_2dd2d_row97_col2{\n",
       "            background-color:  #feac17;\n",
       "            color:  #000000;\n",
       "        }#T_2dd2d_row96_col5,#T_2dd2d_row117_col5{\n",
       "            background-color:  #fdb430;\n",
       "            color:  #000000;\n",
       "        }#T_2dd2d_row100_col2{\n",
       "            background-color:  #feab15;\n",
       "            color:  #000000;\n",
       "        }#T_2dd2d_row100_col5{\n",
       "            background-color:  #fdb42f;\n",
       "            color:  #000000;\n",
       "        }#T_2dd2d_row101_col2{\n",
       "            background-color:  #feab14;\n",
       "            color:  #000000;\n",
       "        }#T_2dd2d_row102_col2,#T_2dd2d_row111_col5{\n",
       "            background-color:  #feab13;\n",
       "            color:  #000000;\n",
       "        }#T_2dd2d_row103_col2,#T_2dd2d_row104_col2,#T_2dd2d_row121_col5{\n",
       "            background-color:  #feab12;\n",
       "            color:  #000000;\n",
       "        }#T_2dd2d_row105_col2,#T_2dd2d_row113_col5{\n",
       "            background-color:  #feaa11;\n",
       "            color:  #000000;\n",
       "        }#T_2dd2d_row106_col2,#T_2dd2d_row123_col5{\n",
       "            background-color:  #feaa10;\n",
       "            color:  #000000;\n",
       "        }#T_2dd2d_row107_col2{\n",
       "            background-color:  #feaa0f;\n",
       "            color:  #000000;\n",
       "        }#T_2dd2d_row107_col5{\n",
       "            background-color:  #fdb32e;\n",
       "            color:  #000000;\n",
       "        }#T_2dd2d_row108_col2,#T_2dd2d_row110_col5{\n",
       "            background-color:  #fea90e;\n",
       "            color:  #000000;\n",
       "        }#T_2dd2d_row109_col2{\n",
       "            background-color:  #fea90d;\n",
       "            color:  #000000;\n",
       "        }#T_2dd2d_row110_col2{\n",
       "            background-color:  #fea90c;\n",
       "            color:  #000000;\n",
       "        }#T_2dd2d_row111_col2,#T_2dd2d_row112_col2,#T_2dd2d_row125_col5{\n",
       "            background-color:  #fea90b;\n",
       "            color:  #000000;\n",
       "        }#T_2dd2d_row113_col2,#T_2dd2d_row124_col5{\n",
       "            background-color:  #fea80a;\n",
       "            color:  #000000;\n",
       "        }#T_2dd2d_row114_col2{\n",
       "            background-color:  #ffa809;\n",
       "            color:  #000000;\n",
       "        }#T_2dd2d_row115_col2{\n",
       "            background-color:  #ffa808;\n",
       "            color:  #000000;\n",
       "        }#T_2dd2d_row115_col5,#T_2dd2d_row119_col5{\n",
       "            background-color:  #fdb228;\n",
       "            color:  #000000;\n",
       "        }#T_2dd2d_row116_col2,#T_2dd2d_row117_col2{\n",
       "            background-color:  #ffa707;\n",
       "            color:  #000000;\n",
       "        }#T_2dd2d_row118_col2,#T_2dd2d_row119_col2{\n",
       "            background-color:  #ffa706;\n",
       "            color:  #000000;\n",
       "        }#T_2dd2d_row120_col2{\n",
       "            background-color:  #ffa605;\n",
       "            color:  #000000;\n",
       "        }#T_2dd2d_row120_col5{\n",
       "            background-color:  #fdb229;\n",
       "            color:  #000000;\n",
       "        }#T_2dd2d_row121_col2{\n",
       "            background-color:  #ffa604;\n",
       "            color:  #000000;\n",
       "        }#T_2dd2d_row122_col2{\n",
       "            background-color:  #ffa603;\n",
       "            color:  #000000;\n",
       "        }#T_2dd2d_row123_col2{\n",
       "            background-color:  #ffa602;\n",
       "            color:  #000000;\n",
       "        }#T_2dd2d_row124_col2{\n",
       "            background-color:  #ffa501;\n",
       "            color:  #000000;\n",
       "        }</style><table id=\"T_2dd2d_\" ><thead>    <tr>        <th class=\"blank level0\" ></th>        <th class=\"col_heading level0 col0\" >model</th>        <th class=\"col_heading level0 col1\" >depth</th>        <th class=\"col_heading level0 col2\" >n_estimators</th>        <th class=\"col_heading level0 col3\" >score_on_train</th>        <th class=\"col_heading level0 col4\" >score_on_valid</th>        <th class=\"col_heading level0 col5\" >seconds_fit_runs</th>    </tr></thead><tbody>\n",
       "                <tr>\n",
       "                        <th id=\"T_2dd2d_level0_row0\" class=\"row_heading level0 row0\" >296</th>\n",
       "                        <td id=\"T_2dd2d_row0_col0\" class=\"data row0 col0\" >RandomForestClassifier</td>\n",
       "                        <td id=\"T_2dd2d_row0_col1\" class=\"data row0 col1\" >3</td>\n",
       "                        <td id=\"T_2dd2d_row0_col2\" class=\"data row0 col2\" >154</td>\n",
       "                        <td id=\"T_2dd2d_row0_col3\" class=\"data row0 col3\" >0.794606</td>\n",
       "                        <td id=\"T_2dd2d_row0_col4\" class=\"data row0 col4\" >0.804044</td>\n",
       "                        <td id=\"T_2dd2d_row0_col5\" class=\"data row0 col5\" >0.216170</td>\n",
       "            </tr>\n",
       "            <tr>\n",
       "                        <th id=\"T_2dd2d_level0_row1\" class=\"row_heading level0 row1\" >297</th>\n",
       "                        <td id=\"T_2dd2d_row1_col0\" class=\"data row1 col0\" >RandomForestClassifier</td>\n",
       "                        <td id=\"T_2dd2d_row1_col1\" class=\"data row1 col1\" >3</td>\n",
       "                        <td id=\"T_2dd2d_row1_col2\" class=\"data row1 col2\" >155</td>\n",
       "                        <td id=\"T_2dd2d_row1_col3\" class=\"data row1 col3\" >0.794087</td>\n",
       "                        <td id=\"T_2dd2d_row1_col4\" class=\"data row1 col4\" >0.804044</td>\n",
       "                        <td id=\"T_2dd2d_row1_col5\" class=\"data row1 col5\" >0.230042</td>\n",
       "            </tr>\n",
       "            <tr>\n",
       "                        <th id=\"T_2dd2d_level0_row2\" class=\"row_heading level0 row2\" >298</th>\n",
       "                        <td id=\"T_2dd2d_row2_col0\" class=\"data row2 col0\" >RandomForestClassifier</td>\n",
       "                        <td id=\"T_2dd2d_row2_col1\" class=\"data row2 col1\" >3</td>\n",
       "                        <td id=\"T_2dd2d_row2_col2\" class=\"data row2 col2\" >156</td>\n",
       "                        <td id=\"T_2dd2d_row2_col3\" class=\"data row2 col3\" >0.794606</td>\n",
       "                        <td id=\"T_2dd2d_row2_col4\" class=\"data row2 col4\" >0.804044</td>\n",
       "                        <td id=\"T_2dd2d_row2_col5\" class=\"data row2 col5\" >0.227685</td>\n",
       "            </tr>\n",
       "            <tr>\n",
       "                        <th id=\"T_2dd2d_level0_row3\" class=\"row_heading level0 row3\" >302</th>\n",
       "                        <td id=\"T_2dd2d_row3_col0\" class=\"data row3 col0\" >RandomForestClassifier</td>\n",
       "                        <td id=\"T_2dd2d_row3_col1\" class=\"data row3 col1\" >3</td>\n",
       "                        <td id=\"T_2dd2d_row3_col2\" class=\"data row3 col2\" >160</td>\n",
       "                        <td id=\"T_2dd2d_row3_col3\" class=\"data row3 col3\" >0.794087</td>\n",
       "                        <td id=\"T_2dd2d_row3_col4\" class=\"data row3 col4\" >0.804044</td>\n",
       "                        <td id=\"T_2dd2d_row3_col5\" class=\"data row3 col5\" >0.216588</td>\n",
       "            </tr>\n",
       "            <tr>\n",
       "                        <th id=\"T_2dd2d_level0_row4\" class=\"row_heading level0 row4\" >303</th>\n",
       "                        <td id=\"T_2dd2d_row4_col0\" class=\"data row4 col0\" >RandomForestClassifier</td>\n",
       "                        <td id=\"T_2dd2d_row4_col1\" class=\"data row4 col1\" >3</td>\n",
       "                        <td id=\"T_2dd2d_row4_col2\" class=\"data row4 col2\" >161</td>\n",
       "                        <td id=\"T_2dd2d_row4_col3\" class=\"data row4 col3\" >0.794087</td>\n",
       "                        <td id=\"T_2dd2d_row4_col4\" class=\"data row4 col4\" >0.804044</td>\n",
       "                        <td id=\"T_2dd2d_row4_col5\" class=\"data row4 col5\" >0.231251</td>\n",
       "            </tr>\n",
       "            <tr>\n",
       "                        <th id=\"T_2dd2d_level0_row5\" class=\"row_heading level0 row5\" >304</th>\n",
       "                        <td id=\"T_2dd2d_row5_col0\" class=\"data row5 col0\" >RandomForestClassifier</td>\n",
       "                        <td id=\"T_2dd2d_row5_col1\" class=\"data row5 col1\" >3</td>\n",
       "                        <td id=\"T_2dd2d_row5_col2\" class=\"data row5 col2\" >162</td>\n",
       "                        <td id=\"T_2dd2d_row5_col3\" class=\"data row5 col3\" >0.794606</td>\n",
       "                        <td id=\"T_2dd2d_row5_col4\" class=\"data row5 col4\" >0.804044</td>\n",
       "                        <td id=\"T_2dd2d_row5_col5\" class=\"data row5 col5\" >0.235077</td>\n",
       "            </tr>\n",
       "            <tr>\n",
       "                        <th id=\"T_2dd2d_level0_row6\" class=\"row_heading level0 row6\" >306</th>\n",
       "                        <td id=\"T_2dd2d_row6_col0\" class=\"data row6 col0\" >RandomForestClassifier</td>\n",
       "                        <td id=\"T_2dd2d_row6_col1\" class=\"data row6 col1\" >3</td>\n",
       "                        <td id=\"T_2dd2d_row6_col2\" class=\"data row6 col2\" >164</td>\n",
       "                        <td id=\"T_2dd2d_row6_col3\" class=\"data row6 col3\" >0.794087</td>\n",
       "                        <td id=\"T_2dd2d_row6_col4\" class=\"data row6 col4\" >0.804044</td>\n",
       "                        <td id=\"T_2dd2d_row6_col5\" class=\"data row6 col5\" >0.233826</td>\n",
       "            </tr>\n",
       "            <tr>\n",
       "                        <th id=\"T_2dd2d_level0_row7\" class=\"row_heading level0 row7\" >307</th>\n",
       "                        <td id=\"T_2dd2d_row7_col0\" class=\"data row7 col0\" >RandomForestClassifier</td>\n",
       "                        <td id=\"T_2dd2d_row7_col1\" class=\"data row7 col1\" >3</td>\n",
       "                        <td id=\"T_2dd2d_row7_col2\" class=\"data row7 col2\" >165</td>\n",
       "                        <td id=\"T_2dd2d_row7_col3\" class=\"data row7 col3\" >0.794606</td>\n",
       "                        <td id=\"T_2dd2d_row7_col4\" class=\"data row7 col4\" >0.804044</td>\n",
       "                        <td id=\"T_2dd2d_row7_col5\" class=\"data row7 col5\" >0.233473</td>\n",
       "            </tr>\n",
       "            <tr>\n",
       "                        <th id=\"T_2dd2d_level0_row8\" class=\"row_heading level0 row8\" >308</th>\n",
       "                        <td id=\"T_2dd2d_row8_col0\" class=\"data row8 col0\" >RandomForestClassifier</td>\n",
       "                        <td id=\"T_2dd2d_row8_col1\" class=\"data row8 col1\" >3</td>\n",
       "                        <td id=\"T_2dd2d_row8_col2\" class=\"data row8 col2\" >166</td>\n",
       "                        <td id=\"T_2dd2d_row8_col3\" class=\"data row8 col3\" >0.794606</td>\n",
       "                        <td id=\"T_2dd2d_row8_col4\" class=\"data row8 col4\" >0.804044</td>\n",
       "                        <td id=\"T_2dd2d_row8_col5\" class=\"data row8 col5\" >0.241150</td>\n",
       "            </tr>\n",
       "            <tr>\n",
       "                        <th id=\"T_2dd2d_level0_row9\" class=\"row_heading level0 row9\" >309</th>\n",
       "                        <td id=\"T_2dd2d_row9_col0\" class=\"data row9 col0\" >RandomForestClassifier</td>\n",
       "                        <td id=\"T_2dd2d_row9_col1\" class=\"data row9 col1\" >3</td>\n",
       "                        <td id=\"T_2dd2d_row9_col2\" class=\"data row9 col2\" >167</td>\n",
       "                        <td id=\"T_2dd2d_row9_col3\" class=\"data row9 col3\" >0.794087</td>\n",
       "                        <td id=\"T_2dd2d_row9_col4\" class=\"data row9 col4\" >0.804044</td>\n",
       "                        <td id=\"T_2dd2d_row9_col5\" class=\"data row9 col5\" >0.258183</td>\n",
       "            </tr>\n",
       "            <tr>\n",
       "                        <th id=\"T_2dd2d_level0_row10\" class=\"row_heading level0 row10\" >310</th>\n",
       "                        <td id=\"T_2dd2d_row10_col0\" class=\"data row10 col0\" >RandomForestClassifier</td>\n",
       "                        <td id=\"T_2dd2d_row10_col1\" class=\"data row10 col1\" >3</td>\n",
       "                        <td id=\"T_2dd2d_row10_col2\" class=\"data row10 col2\" >168</td>\n",
       "                        <td id=\"T_2dd2d_row10_col3\" class=\"data row10 col3\" >0.794087</td>\n",
       "                        <td id=\"T_2dd2d_row10_col4\" class=\"data row10 col4\" >0.804044</td>\n",
       "                        <td id=\"T_2dd2d_row10_col5\" class=\"data row10 col5\" >0.242548</td>\n",
       "            </tr>\n",
       "            <tr>\n",
       "                        <th id=\"T_2dd2d_level0_row11\" class=\"row_heading level0 row11\" >311</th>\n",
       "                        <td id=\"T_2dd2d_row11_col0\" class=\"data row11 col0\" >RandomForestClassifier</td>\n",
       "                        <td id=\"T_2dd2d_row11_col1\" class=\"data row11 col1\" >3</td>\n",
       "                        <td id=\"T_2dd2d_row11_col2\" class=\"data row11 col2\" >169</td>\n",
       "                        <td id=\"T_2dd2d_row11_col3\" class=\"data row11 col3\" >0.794087</td>\n",
       "                        <td id=\"T_2dd2d_row11_col4\" class=\"data row11 col4\" >0.804044</td>\n",
       "                        <td id=\"T_2dd2d_row11_col5\" class=\"data row11 col5\" >0.247778</td>\n",
       "            </tr>\n",
       "            <tr>\n",
       "                        <th id=\"T_2dd2d_level0_row12\" class=\"row_heading level0 row12\" >312</th>\n",
       "                        <td id=\"T_2dd2d_row12_col0\" class=\"data row12 col0\" >RandomForestClassifier</td>\n",
       "                        <td id=\"T_2dd2d_row12_col1\" class=\"data row12 col1\" >3</td>\n",
       "                        <td id=\"T_2dd2d_row12_col2\" class=\"data row12 col2\" >170</td>\n",
       "                        <td id=\"T_2dd2d_row12_col3\" class=\"data row12 col3\" >0.794087</td>\n",
       "                        <td id=\"T_2dd2d_row12_col4\" class=\"data row12 col4\" >0.804044</td>\n",
       "                        <td id=\"T_2dd2d_row12_col5\" class=\"data row12 col5\" >0.246772</td>\n",
       "            </tr>\n",
       "            <tr>\n",
       "                        <th id=\"T_2dd2d_level0_row13\" class=\"row_heading level0 row13\" >313</th>\n",
       "                        <td id=\"T_2dd2d_row13_col0\" class=\"data row13 col0\" >RandomForestClassifier</td>\n",
       "                        <td id=\"T_2dd2d_row13_col1\" class=\"data row13 col1\" >3</td>\n",
       "                        <td id=\"T_2dd2d_row13_col2\" class=\"data row13 col2\" >171</td>\n",
       "                        <td id=\"T_2dd2d_row13_col3\" class=\"data row13 col3\" >0.794087</td>\n",
       "                        <td id=\"T_2dd2d_row13_col4\" class=\"data row13 col4\" >0.804044</td>\n",
       "                        <td id=\"T_2dd2d_row13_col5\" class=\"data row13 col5\" >0.246684</td>\n",
       "            </tr>\n",
       "            <tr>\n",
       "                        <th id=\"T_2dd2d_level0_row14\" class=\"row_heading level0 row14\" >314</th>\n",
       "                        <td id=\"T_2dd2d_row14_col0\" class=\"data row14 col0\" >RandomForestClassifier</td>\n",
       "                        <td id=\"T_2dd2d_row14_col1\" class=\"data row14 col1\" >3</td>\n",
       "                        <td id=\"T_2dd2d_row14_col2\" class=\"data row14 col2\" >172</td>\n",
       "                        <td id=\"T_2dd2d_row14_col3\" class=\"data row14 col3\" >0.794087</td>\n",
       "                        <td id=\"T_2dd2d_row14_col4\" class=\"data row14 col4\" >0.804044</td>\n",
       "                        <td id=\"T_2dd2d_row14_col5\" class=\"data row14 col5\" >0.250211</td>\n",
       "            </tr>\n",
       "            <tr>\n",
       "                        <th id=\"T_2dd2d_level0_row15\" class=\"row_heading level0 row15\" >328</th>\n",
       "                        <td id=\"T_2dd2d_row15_col0\" class=\"data row15 col0\" >RandomForestClassifier</td>\n",
       "                        <td id=\"T_2dd2d_row15_col1\" class=\"data row15 col1\" >3</td>\n",
       "                        <td id=\"T_2dd2d_row15_col2\" class=\"data row15 col2\" >186</td>\n",
       "                        <td id=\"T_2dd2d_row15_col3\" class=\"data row15 col3\" >0.794087</td>\n",
       "                        <td id=\"T_2dd2d_row15_col4\" class=\"data row15 col4\" >0.804044</td>\n",
       "                        <td id=\"T_2dd2d_row15_col5\" class=\"data row15 col5\" >0.272613</td>\n",
       "            </tr>\n",
       "            <tr>\n",
       "                        <th id=\"T_2dd2d_level0_row16\" class=\"row_heading level0 row16\" >331</th>\n",
       "                        <td id=\"T_2dd2d_row16_col0\" class=\"data row16 col0\" >RandomForestClassifier</td>\n",
       "                        <td id=\"T_2dd2d_row16_col1\" class=\"data row16 col1\" >3</td>\n",
       "                        <td id=\"T_2dd2d_row16_col2\" class=\"data row16 col2\" >189</td>\n",
       "                        <td id=\"T_2dd2d_row16_col3\" class=\"data row16 col3\" >0.794087</td>\n",
       "                        <td id=\"T_2dd2d_row16_col4\" class=\"data row16 col4\" >0.804044</td>\n",
       "                        <td id=\"T_2dd2d_row16_col5\" class=\"data row16 col5\" >0.277412</td>\n",
       "            </tr>\n",
       "            <tr>\n",
       "                        <th id=\"T_2dd2d_level0_row17\" class=\"row_heading level0 row17\" >332</th>\n",
       "                        <td id=\"T_2dd2d_row17_col0\" class=\"data row17 col0\" >RandomForestClassifier</td>\n",
       "                        <td id=\"T_2dd2d_row17_col1\" class=\"data row17 col1\" >3</td>\n",
       "                        <td id=\"T_2dd2d_row17_col2\" class=\"data row17 col2\" >190</td>\n",
       "                        <td id=\"T_2dd2d_row17_col3\" class=\"data row17 col3\" >0.794087</td>\n",
       "                        <td id=\"T_2dd2d_row17_col4\" class=\"data row17 col4\" >0.804044</td>\n",
       "                        <td id=\"T_2dd2d_row17_col5\" class=\"data row17 col5\" >0.305863</td>\n",
       "            </tr>\n",
       "            <tr>\n",
       "                        <th id=\"T_2dd2d_level0_row18\" class=\"row_heading level0 row18\" >339</th>\n",
       "                        <td id=\"T_2dd2d_row18_col0\" class=\"data row18 col0\" >RandomForestClassifier</td>\n",
       "                        <td id=\"T_2dd2d_row18_col1\" class=\"data row18 col1\" >3</td>\n",
       "                        <td id=\"T_2dd2d_row18_col2\" class=\"data row18 col2\" >197</td>\n",
       "                        <td id=\"T_2dd2d_row18_col3\" class=\"data row18 col3\" >0.794606</td>\n",
       "                        <td id=\"T_2dd2d_row18_col4\" class=\"data row18 col4\" >0.804044</td>\n",
       "                        <td id=\"T_2dd2d_row18_col5\" class=\"data row18 col5\" >0.281732</td>\n",
       "            </tr>\n",
       "            <tr>\n",
       "                        <th id=\"T_2dd2d_level0_row19\" class=\"row_heading level0 row19\" >340</th>\n",
       "                        <td id=\"T_2dd2d_row19_col0\" class=\"data row19 col0\" >RandomForestClassifier</td>\n",
       "                        <td id=\"T_2dd2d_row19_col1\" class=\"data row19 col1\" >3</td>\n",
       "                        <td id=\"T_2dd2d_row19_col2\" class=\"data row19 col2\" >198</td>\n",
       "                        <td id=\"T_2dd2d_row19_col3\" class=\"data row19 col3\" >0.794087</td>\n",
       "                        <td id=\"T_2dd2d_row19_col4\" class=\"data row19 col4\" >0.804044</td>\n",
       "                        <td id=\"T_2dd2d_row19_col5\" class=\"data row19 col5\" >0.292470</td>\n",
       "            </tr>\n",
       "            <tr>\n",
       "                        <th id=\"T_2dd2d_level0_row20\" class=\"row_heading level0 row20\" >342</th>\n",
       "                        <td id=\"T_2dd2d_row20_col0\" class=\"data row20 col0\" >RandomForestClassifier</td>\n",
       "                        <td id=\"T_2dd2d_row20_col1\" class=\"data row20 col1\" >3</td>\n",
       "                        <td id=\"T_2dd2d_row20_col2\" class=\"data row20 col2\" >200</td>\n",
       "                        <td id=\"T_2dd2d_row20_col3\" class=\"data row20 col3\" >0.794087</td>\n",
       "                        <td id=\"T_2dd2d_row20_col4\" class=\"data row20 col4\" >0.804044</td>\n",
       "                        <td id=\"T_2dd2d_row20_col5\" class=\"data row20 col5\" >0.289221</td>\n",
       "            </tr>\n",
       "            <tr>\n",
       "                        <th id=\"T_2dd2d_level0_row21\" class=\"row_heading level0 row21\" >343</th>\n",
       "                        <td id=\"T_2dd2d_row21_col0\" class=\"data row21 col0\" >RandomForestClassifier</td>\n",
       "                        <td id=\"T_2dd2d_row21_col1\" class=\"data row21 col1\" >3</td>\n",
       "                        <td id=\"T_2dd2d_row21_col2\" class=\"data row21 col2\" >201</td>\n",
       "                        <td id=\"T_2dd2d_row21_col3\" class=\"data row21 col3\" >0.794087</td>\n",
       "                        <td id=\"T_2dd2d_row21_col4\" class=\"data row21 col4\" >0.804044</td>\n",
       "                        <td id=\"T_2dd2d_row21_col5\" class=\"data row21 col5\" >0.309750</td>\n",
       "            </tr>\n",
       "            <tr>\n",
       "                        <th id=\"T_2dd2d_level0_row22\" class=\"row_heading level0 row22\" >344</th>\n",
       "                        <td id=\"T_2dd2d_row22_col0\" class=\"data row22 col0\" >RandomForestClassifier</td>\n",
       "                        <td id=\"T_2dd2d_row22_col1\" class=\"data row22 col1\" >3</td>\n",
       "                        <td id=\"T_2dd2d_row22_col2\" class=\"data row22 col2\" >202</td>\n",
       "                        <td id=\"T_2dd2d_row22_col3\" class=\"data row22 col3\" >0.794087</td>\n",
       "                        <td id=\"T_2dd2d_row22_col4\" class=\"data row22 col4\" >0.804044</td>\n",
       "                        <td id=\"T_2dd2d_row22_col5\" class=\"data row22 col5\" >0.293795</td>\n",
       "            </tr>\n",
       "            <tr>\n",
       "                        <th id=\"T_2dd2d_level0_row23\" class=\"row_heading level0 row23\" >345</th>\n",
       "                        <td id=\"T_2dd2d_row23_col0\" class=\"data row23 col0\" >RandomForestClassifier</td>\n",
       "                        <td id=\"T_2dd2d_row23_col1\" class=\"data row23 col1\" >3</td>\n",
       "                        <td id=\"T_2dd2d_row23_col2\" class=\"data row23 col2\" >203</td>\n",
       "                        <td id=\"T_2dd2d_row23_col3\" class=\"data row23 col3\" >0.794606</td>\n",
       "                        <td id=\"T_2dd2d_row23_col4\" class=\"data row23 col4\" >0.804044</td>\n",
       "                        <td id=\"T_2dd2d_row23_col5\" class=\"data row23 col5\" >0.352776</td>\n",
       "            </tr>\n",
       "            <tr>\n",
       "                        <th id=\"T_2dd2d_level0_row24\" class=\"row_heading level0 row24\" >346</th>\n",
       "                        <td id=\"T_2dd2d_row24_col0\" class=\"data row24 col0\" >RandomForestClassifier</td>\n",
       "                        <td id=\"T_2dd2d_row24_col1\" class=\"data row24 col1\" >3</td>\n",
       "                        <td id=\"T_2dd2d_row24_col2\" class=\"data row24 col2\" >204</td>\n",
       "                        <td id=\"T_2dd2d_row24_col3\" class=\"data row24 col3\" >0.794087</td>\n",
       "                        <td id=\"T_2dd2d_row24_col4\" class=\"data row24 col4\" >0.804044</td>\n",
       "                        <td id=\"T_2dd2d_row24_col5\" class=\"data row24 col5\" >0.284392</td>\n",
       "            </tr>\n",
       "            <tr>\n",
       "                        <th id=\"T_2dd2d_level0_row25\" class=\"row_heading level0 row25\" >347</th>\n",
       "                        <td id=\"T_2dd2d_row25_col0\" class=\"data row25 col0\" >RandomForestClassifier</td>\n",
       "                        <td id=\"T_2dd2d_row25_col1\" class=\"data row25 col1\" >3</td>\n",
       "                        <td id=\"T_2dd2d_row25_col2\" class=\"data row25 col2\" >205</td>\n",
       "                        <td id=\"T_2dd2d_row25_col3\" class=\"data row25 col3\" >0.794087</td>\n",
       "                        <td id=\"T_2dd2d_row25_col4\" class=\"data row25 col4\" >0.804044</td>\n",
       "                        <td id=\"T_2dd2d_row25_col5\" class=\"data row25 col5\" >0.292188</td>\n",
       "            </tr>\n",
       "            <tr>\n",
       "                        <th id=\"T_2dd2d_level0_row26\" class=\"row_heading level0 row26\" >349</th>\n",
       "                        <td id=\"T_2dd2d_row26_col0\" class=\"data row26 col0\" >RandomForestClassifier</td>\n",
       "                        <td id=\"T_2dd2d_row26_col1\" class=\"data row26 col1\" >3</td>\n",
       "                        <td id=\"T_2dd2d_row26_col2\" class=\"data row26 col2\" >207</td>\n",
       "                        <td id=\"T_2dd2d_row26_col3\" class=\"data row26 col3\" >0.794606</td>\n",
       "                        <td id=\"T_2dd2d_row26_col4\" class=\"data row26 col4\" >0.804044</td>\n",
       "                        <td id=\"T_2dd2d_row26_col5\" class=\"data row26 col5\" >0.290024</td>\n",
       "            </tr>\n",
       "            <tr>\n",
       "                        <th id=\"T_2dd2d_level0_row27\" class=\"row_heading level0 row27\" >350</th>\n",
       "                        <td id=\"T_2dd2d_row27_col0\" class=\"data row27 col0\" >RandomForestClassifier</td>\n",
       "                        <td id=\"T_2dd2d_row27_col1\" class=\"data row27 col1\" >3</td>\n",
       "                        <td id=\"T_2dd2d_row27_col2\" class=\"data row27 col2\" >208</td>\n",
       "                        <td id=\"T_2dd2d_row27_col3\" class=\"data row27 col3\" >0.794087</td>\n",
       "                        <td id=\"T_2dd2d_row27_col4\" class=\"data row27 col4\" >0.804044</td>\n",
       "                        <td id=\"T_2dd2d_row27_col5\" class=\"data row27 col5\" >0.311466</td>\n",
       "            </tr>\n",
       "            <tr>\n",
       "                        <th id=\"T_2dd2d_level0_row28\" class=\"row_heading level0 row28\" >351</th>\n",
       "                        <td id=\"T_2dd2d_row28_col0\" class=\"data row28 col0\" >RandomForestClassifier</td>\n",
       "                        <td id=\"T_2dd2d_row28_col1\" class=\"data row28 col1\" >3</td>\n",
       "                        <td id=\"T_2dd2d_row28_col2\" class=\"data row28 col2\" >209</td>\n",
       "                        <td id=\"T_2dd2d_row28_col3\" class=\"data row28 col3\" >0.794606</td>\n",
       "                        <td id=\"T_2dd2d_row28_col4\" class=\"data row28 col4\" >0.804044</td>\n",
       "                        <td id=\"T_2dd2d_row28_col5\" class=\"data row28 col5\" >0.298319</td>\n",
       "            </tr>\n",
       "            <tr>\n",
       "                        <th id=\"T_2dd2d_level0_row29\" class=\"row_heading level0 row29\" >353</th>\n",
       "                        <td id=\"T_2dd2d_row29_col0\" class=\"data row29 col0\" >RandomForestClassifier</td>\n",
       "                        <td id=\"T_2dd2d_row29_col1\" class=\"data row29 col1\" >3</td>\n",
       "                        <td id=\"T_2dd2d_row29_col2\" class=\"data row29 col2\" >211</td>\n",
       "                        <td id=\"T_2dd2d_row29_col3\" class=\"data row29 col3\" >0.794087</td>\n",
       "                        <td id=\"T_2dd2d_row29_col4\" class=\"data row29 col4\" >0.804044</td>\n",
       "                        <td id=\"T_2dd2d_row29_col5\" class=\"data row29 col5\" >0.295991</td>\n",
       "            </tr>\n",
       "            <tr>\n",
       "                        <th id=\"T_2dd2d_level0_row30\" class=\"row_heading level0 row30\" >368</th>\n",
       "                        <td id=\"T_2dd2d_row30_col0\" class=\"data row30 col0\" >RandomForestClassifier</td>\n",
       "                        <td id=\"T_2dd2d_row30_col1\" class=\"data row30 col1\" >3</td>\n",
       "                        <td id=\"T_2dd2d_row30_col2\" class=\"data row30 col2\" >325</td>\n",
       "                        <td id=\"T_2dd2d_row30_col3\" class=\"data row30 col3\" >0.795643</td>\n",
       "                        <td id=\"T_2dd2d_row30_col4\" class=\"data row30 col4\" >0.804044</td>\n",
       "                        <td id=\"T_2dd2d_row30_col5\" class=\"data row30 col5\" >0.581923</td>\n",
       "            </tr>\n",
       "            <tr>\n",
       "                        <th id=\"T_2dd2d_level0_row31\" class=\"row_heading level0 row31\" >369</th>\n",
       "                        <td id=\"T_2dd2d_row31_col0\" class=\"data row31 col0\" >RandomForestClassifier</td>\n",
       "                        <td id=\"T_2dd2d_row31_col1\" class=\"data row31 col1\" >3</td>\n",
       "                        <td id=\"T_2dd2d_row31_col2\" class=\"data row31 col2\" >326</td>\n",
       "                        <td id=\"T_2dd2d_row31_col3\" class=\"data row31 col3\" >0.795643</td>\n",
       "                        <td id=\"T_2dd2d_row31_col4\" class=\"data row31 col4\" >0.804044</td>\n",
       "                        <td id=\"T_2dd2d_row31_col5\" class=\"data row31 col5\" >0.460874</td>\n",
       "            </tr>\n",
       "            <tr>\n",
       "                        <th id=\"T_2dd2d_level0_row32\" class=\"row_heading level0 row32\" >371</th>\n",
       "                        <td id=\"T_2dd2d_row32_col0\" class=\"data row32 col0\" >RandomForestClassifier</td>\n",
       "                        <td id=\"T_2dd2d_row32_col1\" class=\"data row32 col1\" >3</td>\n",
       "                        <td id=\"T_2dd2d_row32_col2\" class=\"data row32 col2\" >328</td>\n",
       "                        <td id=\"T_2dd2d_row32_col3\" class=\"data row32 col3\" >0.795124</td>\n",
       "                        <td id=\"T_2dd2d_row32_col4\" class=\"data row32 col4\" >0.804044</td>\n",
       "                        <td id=\"T_2dd2d_row32_col5\" class=\"data row32 col5\" >0.497685</td>\n",
       "            </tr>\n",
       "            <tr>\n",
       "                        <th id=\"T_2dd2d_level0_row33\" class=\"row_heading level0 row33\" >372</th>\n",
       "                        <td id=\"T_2dd2d_row33_col0\" class=\"data row33 col0\" >RandomForestClassifier</td>\n",
       "                        <td id=\"T_2dd2d_row33_col1\" class=\"data row33 col1\" >3</td>\n",
       "                        <td id=\"T_2dd2d_row33_col2\" class=\"data row33 col2\" >329</td>\n",
       "                        <td id=\"T_2dd2d_row33_col3\" class=\"data row33 col3\" >0.795643</td>\n",
       "                        <td id=\"T_2dd2d_row33_col4\" class=\"data row33 col4\" >0.804044</td>\n",
       "                        <td id=\"T_2dd2d_row33_col5\" class=\"data row33 col5\" >0.468877</td>\n",
       "            </tr>\n",
       "            <tr>\n",
       "                        <th id=\"T_2dd2d_level0_row34\" class=\"row_heading level0 row34\" >373</th>\n",
       "                        <td id=\"T_2dd2d_row34_col0\" class=\"data row34 col0\" >RandomForestClassifier</td>\n",
       "                        <td id=\"T_2dd2d_row34_col1\" class=\"data row34 col1\" >3</td>\n",
       "                        <td id=\"T_2dd2d_row34_col2\" class=\"data row34 col2\" >330</td>\n",
       "                        <td id=\"T_2dd2d_row34_col3\" class=\"data row34 col3\" >0.794606</td>\n",
       "                        <td id=\"T_2dd2d_row34_col4\" class=\"data row34 col4\" >0.804044</td>\n",
       "                        <td id=\"T_2dd2d_row34_col5\" class=\"data row34 col5\" >0.460645</td>\n",
       "            </tr>\n",
       "            <tr>\n",
       "                        <th id=\"T_2dd2d_level0_row35\" class=\"row_heading level0 row35\" >374</th>\n",
       "                        <td id=\"T_2dd2d_row35_col0\" class=\"data row35 col0\" >RandomForestClassifier</td>\n",
       "                        <td id=\"T_2dd2d_row35_col1\" class=\"data row35 col1\" >3</td>\n",
       "                        <td id=\"T_2dd2d_row35_col2\" class=\"data row35 col2\" >331</td>\n",
       "                        <td id=\"T_2dd2d_row35_col3\" class=\"data row35 col3\" >0.794606</td>\n",
       "                        <td id=\"T_2dd2d_row35_col4\" class=\"data row35 col4\" >0.804044</td>\n",
       "                        <td id=\"T_2dd2d_row35_col5\" class=\"data row35 col5\" >0.468173</td>\n",
       "            </tr>\n",
       "            <tr>\n",
       "                        <th id=\"T_2dd2d_level0_row36\" class=\"row_heading level0 row36\" >375</th>\n",
       "                        <td id=\"T_2dd2d_row36_col0\" class=\"data row36 col0\" >RandomForestClassifier</td>\n",
       "                        <td id=\"T_2dd2d_row36_col1\" class=\"data row36 col1\" >3</td>\n",
       "                        <td id=\"T_2dd2d_row36_col2\" class=\"data row36 col2\" >332</td>\n",
       "                        <td id=\"T_2dd2d_row36_col3\" class=\"data row36 col3\" >0.794606</td>\n",
       "                        <td id=\"T_2dd2d_row36_col4\" class=\"data row36 col4\" >0.804044</td>\n",
       "                        <td id=\"T_2dd2d_row36_col5\" class=\"data row36 col5\" >0.494440</td>\n",
       "            </tr>\n",
       "            <tr>\n",
       "                        <th id=\"T_2dd2d_level0_row37\" class=\"row_heading level0 row37\" >376</th>\n",
       "                        <td id=\"T_2dd2d_row37_col0\" class=\"data row37 col0\" >RandomForestClassifier</td>\n",
       "                        <td id=\"T_2dd2d_row37_col1\" class=\"data row37 col1\" >3</td>\n",
       "                        <td id=\"T_2dd2d_row37_col2\" class=\"data row37 col2\" >333</td>\n",
       "                        <td id=\"T_2dd2d_row37_col3\" class=\"data row37 col3\" >0.794606</td>\n",
       "                        <td id=\"T_2dd2d_row37_col4\" class=\"data row37 col4\" >0.804044</td>\n",
       "                        <td id=\"T_2dd2d_row37_col5\" class=\"data row37 col5\" >0.467743</td>\n",
       "            </tr>\n",
       "            <tr>\n",
       "                        <th id=\"T_2dd2d_level0_row38\" class=\"row_heading level0 row38\" >377</th>\n",
       "                        <td id=\"T_2dd2d_row38_col0\" class=\"data row38 col0\" >RandomForestClassifier</td>\n",
       "                        <td id=\"T_2dd2d_row38_col1\" class=\"data row38 col1\" >3</td>\n",
       "                        <td id=\"T_2dd2d_row38_col2\" class=\"data row38 col2\" >334</td>\n",
       "                        <td id=\"T_2dd2d_row38_col3\" class=\"data row38 col3\" >0.794606</td>\n",
       "                        <td id=\"T_2dd2d_row38_col4\" class=\"data row38 col4\" >0.804044</td>\n",
       "                        <td id=\"T_2dd2d_row38_col5\" class=\"data row38 col5\" >0.495695</td>\n",
       "            </tr>\n",
       "            <tr>\n",
       "                        <th id=\"T_2dd2d_level0_row39\" class=\"row_heading level0 row39\" >378</th>\n",
       "                        <td id=\"T_2dd2d_row39_col0\" class=\"data row39 col0\" >RandomForestClassifier</td>\n",
       "                        <td id=\"T_2dd2d_row39_col1\" class=\"data row39 col1\" >3</td>\n",
       "                        <td id=\"T_2dd2d_row39_col2\" class=\"data row39 col2\" >335</td>\n",
       "                        <td id=\"T_2dd2d_row39_col3\" class=\"data row39 col3\" >0.794606</td>\n",
       "                        <td id=\"T_2dd2d_row39_col4\" class=\"data row39 col4\" >0.804044</td>\n",
       "                        <td id=\"T_2dd2d_row39_col5\" class=\"data row39 col5\" >0.470376</td>\n",
       "            </tr>\n",
       "            <tr>\n",
       "                        <th id=\"T_2dd2d_level0_row40\" class=\"row_heading level0 row40\" >379</th>\n",
       "                        <td id=\"T_2dd2d_row40_col0\" class=\"data row40 col0\" >RandomForestClassifier</td>\n",
       "                        <td id=\"T_2dd2d_row40_col1\" class=\"data row40 col1\" >3</td>\n",
       "                        <td id=\"T_2dd2d_row40_col2\" class=\"data row40 col2\" >336</td>\n",
       "                        <td id=\"T_2dd2d_row40_col3\" class=\"data row40 col3\" >0.794606</td>\n",
       "                        <td id=\"T_2dd2d_row40_col4\" class=\"data row40 col4\" >0.804044</td>\n",
       "                        <td id=\"T_2dd2d_row40_col5\" class=\"data row40 col5\" >0.465009</td>\n",
       "            </tr>\n",
       "            <tr>\n",
       "                        <th id=\"T_2dd2d_level0_row41\" class=\"row_heading level0 row41\" >380</th>\n",
       "                        <td id=\"T_2dd2d_row41_col0\" class=\"data row41 col0\" >RandomForestClassifier</td>\n",
       "                        <td id=\"T_2dd2d_row41_col1\" class=\"data row41 col1\" >3</td>\n",
       "                        <td id=\"T_2dd2d_row41_col2\" class=\"data row41 col2\" >337</td>\n",
       "                        <td id=\"T_2dd2d_row41_col3\" class=\"data row41 col3\" >0.794606</td>\n",
       "                        <td id=\"T_2dd2d_row41_col4\" class=\"data row41 col4\" >0.804044</td>\n",
       "                        <td id=\"T_2dd2d_row41_col5\" class=\"data row41 col5\" >0.487906</td>\n",
       "            </tr>\n",
       "            <tr>\n",
       "                        <th id=\"T_2dd2d_level0_row42\" class=\"row_heading level0 row42\" >381</th>\n",
       "                        <td id=\"T_2dd2d_row42_col0\" class=\"data row42 col0\" >RandomForestClassifier</td>\n",
       "                        <td id=\"T_2dd2d_row42_col1\" class=\"data row42 col1\" >3</td>\n",
       "                        <td id=\"T_2dd2d_row42_col2\" class=\"data row42 col2\" >338</td>\n",
       "                        <td id=\"T_2dd2d_row42_col3\" class=\"data row42 col3\" >0.794606</td>\n",
       "                        <td id=\"T_2dd2d_row42_col4\" class=\"data row42 col4\" >0.804044</td>\n",
       "                        <td id=\"T_2dd2d_row42_col5\" class=\"data row42 col5\" >0.486113</td>\n",
       "            </tr>\n",
       "            <tr>\n",
       "                        <th id=\"T_2dd2d_level0_row43\" class=\"row_heading level0 row43\" >382</th>\n",
       "                        <td id=\"T_2dd2d_row43_col0\" class=\"data row43 col0\" >RandomForestClassifier</td>\n",
       "                        <td id=\"T_2dd2d_row43_col1\" class=\"data row43 col1\" >3</td>\n",
       "                        <td id=\"T_2dd2d_row43_col2\" class=\"data row43 col2\" >339</td>\n",
       "                        <td id=\"T_2dd2d_row43_col3\" class=\"data row43 col3\" >0.794606</td>\n",
       "                        <td id=\"T_2dd2d_row43_col4\" class=\"data row43 col4\" >0.804044</td>\n",
       "                        <td id=\"T_2dd2d_row43_col5\" class=\"data row43 col5\" >0.480003</td>\n",
       "            </tr>\n",
       "            <tr>\n",
       "                        <th id=\"T_2dd2d_level0_row44\" class=\"row_heading level0 row44\" >383</th>\n",
       "                        <td id=\"T_2dd2d_row44_col0\" class=\"data row44 col0\" >RandomForestClassifier</td>\n",
       "                        <td id=\"T_2dd2d_row44_col1\" class=\"data row44 col1\" >3</td>\n",
       "                        <td id=\"T_2dd2d_row44_col2\" class=\"data row44 col2\" >340</td>\n",
       "                        <td id=\"T_2dd2d_row44_col3\" class=\"data row44 col3\" >0.794087</td>\n",
       "                        <td id=\"T_2dd2d_row44_col4\" class=\"data row44 col4\" >0.804044</td>\n",
       "                        <td id=\"T_2dd2d_row44_col5\" class=\"data row44 col5\" >0.471565</td>\n",
       "            </tr>\n",
       "            <tr>\n",
       "                        <th id=\"T_2dd2d_level0_row45\" class=\"row_heading level0 row45\" >384</th>\n",
       "                        <td id=\"T_2dd2d_row45_col0\" class=\"data row45 col0\" >RandomForestClassifier</td>\n",
       "                        <td id=\"T_2dd2d_row45_col1\" class=\"data row45 col1\" >3</td>\n",
       "                        <td id=\"T_2dd2d_row45_col2\" class=\"data row45 col2\" >341</td>\n",
       "                        <td id=\"T_2dd2d_row45_col3\" class=\"data row45 col3\" >0.794087</td>\n",
       "                        <td id=\"T_2dd2d_row45_col4\" class=\"data row45 col4\" >0.804044</td>\n",
       "                        <td id=\"T_2dd2d_row45_col5\" class=\"data row45 col5\" >0.469886</td>\n",
       "            </tr>\n",
       "            <tr>\n",
       "                        <th id=\"T_2dd2d_level0_row46\" class=\"row_heading level0 row46\" >385</th>\n",
       "                        <td id=\"T_2dd2d_row46_col0\" class=\"data row46 col0\" >RandomForestClassifier</td>\n",
       "                        <td id=\"T_2dd2d_row46_col1\" class=\"data row46 col1\" >3</td>\n",
       "                        <td id=\"T_2dd2d_row46_col2\" class=\"data row46 col2\" >342</td>\n",
       "                        <td id=\"T_2dd2d_row46_col3\" class=\"data row46 col3\" >0.794087</td>\n",
       "                        <td id=\"T_2dd2d_row46_col4\" class=\"data row46 col4\" >0.804044</td>\n",
       "                        <td id=\"T_2dd2d_row46_col5\" class=\"data row46 col5\" >0.516704</td>\n",
       "            </tr>\n",
       "            <tr>\n",
       "                        <th id=\"T_2dd2d_level0_row47\" class=\"row_heading level0 row47\" >386</th>\n",
       "                        <td id=\"T_2dd2d_row47_col0\" class=\"data row47 col0\" >RandomForestClassifier</td>\n",
       "                        <td id=\"T_2dd2d_row47_col1\" class=\"data row47 col1\" >3</td>\n",
       "                        <td id=\"T_2dd2d_row47_col2\" class=\"data row47 col2\" >343</td>\n",
       "                        <td id=\"T_2dd2d_row47_col3\" class=\"data row47 col3\" >0.794087</td>\n",
       "                        <td id=\"T_2dd2d_row47_col4\" class=\"data row47 col4\" >0.804044</td>\n",
       "                        <td id=\"T_2dd2d_row47_col5\" class=\"data row47 col5\" >0.543126</td>\n",
       "            </tr>\n",
       "            <tr>\n",
       "                        <th id=\"T_2dd2d_level0_row48\" class=\"row_heading level0 row48\" >387</th>\n",
       "                        <td id=\"T_2dd2d_row48_col0\" class=\"data row48 col0\" >RandomForestClassifier</td>\n",
       "                        <td id=\"T_2dd2d_row48_col1\" class=\"data row48 col1\" >3</td>\n",
       "                        <td id=\"T_2dd2d_row48_col2\" class=\"data row48 col2\" >344</td>\n",
       "                        <td id=\"T_2dd2d_row48_col3\" class=\"data row48 col3\" >0.794087</td>\n",
       "                        <td id=\"T_2dd2d_row48_col4\" class=\"data row48 col4\" >0.804044</td>\n",
       "                        <td id=\"T_2dd2d_row48_col5\" class=\"data row48 col5\" >0.524800</td>\n",
       "            </tr>\n",
       "            <tr>\n",
       "                        <th id=\"T_2dd2d_level0_row49\" class=\"row_heading level0 row49\" >388</th>\n",
       "                        <td id=\"T_2dd2d_row49_col0\" class=\"data row49 col0\" >RandomForestClassifier</td>\n",
       "                        <td id=\"T_2dd2d_row49_col1\" class=\"data row49 col1\" >3</td>\n",
       "                        <td id=\"T_2dd2d_row49_col2\" class=\"data row49 col2\" >345</td>\n",
       "                        <td id=\"T_2dd2d_row49_col3\" class=\"data row49 col3\" >0.794087</td>\n",
       "                        <td id=\"T_2dd2d_row49_col4\" class=\"data row49 col4\" >0.804044</td>\n",
       "                        <td id=\"T_2dd2d_row49_col5\" class=\"data row49 col5\" >0.546066</td>\n",
       "            </tr>\n",
       "            <tr>\n",
       "                        <th id=\"T_2dd2d_level0_row50\" class=\"row_heading level0 row50\" >389</th>\n",
       "                        <td id=\"T_2dd2d_row50_col0\" class=\"data row50 col0\" >RandomForestClassifier</td>\n",
       "                        <td id=\"T_2dd2d_row50_col1\" class=\"data row50 col1\" >3</td>\n",
       "                        <td id=\"T_2dd2d_row50_col2\" class=\"data row50 col2\" >346</td>\n",
       "                        <td id=\"T_2dd2d_row50_col3\" class=\"data row50 col3\" >0.794087</td>\n",
       "                        <td id=\"T_2dd2d_row50_col4\" class=\"data row50 col4\" >0.804044</td>\n",
       "                        <td id=\"T_2dd2d_row50_col5\" class=\"data row50 col5\" >0.520187</td>\n",
       "            </tr>\n",
       "            <tr>\n",
       "                        <th id=\"T_2dd2d_level0_row51\" class=\"row_heading level0 row51\" >390</th>\n",
       "                        <td id=\"T_2dd2d_row51_col0\" class=\"data row51 col0\" >RandomForestClassifier</td>\n",
       "                        <td id=\"T_2dd2d_row51_col1\" class=\"data row51 col1\" >3</td>\n",
       "                        <td id=\"T_2dd2d_row51_col2\" class=\"data row51 col2\" >347</td>\n",
       "                        <td id=\"T_2dd2d_row51_col3\" class=\"data row51 col3\" >0.794087</td>\n",
       "                        <td id=\"T_2dd2d_row51_col4\" class=\"data row51 col4\" >0.804044</td>\n",
       "                        <td id=\"T_2dd2d_row51_col5\" class=\"data row51 col5\" >0.514232</td>\n",
       "            </tr>\n",
       "            <tr>\n",
       "                        <th id=\"T_2dd2d_level0_row52\" class=\"row_heading level0 row52\" >391</th>\n",
       "                        <td id=\"T_2dd2d_row52_col0\" class=\"data row52 col0\" >RandomForestClassifier</td>\n",
       "                        <td id=\"T_2dd2d_row52_col1\" class=\"data row52 col1\" >3</td>\n",
       "                        <td id=\"T_2dd2d_row52_col2\" class=\"data row52 col2\" >348</td>\n",
       "                        <td id=\"T_2dd2d_row52_col3\" class=\"data row52 col3\" >0.794087</td>\n",
       "                        <td id=\"T_2dd2d_row52_col4\" class=\"data row52 col4\" >0.804044</td>\n",
       "                        <td id=\"T_2dd2d_row52_col5\" class=\"data row52 col5\" >0.523075</td>\n",
       "            </tr>\n",
       "            <tr>\n",
       "                        <th id=\"T_2dd2d_level0_row53\" class=\"row_heading level0 row53\" >392</th>\n",
       "                        <td id=\"T_2dd2d_row53_col0\" class=\"data row53 col0\" >RandomForestClassifier</td>\n",
       "                        <td id=\"T_2dd2d_row53_col1\" class=\"data row53 col1\" >3</td>\n",
       "                        <td id=\"T_2dd2d_row53_col2\" class=\"data row53 col2\" >349</td>\n",
       "                        <td id=\"T_2dd2d_row53_col3\" class=\"data row53 col3\" >0.794087</td>\n",
       "                        <td id=\"T_2dd2d_row53_col4\" class=\"data row53 col4\" >0.804044</td>\n",
       "                        <td id=\"T_2dd2d_row53_col5\" class=\"data row53 col5\" >0.531830</td>\n",
       "            </tr>\n",
       "            <tr>\n",
       "                        <th id=\"T_2dd2d_level0_row54\" class=\"row_heading level0 row54\" >393</th>\n",
       "                        <td id=\"T_2dd2d_row54_col0\" class=\"data row54 col0\" >RandomForestClassifier</td>\n",
       "                        <td id=\"T_2dd2d_row54_col1\" class=\"data row54 col1\" >3</td>\n",
       "                        <td id=\"T_2dd2d_row54_col2\" class=\"data row54 col2\" >350</td>\n",
       "                        <td id=\"T_2dd2d_row54_col3\" class=\"data row54 col3\" >0.794087</td>\n",
       "                        <td id=\"T_2dd2d_row54_col4\" class=\"data row54 col4\" >0.804044</td>\n",
       "                        <td id=\"T_2dd2d_row54_col5\" class=\"data row54 col5\" >0.539261</td>\n",
       "            </tr>\n",
       "            <tr>\n",
       "                        <th id=\"T_2dd2d_level0_row55\" class=\"row_heading level0 row55\" >394</th>\n",
       "                        <td id=\"T_2dd2d_row55_col0\" class=\"data row55 col0\" >RandomForestClassifier</td>\n",
       "                        <td id=\"T_2dd2d_row55_col1\" class=\"data row55 col1\" >3</td>\n",
       "                        <td id=\"T_2dd2d_row55_col2\" class=\"data row55 col2\" >351</td>\n",
       "                        <td id=\"T_2dd2d_row55_col3\" class=\"data row55 col3\" >0.794087</td>\n",
       "                        <td id=\"T_2dd2d_row55_col4\" class=\"data row55 col4\" >0.804044</td>\n",
       "                        <td id=\"T_2dd2d_row55_col5\" class=\"data row55 col5\" >0.523757</td>\n",
       "            </tr>\n",
       "            <tr>\n",
       "                        <th id=\"T_2dd2d_level0_row56\" class=\"row_heading level0 row56\" >395</th>\n",
       "                        <td id=\"T_2dd2d_row56_col0\" class=\"data row56 col0\" >RandomForestClassifier</td>\n",
       "                        <td id=\"T_2dd2d_row56_col1\" class=\"data row56 col1\" >3</td>\n",
       "                        <td id=\"T_2dd2d_row56_col2\" class=\"data row56 col2\" >352</td>\n",
       "                        <td id=\"T_2dd2d_row56_col3\" class=\"data row56 col3\" >0.794087</td>\n",
       "                        <td id=\"T_2dd2d_row56_col4\" class=\"data row56 col4\" >0.804044</td>\n",
       "                        <td id=\"T_2dd2d_row56_col5\" class=\"data row56 col5\" >0.560138</td>\n",
       "            </tr>\n",
       "            <tr>\n",
       "                        <th id=\"T_2dd2d_level0_row57\" class=\"row_heading level0 row57\" >396</th>\n",
       "                        <td id=\"T_2dd2d_row57_col0\" class=\"data row57 col0\" >RandomForestClassifier</td>\n",
       "                        <td id=\"T_2dd2d_row57_col1\" class=\"data row57 col1\" >3</td>\n",
       "                        <td id=\"T_2dd2d_row57_col2\" class=\"data row57 col2\" >353</td>\n",
       "                        <td id=\"T_2dd2d_row57_col3\" class=\"data row57 col3\" >0.794087</td>\n",
       "                        <td id=\"T_2dd2d_row57_col4\" class=\"data row57 col4\" >0.804044</td>\n",
       "                        <td id=\"T_2dd2d_row57_col5\" class=\"data row57 col5\" >0.521256</td>\n",
       "            </tr>\n",
       "            <tr>\n",
       "                        <th id=\"T_2dd2d_level0_row58\" class=\"row_heading level0 row58\" >397</th>\n",
       "                        <td id=\"T_2dd2d_row58_col0\" class=\"data row58 col0\" >RandomForestClassifier</td>\n",
       "                        <td id=\"T_2dd2d_row58_col1\" class=\"data row58 col1\" >3</td>\n",
       "                        <td id=\"T_2dd2d_row58_col2\" class=\"data row58 col2\" >354</td>\n",
       "                        <td id=\"T_2dd2d_row58_col3\" class=\"data row58 col3\" >0.794087</td>\n",
       "                        <td id=\"T_2dd2d_row58_col4\" class=\"data row58 col4\" >0.804044</td>\n",
       "                        <td id=\"T_2dd2d_row58_col5\" class=\"data row58 col5\" >0.523501</td>\n",
       "            </tr>\n",
       "            <tr>\n",
       "                        <th id=\"T_2dd2d_level0_row59\" class=\"row_heading level0 row59\" >398</th>\n",
       "                        <td id=\"T_2dd2d_row59_col0\" class=\"data row59 col0\" >RandomForestClassifier</td>\n",
       "                        <td id=\"T_2dd2d_row59_col1\" class=\"data row59 col1\" >3</td>\n",
       "                        <td id=\"T_2dd2d_row59_col2\" class=\"data row59 col2\" >355</td>\n",
       "                        <td id=\"T_2dd2d_row59_col3\" class=\"data row59 col3\" >0.794087</td>\n",
       "                        <td id=\"T_2dd2d_row59_col4\" class=\"data row59 col4\" >0.804044</td>\n",
       "                        <td id=\"T_2dd2d_row59_col5\" class=\"data row59 col5\" >0.522892</td>\n",
       "            </tr>\n",
       "            <tr>\n",
       "                        <th id=\"T_2dd2d_level0_row60\" class=\"row_heading level0 row60\" >399</th>\n",
       "                        <td id=\"T_2dd2d_row60_col0\" class=\"data row60 col0\" >RandomForestClassifier</td>\n",
       "                        <td id=\"T_2dd2d_row60_col1\" class=\"data row60 col1\" >3</td>\n",
       "                        <td id=\"T_2dd2d_row60_col2\" class=\"data row60 col2\" >356</td>\n",
       "                        <td id=\"T_2dd2d_row60_col3\" class=\"data row60 col3\" >0.794087</td>\n",
       "                        <td id=\"T_2dd2d_row60_col4\" class=\"data row60 col4\" >0.804044</td>\n",
       "                        <td id=\"T_2dd2d_row60_col5\" class=\"data row60 col5\" >0.499585</td>\n",
       "            </tr>\n",
       "            <tr>\n",
       "                        <th id=\"T_2dd2d_level0_row61\" class=\"row_heading level0 row61\" >400</th>\n",
       "                        <td id=\"T_2dd2d_row61_col0\" class=\"data row61 col0\" >RandomForestClassifier</td>\n",
       "                        <td id=\"T_2dd2d_row61_col1\" class=\"data row61 col1\" >3</td>\n",
       "                        <td id=\"T_2dd2d_row61_col2\" class=\"data row61 col2\" >357</td>\n",
       "                        <td id=\"T_2dd2d_row61_col3\" class=\"data row61 col3\" >0.794087</td>\n",
       "                        <td id=\"T_2dd2d_row61_col4\" class=\"data row61 col4\" >0.804044</td>\n",
       "                        <td id=\"T_2dd2d_row61_col5\" class=\"data row61 col5\" >0.515172</td>\n",
       "            </tr>\n",
       "            <tr>\n",
       "                        <th id=\"T_2dd2d_level0_row62\" class=\"row_heading level0 row62\" >401</th>\n",
       "                        <td id=\"T_2dd2d_row62_col0\" class=\"data row62 col0\" >RandomForestClassifier</td>\n",
       "                        <td id=\"T_2dd2d_row62_col1\" class=\"data row62 col1\" >3</td>\n",
       "                        <td id=\"T_2dd2d_row62_col2\" class=\"data row62 col2\" >358</td>\n",
       "                        <td id=\"T_2dd2d_row62_col3\" class=\"data row62 col3\" >0.794087</td>\n",
       "                        <td id=\"T_2dd2d_row62_col4\" class=\"data row62 col4\" >0.804044</td>\n",
       "                        <td id=\"T_2dd2d_row62_col5\" class=\"data row62 col5\" >0.553943</td>\n",
       "            </tr>\n",
       "            <tr>\n",
       "                        <th id=\"T_2dd2d_level0_row63\" class=\"row_heading level0 row63\" >408</th>\n",
       "                        <td id=\"T_2dd2d_row63_col0\" class=\"data row63 col0\" >RandomForestClassifier</td>\n",
       "                        <td id=\"T_2dd2d_row63_col1\" class=\"data row63 col1\" >3</td>\n",
       "                        <td id=\"T_2dd2d_row63_col2\" class=\"data row63 col2\" >365</td>\n",
       "                        <td id=\"T_2dd2d_row63_col3\" class=\"data row63 col3\" >0.794087</td>\n",
       "                        <td id=\"T_2dd2d_row63_col4\" class=\"data row63 col4\" >0.804044</td>\n",
       "                        <td id=\"T_2dd2d_row63_col5\" class=\"data row63 col5\" >0.573962</td>\n",
       "            </tr>\n",
       "            <tr>\n",
       "                        <th id=\"T_2dd2d_level0_row64\" class=\"row_heading level0 row64\" >409</th>\n",
       "                        <td id=\"T_2dd2d_row64_col0\" class=\"data row64 col0\" >RandomForestClassifier</td>\n",
       "                        <td id=\"T_2dd2d_row64_col1\" class=\"data row64 col1\" >3</td>\n",
       "                        <td id=\"T_2dd2d_row64_col2\" class=\"data row64 col2\" >366</td>\n",
       "                        <td id=\"T_2dd2d_row64_col3\" class=\"data row64 col3\" >0.794087</td>\n",
       "                        <td id=\"T_2dd2d_row64_col4\" class=\"data row64 col4\" >0.804044</td>\n",
       "                        <td id=\"T_2dd2d_row64_col5\" class=\"data row64 col5\" >0.588773</td>\n",
       "            </tr>\n",
       "            <tr>\n",
       "                        <th id=\"T_2dd2d_level0_row65\" class=\"row_heading level0 row65\" >410</th>\n",
       "                        <td id=\"T_2dd2d_row65_col0\" class=\"data row65 col0\" >RandomForestClassifier</td>\n",
       "                        <td id=\"T_2dd2d_row65_col1\" class=\"data row65 col1\" >3</td>\n",
       "                        <td id=\"T_2dd2d_row65_col2\" class=\"data row65 col2\" >367</td>\n",
       "                        <td id=\"T_2dd2d_row65_col3\" class=\"data row65 col3\" >0.794087</td>\n",
       "                        <td id=\"T_2dd2d_row65_col4\" class=\"data row65 col4\" >0.804044</td>\n",
       "                        <td id=\"T_2dd2d_row65_col5\" class=\"data row65 col5\" >0.547193</td>\n",
       "            </tr>\n",
       "            <tr>\n",
       "                        <th id=\"T_2dd2d_level0_row66\" class=\"row_heading level0 row66\" >411</th>\n",
       "                        <td id=\"T_2dd2d_row66_col0\" class=\"data row66 col0\" >RandomForestClassifier</td>\n",
       "                        <td id=\"T_2dd2d_row66_col1\" class=\"data row66 col1\" >3</td>\n",
       "                        <td id=\"T_2dd2d_row66_col2\" class=\"data row66 col2\" >368</td>\n",
       "                        <td id=\"T_2dd2d_row66_col3\" class=\"data row66 col3\" >0.794087</td>\n",
       "                        <td id=\"T_2dd2d_row66_col4\" class=\"data row66 col4\" >0.804044</td>\n",
       "                        <td id=\"T_2dd2d_row66_col5\" class=\"data row66 col5\" >0.528905</td>\n",
       "            </tr>\n",
       "            <tr>\n",
       "                        <th id=\"T_2dd2d_level0_row67\" class=\"row_heading level0 row67\" >418</th>\n",
       "                        <td id=\"T_2dd2d_row67_col0\" class=\"data row67 col0\" >RandomForestClassifier</td>\n",
       "                        <td id=\"T_2dd2d_row67_col1\" class=\"data row67 col1\" >3</td>\n",
       "                        <td id=\"T_2dd2d_row67_col2\" class=\"data row67 col2\" >375</td>\n",
       "                        <td id=\"T_2dd2d_row67_col3\" class=\"data row67 col3\" >0.794606</td>\n",
       "                        <td id=\"T_2dd2d_row67_col4\" class=\"data row67 col4\" >0.804044</td>\n",
       "                        <td id=\"T_2dd2d_row67_col5\" class=\"data row67 col5\" >0.557837</td>\n",
       "            </tr>\n",
       "            <tr>\n",
       "                        <th id=\"T_2dd2d_level0_row68\" class=\"row_heading level0 row68\" >419</th>\n",
       "                        <td id=\"T_2dd2d_row68_col0\" class=\"data row68 col0\" >RandomForestClassifier</td>\n",
       "                        <td id=\"T_2dd2d_row68_col1\" class=\"data row68 col1\" >3</td>\n",
       "                        <td id=\"T_2dd2d_row68_col2\" class=\"data row68 col2\" >376</td>\n",
       "                        <td id=\"T_2dd2d_row68_col3\" class=\"data row68 col3\" >0.794087</td>\n",
       "                        <td id=\"T_2dd2d_row68_col4\" class=\"data row68 col4\" >0.804044</td>\n",
       "                        <td id=\"T_2dd2d_row68_col5\" class=\"data row68 col5\" >0.524704</td>\n",
       "            </tr>\n",
       "            <tr>\n",
       "                        <th id=\"T_2dd2d_level0_row69\" class=\"row_heading level0 row69\" >420</th>\n",
       "                        <td id=\"T_2dd2d_row69_col0\" class=\"data row69 col0\" >RandomForestClassifier</td>\n",
       "                        <td id=\"T_2dd2d_row69_col1\" class=\"data row69 col1\" >3</td>\n",
       "                        <td id=\"T_2dd2d_row69_col2\" class=\"data row69 col2\" >377</td>\n",
       "                        <td id=\"T_2dd2d_row69_col3\" class=\"data row69 col3\" >0.794087</td>\n",
       "                        <td id=\"T_2dd2d_row69_col4\" class=\"data row69 col4\" >0.804044</td>\n",
       "                        <td id=\"T_2dd2d_row69_col5\" class=\"data row69 col5\" >0.539947</td>\n",
       "            </tr>\n",
       "            <tr>\n",
       "                        <th id=\"T_2dd2d_level0_row70\" class=\"row_heading level0 row70\" >421</th>\n",
       "                        <td id=\"T_2dd2d_row70_col0\" class=\"data row70 col0\" >RandomForestClassifier</td>\n",
       "                        <td id=\"T_2dd2d_row70_col1\" class=\"data row70 col1\" >3</td>\n",
       "                        <td id=\"T_2dd2d_row70_col2\" class=\"data row70 col2\" >378</td>\n",
       "                        <td id=\"T_2dd2d_row70_col3\" class=\"data row70 col3\" >0.794087</td>\n",
       "                        <td id=\"T_2dd2d_row70_col4\" class=\"data row70 col4\" >0.804044</td>\n",
       "                        <td id=\"T_2dd2d_row70_col5\" class=\"data row70 col5\" >0.534759</td>\n",
       "            </tr>\n",
       "            <tr>\n",
       "                        <th id=\"T_2dd2d_level0_row71\" class=\"row_heading level0 row71\" >423</th>\n",
       "                        <td id=\"T_2dd2d_row71_col0\" class=\"data row71 col0\" >RandomForestClassifier</td>\n",
       "                        <td id=\"T_2dd2d_row71_col1\" class=\"data row71 col1\" >3</td>\n",
       "                        <td id=\"T_2dd2d_row71_col2\" class=\"data row71 col2\" >380</td>\n",
       "                        <td id=\"T_2dd2d_row71_col3\" class=\"data row71 col3\" >0.794606</td>\n",
       "                        <td id=\"T_2dd2d_row71_col4\" class=\"data row71 col4\" >0.804044</td>\n",
       "                        <td id=\"T_2dd2d_row71_col5\" class=\"data row71 col5\" >0.534278</td>\n",
       "            </tr>\n",
       "            <tr>\n",
       "                        <th id=\"T_2dd2d_level0_row72\" class=\"row_heading level0 row72\" >424</th>\n",
       "                        <td id=\"T_2dd2d_row72_col0\" class=\"data row72 col0\" >RandomForestClassifier</td>\n",
       "                        <td id=\"T_2dd2d_row72_col1\" class=\"data row72 col1\" >3</td>\n",
       "                        <td id=\"T_2dd2d_row72_col2\" class=\"data row72 col2\" >381</td>\n",
       "                        <td id=\"T_2dd2d_row72_col3\" class=\"data row72 col3\" >0.794087</td>\n",
       "                        <td id=\"T_2dd2d_row72_col4\" class=\"data row72 col4\" >0.804044</td>\n",
       "                        <td id=\"T_2dd2d_row72_col5\" class=\"data row72 col5\" >0.536870</td>\n",
       "            </tr>\n",
       "            <tr>\n",
       "                        <th id=\"T_2dd2d_level0_row73\" class=\"row_heading level0 row73\" >425</th>\n",
       "                        <td id=\"T_2dd2d_row73_col0\" class=\"data row73 col0\" >RandomForestClassifier</td>\n",
       "                        <td id=\"T_2dd2d_row73_col1\" class=\"data row73 col1\" >3</td>\n",
       "                        <td id=\"T_2dd2d_row73_col2\" class=\"data row73 col2\" >382</td>\n",
       "                        <td id=\"T_2dd2d_row73_col3\" class=\"data row73 col3\" >0.794087</td>\n",
       "                        <td id=\"T_2dd2d_row73_col4\" class=\"data row73 col4\" >0.804044</td>\n",
       "                        <td id=\"T_2dd2d_row73_col5\" class=\"data row73 col5\" >0.536357</td>\n",
       "            </tr>\n",
       "            <tr>\n",
       "                        <th id=\"T_2dd2d_level0_row74\" class=\"row_heading level0 row74\" >426</th>\n",
       "                        <td id=\"T_2dd2d_row74_col0\" class=\"data row74 col0\" >RandomForestClassifier</td>\n",
       "                        <td id=\"T_2dd2d_row74_col1\" class=\"data row74 col1\" >3</td>\n",
       "                        <td id=\"T_2dd2d_row74_col2\" class=\"data row74 col2\" >383</td>\n",
       "                        <td id=\"T_2dd2d_row74_col3\" class=\"data row74 col3\" >0.794087</td>\n",
       "                        <td id=\"T_2dd2d_row74_col4\" class=\"data row74 col4\" >0.804044</td>\n",
       "                        <td id=\"T_2dd2d_row74_col5\" class=\"data row74 col5\" >0.537502</td>\n",
       "            </tr>\n",
       "            <tr>\n",
       "                        <th id=\"T_2dd2d_level0_row75\" class=\"row_heading level0 row75\" >427</th>\n",
       "                        <td id=\"T_2dd2d_row75_col0\" class=\"data row75 col0\" >RandomForestClassifier</td>\n",
       "                        <td id=\"T_2dd2d_row75_col1\" class=\"data row75 col1\" >3</td>\n",
       "                        <td id=\"T_2dd2d_row75_col2\" class=\"data row75 col2\" >384</td>\n",
       "                        <td id=\"T_2dd2d_row75_col3\" class=\"data row75 col3\" >0.794606</td>\n",
       "                        <td id=\"T_2dd2d_row75_col4\" class=\"data row75 col4\" >0.804044</td>\n",
       "                        <td id=\"T_2dd2d_row75_col5\" class=\"data row75 col5\" >0.538034</td>\n",
       "            </tr>\n",
       "            <tr>\n",
       "                        <th id=\"T_2dd2d_level0_row76\" class=\"row_heading level0 row76\" >428</th>\n",
       "                        <td id=\"T_2dd2d_row76_col0\" class=\"data row76 col0\" >RandomForestClassifier</td>\n",
       "                        <td id=\"T_2dd2d_row76_col1\" class=\"data row76 col1\" >3</td>\n",
       "                        <td id=\"T_2dd2d_row76_col2\" class=\"data row76 col2\" >385</td>\n",
       "                        <td id=\"T_2dd2d_row76_col3\" class=\"data row76 col3\" >0.794606</td>\n",
       "                        <td id=\"T_2dd2d_row76_col4\" class=\"data row76 col4\" >0.804044</td>\n",
       "                        <td id=\"T_2dd2d_row76_col5\" class=\"data row76 col5\" >0.551625</td>\n",
       "            </tr>\n",
       "            <tr>\n",
       "                        <th id=\"T_2dd2d_level0_row77\" class=\"row_heading level0 row77\" >431</th>\n",
       "                        <td id=\"T_2dd2d_row77_col0\" class=\"data row77 col0\" >RandomForestClassifier</td>\n",
       "                        <td id=\"T_2dd2d_row77_col1\" class=\"data row77 col1\" >3</td>\n",
       "                        <td id=\"T_2dd2d_row77_col2\" class=\"data row77 col2\" >388</td>\n",
       "                        <td id=\"T_2dd2d_row77_col3\" class=\"data row77 col3\" >0.794606</td>\n",
       "                        <td id=\"T_2dd2d_row77_col4\" class=\"data row77 col4\" >0.804044</td>\n",
       "                        <td id=\"T_2dd2d_row77_col5\" class=\"data row77 col5\" >0.569096</td>\n",
       "            </tr>\n",
       "            <tr>\n",
       "                        <th id=\"T_2dd2d_level0_row78\" class=\"row_heading level0 row78\" >437</th>\n",
       "                        <td id=\"T_2dd2d_row78_col0\" class=\"data row78 col0\" >RandomForestClassifier</td>\n",
       "                        <td id=\"T_2dd2d_row78_col1\" class=\"data row78 col1\" >3</td>\n",
       "                        <td id=\"T_2dd2d_row78_col2\" class=\"data row78 col2\" >394</td>\n",
       "                        <td id=\"T_2dd2d_row78_col3\" class=\"data row78 col3\" >0.794606</td>\n",
       "                        <td id=\"T_2dd2d_row78_col4\" class=\"data row78 col4\" >0.804044</td>\n",
       "                        <td id=\"T_2dd2d_row78_col5\" class=\"data row78 col5\" >0.551925</td>\n",
       "            </tr>\n",
       "            <tr>\n",
       "                        <th id=\"T_2dd2d_level0_row79\" class=\"row_heading level0 row79\" >438</th>\n",
       "                        <td id=\"T_2dd2d_row79_col0\" class=\"data row79 col0\" >RandomForestClassifier</td>\n",
       "                        <td id=\"T_2dd2d_row79_col1\" class=\"data row79 col1\" >3</td>\n",
       "                        <td id=\"T_2dd2d_row79_col2\" class=\"data row79 col2\" >395</td>\n",
       "                        <td id=\"T_2dd2d_row79_col3\" class=\"data row79 col3\" >0.794606</td>\n",
       "                        <td id=\"T_2dd2d_row79_col4\" class=\"data row79 col4\" >0.804044</td>\n",
       "                        <td id=\"T_2dd2d_row79_col5\" class=\"data row79 col5\" >0.558412</td>\n",
       "            </tr>\n",
       "            <tr>\n",
       "                        <th id=\"T_2dd2d_level0_row80\" class=\"row_heading level0 row80\" >446</th>\n",
       "                        <td id=\"T_2dd2d_row80_col0\" class=\"data row80 col0\" >RandomForestClassifier</td>\n",
       "                        <td id=\"T_2dd2d_row80_col1\" class=\"data row80 col1\" >3</td>\n",
       "                        <td id=\"T_2dd2d_row80_col2\" class=\"data row80 col2\" >403</td>\n",
       "                        <td id=\"T_2dd2d_row80_col3\" class=\"data row80 col3\" >0.794606</td>\n",
       "                        <td id=\"T_2dd2d_row80_col4\" class=\"data row80 col4\" >0.804044</td>\n",
       "                        <td id=\"T_2dd2d_row80_col5\" class=\"data row80 col5\" >0.618596</td>\n",
       "            </tr>\n",
       "            <tr>\n",
       "                        <th id=\"T_2dd2d_level0_row81\" class=\"row_heading level0 row81\" >448</th>\n",
       "                        <td id=\"T_2dd2d_row81_col0\" class=\"data row81 col0\" >RandomForestClassifier</td>\n",
       "                        <td id=\"T_2dd2d_row81_col1\" class=\"data row81 col1\" >3</td>\n",
       "                        <td id=\"T_2dd2d_row81_col2\" class=\"data row81 col2\" >405</td>\n",
       "                        <td id=\"T_2dd2d_row81_col3\" class=\"data row81 col3\" >0.794606</td>\n",
       "                        <td id=\"T_2dd2d_row81_col4\" class=\"data row81 col4\" >0.804044</td>\n",
       "                        <td id=\"T_2dd2d_row81_col5\" class=\"data row81 col5\" >0.630242</td>\n",
       "            </tr>\n",
       "            <tr>\n",
       "                        <th id=\"T_2dd2d_level0_row82\" class=\"row_heading level0 row82\" >449</th>\n",
       "                        <td id=\"T_2dd2d_row82_col0\" class=\"data row82 col0\" >RandomForestClassifier</td>\n",
       "                        <td id=\"T_2dd2d_row82_col1\" class=\"data row82 col1\" >3</td>\n",
       "                        <td id=\"T_2dd2d_row82_col2\" class=\"data row82 col2\" >406</td>\n",
       "                        <td id=\"T_2dd2d_row82_col3\" class=\"data row82 col3\" >0.794606</td>\n",
       "                        <td id=\"T_2dd2d_row82_col4\" class=\"data row82 col4\" >0.804044</td>\n",
       "                        <td id=\"T_2dd2d_row82_col5\" class=\"data row82 col5\" >0.576390</td>\n",
       "            </tr>\n",
       "            <tr>\n",
       "                        <th id=\"T_2dd2d_level0_row83\" class=\"row_heading level0 row83\" >450</th>\n",
       "                        <td id=\"T_2dd2d_row83_col0\" class=\"data row83 col0\" >RandomForestClassifier</td>\n",
       "                        <td id=\"T_2dd2d_row83_col1\" class=\"data row83 col1\" >3</td>\n",
       "                        <td id=\"T_2dd2d_row83_col2\" class=\"data row83 col2\" >407</td>\n",
       "                        <td id=\"T_2dd2d_row83_col3\" class=\"data row83 col3\" >0.794606</td>\n",
       "                        <td id=\"T_2dd2d_row83_col4\" class=\"data row83 col4\" >0.804044</td>\n",
       "                        <td id=\"T_2dd2d_row83_col5\" class=\"data row83 col5\" >0.575249</td>\n",
       "            </tr>\n",
       "            <tr>\n",
       "                        <th id=\"T_2dd2d_level0_row84\" class=\"row_heading level0 row84\" >451</th>\n",
       "                        <td id=\"T_2dd2d_row84_col0\" class=\"data row84 col0\" >RandomForestClassifier</td>\n",
       "                        <td id=\"T_2dd2d_row84_col1\" class=\"data row84 col1\" >3</td>\n",
       "                        <td id=\"T_2dd2d_row84_col2\" class=\"data row84 col2\" >408</td>\n",
       "                        <td id=\"T_2dd2d_row84_col3\" class=\"data row84 col3\" >0.794606</td>\n",
       "                        <td id=\"T_2dd2d_row84_col4\" class=\"data row84 col4\" >0.804044</td>\n",
       "                        <td id=\"T_2dd2d_row84_col5\" class=\"data row84 col5\" >0.650065</td>\n",
       "            </tr>\n",
       "            <tr>\n",
       "                        <th id=\"T_2dd2d_level0_row85\" class=\"row_heading level0 row85\" >452</th>\n",
       "                        <td id=\"T_2dd2d_row85_col0\" class=\"data row85 col0\" >RandomForestClassifier</td>\n",
       "                        <td id=\"T_2dd2d_row85_col1\" class=\"data row85 col1\" >3</td>\n",
       "                        <td id=\"T_2dd2d_row85_col2\" class=\"data row85 col2\" >409</td>\n",
       "                        <td id=\"T_2dd2d_row85_col3\" class=\"data row85 col3\" >0.794606</td>\n",
       "                        <td id=\"T_2dd2d_row85_col4\" class=\"data row85 col4\" >0.804044</td>\n",
       "                        <td id=\"T_2dd2d_row85_col5\" class=\"data row85 col5\" >0.616121</td>\n",
       "            </tr>\n",
       "            <tr>\n",
       "                        <th id=\"T_2dd2d_level0_row86\" class=\"row_heading level0 row86\" >453</th>\n",
       "                        <td id=\"T_2dd2d_row86_col0\" class=\"data row86 col0\" >RandomForestClassifier</td>\n",
       "                        <td id=\"T_2dd2d_row86_col1\" class=\"data row86 col1\" >3</td>\n",
       "                        <td id=\"T_2dd2d_row86_col2\" class=\"data row86 col2\" >410</td>\n",
       "                        <td id=\"T_2dd2d_row86_col3\" class=\"data row86 col3\" >0.794606</td>\n",
       "                        <td id=\"T_2dd2d_row86_col4\" class=\"data row86 col4\" >0.804044</td>\n",
       "                        <td id=\"T_2dd2d_row86_col5\" class=\"data row86 col5\" >0.674812</td>\n",
       "            </tr>\n",
       "            <tr>\n",
       "                        <th id=\"T_2dd2d_level0_row87\" class=\"row_heading level0 row87\" >454</th>\n",
       "                        <td id=\"T_2dd2d_row87_col0\" class=\"data row87 col0\" >RandomForestClassifier</td>\n",
       "                        <td id=\"T_2dd2d_row87_col1\" class=\"data row87 col1\" >3</td>\n",
       "                        <td id=\"T_2dd2d_row87_col2\" class=\"data row87 col2\" >411</td>\n",
       "                        <td id=\"T_2dd2d_row87_col3\" class=\"data row87 col3\" >0.794606</td>\n",
       "                        <td id=\"T_2dd2d_row87_col4\" class=\"data row87 col4\" >0.804044</td>\n",
       "                        <td id=\"T_2dd2d_row87_col5\" class=\"data row87 col5\" >0.598729</td>\n",
       "            </tr>\n",
       "            <tr>\n",
       "                        <th id=\"T_2dd2d_level0_row88\" class=\"row_heading level0 row88\" >455</th>\n",
       "                        <td id=\"T_2dd2d_row88_col0\" class=\"data row88 col0\" >RandomForestClassifier</td>\n",
       "                        <td id=\"T_2dd2d_row88_col1\" class=\"data row88 col1\" >3</td>\n",
       "                        <td id=\"T_2dd2d_row88_col2\" class=\"data row88 col2\" >412</td>\n",
       "                        <td id=\"T_2dd2d_row88_col3\" class=\"data row88 col3\" >0.794087</td>\n",
       "                        <td id=\"T_2dd2d_row88_col4\" class=\"data row88 col4\" >0.804044</td>\n",
       "                        <td id=\"T_2dd2d_row88_col5\" class=\"data row88 col5\" >0.592739</td>\n",
       "            </tr>\n",
       "            <tr>\n",
       "                        <th id=\"T_2dd2d_level0_row89\" class=\"row_heading level0 row89\" >456</th>\n",
       "                        <td id=\"T_2dd2d_row89_col0\" class=\"data row89 col0\" >RandomForestClassifier</td>\n",
       "                        <td id=\"T_2dd2d_row89_col1\" class=\"data row89 col1\" >3</td>\n",
       "                        <td id=\"T_2dd2d_row89_col2\" class=\"data row89 col2\" >413</td>\n",
       "                        <td id=\"T_2dd2d_row89_col3\" class=\"data row89 col3\" >0.794087</td>\n",
       "                        <td id=\"T_2dd2d_row89_col4\" class=\"data row89 col4\" >0.804044</td>\n",
       "                        <td id=\"T_2dd2d_row89_col5\" class=\"data row89 col5\" >0.603044</td>\n",
       "            </tr>\n",
       "            <tr>\n",
       "                        <th id=\"T_2dd2d_level0_row90\" class=\"row_heading level0 row90\" >457</th>\n",
       "                        <td id=\"T_2dd2d_row90_col0\" class=\"data row90 col0\" >RandomForestClassifier</td>\n",
       "                        <td id=\"T_2dd2d_row90_col1\" class=\"data row90 col1\" >3</td>\n",
       "                        <td id=\"T_2dd2d_row90_col2\" class=\"data row90 col2\" >414</td>\n",
       "                        <td id=\"T_2dd2d_row90_col3\" class=\"data row90 col3\" >0.794087</td>\n",
       "                        <td id=\"T_2dd2d_row90_col4\" class=\"data row90 col4\" >0.804044</td>\n",
       "                        <td id=\"T_2dd2d_row90_col5\" class=\"data row90 col5\" >0.588333</td>\n",
       "            </tr>\n",
       "            <tr>\n",
       "                        <th id=\"T_2dd2d_level0_row91\" class=\"row_heading level0 row91\" >458</th>\n",
       "                        <td id=\"T_2dd2d_row91_col0\" class=\"data row91 col0\" >RandomForestClassifier</td>\n",
       "                        <td id=\"T_2dd2d_row91_col1\" class=\"data row91 col1\" >3</td>\n",
       "                        <td id=\"T_2dd2d_row91_col2\" class=\"data row91 col2\" >415</td>\n",
       "                        <td id=\"T_2dd2d_row91_col3\" class=\"data row91 col3\" >0.794087</td>\n",
       "                        <td id=\"T_2dd2d_row91_col4\" class=\"data row91 col4\" >0.804044</td>\n",
       "                        <td id=\"T_2dd2d_row91_col5\" class=\"data row91 col5\" >0.588473</td>\n",
       "            </tr>\n",
       "            <tr>\n",
       "                        <th id=\"T_2dd2d_level0_row92\" class=\"row_heading level0 row92\" >459</th>\n",
       "                        <td id=\"T_2dd2d_row92_col0\" class=\"data row92 col0\" >RandomForestClassifier</td>\n",
       "                        <td id=\"T_2dd2d_row92_col1\" class=\"data row92 col1\" >3</td>\n",
       "                        <td id=\"T_2dd2d_row92_col2\" class=\"data row92 col2\" >416</td>\n",
       "                        <td id=\"T_2dd2d_row92_col3\" class=\"data row92 col3\" >0.794087</td>\n",
       "                        <td id=\"T_2dd2d_row92_col4\" class=\"data row92 col4\" >0.804044</td>\n",
       "                        <td id=\"T_2dd2d_row92_col5\" class=\"data row92 col5\" >0.580069</td>\n",
       "            </tr>\n",
       "            <tr>\n",
       "                        <th id=\"T_2dd2d_level0_row93\" class=\"row_heading level0 row93\" >460</th>\n",
       "                        <td id=\"T_2dd2d_row93_col0\" class=\"data row93 col0\" >RandomForestClassifier</td>\n",
       "                        <td id=\"T_2dd2d_row93_col1\" class=\"data row93 col1\" >3</td>\n",
       "                        <td id=\"T_2dd2d_row93_col2\" class=\"data row93 col2\" >417</td>\n",
       "                        <td id=\"T_2dd2d_row93_col3\" class=\"data row93 col3\" >0.794087</td>\n",
       "                        <td id=\"T_2dd2d_row93_col4\" class=\"data row93 col4\" >0.804044</td>\n",
       "                        <td id=\"T_2dd2d_row93_col5\" class=\"data row93 col5\" >0.606184</td>\n",
       "            </tr>\n",
       "            <tr>\n",
       "                        <th id=\"T_2dd2d_level0_row94\" class=\"row_heading level0 row94\" >461</th>\n",
       "                        <td id=\"T_2dd2d_row94_col0\" class=\"data row94 col0\" >RandomForestClassifier</td>\n",
       "                        <td id=\"T_2dd2d_row94_col1\" class=\"data row94 col1\" >3</td>\n",
       "                        <td id=\"T_2dd2d_row94_col2\" class=\"data row94 col2\" >418</td>\n",
       "                        <td id=\"T_2dd2d_row94_col3\" class=\"data row94 col3\" >0.794087</td>\n",
       "                        <td id=\"T_2dd2d_row94_col4\" class=\"data row94 col4\" >0.804044</td>\n",
       "                        <td id=\"T_2dd2d_row94_col5\" class=\"data row94 col5\" >0.618837</td>\n",
       "            </tr>\n",
       "            <tr>\n",
       "                        <th id=\"T_2dd2d_level0_row95\" class=\"row_heading level0 row95\" >462</th>\n",
       "                        <td id=\"T_2dd2d_row95_col0\" class=\"data row95 col0\" >RandomForestClassifier</td>\n",
       "                        <td id=\"T_2dd2d_row95_col1\" class=\"data row95 col1\" >3</td>\n",
       "                        <td id=\"T_2dd2d_row95_col2\" class=\"data row95 col2\" >419</td>\n",
       "                        <td id=\"T_2dd2d_row95_col3\" class=\"data row95 col3\" >0.794087</td>\n",
       "                        <td id=\"T_2dd2d_row95_col4\" class=\"data row95 col4\" >0.804044</td>\n",
       "                        <td id=\"T_2dd2d_row95_col5\" class=\"data row95 col5\" >0.615448</td>\n",
       "            </tr>\n",
       "            <tr>\n",
       "                        <th id=\"T_2dd2d_level0_row96\" class=\"row_heading level0 row96\" >463</th>\n",
       "                        <td id=\"T_2dd2d_row96_col0\" class=\"data row96 col0\" >RandomForestClassifier</td>\n",
       "                        <td id=\"T_2dd2d_row96_col1\" class=\"data row96 col1\" >3</td>\n",
       "                        <td id=\"T_2dd2d_row96_col2\" class=\"data row96 col2\" >420</td>\n",
       "                        <td id=\"T_2dd2d_row96_col3\" class=\"data row96 col3\" >0.794087</td>\n",
       "                        <td id=\"T_2dd2d_row96_col4\" class=\"data row96 col4\" >0.804044</td>\n",
       "                        <td id=\"T_2dd2d_row96_col5\" class=\"data row96 col5\" >0.620809</td>\n",
       "            </tr>\n",
       "            <tr>\n",
       "                        <th id=\"T_2dd2d_level0_row97\" class=\"row_heading level0 row97\" >464</th>\n",
       "                        <td id=\"T_2dd2d_row97_col0\" class=\"data row97 col0\" >RandomForestClassifier</td>\n",
       "                        <td id=\"T_2dd2d_row97_col1\" class=\"data row97 col1\" >3</td>\n",
       "                        <td id=\"T_2dd2d_row97_col2\" class=\"data row97 col2\" >421</td>\n",
       "                        <td id=\"T_2dd2d_row97_col3\" class=\"data row97 col3\" >0.794087</td>\n",
       "                        <td id=\"T_2dd2d_row97_col4\" class=\"data row97 col4\" >0.804044</td>\n",
       "                        <td id=\"T_2dd2d_row97_col5\" class=\"data row97 col5\" >0.597626</td>\n",
       "            </tr>\n",
       "            <tr>\n",
       "                        <th id=\"T_2dd2d_level0_row98\" class=\"row_heading level0 row98\" >465</th>\n",
       "                        <td id=\"T_2dd2d_row98_col0\" class=\"data row98 col0\" >RandomForestClassifier</td>\n",
       "                        <td id=\"T_2dd2d_row98_col1\" class=\"data row98 col1\" >3</td>\n",
       "                        <td id=\"T_2dd2d_row98_col2\" class=\"data row98 col2\" >422</td>\n",
       "                        <td id=\"T_2dd2d_row98_col3\" class=\"data row98 col3\" >0.794087</td>\n",
       "                        <td id=\"T_2dd2d_row98_col4\" class=\"data row98 col4\" >0.804044</td>\n",
       "                        <td id=\"T_2dd2d_row98_col5\" class=\"data row98 col5\" >0.606030</td>\n",
       "            </tr>\n",
       "            <tr>\n",
       "                        <th id=\"T_2dd2d_level0_row99\" class=\"row_heading level0 row99\" >466</th>\n",
       "                        <td id=\"T_2dd2d_row99_col0\" class=\"data row99 col0\" >RandomForestClassifier</td>\n",
       "                        <td id=\"T_2dd2d_row99_col1\" class=\"data row99 col1\" >3</td>\n",
       "                        <td id=\"T_2dd2d_row99_col2\" class=\"data row99 col2\" >423</td>\n",
       "                        <td id=\"T_2dd2d_row99_col3\" class=\"data row99 col3\" >0.794087</td>\n",
       "                        <td id=\"T_2dd2d_row99_col4\" class=\"data row99 col4\" >0.804044</td>\n",
       "                        <td id=\"T_2dd2d_row99_col5\" class=\"data row99 col5\" >0.642923</td>\n",
       "            </tr>\n",
       "            <tr>\n",
       "                        <th id=\"T_2dd2d_level0_row100\" class=\"row_heading level0 row100\" >467</th>\n",
       "                        <td id=\"T_2dd2d_row100_col0\" class=\"data row100 col0\" >RandomForestClassifier</td>\n",
       "                        <td id=\"T_2dd2d_row100_col1\" class=\"data row100 col1\" >3</td>\n",
       "                        <td id=\"T_2dd2d_row100_col2\" class=\"data row100 col2\" >424</td>\n",
       "                        <td id=\"T_2dd2d_row100_col3\" class=\"data row100 col3\" >0.794087</td>\n",
       "                        <td id=\"T_2dd2d_row100_col4\" class=\"data row100 col4\" >0.804044</td>\n",
       "                        <td id=\"T_2dd2d_row100_col5\" class=\"data row100 col5\" >0.623235</td>\n",
       "            </tr>\n",
       "            <tr>\n",
       "                        <th id=\"T_2dd2d_level0_row101\" class=\"row_heading level0 row101\" >468</th>\n",
       "                        <td id=\"T_2dd2d_row101_col0\" class=\"data row101 col0\" >RandomForestClassifier</td>\n",
       "                        <td id=\"T_2dd2d_row101_col1\" class=\"data row101 col1\" >3</td>\n",
       "                        <td id=\"T_2dd2d_row101_col2\" class=\"data row101 col2\" >425</td>\n",
       "                        <td id=\"T_2dd2d_row101_col3\" class=\"data row101 col3\" >0.794087</td>\n",
       "                        <td id=\"T_2dd2d_row101_col4\" class=\"data row101 col4\" >0.804044</td>\n",
       "                        <td id=\"T_2dd2d_row101_col5\" class=\"data row101 col5\" >0.584261</td>\n",
       "            </tr>\n",
       "            <tr>\n",
       "                        <th id=\"T_2dd2d_level0_row102\" class=\"row_heading level0 row102\" >469</th>\n",
       "                        <td id=\"T_2dd2d_row102_col0\" class=\"data row102 col0\" >RandomForestClassifier</td>\n",
       "                        <td id=\"T_2dd2d_row102_col1\" class=\"data row102 col1\" >3</td>\n",
       "                        <td id=\"T_2dd2d_row102_col2\" class=\"data row102 col2\" >426</td>\n",
       "                        <td id=\"T_2dd2d_row102_col3\" class=\"data row102 col3\" >0.794087</td>\n",
       "                        <td id=\"T_2dd2d_row102_col4\" class=\"data row102 col4\" >0.804044</td>\n",
       "                        <td id=\"T_2dd2d_row102_col5\" class=\"data row102 col5\" >0.611683</td>\n",
       "            </tr>\n",
       "            <tr>\n",
       "                        <th id=\"T_2dd2d_level0_row103\" class=\"row_heading level0 row103\" >470</th>\n",
       "                        <td id=\"T_2dd2d_row103_col0\" class=\"data row103 col0\" >RandomForestClassifier</td>\n",
       "                        <td id=\"T_2dd2d_row103_col1\" class=\"data row103 col1\" >3</td>\n",
       "                        <td id=\"T_2dd2d_row103_col2\" class=\"data row103 col2\" >427</td>\n",
       "                        <td id=\"T_2dd2d_row103_col3\" class=\"data row103 col3\" >0.794087</td>\n",
       "                        <td id=\"T_2dd2d_row103_col4\" class=\"data row103 col4\" >0.804044</td>\n",
       "                        <td id=\"T_2dd2d_row103_col5\" class=\"data row103 col5\" >0.603449</td>\n",
       "            </tr>\n",
       "            <tr>\n",
       "                        <th id=\"T_2dd2d_level0_row104\" class=\"row_heading level0 row104\" >471</th>\n",
       "                        <td id=\"T_2dd2d_row104_col0\" class=\"data row104 col0\" >RandomForestClassifier</td>\n",
       "                        <td id=\"T_2dd2d_row104_col1\" class=\"data row104 col1\" >3</td>\n",
       "                        <td id=\"T_2dd2d_row104_col2\" class=\"data row104 col2\" >428</td>\n",
       "                        <td id=\"T_2dd2d_row104_col3\" class=\"data row104 col3\" >0.794087</td>\n",
       "                        <td id=\"T_2dd2d_row104_col4\" class=\"data row104 col4\" >0.804044</td>\n",
       "                        <td id=\"T_2dd2d_row104_col5\" class=\"data row104 col5\" >0.648705</td>\n",
       "            </tr>\n",
       "            <tr>\n",
       "                        <th id=\"T_2dd2d_level0_row105\" class=\"row_heading level0 row105\" >472</th>\n",
       "                        <td id=\"T_2dd2d_row105_col0\" class=\"data row105 col0\" >RandomForestClassifier</td>\n",
       "                        <td id=\"T_2dd2d_row105_col1\" class=\"data row105 col1\" >3</td>\n",
       "                        <td id=\"T_2dd2d_row105_col2\" class=\"data row105 col2\" >429</td>\n",
       "                        <td id=\"T_2dd2d_row105_col3\" class=\"data row105 col3\" >0.794087</td>\n",
       "                        <td id=\"T_2dd2d_row105_col4\" class=\"data row105 col4\" >0.804044</td>\n",
       "                        <td id=\"T_2dd2d_row105_col5\" class=\"data row105 col5\" >0.615778</td>\n",
       "            </tr>\n",
       "            <tr>\n",
       "                        <th id=\"T_2dd2d_level0_row106\" class=\"row_heading level0 row106\" >473</th>\n",
       "                        <td id=\"T_2dd2d_row106_col0\" class=\"data row106 col0\" >RandomForestClassifier</td>\n",
       "                        <td id=\"T_2dd2d_row106_col1\" class=\"data row106 col1\" >3</td>\n",
       "                        <td id=\"T_2dd2d_row106_col2\" class=\"data row106 col2\" >430</td>\n",
       "                        <td id=\"T_2dd2d_row106_col3\" class=\"data row106 col3\" >0.794087</td>\n",
       "                        <td id=\"T_2dd2d_row106_col4\" class=\"data row106 col4\" >0.804044</td>\n",
       "                        <td id=\"T_2dd2d_row106_col5\" class=\"data row106 col5\" >0.664590</td>\n",
       "            </tr>\n",
       "            <tr>\n",
       "                        <th id=\"T_2dd2d_level0_row107\" class=\"row_heading level0 row107\" >474</th>\n",
       "                        <td id=\"T_2dd2d_row107_col0\" class=\"data row107 col0\" >RandomForestClassifier</td>\n",
       "                        <td id=\"T_2dd2d_row107_col1\" class=\"data row107 col1\" >3</td>\n",
       "                        <td id=\"T_2dd2d_row107_col2\" class=\"data row107 col2\" >431</td>\n",
       "                        <td id=\"T_2dd2d_row107_col3\" class=\"data row107 col3\" >0.794087</td>\n",
       "                        <td id=\"T_2dd2d_row107_col4\" class=\"data row107 col4\" >0.804044</td>\n",
       "                        <td id=\"T_2dd2d_row107_col5\" class=\"data row107 col5\" >0.625190</td>\n",
       "            </tr>\n",
       "            <tr>\n",
       "                        <th id=\"T_2dd2d_level0_row108\" class=\"row_heading level0 row108\" >475</th>\n",
       "                        <td id=\"T_2dd2d_row108_col0\" class=\"data row108 col0\" >RandomForestClassifier</td>\n",
       "                        <td id=\"T_2dd2d_row108_col1\" class=\"data row108 col1\" >3</td>\n",
       "                        <td id=\"T_2dd2d_row108_col2\" class=\"data row108 col2\" >432</td>\n",
       "                        <td id=\"T_2dd2d_row108_col3\" class=\"data row108 col3\" >0.794087</td>\n",
       "                        <td id=\"T_2dd2d_row108_col4\" class=\"data row108 col4\" >0.804044</td>\n",
       "                        <td id=\"T_2dd2d_row108_col5\" class=\"data row108 col5\" >0.723691</td>\n",
       "            </tr>\n",
       "            <tr>\n",
       "                        <th id=\"T_2dd2d_level0_row109\" class=\"row_heading level0 row109\" >476</th>\n",
       "                        <td id=\"T_2dd2d_row109_col0\" class=\"data row109 col0\" >RandomForestClassifier</td>\n",
       "                        <td id=\"T_2dd2d_row109_col1\" class=\"data row109 col1\" >3</td>\n",
       "                        <td id=\"T_2dd2d_row109_col2\" class=\"data row109 col2\" >433</td>\n",
       "                        <td id=\"T_2dd2d_row109_col3\" class=\"data row109 col3\" >0.794087</td>\n",
       "                        <td id=\"T_2dd2d_row109_col4\" class=\"data row109 col4\" >0.804044</td>\n",
       "                        <td id=\"T_2dd2d_row109_col5\" class=\"data row109 col5\" >0.663210</td>\n",
       "            </tr>\n",
       "            <tr>\n",
       "                        <th id=\"T_2dd2d_level0_row110\" class=\"row_heading level0 row110\" >477</th>\n",
       "                        <td id=\"T_2dd2d_row110_col0\" class=\"data row110 col0\" >RandomForestClassifier</td>\n",
       "                        <td id=\"T_2dd2d_row110_col1\" class=\"data row110 col1\" >3</td>\n",
       "                        <td id=\"T_2dd2d_row110_col2\" class=\"data row110 col2\" >434</td>\n",
       "                        <td id=\"T_2dd2d_row110_col3\" class=\"data row110 col3\" >0.794087</td>\n",
       "                        <td id=\"T_2dd2d_row110_col4\" class=\"data row110 col4\" >0.804044</td>\n",
       "                        <td id=\"T_2dd2d_row110_col5\" class=\"data row110 col5\" >0.692674</td>\n",
       "            </tr>\n",
       "            <tr>\n",
       "                        <th id=\"T_2dd2d_level0_row111\" class=\"row_heading level0 row111\" >478</th>\n",
       "                        <td id=\"T_2dd2d_row111_col0\" class=\"data row111 col0\" >RandomForestClassifier</td>\n",
       "                        <td id=\"T_2dd2d_row111_col1\" class=\"data row111 col1\" >3</td>\n",
       "                        <td id=\"T_2dd2d_row111_col2\" class=\"data row111 col2\" >435</td>\n",
       "                        <td id=\"T_2dd2d_row111_col3\" class=\"data row111 col3\" >0.794087</td>\n",
       "                        <td id=\"T_2dd2d_row111_col4\" class=\"data row111 col4\" >0.804044</td>\n",
       "                        <td id=\"T_2dd2d_row111_col5\" class=\"data row111 col5\" >0.683730</td>\n",
       "            </tr>\n",
       "            <tr>\n",
       "                        <th id=\"T_2dd2d_level0_row112\" class=\"row_heading level0 row112\" >479</th>\n",
       "                        <td id=\"T_2dd2d_row112_col0\" class=\"data row112 col0\" >RandomForestClassifier</td>\n",
       "                        <td id=\"T_2dd2d_row112_col1\" class=\"data row112 col1\" >3</td>\n",
       "                        <td id=\"T_2dd2d_row112_col2\" class=\"data row112 col2\" >436</td>\n",
       "                        <td id=\"T_2dd2d_row112_col3\" class=\"data row112 col3\" >0.794087</td>\n",
       "                        <td id=\"T_2dd2d_row112_col4\" class=\"data row112 col4\" >0.804044</td>\n",
       "                        <td id=\"T_2dd2d_row112_col5\" class=\"data row112 col5\" >0.670655</td>\n",
       "            </tr>\n",
       "            <tr>\n",
       "                        <th id=\"T_2dd2d_level0_row113\" class=\"row_heading level0 row113\" >480</th>\n",
       "                        <td id=\"T_2dd2d_row113_col0\" class=\"data row113 col0\" >RandomForestClassifier</td>\n",
       "                        <td id=\"T_2dd2d_row113_col1\" class=\"data row113 col1\" >3</td>\n",
       "                        <td id=\"T_2dd2d_row113_col2\" class=\"data row113 col2\" >437</td>\n",
       "                        <td id=\"T_2dd2d_row113_col3\" class=\"data row113 col3\" >0.794087</td>\n",
       "                        <td id=\"T_2dd2d_row113_col4\" class=\"data row113 col4\" >0.804044</td>\n",
       "                        <td id=\"T_2dd2d_row113_col5\" class=\"data row113 col5\" >0.687471</td>\n",
       "            </tr>\n",
       "            <tr>\n",
       "                        <th id=\"T_2dd2d_level0_row114\" class=\"row_heading level0 row114\" >481</th>\n",
       "                        <td id=\"T_2dd2d_row114_col0\" class=\"data row114 col0\" >RandomForestClassifier</td>\n",
       "                        <td id=\"T_2dd2d_row114_col1\" class=\"data row114 col1\" >3</td>\n",
       "                        <td id=\"T_2dd2d_row114_col2\" class=\"data row114 col2\" >438</td>\n",
       "                        <td id=\"T_2dd2d_row114_col3\" class=\"data row114 col3\" >0.794087</td>\n",
       "                        <td id=\"T_2dd2d_row114_col4\" class=\"data row114 col4\" >0.804044</td>\n",
       "                        <td id=\"T_2dd2d_row114_col5\" class=\"data row114 col5\" >0.667241</td>\n",
       "            </tr>\n",
       "            <tr>\n",
       "                        <th id=\"T_2dd2d_level0_row115\" class=\"row_heading level0 row115\" >482</th>\n",
       "                        <td id=\"T_2dd2d_row115_col0\" class=\"data row115 col0\" >RandomForestClassifier</td>\n",
       "                        <td id=\"T_2dd2d_row115_col1\" class=\"data row115 col1\" >3</td>\n",
       "                        <td id=\"T_2dd2d_row115_col2\" class=\"data row115 col2\" >439</td>\n",
       "                        <td id=\"T_2dd2d_row115_col3\" class=\"data row115 col3\" >0.794087</td>\n",
       "                        <td id=\"T_2dd2d_row115_col4\" class=\"data row115 col4\" >0.804044</td>\n",
       "                        <td id=\"T_2dd2d_row115_col5\" class=\"data row115 col5\" >0.638341</td>\n",
       "            </tr>\n",
       "            <tr>\n",
       "                        <th id=\"T_2dd2d_level0_row116\" class=\"row_heading level0 row116\" >483</th>\n",
       "                        <td id=\"T_2dd2d_row116_col0\" class=\"data row116 col0\" >RandomForestClassifier</td>\n",
       "                        <td id=\"T_2dd2d_row116_col1\" class=\"data row116 col1\" >3</td>\n",
       "                        <td id=\"T_2dd2d_row116_col2\" class=\"data row116 col2\" >440</td>\n",
       "                        <td id=\"T_2dd2d_row116_col3\" class=\"data row116 col3\" >0.794087</td>\n",
       "                        <td id=\"T_2dd2d_row116_col4\" class=\"data row116 col4\" >0.804044</td>\n",
       "                        <td id=\"T_2dd2d_row116_col5\" class=\"data row116 col5\" >0.627065</td>\n",
       "            </tr>\n",
       "            <tr>\n",
       "                        <th id=\"T_2dd2d_level0_row117\" class=\"row_heading level0 row117\" >484</th>\n",
       "                        <td id=\"T_2dd2d_row117_col0\" class=\"data row117 col0\" >RandomForestClassifier</td>\n",
       "                        <td id=\"T_2dd2d_row117_col1\" class=\"data row117 col1\" >3</td>\n",
       "                        <td id=\"T_2dd2d_row117_col2\" class=\"data row117 col2\" >441</td>\n",
       "                        <td id=\"T_2dd2d_row117_col3\" class=\"data row117 col3\" >0.794087</td>\n",
       "                        <td id=\"T_2dd2d_row117_col4\" class=\"data row117 col4\" >0.804044</td>\n",
       "                        <td id=\"T_2dd2d_row117_col5\" class=\"data row117 col5\" >0.621675</td>\n",
       "            </tr>\n",
       "            <tr>\n",
       "                        <th id=\"T_2dd2d_level0_row118\" class=\"row_heading level0 row118\" >485</th>\n",
       "                        <td id=\"T_2dd2d_row118_col0\" class=\"data row118 col0\" >RandomForestClassifier</td>\n",
       "                        <td id=\"T_2dd2d_row118_col1\" class=\"data row118 col1\" >3</td>\n",
       "                        <td id=\"T_2dd2d_row118_col2\" class=\"data row118 col2\" >442</td>\n",
       "                        <td id=\"T_2dd2d_row118_col3\" class=\"data row118 col3\" >0.794087</td>\n",
       "                        <td id=\"T_2dd2d_row118_col4\" class=\"data row118 col4\" >0.804044</td>\n",
       "                        <td id=\"T_2dd2d_row118_col5\" class=\"data row118 col5\" >0.654866</td>\n",
       "            </tr>\n",
       "            <tr>\n",
       "                        <th id=\"T_2dd2d_level0_row119\" class=\"row_heading level0 row119\" >486</th>\n",
       "                        <td id=\"T_2dd2d_row119_col0\" class=\"data row119 col0\" >RandomForestClassifier</td>\n",
       "                        <td id=\"T_2dd2d_row119_col1\" class=\"data row119 col1\" >3</td>\n",
       "                        <td id=\"T_2dd2d_row119_col2\" class=\"data row119 col2\" >443</td>\n",
       "                        <td id=\"T_2dd2d_row119_col3\" class=\"data row119 col3\" >0.794087</td>\n",
       "                        <td id=\"T_2dd2d_row119_col4\" class=\"data row119 col4\" >0.804044</td>\n",
       "                        <td id=\"T_2dd2d_row119_col5\" class=\"data row119 col5\" >0.636618</td>\n",
       "            </tr>\n",
       "            <tr>\n",
       "                        <th id=\"T_2dd2d_level0_row120\" class=\"row_heading level0 row120\" >487</th>\n",
       "                        <td id=\"T_2dd2d_row120_col0\" class=\"data row120 col0\" >RandomForestClassifier</td>\n",
       "                        <td id=\"T_2dd2d_row120_col1\" class=\"data row120 col1\" >3</td>\n",
       "                        <td id=\"T_2dd2d_row120_col2\" class=\"data row120 col2\" >444</td>\n",
       "                        <td id=\"T_2dd2d_row120_col3\" class=\"data row120 col3\" >0.794087</td>\n",
       "                        <td id=\"T_2dd2d_row120_col4\" class=\"data row120 col4\" >0.804044</td>\n",
       "                        <td id=\"T_2dd2d_row120_col5\" class=\"data row120 col5\" >0.635203</td>\n",
       "            </tr>\n",
       "            <tr>\n",
       "                        <th id=\"T_2dd2d_level0_row121\" class=\"row_heading level0 row121\" >488</th>\n",
       "                        <td id=\"T_2dd2d_row121_col0\" class=\"data row121 col0\" >RandomForestClassifier</td>\n",
       "                        <td id=\"T_2dd2d_row121_col1\" class=\"data row121 col1\" >3</td>\n",
       "                        <td id=\"T_2dd2d_row121_col2\" class=\"data row121 col2\" >445</td>\n",
       "                        <td id=\"T_2dd2d_row121_col3\" class=\"data row121 col3\" >0.794087</td>\n",
       "                        <td id=\"T_2dd2d_row121_col4\" class=\"data row121 col4\" >0.804044</td>\n",
       "                        <td id=\"T_2dd2d_row121_col5\" class=\"data row121 col5\" >0.684497</td>\n",
       "            </tr>\n",
       "            <tr>\n",
       "                        <th id=\"T_2dd2d_level0_row122\" class=\"row_heading level0 row122\" >489</th>\n",
       "                        <td id=\"T_2dd2d_row122_col0\" class=\"data row122 col0\" >RandomForestClassifier</td>\n",
       "                        <td id=\"T_2dd2d_row122_col1\" class=\"data row122 col1\" >3</td>\n",
       "                        <td id=\"T_2dd2d_row122_col2\" class=\"data row122 col2\" >446</td>\n",
       "                        <td id=\"T_2dd2d_row122_col3\" class=\"data row122 col3\" >0.794087</td>\n",
       "                        <td id=\"T_2dd2d_row122_col4\" class=\"data row122 col4\" >0.804044</td>\n",
       "                        <td id=\"T_2dd2d_row122_col5\" class=\"data row122 col5\" >0.629083</td>\n",
       "            </tr>\n",
       "            <tr>\n",
       "                        <th id=\"T_2dd2d_level0_row123\" class=\"row_heading level0 row123\" >490</th>\n",
       "                        <td id=\"T_2dd2d_row123_col0\" class=\"data row123 col0\" >RandomForestClassifier</td>\n",
       "                        <td id=\"T_2dd2d_row123_col1\" class=\"data row123 col1\" >3</td>\n",
       "                        <td id=\"T_2dd2d_row123_col2\" class=\"data row123 col2\" >447</td>\n",
       "                        <td id=\"T_2dd2d_row123_col3\" class=\"data row123 col3\" >0.794087</td>\n",
       "                        <td id=\"T_2dd2d_row123_col4\" class=\"data row123 col4\" >0.804044</td>\n",
       "                        <td id=\"T_2dd2d_row123_col5\" class=\"data row123 col5\" >0.688899</td>\n",
       "            </tr>\n",
       "            <tr>\n",
       "                        <th id=\"T_2dd2d_level0_row124\" class=\"row_heading level0 row124\" >491</th>\n",
       "                        <td id=\"T_2dd2d_row124_col0\" class=\"data row124 col0\" >RandomForestClassifier</td>\n",
       "                        <td id=\"T_2dd2d_row124_col1\" class=\"data row124 col1\" >3</td>\n",
       "                        <td id=\"T_2dd2d_row124_col2\" class=\"data row124 col2\" >448</td>\n",
       "                        <td id=\"T_2dd2d_row124_col3\" class=\"data row124 col3\" >0.794087</td>\n",
       "                        <td id=\"T_2dd2d_row124_col4\" class=\"data row124 col4\" >0.804044</td>\n",
       "                        <td id=\"T_2dd2d_row124_col5\" class=\"data row124 col5\" >0.700622</td>\n",
       "            </tr>\n",
       "            <tr>\n",
       "                        <th id=\"T_2dd2d_level0_row125\" class=\"row_heading level0 row125\" >492</th>\n",
       "                        <td id=\"T_2dd2d_row125_col0\" class=\"data row125 col0\" >RandomForestClassifier</td>\n",
       "                        <td id=\"T_2dd2d_row125_col1\" class=\"data row125 col1\" >3</td>\n",
       "                        <td id=\"T_2dd2d_row125_col2\" class=\"data row125 col2\" >449</td>\n",
       "                        <td id=\"T_2dd2d_row125_col3\" class=\"data row125 col3\" >0.794087</td>\n",
       "                        <td id=\"T_2dd2d_row125_col4\" class=\"data row125 col4\" >0.804044</td>\n",
       "                        <td id=\"T_2dd2d_row125_col5\" class=\"data row125 col5\" >0.698634</td>\n",
       "            </tr>\n",
       "            <tr>\n",
       "                        <th id=\"T_2dd2d_level0_row126\" class=\"row_heading level0 row126\" >493</th>\n",
       "                        <td id=\"T_2dd2d_row126_col0\" class=\"data row126 col0\" >RandomForestClassifier</td>\n",
       "                        <td id=\"T_2dd2d_row126_col1\" class=\"data row126 col1\" >3</td>\n",
       "                        <td id=\"T_2dd2d_row126_col2\" class=\"data row126 col2\" >450</td>\n",
       "                        <td id=\"T_2dd2d_row126_col3\" class=\"data row126 col3\" >0.794087</td>\n",
       "                        <td id=\"T_2dd2d_row126_col4\" class=\"data row126 col4\" >0.804044</td>\n",
       "                        <td id=\"T_2dd2d_row126_col5\" class=\"data row126 col5\" >0.677937</td>\n",
       "            </tr>\n",
       "    </tbody></table>"
      ],
      "text/plain": [
       "<pandas.io.formats.style.Styler at 0x7fb44f0bff10>"
      ]
     },
     "execution_count": 22,
     "metadata": {},
     "output_type": "execute_result"
    }
   ],
   "source": [
    "print(\n",
    "    \"\\nMaximum accuracy score for validation data:\",\n",
    "    accuracy_rfc_additional[\"score_on_valid\"].max(),\n",
    ")\n",
    "\n",
    "cm = sns.light_palette(\"orange\", as_cmap=True)\n",
    "print(\"\\n\\nModels with n_estimators=325 to see difference for various max_depth:\")\n",
    "display(\n",
    "    accuracy_rfc_additional[\n",
    "        accuracy_rfc_additional[\"n_estimators\"] == 325\n",
    "    ].style.background_gradient(cmap=cm)\n",
    ")\n",
    "\n",
    "print(\"\\n\\nModels with maximum accuracy score for validation data:\")\n",
    "accuracy_rfc_additional[\n",
    "    accuracy_rfc_additional[\"score_on_valid\"]\n",
    "    == accuracy_rfc_additional[\"score_on_valid\"].max()\n",
    "].style.background_gradient(cmap=cm)"
   ]
  },
  {
   "cell_type": "markdown",
   "metadata": {},
   "source": [
    "<b>Вывод:</b> Как видим, максимальное значение accuracy модели RandomForestClassifier для валидационного датасета `0.804044` достигается при близком значении accuracy для тренировочного датасета `0.795643`, а далее модель при увеличении глубины деревьев уходит в \"зону переобучения\". В то же время много значений числа деревьев (n_estimators) в диапазонах [154..211] и [325..450] показали одинаково максимальный результат качества модели на валидационной выборке при глубине дерева = 3."
   ]
  },
  {
   "cell_type": "markdown",
   "metadata": {},
   "source": [
    "Объединим данные по качеству RFC модели в один датасет:"
   ]
  },
  {
   "cell_type": "code",
   "execution_count": 23,
   "metadata": {},
   "outputs": [],
   "source": [
    "accuracy_rfc = accuracy_rfc.append(accuracy_rfc_additional).reset_index(drop=True)"
   ]
  },
  {
   "cell_type": "markdown",
   "metadata": {},
   "source": [
    "### Сводные данные по моделям"
   ]
  },
  {
   "cell_type": "markdown",
   "metadata": {},
   "source": [
    "Соберем все полученные данные по трем моделям на одном графике:"
   ]
  },
  {
   "cell_type": "code",
   "execution_count": 24,
   "metadata": {},
   "outputs": [
    {
     "data": {
      "image/png": "[encoded data removed]",
      "text/plain": [
       "<Figure size 792x504 with 1 Axes>"
      ]
     },
     "metadata": {
      "needs_background": "light"
     },
     "output_type": "display_data"
    }
   ],
   "source": [
    "plt.subplots(figsize=(11, 7))\n",
    "\n",
    "fig = sns.lineplot(\n",
    "    data=accuracy_dtc.set_index(\"depth\", drop=True).drop(\"seconds_fit_runs\", axis=1),\n",
    "    palette=[\"b\", \"b\"],\n",
    "    markers=True,\n",
    "    markeredgecolor=\"w\",\n",
    "    dashes=False,\n",
    ")\n",
    "sns.lineplot(\n",
    "    data=accuracy_rfc.drop(\n",
    "        [\"n_estimators\", \"seconds_fit_runs\"],\n",
    "        axis=1,\n",
    "    )\n",
    "    .groupby(\"depth\")\n",
    "    .max(),\n",
    "    palette=[\"orange\", \"r\"],\n",
    "    markers=True,\n",
    "    markeredgecolor=\"w\",\n",
    "    dashes=False,\n",
    ")\n",
    "\n",
    "sns.lineplot(\n",
    "    data=pd.DataFrame(\n",
    "        [[accuracy_lgr[\"score_on_train\"].max(), accuracy_lgr[\"score_on_valid\"].max()]]\n",
    "        * len(accuracy_dtc_arr),\n",
    "        columns=[\"score_on_train\", \"score_on_valid\"],\n",
    "        index=range(1, len(accuracy_dtc_arr) + 1),\n",
    "    ),\n",
    "    palette=[\"g\", \"g\"],\n",
    "    markers=True,\n",
    "    markeredgecolor=\"w\",\n",
    "    dashes=False,\n",
    ")\n",
    "\n",
    "rfc_accuracy_grouped = (\n",
    "    accuracy_rfc.groupby(\"depth\").agg({\"score_on_valid\": [\"min\", \"mean\", \"max\"]})\n",
    "    #   .unstack(\"Depth\")\n",
    ")\n",
    "\n",
    "rfc_accuracy_grouped.columns = [\"lower\", \"mean\", \"upper\"]\n",
    "\n",
    "\n",
    "fig.fill_between(\n",
    "    rfc_accuracy_grouped.index,\n",
    "    rfc_accuracy_grouped.lower,\n",
    "    rfc_accuracy_grouped.upper,\n",
    "    alpha=0.08,\n",
    "    color=\"r\",\n",
    "    label=\"Range for RFC\",\n",
    ")\n",
    "\n",
    "\n",
    "rfc_accuracy_grouped = (\n",
    "    accuracy_rfc.groupby(\"depth\").agg({\"score_on_train\": [\"min\", \"mean\", \"max\"]})\n",
    "    #   .unstack(\"Depth\")\n",
    ")\n",
    "\n",
    "rfc_accuracy_grouped.columns = [\"lower\", \"mean\", \"upper\"]\n",
    "\n",
    "\n",
    "fig.fill_between(\n",
    "    rfc_accuracy_grouped.index,\n",
    "    rfc_accuracy_grouped.lower,\n",
    "    rfc_accuracy_grouped.upper,\n",
    "    alpha=0.08,\n",
    "    color=\"orange\",\n",
    "    label=\"range\",\n",
    ")\n",
    "\n",
    "handles, labels = fig.get_legend_handles_labels()\n",
    "labels = [\n",
    "    \"DTC score on train data\",\n",
    "    \"DTC score on validation data\",\n",
    "    \"RFC score on train data (max for various n_estimators)\",\n",
    "    \"RFC score on validation data (max for various n_estimators)\",\n",
    "    \"Logit score on train data\",\n",
    "    \"Logit score on validation data\",\n",
    "    \"Range for RFC score on valid. data for various n_estimators\",\n",
    "    \"Range for RFC score on train. data for various n_estimators\",\n",
    "]\n",
    "\n",
    "fig.legend(handles=handles, labels=labels)\n",
    "fig.set_title(\n",
    "    \"DecisionTreeClassifier (DTC) & RandomForestClassifier (RFC) & LogisticRegression (Logit) accuracy scores\"\n",
    ")\n",
    "\n",
    "fig.set_ylabel(\"Accuracy score\")\n",
    "fig.set_xlabel(\"Maximum depth of the tree\")\n",
    "fig.set_xticks(range(len(accuracy_dtc) + 1))\n",
    "plt.grid()\n",
    "plt.show()"
   ]
  },
  {
   "cell_type": "markdown",
   "metadata": {},
   "source": [
    "Для модели LogisticRegressions результаты представляют собой горизонтальную прямую максимальных значений качества для валидационной и тренировочной выборок, т.к. параметр max_depth в этой модели неприменим. Для RandomForestClassifier на графике в виде линий с точками - максимумы для каждого значения гиперпараметра max_depth среди всех рассмотренных значений гиперпараметра n_estimates. Под этими линиями закрашенные зоны - возможные отклонения от этих максимальных величин, получающиеся при других неоптимальных значениях парамтра n_estimates."
   ]
  },
  {
   "cell_type": "markdown",
   "metadata": {},
   "source": [
    "<b>Выводы: </b>\n",
    "* Самые высокие значения accuracy на валидационной выборке получаются у модели RandomForestClassifier. Так как она является усовершенствованием модели DecisionTreeClassifier, то значения accuracy даже при неоптимальных выборах параметра числа деревьев, все равно при глубине деревьев 2 и более всегда превышают значения accuracy для DTC. \n",
    "* На обучающей выборке различия в качестве моделей DTC и RFC уже имеют другой характер: здесь accuracy для DTC близка к максимальным значениям для RFC, а при неоптимальном выборе числа деревьев для RFC accuracy у RFC модели может получиться и ниже. \n",
    "* LogisticRegressions на валидационной выборке показывает результаты лучше чем она же на обучающей выборке. По сравнению с остальными ее максимальные значения accuracy конкурируют с DTC и RFC моделями лишь при неоптимальных значениях их гиперпараметров (с RFC - только при max_depth = 1, c DTC - при max_depth = 1 и max_depth > 8)"
   ]
  },
  {
   "cell_type": "markdown",
   "metadata": {},
   "source": [
    "## Тестирование модели"
   ]
  },
  {
   "cell_type": "markdown",
   "metadata": {},
   "source": [
    "Возьмем модели с гиперпараметрам, дающими самое высокое качество предсказания (accuracy score) для валидационного датасета и проверим их на тестовой выборке:"
   ]
  },
  {
   "cell_type": "code",
   "execution_count": 25,
   "metadata": {},
   "outputs": [],
   "source": [
    "models = [\n",
    "    RandomForestClassifier(random_state=6_10_22, max_depth=3, n_estimators=165),\n",
    "    RandomForestClassifier(random_state=6_10_22, max_depth=3, n_estimators=203),\n",
    "    RandomForestClassifier(random_state=6_10_22, max_depth=3, n_estimators=326),\n",
    "    DecisionTreeClassifier(random_state=6_10_22, max_depth=3),\n",
    "    DecisionTreeClassifier(random_state=6_10_22, max_depth=4),\n",
    "    LogisticRegression(random_state=6_10_22, solver=\"newton-cg\", max_iter=40),\n",
    "    LogisticRegression(random_state=6_10_22, solver=\"lbfgs\", max_iter=49),\n",
    "]"
   ]
  },
  {
   "cell_type": "markdown",
   "metadata": {},
   "source": [
    "Опять обучим их и получим данные accuracy score на обучающей, валидационной и тестовой выборках:"
   ]
  },
  {
   "cell_type": "code",
   "execution_count": 26,
   "metadata": {},
   "outputs": [],
   "source": [
    "results_for_test_split_arr = []\n",
    "for model in models:\n",
    "    start_time = time.time()\n",
    "    model.fit(features_train, target_train)\n",
    "    seconds_fit_runs = time.time() - start_time\n",
    "\n",
    "    add_model_record(\n",
    "        results_for_test_split_arr,\n",
    "        model=model,\n",
    "        score_on_train=accuracy_score(model.predict(features_train), target_train),\n",
    "        score_on_valid=accuracy_score(model.predict(features_valid), target_valid),\n",
    "        score_on_test=accuracy_score(model.predict(features_test), target_test),\n",
    "        seconds_fit_runs=seconds_fit_runs,\n",
    "    )"
   ]
  },
  {
   "cell_type": "code",
   "execution_count": 27,
   "metadata": {},
   "outputs": [
    {
     "data": {
      "text/html": [
       "<style  type=\"text/css\" >\n",
       "#T_7cfab_row0_col1,#T_7cfab_row1_col1{\n",
       "            background-color:  #fea90c;\n",
       "            color:  #000000;\n",
       "        }#T_7cfab_row0_col2,#T_7cfab_row1_col2,#T_7cfab_row1_col3,#T_7cfab_row2_col2,#T_7cfab_row2_col4,#T_7cfab_row4_col1{\n",
       "            background-color:  #ffa500;\n",
       "            color:  #000000;\n",
       "        }#T_7cfab_row0_col3,#T_7cfab_row2_col1,#T_7cfab_row2_col3{\n",
       "            background-color:  #ffa707;\n",
       "            color:  #000000;\n",
       "        }#T_7cfab_row0_col4{\n",
       "            background-color:  #f9c870;\n",
       "            color:  #000000;\n",
       "        }#T_7cfab_row1_col4{\n",
       "            background-color:  #fbc056;\n",
       "            color:  #000000;\n",
       "        }#T_7cfab_row3_col1{\n",
       "            background-color:  #ffa602;\n",
       "            color:  #000000;\n",
       "        }#T_7cfab_row3_col2,#T_7cfab_row4_col2{\n",
       "            background-color:  #fac360;\n",
       "            color:  #000000;\n",
       "        }#T_7cfab_row3_col3,#T_7cfab_row4_col3{\n",
       "            background-color:  #fbbb46;\n",
       "            color:  #000000;\n",
       "        }#T_7cfab_row3_col4,#T_7cfab_row4_col4,#T_7cfab_row5_col1,#T_7cfab_row5_col2,#T_7cfab_row5_col3,#T_7cfab_row6_col1{\n",
       "            background-color:  #f3f0ee;\n",
       "            color:  #000000;\n",
       "        }#T_7cfab_row5_col4{\n",
       "            background-color:  #f5e3c3;\n",
       "            color:  #000000;\n",
       "        }#T_7cfab_row6_col2{\n",
       "            background-color:  #f3eee8;\n",
       "            color:  #000000;\n",
       "        }#T_7cfab_row6_col3{\n",
       "            background-color:  #f4ece0;\n",
       "            color:  #000000;\n",
       "        }#T_7cfab_row6_col4{\n",
       "            background-color:  #f3eee9;\n",
       "            color:  #000000;\n",
       "        }</style><table id=\"T_7cfab_\" ><thead>    <tr>        <th class=\"blank level0\" ></th>        <th class=\"col_heading level0 col0\" >model</th>        <th class=\"col_heading level0 col1\" >score_on_train</th>        <th class=\"col_heading level0 col2\" >score_on_valid</th>        <th class=\"col_heading level0 col3\" >score_on_test</th>        <th class=\"col_heading level0 col4\" >seconds_fit_runs</th>    </tr></thead><tbody>\n",
       "                <tr>\n",
       "                        <th id=\"T_7cfab_level0_row0\" class=\"row_heading level0 row0\" >0</th>\n",
       "                        <td id=\"T_7cfab_row0_col0\" class=\"data row0 col0\" >RandomForestClassifier(max_depth=3, n_estimators=165, random_state=61022)</td>\n",
       "                        <td id=\"T_7cfab_row0_col1\" class=\"data row0 col1\" >0.794606</td>\n",
       "                        <td id=\"T_7cfab_row0_col2\" class=\"data row0 col2\" >0.804044</td>\n",
       "                        <td id=\"T_7cfab_row0_col3\" class=\"data row0 col3\" >0.814930</td>\n",
       "                        <td id=\"T_7cfab_row0_col4\" class=\"data row0 col4\" >0.242005</td>\n",
       "            </tr>\n",
       "            <tr>\n",
       "                        <th id=\"T_7cfab_level0_row1\" class=\"row_heading level0 row1\" >1</th>\n",
       "                        <td id=\"T_7cfab_row1_col0\" class=\"data row1 col0\" >RandomForestClassifier(max_depth=3, n_estimators=203, random_state=61022)</td>\n",
       "                        <td id=\"T_7cfab_row1_col1\" class=\"data row1 col1\" >0.794606</td>\n",
       "                        <td id=\"T_7cfab_row1_col2\" class=\"data row1 col2\" >0.804044</td>\n",
       "                        <td id=\"T_7cfab_row1_col3\" class=\"data row1 col3\" >0.816485</td>\n",
       "                        <td id=\"T_7cfab_row1_col4\" class=\"data row1 col4\" >0.290998</td>\n",
       "            </tr>\n",
       "            <tr>\n",
       "                        <th id=\"T_7cfab_level0_row2\" class=\"row_heading level0 row2\" >2</th>\n",
       "                        <td id=\"T_7cfab_row2_col0\" class=\"data row2 col0\" >RandomForestClassifier(max_depth=3, n_estimators=326, random_state=61022)</td>\n",
       "                        <td id=\"T_7cfab_row2_col1\" class=\"data row2 col1\" >0.795643</td>\n",
       "                        <td id=\"T_7cfab_row2_col2\" class=\"data row2 col2\" >0.804044</td>\n",
       "                        <td id=\"T_7cfab_row2_col3\" class=\"data row2 col3\" >0.814930</td>\n",
       "                        <td id=\"T_7cfab_row2_col4\" class=\"data row2 col4\" >0.452705</td>\n",
       "            </tr>\n",
       "            <tr>\n",
       "                        <th id=\"T_7cfab_level0_row3\" class=\"row_heading level0 row3\" >3</th>\n",
       "                        <td id=\"T_7cfab_row3_col0\" class=\"data row3 col0\" >DecisionTreeClassifier(max_depth=3, random_state=61022)</td>\n",
       "                        <td id=\"T_7cfab_row3_col1\" class=\"data row3 col1\" >0.797199</td>\n",
       "                        <td id=\"T_7cfab_row3_col2\" class=\"data row3 col2\" >0.783826</td>\n",
       "                        <td id=\"T_7cfab_row3_col3\" class=\"data row3 col3\" >0.800933</td>\n",
       "                        <td id=\"T_7cfab_row3_col4\" class=\"data row3 col4\" >0.003300</td>\n",
       "            </tr>\n",
       "            <tr>\n",
       "                        <th id=\"T_7cfab_level0_row4\" class=\"row_heading level0 row4\" >4</th>\n",
       "                        <td id=\"T_7cfab_row4_col0\" class=\"data row4 col0\" >DecisionTreeClassifier(max_depth=4, random_state=61022)</td>\n",
       "                        <td id=\"T_7cfab_row4_col1\" class=\"data row4 col1\" >0.797718</td>\n",
       "                        <td id=\"T_7cfab_row4_col2\" class=\"data row4 col2\" >0.783826</td>\n",
       "                        <td id=\"T_7cfab_row4_col3\" class=\"data row4 col3\" >0.800933</td>\n",
       "                        <td id=\"T_7cfab_row4_col4\" class=\"data row4 col4\" >0.003393</td>\n",
       "            </tr>\n",
       "            <tr>\n",
       "                        <th id=\"T_7cfab_level0_row5\" class=\"row_heading level0 row5\" >5</th>\n",
       "                        <td id=\"T_7cfab_row5_col0\" class=\"data row5 col0\" >LogisticRegression(max_iter=40, random_state=61022, solver='newton-cg')</td>\n",
       "                        <td id=\"T_7cfab_row5_col1\" class=\"data row5 col1\" >0.738589</td>\n",
       "                        <td id=\"T_7cfab_row5_col2\" class=\"data row5 col2\" >0.754277</td>\n",
       "                        <td id=\"T_7cfab_row5_col3\" class=\"data row5 col3\" >0.763608</td>\n",
       "                        <td id=\"T_7cfab_row5_col4\" class=\"data row5 col4\" >0.084820</td>\n",
       "            </tr>\n",
       "            <tr>\n",
       "                        <th id=\"T_7cfab_level0_row6\" class=\"row_heading level0 row6\" >6</th>\n",
       "                        <td id=\"T_7cfab_row6_col0\" class=\"data row6 col0\" >LogisticRegression(max_iter=49, random_state=61022)</td>\n",
       "                        <td id=\"T_7cfab_row6_col1\" class=\"data row6 col1\" >0.738589</td>\n",
       "                        <td id=\"T_7cfab_row6_col2\" class=\"data row6 col2\" >0.755832</td>\n",
       "                        <td id=\"T_7cfab_row6_col3\" class=\"data row6 col3\" >0.766719</td>\n",
       "                        <td id=\"T_7cfab_row6_col4\" class=\"data row6 col4\" >0.015346</td>\n",
       "            </tr>\n",
       "    </tbody></table>"
      ],
      "text/plain": [
       "<pandas.io.formats.style.Styler at 0x7fb44c9a2460>"
      ]
     },
     "execution_count": 27,
     "metadata": {},
     "output_type": "execute_result"
    }
   ],
   "source": [
    "pd.DataFrame(results_for_test_split_arr).style.background_gradient(cmap=cm)"
   ]
  },
  {
   "cell_type": "markdown",
   "metadata": {},
   "source": [
    "<b>Выводы: </b> Лучшая модель на валидации - RandomForestClassifier показала на тестовой выборке результат accuracy ~0.817 (max_depth=3, n_estimators=203). Рассмотрев результаты остальных моделей на тестовой выборке можно увидеть, что их качество предсказания (accuracy) немного превысило результаты не только для валидационной выборки но и для обучающей. В целом видно, что выбранные значения гиперпараметров для всех моделей достаточно оптимально работают и на тестовой выборке."
   ]
  },
  {
   "cell_type": "markdown",
   "metadata": {},
   "source": [
    "## Проверка модели на адекватность"
   ]
  },
  {
   "cell_type": "markdown",
   "metadata": {},
   "source": [
    "Проверим модели на адекватность (sanity check). Если выбирать значение `is_ultra` случайным образом, то есть вероятность значения `P(0) = P(1) = 0.5`. Убедимся что в таком случае accuracy score будет меньше чем у исследованных выше моделей классификации."
   ]
  },
  {
   "cell_type": "code",
   "execution_count": 28,
   "metadata": {},
   "outputs": [
    {
     "name": "stdout",
     "output_type": "stream",
     "text": [
      "0.49884292379471223\n"
     ]
    }
   ],
   "source": [
    "import random\n",
    "\n",
    "sum_score = 0\n",
    "for i in range(0, 1000):\n",
    "    sum_score += accuracy_score(\n",
    "        [random.randint(0, 1) for _ in range(0, len(target_test))], target_test\n",
    "    )\n",
    "print(sum_score / 1000)"
   ]
  },
  {
   "cell_type": "markdown",
   "metadata": {},
   "source": [
    "<b>Выводы: </b>Видим, что значение accuracy в случае случайного выбора is_ultra стремится к 0.5. Что говорит о том, что наши модели классификации действительно работают и результаты их предсказания  лучше случайного выбора значения (accuracy от 0.76 до 0.816 на тестовой выборке)."
   ]
  },
  {
   "cell_type": "markdown",
   "metadata": {},
   "source": [
    "## Общий вывод"
   ]
  },
  {
   "cell_type": "markdown",
   "metadata": {},
   "source": [
    "Исследовав модели классификации LogisticRegression, DecisionTreeClassifier и RandomForestClassifier на данных по мобильным тарифам мы обнаружили следующее:\n",
    "\n",
    "* В датасете была обнаружена практически линейная связь между calls и minutes и для предотвращения <b>мультиколлинеарности</b> call и minutes в факторах(features) из двух оставили только столбец minutes.\n",
    "\n",
    "* Для модели <b>LogisticRegression</b> максимальное значение accuracy по валидационной выборке `0.754277`, `0.755832` получается для алгоритмов newton-cg и lbfgs соответственно. Причем lbfgs обучается быстрее чем newton-cg примерно в 4 раза (seconds_fit_runs), а для достижения максимальной точности lbfgs требуется на 4-13 итераций (значение max_iter) больше чем для newton-cg. Кроме того, на графике видно, что если у алгоритма newton-cg значение accuracy практически постоянно растет с увеличением параметра max_iter до уровня \"насыщения\" , то у lbfgs наблюдатся сильные колебания в показаниях качества модели в диапазоне max_iter ~ [20-50] и потом она приходит к тому же уровню, что и newton-cg. Остальные алгоритмы получают на валидационной выборке более плохой результат для accuracy, ниже целевого 0.75.\n",
    "\n",
    "* Для модели <b>DecisionTreeClassifier</b> максимальное значение accuracy по валидационной выборке `0.783826` получается для глубины дерева (`max_depth`), равной `3` и `4`.\n",
    "\n",
    "* Максимальное значение accuracy модели <b>RandomForestClassifier</b> для валидационного датасета `0.804044` достигается при близком значении accuracy для тренировочного датасета `0.795643`, а далее модель при увеличении глубины деревьев уходит в \"зону переобучения\". В то же время много значений числа деревьев (n_estimators) в диапазонах [154..211] и [325..450] показали одинаково максимальный результат качества модели на валидационной выборке при глубине дерева = 3.\n",
    "\n",
    "* Если проводить <b>сравнение моделей</b> между собой:\n",
    "    * Самые высокие значения accuracy на валидационной выборке получаются у модели RandomForestClassifier. Так как она является усовершенствованием (ансамблем) модели DecisionTreeClassifier, то значения accuracy даже при неоптимальных выборах параметра числа деревьев, все равно при глубине деревьев 2 и более всегда превышают значения accuracy для DTC. \n",
    "    * На обучающей выборке различия в качестве моделей DTC и RFC уже имеют другой характер: здесь accuracy для DTC близка к максимальным значениям для RFC, а при неоптимальном выборе числа деревьев для RFC accuracy у RFC модели может получиться и ниже. \n",
    "    * LogisticRegressions на валидационной выборке показывает результаты лучше чем она же на обучающей выборке. По сравнению с остальными ее максимальные значения accuracy конкурируют с DTC и RFC моделями лишь при неоптимальных значениях их гиперпараметров (с RFC - только при max_depth = 1, c DTC - при max_depth = 1 и max_depth > 8)\n",
    "\n",
    "* Рассмотрев результаты выбранных моделей <b>на тестовой выборке</b> можно увидеть, что их качество предсказания (accuracy) превысило результаты не только для валидационной выборки но и для обучающей. Лучше всех себя опять показала модель RandomForestClassifier, на втором месте - DecisionTreeClassifier, а на третьем месте совсем немногим превысив целевой показатель значения accuracy - LogisticRegression. В целом видно, что выбранные значения гиперпараметров достаточно оптимально работают и на тестовой выборке.\n",
    "\n",
    "* При проверке модели на <b>адекватность</b>, что значение accuracy в случае случайного выбора is_ultra стремится к 0.5. Что говорит о том, что модель классификации действительно работает и результат ее предсказания лучше случайного выбора значения (accuracy ~0.817 на тестовой выборке).\n"
   ]
  }
 ],
 "metadata": {
  "ExecuteTimeLog": [
   {
    "duration": 3066,
    "start_time": "2022-10-12T22:33:20.068Z"
   },
   {
    "duration": 3,
    "start_time": "2022-10-12T22:33:23.136Z"
   },
   {
    "duration": 3014,
    "start_time": "2022-10-12T22:33:23.141Z"
   },
   {
    "duration": 145,
    "start_time": "2022-10-12T22:33:26.157Z"
   },
   {
    "duration": 14,
    "start_time": "2022-10-12T22:33:26.304Z"
   },
   {
    "duration": 12,
    "start_time": "2022-10-12T22:33:26.319Z"
   },
   {
    "duration": 9,
    "start_time": "2022-10-12T22:33:26.333Z"
   },
   {
    "duration": 5,
    "start_time": "2022-10-12T22:33:26.343Z"
   },
   {
    "duration": 9682,
    "start_time": "2022-10-12T22:33:26.349Z"
   },
   {
    "duration": 364,
    "start_time": "2022-10-12T22:33:36.033Z"
   },
   {
    "duration": 150,
    "start_time": "2022-10-12T22:33:36.399Z"
   },
   {
    "duration": 0,
    "start_time": "2022-10-12T22:33:36.551Z"
   },
   {
    "duration": 0,
    "start_time": "2022-10-12T22:33:36.553Z"
   },
   {
    "duration": 0,
    "start_time": "2022-10-12T22:33:36.554Z"
   },
   {
    "duration": 0,
    "start_time": "2022-10-12T22:33:36.556Z"
   },
   {
    "duration": 0,
    "start_time": "2022-10-12T22:33:36.558Z"
   },
   {
    "duration": 0,
    "start_time": "2022-10-12T22:33:36.559Z"
   },
   {
    "duration": 0,
    "start_time": "2022-10-12T22:33:36.560Z"
   },
   {
    "duration": 0,
    "start_time": "2022-10-12T22:33:36.562Z"
   },
   {
    "duration": 0,
    "start_time": "2022-10-12T22:33:36.564Z"
   },
   {
    "duration": 0,
    "start_time": "2022-10-12T22:33:36.565Z"
   },
   {
    "duration": 0,
    "start_time": "2022-10-12T22:33:36.566Z"
   },
   {
    "duration": 0,
    "start_time": "2022-10-12T22:33:36.597Z"
   },
   {
    "duration": 0,
    "start_time": "2022-10-12T22:33:36.599Z"
   },
   {
    "duration": 0,
    "start_time": "2022-10-12T22:33:36.600Z"
   },
   {
    "duration": 0,
    "start_time": "2022-10-12T22:33:36.602Z"
   },
   {
    "duration": 0,
    "start_time": "2022-10-12T22:33:36.603Z"
   },
   {
    "duration": 2884,
    "start_time": "2022-10-12T22:39:39.936Z"
   },
   {
    "duration": 3,
    "start_time": "2022-10-12T22:39:42.822Z"
   },
   {
    "duration": 3018,
    "start_time": "2022-10-12T22:39:42.827Z"
   },
   {
    "duration": 31,
    "start_time": "2022-10-12T22:39:45.847Z"
   },
   {
    "duration": 14,
    "start_time": "2022-10-12T22:39:45.879Z"
   },
   {
    "duration": 12,
    "start_time": "2022-10-12T22:39:45.895Z"
   },
   {
    "duration": 10,
    "start_time": "2022-10-12T22:39:45.908Z"
   },
   {
    "duration": 3,
    "start_time": "2022-10-12T22:39:45.919Z"
   },
   {
    "duration": 9840,
    "start_time": "2022-10-12T22:39:45.924Z"
   },
   {
    "duration": 363,
    "start_time": "2022-10-12T22:39:55.766Z"
   },
   {
    "duration": 166,
    "start_time": "2022-10-12T22:39:56.131Z"
   },
   {
    "duration": 0,
    "start_time": "2022-10-12T22:39:56.299Z"
   },
   {
    "duration": 0,
    "start_time": "2022-10-12T22:39:56.301Z"
   },
   {
    "duration": 0,
    "start_time": "2022-10-12T22:39:56.302Z"
   },
   {
    "duration": 0,
    "start_time": "2022-10-12T22:39:56.303Z"
   },
   {
    "duration": 0,
    "start_time": "2022-10-12T22:39:56.304Z"
   },
   {
    "duration": 0,
    "start_time": "2022-10-12T22:39:56.305Z"
   },
   {
    "duration": 0,
    "start_time": "2022-10-12T22:39:56.307Z"
   },
   {
    "duration": 0,
    "start_time": "2022-10-12T22:39:56.308Z"
   },
   {
    "duration": 0,
    "start_time": "2022-10-12T22:39:56.309Z"
   },
   {
    "duration": 0,
    "start_time": "2022-10-12T22:39:56.311Z"
   },
   {
    "duration": 0,
    "start_time": "2022-10-12T22:39:56.312Z"
   },
   {
    "duration": 0,
    "start_time": "2022-10-12T22:39:56.313Z"
   },
   {
    "duration": 0,
    "start_time": "2022-10-12T22:39:56.314Z"
   },
   {
    "duration": 0,
    "start_time": "2022-10-12T22:39:56.315Z"
   },
   {
    "duration": 0,
    "start_time": "2022-10-12T22:39:56.317Z"
   },
   {
    "duration": 0,
    "start_time": "2022-10-12T22:39:56.318Z"
   },
   {
    "duration": 517049,
    "start_time": "2022-10-12T22:40:18.324Z"
   },
   {
    "duration": 0,
    "start_time": "2022-10-12T22:48:55.374Z"
   },
   {
    "duration": 0,
    "start_time": "2022-10-12T22:48:55.376Z"
   },
   {
    "duration": 0,
    "start_time": "2022-10-12T22:48:55.377Z"
   },
   {
    "duration": 0,
    "start_time": "2022-10-12T22:48:55.378Z"
   },
   {
    "duration": 0,
    "start_time": "2022-10-12T22:48:55.379Z"
   },
   {
    "duration": 0,
    "start_time": "2022-10-12T22:48:55.380Z"
   },
   {
    "duration": 0,
    "start_time": "2022-10-12T22:48:55.381Z"
   },
   {
    "duration": 0,
    "start_time": "2022-10-12T22:48:55.397Z"
   },
   {
    "duration": 0,
    "start_time": "2022-10-12T22:48:55.398Z"
   },
   {
    "duration": 0,
    "start_time": "2022-10-12T22:48:55.399Z"
   },
   {
    "duration": 0,
    "start_time": "2022-10-12T22:48:55.400Z"
   },
   {
    "duration": 0,
    "start_time": "2022-10-12T22:48:55.400Z"
   },
   {
    "duration": 0,
    "start_time": "2022-10-12T22:48:55.401Z"
   },
   {
    "duration": 0,
    "start_time": "2022-10-12T22:48:55.403Z"
   },
   {
    "duration": 0,
    "start_time": "2022-10-12T22:48:55.404Z"
   },
   {
    "duration": 2883,
    "start_time": "2022-10-12T22:49:03.840Z"
   },
   {
    "duration": 3,
    "start_time": "2022-10-12T22:49:06.725Z"
   },
   {
    "duration": 3014,
    "start_time": "2022-10-12T22:49:06.730Z"
   },
   {
    "duration": 31,
    "start_time": "2022-10-12T22:49:09.746Z"
   },
   {
    "duration": 15,
    "start_time": "2022-10-12T22:49:09.779Z"
   },
   {
    "duration": 12,
    "start_time": "2022-10-12T22:49:09.795Z"
   },
   {
    "duration": 10,
    "start_time": "2022-10-12T22:49:09.808Z"
   },
   {
    "duration": 3,
    "start_time": "2022-10-12T22:49:09.820Z"
   },
   {
    "duration": 10234,
    "start_time": "2022-10-12T22:49:09.825Z"
   },
   {
    "duration": 360,
    "start_time": "2022-10-12T22:49:20.061Z"
   },
   {
    "duration": 146,
    "start_time": "2022-10-12T22:49:20.422Z"
   },
   {
    "duration": 0,
    "start_time": "2022-10-12T22:49:20.570Z"
   },
   {
    "duration": 0,
    "start_time": "2022-10-12T22:49:20.571Z"
   },
   {
    "duration": 0,
    "start_time": "2022-10-12T22:49:20.573Z"
   },
   {
    "duration": 0,
    "start_time": "2022-10-12T22:49:20.574Z"
   },
   {
    "duration": 0,
    "start_time": "2022-10-12T22:49:20.574Z"
   },
   {
    "duration": 0,
    "start_time": "2022-10-12T22:49:20.576Z"
   },
   {
    "duration": 0,
    "start_time": "2022-10-12T22:49:20.577Z"
   },
   {
    "duration": 0,
    "start_time": "2022-10-12T22:49:20.597Z"
   },
   {
    "duration": 0,
    "start_time": "2022-10-12T22:49:20.598Z"
   },
   {
    "duration": 0,
    "start_time": "2022-10-12T22:49:20.599Z"
   },
   {
    "duration": 0,
    "start_time": "2022-10-12T22:49:20.600Z"
   },
   {
    "duration": 0,
    "start_time": "2022-10-12T22:49:20.601Z"
   },
   {
    "duration": 0,
    "start_time": "2022-10-12T22:49:20.602Z"
   },
   {
    "duration": 0,
    "start_time": "2022-10-12T22:49:20.603Z"
   },
   {
    "duration": 0,
    "start_time": "2022-10-12T22:49:20.604Z"
   },
   {
    "duration": 0,
    "start_time": "2022-10-12T22:49:20.605Z"
   },
   {
    "duration": 1700,
    "start_time": "2022-10-13T04:43:15.839Z"
   },
   {
    "duration": 5,
    "start_time": "2022-10-13T04:43:17.541Z"
   },
   {
    "duration": 3011,
    "start_time": "2022-10-13T04:43:17.554Z"
   },
   {
    "duration": 40,
    "start_time": "2022-10-13T04:43:20.567Z"
   },
   {
    "duration": 18,
    "start_time": "2022-10-13T04:43:20.609Z"
   },
   {
    "duration": 38,
    "start_time": "2022-10-13T04:43:20.629Z"
   },
   {
    "duration": 25,
    "start_time": "2022-10-13T04:43:20.669Z"
   },
   {
    "duration": 31,
    "start_time": "2022-10-13T04:43:20.696Z"
   },
   {
    "duration": 10515,
    "start_time": "2022-10-13T04:43:20.728Z"
   },
   {
    "duration": 419,
    "start_time": "2022-10-13T04:43:31.253Z"
   },
   {
    "duration": 61,
    "start_time": "2022-10-13T04:43:31.674Z"
   },
   {
    "duration": 10570,
    "start_time": "2022-10-13T04:45:23.734Z"
   },
   {
    "duration": 80,
    "start_time": "2022-10-13T04:47:27.194Z"
   },
   {
    "duration": 1416,
    "start_time": "2022-10-13T04:48:24.208Z"
   },
   {
    "duration": 3,
    "start_time": "2022-10-13T04:48:25.627Z"
   },
   {
    "duration": 3013,
    "start_time": "2022-10-13T04:48:25.632Z"
   },
   {
    "duration": 19,
    "start_time": "2022-10-13T04:48:28.648Z"
   },
   {
    "duration": 17,
    "start_time": "2022-10-13T04:48:28.669Z"
   },
   {
    "duration": 13,
    "start_time": "2022-10-13T04:48:28.688Z"
   },
   {
    "duration": 10,
    "start_time": "2022-10-13T04:48:28.703Z"
   },
   {
    "duration": 3,
    "start_time": "2022-10-13T04:48:28.715Z"
   },
   {
    "duration": 10335,
    "start_time": "2022-10-13T04:48:28.720Z"
   },
   {
    "duration": 373,
    "start_time": "2022-10-13T04:48:39.057Z"
   },
   {
    "duration": 64,
    "start_time": "2022-10-13T04:48:39.431Z"
   },
   {
    "duration": 2145447,
    "start_time": "2022-10-13T04:48:39.497Z"
   },
   {
    "duration": 14,
    "start_time": "2022-10-13T05:24:24.946Z"
   },
   {
    "duration": 157,
    "start_time": "2022-10-13T05:24:24.964Z"
   },
   {
    "duration": 9,
    "start_time": "2022-10-13T05:24:25.124Z"
   },
   {
    "duration": 1927,
    "start_time": "2022-10-13T05:24:25.135Z"
   },
   {
    "duration": 143400,
    "start_time": "2022-10-13T05:24:27.065Z"
   },
   {
    "duration": 11,
    "start_time": "2022-10-13T05:26:50.468Z"
   },
   {
    "duration": 13,
    "start_time": "2022-10-13T05:26:50.480Z"
   },
   {
    "duration": 1809,
    "start_time": "2022-10-13T05:26:50.494Z"
   },
   {
    "duration": 64,
    "start_time": "2022-10-13T05:26:52.305Z"
   },
   {
    "duration": 8,
    "start_time": "2022-10-13T05:26:52.372Z"
   },
   {
    "duration": 714,
    "start_time": "2022-10-13T05:26:52.383Z"
   },
   {
    "duration": 4,
    "start_time": "2022-10-13T05:26:53.099Z"
   },
   {
    "duration": 514,
    "start_time": "2022-10-13T05:26:53.105Z"
   },
   {
    "duration": 35,
    "start_time": "2022-10-13T05:26:53.622Z"
   },
   {
    "duration": 1002,
    "start_time": "2022-10-13T05:26:53.659Z"
   },
   {
    "duration": 5416,
    "start_time": "2022-10-13T05:51:30.776Z"
   },
   {
    "duration": 5972,
    "start_time": "2022-10-13T05:52:43.330Z"
   },
   {
    "duration": 5809,
    "start_time": "2022-10-13T05:52:59.710Z"
   },
   {
    "duration": 4,
    "start_time": "2022-10-13T05:54:21.137Z"
   },
   {
    "duration": 1523,
    "start_time": "2022-10-13T05:54:35.393Z"
   },
   {
    "duration": 3,
    "start_time": "2022-10-13T05:54:36.918Z"
   },
   {
    "duration": 3018,
    "start_time": "2022-10-13T05:54:36.923Z"
   },
   {
    "duration": 24,
    "start_time": "2022-10-13T05:54:39.943Z"
   },
   {
    "duration": 24,
    "start_time": "2022-10-13T05:54:39.971Z"
   },
   {
    "duration": 15,
    "start_time": "2022-10-13T05:54:39.997Z"
   },
   {
    "duration": 5487,
    "start_time": "2022-10-13T05:54:40.014Z"
   },
   {
    "duration": 5,
    "start_time": "2022-10-13T05:54:45.503Z"
   },
   {
    "duration": 81,
    "start_time": "2022-10-13T05:54:45.510Z"
   },
   {
    "duration": 16,
    "start_time": "2022-10-13T05:54:45.594Z"
   },
   {
    "duration": 11830,
    "start_time": "2022-10-13T05:54:45.612Z"
   },
   {
    "duration": 446,
    "start_time": "2022-10-13T05:54:57.444Z"
   },
   {
    "duration": 85,
    "start_time": "2022-10-13T05:54:57.892Z"
   },
   {
    "duration": 1808229,
    "start_time": "2022-10-13T05:54:57.979Z"
   },
   {
    "duration": 7,
    "start_time": "2022-10-13T06:25:06.210Z"
   },
   {
    "duration": 44,
    "start_time": "2022-10-13T06:25:06.218Z"
   },
   {
    "duration": 17,
    "start_time": "2022-10-13T06:25:06.264Z"
   },
   {
    "duration": 1701,
    "start_time": "2022-10-13T06:25:06.283Z"
   },
   {
    "duration": 116109,
    "start_time": "2022-10-13T06:25:07.986Z"
   },
   {
    "duration": 8,
    "start_time": "2022-10-13T06:27:04.096Z"
   },
   {
    "duration": 21,
    "start_time": "2022-10-13T06:27:04.105Z"
   },
   {
    "duration": 1639,
    "start_time": "2022-10-13T06:27:04.127Z"
   },
   {
    "duration": 44,
    "start_time": "2022-10-13T06:27:05.769Z"
   },
   {
    "duration": 4,
    "start_time": "2022-10-13T06:27:05.815Z"
   },
   {
    "duration": 531,
    "start_time": "2022-10-13T06:27:05.821Z"
   },
   {
    "duration": 12,
    "start_time": "2022-10-13T06:27:06.354Z"
   },
   {
    "duration": 553,
    "start_time": "2022-10-13T06:27:06.369Z"
   },
   {
    "duration": 27,
    "start_time": "2022-10-13T06:27:06.926Z"
   },
   {
    "duration": 935,
    "start_time": "2022-10-13T06:27:06.955Z"
   },
   {
    "duration": 44,
    "start_time": "2022-10-13T06:27:07.892Z"
   },
   {
    "duration": 174,
    "start_time": "2022-10-13T07:01:15.311Z"
   },
   {
    "duration": 55,
    "start_time": "2022-10-13T07:01:43.243Z"
   },
   {
    "duration": 4873026,
    "start_time": "2022-10-13T07:02:11.419Z"
   },
   {
    "duration": 19,
    "start_time": "2022-10-13T09:00:51.652Z"
   },
   {
    "duration": 5,
    "start_time": "2022-10-13T09:00:55.903Z"
   },
   {
    "duration": 488,
    "start_time": "2022-10-13T09:01:04.289Z"
   },
   {
    "duration": 75,
    "start_time": "2022-10-13T09:01:25.912Z"
   },
   {
    "duration": 23,
    "start_time": "2022-10-13T09:11:32.852Z"
   },
   {
    "duration": 29,
    "start_time": "2022-10-13T09:11:41.431Z"
   },
   {
    "duration": 25,
    "start_time": "2022-10-13T09:15:33.705Z"
   },
   {
    "duration": 4,
    "start_time": "2022-10-13T09:16:51.356Z"
   },
   {
    "duration": 50,
    "start_time": "2022-10-13T09:17:44.579Z"
   },
   {
    "duration": 55,
    "start_time": "2022-10-13T09:51:24.317Z"
   },
   {
    "duration": 45,
    "start_time": "2022-10-13T09:51:33.763Z"
   },
   {
    "duration": 5,
    "start_time": "2022-10-13T09:52:04.035Z"
   },
   {
    "duration": 5,
    "start_time": "2022-10-13T09:52:29.110Z"
   },
   {
    "duration": 6,
    "start_time": "2022-10-13T09:53:02.216Z"
   },
   {
    "duration": 91,
    "start_time": "2022-10-13T09:55:00.110Z"
   },
   {
    "duration": 205,
    "start_time": "2022-10-13T09:57:23.308Z"
   },
   {
    "duration": 234,
    "start_time": "2022-10-13T09:58:34.450Z"
   },
   {
    "duration": 297,
    "start_time": "2022-10-13T09:58:47.912Z"
   },
   {
    "duration": 16374,
    "start_time": "2022-10-13T09:59:00.598Z"
   },
   {
    "duration": 295,
    "start_time": "2022-10-13T09:59:18.369Z"
   },
   {
    "duration": 312,
    "start_time": "2022-10-13T09:59:48.498Z"
   },
   {
    "duration": 320,
    "start_time": "2022-10-13T10:04:20.629Z"
   },
   {
    "duration": 52,
    "start_time": "2022-10-13T10:05:38.042Z"
   },
   {
    "duration": 1958,
    "start_time": "2022-10-13T10:06:50.284Z"
   },
   {
    "duration": 13,
    "start_time": "2022-10-13T10:08:07.832Z"
   },
   {
    "duration": 5,
    "start_time": "2022-10-13T10:08:10.988Z"
   },
   {
    "duration": 459,
    "start_time": "2022-10-13T10:08:13.606Z"
   },
   {
    "duration": 453,
    "start_time": "2022-10-13T10:08:28.873Z"
   },
   {
    "duration": 477,
    "start_time": "2022-10-13T10:08:39.811Z"
   },
   {
    "duration": 2273627,
    "start_time": "2022-10-13T10:09:01.386Z"
   },
   {
    "duration": 12,
    "start_time": "2022-10-13T11:27:40.656Z"
   },
   {
    "duration": 6,
    "start_time": "2022-10-13T11:27:42.590Z"
   },
   {
    "duration": 81,
    "start_time": "2022-10-13T11:30:05.834Z"
   },
   {
    "duration": 4,
    "start_time": "2022-10-13T11:33:34.156Z"
   },
   {
    "duration": 1666,
    "start_time": "2022-10-13T11:33:43.340Z"
   },
   {
    "duration": 19,
    "start_time": "2022-10-13T11:33:54.956Z"
   },
   {
    "duration": 854,
    "start_time": "2022-10-13T11:36:13.094Z"
   },
   {
    "duration": 5,
    "start_time": "2022-10-13T11:36:39.604Z"
   },
   {
    "duration": 1882,
    "start_time": "2022-10-13T11:36:43.788Z"
   },
   {
    "duration": 19,
    "start_time": "2022-10-13T11:36:45.757Z"
   },
   {
    "duration": 5,
    "start_time": "2022-10-13T11:37:29.297Z"
   },
   {
    "duration": 1968,
    "start_time": "2022-10-13T11:37:31.230Z"
   },
   {
    "duration": 25,
    "start_time": "2022-10-13T11:37:33.684Z"
   },
   {
    "duration": 5,
    "start_time": "2022-10-13T11:37:42.785Z"
   },
   {
    "duration": 1892,
    "start_time": "2022-10-13T11:37:44.688Z"
   },
   {
    "duration": 22,
    "start_time": "2022-10-13T11:37:46.583Z"
   },
   {
    "duration": 5,
    "start_time": "2022-10-13T11:37:59.566Z"
   },
   {
    "duration": 1704,
    "start_time": "2022-10-13T11:38:01.293Z"
   },
   {
    "duration": 19,
    "start_time": "2022-10-13T11:38:03.462Z"
   },
   {
    "duration": 15,
    "start_time": "2022-10-13T11:38:30.137Z"
   },
   {
    "duration": 1679,
    "start_time": "2022-10-13T11:40:41.666Z"
   },
   {
    "duration": 261,
    "start_time": "2022-10-13T11:40:55.417Z"
   },
   {
    "duration": 235,
    "start_time": "2022-10-13T11:41:23.755Z"
   },
   {
    "duration": 3249,
    "start_time": "2022-10-13T11:43:06.195Z"
   },
   {
    "duration": 3843,
    "start_time": "2022-10-13T11:44:39.355Z"
   },
   {
    "duration": 37,
    "start_time": "2022-10-13T11:44:48.242Z"
   },
   {
    "duration": 3384,
    "start_time": "2022-10-13T11:45:24.502Z"
   },
   {
    "duration": 37,
    "start_time": "2022-10-13T11:45:50.340Z"
   },
   {
    "duration": 41,
    "start_time": "2022-10-13T11:46:01.143Z"
   },
   {
    "duration": 3245,
    "start_time": "2022-10-13T11:46:36.691Z"
   },
   {
    "duration": 31,
    "start_time": "2022-10-13T11:47:01.935Z"
   },
   {
    "duration": 30,
    "start_time": "2022-10-13T11:47:39.114Z"
   },
   {
    "duration": 51,
    "start_time": "2022-10-13T11:48:16.652Z"
   },
   {
    "duration": 3183,
    "start_time": "2022-10-13T11:48:25.585Z"
   },
   {
    "duration": 3298,
    "start_time": "2022-10-13T11:51:43.175Z"
   },
   {
    "duration": 3222,
    "start_time": "2022-10-13T11:51:57.834Z"
   },
   {
    "duration": 3332,
    "start_time": "2022-10-13T11:52:29.037Z"
   },
   {
    "duration": 53,
    "start_time": "2022-10-13T11:52:42.008Z"
   },
   {
    "duration": 27,
    "start_time": "2022-10-13T11:52:46.933Z"
   },
   {
    "duration": 29,
    "start_time": "2022-10-13T12:00:23.889Z"
   },
   {
    "duration": 8392,
    "start_time": "2022-10-13T12:06:19.453Z"
   },
   {
    "duration": 686,
    "start_time": "2022-10-13T12:06:40.789Z"
   },
   {
    "duration": 11908,
    "start_time": "2022-10-13T12:09:03.063Z"
   },
   {
    "duration": 33,
    "start_time": "2022-10-13T12:09:37.678Z"
   },
   {
    "duration": 24388,
    "start_time": "2022-10-13T12:09:42.505Z"
   },
   {
    "duration": 12,
    "start_time": "2022-10-13T12:10:33.682Z"
   },
   {
    "duration": 5155,
    "start_time": "2022-10-13T12:10:46.693Z"
   },
   {
    "duration": 6,
    "start_time": "2022-10-13T12:20:10.808Z"
   },
   {
    "duration": 57,
    "start_time": "2022-10-13T12:22:47.316Z"
   },
   {
    "duration": 1466,
    "start_time": "2022-10-13T13:09:22.062Z"
   },
   {
    "duration": 20,
    "start_time": "2022-10-13T13:09:23.530Z"
   },
   {
    "duration": 18,
    "start_time": "2022-10-13T13:09:23.551Z"
   },
   {
    "duration": 14,
    "start_time": "2022-10-13T13:09:23.571Z"
   },
   {
    "duration": 5162,
    "start_time": "2022-10-13T13:09:23.587Z"
   },
   {
    "duration": 6,
    "start_time": "2022-10-13T13:09:28.751Z"
   },
   {
    "duration": 12,
    "start_time": "2022-10-13T13:09:28.759Z"
   },
   {
    "duration": 7,
    "start_time": "2022-10-13T13:09:28.773Z"
   },
   {
    "duration": 9871,
    "start_time": "2022-10-13T13:09:28.782Z"
   },
   {
    "duration": 380,
    "start_time": "2022-10-13T13:09:38.657Z"
   },
   {
    "duration": 66,
    "start_time": "2022-10-13T13:09:39.039Z"
   },
   {
    "duration": 1716830,
    "start_time": "2022-10-13T13:09:39.107Z"
   },
   {
    "duration": 7,
    "start_time": "2022-10-13T13:38:15.939Z"
   },
   {
    "duration": 50,
    "start_time": "2022-10-13T13:38:15.954Z"
   },
   {
    "duration": 325,
    "start_time": "2022-10-13T13:38:16.006Z"
   },
   {
    "duration": 4,
    "start_time": "2022-10-13T13:38:16.333Z"
   },
   {
    "duration": 1616,
    "start_time": "2022-10-13T13:38:16.338Z"
   },
   {
    "duration": 2251480,
    "start_time": "2022-10-13T13:38:17.956Z"
   },
   {
    "duration": 8,
    "start_time": "2022-10-13T14:15:49.438Z"
   },
   {
    "duration": 9,
    "start_time": "2022-10-13T14:15:49.447Z"
   },
   {
    "duration": 669,
    "start_time": "2022-10-13T14:15:49.457Z"
   },
   {
    "duration": 88,
    "start_time": "2022-10-13T14:15:50.128Z"
   },
   {
    "duration": 5,
    "start_time": "2022-10-13T14:15:50.218Z"
   },
   {
    "duration": 509,
    "start_time": "2022-10-13T14:15:50.225Z"
   },
   {
    "duration": 4,
    "start_time": "2022-10-13T14:15:50.736Z"
   },
   {
    "duration": 1688,
    "start_time": "2022-10-13T14:15:50.741Z"
   },
   {
    "duration": 109,
    "start_time": "2022-10-13T14:15:52.431Z"
   },
   {
    "duration": 0,
    "start_time": "2022-10-13T14:15:52.541Z"
   },
   {
    "duration": 23,
    "start_time": "2022-10-13T14:17:14.241Z"
   },
   {
    "duration": 975,
    "start_time": "2022-10-13T14:17:21.488Z"
   },
   {
    "duration": 2024,
    "start_time": "2022-10-14T08:20:12.707Z"
   },
   {
    "duration": 87,
    "start_time": "2022-10-14T08:20:14.733Z"
   },
   {
    "duration": 21,
    "start_time": "2022-10-14T08:20:14.823Z"
   },
   {
    "duration": 11,
    "start_time": "2022-10-14T08:20:14.845Z"
   },
   {
    "duration": 4743,
    "start_time": "2022-10-14T08:20:14.857Z"
   },
   {
    "duration": 5,
    "start_time": "2022-10-14T08:20:19.602Z"
   },
   {
    "duration": 10,
    "start_time": "2022-10-14T08:20:19.608Z"
   },
   {
    "duration": 17,
    "start_time": "2022-10-14T08:20:19.619Z"
   },
   {
    "duration": 8966,
    "start_time": "2022-10-14T08:20:19.639Z"
   },
   {
    "duration": 343,
    "start_time": "2022-10-14T08:20:28.607Z"
   },
   {
    "duration": 51,
    "start_time": "2022-10-14T08:20:28.952Z"
   },
   {
    "duration": 1589703,
    "start_time": "2022-10-14T08:20:29.004Z"
   },
   {
    "duration": 6,
    "start_time": "2022-10-14T08:46:58.708Z"
   },
   {
    "duration": 19,
    "start_time": "2022-10-14T08:46:58.721Z"
   },
   {
    "duration": 285,
    "start_time": "2022-10-14T08:46:58.741Z"
   },
   {
    "duration": 4,
    "start_time": "2022-10-14T08:46:59.028Z"
   },
   {
    "duration": 1479,
    "start_time": "2022-10-14T08:46:59.033Z"
   },
   {
    "duration": 1965662,
    "start_time": "2022-10-14T08:47:00.514Z"
   },
   {
    "duration": 8,
    "start_time": "2022-10-14T09:19:46.178Z"
   },
   {
    "duration": 15,
    "start_time": "2022-10-14T09:19:46.188Z"
   },
   {
    "duration": 578,
    "start_time": "2022-10-14T09:19:46.205Z"
   },
   {
    "duration": 79,
    "start_time": "2022-10-14T09:19:46.785Z"
   },
   {
    "duration": 3,
    "start_time": "2022-10-14T09:19:46.866Z"
   },
   {
    "duration": 431,
    "start_time": "2022-10-14T09:19:46.871Z"
   },
   {
    "duration": 3,
    "start_time": "2022-10-14T09:19:47.304Z"
   },
   {
    "duration": 1410,
    "start_time": "2022-10-14T09:19:47.309Z"
   },
   {
    "duration": 17,
    "start_time": "2022-10-14T09:19:48.722Z"
   },
   {
    "duration": 739,
    "start_time": "2022-10-14T09:19:48.741Z"
   }
  ],
  "kernelspec": {
   "display_name": "Python 3 (ipykernel)",
   "language": "python",
   "name": "python3"
  },
  "language_info": {
   "codemirror_mode": {
    "name": "ipython",
    "version": 3
   },
   "file_extension": ".py",
   "mimetype": "text/x-python",
   "name": "python",
   "nbconvert_exporter": "python",
   "pygments_lexer": "ipython3",
   "version": "3.9.16"
  },
  "toc": {
   "base_numbering": 1,
   "nav_menu": {},
   "number_sections": true,
   "sideBar": true,
   "skip_h1_title": true,
   "title_cell": "Table of Contents",
   "title_sidebar": "Contents",
   "toc_cell": false,
   "toc_position": {},
   "toc_section_display": true,
   "toc_window_display": true
  },
  "toc-autonumbering": true,
  "toc-showcode": false,
  "toc-showmarkdowntxt": false,
  "toc-showtags": false
 },
 "nbformat": 4,
 "nbformat_minor": 4
}
